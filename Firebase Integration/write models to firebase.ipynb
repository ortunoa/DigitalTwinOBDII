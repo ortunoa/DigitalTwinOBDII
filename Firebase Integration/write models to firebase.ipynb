{
 "cells": [
  {
   "cell_type": "code",
   "execution_count": 1,
   "id": "7816ba29",
   "metadata": {},
   "outputs": [],
   "source": [
    "import firebase_admin\n",
    "from firebase_admin import credentials\n",
    "from firebase_admin import db"
   ]
  },
  {
   "cell_type": "code",
   "execution_count": 2,
   "id": "eb724777",
   "metadata": {},
   "outputs": [
    {
     "data": {
      "text/plain": [
       "<firebase_admin.App at 0x19d7128a950>"
      ]
     },
     "execution_count": 2,
     "metadata": {},
     "output_type": "execute_result"
    }
   ],
   "source": [
    "cred = credentials.Certificate(\"digitaltwinobdii-firebase-adminsdk-dob8j-cbf5404441.json\")\n",
    "firebase_admin.initialize_app(cred, {\n",
    "    'databaseURL': 'https://digitaltwinobdii-default-rtdb.firebaseio.com/'\n",
    "})"
   ]
  },
  {
   "cell_type": "code",
   "execution_count": 10,
   "id": "6cba6eea",
   "metadata": {},
   "outputs": [],
   "source": [
    "def get_latest_model_with_highest_mse(vehicle_id):\n",
    "    ref = db.reference('digitalTwinModels')\n",
    "    query = ref.order_by_child('Identifiers/Id').equal_to(vehicle_id)\n",
    "    result = query.get()\n",
    "\n",
    "    if result:\n",
    "        latest_model_key, latest_model_data = max(result.items(), key=lambda x: (x[1]['DateTime'], x[1]['Scores']['MSE']))\n",
    "        print(f\"Latest model with the highest MSE score for vehicle ID '{vehicle_id}':\\n{latest_model_data}\")\n",
    "        return latest_model_data\n",
    "    else:\n",
    "        print(f\"No model found for vehicle ID '{vehicle_id}'\")\n",
    "        return None"
   ]
  },
  {
   "cell_type": "code",
   "execution_count": 12,
   "id": "258ff5d6",
   "metadata": {},
   "outputs": [
    {
     "name": "stdout",
     "output_type": "stream",
     "text": [
      "Latest model with the highest MSE score for vehicle ID '1':\n",
      "{'Coefficients': {'AirFlowRate': 1.3643088094832898, 'Ay': 70.41295707664509, 'RPM': -0.009270459295920198, 'Speed': 0.04201624621959545, 'ThrottlePosition': 0.7568494164053542}, 'DateTime': '2023-04-08 08:40:50.720657', 'Identifiers': {'Id': '1', 'Make': 'Toyota', 'Model': 'Rav4', 'Year': '2022'}, 'Intercept': 21.377002433092514, 'Scores': {'MSE': 122.14854918274942, 'R2': 0.7769532484410863}}\n"
     ]
    },
    {
     "data": {
      "text/plain": [
       "{'Coefficients': {'AirFlowRate': 1.3643088094832898,\n",
       "  'Ay': 70.41295707664509,\n",
       "  'RPM': -0.009270459295920198,\n",
       "  'Speed': 0.04201624621959545,\n",
       "  'ThrottlePosition': 0.7568494164053542},\n",
       " 'DateTime': '2023-04-08 08:40:50.720657',\n",
       " 'Identifiers': {'Id': '1', 'Make': 'Toyota', 'Model': 'Rav4', 'Year': '2022'},\n",
       " 'Intercept': 21.377002433092514,\n",
       " 'Scores': {'MSE': 122.14854918274942, 'R2': 0.7769532484410863}}"
      ]
     },
     "execution_count": 12,
     "metadata": {},
     "output_type": "execute_result"
    }
   ],
   "source": [
    "get_latest_model_with_highest_mse('1')"
   ]
  },
  {
   "cell_type": "code",
   "execution_count": null,
   "id": "51c17522",
   "metadata": {},
   "outputs": [],
   "source": [
    "# Read data from the database\n",
    "def read_data(path):\n",
    "    ref = db.reference(path)\n",
    "    data = ref.get()\n",
    "    print(f\"Data at path '{path}': {data}\")\n",
    "    return data\n",
    "\n",
    "# Write data to the database\n",
    "def write_data(path, data):\n",
    "    ref = db.reference(path)\n",
    "    ref.set(data)\n",
    "    print(f\"Data saved at path '{path}': {data}\")\n",
    "\n",
    "# Update data in the database\n",
    "def update_data(path, data):\n",
    "    ref = db.reference(path)\n",
    "    ref.update(data)\n",
    "    print(f\"Data updated at path '{path}': {data}\")\n",
    "\n",
    "# Delete data from the database\n",
    "def delete_data(path):\n",
    "    ref = db.reference(path)\n",
    "    ref.delete()\n",
    "    print(f\"Data deleted at path '{path}'\")"
   ]
  },
  {
   "cell_type": "code",
   "execution_count": null,
   "id": "eeba10cd",
   "metadata": {},
   "outputs": [],
   "source": [
    "path = \"digitalTwinModels/testmodel1\""
   ]
  },
  {
   "cell_type": "code",
   "execution_count": null,
   "id": "733ba50f",
   "metadata": {},
   "outputs": [],
   "source": [
    "data = {'Scores': {'MSE': 122.14854918274942, 'R2': 0.7769532484410863}, 'Intercept': 21.377002433092514, 'Coefficients': {'AirFlowRate': 1.3643088094832898, 'Ay': 70.41295707664509, 'RPM': -0.009270459295920198, 'Speed': 0.04201624621959545, 'ThrottlePosition': 0.7568494164053542}}"
   ]
  },
  {
   "cell_type": "code",
   "execution_count": null,
   "id": "2408130d",
   "metadata": {},
   "outputs": [],
   "source": [
    "write_data(path,data)"
   ]
  },
  {
   "cell_type": "code",
   "execution_count": null,
   "id": "41bc9196",
   "metadata": {},
   "outputs": [],
   "source": []
  }
 ],
 "metadata": {
  "kernelspec": {
   "display_name": "Python 3 (ipykernel)",
   "language": "python",
   "name": "python3"
  },
  "language_info": {
   "codemirror_mode": {
    "name": "ipython",
    "version": 3
   },
   "file_extension": ".py",
   "mimetype": "text/x-python",
   "name": "python",
   "nbconvert_exporter": "python",
   "pygments_lexer": "ipython3",
   "version": "3.11.1"
  }
 },
 "nbformat": 4,
 "nbformat_minor": 5
}
