{
 "cells": [
  {
   "cell_type": "code",
   "execution_count": null,
   "id": "3aa9d315",
   "metadata": {},
   "outputs": [],
   "source": [
    "import firebase_admin\n",
    "from firebase_admin import credentials\n",
    "from firebase_admin import db"
   ]
  },
  {
   "cell_type": "code",
   "execution_count": null,
   "id": "813feb81",
   "metadata": {},
   "outputs": [],
   "source": [
    "cred = credentials.Certificate(\"digitaltwinobdii-firebase-adminsdk-dob8j-cbf5404441.json\")\n",
    "firebase_admin.initialize_app(cred, {\n",
    "    'databaseURL': 'https://digitaltwinobdii-default-rtdb.firebaseio.com/'\n",
    "})"
   ]
  },
  {
   "cell_type": "code",
   "execution_count": null,
   "id": "8495c2ef",
   "metadata": {},
   "outputs": [],
   "source": [
    "# Read data from the database\n",
    "def read_data(path):\n",
    "    ref = db.reference(path)\n",
    "    data = ref.get()\n",
    "    print(f\"Data at path '{path}': {data}\")\n",
    "    return data\n",
    "\n",
    "# Write data to the database\n",
    "def write_data(path, data):\n",
    "    ref = db.reference(path)\n",
    "    ref.set(data)\n",
    "    print(f\"Data saved at path '{path}': {data}\")\n",
    "\n",
    "# Update data in the database\n",
    "def update_data(path, data):\n",
    "    ref = db.reference(path)\n",
    "    ref.update(data)\n",
    "    print(f\"Data updated at path '{path}': {data}\")\n",
    "\n",
    "# Delete data from the database\n",
    "def delete_data(path):\n",
    "    ref = db.reference(path)\n",
    "    ref.delete()\n",
    "    print(f\"Data deleted at path '{path}'\")"
   ]
  },
  {
   "cell_type": "code",
   "execution_count": null,
   "id": "91b1f0f7",
   "metadata": {},
   "outputs": [],
   "source": [
    "path = \"digitalTwinModels/testmodel1\""
   ]
  },
  {
   "cell_type": "code",
   "execution_count": null,
   "id": "2a524a5a",
   "metadata": {},
   "outputs": [],
   "source": [
    "data = {'Scores': {'MSE': 122.14854918274942, 'R2': 0.7769532484410863}, 'Intercept': 21.377002433092514, 'Coefficients': {'AirFlowRate': 1.3643088094832898, 'Ay': 70.41295707664509, 'RPM': -0.009270459295920198, 'Speed': 0.04201624621959545, 'ThrottlePosition': 0.7568494164053542}}"
   ]
  },
  {
   "cell_type": "code",
   "execution_count": null,
   "id": "dbbaac05",
   "metadata": {},
   "outputs": [],
   "source": [
    "write_data(path,data)"
   ]
  },
  {
   "cell_type": "code",
   "execution_count": null,
   "id": "cd0c8d07",
   "metadata": {},
   "outputs": [],
   "source": []
  }
 ],
 "metadata": {
  "kernelspec": {
   "display_name": "Python 3 (ipykernel)",
   "language": "python",
   "name": "python3"
  },
  "language_info": {
   "codemirror_mode": {
    "name": "ipython",
    "version": 3
   },
   "file_extension": ".py",
   "mimetype": "text/x-python",
   "name": "python",
   "nbconvert_exporter": "python",
   "pygments_lexer": "ipython3",
   "version": "3.11.1"
  }
 },
 "nbformat": 4,
 "nbformat_minor": 5
}
