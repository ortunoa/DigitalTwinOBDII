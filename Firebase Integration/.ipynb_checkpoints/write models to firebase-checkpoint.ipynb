{
 "cells": [
  {
   "cell_type": "code",
   "execution_count": 1,
   "id": "58e0a3c5",
   "metadata": {},
   "outputs": [],
   "source": [
    "import firebase_admin\n",
    "from firebase_admin import credentials\n",
    "from firebase_admin import db"
   ]
  },
  {
   "cell_type": "code",
   "execution_count": 2,
   "id": "25be701d",
   "metadata": {},
   "outputs": [
    {
     "data": {
      "text/plain": [
       "<firebase_admin.App at 0x19d7128a950>"
      ]
     },
     "execution_count": 2,
     "metadata": {},
     "output_type": "execute_result"
    }
   ],
   "source": [
    "cred = credentials.Certificate(\"digitaltwinobdii-firebase-adminsdk-dob8j-cbf5404441.json\")\n",
    "firebase_admin.initialize_app(cred, {\n",
    "    'databaseURL': 'https://digitaltwinobdii-default-rtdb.firebaseio.com/'\n",
    "})"
   ]
  },
  {
   "cell_type": "code",
   "execution_count": 5,
   "id": "02f84cfd",
   "metadata": {},
   "outputs": [],
   "source": [
    "def get_latest_model(vehicle_id):\n",
    "    ref = db.reference('digitalTwinModels')\n",
    "    query = ref.order_by_child('Identifiers/Id').equal_to(vehicle_id)\n",
    "    result = query.get()\n",
    "\n",
    "    if result:\n",
    "        latest_model_key, latest_model_data = max(result.items(), key=lambda x: x[1]['DateTime'])\n",
    "        print(f\"Latest model for vehicle ID '{vehicle_id}':\\n{latest_model_data}\")\n",
    "        return latest_model_data\n",
    "    else:\n",
    "        print(f\"No model found for vehicle ID '{vehicle_id}'\")\n",
    "        return None"
   ]
  },
  {
   "cell_type": "code",
   "execution_count": 7,
   "id": "4503f249",
   "metadata": {},
   "outputs": [
    {
     "name": "stdout",
     "output_type": "stream",
     "text": [
      "No model found for vehicle ID '1'\n"
     ]
    }
   ],
   "source": [
    "get_latest_model('1')"
   ]
  },
  {
   "cell_type": "code",
   "execution_count": null,
   "id": "1255fecd",
   "metadata": {},
   "outputs": [],
   "source": [
    "# Read data from the database\n",
    "def read_data(path):\n",
    "    ref = db.reference(path)\n",
    "    data = ref.get()\n",
    "    print(f\"Data at path '{path}': {data}\")\n",
    "    return data\n",
    "\n",
    "# Write data to the database\n",
    "def write_data(path, data):\n",
    "    ref = db.reference(path)\n",
    "    ref.set(data)\n",
    "    print(f\"Data saved at path '{path}': {data}\")\n",
    "\n",
    "# Update data in the database\n",
    "def update_data(path, data):\n",
    "    ref = db.reference(path)\n",
    "    ref.update(data)\n",
    "    print(f\"Data updated at path '{path}': {data}\")\n",
    "\n",
    "# Delete data from the database\n",
    "def delete_data(path):\n",
    "    ref = db.reference(path)\n",
    "    ref.delete()\n",
    "    print(f\"Data deleted at path '{path}'\")"
   ]
  },
  {
   "cell_type": "code",
   "execution_count": null,
   "id": "3ceb4f96",
   "metadata": {},
   "outputs": [],
   "source": [
    "path = \"digitalTwinModels/testmodel1\""
   ]
  },
  {
   "cell_type": "code",
   "execution_count": null,
   "id": "915de0fe",
   "metadata": {},
   "outputs": [],
   "source": [
    "data = {'Scores': {'MSE': 122.14854918274942, 'R2': 0.7769532484410863}, 'Intercept': 21.377002433092514, 'Coefficients': {'AirFlowRate': 1.3643088094832898, 'Ay': 70.41295707664509, 'RPM': -0.009270459295920198, 'Speed': 0.04201624621959545, 'ThrottlePosition': 0.7568494164053542}}"
   ]
  },
  {
   "cell_type": "code",
   "execution_count": null,
   "id": "e5b3c3db",
   "metadata": {},
   "outputs": [],
   "source": [
    "write_data(path,data)"
   ]
  },
  {
   "cell_type": "code",
   "execution_count": null,
   "id": "823ed0bc",
   "metadata": {},
   "outputs": [],
   "source": []
  }
 ],
 "metadata": {
  "kernelspec": {
   "display_name": "Python 3 (ipykernel)",
   "language": "python",
   "name": "python3"
  },
  "language_info": {
   "codemirror_mode": {
    "name": "ipython",
    "version": 3
   },
   "file_extension": ".py",
   "mimetype": "text/x-python",
   "name": "python",
   "nbconvert_exporter": "python",
   "pygments_lexer": "ipython3",
   "version": "3.11.1"
  }
 },
 "nbformat": 4,
 "nbformat_minor": 5
}
