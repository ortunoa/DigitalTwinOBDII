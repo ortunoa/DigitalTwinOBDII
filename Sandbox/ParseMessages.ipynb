{
 "cells": [
  {
   "cell_type": "code",
   "execution_count": 1,
   "id": "a3eeca9e",
   "metadata": {},
   "outputs": [],
   "source": [
    "dummyObdData = [{'Timestamp': 1676751191.0242572, 'ChannelName': 'RPM', 'Value': 704.5, 'Units': 'revolutions_per_minute', 'Cmd': 'Engine RPM'}, {'Timestamp': 1676751191.0410995, 'ChannelName': 'Speed', 'Value': 0.0, 'Units': 'kph', 'Cmd': 'Vehicle Speed'}, {'Timestamp': 1676751191.0533361, 'ChannelName': 'EngineLoad', 'Value': 18.431372549019606, 'Units': 'percent', 'Cmd': 'Calculated Engine Load'}, {'Timestamp': 1676751191.0730417, 'ChannelName': 'CoolantTemp', 'Value': 67.0, 'Units': 'degC', 'Cmd': 'Engine Coolant Temperature'}, {'Timestamp': 1676751191.0876324, 'ChannelName': 'IntakeTemp', 'Value': 20.0, 'Units': 'degC', 'Cmd': 'Intake Air Temp'}, {'Timestamp': 1676751191.1033802, 'ChannelName': 'FuelLevel', 'Value': 66.27450980392157, 'Units': 'percent', 'Cmd': 'Fuel Level Input'}, {'Timestamp': 1676751191.116859, 'ChannelName': 'AmbientTemp', 'Value': 20.0, 'Units': 'degC', 'Cmd': 'Ambient air temperature'}, {'Timestamp': 1676751191.1360648, 'ChannelName': 'EngineOilTemp', 'Value': 51.0, 'Units': 'degC', 'Cmd': 'Engine oil temperature'}]"
   ]
  },
  {
   "cell_type": "code",
   "execution_count": 4,
   "id": "e569ba13",
   "metadata": {},
   "outputs": [],
   "source": [
    "a = {'Timestamp': 1676751191.0242572,\n",
    " 'ChannelName': 'RPM',\n",
    " 'Value': 704.5,\n",
    " 'Units': 'revolutions_per_minute',\n",
    " 'Cmd': 'Engine RPM'}"
   ]
  },
  {
   "cell_type": "code",
   "execution_count": 5,
   "id": "ebf860a9",
   "metadata": {},
   "outputs": [],
   "source": [
    "b = {\"A\":123}"
   ]
  },
  {
   "cell_type": "code",
   "execution_count": 6,
   "id": "6e92a5db",
   "metadata": {},
   "outputs": [],
   "source": [
    "a.update(b)"
   ]
  },
  {
   "cell_type": "code",
   "execution_count": 7,
   "id": "33f1bcc8",
   "metadata": {},
   "outputs": [
    {
     "data": {
      "text/plain": [
       "{'Timestamp': 1676751191.0242572,\n",
       " 'ChannelName': 'RPM',\n",
       " 'Value': 704.5,\n",
       " 'Units': 'revolutions_per_minute',\n",
       " 'Cmd': 'Engine RPM',\n",
       " 'A': 123}"
      ]
     },
     "execution_count": 7,
     "metadata": {},
     "output_type": "execute_result"
    }
   ],
   "source": [
    "a"
   ]
  },
  {
   "cell_type": "code",
   "execution_count": 8,
   "id": "9e0daa68",
   "metadata": {},
   "outputs": [],
   "source": [
    "c = {}"
   ]
  },
  {
   "cell_type": "code",
   "execution_count": 9,
   "id": "b221de52",
   "metadata": {},
   "outputs": [],
   "source": [
    "c.update(a)"
   ]
  },
  {
   "cell_type": "code",
   "execution_count": 10,
   "id": "adff8912",
   "metadata": {},
   "outputs": [
    {
     "data": {
      "text/plain": [
       "{'Timestamp': 1676751191.0242572,\n",
       " 'ChannelName': 'RPM',\n",
       " 'Value': 704.5,\n",
       " 'Units': 'revolutions_per_minute',\n",
       " 'Cmd': 'Engine RPM',\n",
       " 'A': 123}"
      ]
     },
     "execution_count": 10,
     "metadata": {},
     "output_type": "execute_result"
    }
   ],
   "source": [
    "c"
   ]
  },
  {
   "cell_type": "code",
   "execution_count": null,
   "id": "8f7fa7d7",
   "metadata": {},
   "outputs": [],
   "source": []
  }
 ],
 "metadata": {
  "kernelspec": {
   "display_name": "Python 3 (ipykernel)",
   "language": "python",
   "name": "python3"
  },
  "language_info": {
   "codemirror_mode": {
    "name": "ipython",
    "version": 3
   },
   "file_extension": ".py",
   "mimetype": "text/x-python",
   "name": "python",
   "nbconvert_exporter": "python",
   "pygments_lexer": "ipython3",
   "version": "3.11.1"
  }
 },
 "nbformat": 4,
 "nbformat_minor": 5
}
