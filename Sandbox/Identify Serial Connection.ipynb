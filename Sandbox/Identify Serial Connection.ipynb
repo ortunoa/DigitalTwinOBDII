{
 "cells": [
  {
   "cell_type": "code",
   "execution_count": 40,
   "id": "c0b3d73b",
   "metadata": {},
   "outputs": [],
   "source": [
    "from serial.tools import list_ports"
   ]
  },
  {
   "cell_type": "code",
   "execution_count": 41,
   "id": "df0abe4a",
   "metadata": {},
   "outputs": [],
   "source": [
    "def getPortName():\n",
    "    ports = list(set([item for item in list_ports.comports()]))\n",
    "    for port in ports:\n",
    "        if port.manufacturer == 'FTDI':\n",
    "            return str(port.device)"
   ]
  },
  {
   "cell_type": "code",
   "execution_count": 42,
   "id": "e9b4530c",
   "metadata": {},
   "outputs": [
    {
     "data": {
      "text/plain": [
       "'COM6'"
      ]
     },
     "execution_count": 42,
     "metadata": {},
     "output_type": "execute_result"
    }
   ],
   "source": [
    "getPortName()"
   ]
  },
  {
   "cell_type": "code",
   "execution_count": null,
   "id": "4ea37d9e",
   "metadata": {},
   "outputs": [],
   "source": []
  }
 ],
 "metadata": {
  "kernelspec": {
   "display_name": "Python 3 (ipykernel)",
   "language": "python",
   "name": "python3"
  },
  "language_info": {
   "codemirror_mode": {
    "name": "ipython",
    "version": 3
   },
   "file_extension": ".py",
   "mimetype": "text/x-python",
   "name": "python",
   "nbconvert_exporter": "python",
   "pygments_lexer": "ipython3",
   "version": "3.11.1"
  }
 },
 "nbformat": 4,
 "nbformat_minor": 5
}
