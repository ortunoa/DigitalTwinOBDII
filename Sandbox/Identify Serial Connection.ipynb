{
 "cells": [
  {
   "cell_type": "code",
   "execution_count": 7,
   "id": "2f11829c",
   "metadata": {},
   "outputs": [],
   "source": [
    "from serial.tools import list_ports\n",
    "import obd"
   ]
  },
  {
   "cell_type": "code",
   "execution_count": 8,
   "id": "d01e29af",
   "metadata": {},
   "outputs": [],
   "source": [
    "# def getPortName():\n",
    "#     ports = list(set([item for item in list_ports.comports()]))\n",
    "#     for port in ports:\n",
    "#         if port.manufacturer == 'FTDI':\n",
    "#             return str(port.device)"
   ]
  },
  {
   "cell_type": "code",
   "execution_count": 9,
   "id": "6e9e5e80",
   "metadata": {},
   "outputs": [],
   "source": [
    "def getPortName():\n",
    "    ports = list(set([item for item in list_ports.comports()]))\n",
    "    ports = [str(x.name) for x in ports]\n",
    "    \n",
    "    for port in ports:\n",
    "        connection = obd.OBD(port)\n",
    "        if \"ELM327\" in str(connection.interface):\n",
    "            return port"
   ]
  },
  {
   "cell_type": "code",
   "execution_count": 10,
   "id": "2ef0afa9",
   "metadata": {},
   "outputs": [
    {
     "name": "stderr",
     "output_type": "stream",
     "text": [
      "[obd.elm327] OBD2 socket disconnected\n",
      "[obd.obd] Cannot load commands: No connection to car\n"
     ]
    },
    {
     "name": "stdout",
     "output_type": "stream",
     "text": [
      "port found!\n"
     ]
    },
    {
     "data": {
      "text/plain": [
       "'COM6'"
      ]
     },
     "execution_count": 10,
     "metadata": {},
     "output_type": "execute_result"
    }
   ],
   "source": [
    "getPortName()"
   ]
  },
  {
   "cell_type": "code",
   "execution_count": null,
   "id": "e02b6246",
   "metadata": {},
   "outputs": [],
   "source": [
    "connection = obd.OBD(ports[1])"
   ]
  },
  {
   "cell_type": "code",
   "execution_count": null,
   "id": "e11942c9",
   "metadata": {},
   "outputs": [],
   "source": [
    "connection = obd.OBD(\"COM6\")"
   ]
  },
  {
   "cell_type": "code",
   "execution_count": null,
   "id": "1cc6a87f",
   "metadata": {},
   "outputs": [],
   "source": [
    "\"ELM327\" in str(connection.interface)"
   ]
  },
  {
   "cell_type": "code",
   "execution_count": null,
   "id": "6adf82c0",
   "metadata": {},
   "outputs": [],
   "source": []
  }
 ],
 "metadata": {
  "kernelspec": {
   "display_name": "Python 3 (ipykernel)",
   "language": "python",
   "name": "python3"
  },
  "language_info": {
   "codemirror_mode": {
    "name": "ipython",
    "version": 3
   },
   "file_extension": ".py",
   "mimetype": "text/x-python",
   "name": "python",
   "nbconvert_exporter": "python",
   "pygments_lexer": "ipython3",
   "version": "3.11.1"
  }
 },
 "nbformat": 4,
 "nbformat_minor": 5
}
