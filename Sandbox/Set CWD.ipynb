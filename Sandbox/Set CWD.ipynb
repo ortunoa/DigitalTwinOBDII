{
 "cells": [
  {
   "cell_type": "code",
   "execution_count": 9,
   "id": "9b8fd64a",
   "metadata": {},
   "outputs": [],
   "source": [
    "import os\n",
    "import json"
   ]
  },
  {
   "cell_type": "code",
   "execution_count": 10,
   "id": "375a56c5",
   "metadata": {},
   "outputs": [],
   "source": [
    "script_dir = os.path.dirname(os.path.abspath(\"main.py\"))"
   ]
  },
  {
   "cell_type": "code",
   "execution_count": 11,
   "id": "b1c97f75",
   "metadata": {},
   "outputs": [],
   "source": [
    "file_path = os.path.join(script_dir, \"config.json\")"
   ]
  },
  {
   "cell_type": "code",
   "execution_count": 12,
   "id": "8edf5d97",
   "metadata": {},
   "outputs": [
    {
     "data": {
      "text/plain": [
       "'C:\\\\Users\\\\ortun\\\\OneDrive\\\\PURDUE\\\\CLASSES\\\\ECE695\\\\PROJECT\\\\CODE\\\\Sandbox\\\\config.json'"
      ]
     },
     "execution_count": 12,
     "metadata": {},
     "output_type": "execute_result"
    }
   ],
   "source": [
    "file_path"
   ]
  },
  {
   "cell_type": "code",
   "execution_count": 13,
   "id": "e29bac0f",
   "metadata": {},
   "outputs": [],
   "source": [
    "with open(file_path, 'r') as f:\n",
    "    # Load the contents of the file as a dictionary..\n",
    "    programConfig = json.load(f)"
   ]
  },
  {
   "cell_type": "code",
   "execution_count": 14,
   "id": "447f2c39",
   "metadata": {},
   "outputs": [
    {
     "data": {
      "text/plain": [
       "{'SerialAddress': 'COM6',\n",
       " 'Platform': 'Laptop',\n",
       " 'LineLimit': 500,\n",
       " 'InfluxToken': 'SOGMRCqRcsMQW8QRCY-YwO7FNMlejxDzLaDyotHCJNxwnsvpMPk0UAxBHoSNhdM8-NiaT6-273Lm_f38idhqTQ=='}"
      ]
     },
     "execution_count": 14,
     "metadata": {},
     "output_type": "execute_result"
    }
   ],
   "source": [
    "programConfig"
   ]
  },
  {
   "cell_type": "code",
   "execution_count": null,
   "id": "0bca1efb",
   "metadata": {},
   "outputs": [],
   "source": []
  }
 ],
 "metadata": {
  "kernelspec": {
   "display_name": "Python 3 (ipykernel)",
   "language": "python",
   "name": "python3"
  },
  "language_info": {
   "codemirror_mode": {
    "name": "ipython",
    "version": 3
   },
   "file_extension": ".py",
   "mimetype": "text/x-python",
   "name": "python",
   "nbconvert_exporter": "python",
   "pygments_lexer": "ipython3",
   "version": "3.11.1"
  }
 },
 "nbformat": 4,
 "nbformat_minor": 5
}
