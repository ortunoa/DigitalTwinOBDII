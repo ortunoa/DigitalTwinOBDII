{
 "cells": [
  {
   "cell_type": "code",
   "execution_count": 5,
   "id": "e1a8663f",
   "metadata": {},
   "outputs": [],
   "source": [
    "import os\n",
    "import json"
   ]
  },
  {
   "cell_type": "code",
   "execution_count": 1,
   "id": "9d01952c",
   "metadata": {},
   "outputs": [],
   "source": [
    "PATH = r'C:\\Users\\ortun\\OneDrive - purdue.edu\\ECE695 Project\\RESOURCES\\Data\\VW Tiguan 2021'"
   ]
  },
  {
   "cell_type": "code",
   "execution_count": 4,
   "id": "bac8d0c3",
   "metadata": {},
   "outputs": [],
   "source": [
    "files = os.listdir(PATH)"
   ]
  },
  {
   "cell_type": "code",
   "execution_count": 21,
   "id": "e2524a0a",
   "metadata": {},
   "outputs": [],
   "source": [
    "data = open(PATH+\"\\{}\".format(files[0]), 'r', encoding='utf-8')"
   ]
  },
  {
   "cell_type": "code",
   "execution_count": 22,
   "id": "9bedc57c",
   "metadata": {},
   "outputs": [
    {
     "data": {
      "text/plain": [
       "<_io.TextIOWrapper name='C:\\\\Users\\\\ortun\\\\OneDrive - purdue.edu\\\\ECE695 Project\\\\RESOURCES\\\\Data\\\\VW Tiguan 2021\\\\1677047607.txt' mode='r' encoding='utf-8'>"
      ]
     },
     "execution_count": 22,
     "metadata": {},
     "output_type": "execute_result"
    }
   ],
   "source": [
    "data"
   ]
  },
  {
   "cell_type": "code",
   "execution_count": null,
   "id": "8a3b4143",
   "metadata": {},
   "outputs": [],
   "source": []
  }
 ],
 "metadata": {
  "kernelspec": {
   "display_name": "Python 3 (ipykernel)",
   "language": "python",
   "name": "python3"
  },
  "language_info": {
   "codemirror_mode": {
    "name": "ipython",
    "version": 3
   },
   "file_extension": ".py",
   "mimetype": "text/x-python",
   "name": "python",
   "nbconvert_exporter": "python",
   "pygments_lexer": "ipython3",
   "version": "3.11.1"
  }
 },
 "nbformat": 4,
 "nbformat_minor": 5
}
