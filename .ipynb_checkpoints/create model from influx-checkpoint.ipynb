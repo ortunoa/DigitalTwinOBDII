{
 "cells": [
  {
   "cell_type": "code",
   "execution_count": 1,
   "id": "38a89320",
   "metadata": {},
   "outputs": [],
   "source": [
    "import requests\n",
    "import pandas as pd\n",
    "import os"
   ]
  },
  {
   "cell_type": "code",
   "execution_count": 2,
   "id": "91135788",
   "metadata": {},
   "outputs": [],
   "source": [
    "localToken = os.environ.get(\"INFLUX_TOKEN\")\n",
    "orgId = os.environ.get(\"INFLUX_ORG_ID_LOCAL\")\n",
    "vehicle_id = \"1\"\n",
    "tags = ['AirFlowRate', 'RPM']"
   ]
  },
  {
   "cell_type": "code",
   "execution_count": 6,
   "id": "bf1e9511",
   "metadata": {},
   "outputs": [],
   "source": [
    "influx_query = make_influx_query(tags, vehicle_id)"
   ]
  },
  {
   "cell_type": "code",
   "execution_count": 7,
   "id": "d1746575",
   "metadata": {},
   "outputs": [],
   "source": [
    "headers = {\n",
    "    \"Authorization\": f\"Token {localToken}\",\n",
    "    \"Content-Type\": \"application/vnd.flux\",\n",
    "}\n",
    "\n",
    "params = {\n",
    "    'orgID': f'{orgId}',\n",
    "}"
   ]
  },
  {
   "cell_type": "code",
   "execution_count": 10,
   "id": "5e3d5e80",
   "metadata": {},
   "outputs": [],
   "source": [
    "response = requests.post(\"http://localhost:8086/api/v2/query\", params=params, headers=headers, data=influx_query)\n"
   ]
  },
  {
   "cell_type": "code",
   "execution_count": 11,
   "id": "1028d054",
   "metadata": {},
   "outputs": [
    {
     "data": {
      "text/plain": [
       "'{\"code\":\"invalid\",\"message\":\"error @7:33-7:34: undefined identifier v\"}'"
      ]
     },
     "execution_count": 11,
     "metadata": {},
     "output_type": "execute_result"
    }
   ],
   "source": [
    "response.text"
   ]
  },
  {
   "cell_type": "code",
   "execution_count": null,
   "id": "3cbef53d",
   "metadata": {},
   "outputs": [],
   "source": [
    "response = requests.post(\"http://localhost:8086/api/v2/query\", headers=headers, json=data)\n"
   ]
  },
  {
   "cell_type": "code",
   "execution_count": null,
   "id": "61fd09a2",
   "metadata": {},
   "outputs": [],
   "source": [
    "orgId"
   ]
  },
  {
   "cell_type": "code",
   "execution_count": 5,
   "id": "5bf17973",
   "metadata": {},
   "outputs": [],
   "source": [
    "def make_influx_query(tags, vehicle_id):\n",
    "    query_template = 'r[\"_field\"] == \"{}\"'\n",
    "    \n",
    "    tag_queries = [query_template.format(tag) for tag in tags]\n",
    "    tag_query_str = \" or \".join(tag_queries)\n",
    "    \n",
    "    influx_query = f\"\"\"\n",
    "    from(bucket: \"digitaltwin\")\n",
    "      |> range(start: \"2023-01-01T00:00:00Z\", stop: \"2023-03-01T00:00:00Z\")\n",
    "      |> filter(fn: (r) => r[\"_measurement\"] == \"telemetry\")\n",
    "      |> filter(fn: (r) => {tag_query_str})\n",
    "      |> filter(fn: (r) => r[\"id\"] == \"{vehicle_id}\")\n",
    "      |> aggregateWindow(every: 1s, fn: mean, createEmpty: false)\n",
    "      |> yield(name: \"mean\")\n",
    "    \"\"\"\n",
    "    \n",
    "    return influx_query"
   ]
  },
  {
   "cell_type": "code",
   "execution_count": 4,
   "id": "6a710fba",
   "metadata": {},
   "outputs": [
    {
     "data": {
      "text/plain": [
       "'c377fcc068342e21'"
      ]
     },
     "execution_count": 4,
     "metadata": {},
     "output_type": "execute_result"
    }
   ],
   "source": [
    "orgId"
   ]
  },
  {
   "cell_type": "code",
   "execution_count": null,
   "id": "60596dd5",
   "metadata": {},
   "outputs": [],
   "source": []
  }
 ],
 "metadata": {
  "kernelspec": {
   "display_name": "Python 3 (ipykernel)",
   "language": "python",
   "name": "python3"
  },
  "language_info": {
   "codemirror_mode": {
    "name": "ipython",
    "version": 3
   },
   "file_extension": ".py",
   "mimetype": "text/x-python",
   "name": "python",
   "nbconvert_exporter": "python",
   "pygments_lexer": "ipython3",
   "version": "3.11.1"
  }
 },
 "nbformat": 4,
 "nbformat_minor": 5
}
