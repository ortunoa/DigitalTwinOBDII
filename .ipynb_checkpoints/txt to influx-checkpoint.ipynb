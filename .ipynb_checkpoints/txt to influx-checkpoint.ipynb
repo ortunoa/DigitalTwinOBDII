{
 "cells": [
  {
   "cell_type": "code",
   "execution_count": 3,
   "id": "09c02d36",
   "metadata": {},
   "outputs": [
    {
     "name": "stdout",
     "output_type": "stream",
     "text": [
      "The autoreload extension is already loaded. To reload it, use:\n",
      "  %reload_ext autoreload\n"
     ]
    }
   ],
   "source": [
    "import os\n",
    "import json\n",
    "import datetime\n",
    "import warnings\n",
    "import requests\n",
    "\n",
    "from LocalUtilities.WriteToInflux import vehicles, createInfluxEntry, getInfluxPayload,writeToInflux\n",
    "warnings.filterwarnings('ignore')\n",
    "\n",
    "%load_ext autoreload\n",
    "%autoreload 2\n",
    "\n",
    "rootPath = r\"C:\\Users\\ortun\\OneDrive\\PURDUE\\CLASSES\\ECE695\\PROJECT\\CODE\\DATA\"\n",
    "MEASUREMENT = 'telemetry'"
   ]
  },
  {
   "cell_type": "code",
   "execution_count": 7,
   "id": "8ccfb926",
   "metadata": {},
   "outputs": [
    {
     "name": "stdout",
     "output_type": "stream",
     "text": [
      "Expecting value: line 1 column 1 (char 0)\n",
      "Expecting value: line 1 column 1 (char 0)\n",
      "Succesfully written records to Influx!\n",
      "Succesfully written records to Influx!\n",
      "Succesfully written records to Influx!\n",
      "Succesfully written records to Influx!\n",
      "Expecting ':' delimiter: line 1 column 840 (char 839)\n",
      "Succesfully written records to Influx!\n",
      "Succesfully written records to Influx!\n",
      "Invalid control character at: line 1 column 663 (char 662)\n",
      "Succesfully written records to Influx!\n",
      "Succesfully written records to Influx!\n",
      "Succesfully written records to Influx!\n",
      "Succesfully written records to Influx!\n",
      "Succesfully written records to Influx!\n",
      "Succesfully written records to Influx!\n",
      "Succesfully written records to Influx!\n"
     ]
    }
   ],
   "source": [
    "j = 0\n",
    "\n",
    "ID = vehicles[j]['id']\n",
    "make = vehicles[j]['make']\n",
    "model = vehicles[j]['model']\n",
    "year = vehicles[j]['year']\n",
    "\n",
    "header = '{},id={},make={},model={},year={} '.format(MEASUREMENT, ID, make, model, year)\n",
    "\n",
    "path = \"{}\\{} {} {}\".format(rootPath, make, model, year)\n",
    "files = os.listdir(path)\n",
    "\n",
    "for i in range(len(files)):\n",
    "    with open(path + '\\{}'.format(files[i]), 'r') as myFile:\n",
    "        dataList = myFile.read().split('\\n')\n",
    "        influxPayload = getInfluxPayload(ID, make, model, year, dataList)\n",
    "        try:\n",
    "            writeToInflux(influxPayload)\n",
    "        except:\n",
    "            pass"
   ]
  },
  {
   "cell_type": "code",
   "execution_count": null,
   "id": "c662d767",
   "metadata": {},
   "outputs": [],
   "source": []
  }
 ],
 "metadata": {
  "kernelspec": {
   "display_name": "Python 3 (ipykernel)",
   "language": "python",
   "name": "python3"
  },
  "language_info": {
   "codemirror_mode": {
    "name": "ipython",
    "version": 3
   },
   "file_extension": ".py",
   "mimetype": "text/x-python",
   "name": "python",
   "nbconvert_exporter": "python",
   "pygments_lexer": "ipython3",
   "version": "3.11.1"
  }
 },
 "nbformat": 4,
 "nbformat_minor": 5
}
