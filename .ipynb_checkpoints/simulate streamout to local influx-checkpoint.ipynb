{
 "cells": [
  {
   "cell_type": "code",
   "execution_count": null,
   "id": "962d3bc6",
   "metadata": {},
   "outputs": [],
   "source": [
    "import pandas as pd\n",
    "import datetime\n",
    "import requests\n",
    "import os\n",
    "import time\n",
    "\n",
    "def makeLineProtocol(engineLoad, airFlow, rpm, speed, throttle, ay):\n",
    "    baseString = \"telemetry,id=1,make=toyota,model=rav4,year=2022 EngineLoad={},AirFlowRate={},RPM={},Speed={},ThrottlePosition={},Ay={} {}\"\n",
    "    now = datetime.datetime.now()\n",
    "    timestamp = int(now.timestamp())\n",
    "    return baseString.format(engineLoad, airFlow, rpm, speed, throttle, ay, timestamp)"
   ]
  },
  {
   "cell_type": "code",
   "execution_count": null,
   "id": "8ee43d47",
   "metadata": {},
   "outputs": [],
   "source": [
    "INFLUX_TOKEN = os.environ.get('INFLUX_TOKEN')\n",
    "MEASUREMENT = 'telemetry'\n",
    "url = \"http://localhost:8086/api/v2/write\"\n",
    "\n",
    "params = {\n",
    "    \"org\": \"localinflux\",\n",
    "    \"bucket\": \"digitaltwin\",\n",
    "    \"precision\": \"s\"\n",
    "}\n",
    "\n",
    "headers = {\n",
    "    \"Content-Type\": \"text/plain\",\n",
    "    \"Authorization\": \"Token {}\".format(INFLUX_TOKEN)\n",
    "}"
   ]
  },
  {
   "cell_type": "code",
   "execution_count": null,
   "id": "3304cdd6",
   "metadata": {},
   "outputs": [],
   "source": [
    "df = pd.read_csv('dataToWrite.csv')\n",
    "df = df[['EngineLoad','AirFlowRate','RPM','Speed','ThrottlePosition','Ay']]"
   ]
  },
  {
   "cell_type": "code",
   "execution_count": null,
   "id": "88d68a1d",
   "metadata": {},
   "outputs": [],
   "source": [
    "for i in range(df.shape[0]):  \n",
    "    engineLoad = df.iloc[i]['EngineLoad']\n",
    "    airFlow = df.iloc[i]['AirFlowRate']\n",
    "    rpm = df.iloc[i]['RPM']\n",
    "    speed = df.iloc[i]['Speed']\n",
    "    throttle = df.iloc[i]['ThrottlePosition']\n",
    "    ay = df.iloc[i]['Ay']\n",
    "    \n",
    "    payload = makeLineProtocol(engineLoad, airFlow, rpm, speed, throttle, ay)\n",
    "    response = requests.post(url, params=params, headers=headers, data=payload)\n",
    "    print(payload)\n",
    "    print('Wrote record {}/{}    -    {}'.format(i, df.shape[0], response.status_code))\n",
    "    time.sleep(1)"
   ]
  },
  {
   "cell_type": "code",
   "execution_count": null,
   "id": "e4095cd5",
   "metadata": {},
   "outputs": [],
   "source": []
  },
  {
   "cell_type": "code",
   "execution_count": null,
   "id": "bd7bb637",
   "metadata": {},
   "outputs": [],
   "source": []
  },
  {
   "cell_type": "code",
   "execution_count": null,
   "id": "7ecf329e",
   "metadata": {},
   "outputs": [],
   "source": []
  },
  {
   "cell_type": "code",
   "execution_count": null,
   "id": "7b8fa7f4",
   "metadata": {},
   "outputs": [],
   "source": []
  },
  {
   "cell_type": "code",
   "execution_count": null,
   "id": "a7a4500b",
   "metadata": {},
   "outputs": [],
   "source": []
  },
  {
   "cell_type": "code",
   "execution_count": null,
   "id": "8648e1f5",
   "metadata": {},
   "outputs": [],
   "source": []
  },
  {
   "cell_type": "code",
   "execution_count": null,
   "id": "51a0c658",
   "metadata": {},
   "outputs": [],
   "source": []
  }
 ],
 "metadata": {
  "kernelspec": {
   "display_name": "Python 3 (ipykernel)",
   "language": "python",
   "name": "python3"
  },
  "language_info": {
   "codemirror_mode": {
    "name": "ipython",
    "version": 3
   },
   "file_extension": ".py",
   "mimetype": "text/x-python",
   "name": "python",
   "nbconvert_exporter": "python",
   "pygments_lexer": "ipython3",
   "version": "3.11.1"
  }
 },
 "nbformat": 4,
 "nbformat_minor": 5
}
