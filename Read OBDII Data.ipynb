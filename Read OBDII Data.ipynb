{
 "cells": [
  {
   "cell_type": "code",
   "execution_count": 19,
   "id": "a385a67b",
   "metadata": {},
   "outputs": [],
   "source": [
    "import obd\n",
    "import time"
   ]
  },
  {
   "cell_type": "code",
   "execution_count": 6,
   "id": "9904af9c",
   "metadata": {},
   "outputs": [],
   "source": [
    "connection = obd.OBD(\"COM6\")"
   ]
  },
  {
   "cell_type": "code",
   "execution_count": 93,
   "id": "02e31e3d",
   "metadata": {},
   "outputs": [],
   "source": [
    "channels = {\n",
    "    'RPM':obd.commands.RPM,\n",
    "    'Speed':obd.commands.SPEED,\n",
    "    'EngineLoad':obd.commands.ENGINE_LOAD,\n",
    "    'CoolantTemp':obd.commands.COOLANT_TEMP,\n",
    "    'IntakeTemp':obd.commands.INTAKE_TEMP,\n",
    "    'FuelLevel':obd.commands.FUEL_LEVEL,\n",
    "    'AmbientTemp':obd.commands.AMBIANT_AIR_TEMP,\n",
    "    'EngineOilTemp':obd.commands.OIL_TEMP,\n",
    "    'FuelRate':obd.commands.FUEL_RATE,\n",
    "    \n",
    "#     'FuelInjectorTiming':obd.commands.DTC_FUEL_INJECT_TIMING,\n",
    "#     'FuelInjectorTiming':obd.commands.FUEL_INJECT_TIMING,\n",
    "#     'FuelRate':obd.commands.FUEL_RATE,\n",
    "#     'FuelPressure':obd.commands.FUEL_PRESSURE\n",
    "}"
   ]
  },
  {
   "cell_type": "code",
   "execution_count": 94,
   "id": "7fd7ca79",
   "metadata": {},
   "outputs": [],
   "source": [
    "# results = connection.query(pid_list)"
   ]
  },
  {
   "cell_type": "code",
   "execution_count": null,
   "id": "03505fdb",
   "metadata": {},
   "outputs": [
    {
     "name": "stderr",
     "output_type": "stream",
     "text": [
      "[obd.obd] 'b'015E': Engine fuel rate' is not supported\n"
     ]
    },
    {
     "name": "stdout",
     "output_type": "stream",
     "text": [
      "{'Timestamp': 1676511222.3615818, 'ChannelName': 'RPM', 'Value': 757.75, 'Units': 'revolutions_per_minute', 'Cmd': 'Engine RPM'}\n",
      "{'Timestamp': 1676511222.3615818, 'ChannelName': 'Speed', 'Value': 0.0, 'Units': 'kph', 'Cmd': 'Vehicle Speed'}\n",
      "{'Timestamp': 1676511222.3615818, 'ChannelName': 'EngineLoad', 'Value': 16.862745098039216, 'Units': 'percent', 'Cmd': 'Calculated Engine Load'}\n",
      "{'Timestamp': 1676511222.3615818, 'ChannelName': 'CoolantTemp', 'Value': 73.0, 'Units': 'degC', 'Cmd': 'Engine Coolant Temperature'}\n",
      "{'Timestamp': 1676511222.3615818, 'ChannelName': 'IntakeTemp', 'Value': 5.0, 'Units': 'degC', 'Cmd': 'Intake Air Temp'}\n",
      "{'Timestamp': 1676511222.3615818, 'ChannelName': 'FuelLevel', 'Value': 70.98039215686275, 'Units': 'percent', 'Cmd': 'Fuel Level Input'}\n",
      "{'Timestamp': 1676511222.3615818, 'ChannelName': 'AmbientTemp', 'Value': 5.0, 'Units': 'degC', 'Cmd': 'Ambient air temperature'}\n",
      "{'Timestamp': 1676511222.3615818, 'ChannelName': 'EngineOilTemp', 'Value': 63.0, 'Units': 'degC', 'Cmd': 'Engine oil temperature'}\n",
      "FuelRate is not supported\n"
     ]
    },
    {
     "name": "stderr",
     "output_type": "stream",
     "text": [
      "[obd.obd] 'b'015E': Engine fuel rate' is not supported\n"
     ]
    },
    {
     "name": "stdout",
     "output_type": "stream",
     "text": [
      "{'Timestamp': 1676511223.4955742, 'ChannelName': 'RPM', 'Value': 762.5, 'Units': 'revolutions_per_minute', 'Cmd': 'Engine RPM'}\n",
      "{'Timestamp': 1676511223.4955742, 'ChannelName': 'Speed', 'Value': 0.0, 'Units': 'kph', 'Cmd': 'Vehicle Speed'}\n",
      "{'Timestamp': 1676511223.4955742, 'ChannelName': 'EngineLoad', 'Value': 16.862745098039216, 'Units': 'percent', 'Cmd': 'Calculated Engine Load'}\n",
      "{'Timestamp': 1676511223.4955742, 'ChannelName': 'CoolantTemp', 'Value': 73.0, 'Units': 'degC', 'Cmd': 'Engine Coolant Temperature'}\n",
      "{'Timestamp': 1676511223.4955742, 'ChannelName': 'IntakeTemp', 'Value': 5.0, 'Units': 'degC', 'Cmd': 'Intake Air Temp'}\n",
      "{'Timestamp': 1676511223.4955742, 'ChannelName': 'FuelLevel', 'Value': 70.98039215686275, 'Units': 'percent', 'Cmd': 'Fuel Level Input'}\n",
      "{'Timestamp': 1676511223.4955742, 'ChannelName': 'AmbientTemp', 'Value': 5.0, 'Units': 'degC', 'Cmd': 'Ambient air temperature'}\n",
      "{'Timestamp': 1676511223.4955742, 'ChannelName': 'EngineOilTemp', 'Value': 63.0, 'Units': 'degC', 'Cmd': 'Engine oil temperature'}\n",
      "FuelRate is not supported\n"
     ]
    },
    {
     "name": "stderr",
     "output_type": "stream",
     "text": [
      "[obd.obd] 'b'015E': Engine fuel rate' is not supported\n"
     ]
    },
    {
     "name": "stdout",
     "output_type": "stream",
     "text": [
      "{'Timestamp': 1676511224.6311808, 'ChannelName': 'RPM', 'Value': 764.0, 'Units': 'revolutions_per_minute', 'Cmd': 'Engine RPM'}\n",
      "{'Timestamp': 1676511224.6311808, 'ChannelName': 'Speed', 'Value': 0.0, 'Units': 'kph', 'Cmd': 'Vehicle Speed'}\n",
      "{'Timestamp': 1676511224.6311808, 'ChannelName': 'EngineLoad', 'Value': 16.862745098039216, 'Units': 'percent', 'Cmd': 'Calculated Engine Load'}\n",
      "{'Timestamp': 1676511224.6311808, 'ChannelName': 'CoolantTemp', 'Value': 73.0, 'Units': 'degC', 'Cmd': 'Engine Coolant Temperature'}\n",
      "{'Timestamp': 1676511224.6311808, 'ChannelName': 'IntakeTemp', 'Value': 5.0, 'Units': 'degC', 'Cmd': 'Intake Air Temp'}\n",
      "{'Timestamp': 1676511224.6311808, 'ChannelName': 'FuelLevel', 'Value': 70.98039215686275, 'Units': 'percent', 'Cmd': 'Fuel Level Input'}\n",
      "{'Timestamp': 1676511224.6311808, 'ChannelName': 'AmbientTemp', 'Value': 5.0, 'Units': 'degC', 'Cmd': 'Ambient air temperature'}\n",
      "{'Timestamp': 1676511224.6311808, 'ChannelName': 'EngineOilTemp', 'Value': 63.0, 'Units': 'degC', 'Cmd': 'Engine oil temperature'}\n",
      "FuelRate is not supported\n"
     ]
    },
    {
     "name": "stderr",
     "output_type": "stream",
     "text": [
      "[obd.obd] 'b'015E': Engine fuel rate' is not supported\n"
     ]
    },
    {
     "name": "stdout",
     "output_type": "stream",
     "text": [
      "{'Timestamp': 1676511225.767471, 'ChannelName': 'RPM', 'Value': 757.75, 'Units': 'revolutions_per_minute', 'Cmd': 'Engine RPM'}\n",
      "{'Timestamp': 1676511225.767471, 'ChannelName': 'Speed', 'Value': 0.0, 'Units': 'kph', 'Cmd': 'Vehicle Speed'}\n",
      "{'Timestamp': 1676511225.767471, 'ChannelName': 'EngineLoad', 'Value': 16.862745098039216, 'Units': 'percent', 'Cmd': 'Calculated Engine Load'}\n",
      "{'Timestamp': 1676511225.767471, 'ChannelName': 'CoolantTemp', 'Value': 73.0, 'Units': 'degC', 'Cmd': 'Engine Coolant Temperature'}\n",
      "{'Timestamp': 1676511225.767471, 'ChannelName': 'IntakeTemp', 'Value': 5.0, 'Units': 'degC', 'Cmd': 'Intake Air Temp'}\n",
      "{'Timestamp': 1676511225.767471, 'ChannelName': 'FuelLevel', 'Value': 70.98039215686275, 'Units': 'percent', 'Cmd': 'Fuel Level Input'}\n",
      "{'Timestamp': 1676511225.767471, 'ChannelName': 'AmbientTemp', 'Value': 5.0, 'Units': 'degC', 'Cmd': 'Ambient air temperature'}\n",
      "{'Timestamp': 1676511225.767471, 'ChannelName': 'EngineOilTemp', 'Value': 63.0, 'Units': 'degC', 'Cmd': 'Engine oil temperature'}\n",
      "FuelRate is not supported\n"
     ]
    },
    {
     "name": "stderr",
     "output_type": "stream",
     "text": [
      "[obd.obd] 'b'015E': Engine fuel rate' is not supported\n"
     ]
    },
    {
     "name": "stdout",
     "output_type": "stream",
     "text": [
      "{'Timestamp': 1676511226.902496, 'ChannelName': 'RPM', 'Value': 756.25, 'Units': 'revolutions_per_minute', 'Cmd': 'Engine RPM'}\n",
      "{'Timestamp': 1676511226.902496, 'ChannelName': 'Speed', 'Value': 0.0, 'Units': 'kph', 'Cmd': 'Vehicle Speed'}\n",
      "{'Timestamp': 1676511226.902496, 'ChannelName': 'EngineLoad', 'Value': 16.862745098039216, 'Units': 'percent', 'Cmd': 'Calculated Engine Load'}\n",
      "{'Timestamp': 1676511226.902496, 'ChannelName': 'CoolantTemp', 'Value': 73.0, 'Units': 'degC', 'Cmd': 'Engine Coolant Temperature'}\n",
      "{'Timestamp': 1676511226.902496, 'ChannelName': 'IntakeTemp', 'Value': 5.0, 'Units': 'degC', 'Cmd': 'Intake Air Temp'}\n",
      "{'Timestamp': 1676511226.902496, 'ChannelName': 'FuelLevel', 'Value': 70.98039215686275, 'Units': 'percent', 'Cmd': 'Fuel Level Input'}\n",
      "{'Timestamp': 1676511226.902496, 'ChannelName': 'AmbientTemp', 'Value': 5.0, 'Units': 'degC', 'Cmd': 'Ambient air temperature'}\n",
      "{'Timestamp': 1676511226.902496, 'ChannelName': 'EngineOilTemp', 'Value': 63.0, 'Units': 'degC', 'Cmd': 'Engine oil temperature'}\n",
      "FuelRate is not supported\n"
     ]
    },
    {
     "name": "stderr",
     "output_type": "stream",
     "text": [
      "[obd.obd] 'b'015E': Engine fuel rate' is not supported\n"
     ]
    },
    {
     "name": "stdout",
     "output_type": "stream",
     "text": [
      "{'Timestamp': 1676511228.0397294, 'ChannelName': 'RPM', 'Value': 752.25, 'Units': 'revolutions_per_minute', 'Cmd': 'Engine RPM'}\n",
      "{'Timestamp': 1676511228.0397294, 'ChannelName': 'Speed', 'Value': 0.0, 'Units': 'kph', 'Cmd': 'Vehicle Speed'}\n",
      "{'Timestamp': 1676511228.0397294, 'ChannelName': 'EngineLoad', 'Value': 16.862745098039216, 'Units': 'percent', 'Cmd': 'Calculated Engine Load'}\n",
      "{'Timestamp': 1676511228.0397294, 'ChannelName': 'CoolantTemp', 'Value': 73.0, 'Units': 'degC', 'Cmd': 'Engine Coolant Temperature'}\n",
      "{'Timestamp': 1676511228.0397294, 'ChannelName': 'IntakeTemp', 'Value': 5.0, 'Units': 'degC', 'Cmd': 'Intake Air Temp'}\n",
      "{'Timestamp': 1676511228.0397294, 'ChannelName': 'FuelLevel', 'Value': 70.98039215686275, 'Units': 'percent', 'Cmd': 'Fuel Level Input'}\n",
      "{'Timestamp': 1676511228.0397294, 'ChannelName': 'AmbientTemp', 'Value': 5.0, 'Units': 'degC', 'Cmd': 'Ambient air temperature'}\n",
      "{'Timestamp': 1676511228.0397294, 'ChannelName': 'EngineOilTemp', 'Value': 63.0, 'Units': 'degC', 'Cmd': 'Engine oil temperature'}\n",
      "FuelRate is not supported\n"
     ]
    },
    {
     "name": "stderr",
     "output_type": "stream",
     "text": [
      "[obd.obd] 'b'015E': Engine fuel rate' is not supported\n"
     ]
    },
    {
     "name": "stdout",
     "output_type": "stream",
     "text": [
      "{'Timestamp': 1676511229.1761727, 'ChannelName': 'RPM', 'Value': 760.0, 'Units': 'revolutions_per_minute', 'Cmd': 'Engine RPM'}\n",
      "{'Timestamp': 1676511229.1761727, 'ChannelName': 'Speed', 'Value': 0.0, 'Units': 'kph', 'Cmd': 'Vehicle Speed'}\n",
      "{'Timestamp': 1676511229.1761727, 'ChannelName': 'EngineLoad', 'Value': 16.862745098039216, 'Units': 'percent', 'Cmd': 'Calculated Engine Load'}\n",
      "{'Timestamp': 1676511229.1761727, 'ChannelName': 'CoolantTemp', 'Value': 73.0, 'Units': 'degC', 'Cmd': 'Engine Coolant Temperature'}\n",
      "{'Timestamp': 1676511229.1761727, 'ChannelName': 'IntakeTemp', 'Value': 5.0, 'Units': 'degC', 'Cmd': 'Intake Air Temp'}\n",
      "{'Timestamp': 1676511229.1761727, 'ChannelName': 'FuelLevel', 'Value': 70.98039215686275, 'Units': 'percent', 'Cmd': 'Fuel Level Input'}\n",
      "{'Timestamp': 1676511229.1761727, 'ChannelName': 'AmbientTemp', 'Value': 5.0, 'Units': 'degC', 'Cmd': 'Ambient air temperature'}\n",
      "{'Timestamp': 1676511229.1761727, 'ChannelName': 'EngineOilTemp', 'Value': 63.0, 'Units': 'degC', 'Cmd': 'Engine oil temperature'}\n",
      "FuelRate is not supported\n"
     ]
    },
    {
     "name": "stderr",
     "output_type": "stream",
     "text": [
      "[obd.obd] 'b'015E': Engine fuel rate' is not supported\n"
     ]
    },
    {
     "name": "stdout",
     "output_type": "stream",
     "text": [
      "{'Timestamp': 1676511230.3125618, 'ChannelName': 'RPM', 'Value': 751.5, 'Units': 'revolutions_per_minute', 'Cmd': 'Engine RPM'}\n",
      "{'Timestamp': 1676511230.3125618, 'ChannelName': 'Speed', 'Value': 0.0, 'Units': 'kph', 'Cmd': 'Vehicle Speed'}\n",
      "{'Timestamp': 1676511230.3125618, 'ChannelName': 'EngineLoad', 'Value': 16.862745098039216, 'Units': 'percent', 'Cmd': 'Calculated Engine Load'}\n",
      "{'Timestamp': 1676511230.3125618, 'ChannelName': 'CoolantTemp', 'Value': 73.0, 'Units': 'degC', 'Cmd': 'Engine Coolant Temperature'}\n",
      "{'Timestamp': 1676511230.3125618, 'ChannelName': 'IntakeTemp', 'Value': 5.0, 'Units': 'degC', 'Cmd': 'Intake Air Temp'}\n",
      "{'Timestamp': 1676511230.3125618, 'ChannelName': 'FuelLevel', 'Value': 70.98039215686275, 'Units': 'percent', 'Cmd': 'Fuel Level Input'}\n",
      "{'Timestamp': 1676511230.3125618, 'ChannelName': 'AmbientTemp', 'Value': 5.0, 'Units': 'degC', 'Cmd': 'Ambient air temperature'}\n",
      "{'Timestamp': 1676511230.3125618, 'ChannelName': 'EngineOilTemp', 'Value': 63.0, 'Units': 'degC', 'Cmd': 'Engine oil temperature'}\n",
      "FuelRate is not supported\n"
     ]
    },
    {
     "name": "stderr",
     "output_type": "stream",
     "text": [
      "[obd.obd] 'b'015E': Engine fuel rate' is not supported\n"
     ]
    },
    {
     "name": "stdout",
     "output_type": "stream",
     "text": [
      "{'Timestamp': 1676511231.4492428, 'ChannelName': 'RPM', 'Value': 757.75, 'Units': 'revolutions_per_minute', 'Cmd': 'Engine RPM'}\n",
      "{'Timestamp': 1676511231.4492428, 'ChannelName': 'Speed', 'Value': 0.0, 'Units': 'kph', 'Cmd': 'Vehicle Speed'}\n",
      "{'Timestamp': 1676511231.4492428, 'ChannelName': 'EngineLoad', 'Value': 16.862745098039216, 'Units': 'percent', 'Cmd': 'Calculated Engine Load'}\n",
      "{'Timestamp': 1676511231.4492428, 'ChannelName': 'CoolantTemp', 'Value': 73.0, 'Units': 'degC', 'Cmd': 'Engine Coolant Temperature'}\n",
      "{'Timestamp': 1676511231.4492428, 'ChannelName': 'IntakeTemp', 'Value': 5.0, 'Units': 'degC', 'Cmd': 'Intake Air Temp'}\n",
      "{'Timestamp': 1676511231.4492428, 'ChannelName': 'FuelLevel', 'Value': 70.98039215686275, 'Units': 'percent', 'Cmd': 'Fuel Level Input'}\n",
      "{'Timestamp': 1676511231.4492428, 'ChannelName': 'AmbientTemp', 'Value': 5.0, 'Units': 'degC', 'Cmd': 'Ambient air temperature'}\n",
      "{'Timestamp': 1676511231.4492428, 'ChannelName': 'EngineOilTemp', 'Value': 63.0, 'Units': 'degC', 'Cmd': 'Engine oil temperature'}\n",
      "FuelRate is not supported\n"
     ]
    },
    {
     "name": "stderr",
     "output_type": "stream",
     "text": [
      "[obd.obd] 'b'015E': Engine fuel rate' is not supported\n"
     ]
    },
    {
     "name": "stdout",
     "output_type": "stream",
     "text": [
      "{'Timestamp': 1676511232.584053, 'ChannelName': 'RPM', 'Value': 750.75, 'Units': 'revolutions_per_minute', 'Cmd': 'Engine RPM'}\n",
      "{'Timestamp': 1676511232.584053, 'ChannelName': 'Speed', 'Value': 0.0, 'Units': 'kph', 'Cmd': 'Vehicle Speed'}\n",
      "{'Timestamp': 1676511232.584053, 'ChannelName': 'EngineLoad', 'Value': 16.862745098039216, 'Units': 'percent', 'Cmd': 'Calculated Engine Load'}\n",
      "{'Timestamp': 1676511232.584053, 'ChannelName': 'CoolantTemp', 'Value': 73.0, 'Units': 'degC', 'Cmd': 'Engine Coolant Temperature'}\n",
      "{'Timestamp': 1676511232.584053, 'ChannelName': 'IntakeTemp', 'Value': 5.0, 'Units': 'degC', 'Cmd': 'Intake Air Temp'}\n",
      "{'Timestamp': 1676511232.584053, 'ChannelName': 'FuelLevel', 'Value': 70.98039215686275, 'Units': 'percent', 'Cmd': 'Fuel Level Input'}\n",
      "{'Timestamp': 1676511232.584053, 'ChannelName': 'AmbientTemp', 'Value': 5.0, 'Units': 'degC', 'Cmd': 'Ambient air temperature'}\n",
      "{'Timestamp': 1676511232.584053, 'ChannelName': 'EngineOilTemp', 'Value': 63.0, 'Units': 'degC', 'Cmd': 'Engine oil temperature'}\n",
      "FuelRate is not supported\n"
     ]
    },
    {
     "name": "stderr",
     "output_type": "stream",
     "text": [
      "[obd.obd] 'b'015E': Engine fuel rate' is not supported\n"
     ]
    },
    {
     "name": "stdout",
     "output_type": "stream",
     "text": [
      "{'Timestamp': 1676511233.7205641, 'ChannelName': 'RPM', 'Value': 751.5, 'Units': 'revolutions_per_minute', 'Cmd': 'Engine RPM'}\n",
      "{'Timestamp': 1676511233.7205641, 'ChannelName': 'Speed', 'Value': 0.0, 'Units': 'kph', 'Cmd': 'Vehicle Speed'}\n",
      "{'Timestamp': 1676511233.7205641, 'ChannelName': 'EngineLoad', 'Value': 16.862745098039216, 'Units': 'percent', 'Cmd': 'Calculated Engine Load'}\n",
      "{'Timestamp': 1676511233.7205641, 'ChannelName': 'CoolantTemp', 'Value': 73.0, 'Units': 'degC', 'Cmd': 'Engine Coolant Temperature'}\n",
      "{'Timestamp': 1676511233.7205641, 'ChannelName': 'IntakeTemp', 'Value': 5.0, 'Units': 'degC', 'Cmd': 'Intake Air Temp'}\n",
      "{'Timestamp': 1676511233.7205641, 'ChannelName': 'FuelLevel', 'Value': 70.98039215686275, 'Units': 'percent', 'Cmd': 'Fuel Level Input'}\n",
      "{'Timestamp': 1676511233.7205641, 'ChannelName': 'AmbientTemp', 'Value': 5.0, 'Units': 'degC', 'Cmd': 'Ambient air temperature'}\n",
      "{'Timestamp': 1676511233.7205641, 'ChannelName': 'EngineOilTemp', 'Value': 63.0, 'Units': 'degC', 'Cmd': 'Engine oil temperature'}\n",
      "FuelRate is not supported\n"
     ]
    },
    {
     "name": "stderr",
     "output_type": "stream",
     "text": [
      "[obd.obd] 'b'015E': Engine fuel rate' is not supported\n"
     ]
    },
    {
     "name": "stdout",
     "output_type": "stream",
     "text": [
      "{'Timestamp': 1676511234.8567128, 'ChannelName': 'RPM', 'Value': 756.25, 'Units': 'revolutions_per_minute', 'Cmd': 'Engine RPM'}\n",
      "{'Timestamp': 1676511234.8567128, 'ChannelName': 'Speed', 'Value': 0.0, 'Units': 'kph', 'Cmd': 'Vehicle Speed'}\n",
      "{'Timestamp': 1676511234.8567128, 'ChannelName': 'EngineLoad', 'Value': 16.862745098039216, 'Units': 'percent', 'Cmd': 'Calculated Engine Load'}\n",
      "{'Timestamp': 1676511234.8567128, 'ChannelName': 'CoolantTemp', 'Value': 73.0, 'Units': 'degC', 'Cmd': 'Engine Coolant Temperature'}\n",
      "{'Timestamp': 1676511234.8567128, 'ChannelName': 'IntakeTemp', 'Value': 5.0, 'Units': 'degC', 'Cmd': 'Intake Air Temp'}\n",
      "{'Timestamp': 1676511234.8567128, 'ChannelName': 'FuelLevel', 'Value': 70.98039215686275, 'Units': 'percent', 'Cmd': 'Fuel Level Input'}\n",
      "{'Timestamp': 1676511234.8567128, 'ChannelName': 'AmbientTemp', 'Value': 5.0, 'Units': 'degC', 'Cmd': 'Ambient air temperature'}\n",
      "{'Timestamp': 1676511234.8567128, 'ChannelName': 'EngineOilTemp', 'Value': 63.0, 'Units': 'degC', 'Cmd': 'Engine oil temperature'}\n",
      "FuelRate is not supported\n"
     ]
    },
    {
     "name": "stderr",
     "output_type": "stream",
     "text": [
      "[obd.obd] 'b'015E': Engine fuel rate' is not supported\n"
     ]
    },
    {
     "name": "stdout",
     "output_type": "stream",
     "text": [
      "{'Timestamp': 1676511235.993327, 'ChannelName': 'RPM', 'Value': 755.25, 'Units': 'revolutions_per_minute', 'Cmd': 'Engine RPM'}\n",
      "{'Timestamp': 1676511235.993327, 'ChannelName': 'Speed', 'Value': 0.0, 'Units': 'kph', 'Cmd': 'Vehicle Speed'}\n",
      "{'Timestamp': 1676511235.993327, 'ChannelName': 'EngineLoad', 'Value': 16.862745098039216, 'Units': 'percent', 'Cmd': 'Calculated Engine Load'}\n",
      "{'Timestamp': 1676511235.993327, 'ChannelName': 'CoolantTemp', 'Value': 73.0, 'Units': 'degC', 'Cmd': 'Engine Coolant Temperature'}\n",
      "{'Timestamp': 1676511235.993327, 'ChannelName': 'IntakeTemp', 'Value': 5.0, 'Units': 'degC', 'Cmd': 'Intake Air Temp'}\n",
      "{'Timestamp': 1676511235.993327, 'ChannelName': 'FuelLevel', 'Value': 70.98039215686275, 'Units': 'percent', 'Cmd': 'Fuel Level Input'}\n",
      "{'Timestamp': 1676511235.993327, 'ChannelName': 'AmbientTemp', 'Value': 5.0, 'Units': 'degC', 'Cmd': 'Ambient air temperature'}\n",
      "{'Timestamp': 1676511235.993327, 'ChannelName': 'EngineOilTemp', 'Value': 63.0, 'Units': 'degC', 'Cmd': 'Engine oil temperature'}\n",
      "FuelRate is not supported\n"
     ]
    },
    {
     "name": "stderr",
     "output_type": "stream",
     "text": [
      "[obd.obd] 'b'015E': Engine fuel rate' is not supported\n"
     ]
    },
    {
     "name": "stdout",
     "output_type": "stream",
     "text": [
      "{'Timestamp': 1676511237.1299381, 'ChannelName': 'RPM', 'Value': 755.25, 'Units': 'revolutions_per_minute', 'Cmd': 'Engine RPM'}\n",
      "{'Timestamp': 1676511237.1299381, 'ChannelName': 'Speed', 'Value': 0.0, 'Units': 'kph', 'Cmd': 'Vehicle Speed'}\n",
      "{'Timestamp': 1676511237.1299381, 'ChannelName': 'EngineLoad', 'Value': 16.470588235294116, 'Units': 'percent', 'Cmd': 'Calculated Engine Load'}\n",
      "{'Timestamp': 1676511237.1299381, 'ChannelName': 'CoolantTemp', 'Value': 73.0, 'Units': 'degC', 'Cmd': 'Engine Coolant Temperature'}\n",
      "{'Timestamp': 1676511237.1299381, 'ChannelName': 'IntakeTemp', 'Value': 5.0, 'Units': 'degC', 'Cmd': 'Intake Air Temp'}\n",
      "{'Timestamp': 1676511237.1299381, 'ChannelName': 'FuelLevel', 'Value': 70.98039215686275, 'Units': 'percent', 'Cmd': 'Fuel Level Input'}\n",
      "{'Timestamp': 1676511237.1299381, 'ChannelName': 'AmbientTemp', 'Value': 5.0, 'Units': 'degC', 'Cmd': 'Ambient air temperature'}\n",
      "{'Timestamp': 1676511237.1299381, 'ChannelName': 'EngineOilTemp', 'Value': 63.0, 'Units': 'degC', 'Cmd': 'Engine oil temperature'}\n",
      "FuelRate is not supported\n"
     ]
    },
    {
     "name": "stderr",
     "output_type": "stream",
     "text": [
      "[obd.obd] 'b'015E': Engine fuel rate' is not supported\n"
     ]
    },
    {
     "name": "stdout",
     "output_type": "stream",
     "text": [
      "{'Timestamp': 1676511238.2657166, 'ChannelName': 'RPM', 'Value': 748.25, 'Units': 'revolutions_per_minute', 'Cmd': 'Engine RPM'}\n",
      "{'Timestamp': 1676511238.2657166, 'ChannelName': 'Speed', 'Value': 0.0, 'Units': 'kph', 'Cmd': 'Vehicle Speed'}\n",
      "{'Timestamp': 1676511238.2657166, 'ChannelName': 'EngineLoad', 'Value': 16.862745098039216, 'Units': 'percent', 'Cmd': 'Calculated Engine Load'}\n",
      "{'Timestamp': 1676511238.2657166, 'ChannelName': 'CoolantTemp', 'Value': 73.0, 'Units': 'degC', 'Cmd': 'Engine Coolant Temperature'}\n",
      "{'Timestamp': 1676511238.2657166, 'ChannelName': 'IntakeTemp', 'Value': 5.0, 'Units': 'degC', 'Cmd': 'Intake Air Temp'}\n",
      "{'Timestamp': 1676511238.2657166, 'ChannelName': 'FuelLevel', 'Value': 70.98039215686275, 'Units': 'percent', 'Cmd': 'Fuel Level Input'}\n",
      "{'Timestamp': 1676511238.2657166, 'ChannelName': 'AmbientTemp', 'Value': 5.0, 'Units': 'degC', 'Cmd': 'Ambient air temperature'}\n",
      "{'Timestamp': 1676511238.2657166, 'ChannelName': 'EngineOilTemp', 'Value': 63.0, 'Units': 'degC', 'Cmd': 'Engine oil temperature'}\n",
      "FuelRate is not supported\n"
     ]
    },
    {
     "name": "stderr",
     "output_type": "stream",
     "text": [
      "[obd.obd] 'b'015E': Engine fuel rate' is not supported\n"
     ]
    },
    {
     "name": "stdout",
     "output_type": "stream",
     "text": [
      "{'Timestamp': 1676511239.402728, 'ChannelName': 'RPM', 'Value': 753.0, 'Units': 'revolutions_per_minute', 'Cmd': 'Engine RPM'}\n",
      "{'Timestamp': 1676511239.402728, 'ChannelName': 'Speed', 'Value': 0.0, 'Units': 'kph', 'Cmd': 'Vehicle Speed'}\n",
      "{'Timestamp': 1676511239.402728, 'ChannelName': 'EngineLoad', 'Value': 16.862745098039216, 'Units': 'percent', 'Cmd': 'Calculated Engine Load'}\n",
      "{'Timestamp': 1676511239.402728, 'ChannelName': 'CoolantTemp', 'Value': 73.0, 'Units': 'degC', 'Cmd': 'Engine Coolant Temperature'}\n",
      "{'Timestamp': 1676511239.402728, 'ChannelName': 'IntakeTemp', 'Value': 5.0, 'Units': 'degC', 'Cmd': 'Intake Air Temp'}\n",
      "{'Timestamp': 1676511239.402728, 'ChannelName': 'FuelLevel', 'Value': 70.98039215686275, 'Units': 'percent', 'Cmd': 'Fuel Level Input'}\n",
      "{'Timestamp': 1676511239.402728, 'ChannelName': 'AmbientTemp', 'Value': 5.0, 'Units': 'degC', 'Cmd': 'Ambient air temperature'}\n",
      "{'Timestamp': 1676511239.402728, 'ChannelName': 'EngineOilTemp', 'Value': 63.0, 'Units': 'degC', 'Cmd': 'Engine oil temperature'}\n",
      "FuelRate is not supported\n"
     ]
    },
    {
     "name": "stderr",
     "output_type": "stream",
     "text": [
      "[obd.obd] 'b'015E': Engine fuel rate' is not supported\n"
     ]
    },
    {
     "name": "stdout",
     "output_type": "stream",
     "text": [
      "{'Timestamp': 1676511240.5379853, 'ChannelName': 'RPM', 'Value': 757.75, 'Units': 'revolutions_per_minute', 'Cmd': 'Engine RPM'}\n",
      "{'Timestamp': 1676511240.5379853, 'ChannelName': 'Speed', 'Value': 0.0, 'Units': 'kph', 'Cmd': 'Vehicle Speed'}\n",
      "{'Timestamp': 1676511240.5379853, 'ChannelName': 'EngineLoad', 'Value': 16.862745098039216, 'Units': 'percent', 'Cmd': 'Calculated Engine Load'}\n",
      "{'Timestamp': 1676511240.5379853, 'ChannelName': 'CoolantTemp', 'Value': 73.0, 'Units': 'degC', 'Cmd': 'Engine Coolant Temperature'}\n",
      "{'Timestamp': 1676511240.5379853, 'ChannelName': 'IntakeTemp', 'Value': 5.0, 'Units': 'degC', 'Cmd': 'Intake Air Temp'}\n",
      "{'Timestamp': 1676511240.5379853, 'ChannelName': 'FuelLevel', 'Value': 70.98039215686275, 'Units': 'percent', 'Cmd': 'Fuel Level Input'}\n",
      "{'Timestamp': 1676511240.5379853, 'ChannelName': 'AmbientTemp', 'Value': 5.0, 'Units': 'degC', 'Cmd': 'Ambient air temperature'}\n",
      "{'Timestamp': 1676511240.5379853, 'ChannelName': 'EngineOilTemp', 'Value': 63.0, 'Units': 'degC', 'Cmd': 'Engine oil temperature'}\n",
      "FuelRate is not supported\n"
     ]
    },
    {
     "name": "stderr",
     "output_type": "stream",
     "text": [
      "[obd.obd] 'b'015E': Engine fuel rate' is not supported\n"
     ]
    },
    {
     "name": "stdout",
     "output_type": "stream",
     "text": [
      "{'Timestamp': 1676511241.6749701, 'ChannelName': 'RPM', 'Value': 758.5, 'Units': 'revolutions_per_minute', 'Cmd': 'Engine RPM'}\n",
      "{'Timestamp': 1676511241.6749701, 'ChannelName': 'Speed', 'Value': 0.0, 'Units': 'kph', 'Cmd': 'Vehicle Speed'}\n",
      "{'Timestamp': 1676511241.6749701, 'ChannelName': 'EngineLoad', 'Value': 16.862745098039216, 'Units': 'percent', 'Cmd': 'Calculated Engine Load'}\n",
      "{'Timestamp': 1676511241.6749701, 'ChannelName': 'CoolantTemp', 'Value': 73.0, 'Units': 'degC', 'Cmd': 'Engine Coolant Temperature'}\n",
      "{'Timestamp': 1676511241.6749701, 'ChannelName': 'IntakeTemp', 'Value': 5.0, 'Units': 'degC', 'Cmd': 'Intake Air Temp'}\n",
      "{'Timestamp': 1676511241.6749701, 'ChannelName': 'FuelLevel', 'Value': 70.98039215686275, 'Units': 'percent', 'Cmd': 'Fuel Level Input'}\n",
      "{'Timestamp': 1676511241.6749701, 'ChannelName': 'AmbientTemp', 'Value': 5.0, 'Units': 'degC', 'Cmd': 'Ambient air temperature'}\n",
      "{'Timestamp': 1676511241.6749701, 'ChannelName': 'EngineOilTemp', 'Value': 63.0, 'Units': 'degC', 'Cmd': 'Engine oil temperature'}\n",
      "FuelRate is not supported\n"
     ]
    },
    {
     "name": "stderr",
     "output_type": "stream",
     "text": [
      "[obd.obd] 'b'015E': Engine fuel rate' is not supported\n"
     ]
    },
    {
     "name": "stdout",
     "output_type": "stream",
     "text": [
      "{'Timestamp': 1676511242.8115306, 'ChannelName': 'RPM', 'Value': 758.5, 'Units': 'revolutions_per_minute', 'Cmd': 'Engine RPM'}\n",
      "{'Timestamp': 1676511242.8115306, 'ChannelName': 'Speed', 'Value': 0.0, 'Units': 'kph', 'Cmd': 'Vehicle Speed'}\n",
      "{'Timestamp': 1676511242.8115306, 'ChannelName': 'EngineLoad', 'Value': 16.862745098039216, 'Units': 'percent', 'Cmd': 'Calculated Engine Load'}\n",
      "{'Timestamp': 1676511242.8115306, 'ChannelName': 'CoolantTemp', 'Value': 73.0, 'Units': 'degC', 'Cmd': 'Engine Coolant Temperature'}\n",
      "{'Timestamp': 1676511242.8115306, 'ChannelName': 'IntakeTemp', 'Value': 5.0, 'Units': 'degC', 'Cmd': 'Intake Air Temp'}\n",
      "{'Timestamp': 1676511242.8115306, 'ChannelName': 'FuelLevel', 'Value': 70.98039215686275, 'Units': 'percent', 'Cmd': 'Fuel Level Input'}\n",
      "{'Timestamp': 1676511242.8115306, 'ChannelName': 'AmbientTemp', 'Value': 5.0, 'Units': 'degC', 'Cmd': 'Ambient air temperature'}\n",
      "{'Timestamp': 1676511242.8115306, 'ChannelName': 'EngineOilTemp', 'Value': 63.0, 'Units': 'degC', 'Cmd': 'Engine oil temperature'}\n",
      "FuelRate is not supported\n"
     ]
    },
    {
     "name": "stderr",
     "output_type": "stream",
     "text": [
      "[obd.obd] 'b'015E': Engine fuel rate' is not supported\n"
     ]
    },
    {
     "name": "stdout",
     "output_type": "stream",
     "text": [
      "{'Timestamp': 1676511243.947531, 'ChannelName': 'RPM', 'Value': 757.75, 'Units': 'revolutions_per_minute', 'Cmd': 'Engine RPM'}\n",
      "{'Timestamp': 1676511243.947531, 'ChannelName': 'Speed', 'Value': 0.0, 'Units': 'kph', 'Cmd': 'Vehicle Speed'}\n",
      "{'Timestamp': 1676511243.947531, 'ChannelName': 'EngineLoad', 'Value': 16.862745098039216, 'Units': 'percent', 'Cmd': 'Calculated Engine Load'}\n",
      "{'Timestamp': 1676511243.947531, 'ChannelName': 'CoolantTemp', 'Value': 73.0, 'Units': 'degC', 'Cmd': 'Engine Coolant Temperature'}\n",
      "{'Timestamp': 1676511243.947531, 'ChannelName': 'IntakeTemp', 'Value': 5.0, 'Units': 'degC', 'Cmd': 'Intake Air Temp'}\n",
      "{'Timestamp': 1676511243.947531, 'ChannelName': 'FuelLevel', 'Value': 70.98039215686275, 'Units': 'percent', 'Cmd': 'Fuel Level Input'}\n",
      "{'Timestamp': 1676511243.947531, 'ChannelName': 'AmbientTemp', 'Value': 5.0, 'Units': 'degC', 'Cmd': 'Ambient air temperature'}\n",
      "{'Timestamp': 1676511243.947531, 'ChannelName': 'EngineOilTemp', 'Value': 63.0, 'Units': 'degC', 'Cmd': 'Engine oil temperature'}\n",
      "FuelRate is not supported\n"
     ]
    },
    {
     "name": "stderr",
     "output_type": "stream",
     "text": [
      "[obd.obd] 'b'015E': Engine fuel rate' is not supported\n"
     ]
    },
    {
     "name": "stdout",
     "output_type": "stream",
     "text": [
      "{'Timestamp': 1676511245.082689, 'ChannelName': 'RPM', 'Value': 756.25, 'Units': 'revolutions_per_minute', 'Cmd': 'Engine RPM'}\n",
      "{'Timestamp': 1676511245.082689, 'ChannelName': 'Speed', 'Value': 0.0, 'Units': 'kph', 'Cmd': 'Vehicle Speed'}\n",
      "{'Timestamp': 1676511245.082689, 'ChannelName': 'EngineLoad', 'Value': 16.862745098039216, 'Units': 'percent', 'Cmd': 'Calculated Engine Load'}\n",
      "{'Timestamp': 1676511245.082689, 'ChannelName': 'CoolantTemp', 'Value': 73.0, 'Units': 'degC', 'Cmd': 'Engine Coolant Temperature'}\n",
      "{'Timestamp': 1676511245.082689, 'ChannelName': 'IntakeTemp', 'Value': 5.0, 'Units': 'degC', 'Cmd': 'Intake Air Temp'}\n",
      "{'Timestamp': 1676511245.082689, 'ChannelName': 'FuelLevel', 'Value': 70.98039215686275, 'Units': 'percent', 'Cmd': 'Fuel Level Input'}\n",
      "{'Timestamp': 1676511245.082689, 'ChannelName': 'AmbientTemp', 'Value': 5.0, 'Units': 'degC', 'Cmd': 'Ambient air temperature'}\n",
      "{'Timestamp': 1676511245.082689, 'ChannelName': 'EngineOilTemp', 'Value': 63.0, 'Units': 'degC', 'Cmd': 'Engine oil temperature'}\n",
      "FuelRate is not supported\n"
     ]
    },
    {
     "name": "stderr",
     "output_type": "stream",
     "text": [
      "[obd.obd] 'b'015E': Engine fuel rate' is not supported\n"
     ]
    },
    {
     "name": "stdout",
     "output_type": "stream",
     "text": [
      "{'Timestamp': 1676511246.2186103, 'ChannelName': 'RPM', 'Value': 758.5, 'Units': 'revolutions_per_minute', 'Cmd': 'Engine RPM'}\n",
      "{'Timestamp': 1676511246.2186103, 'ChannelName': 'Speed', 'Value': 0.0, 'Units': 'kph', 'Cmd': 'Vehicle Speed'}\n",
      "{'Timestamp': 1676511246.2186103, 'ChannelName': 'EngineLoad', 'Value': 16.862745098039216, 'Units': 'percent', 'Cmd': 'Calculated Engine Load'}\n",
      "{'Timestamp': 1676511246.2186103, 'ChannelName': 'CoolantTemp', 'Value': 73.0, 'Units': 'degC', 'Cmd': 'Engine Coolant Temperature'}\n",
      "{'Timestamp': 1676511246.2186103, 'ChannelName': 'IntakeTemp', 'Value': 6.0, 'Units': 'degC', 'Cmd': 'Intake Air Temp'}\n",
      "{'Timestamp': 1676511246.2186103, 'ChannelName': 'FuelLevel', 'Value': 70.98039215686275, 'Units': 'percent', 'Cmd': 'Fuel Level Input'}\n",
      "{'Timestamp': 1676511246.2186103, 'ChannelName': 'AmbientTemp', 'Value': 6.0, 'Units': 'degC', 'Cmd': 'Ambient air temperature'}\n",
      "{'Timestamp': 1676511246.2186103, 'ChannelName': 'EngineOilTemp', 'Value': 63.0, 'Units': 'degC', 'Cmd': 'Engine oil temperature'}\n",
      "FuelRate is not supported\n"
     ]
    },
    {
     "name": "stderr",
     "output_type": "stream",
     "text": [
      "[obd.obd] 'b'015E': Engine fuel rate' is not supported\n"
     ]
    },
    {
     "name": "stdout",
     "output_type": "stream",
     "text": [
      "{'Timestamp': 1676511247.3564978, 'ChannelName': 'RPM', 'Value': 754.5, 'Units': 'revolutions_per_minute', 'Cmd': 'Engine RPM'}\n",
      "{'Timestamp': 1676511247.3564978, 'ChannelName': 'Speed', 'Value': 0.0, 'Units': 'kph', 'Cmd': 'Vehicle Speed'}\n",
      "{'Timestamp': 1676511247.3564978, 'ChannelName': 'EngineLoad', 'Value': 16.862745098039216, 'Units': 'percent', 'Cmd': 'Calculated Engine Load'}\n",
      "{'Timestamp': 1676511247.3564978, 'ChannelName': 'CoolantTemp', 'Value': 73.0, 'Units': 'degC', 'Cmd': 'Engine Coolant Temperature'}\n",
      "{'Timestamp': 1676511247.3564978, 'ChannelName': 'IntakeTemp', 'Value': 6.0, 'Units': 'degC', 'Cmd': 'Intake Air Temp'}\n",
      "{'Timestamp': 1676511247.3564978, 'ChannelName': 'FuelLevel', 'Value': 70.98039215686275, 'Units': 'percent', 'Cmd': 'Fuel Level Input'}\n",
      "{'Timestamp': 1676511247.3564978, 'ChannelName': 'AmbientTemp', 'Value': 6.0, 'Units': 'degC', 'Cmd': 'Ambient air temperature'}\n",
      "{'Timestamp': 1676511247.3564978, 'ChannelName': 'EngineOilTemp', 'Value': 63.0, 'Units': 'degC', 'Cmd': 'Engine oil temperature'}\n",
      "FuelRate is not supported\n"
     ]
    },
    {
     "name": "stderr",
     "output_type": "stream",
     "text": [
      "[obd.obd] 'b'015E': Engine fuel rate' is not supported\n"
     ]
    },
    {
     "name": "stdout",
     "output_type": "stream",
     "text": [
      "{'Timestamp': 1676511248.4925973, 'ChannelName': 'RPM', 'Value': 753.0, 'Units': 'revolutions_per_minute', 'Cmd': 'Engine RPM'}\n",
      "{'Timestamp': 1676511248.4925973, 'ChannelName': 'Speed', 'Value': 0.0, 'Units': 'kph', 'Cmd': 'Vehicle Speed'}\n",
      "{'Timestamp': 1676511248.4925973, 'ChannelName': 'EngineLoad', 'Value': 16.862745098039216, 'Units': 'percent', 'Cmd': 'Calculated Engine Load'}\n",
      "{'Timestamp': 1676511248.4925973, 'ChannelName': 'CoolantTemp', 'Value': 73.0, 'Units': 'degC', 'Cmd': 'Engine Coolant Temperature'}\n",
      "{'Timestamp': 1676511248.4925973, 'ChannelName': 'IntakeTemp', 'Value': 6.0, 'Units': 'degC', 'Cmd': 'Intake Air Temp'}\n",
      "{'Timestamp': 1676511248.4925973, 'ChannelName': 'FuelLevel', 'Value': 70.98039215686275, 'Units': 'percent', 'Cmd': 'Fuel Level Input'}\n",
      "{'Timestamp': 1676511248.4925973, 'ChannelName': 'AmbientTemp', 'Value': 6.0, 'Units': 'degC', 'Cmd': 'Ambient air temperature'}\n",
      "{'Timestamp': 1676511248.4925973, 'ChannelName': 'EngineOilTemp', 'Value': 63.0, 'Units': 'degC', 'Cmd': 'Engine oil temperature'}\n",
      "FuelRate is not supported\n"
     ]
    },
    {
     "name": "stderr",
     "output_type": "stream",
     "text": [
      "[obd.obd] 'b'015E': Engine fuel rate' is not supported\n"
     ]
    },
    {
     "name": "stdout",
     "output_type": "stream",
     "text": [
      "{'Timestamp': 1676511249.6289248, 'ChannelName': 'RPM', 'Value': 747.5, 'Units': 'revolutions_per_minute', 'Cmd': 'Engine RPM'}\n",
      "{'Timestamp': 1676511249.6289248, 'ChannelName': 'Speed', 'Value': 0.0, 'Units': 'kph', 'Cmd': 'Vehicle Speed'}\n",
      "{'Timestamp': 1676511249.6289248, 'ChannelName': 'EngineLoad', 'Value': 16.862745098039216, 'Units': 'percent', 'Cmd': 'Calculated Engine Load'}\n",
      "{'Timestamp': 1676511249.6289248, 'ChannelName': 'CoolantTemp', 'Value': 73.0, 'Units': 'degC', 'Cmd': 'Engine Coolant Temperature'}\n",
      "{'Timestamp': 1676511249.6289248, 'ChannelName': 'IntakeTemp', 'Value': 6.0, 'Units': 'degC', 'Cmd': 'Intake Air Temp'}\n",
      "{'Timestamp': 1676511249.6289248, 'ChannelName': 'FuelLevel', 'Value': 70.98039215686275, 'Units': 'percent', 'Cmd': 'Fuel Level Input'}\n",
      "{'Timestamp': 1676511249.6289248, 'ChannelName': 'AmbientTemp', 'Value': 6.0, 'Units': 'degC', 'Cmd': 'Ambient air temperature'}\n",
      "{'Timestamp': 1676511249.6289248, 'ChannelName': 'EngineOilTemp', 'Value': 63.0, 'Units': 'degC', 'Cmd': 'Engine oil temperature'}\n",
      "FuelRate is not supported\n"
     ]
    },
    {
     "name": "stderr",
     "output_type": "stream",
     "text": [
      "[obd.obd] 'b'015E': Engine fuel rate' is not supported\n"
     ]
    },
    {
     "name": "stdout",
     "output_type": "stream",
     "text": [
      "{'Timestamp': 1676511250.76484, 'ChannelName': 'RPM', 'Value': 754.5, 'Units': 'revolutions_per_minute', 'Cmd': 'Engine RPM'}\n",
      "{'Timestamp': 1676511250.76484, 'ChannelName': 'Speed', 'Value': 0.0, 'Units': 'kph', 'Cmd': 'Vehicle Speed'}\n",
      "{'Timestamp': 1676511250.76484, 'ChannelName': 'EngineLoad', 'Value': 16.862745098039216, 'Units': 'percent', 'Cmd': 'Calculated Engine Load'}\n",
      "{'Timestamp': 1676511250.76484, 'ChannelName': 'CoolantTemp', 'Value': 73.0, 'Units': 'degC', 'Cmd': 'Engine Coolant Temperature'}\n",
      "{'Timestamp': 1676511250.76484, 'ChannelName': 'IntakeTemp', 'Value': 6.0, 'Units': 'degC', 'Cmd': 'Intake Air Temp'}\n",
      "{'Timestamp': 1676511250.76484, 'ChannelName': 'FuelLevel', 'Value': 70.98039215686275, 'Units': 'percent', 'Cmd': 'Fuel Level Input'}\n",
      "{'Timestamp': 1676511250.76484, 'ChannelName': 'AmbientTemp', 'Value': 6.0, 'Units': 'degC', 'Cmd': 'Ambient air temperature'}\n",
      "{'Timestamp': 1676511250.76484, 'ChannelName': 'EngineOilTemp', 'Value': 63.0, 'Units': 'degC', 'Cmd': 'Engine oil temperature'}\n",
      "FuelRate is not supported\n"
     ]
    },
    {
     "name": "stderr",
     "output_type": "stream",
     "text": [
      "[obd.obd] 'b'015E': Engine fuel rate' is not supported\n"
     ]
    },
    {
     "name": "stdout",
     "output_type": "stream",
     "text": [
      "{'Timestamp': 1676511251.900786, 'ChannelName': 'RPM', 'Value': 757.0, 'Units': 'revolutions_per_minute', 'Cmd': 'Engine RPM'}\n",
      "{'Timestamp': 1676511251.900786, 'ChannelName': 'Speed', 'Value': 0.0, 'Units': 'kph', 'Cmd': 'Vehicle Speed'}\n",
      "{'Timestamp': 1676511251.900786, 'ChannelName': 'EngineLoad', 'Value': 16.862745098039216, 'Units': 'percent', 'Cmd': 'Calculated Engine Load'}\n",
      "{'Timestamp': 1676511251.900786, 'ChannelName': 'CoolantTemp', 'Value': 73.0, 'Units': 'degC', 'Cmd': 'Engine Coolant Temperature'}\n",
      "{'Timestamp': 1676511251.900786, 'ChannelName': 'IntakeTemp', 'Value': 6.0, 'Units': 'degC', 'Cmd': 'Intake Air Temp'}\n",
      "{'Timestamp': 1676511251.900786, 'ChannelName': 'FuelLevel', 'Value': 70.98039215686275, 'Units': 'percent', 'Cmd': 'Fuel Level Input'}\n",
      "{'Timestamp': 1676511251.900786, 'ChannelName': 'AmbientTemp', 'Value': 6.0, 'Units': 'degC', 'Cmd': 'Ambient air temperature'}\n",
      "{'Timestamp': 1676511251.900786, 'ChannelName': 'EngineOilTemp', 'Value': 63.0, 'Units': 'degC', 'Cmd': 'Engine oil temperature'}\n",
      "FuelRate is not supported\n"
     ]
    },
    {
     "name": "stderr",
     "output_type": "stream",
     "text": [
      "[obd.obd] 'b'015E': Engine fuel rate' is not supported\n"
     ]
    },
    {
     "name": "stdout",
     "output_type": "stream",
     "text": [
      "{'Timestamp': 1676511253.0368063, 'ChannelName': 'RPM', 'Value': 751.5, 'Units': 'revolutions_per_minute', 'Cmd': 'Engine RPM'}\n",
      "{'Timestamp': 1676511253.0368063, 'ChannelName': 'Speed', 'Value': 0.0, 'Units': 'kph', 'Cmd': 'Vehicle Speed'}\n",
      "{'Timestamp': 1676511253.0368063, 'ChannelName': 'EngineLoad', 'Value': 16.862745098039216, 'Units': 'percent', 'Cmd': 'Calculated Engine Load'}\n",
      "{'Timestamp': 1676511253.0368063, 'ChannelName': 'CoolantTemp', 'Value': 73.0, 'Units': 'degC', 'Cmd': 'Engine Coolant Temperature'}\n",
      "{'Timestamp': 1676511253.0368063, 'ChannelName': 'IntakeTemp', 'Value': 6.0, 'Units': 'degC', 'Cmd': 'Intake Air Temp'}\n",
      "{'Timestamp': 1676511253.0368063, 'ChannelName': 'FuelLevel', 'Value': 70.98039215686275, 'Units': 'percent', 'Cmd': 'Fuel Level Input'}\n",
      "{'Timestamp': 1676511253.0368063, 'ChannelName': 'AmbientTemp', 'Value': 6.0, 'Units': 'degC', 'Cmd': 'Ambient air temperature'}\n",
      "{'Timestamp': 1676511253.0368063, 'ChannelName': 'EngineOilTemp', 'Value': 63.0, 'Units': 'degC', 'Cmd': 'Engine oil temperature'}\n",
      "FuelRate is not supported\n"
     ]
    },
    {
     "name": "stderr",
     "output_type": "stream",
     "text": [
      "[obd.obd] 'b'015E': Engine fuel rate' is not supported\n"
     ]
    },
    {
     "name": "stdout",
     "output_type": "stream",
     "text": [
      "{'Timestamp': 1676511254.1725311, 'ChannelName': 'RPM', 'Value': 756.25, 'Units': 'revolutions_per_minute', 'Cmd': 'Engine RPM'}\n",
      "{'Timestamp': 1676511254.1725311, 'ChannelName': 'Speed', 'Value': 0.0, 'Units': 'kph', 'Cmd': 'Vehicle Speed'}\n",
      "{'Timestamp': 1676511254.1725311, 'ChannelName': 'EngineLoad', 'Value': 16.862745098039216, 'Units': 'percent', 'Cmd': 'Calculated Engine Load'}\n",
      "{'Timestamp': 1676511254.1725311, 'ChannelName': 'CoolantTemp', 'Value': 73.0, 'Units': 'degC', 'Cmd': 'Engine Coolant Temperature'}\n",
      "{'Timestamp': 1676511254.1725311, 'ChannelName': 'IntakeTemp', 'Value': 6.0, 'Units': 'degC', 'Cmd': 'Intake Air Temp'}\n",
      "{'Timestamp': 1676511254.1725311, 'ChannelName': 'FuelLevel', 'Value': 70.98039215686275, 'Units': 'percent', 'Cmd': 'Fuel Level Input'}\n",
      "{'Timestamp': 1676511254.1725311, 'ChannelName': 'AmbientTemp', 'Value': 6.0, 'Units': 'degC', 'Cmd': 'Ambient air temperature'}\n",
      "{'Timestamp': 1676511254.1725311, 'ChannelName': 'EngineOilTemp', 'Value': 63.0, 'Units': 'degC', 'Cmd': 'Engine oil temperature'}\n",
      "FuelRate is not supported\n"
     ]
    },
    {
     "name": "stderr",
     "output_type": "stream",
     "text": [
      "[obd.obd] 'b'015E': Engine fuel rate' is not supported\n"
     ]
    },
    {
     "name": "stdout",
     "output_type": "stream",
     "text": [
      "{'Timestamp': 1676511255.3090794, 'ChannelName': 'RPM', 'Value': 753.0, 'Units': 'revolutions_per_minute', 'Cmd': 'Engine RPM'}\n",
      "{'Timestamp': 1676511255.3090794, 'ChannelName': 'Speed', 'Value': 0.0, 'Units': 'kph', 'Cmd': 'Vehicle Speed'}\n",
      "{'Timestamp': 1676511255.3090794, 'ChannelName': 'EngineLoad', 'Value': 16.862745098039216, 'Units': 'percent', 'Cmd': 'Calculated Engine Load'}\n",
      "{'Timestamp': 1676511255.3090794, 'ChannelName': 'CoolantTemp', 'Value': 73.0, 'Units': 'degC', 'Cmd': 'Engine Coolant Temperature'}\n",
      "{'Timestamp': 1676511255.3090794, 'ChannelName': 'IntakeTemp', 'Value': 6.0, 'Units': 'degC', 'Cmd': 'Intake Air Temp'}\n",
      "{'Timestamp': 1676511255.3090794, 'ChannelName': 'FuelLevel', 'Value': 70.98039215686275, 'Units': 'percent', 'Cmd': 'Fuel Level Input'}\n",
      "{'Timestamp': 1676511255.3090794, 'ChannelName': 'AmbientTemp', 'Value': 6.0, 'Units': 'degC', 'Cmd': 'Ambient air temperature'}\n",
      "{'Timestamp': 1676511255.3090794, 'ChannelName': 'EngineOilTemp', 'Value': 63.0, 'Units': 'degC', 'Cmd': 'Engine oil temperature'}\n",
      "FuelRate is not supported\n"
     ]
    },
    {
     "name": "stderr",
     "output_type": "stream",
     "text": [
      "[obd.obd] 'b'015E': Engine fuel rate' is not supported\n"
     ]
    },
    {
     "name": "stdout",
     "output_type": "stream",
     "text": [
      "{'Timestamp': 1676511256.4455657, 'ChannelName': 'RPM', 'Value': 749.0, 'Units': 'revolutions_per_minute', 'Cmd': 'Engine RPM'}\n",
      "{'Timestamp': 1676511256.4455657, 'ChannelName': 'Speed', 'Value': 0.0, 'Units': 'kph', 'Cmd': 'Vehicle Speed'}\n",
      "{'Timestamp': 1676511256.4455657, 'ChannelName': 'EngineLoad', 'Value': 16.862745098039216, 'Units': 'percent', 'Cmd': 'Calculated Engine Load'}\n",
      "{'Timestamp': 1676511256.4455657, 'ChannelName': 'CoolantTemp', 'Value': 73.0, 'Units': 'degC', 'Cmd': 'Engine Coolant Temperature'}\n",
      "{'Timestamp': 1676511256.4455657, 'ChannelName': 'IntakeTemp', 'Value': 6.0, 'Units': 'degC', 'Cmd': 'Intake Air Temp'}\n",
      "{'Timestamp': 1676511256.4455657, 'ChannelName': 'FuelLevel', 'Value': 70.98039215686275, 'Units': 'percent', 'Cmd': 'Fuel Level Input'}\n",
      "{'Timestamp': 1676511256.4455657, 'ChannelName': 'AmbientTemp', 'Value': 6.0, 'Units': 'degC', 'Cmd': 'Ambient air temperature'}\n",
      "{'Timestamp': 1676511256.4455657, 'ChannelName': 'EngineOilTemp', 'Value': 63.0, 'Units': 'degC', 'Cmd': 'Engine oil temperature'}\n",
      "FuelRate is not supported\n"
     ]
    },
    {
     "name": "stderr",
     "output_type": "stream",
     "text": [
      "[obd.obd] 'b'015E': Engine fuel rate' is not supported\n"
     ]
    },
    {
     "name": "stdout",
     "output_type": "stream",
     "text": [
      "{'Timestamp': 1676511257.5816424, 'ChannelName': 'RPM', 'Value': 750.75, 'Units': 'revolutions_per_minute', 'Cmd': 'Engine RPM'}\n",
      "{'Timestamp': 1676511257.5816424, 'ChannelName': 'Speed', 'Value': 0.0, 'Units': 'kph', 'Cmd': 'Vehicle Speed'}\n",
      "{'Timestamp': 1676511257.5816424, 'ChannelName': 'EngineLoad', 'Value': 16.862745098039216, 'Units': 'percent', 'Cmd': 'Calculated Engine Load'}\n",
      "{'Timestamp': 1676511257.5816424, 'ChannelName': 'CoolantTemp', 'Value': 73.0, 'Units': 'degC', 'Cmd': 'Engine Coolant Temperature'}\n",
      "{'Timestamp': 1676511257.5816424, 'ChannelName': 'IntakeTemp', 'Value': 6.0, 'Units': 'degC', 'Cmd': 'Intake Air Temp'}\n",
      "{'Timestamp': 1676511257.5816424, 'ChannelName': 'FuelLevel', 'Value': 70.98039215686275, 'Units': 'percent', 'Cmd': 'Fuel Level Input'}\n",
      "{'Timestamp': 1676511257.5816424, 'ChannelName': 'AmbientTemp', 'Value': 6.0, 'Units': 'degC', 'Cmd': 'Ambient air temperature'}\n",
      "{'Timestamp': 1676511257.5816424, 'ChannelName': 'EngineOilTemp', 'Value': 63.0, 'Units': 'degC', 'Cmd': 'Engine oil temperature'}\n",
      "FuelRate is not supported\n"
     ]
    },
    {
     "name": "stderr",
     "output_type": "stream",
     "text": [
      "[obd.obd] 'b'015E': Engine fuel rate' is not supported\n"
     ]
    },
    {
     "name": "stdout",
     "output_type": "stream",
     "text": [
      "{'Timestamp': 1676511258.717855, 'ChannelName': 'RPM', 'Value': 753.0, 'Units': 'revolutions_per_minute', 'Cmd': 'Engine RPM'}\n",
      "{'Timestamp': 1676511258.717855, 'ChannelName': 'Speed', 'Value': 0.0, 'Units': 'kph', 'Cmd': 'Vehicle Speed'}\n",
      "{'Timestamp': 1676511258.717855, 'ChannelName': 'EngineLoad', 'Value': 16.862745098039216, 'Units': 'percent', 'Cmd': 'Calculated Engine Load'}\n",
      "{'Timestamp': 1676511258.717855, 'ChannelName': 'CoolantTemp', 'Value': 73.0, 'Units': 'degC', 'Cmd': 'Engine Coolant Temperature'}\n",
      "{'Timestamp': 1676511258.717855, 'ChannelName': 'IntakeTemp', 'Value': 6.0, 'Units': 'degC', 'Cmd': 'Intake Air Temp'}\n",
      "{'Timestamp': 1676511258.717855, 'ChannelName': 'FuelLevel', 'Value': 70.98039215686275, 'Units': 'percent', 'Cmd': 'Fuel Level Input'}\n",
      "{'Timestamp': 1676511258.717855, 'ChannelName': 'AmbientTemp', 'Value': 6.0, 'Units': 'degC', 'Cmd': 'Ambient air temperature'}\n",
      "{'Timestamp': 1676511258.717855, 'ChannelName': 'EngineOilTemp', 'Value': 63.0, 'Units': 'degC', 'Cmd': 'Engine oil temperature'}\n",
      "FuelRate is not supported\n"
     ]
    },
    {
     "name": "stderr",
     "output_type": "stream",
     "text": [
      "[obd.obd] 'b'015E': Engine fuel rate' is not supported\n"
     ]
    },
    {
     "name": "stdout",
     "output_type": "stream",
     "text": [
      "{'Timestamp': 1676511259.8549547, 'ChannelName': 'RPM', 'Value': 752.25, 'Units': 'revolutions_per_minute', 'Cmd': 'Engine RPM'}\n",
      "{'Timestamp': 1676511259.8549547, 'ChannelName': 'Speed', 'Value': 0.0, 'Units': 'kph', 'Cmd': 'Vehicle Speed'}\n",
      "{'Timestamp': 1676511259.8549547, 'ChannelName': 'EngineLoad', 'Value': 16.862745098039216, 'Units': 'percent', 'Cmd': 'Calculated Engine Load'}\n",
      "{'Timestamp': 1676511259.8549547, 'ChannelName': 'CoolantTemp', 'Value': 73.0, 'Units': 'degC', 'Cmd': 'Engine Coolant Temperature'}\n",
      "{'Timestamp': 1676511259.8549547, 'ChannelName': 'IntakeTemp', 'Value': 6.0, 'Units': 'degC', 'Cmd': 'Intake Air Temp'}\n",
      "{'Timestamp': 1676511259.8549547, 'ChannelName': 'FuelLevel', 'Value': 70.98039215686275, 'Units': 'percent', 'Cmd': 'Fuel Level Input'}\n",
      "{'Timestamp': 1676511259.8549547, 'ChannelName': 'AmbientTemp', 'Value': 6.0, 'Units': 'degC', 'Cmd': 'Ambient air temperature'}\n",
      "{'Timestamp': 1676511259.8549547, 'ChannelName': 'EngineOilTemp', 'Value': 63.0, 'Units': 'degC', 'Cmd': 'Engine oil temperature'}\n",
      "FuelRate is not supported\n"
     ]
    },
    {
     "name": "stderr",
     "output_type": "stream",
     "text": [
      "[obd.obd] 'b'015E': Engine fuel rate' is not supported\n"
     ]
    },
    {
     "name": "stdout",
     "output_type": "stream",
     "text": [
      "{'Timestamp': 1676511260.9917378, 'ChannelName': 'RPM', 'Value': 753.0, 'Units': 'revolutions_per_minute', 'Cmd': 'Engine RPM'}\n",
      "{'Timestamp': 1676511260.9917378, 'ChannelName': 'Speed', 'Value': 0.0, 'Units': 'kph', 'Cmd': 'Vehicle Speed'}\n",
      "{'Timestamp': 1676511260.9917378, 'ChannelName': 'EngineLoad', 'Value': 16.862745098039216, 'Units': 'percent', 'Cmd': 'Calculated Engine Load'}\n",
      "{'Timestamp': 1676511260.9917378, 'ChannelName': 'CoolantTemp', 'Value': 73.0, 'Units': 'degC', 'Cmd': 'Engine Coolant Temperature'}\n",
      "{'Timestamp': 1676511260.9917378, 'ChannelName': 'IntakeTemp', 'Value': 6.0, 'Units': 'degC', 'Cmd': 'Intake Air Temp'}\n",
      "{'Timestamp': 1676511260.9917378, 'ChannelName': 'FuelLevel', 'Value': 70.98039215686275, 'Units': 'percent', 'Cmd': 'Fuel Level Input'}\n",
      "{'Timestamp': 1676511260.9917378, 'ChannelName': 'AmbientTemp', 'Value': 6.0, 'Units': 'degC', 'Cmd': 'Ambient air temperature'}\n",
      "{'Timestamp': 1676511260.9917378, 'ChannelName': 'EngineOilTemp', 'Value': 63.0, 'Units': 'degC', 'Cmd': 'Engine oil temperature'}\n",
      "FuelRate is not supported\n"
     ]
    },
    {
     "name": "stderr",
     "output_type": "stream",
     "text": [
      "[obd.obd] 'b'015E': Engine fuel rate' is not supported\n"
     ]
    },
    {
     "name": "stdout",
     "output_type": "stream",
     "text": [
      "{'Timestamp': 1676511262.1270788, 'ChannelName': 'RPM', 'Value': 751.5, 'Units': 'revolutions_per_minute', 'Cmd': 'Engine RPM'}\n",
      "{'Timestamp': 1676511262.1270788, 'ChannelName': 'Speed', 'Value': 0.0, 'Units': 'kph', 'Cmd': 'Vehicle Speed'}\n",
      "{'Timestamp': 1676511262.1270788, 'ChannelName': 'EngineLoad', 'Value': 16.862745098039216, 'Units': 'percent', 'Cmd': 'Calculated Engine Load'}\n",
      "{'Timestamp': 1676511262.1270788, 'ChannelName': 'CoolantTemp', 'Value': 73.0, 'Units': 'degC', 'Cmd': 'Engine Coolant Temperature'}\n",
      "{'Timestamp': 1676511262.1270788, 'ChannelName': 'IntakeTemp', 'Value': 6.0, 'Units': 'degC', 'Cmd': 'Intake Air Temp'}\n",
      "{'Timestamp': 1676511262.1270788, 'ChannelName': 'FuelLevel', 'Value': 70.98039215686275, 'Units': 'percent', 'Cmd': 'Fuel Level Input'}\n",
      "{'Timestamp': 1676511262.1270788, 'ChannelName': 'AmbientTemp', 'Value': 6.0, 'Units': 'degC', 'Cmd': 'Ambient air temperature'}\n",
      "{'Timestamp': 1676511262.1270788, 'ChannelName': 'EngineOilTemp', 'Value': 63.0, 'Units': 'degC', 'Cmd': 'Engine oil temperature'}\n",
      "FuelRate is not supported\n"
     ]
    },
    {
     "name": "stderr",
     "output_type": "stream",
     "text": [
      "[obd.obd] 'b'015E': Engine fuel rate' is not supported\n"
     ]
    },
    {
     "name": "stdout",
     "output_type": "stream",
     "text": [
      "{'Timestamp': 1676511263.262805, 'ChannelName': 'RPM', 'Value': 753.0, 'Units': 'revolutions_per_minute', 'Cmd': 'Engine RPM'}\n",
      "{'Timestamp': 1676511263.262805, 'ChannelName': 'Speed', 'Value': 0.0, 'Units': 'kph', 'Cmd': 'Vehicle Speed'}\n",
      "{'Timestamp': 1676511263.262805, 'ChannelName': 'EngineLoad', 'Value': 16.862745098039216, 'Units': 'percent', 'Cmd': 'Calculated Engine Load'}\n",
      "{'Timestamp': 1676511263.262805, 'ChannelName': 'CoolantTemp', 'Value': 73.0, 'Units': 'degC', 'Cmd': 'Engine Coolant Temperature'}\n",
      "{'Timestamp': 1676511263.262805, 'ChannelName': 'IntakeTemp', 'Value': 6.0, 'Units': 'degC', 'Cmd': 'Intake Air Temp'}\n",
      "{'Timestamp': 1676511263.262805, 'ChannelName': 'FuelLevel', 'Value': 70.98039215686275, 'Units': 'percent', 'Cmd': 'Fuel Level Input'}\n",
      "{'Timestamp': 1676511263.262805, 'ChannelName': 'AmbientTemp', 'Value': 6.0, 'Units': 'degC', 'Cmd': 'Ambient air temperature'}\n",
      "{'Timestamp': 1676511263.262805, 'ChannelName': 'EngineOilTemp', 'Value': 63.0, 'Units': 'degC', 'Cmd': 'Engine oil temperature'}\n",
      "FuelRate is not supported\n"
     ]
    },
    {
     "name": "stderr",
     "output_type": "stream",
     "text": [
      "[obd.obd] 'b'015E': Engine fuel rate' is not supported\n"
     ]
    },
    {
     "name": "stdout",
     "output_type": "stream",
     "text": [
      "{'Timestamp': 1676511264.3999467, 'ChannelName': 'RPM', 'Value': 750.0, 'Units': 'revolutions_per_minute', 'Cmd': 'Engine RPM'}\n",
      "{'Timestamp': 1676511264.3999467, 'ChannelName': 'Speed', 'Value': 0.0, 'Units': 'kph', 'Cmd': 'Vehicle Speed'}\n",
      "{'Timestamp': 1676511264.3999467, 'ChannelName': 'EngineLoad', 'Value': 16.862745098039216, 'Units': 'percent', 'Cmd': 'Calculated Engine Load'}\n",
      "{'Timestamp': 1676511264.3999467, 'ChannelName': 'CoolantTemp', 'Value': 73.0, 'Units': 'degC', 'Cmd': 'Engine Coolant Temperature'}\n",
      "{'Timestamp': 1676511264.3999467, 'ChannelName': 'IntakeTemp', 'Value': 6.0, 'Units': 'degC', 'Cmd': 'Intake Air Temp'}\n",
      "{'Timestamp': 1676511264.3999467, 'ChannelName': 'FuelLevel', 'Value': 70.98039215686275, 'Units': 'percent', 'Cmd': 'Fuel Level Input'}\n",
      "{'Timestamp': 1676511264.3999467, 'ChannelName': 'AmbientTemp', 'Value': 6.0, 'Units': 'degC', 'Cmd': 'Ambient air temperature'}\n",
      "{'Timestamp': 1676511264.3999467, 'ChannelName': 'EngineOilTemp', 'Value': 63.0, 'Units': 'degC', 'Cmd': 'Engine oil temperature'}\n",
      "FuelRate is not supported\n"
     ]
    },
    {
     "name": "stderr",
     "output_type": "stream",
     "text": [
      "[obd.obd] 'b'015E': Engine fuel rate' is not supported\n"
     ]
    },
    {
     "name": "stdout",
     "output_type": "stream",
     "text": [
      "{'Timestamp': 1676511265.5436745, 'ChannelName': 'RPM', 'Value': 739.75, 'Units': 'revolutions_per_minute', 'Cmd': 'Engine RPM'}\n",
      "{'Timestamp': 1676511265.5436745, 'ChannelName': 'Speed', 'Value': 0.0, 'Units': 'kph', 'Cmd': 'Vehicle Speed'}\n",
      "{'Timestamp': 1676511265.5436745, 'ChannelName': 'EngineLoad', 'Value': 16.862745098039216, 'Units': 'percent', 'Cmd': 'Calculated Engine Load'}\n",
      "{'Timestamp': 1676511265.5436745, 'ChannelName': 'CoolantTemp', 'Value': 73.0, 'Units': 'degC', 'Cmd': 'Engine Coolant Temperature'}\n",
      "{'Timestamp': 1676511265.5436745, 'ChannelName': 'IntakeTemp', 'Value': 6.0, 'Units': 'degC', 'Cmd': 'Intake Air Temp'}\n",
      "{'Timestamp': 1676511265.5436745, 'ChannelName': 'FuelLevel', 'Value': 70.98039215686275, 'Units': 'percent', 'Cmd': 'Fuel Level Input'}\n",
      "{'Timestamp': 1676511265.5436745, 'ChannelName': 'AmbientTemp', 'Value': 6.0, 'Units': 'degC', 'Cmd': 'Ambient air temperature'}\n",
      "{'Timestamp': 1676511265.5436745, 'ChannelName': 'EngineOilTemp', 'Value': 63.0, 'Units': 'degC', 'Cmd': 'Engine oil temperature'}\n",
      "FuelRate is not supported\n"
     ]
    },
    {
     "name": "stderr",
     "output_type": "stream",
     "text": [
      "[obd.obd] 'b'015E': Engine fuel rate' is not supported\n"
     ]
    },
    {
     "name": "stdout",
     "output_type": "stream",
     "text": [
      "{'Timestamp': 1676511266.6719558, 'ChannelName': 'RPM', 'Value': 751.5, 'Units': 'revolutions_per_minute', 'Cmd': 'Engine RPM'}\n",
      "{'Timestamp': 1676511266.6719558, 'ChannelName': 'Speed', 'Value': 0.0, 'Units': 'kph', 'Cmd': 'Vehicle Speed'}\n",
      "{'Timestamp': 1676511266.6719558, 'ChannelName': 'EngineLoad', 'Value': 16.862745098039216, 'Units': 'percent', 'Cmd': 'Calculated Engine Load'}\n",
      "{'Timestamp': 1676511266.6719558, 'ChannelName': 'CoolantTemp', 'Value': 73.0, 'Units': 'degC', 'Cmd': 'Engine Coolant Temperature'}\n",
      "{'Timestamp': 1676511266.6719558, 'ChannelName': 'IntakeTemp', 'Value': 6.0, 'Units': 'degC', 'Cmd': 'Intake Air Temp'}\n",
      "{'Timestamp': 1676511266.6719558, 'ChannelName': 'FuelLevel', 'Value': 70.98039215686275, 'Units': 'percent', 'Cmd': 'Fuel Level Input'}\n",
      "{'Timestamp': 1676511266.6719558, 'ChannelName': 'AmbientTemp', 'Value': 6.0, 'Units': 'degC', 'Cmd': 'Ambient air temperature'}\n",
      "{'Timestamp': 1676511266.6719558, 'ChannelName': 'EngineOilTemp', 'Value': 63.0, 'Units': 'degC', 'Cmd': 'Engine oil temperature'}\n",
      "FuelRate is not supported\n"
     ]
    },
    {
     "name": "stderr",
     "output_type": "stream",
     "text": [
      "[obd.obd] 'b'015E': Engine fuel rate' is not supported\n"
     ]
    },
    {
     "name": "stdout",
     "output_type": "stream",
     "text": [
      "{'Timestamp': 1676511267.8082056, 'ChannelName': 'RPM', 'Value': 750.0, 'Units': 'revolutions_per_minute', 'Cmd': 'Engine RPM'}\n",
      "{'Timestamp': 1676511267.8082056, 'ChannelName': 'Speed', 'Value': 0.0, 'Units': 'kph', 'Cmd': 'Vehicle Speed'}\n",
      "{'Timestamp': 1676511267.8082056, 'ChannelName': 'EngineLoad', 'Value': 16.862745098039216, 'Units': 'percent', 'Cmd': 'Calculated Engine Load'}\n",
      "{'Timestamp': 1676511267.8082056, 'ChannelName': 'CoolantTemp', 'Value': 73.0, 'Units': 'degC', 'Cmd': 'Engine Coolant Temperature'}\n",
      "{'Timestamp': 1676511267.8082056, 'ChannelName': 'IntakeTemp', 'Value': 6.0, 'Units': 'degC', 'Cmd': 'Intake Air Temp'}\n",
      "{'Timestamp': 1676511267.8082056, 'ChannelName': 'FuelLevel', 'Value': 70.98039215686275, 'Units': 'percent', 'Cmd': 'Fuel Level Input'}\n",
      "{'Timestamp': 1676511267.8082056, 'ChannelName': 'AmbientTemp', 'Value': 6.0, 'Units': 'degC', 'Cmd': 'Ambient air temperature'}\n",
      "{'Timestamp': 1676511267.8082056, 'ChannelName': 'EngineOilTemp', 'Value': 63.0, 'Units': 'degC', 'Cmd': 'Engine oil temperature'}\n",
      "FuelRate is not supported\n"
     ]
    },
    {
     "name": "stderr",
     "output_type": "stream",
     "text": [
      "[obd.obd] 'b'015E': Engine fuel rate' is not supported\n"
     ]
    },
    {
     "name": "stdout",
     "output_type": "stream",
     "text": [
      "{'Timestamp': 1676511268.9453948, 'ChannelName': 'RPM', 'Value': 743.75, 'Units': 'revolutions_per_minute', 'Cmd': 'Engine RPM'}\n",
      "{'Timestamp': 1676511268.9453948, 'ChannelName': 'Speed', 'Value': 0.0, 'Units': 'kph', 'Cmd': 'Vehicle Speed'}\n",
      "{'Timestamp': 1676511268.9453948, 'ChannelName': 'EngineLoad', 'Value': 16.862745098039216, 'Units': 'percent', 'Cmd': 'Calculated Engine Load'}\n",
      "{'Timestamp': 1676511268.9453948, 'ChannelName': 'CoolantTemp', 'Value': 73.0, 'Units': 'degC', 'Cmd': 'Engine Coolant Temperature'}\n",
      "{'Timestamp': 1676511268.9453948, 'ChannelName': 'IntakeTemp', 'Value': 6.0, 'Units': 'degC', 'Cmd': 'Intake Air Temp'}\n",
      "{'Timestamp': 1676511268.9453948, 'ChannelName': 'FuelLevel', 'Value': 70.98039215686275, 'Units': 'percent', 'Cmd': 'Fuel Level Input'}\n",
      "{'Timestamp': 1676511268.9453948, 'ChannelName': 'AmbientTemp', 'Value': 6.0, 'Units': 'degC', 'Cmd': 'Ambient air temperature'}\n",
      "{'Timestamp': 1676511268.9453948, 'ChannelName': 'EngineOilTemp', 'Value': 63.0, 'Units': 'degC', 'Cmd': 'Engine oil temperature'}\n",
      "FuelRate is not supported\n"
     ]
    },
    {
     "name": "stderr",
     "output_type": "stream",
     "text": [
      "[obd.obd] 'b'015E': Engine fuel rate' is not supported\n"
     ]
    },
    {
     "name": "stdout",
     "output_type": "stream",
     "text": [
      "{'Timestamp': 1676511270.0810852, 'ChannelName': 'RPM', 'Value': 753.0, 'Units': 'revolutions_per_minute', 'Cmd': 'Engine RPM'}\n",
      "{'Timestamp': 1676511270.0810852, 'ChannelName': 'Speed', 'Value': 0.0, 'Units': 'kph', 'Cmd': 'Vehicle Speed'}\n",
      "{'Timestamp': 1676511270.0810852, 'ChannelName': 'EngineLoad', 'Value': 16.862745098039216, 'Units': 'percent', 'Cmd': 'Calculated Engine Load'}\n",
      "{'Timestamp': 1676511270.0810852, 'ChannelName': 'CoolantTemp', 'Value': 73.0, 'Units': 'degC', 'Cmd': 'Engine Coolant Temperature'}\n",
      "{'Timestamp': 1676511270.0810852, 'ChannelName': 'IntakeTemp', 'Value': 6.0, 'Units': 'degC', 'Cmd': 'Intake Air Temp'}\n",
      "{'Timestamp': 1676511270.0810852, 'ChannelName': 'FuelLevel', 'Value': 70.98039215686275, 'Units': 'percent', 'Cmd': 'Fuel Level Input'}\n",
      "{'Timestamp': 1676511270.0810852, 'ChannelName': 'AmbientTemp', 'Value': 6.0, 'Units': 'degC', 'Cmd': 'Ambient air temperature'}\n",
      "{'Timestamp': 1676511270.0810852, 'ChannelName': 'EngineOilTemp', 'Value': 63.0, 'Units': 'degC', 'Cmd': 'Engine oil temperature'}\n",
      "FuelRate is not supported\n"
     ]
    },
    {
     "name": "stderr",
     "output_type": "stream",
     "text": [
      "[obd.obd] 'b'015E': Engine fuel rate' is not supported\n"
     ]
    },
    {
     "name": "stdout",
     "output_type": "stream",
     "text": [
      "{'Timestamp': 1676511271.216277, 'ChannelName': 'RPM', 'Value': 747.5, 'Units': 'revolutions_per_minute', 'Cmd': 'Engine RPM'}\n",
      "{'Timestamp': 1676511271.216277, 'ChannelName': 'Speed', 'Value': 0.0, 'Units': 'kph', 'Cmd': 'Vehicle Speed'}\n",
      "{'Timestamp': 1676511271.216277, 'ChannelName': 'EngineLoad', 'Value': 16.862745098039216, 'Units': 'percent', 'Cmd': 'Calculated Engine Load'}\n",
      "{'Timestamp': 1676511271.216277, 'ChannelName': 'CoolantTemp', 'Value': 73.0, 'Units': 'degC', 'Cmd': 'Engine Coolant Temperature'}\n",
      "{'Timestamp': 1676511271.216277, 'ChannelName': 'IntakeTemp', 'Value': 6.0, 'Units': 'degC', 'Cmd': 'Intake Air Temp'}\n",
      "{'Timestamp': 1676511271.216277, 'ChannelName': 'FuelLevel', 'Value': 70.98039215686275, 'Units': 'percent', 'Cmd': 'Fuel Level Input'}\n",
      "{'Timestamp': 1676511271.216277, 'ChannelName': 'AmbientTemp', 'Value': 6.0, 'Units': 'degC', 'Cmd': 'Ambient air temperature'}\n",
      "{'Timestamp': 1676511271.216277, 'ChannelName': 'EngineOilTemp', 'Value': 63.0, 'Units': 'degC', 'Cmd': 'Engine oil temperature'}\n",
      "FuelRate is not supported\n"
     ]
    },
    {
     "name": "stderr",
     "output_type": "stream",
     "text": [
      "[obd.obd] 'b'015E': Engine fuel rate' is not supported\n"
     ]
    },
    {
     "name": "stdout",
     "output_type": "stream",
     "text": [
      "{'Timestamp': 1676511272.3534436, 'ChannelName': 'RPM', 'Value': 748.25, 'Units': 'revolutions_per_minute', 'Cmd': 'Engine RPM'}\n",
      "{'Timestamp': 1676511272.3534436, 'ChannelName': 'Speed', 'Value': 0.0, 'Units': 'kph', 'Cmd': 'Vehicle Speed'}\n",
      "{'Timestamp': 1676511272.3534436, 'ChannelName': 'EngineLoad', 'Value': 16.862745098039216, 'Units': 'percent', 'Cmd': 'Calculated Engine Load'}\n",
      "{'Timestamp': 1676511272.3534436, 'ChannelName': 'CoolantTemp', 'Value': 73.0, 'Units': 'degC', 'Cmd': 'Engine Coolant Temperature'}\n",
      "{'Timestamp': 1676511272.3534436, 'ChannelName': 'IntakeTemp', 'Value': 6.0, 'Units': 'degC', 'Cmd': 'Intake Air Temp'}\n",
      "{'Timestamp': 1676511272.3534436, 'ChannelName': 'FuelLevel', 'Value': 70.98039215686275, 'Units': 'percent', 'Cmd': 'Fuel Level Input'}\n",
      "{'Timestamp': 1676511272.3534436, 'ChannelName': 'AmbientTemp', 'Value': 6.0, 'Units': 'degC', 'Cmd': 'Ambient air temperature'}\n",
      "{'Timestamp': 1676511272.3534436, 'ChannelName': 'EngineOilTemp', 'Value': 63.0, 'Units': 'degC', 'Cmd': 'Engine oil temperature'}\n",
      "FuelRate is not supported\n"
     ]
    },
    {
     "name": "stderr",
     "output_type": "stream",
     "text": [
      "[obd.obd] 'b'015E': Engine fuel rate' is not supported\n"
     ]
    },
    {
     "name": "stdout",
     "output_type": "stream",
     "text": [
      "{'Timestamp': 1676511273.4893208, 'ChannelName': 'RPM', 'Value': 745.25, 'Units': 'revolutions_per_minute', 'Cmd': 'Engine RPM'}\n",
      "{'Timestamp': 1676511273.4893208, 'ChannelName': 'Speed', 'Value': 0.0, 'Units': 'kph', 'Cmd': 'Vehicle Speed'}\n",
      "{'Timestamp': 1676511273.4893208, 'ChannelName': 'EngineLoad', 'Value': 16.862745098039216, 'Units': 'percent', 'Cmd': 'Calculated Engine Load'}\n",
      "{'Timestamp': 1676511273.4893208, 'ChannelName': 'CoolantTemp', 'Value': 73.0, 'Units': 'degC', 'Cmd': 'Engine Coolant Temperature'}\n",
      "{'Timestamp': 1676511273.4893208, 'ChannelName': 'IntakeTemp', 'Value': 6.0, 'Units': 'degC', 'Cmd': 'Intake Air Temp'}\n",
      "{'Timestamp': 1676511273.4893208, 'ChannelName': 'FuelLevel', 'Value': 70.98039215686275, 'Units': 'percent', 'Cmd': 'Fuel Level Input'}\n",
      "{'Timestamp': 1676511273.4893208, 'ChannelName': 'AmbientTemp', 'Value': 6.0, 'Units': 'degC', 'Cmd': 'Ambient air temperature'}\n",
      "{'Timestamp': 1676511273.4893208, 'ChannelName': 'EngineOilTemp', 'Value': 63.0, 'Units': 'degC', 'Cmd': 'Engine oil temperature'}\n",
      "FuelRate is not supported\n"
     ]
    },
    {
     "name": "stderr",
     "output_type": "stream",
     "text": [
      "[obd.obd] 'b'015E': Engine fuel rate' is not supported\n"
     ]
    },
    {
     "name": "stdout",
     "output_type": "stream",
     "text": [
      "{'Timestamp': 1676511274.6250486, 'ChannelName': 'RPM', 'Value': 745.25, 'Units': 'revolutions_per_minute', 'Cmd': 'Engine RPM'}\n",
      "{'Timestamp': 1676511274.6250486, 'ChannelName': 'Speed', 'Value': 0.0, 'Units': 'kph', 'Cmd': 'Vehicle Speed'}\n",
      "{'Timestamp': 1676511274.6250486, 'ChannelName': 'EngineLoad', 'Value': 16.862745098039216, 'Units': 'percent', 'Cmd': 'Calculated Engine Load'}\n",
      "{'Timestamp': 1676511274.6250486, 'ChannelName': 'CoolantTemp', 'Value': 73.0, 'Units': 'degC', 'Cmd': 'Engine Coolant Temperature'}\n",
      "{'Timestamp': 1676511274.6250486, 'ChannelName': 'IntakeTemp', 'Value': 6.0, 'Units': 'degC', 'Cmd': 'Intake Air Temp'}\n",
      "{'Timestamp': 1676511274.6250486, 'ChannelName': 'FuelLevel', 'Value': 70.98039215686275, 'Units': 'percent', 'Cmd': 'Fuel Level Input'}\n",
      "{'Timestamp': 1676511274.6250486, 'ChannelName': 'AmbientTemp', 'Value': 6.0, 'Units': 'degC', 'Cmd': 'Ambient air temperature'}\n",
      "{'Timestamp': 1676511274.6250486, 'ChannelName': 'EngineOilTemp', 'Value': 63.0, 'Units': 'degC', 'Cmd': 'Engine oil temperature'}\n",
      "FuelRate is not supported\n"
     ]
    },
    {
     "name": "stderr",
     "output_type": "stream",
     "text": [
      "[obd.obd] 'b'015E': Engine fuel rate' is not supported\n"
     ]
    },
    {
     "name": "stdout",
     "output_type": "stream",
     "text": [
      "{'Timestamp': 1676511275.7614725, 'ChannelName': 'RPM', 'Value': 746.0, 'Units': 'revolutions_per_minute', 'Cmd': 'Engine RPM'}\n",
      "{'Timestamp': 1676511275.7614725, 'ChannelName': 'Speed', 'Value': 0.0, 'Units': 'kph', 'Cmd': 'Vehicle Speed'}\n",
      "{'Timestamp': 1676511275.7614725, 'ChannelName': 'EngineLoad', 'Value': 16.862745098039216, 'Units': 'percent', 'Cmd': 'Calculated Engine Load'}\n",
      "{'Timestamp': 1676511275.7614725, 'ChannelName': 'CoolantTemp', 'Value': 73.0, 'Units': 'degC', 'Cmd': 'Engine Coolant Temperature'}\n",
      "{'Timestamp': 1676511275.7614725, 'ChannelName': 'IntakeTemp', 'Value': 6.0, 'Units': 'degC', 'Cmd': 'Intake Air Temp'}\n",
      "{'Timestamp': 1676511275.7614725, 'ChannelName': 'FuelLevel', 'Value': 70.98039215686275, 'Units': 'percent', 'Cmd': 'Fuel Level Input'}\n",
      "{'Timestamp': 1676511275.7614725, 'ChannelName': 'AmbientTemp', 'Value': 6.0, 'Units': 'degC', 'Cmd': 'Ambient air temperature'}\n",
      "{'Timestamp': 1676511275.7614725, 'ChannelName': 'EngineOilTemp', 'Value': 63.0, 'Units': 'degC', 'Cmd': 'Engine oil temperature'}\n",
      "FuelRate is not supported\n"
     ]
    },
    {
     "name": "stderr",
     "output_type": "stream",
     "text": [
      "[obd.obd] 'b'015E': Engine fuel rate' is not supported\n"
     ]
    },
    {
     "name": "stdout",
     "output_type": "stream",
     "text": [
      "{'Timestamp': 1676511276.898082, 'ChannelName': 'RPM', 'Value': 745.25, 'Units': 'revolutions_per_minute', 'Cmd': 'Engine RPM'}\n",
      "{'Timestamp': 1676511276.898082, 'ChannelName': 'Speed', 'Value': 0.0, 'Units': 'kph', 'Cmd': 'Vehicle Speed'}\n",
      "{'Timestamp': 1676511276.898082, 'ChannelName': 'EngineLoad', 'Value': 16.862745098039216, 'Units': 'percent', 'Cmd': 'Calculated Engine Load'}\n",
      "{'Timestamp': 1676511276.898082, 'ChannelName': 'CoolantTemp', 'Value': 73.0, 'Units': 'degC', 'Cmd': 'Engine Coolant Temperature'}\n",
      "{'Timestamp': 1676511276.898082, 'ChannelName': 'IntakeTemp', 'Value': 6.0, 'Units': 'degC', 'Cmd': 'Intake Air Temp'}\n",
      "{'Timestamp': 1676511276.898082, 'ChannelName': 'FuelLevel', 'Value': 70.98039215686275, 'Units': 'percent', 'Cmd': 'Fuel Level Input'}\n",
      "{'Timestamp': 1676511276.898082, 'ChannelName': 'AmbientTemp', 'Value': 6.0, 'Units': 'degC', 'Cmd': 'Ambient air temperature'}\n",
      "{'Timestamp': 1676511276.898082, 'ChannelName': 'EngineOilTemp', 'Value': 63.0, 'Units': 'degC', 'Cmd': 'Engine oil temperature'}\n",
      "FuelRate is not supported\n"
     ]
    },
    {
     "name": "stderr",
     "output_type": "stream",
     "text": [
      "[obd.obd] 'b'015E': Engine fuel rate' is not supported\n"
     ]
    },
    {
     "name": "stdout",
     "output_type": "stream",
     "text": [
      "{'Timestamp': 1676511278.03494, 'ChannelName': 'RPM', 'Value': 748.25, 'Units': 'revolutions_per_minute', 'Cmd': 'Engine RPM'}\n",
      "{'Timestamp': 1676511278.03494, 'ChannelName': 'Speed', 'Value': 0.0, 'Units': 'kph', 'Cmd': 'Vehicle Speed'}\n",
      "{'Timestamp': 1676511278.03494, 'ChannelName': 'EngineLoad', 'Value': 16.862745098039216, 'Units': 'percent', 'Cmd': 'Calculated Engine Load'}\n",
      "{'Timestamp': 1676511278.03494, 'ChannelName': 'CoolantTemp', 'Value': 73.0, 'Units': 'degC', 'Cmd': 'Engine Coolant Temperature'}\n",
      "{'Timestamp': 1676511278.03494, 'ChannelName': 'IntakeTemp', 'Value': 6.0, 'Units': 'degC', 'Cmd': 'Intake Air Temp'}\n",
      "{'Timestamp': 1676511278.03494, 'ChannelName': 'FuelLevel', 'Value': 70.98039215686275, 'Units': 'percent', 'Cmd': 'Fuel Level Input'}\n",
      "{'Timestamp': 1676511278.03494, 'ChannelName': 'AmbientTemp', 'Value': 6.0, 'Units': 'degC', 'Cmd': 'Ambient air temperature'}\n",
      "{'Timestamp': 1676511278.03494, 'ChannelName': 'EngineOilTemp', 'Value': 63.0, 'Units': 'degC', 'Cmd': 'Engine oil temperature'}\n",
      "FuelRate is not supported\n"
     ]
    },
    {
     "name": "stderr",
     "output_type": "stream",
     "text": [
      "[obd.obd] 'b'015E': Engine fuel rate' is not supported\n"
     ]
    },
    {
     "name": "stdout",
     "output_type": "stream",
     "text": [
      "{'Timestamp': 1676511279.1700664, 'ChannelName': 'RPM', 'Value': 745.25, 'Units': 'revolutions_per_minute', 'Cmd': 'Engine RPM'}\n",
      "{'Timestamp': 1676511279.1700664, 'ChannelName': 'Speed', 'Value': 0.0, 'Units': 'kph', 'Cmd': 'Vehicle Speed'}\n",
      "{'Timestamp': 1676511279.1700664, 'ChannelName': 'EngineLoad', 'Value': 16.862745098039216, 'Units': 'percent', 'Cmd': 'Calculated Engine Load'}\n",
      "{'Timestamp': 1676511279.1700664, 'ChannelName': 'CoolantTemp', 'Value': 73.0, 'Units': 'degC', 'Cmd': 'Engine Coolant Temperature'}\n",
      "{'Timestamp': 1676511279.1700664, 'ChannelName': 'IntakeTemp', 'Value': 6.0, 'Units': 'degC', 'Cmd': 'Intake Air Temp'}\n",
      "{'Timestamp': 1676511279.1700664, 'ChannelName': 'FuelLevel', 'Value': 70.98039215686275, 'Units': 'percent', 'Cmd': 'Fuel Level Input'}\n",
      "{'Timestamp': 1676511279.1700664, 'ChannelName': 'AmbientTemp', 'Value': 6.0, 'Units': 'degC', 'Cmd': 'Ambient air temperature'}\n",
      "{'Timestamp': 1676511279.1700664, 'ChannelName': 'EngineOilTemp', 'Value': 63.0, 'Units': 'degC', 'Cmd': 'Engine oil temperature'}\n",
      "FuelRate is not supported\n"
     ]
    },
    {
     "name": "stderr",
     "output_type": "stream",
     "text": [
      "[obd.obd] 'b'015E': Engine fuel rate' is not supported\n"
     ]
    },
    {
     "name": "stdout",
     "output_type": "stream",
     "text": [
      "{'Timestamp': 1676511280.306502, 'ChannelName': 'RPM', 'Value': 748.25, 'Units': 'revolutions_per_minute', 'Cmd': 'Engine RPM'}\n",
      "{'Timestamp': 1676511280.306502, 'ChannelName': 'Speed', 'Value': 0.0, 'Units': 'kph', 'Cmd': 'Vehicle Speed'}\n",
      "{'Timestamp': 1676511280.306502, 'ChannelName': 'EngineLoad', 'Value': 16.862745098039216, 'Units': 'percent', 'Cmd': 'Calculated Engine Load'}\n",
      "{'Timestamp': 1676511280.306502, 'ChannelName': 'CoolantTemp', 'Value': 73.0, 'Units': 'degC', 'Cmd': 'Engine Coolant Temperature'}\n",
      "{'Timestamp': 1676511280.306502, 'ChannelName': 'IntakeTemp', 'Value': 6.0, 'Units': 'degC', 'Cmd': 'Intake Air Temp'}\n",
      "{'Timestamp': 1676511280.306502, 'ChannelName': 'FuelLevel', 'Value': 70.98039215686275, 'Units': 'percent', 'Cmd': 'Fuel Level Input'}\n",
      "{'Timestamp': 1676511280.306502, 'ChannelName': 'AmbientTemp', 'Value': 6.0, 'Units': 'degC', 'Cmd': 'Ambient air temperature'}\n",
      "{'Timestamp': 1676511280.306502, 'ChannelName': 'EngineOilTemp', 'Value': 63.0, 'Units': 'degC', 'Cmd': 'Engine oil temperature'}\n",
      "FuelRate is not supported\n"
     ]
    },
    {
     "name": "stderr",
     "output_type": "stream",
     "text": [
      "[obd.obd] 'b'015E': Engine fuel rate' is not supported\n"
     ]
    },
    {
     "name": "stdout",
     "output_type": "stream",
     "text": [
      "{'Timestamp': 1676511281.4426785, 'ChannelName': 'RPM', 'Value': 744.5, 'Units': 'revolutions_per_minute', 'Cmd': 'Engine RPM'}\n",
      "{'Timestamp': 1676511281.4426785, 'ChannelName': 'Speed', 'Value': 0.0, 'Units': 'kph', 'Cmd': 'Vehicle Speed'}\n",
      "{'Timestamp': 1676511281.4426785, 'ChannelName': 'EngineLoad', 'Value': 16.862745098039216, 'Units': 'percent', 'Cmd': 'Calculated Engine Load'}\n",
      "{'Timestamp': 1676511281.4426785, 'ChannelName': 'CoolantTemp', 'Value': 73.0, 'Units': 'degC', 'Cmd': 'Engine Coolant Temperature'}\n",
      "{'Timestamp': 1676511281.4426785, 'ChannelName': 'IntakeTemp', 'Value': 6.0, 'Units': 'degC', 'Cmd': 'Intake Air Temp'}\n",
      "{'Timestamp': 1676511281.4426785, 'ChannelName': 'FuelLevel', 'Value': 70.98039215686275, 'Units': 'percent', 'Cmd': 'Fuel Level Input'}\n",
      "{'Timestamp': 1676511281.4426785, 'ChannelName': 'AmbientTemp', 'Value': 6.0, 'Units': 'degC', 'Cmd': 'Ambient air temperature'}\n",
      "{'Timestamp': 1676511281.4426785, 'ChannelName': 'EngineOilTemp', 'Value': 63.0, 'Units': 'degC', 'Cmd': 'Engine oil temperature'}\n",
      "FuelRate is not supported\n"
     ]
    },
    {
     "name": "stderr",
     "output_type": "stream",
     "text": [
      "[obd.obd] 'b'015E': Engine fuel rate' is not supported\n"
     ]
    },
    {
     "name": "stdout",
     "output_type": "stream",
     "text": [
      "{'Timestamp': 1676511282.579332, 'ChannelName': 'RPM', 'Value': 746.75, 'Units': 'revolutions_per_minute', 'Cmd': 'Engine RPM'}\n",
      "{'Timestamp': 1676511282.579332, 'ChannelName': 'Speed', 'Value': 0.0, 'Units': 'kph', 'Cmd': 'Vehicle Speed'}\n",
      "{'Timestamp': 1676511282.579332, 'ChannelName': 'EngineLoad', 'Value': 16.862745098039216, 'Units': 'percent', 'Cmd': 'Calculated Engine Load'}\n",
      "{'Timestamp': 1676511282.579332, 'ChannelName': 'CoolantTemp', 'Value': 73.0, 'Units': 'degC', 'Cmd': 'Engine Coolant Temperature'}\n",
      "{'Timestamp': 1676511282.579332, 'ChannelName': 'IntakeTemp', 'Value': 6.0, 'Units': 'degC', 'Cmd': 'Intake Air Temp'}\n",
      "{'Timestamp': 1676511282.579332, 'ChannelName': 'FuelLevel', 'Value': 70.98039215686275, 'Units': 'percent', 'Cmd': 'Fuel Level Input'}\n",
      "{'Timestamp': 1676511282.579332, 'ChannelName': 'AmbientTemp', 'Value': 6.0, 'Units': 'degC', 'Cmd': 'Ambient air temperature'}\n",
      "{'Timestamp': 1676511282.579332, 'ChannelName': 'EngineOilTemp', 'Value': 63.0, 'Units': 'degC', 'Cmd': 'Engine oil temperature'}\n",
      "FuelRate is not supported\n"
     ]
    },
    {
     "name": "stderr",
     "output_type": "stream",
     "text": [
      "[obd.obd] 'b'015E': Engine fuel rate' is not supported\n"
     ]
    },
    {
     "name": "stdout",
     "output_type": "stream",
     "text": [
      "{'Timestamp': 1676511283.715955, 'ChannelName': 'RPM', 'Value': 744.5, 'Units': 'revolutions_per_minute', 'Cmd': 'Engine RPM'}\n",
      "{'Timestamp': 1676511283.715955, 'ChannelName': 'Speed', 'Value': 0.0, 'Units': 'kph', 'Cmd': 'Vehicle Speed'}\n",
      "{'Timestamp': 1676511283.715955, 'ChannelName': 'EngineLoad', 'Value': 16.862745098039216, 'Units': 'percent', 'Cmd': 'Calculated Engine Load'}\n",
      "{'Timestamp': 1676511283.715955, 'ChannelName': 'CoolantTemp', 'Value': 73.0, 'Units': 'degC', 'Cmd': 'Engine Coolant Temperature'}\n",
      "{'Timestamp': 1676511283.715955, 'ChannelName': 'IntakeTemp', 'Value': 6.0, 'Units': 'degC', 'Cmd': 'Intake Air Temp'}\n",
      "{'Timestamp': 1676511283.715955, 'ChannelName': 'FuelLevel', 'Value': 70.98039215686275, 'Units': 'percent', 'Cmd': 'Fuel Level Input'}\n",
      "{'Timestamp': 1676511283.715955, 'ChannelName': 'AmbientTemp', 'Value': 6.0, 'Units': 'degC', 'Cmd': 'Ambient air temperature'}\n",
      "{'Timestamp': 1676511283.715955, 'ChannelName': 'EngineOilTemp', 'Value': 63.0, 'Units': 'degC', 'Cmd': 'Engine oil temperature'}\n",
      "FuelRate is not supported\n"
     ]
    },
    {
     "name": "stderr",
     "output_type": "stream",
     "text": [
      "[obd.obd] 'b'015E': Engine fuel rate' is not supported\n"
     ]
    },
    {
     "name": "stdout",
     "output_type": "stream",
     "text": [
      "{'Timestamp': 1676511284.8519678, 'ChannelName': 'RPM', 'Value': 746.0, 'Units': 'revolutions_per_minute', 'Cmd': 'Engine RPM'}\n",
      "{'Timestamp': 1676511284.8519678, 'ChannelName': 'Speed', 'Value': 0.0, 'Units': 'kph', 'Cmd': 'Vehicle Speed'}\n",
      "{'Timestamp': 1676511284.8519678, 'ChannelName': 'EngineLoad', 'Value': 16.862745098039216, 'Units': 'percent', 'Cmd': 'Calculated Engine Load'}\n",
      "{'Timestamp': 1676511284.8519678, 'ChannelName': 'CoolantTemp', 'Value': 73.0, 'Units': 'degC', 'Cmd': 'Engine Coolant Temperature'}\n",
      "{'Timestamp': 1676511284.8519678, 'ChannelName': 'IntakeTemp', 'Value': 6.0, 'Units': 'degC', 'Cmd': 'Intake Air Temp'}\n",
      "{'Timestamp': 1676511284.8519678, 'ChannelName': 'FuelLevel', 'Value': 70.98039215686275, 'Units': 'percent', 'Cmd': 'Fuel Level Input'}\n",
      "{'Timestamp': 1676511284.8519678, 'ChannelName': 'AmbientTemp', 'Value': 6.0, 'Units': 'degC', 'Cmd': 'Ambient air temperature'}\n",
      "{'Timestamp': 1676511284.8519678, 'ChannelName': 'EngineOilTemp', 'Value': 63.0, 'Units': 'degC', 'Cmd': 'Engine oil temperature'}\n",
      "FuelRate is not supported\n"
     ]
    },
    {
     "name": "stderr",
     "output_type": "stream",
     "text": [
      "[obd.obd] 'b'015E': Engine fuel rate' is not supported\n"
     ]
    },
    {
     "name": "stdout",
     "output_type": "stream",
     "text": [
      "{'Timestamp': 1676511285.9890752, 'ChannelName': 'RPM', 'Value': 747.5, 'Units': 'revolutions_per_minute', 'Cmd': 'Engine RPM'}\n",
      "{'Timestamp': 1676511285.9890752, 'ChannelName': 'Speed', 'Value': 0.0, 'Units': 'kph', 'Cmd': 'Vehicle Speed'}\n",
      "{'Timestamp': 1676511285.9890752, 'ChannelName': 'EngineLoad', 'Value': 16.862745098039216, 'Units': 'percent', 'Cmd': 'Calculated Engine Load'}\n",
      "{'Timestamp': 1676511285.9890752, 'ChannelName': 'CoolantTemp', 'Value': 73.0, 'Units': 'degC', 'Cmd': 'Engine Coolant Temperature'}\n",
      "{'Timestamp': 1676511285.9890752, 'ChannelName': 'IntakeTemp', 'Value': 6.0, 'Units': 'degC', 'Cmd': 'Intake Air Temp'}\n",
      "{'Timestamp': 1676511285.9890752, 'ChannelName': 'FuelLevel', 'Value': 70.98039215686275, 'Units': 'percent', 'Cmd': 'Fuel Level Input'}\n",
      "{'Timestamp': 1676511285.9890752, 'ChannelName': 'AmbientTemp', 'Value': 6.0, 'Units': 'degC', 'Cmd': 'Ambient air temperature'}\n",
      "{'Timestamp': 1676511285.9890752, 'ChannelName': 'EngineOilTemp', 'Value': 63.0, 'Units': 'degC', 'Cmd': 'Engine oil temperature'}\n",
      "FuelRate is not supported\n"
     ]
    },
    {
     "name": "stderr",
     "output_type": "stream",
     "text": [
      "[obd.obd] 'b'015E': Engine fuel rate' is not supported\n"
     ]
    },
    {
     "name": "stdout",
     "output_type": "stream",
     "text": [
      "{'Timestamp': 1676511287.1244042, 'ChannelName': 'RPM', 'Value': 746.75, 'Units': 'revolutions_per_minute', 'Cmd': 'Engine RPM'}\n",
      "{'Timestamp': 1676511287.1244042, 'ChannelName': 'Speed', 'Value': 0.0, 'Units': 'kph', 'Cmd': 'Vehicle Speed'}\n",
      "{'Timestamp': 1676511287.1244042, 'ChannelName': 'EngineLoad', 'Value': 16.862745098039216, 'Units': 'percent', 'Cmd': 'Calculated Engine Load'}\n",
      "{'Timestamp': 1676511287.1244042, 'ChannelName': 'CoolantTemp', 'Value': 73.0, 'Units': 'degC', 'Cmd': 'Engine Coolant Temperature'}\n",
      "{'Timestamp': 1676511287.1244042, 'ChannelName': 'IntakeTemp', 'Value': 6.0, 'Units': 'degC', 'Cmd': 'Intake Air Temp'}\n",
      "{'Timestamp': 1676511287.1244042, 'ChannelName': 'FuelLevel', 'Value': 70.98039215686275, 'Units': 'percent', 'Cmd': 'Fuel Level Input'}\n",
      "{'Timestamp': 1676511287.1244042, 'ChannelName': 'AmbientTemp', 'Value': 6.0, 'Units': 'degC', 'Cmd': 'Ambient air temperature'}\n",
      "{'Timestamp': 1676511287.1244042, 'ChannelName': 'EngineOilTemp', 'Value': 63.0, 'Units': 'degC', 'Cmd': 'Engine oil temperature'}\n",
      "FuelRate is not supported\n"
     ]
    },
    {
     "name": "stderr",
     "output_type": "stream",
     "text": [
      "[obd.obd] 'b'015E': Engine fuel rate' is not supported\n"
     ]
    },
    {
     "name": "stdout",
     "output_type": "stream",
     "text": [
      "{'Timestamp': 1676511288.2614126, 'ChannelName': 'RPM', 'Value': 743.75, 'Units': 'revolutions_per_minute', 'Cmd': 'Engine RPM'}\n",
      "{'Timestamp': 1676511288.2614126, 'ChannelName': 'Speed', 'Value': 0.0, 'Units': 'kph', 'Cmd': 'Vehicle Speed'}\n",
      "{'Timestamp': 1676511288.2614126, 'ChannelName': 'EngineLoad', 'Value': 16.862745098039216, 'Units': 'percent', 'Cmd': 'Calculated Engine Load'}\n",
      "{'Timestamp': 1676511288.2614126, 'ChannelName': 'CoolantTemp', 'Value': 73.0, 'Units': 'degC', 'Cmd': 'Engine Coolant Temperature'}\n",
      "{'Timestamp': 1676511288.2614126, 'ChannelName': 'IntakeTemp', 'Value': 6.0, 'Units': 'degC', 'Cmd': 'Intake Air Temp'}\n",
      "{'Timestamp': 1676511288.2614126, 'ChannelName': 'FuelLevel', 'Value': 70.98039215686275, 'Units': 'percent', 'Cmd': 'Fuel Level Input'}\n",
      "{'Timestamp': 1676511288.2614126, 'ChannelName': 'AmbientTemp', 'Value': 6.0, 'Units': 'degC', 'Cmd': 'Ambient air temperature'}\n",
      "{'Timestamp': 1676511288.2614126, 'ChannelName': 'EngineOilTemp', 'Value': 63.0, 'Units': 'degC', 'Cmd': 'Engine oil temperature'}\n",
      "FuelRate is not supported\n"
     ]
    },
    {
     "name": "stderr",
     "output_type": "stream",
     "text": [
      "[obd.obd] 'b'015E': Engine fuel rate' is not supported\n"
     ]
    },
    {
     "name": "stdout",
     "output_type": "stream",
     "text": [
      "{'Timestamp': 1676511289.3968918, 'ChannelName': 'RPM', 'Value': 744.5, 'Units': 'revolutions_per_minute', 'Cmd': 'Engine RPM'}\n",
      "{'Timestamp': 1676511289.3968918, 'ChannelName': 'Speed', 'Value': 0.0, 'Units': 'kph', 'Cmd': 'Vehicle Speed'}\n",
      "{'Timestamp': 1676511289.3968918, 'ChannelName': 'EngineLoad', 'Value': 16.862745098039216, 'Units': 'percent', 'Cmd': 'Calculated Engine Load'}\n",
      "{'Timestamp': 1676511289.3968918, 'ChannelName': 'CoolantTemp', 'Value': 73.0, 'Units': 'degC', 'Cmd': 'Engine Coolant Temperature'}\n",
      "{'Timestamp': 1676511289.3968918, 'ChannelName': 'IntakeTemp', 'Value': 6.0, 'Units': 'degC', 'Cmd': 'Intake Air Temp'}\n",
      "{'Timestamp': 1676511289.3968918, 'ChannelName': 'FuelLevel', 'Value': 70.98039215686275, 'Units': 'percent', 'Cmd': 'Fuel Level Input'}\n",
      "{'Timestamp': 1676511289.3968918, 'ChannelName': 'AmbientTemp', 'Value': 6.0, 'Units': 'degC', 'Cmd': 'Ambient air temperature'}\n",
      "{'Timestamp': 1676511289.3968918, 'ChannelName': 'EngineOilTemp', 'Value': 63.0, 'Units': 'degC', 'Cmd': 'Engine oil temperature'}\n",
      "FuelRate is not supported\n"
     ]
    },
    {
     "name": "stderr",
     "output_type": "stream",
     "text": [
      "[obd.obd] 'b'015E': Engine fuel rate' is not supported\n"
     ]
    },
    {
     "name": "stdout",
     "output_type": "stream",
     "text": [
      "{'Timestamp': 1676511290.5329723, 'ChannelName': 'RPM', 'Value': 747.5, 'Units': 'revolutions_per_minute', 'Cmd': 'Engine RPM'}\n",
      "{'Timestamp': 1676511290.5329723, 'ChannelName': 'Speed', 'Value': 0.0, 'Units': 'kph', 'Cmd': 'Vehicle Speed'}\n",
      "{'Timestamp': 1676511290.5329723, 'ChannelName': 'EngineLoad', 'Value': 16.862745098039216, 'Units': 'percent', 'Cmd': 'Calculated Engine Load'}\n",
      "{'Timestamp': 1676511290.5329723, 'ChannelName': 'CoolantTemp', 'Value': 73.0, 'Units': 'degC', 'Cmd': 'Engine Coolant Temperature'}\n",
      "{'Timestamp': 1676511290.5329723, 'ChannelName': 'IntakeTemp', 'Value': 6.0, 'Units': 'degC', 'Cmd': 'Intake Air Temp'}\n",
      "{'Timestamp': 1676511290.5329723, 'ChannelName': 'FuelLevel', 'Value': 70.98039215686275, 'Units': 'percent', 'Cmd': 'Fuel Level Input'}\n",
      "{'Timestamp': 1676511290.5329723, 'ChannelName': 'AmbientTemp', 'Value': 6.0, 'Units': 'degC', 'Cmd': 'Ambient air temperature'}\n",
      "{'Timestamp': 1676511290.5329723, 'ChannelName': 'EngineOilTemp', 'Value': 63.0, 'Units': 'degC', 'Cmd': 'Engine oil temperature'}\n",
      "FuelRate is not supported\n"
     ]
    },
    {
     "name": "stderr",
     "output_type": "stream",
     "text": [
      "[obd.obd] 'b'015E': Engine fuel rate' is not supported\n"
     ]
    },
    {
     "name": "stdout",
     "output_type": "stream",
     "text": [
      "{'Timestamp': 1676511291.6686609, 'ChannelName': 'RPM', 'Value': 746.75, 'Units': 'revolutions_per_minute', 'Cmd': 'Engine RPM'}\n",
      "{'Timestamp': 1676511291.6686609, 'ChannelName': 'Speed', 'Value': 0.0, 'Units': 'kph', 'Cmd': 'Vehicle Speed'}\n",
      "{'Timestamp': 1676511291.6686609, 'ChannelName': 'EngineLoad', 'Value': 16.862745098039216, 'Units': 'percent', 'Cmd': 'Calculated Engine Load'}\n",
      "{'Timestamp': 1676511291.6686609, 'ChannelName': 'CoolantTemp', 'Value': 73.0, 'Units': 'degC', 'Cmd': 'Engine Coolant Temperature'}\n",
      "{'Timestamp': 1676511291.6686609, 'ChannelName': 'IntakeTemp', 'Value': 6.0, 'Units': 'degC', 'Cmd': 'Intake Air Temp'}\n",
      "{'Timestamp': 1676511291.6686609, 'ChannelName': 'FuelLevel', 'Value': 70.98039215686275, 'Units': 'percent', 'Cmd': 'Fuel Level Input'}\n",
      "{'Timestamp': 1676511291.6686609, 'ChannelName': 'AmbientTemp', 'Value': 6.0, 'Units': 'degC', 'Cmd': 'Ambient air temperature'}\n",
      "{'Timestamp': 1676511291.6686609, 'ChannelName': 'EngineOilTemp', 'Value': 63.0, 'Units': 'degC', 'Cmd': 'Engine oil temperature'}\n",
      "FuelRate is not supported\n"
     ]
    },
    {
     "name": "stderr",
     "output_type": "stream",
     "text": [
      "[obd.obd] 'b'015E': Engine fuel rate' is not supported\n"
     ]
    },
    {
     "name": "stdout",
     "output_type": "stream",
     "text": [
      "{'Timestamp': 1676511292.8057733, 'ChannelName': 'RPM', 'Value': 746.0, 'Units': 'revolutions_per_minute', 'Cmd': 'Engine RPM'}\n",
      "{'Timestamp': 1676511292.8057733, 'ChannelName': 'Speed', 'Value': 0.0, 'Units': 'kph', 'Cmd': 'Vehicle Speed'}\n",
      "{'Timestamp': 1676511292.8057733, 'ChannelName': 'EngineLoad', 'Value': 16.862745098039216, 'Units': 'percent', 'Cmd': 'Calculated Engine Load'}\n",
      "{'Timestamp': 1676511292.8057733, 'ChannelName': 'CoolantTemp', 'Value': 73.0, 'Units': 'degC', 'Cmd': 'Engine Coolant Temperature'}\n",
      "{'Timestamp': 1676511292.8057733, 'ChannelName': 'IntakeTemp', 'Value': 6.0, 'Units': 'degC', 'Cmd': 'Intake Air Temp'}\n",
      "{'Timestamp': 1676511292.8057733, 'ChannelName': 'FuelLevel', 'Value': 70.98039215686275, 'Units': 'percent', 'Cmd': 'Fuel Level Input'}\n",
      "{'Timestamp': 1676511292.8057733, 'ChannelName': 'AmbientTemp', 'Value': 6.0, 'Units': 'degC', 'Cmd': 'Ambient air temperature'}\n",
      "{'Timestamp': 1676511292.8057733, 'ChannelName': 'EngineOilTemp', 'Value': 63.0, 'Units': 'degC', 'Cmd': 'Engine oil temperature'}\n",
      "FuelRate is not supported\n"
     ]
    },
    {
     "name": "stderr",
     "output_type": "stream",
     "text": [
      "[obd.obd] 'b'015E': Engine fuel rate' is not supported\n"
     ]
    },
    {
     "name": "stdout",
     "output_type": "stream",
     "text": [
      "{'Timestamp': 1676511293.942194, 'ChannelName': 'RPM', 'Value': 742.75, 'Units': 'revolutions_per_minute', 'Cmd': 'Engine RPM'}\n",
      "{'Timestamp': 1676511293.942194, 'ChannelName': 'Speed', 'Value': 0.0, 'Units': 'kph', 'Cmd': 'Vehicle Speed'}\n",
      "{'Timestamp': 1676511293.942194, 'ChannelName': 'EngineLoad', 'Value': 16.862745098039216, 'Units': 'percent', 'Cmd': 'Calculated Engine Load'}\n",
      "{'Timestamp': 1676511293.942194, 'ChannelName': 'CoolantTemp', 'Value': 73.0, 'Units': 'degC', 'Cmd': 'Engine Coolant Temperature'}\n",
      "{'Timestamp': 1676511293.942194, 'ChannelName': 'IntakeTemp', 'Value': 6.0, 'Units': 'degC', 'Cmd': 'Intake Air Temp'}\n",
      "{'Timestamp': 1676511293.942194, 'ChannelName': 'FuelLevel', 'Value': 70.98039215686275, 'Units': 'percent', 'Cmd': 'Fuel Level Input'}\n",
      "{'Timestamp': 1676511293.942194, 'ChannelName': 'AmbientTemp', 'Value': 6.0, 'Units': 'degC', 'Cmd': 'Ambient air temperature'}\n",
      "{'Timestamp': 1676511293.942194, 'ChannelName': 'EngineOilTemp', 'Value': 63.0, 'Units': 'degC', 'Cmd': 'Engine oil temperature'}\n",
      "FuelRate is not supported\n"
     ]
    },
    {
     "name": "stderr",
     "output_type": "stream",
     "text": [
      "[obd.obd] 'b'015E': Engine fuel rate' is not supported\n"
     ]
    },
    {
     "name": "stdout",
     "output_type": "stream",
     "text": [
      "{'Timestamp': 1676511295.0782018, 'ChannelName': 'RPM', 'Value': 741.25, 'Units': 'revolutions_per_minute', 'Cmd': 'Engine RPM'}\n",
      "{'Timestamp': 1676511295.0782018, 'ChannelName': 'Speed', 'Value': 0.0, 'Units': 'kph', 'Cmd': 'Vehicle Speed'}\n",
      "{'Timestamp': 1676511295.0782018, 'ChannelName': 'EngineLoad', 'Value': 16.862745098039216, 'Units': 'percent', 'Cmd': 'Calculated Engine Load'}\n",
      "{'Timestamp': 1676511295.0782018, 'ChannelName': 'CoolantTemp', 'Value': 73.0, 'Units': 'degC', 'Cmd': 'Engine Coolant Temperature'}\n",
      "{'Timestamp': 1676511295.0782018, 'ChannelName': 'IntakeTemp', 'Value': 6.0, 'Units': 'degC', 'Cmd': 'Intake Air Temp'}\n",
      "{'Timestamp': 1676511295.0782018, 'ChannelName': 'FuelLevel', 'Value': 70.98039215686275, 'Units': 'percent', 'Cmd': 'Fuel Level Input'}\n",
      "{'Timestamp': 1676511295.0782018, 'ChannelName': 'AmbientTemp', 'Value': 6.0, 'Units': 'degC', 'Cmd': 'Ambient air temperature'}\n",
      "{'Timestamp': 1676511295.0782018, 'ChannelName': 'EngineOilTemp', 'Value': 63.0, 'Units': 'degC', 'Cmd': 'Engine oil temperature'}\n",
      "FuelRate is not supported\n"
     ]
    },
    {
     "name": "stderr",
     "output_type": "stream",
     "text": [
      "[obd.obd] 'b'015E': Engine fuel rate' is not supported\n"
     ]
    },
    {
     "name": "stdout",
     "output_type": "stream",
     "text": [
      "{'Timestamp': 1676511296.213099, 'ChannelName': 'RPM', 'Value': 742.75, 'Units': 'revolutions_per_minute', 'Cmd': 'Engine RPM'}\n",
      "{'Timestamp': 1676511296.213099, 'ChannelName': 'Speed', 'Value': 0.0, 'Units': 'kph', 'Cmd': 'Vehicle Speed'}\n",
      "{'Timestamp': 1676511296.213099, 'ChannelName': 'EngineLoad', 'Value': 16.862745098039216, 'Units': 'percent', 'Cmd': 'Calculated Engine Load'}\n",
      "{'Timestamp': 1676511296.213099, 'ChannelName': 'CoolantTemp', 'Value': 73.0, 'Units': 'degC', 'Cmd': 'Engine Coolant Temperature'}\n",
      "{'Timestamp': 1676511296.213099, 'ChannelName': 'IntakeTemp', 'Value': 6.0, 'Units': 'degC', 'Cmd': 'Intake Air Temp'}\n",
      "{'Timestamp': 1676511296.213099, 'ChannelName': 'FuelLevel', 'Value': 70.98039215686275, 'Units': 'percent', 'Cmd': 'Fuel Level Input'}\n",
      "{'Timestamp': 1676511296.213099, 'ChannelName': 'AmbientTemp', 'Value': 6.0, 'Units': 'degC', 'Cmd': 'Ambient air temperature'}\n",
      "{'Timestamp': 1676511296.213099, 'ChannelName': 'EngineOilTemp', 'Value': 63.0, 'Units': 'degC', 'Cmd': 'Engine oil temperature'}\n",
      "FuelRate is not supported\n"
     ]
    },
    {
     "name": "stderr",
     "output_type": "stream",
     "text": [
      "[obd.obd] 'b'015E': Engine fuel rate' is not supported\n"
     ]
    },
    {
     "name": "stdout",
     "output_type": "stream",
     "text": [
      "{'Timestamp': 1676511297.3493185, 'ChannelName': 'RPM', 'Value': 741.25, 'Units': 'revolutions_per_minute', 'Cmd': 'Engine RPM'}\n",
      "{'Timestamp': 1676511297.3493185, 'ChannelName': 'Speed', 'Value': 0.0, 'Units': 'kph', 'Cmd': 'Vehicle Speed'}\n",
      "{'Timestamp': 1676511297.3493185, 'ChannelName': 'EngineLoad', 'Value': 16.862745098039216, 'Units': 'percent', 'Cmd': 'Calculated Engine Load'}\n",
      "{'Timestamp': 1676511297.3493185, 'ChannelName': 'CoolantTemp', 'Value': 73.0, 'Units': 'degC', 'Cmd': 'Engine Coolant Temperature'}\n",
      "{'Timestamp': 1676511297.3493185, 'ChannelName': 'IntakeTemp', 'Value': 6.0, 'Units': 'degC', 'Cmd': 'Intake Air Temp'}\n",
      "{'Timestamp': 1676511297.3493185, 'ChannelName': 'FuelLevel', 'Value': 70.98039215686275, 'Units': 'percent', 'Cmd': 'Fuel Level Input'}\n",
      "{'Timestamp': 1676511297.3493185, 'ChannelName': 'AmbientTemp', 'Value': 6.0, 'Units': 'degC', 'Cmd': 'Ambient air temperature'}\n",
      "{'Timestamp': 1676511297.3493185, 'ChannelName': 'EngineOilTemp', 'Value': 63.0, 'Units': 'degC', 'Cmd': 'Engine oil temperature'}\n",
      "FuelRate is not supported\n"
     ]
    },
    {
     "name": "stderr",
     "output_type": "stream",
     "text": [
      "[obd.obd] 'b'015E': Engine fuel rate' is not supported\n"
     ]
    },
    {
     "name": "stdout",
     "output_type": "stream",
     "text": [
      "{'Timestamp': 1676511298.4874456, 'ChannelName': 'RPM', 'Value': 743.75, 'Units': 'revolutions_per_minute', 'Cmd': 'Engine RPM'}\n",
      "{'Timestamp': 1676511298.4874456, 'ChannelName': 'Speed', 'Value': 0.0, 'Units': 'kph', 'Cmd': 'Vehicle Speed'}\n",
      "{'Timestamp': 1676511298.4874456, 'ChannelName': 'EngineLoad', 'Value': 16.862745098039216, 'Units': 'percent', 'Cmd': 'Calculated Engine Load'}\n",
      "{'Timestamp': 1676511298.4874456, 'ChannelName': 'CoolantTemp', 'Value': 73.0, 'Units': 'degC', 'Cmd': 'Engine Coolant Temperature'}\n",
      "{'Timestamp': 1676511298.4874456, 'ChannelName': 'IntakeTemp', 'Value': 6.0, 'Units': 'degC', 'Cmd': 'Intake Air Temp'}\n",
      "{'Timestamp': 1676511298.4874456, 'ChannelName': 'FuelLevel', 'Value': 70.98039215686275, 'Units': 'percent', 'Cmd': 'Fuel Level Input'}\n",
      "{'Timestamp': 1676511298.4874456, 'ChannelName': 'AmbientTemp', 'Value': 6.0, 'Units': 'degC', 'Cmd': 'Ambient air temperature'}\n",
      "{'Timestamp': 1676511298.4874456, 'ChannelName': 'EngineOilTemp', 'Value': 63.0, 'Units': 'degC', 'Cmd': 'Engine oil temperature'}\n",
      "FuelRate is not supported\n"
     ]
    },
    {
     "name": "stderr",
     "output_type": "stream",
     "text": [
      "[obd.obd] 'b'015E': Engine fuel rate' is not supported\n"
     ]
    },
    {
     "name": "stdout",
     "output_type": "stream",
     "text": [
      "{'Timestamp': 1676511299.6234422, 'ChannelName': 'RPM', 'Value': 739.75, 'Units': 'revolutions_per_minute', 'Cmd': 'Engine RPM'}\n",
      "{'Timestamp': 1676511299.6234422, 'ChannelName': 'Speed', 'Value': 0.0, 'Units': 'kph', 'Cmd': 'Vehicle Speed'}\n",
      "{'Timestamp': 1676511299.6234422, 'ChannelName': 'EngineLoad', 'Value': 16.862745098039216, 'Units': 'percent', 'Cmd': 'Calculated Engine Load'}\n",
      "{'Timestamp': 1676511299.6234422, 'ChannelName': 'CoolantTemp', 'Value': 73.0, 'Units': 'degC', 'Cmd': 'Engine Coolant Temperature'}\n",
      "{'Timestamp': 1676511299.6234422, 'ChannelName': 'IntakeTemp', 'Value': 6.0, 'Units': 'degC', 'Cmd': 'Intake Air Temp'}\n",
      "{'Timestamp': 1676511299.6234422, 'ChannelName': 'FuelLevel', 'Value': 70.98039215686275, 'Units': 'percent', 'Cmd': 'Fuel Level Input'}\n",
      "{'Timestamp': 1676511299.6234422, 'ChannelName': 'AmbientTemp', 'Value': 6.0, 'Units': 'degC', 'Cmd': 'Ambient air temperature'}\n",
      "{'Timestamp': 1676511299.6234422, 'ChannelName': 'EngineOilTemp', 'Value': 63.0, 'Units': 'degC', 'Cmd': 'Engine oil temperature'}\n",
      "FuelRate is not supported\n"
     ]
    },
    {
     "name": "stderr",
     "output_type": "stream",
     "text": [
      "[obd.obd] 'b'015E': Engine fuel rate' is not supported\n"
     ]
    },
    {
     "name": "stdout",
     "output_type": "stream",
     "text": [
      "{'Timestamp': 1676511300.7593648, 'ChannelName': 'RPM', 'Value': 740.5, 'Units': 'revolutions_per_minute', 'Cmd': 'Engine RPM'}\n",
      "{'Timestamp': 1676511300.7593648, 'ChannelName': 'Speed', 'Value': 0.0, 'Units': 'kph', 'Cmd': 'Vehicle Speed'}\n",
      "{'Timestamp': 1676511300.7593648, 'ChannelName': 'EngineLoad', 'Value': 16.862745098039216, 'Units': 'percent', 'Cmd': 'Calculated Engine Load'}\n",
      "{'Timestamp': 1676511300.7593648, 'ChannelName': 'CoolantTemp', 'Value': 73.0, 'Units': 'degC', 'Cmd': 'Engine Coolant Temperature'}\n",
      "{'Timestamp': 1676511300.7593648, 'ChannelName': 'IntakeTemp', 'Value': 6.0, 'Units': 'degC', 'Cmd': 'Intake Air Temp'}\n",
      "{'Timestamp': 1676511300.7593648, 'ChannelName': 'FuelLevel', 'Value': 70.98039215686275, 'Units': 'percent', 'Cmd': 'Fuel Level Input'}\n",
      "{'Timestamp': 1676511300.7593648, 'ChannelName': 'AmbientTemp', 'Value': 6.0, 'Units': 'degC', 'Cmd': 'Ambient air temperature'}\n",
      "{'Timestamp': 1676511300.7593648, 'ChannelName': 'EngineOilTemp', 'Value': 63.0, 'Units': 'degC', 'Cmd': 'Engine oil temperature'}\n",
      "FuelRate is not supported\n"
     ]
    },
    {
     "name": "stderr",
     "output_type": "stream",
     "text": [
      "[obd.obd] 'b'015E': Engine fuel rate' is not supported\n"
     ]
    },
    {
     "name": "stdout",
     "output_type": "stream",
     "text": [
      "{'Timestamp': 1676511301.8953943, 'ChannelName': 'RPM', 'Value': 740.5, 'Units': 'revolutions_per_minute', 'Cmd': 'Engine RPM'}\n",
      "{'Timestamp': 1676511301.8953943, 'ChannelName': 'Speed', 'Value': 0.0, 'Units': 'kph', 'Cmd': 'Vehicle Speed'}\n",
      "{'Timestamp': 1676511301.8953943, 'ChannelName': 'EngineLoad', 'Value': 16.862745098039216, 'Units': 'percent', 'Cmd': 'Calculated Engine Load'}\n",
      "{'Timestamp': 1676511301.8953943, 'ChannelName': 'CoolantTemp', 'Value': 73.0, 'Units': 'degC', 'Cmd': 'Engine Coolant Temperature'}\n",
      "{'Timestamp': 1676511301.8953943, 'ChannelName': 'IntakeTemp', 'Value': 6.0, 'Units': 'degC', 'Cmd': 'Intake Air Temp'}\n",
      "{'Timestamp': 1676511301.8953943, 'ChannelName': 'FuelLevel', 'Value': 70.98039215686275, 'Units': 'percent', 'Cmd': 'Fuel Level Input'}\n",
      "{'Timestamp': 1676511301.8953943, 'ChannelName': 'AmbientTemp', 'Value': 6.0, 'Units': 'degC', 'Cmd': 'Ambient air temperature'}\n",
      "{'Timestamp': 1676511301.8953943, 'ChannelName': 'EngineOilTemp', 'Value': 63.0, 'Units': 'degC', 'Cmd': 'Engine oil temperature'}\n",
      "FuelRate is not supported\n"
     ]
    },
    {
     "name": "stderr",
     "output_type": "stream",
     "text": [
      "[obd.obd] 'b'015E': Engine fuel rate' is not supported\n"
     ]
    },
    {
     "name": "stdout",
     "output_type": "stream",
     "text": [
      "{'Timestamp': 1676511303.031061, 'ChannelName': 'RPM', 'Value': 742.75, 'Units': 'revolutions_per_minute', 'Cmd': 'Engine RPM'}\n",
      "{'Timestamp': 1676511303.031061, 'ChannelName': 'Speed', 'Value': 0.0, 'Units': 'kph', 'Cmd': 'Vehicle Speed'}\n",
      "{'Timestamp': 1676511303.031061, 'ChannelName': 'EngineLoad', 'Value': 16.862745098039216, 'Units': 'percent', 'Cmd': 'Calculated Engine Load'}\n",
      "{'Timestamp': 1676511303.031061, 'ChannelName': 'CoolantTemp', 'Value': 73.0, 'Units': 'degC', 'Cmd': 'Engine Coolant Temperature'}\n",
      "{'Timestamp': 1676511303.031061, 'ChannelName': 'IntakeTemp', 'Value': 6.0, 'Units': 'degC', 'Cmd': 'Intake Air Temp'}\n",
      "{'Timestamp': 1676511303.031061, 'ChannelName': 'FuelLevel', 'Value': 70.98039215686275, 'Units': 'percent', 'Cmd': 'Fuel Level Input'}\n",
      "{'Timestamp': 1676511303.031061, 'ChannelName': 'AmbientTemp', 'Value': 6.0, 'Units': 'degC', 'Cmd': 'Ambient air temperature'}\n",
      "{'Timestamp': 1676511303.031061, 'ChannelName': 'EngineOilTemp', 'Value': 63.0, 'Units': 'degC', 'Cmd': 'Engine oil temperature'}\n",
      "FuelRate is not supported\n"
     ]
    },
    {
     "name": "stderr",
     "output_type": "stream",
     "text": [
      "[obd.obd] 'b'015E': Engine fuel rate' is not supported\n"
     ]
    },
    {
     "name": "stdout",
     "output_type": "stream",
     "text": [
      "{'Timestamp': 1676511304.1668227, 'ChannelName': 'RPM', 'Value': 739.75, 'Units': 'revolutions_per_minute', 'Cmd': 'Engine RPM'}\n",
      "{'Timestamp': 1676511304.1668227, 'ChannelName': 'Speed', 'Value': 0.0, 'Units': 'kph', 'Cmd': 'Vehicle Speed'}\n",
      "{'Timestamp': 1676511304.1668227, 'ChannelName': 'EngineLoad', 'Value': 16.862745098039216, 'Units': 'percent', 'Cmd': 'Calculated Engine Load'}\n",
      "{'Timestamp': 1676511304.1668227, 'ChannelName': 'CoolantTemp', 'Value': 73.0, 'Units': 'degC', 'Cmd': 'Engine Coolant Temperature'}\n",
      "{'Timestamp': 1676511304.1668227, 'ChannelName': 'IntakeTemp', 'Value': 6.0, 'Units': 'degC', 'Cmd': 'Intake Air Temp'}\n",
      "{'Timestamp': 1676511304.1668227, 'ChannelName': 'FuelLevel', 'Value': 70.98039215686275, 'Units': 'percent', 'Cmd': 'Fuel Level Input'}\n",
      "{'Timestamp': 1676511304.1668227, 'ChannelName': 'AmbientTemp', 'Value': 6.0, 'Units': 'degC', 'Cmd': 'Ambient air temperature'}\n",
      "{'Timestamp': 1676511304.1668227, 'ChannelName': 'EngineOilTemp', 'Value': 63.0, 'Units': 'degC', 'Cmd': 'Engine oil temperature'}\n",
      "FuelRate is not supported\n"
     ]
    },
    {
     "name": "stderr",
     "output_type": "stream",
     "text": [
      "[obd.obd] 'b'015E': Engine fuel rate' is not supported\n"
     ]
    },
    {
     "name": "stdout",
     "output_type": "stream",
     "text": [
      "{'Timestamp': 1676511305.3042963, 'ChannelName': 'RPM', 'Value': 741.25, 'Units': 'revolutions_per_minute', 'Cmd': 'Engine RPM'}\n",
      "{'Timestamp': 1676511305.3042963, 'ChannelName': 'Speed', 'Value': 0.0, 'Units': 'kph', 'Cmd': 'Vehicle Speed'}\n",
      "{'Timestamp': 1676511305.3042963, 'ChannelName': 'EngineLoad', 'Value': 16.862745098039216, 'Units': 'percent', 'Cmd': 'Calculated Engine Load'}\n",
      "{'Timestamp': 1676511305.3042963, 'ChannelName': 'CoolantTemp', 'Value': 73.0, 'Units': 'degC', 'Cmd': 'Engine Coolant Temperature'}\n",
      "{'Timestamp': 1676511305.3042963, 'ChannelName': 'IntakeTemp', 'Value': 6.0, 'Units': 'degC', 'Cmd': 'Intake Air Temp'}\n",
      "{'Timestamp': 1676511305.3042963, 'ChannelName': 'FuelLevel', 'Value': 70.98039215686275, 'Units': 'percent', 'Cmd': 'Fuel Level Input'}\n",
      "{'Timestamp': 1676511305.3042963, 'ChannelName': 'AmbientTemp', 'Value': 6.0, 'Units': 'degC', 'Cmd': 'Ambient air temperature'}\n",
      "{'Timestamp': 1676511305.3042963, 'ChannelName': 'EngineOilTemp', 'Value': 64.0, 'Units': 'degC', 'Cmd': 'Engine oil temperature'}\n",
      "FuelRate is not supported\n"
     ]
    },
    {
     "name": "stderr",
     "output_type": "stream",
     "text": [
      "[obd.obd] 'b'015E': Engine fuel rate' is not supported\n"
     ]
    },
    {
     "name": "stdout",
     "output_type": "stream",
     "text": [
      "{'Timestamp': 1676511306.4402997, 'ChannelName': 'RPM', 'Value': 742.75, 'Units': 'revolutions_per_minute', 'Cmd': 'Engine RPM'}\n",
      "{'Timestamp': 1676511306.4402997, 'ChannelName': 'Speed', 'Value': 0.0, 'Units': 'kph', 'Cmd': 'Vehicle Speed'}\n",
      "{'Timestamp': 1676511306.4402997, 'ChannelName': 'EngineLoad', 'Value': 16.862745098039216, 'Units': 'percent', 'Cmd': 'Calculated Engine Load'}\n",
      "{'Timestamp': 1676511306.4402997, 'ChannelName': 'CoolantTemp', 'Value': 73.0, 'Units': 'degC', 'Cmd': 'Engine Coolant Temperature'}\n",
      "{'Timestamp': 1676511306.4402997, 'ChannelName': 'IntakeTemp', 'Value': 6.0, 'Units': 'degC', 'Cmd': 'Intake Air Temp'}\n",
      "{'Timestamp': 1676511306.4402997, 'ChannelName': 'FuelLevel', 'Value': 70.98039215686275, 'Units': 'percent', 'Cmd': 'Fuel Level Input'}\n",
      "{'Timestamp': 1676511306.4402997, 'ChannelName': 'AmbientTemp', 'Value': 6.0, 'Units': 'degC', 'Cmd': 'Ambient air temperature'}\n",
      "{'Timestamp': 1676511306.4402997, 'ChannelName': 'EngineOilTemp', 'Value': 64.0, 'Units': 'degC', 'Cmd': 'Engine oil temperature'}\n",
      "FuelRate is not supported\n"
     ]
    },
    {
     "name": "stderr",
     "output_type": "stream",
     "text": [
      "[obd.obd] 'b'015E': Engine fuel rate' is not supported\n"
     ]
    },
    {
     "name": "stdout",
     "output_type": "stream",
     "text": [
      "{'Timestamp': 1676511307.5763423, 'ChannelName': 'RPM', 'Value': 740.5, 'Units': 'revolutions_per_minute', 'Cmd': 'Engine RPM'}\n",
      "{'Timestamp': 1676511307.5763423, 'ChannelName': 'Speed', 'Value': 0.0, 'Units': 'kph', 'Cmd': 'Vehicle Speed'}\n",
      "{'Timestamp': 1676511307.5763423, 'ChannelName': 'EngineLoad', 'Value': 16.862745098039216, 'Units': 'percent', 'Cmd': 'Calculated Engine Load'}\n",
      "{'Timestamp': 1676511307.5763423, 'ChannelName': 'CoolantTemp', 'Value': 74.0, 'Units': 'degC', 'Cmd': 'Engine Coolant Temperature'}\n",
      "{'Timestamp': 1676511307.5763423, 'ChannelName': 'IntakeTemp', 'Value': 6.0, 'Units': 'degC', 'Cmd': 'Intake Air Temp'}\n",
      "{'Timestamp': 1676511307.5763423, 'ChannelName': 'FuelLevel', 'Value': 70.98039215686275, 'Units': 'percent', 'Cmd': 'Fuel Level Input'}\n",
      "{'Timestamp': 1676511307.5763423, 'ChannelName': 'AmbientTemp', 'Value': 6.0, 'Units': 'degC', 'Cmd': 'Ambient air temperature'}\n",
      "{'Timestamp': 1676511307.5763423, 'ChannelName': 'EngineOilTemp', 'Value': 64.0, 'Units': 'degC', 'Cmd': 'Engine oil temperature'}\n",
      "FuelRate is not supported\n"
     ]
    },
    {
     "name": "stderr",
     "output_type": "stream",
     "text": [
      "[obd.obd] 'b'015E': Engine fuel rate' is not supported\n"
     ]
    },
    {
     "name": "stdout",
     "output_type": "stream",
     "text": [
      "{'Timestamp': 1676511308.7128549, 'ChannelName': 'RPM', 'Value': 739.75, 'Units': 'revolutions_per_minute', 'Cmd': 'Engine RPM'}\n",
      "{'Timestamp': 1676511308.7128549, 'ChannelName': 'Speed', 'Value': 0.0, 'Units': 'kph', 'Cmd': 'Vehicle Speed'}\n",
      "{'Timestamp': 1676511308.7128549, 'ChannelName': 'EngineLoad', 'Value': 16.862745098039216, 'Units': 'percent', 'Cmd': 'Calculated Engine Load'}\n",
      "{'Timestamp': 1676511308.7128549, 'ChannelName': 'CoolantTemp', 'Value': 74.0, 'Units': 'degC', 'Cmd': 'Engine Coolant Temperature'}\n",
      "{'Timestamp': 1676511308.7128549, 'ChannelName': 'IntakeTemp', 'Value': 6.0, 'Units': 'degC', 'Cmd': 'Intake Air Temp'}\n",
      "{'Timestamp': 1676511308.7128549, 'ChannelName': 'FuelLevel', 'Value': 70.98039215686275, 'Units': 'percent', 'Cmd': 'Fuel Level Input'}\n",
      "{'Timestamp': 1676511308.7128549, 'ChannelName': 'AmbientTemp', 'Value': 6.0, 'Units': 'degC', 'Cmd': 'Ambient air temperature'}\n",
      "{'Timestamp': 1676511308.7128549, 'ChannelName': 'EngineOilTemp', 'Value': 63.0, 'Units': 'degC', 'Cmd': 'Engine oil temperature'}\n",
      "FuelRate is not supported\n"
     ]
    },
    {
     "name": "stderr",
     "output_type": "stream",
     "text": [
      "[obd.obd] 'b'015E': Engine fuel rate' is not supported\n"
     ]
    },
    {
     "name": "stdout",
     "output_type": "stream",
     "text": [
      "{'Timestamp': 1676511309.8491254, 'ChannelName': 'RPM', 'Value': 740.5, 'Units': 'revolutions_per_minute', 'Cmd': 'Engine RPM'}\n",
      "{'Timestamp': 1676511309.8491254, 'ChannelName': 'Speed', 'Value': 0.0, 'Units': 'kph', 'Cmd': 'Vehicle Speed'}\n",
      "{'Timestamp': 1676511309.8491254, 'ChannelName': 'EngineLoad', 'Value': 16.862745098039216, 'Units': 'percent', 'Cmd': 'Calculated Engine Load'}\n",
      "{'Timestamp': 1676511309.8491254, 'ChannelName': 'CoolantTemp', 'Value': 74.0, 'Units': 'degC', 'Cmd': 'Engine Coolant Temperature'}\n",
      "{'Timestamp': 1676511309.8491254, 'ChannelName': 'IntakeTemp', 'Value': 6.0, 'Units': 'degC', 'Cmd': 'Intake Air Temp'}\n",
      "{'Timestamp': 1676511309.8491254, 'ChannelName': 'FuelLevel', 'Value': 70.98039215686275, 'Units': 'percent', 'Cmd': 'Fuel Level Input'}\n",
      "{'Timestamp': 1676511309.8491254, 'ChannelName': 'AmbientTemp', 'Value': 6.0, 'Units': 'degC', 'Cmd': 'Ambient air temperature'}\n",
      "{'Timestamp': 1676511309.8491254, 'ChannelName': 'EngineOilTemp', 'Value': 63.0, 'Units': 'degC', 'Cmd': 'Engine oil temperature'}\n",
      "FuelRate is not supported\n"
     ]
    },
    {
     "name": "stderr",
     "output_type": "stream",
     "text": [
      "[obd.obd] 'b'015E': Engine fuel rate' is not supported\n"
     ]
    },
    {
     "name": "stdout",
     "output_type": "stream",
     "text": [
      "{'Timestamp': 1676511310.9848607, 'ChannelName': 'RPM', 'Value': 742.0, 'Units': 'revolutions_per_minute', 'Cmd': 'Engine RPM'}\n",
      "{'Timestamp': 1676511310.9848607, 'ChannelName': 'Speed', 'Value': 0.0, 'Units': 'kph', 'Cmd': 'Vehicle Speed'}\n",
      "{'Timestamp': 1676511310.9848607, 'ChannelName': 'EngineLoad', 'Value': 16.862745098039216, 'Units': 'percent', 'Cmd': 'Calculated Engine Load'}\n",
      "{'Timestamp': 1676511310.9848607, 'ChannelName': 'CoolantTemp', 'Value': 74.0, 'Units': 'degC', 'Cmd': 'Engine Coolant Temperature'}\n",
      "{'Timestamp': 1676511310.9848607, 'ChannelName': 'IntakeTemp', 'Value': 6.0, 'Units': 'degC', 'Cmd': 'Intake Air Temp'}\n",
      "{'Timestamp': 1676511310.9848607, 'ChannelName': 'FuelLevel', 'Value': 70.98039215686275, 'Units': 'percent', 'Cmd': 'Fuel Level Input'}\n",
      "{'Timestamp': 1676511310.9848607, 'ChannelName': 'AmbientTemp', 'Value': 6.0, 'Units': 'degC', 'Cmd': 'Ambient air temperature'}\n",
      "{'Timestamp': 1676511310.9848607, 'ChannelName': 'EngineOilTemp', 'Value': 64.0, 'Units': 'degC', 'Cmd': 'Engine oil temperature'}\n",
      "FuelRate is not supported\n"
     ]
    },
    {
     "name": "stderr",
     "output_type": "stream",
     "text": [
      "[obd.obd] 'b'015E': Engine fuel rate' is not supported\n"
     ]
    },
    {
     "name": "stdout",
     "output_type": "stream",
     "text": [
      "{'Timestamp': 1676511312.1213286, 'ChannelName': 'RPM', 'Value': 736.5, 'Units': 'revolutions_per_minute', 'Cmd': 'Engine RPM'}\n",
      "{'Timestamp': 1676511312.1213286, 'ChannelName': 'Speed', 'Value': 0.0, 'Units': 'kph', 'Cmd': 'Vehicle Speed'}\n",
      "{'Timestamp': 1676511312.1213286, 'ChannelName': 'EngineLoad', 'Value': 16.862745098039216, 'Units': 'percent', 'Cmd': 'Calculated Engine Load'}\n",
      "{'Timestamp': 1676511312.1213286, 'ChannelName': 'CoolantTemp', 'Value': 73.0, 'Units': 'degC', 'Cmd': 'Engine Coolant Temperature'}\n",
      "{'Timestamp': 1676511312.1213286, 'ChannelName': 'IntakeTemp', 'Value': 6.0, 'Units': 'degC', 'Cmd': 'Intake Air Temp'}\n",
      "{'Timestamp': 1676511312.1213286, 'ChannelName': 'FuelLevel', 'Value': 70.98039215686275, 'Units': 'percent', 'Cmd': 'Fuel Level Input'}\n",
      "{'Timestamp': 1676511312.1213286, 'ChannelName': 'AmbientTemp', 'Value': 6.0, 'Units': 'degC', 'Cmd': 'Ambient air temperature'}\n",
      "{'Timestamp': 1676511312.1213286, 'ChannelName': 'EngineOilTemp', 'Value': 64.0, 'Units': 'degC', 'Cmd': 'Engine oil temperature'}\n",
      "FuelRate is not supported\n"
     ]
    },
    {
     "name": "stderr",
     "output_type": "stream",
     "text": [
      "[obd.obd] 'b'015E': Engine fuel rate' is not supported\n"
     ]
    },
    {
     "name": "stdout",
     "output_type": "stream",
     "text": [
      "{'Timestamp': 1676511313.2581296, 'ChannelName': 'RPM', 'Value': 736.5, 'Units': 'revolutions_per_minute', 'Cmd': 'Engine RPM'}\n",
      "{'Timestamp': 1676511313.2581296, 'ChannelName': 'Speed', 'Value': 0.0, 'Units': 'kph', 'Cmd': 'Vehicle Speed'}\n",
      "{'Timestamp': 1676511313.2581296, 'ChannelName': 'EngineLoad', 'Value': 16.862745098039216, 'Units': 'percent', 'Cmd': 'Calculated Engine Load'}\n",
      "{'Timestamp': 1676511313.2581296, 'ChannelName': 'CoolantTemp', 'Value': 74.0, 'Units': 'degC', 'Cmd': 'Engine Coolant Temperature'}\n",
      "{'Timestamp': 1676511313.2581296, 'ChannelName': 'IntakeTemp', 'Value': 6.0, 'Units': 'degC', 'Cmd': 'Intake Air Temp'}\n",
      "{'Timestamp': 1676511313.2581296, 'ChannelName': 'FuelLevel', 'Value': 70.98039215686275, 'Units': 'percent', 'Cmd': 'Fuel Level Input'}\n",
      "{'Timestamp': 1676511313.2581296, 'ChannelName': 'AmbientTemp', 'Value': 6.0, 'Units': 'degC', 'Cmd': 'Ambient air temperature'}\n",
      "{'Timestamp': 1676511313.2581296, 'ChannelName': 'EngineOilTemp', 'Value': 64.0, 'Units': 'degC', 'Cmd': 'Engine oil temperature'}\n",
      "FuelRate is not supported\n"
     ]
    },
    {
     "name": "stderr",
     "output_type": "stream",
     "text": [
      "[obd.obd] 'b'015E': Engine fuel rate' is not supported\n"
     ]
    },
    {
     "name": "stdout",
     "output_type": "stream",
     "text": [
      "{'Timestamp': 1676511314.3937066, 'ChannelName': 'RPM', 'Value': 742.75, 'Units': 'revolutions_per_minute', 'Cmd': 'Engine RPM'}\n",
      "{'Timestamp': 1676511314.3937066, 'ChannelName': 'Speed', 'Value': 0.0, 'Units': 'kph', 'Cmd': 'Vehicle Speed'}\n",
      "{'Timestamp': 1676511314.3937066, 'ChannelName': 'EngineLoad', 'Value': 16.862745098039216, 'Units': 'percent', 'Cmd': 'Calculated Engine Load'}\n",
      "{'Timestamp': 1676511314.3937066, 'ChannelName': 'CoolantTemp', 'Value': 74.0, 'Units': 'degC', 'Cmd': 'Engine Coolant Temperature'}\n",
      "{'Timestamp': 1676511314.3937066, 'ChannelName': 'IntakeTemp', 'Value': 6.0, 'Units': 'degC', 'Cmd': 'Intake Air Temp'}\n",
      "{'Timestamp': 1676511314.3937066, 'ChannelName': 'FuelLevel', 'Value': 70.98039215686275, 'Units': 'percent', 'Cmd': 'Fuel Level Input'}\n",
      "{'Timestamp': 1676511314.3937066, 'ChannelName': 'AmbientTemp', 'Value': 6.0, 'Units': 'degC', 'Cmd': 'Ambient air temperature'}\n",
      "{'Timestamp': 1676511314.3937066, 'ChannelName': 'EngineOilTemp', 'Value': 64.0, 'Units': 'degC', 'Cmd': 'Engine oil temperature'}\n",
      "FuelRate is not supported\n"
     ]
    },
    {
     "name": "stderr",
     "output_type": "stream",
     "text": [
      "[obd.obd] 'b'015E': Engine fuel rate' is not supported\n"
     ]
    },
    {
     "name": "stdout",
     "output_type": "stream",
     "text": [
      "{'Timestamp': 1676511315.5312636, 'ChannelName': 'RPM', 'Value': 741.25, 'Units': 'revolutions_per_minute', 'Cmd': 'Engine RPM'}\n",
      "{'Timestamp': 1676511315.5312636, 'ChannelName': 'Speed', 'Value': 0.0, 'Units': 'kph', 'Cmd': 'Vehicle Speed'}\n",
      "{'Timestamp': 1676511315.5312636, 'ChannelName': 'EngineLoad', 'Value': 16.862745098039216, 'Units': 'percent', 'Cmd': 'Calculated Engine Load'}\n",
      "{'Timestamp': 1676511315.5312636, 'ChannelName': 'CoolantTemp', 'Value': 74.0, 'Units': 'degC', 'Cmd': 'Engine Coolant Temperature'}\n",
      "{'Timestamp': 1676511315.5312636, 'ChannelName': 'IntakeTemp', 'Value': 6.0, 'Units': 'degC', 'Cmd': 'Intake Air Temp'}\n",
      "{'Timestamp': 1676511315.5312636, 'ChannelName': 'FuelLevel', 'Value': 70.98039215686275, 'Units': 'percent', 'Cmd': 'Fuel Level Input'}\n",
      "{'Timestamp': 1676511315.5312636, 'ChannelName': 'AmbientTemp', 'Value': 6.0, 'Units': 'degC', 'Cmd': 'Ambient air temperature'}\n",
      "{'Timestamp': 1676511315.5312636, 'ChannelName': 'EngineOilTemp', 'Value': 64.0, 'Units': 'degC', 'Cmd': 'Engine oil temperature'}\n",
      "FuelRate is not supported\n"
     ]
    },
    {
     "name": "stderr",
     "output_type": "stream",
     "text": [
      "[obd.obd] 'b'015E': Engine fuel rate' is not supported\n"
     ]
    },
    {
     "name": "stdout",
     "output_type": "stream",
     "text": [
      "{'Timestamp': 1676511316.6663187, 'ChannelName': 'RPM', 'Value': 738.25, 'Units': 'revolutions_per_minute', 'Cmd': 'Engine RPM'}\n",
      "{'Timestamp': 1676511316.6663187, 'ChannelName': 'Speed', 'Value': 0.0, 'Units': 'kph', 'Cmd': 'Vehicle Speed'}\n",
      "{'Timestamp': 1676511316.6663187, 'ChannelName': 'EngineLoad', 'Value': 16.862745098039216, 'Units': 'percent', 'Cmd': 'Calculated Engine Load'}\n",
      "{'Timestamp': 1676511316.6663187, 'ChannelName': 'CoolantTemp', 'Value': 74.0, 'Units': 'degC', 'Cmd': 'Engine Coolant Temperature'}\n",
      "{'Timestamp': 1676511316.6663187, 'ChannelName': 'IntakeTemp', 'Value': 6.0, 'Units': 'degC', 'Cmd': 'Intake Air Temp'}\n",
      "{'Timestamp': 1676511316.6663187, 'ChannelName': 'FuelLevel', 'Value': 70.98039215686275, 'Units': 'percent', 'Cmd': 'Fuel Level Input'}\n",
      "{'Timestamp': 1676511316.6663187, 'ChannelName': 'AmbientTemp', 'Value': 6.0, 'Units': 'degC', 'Cmd': 'Ambient air temperature'}\n",
      "{'Timestamp': 1676511316.6663187, 'ChannelName': 'EngineOilTemp', 'Value': 64.0, 'Units': 'degC', 'Cmd': 'Engine oil temperature'}\n",
      "FuelRate is not supported\n"
     ]
    },
    {
     "name": "stderr",
     "output_type": "stream",
     "text": [
      "[obd.obd] 'b'015E': Engine fuel rate' is not supported\n"
     ]
    },
    {
     "name": "stdout",
     "output_type": "stream",
     "text": [
      "{'Timestamp': 1676511317.8028326, 'ChannelName': 'RPM', 'Value': 739.0, 'Units': 'revolutions_per_minute', 'Cmd': 'Engine RPM'}\n",
      "{'Timestamp': 1676511317.8028326, 'ChannelName': 'Speed', 'Value': 0.0, 'Units': 'kph', 'Cmd': 'Vehicle Speed'}\n",
      "{'Timestamp': 1676511317.8028326, 'ChannelName': 'EngineLoad', 'Value': 16.862745098039216, 'Units': 'percent', 'Cmd': 'Calculated Engine Load'}\n",
      "{'Timestamp': 1676511317.8028326, 'ChannelName': 'CoolantTemp', 'Value': 74.0, 'Units': 'degC', 'Cmd': 'Engine Coolant Temperature'}\n",
      "{'Timestamp': 1676511317.8028326, 'ChannelName': 'IntakeTemp', 'Value': 6.0, 'Units': 'degC', 'Cmd': 'Intake Air Temp'}\n",
      "{'Timestamp': 1676511317.8028326, 'ChannelName': 'FuelLevel', 'Value': 70.98039215686275, 'Units': 'percent', 'Cmd': 'Fuel Level Input'}\n",
      "{'Timestamp': 1676511317.8028326, 'ChannelName': 'AmbientTemp', 'Value': 6.0, 'Units': 'degC', 'Cmd': 'Ambient air temperature'}\n",
      "{'Timestamp': 1676511317.8028326, 'ChannelName': 'EngineOilTemp', 'Value': 64.0, 'Units': 'degC', 'Cmd': 'Engine oil temperature'}\n",
      "FuelRate is not supported\n"
     ]
    },
    {
     "name": "stderr",
     "output_type": "stream",
     "text": [
      "[obd.obd] 'b'015E': Engine fuel rate' is not supported\n"
     ]
    },
    {
     "name": "stdout",
     "output_type": "stream",
     "text": [
      "{'Timestamp': 1676511318.9388793, 'ChannelName': 'RPM', 'Value': 735.0, 'Units': 'revolutions_per_minute', 'Cmd': 'Engine RPM'}\n",
      "{'Timestamp': 1676511318.9388793, 'ChannelName': 'Speed', 'Value': 0.0, 'Units': 'kph', 'Cmd': 'Vehicle Speed'}\n",
      "{'Timestamp': 1676511318.9388793, 'ChannelName': 'EngineLoad', 'Value': 16.862745098039216, 'Units': 'percent', 'Cmd': 'Calculated Engine Load'}\n",
      "{'Timestamp': 1676511318.9388793, 'ChannelName': 'CoolantTemp', 'Value': 74.0, 'Units': 'degC', 'Cmd': 'Engine Coolant Temperature'}\n",
      "{'Timestamp': 1676511318.9388793, 'ChannelName': 'IntakeTemp', 'Value': 6.0, 'Units': 'degC', 'Cmd': 'Intake Air Temp'}\n",
      "{'Timestamp': 1676511318.9388793, 'ChannelName': 'FuelLevel', 'Value': 70.98039215686275, 'Units': 'percent', 'Cmd': 'Fuel Level Input'}\n",
      "{'Timestamp': 1676511318.9388793, 'ChannelName': 'AmbientTemp', 'Value': 6.0, 'Units': 'degC', 'Cmd': 'Ambient air temperature'}\n",
      "{'Timestamp': 1676511318.9388793, 'ChannelName': 'EngineOilTemp', 'Value': 64.0, 'Units': 'degC', 'Cmd': 'Engine oil temperature'}\n",
      "FuelRate is not supported\n"
     ]
    },
    {
     "name": "stderr",
     "output_type": "stream",
     "text": [
      "[obd.obd] 'b'015E': Engine fuel rate' is not supported\n"
     ]
    },
    {
     "name": "stdout",
     "output_type": "stream",
     "text": [
      "{'Timestamp': 1676511320.0747623, 'ChannelName': 'RPM', 'Value': 743.75, 'Units': 'revolutions_per_minute', 'Cmd': 'Engine RPM'}\n",
      "{'Timestamp': 1676511320.0747623, 'ChannelName': 'Speed', 'Value': 0.0, 'Units': 'kph', 'Cmd': 'Vehicle Speed'}\n",
      "{'Timestamp': 1676511320.0747623, 'ChannelName': 'EngineLoad', 'Value': 16.862745098039216, 'Units': 'percent', 'Cmd': 'Calculated Engine Load'}\n",
      "{'Timestamp': 1676511320.0747623, 'ChannelName': 'CoolantTemp', 'Value': 74.0, 'Units': 'degC', 'Cmd': 'Engine Coolant Temperature'}\n",
      "{'Timestamp': 1676511320.0747623, 'ChannelName': 'IntakeTemp', 'Value': 6.0, 'Units': 'degC', 'Cmd': 'Intake Air Temp'}\n",
      "{'Timestamp': 1676511320.0747623, 'ChannelName': 'FuelLevel', 'Value': 70.98039215686275, 'Units': 'percent', 'Cmd': 'Fuel Level Input'}\n",
      "{'Timestamp': 1676511320.0747623, 'ChannelName': 'AmbientTemp', 'Value': 6.0, 'Units': 'degC', 'Cmd': 'Ambient air temperature'}\n",
      "{'Timestamp': 1676511320.0747623, 'ChannelName': 'EngineOilTemp', 'Value': 64.0, 'Units': 'degC', 'Cmd': 'Engine oil temperature'}\n",
      "FuelRate is not supported\n"
     ]
    },
    {
     "name": "stderr",
     "output_type": "stream",
     "text": [
      "[obd.obd] 'b'015E': Engine fuel rate' is not supported\n"
     ]
    },
    {
     "name": "stdout",
     "output_type": "stream",
     "text": [
      "{'Timestamp': 1676511321.2113566, 'ChannelName': 'RPM', 'Value': 735.75, 'Units': 'revolutions_per_minute', 'Cmd': 'Engine RPM'}\n",
      "{'Timestamp': 1676511321.2113566, 'ChannelName': 'Speed', 'Value': 0.0, 'Units': 'kph', 'Cmd': 'Vehicle Speed'}\n",
      "{'Timestamp': 1676511321.2113566, 'ChannelName': 'EngineLoad', 'Value': 16.862745098039216, 'Units': 'percent', 'Cmd': 'Calculated Engine Load'}\n",
      "{'Timestamp': 1676511321.2113566, 'ChannelName': 'CoolantTemp', 'Value': 74.0, 'Units': 'degC', 'Cmd': 'Engine Coolant Temperature'}\n",
      "{'Timestamp': 1676511321.2113566, 'ChannelName': 'IntakeTemp', 'Value': 6.0, 'Units': 'degC', 'Cmd': 'Intake Air Temp'}\n",
      "{'Timestamp': 1676511321.2113566, 'ChannelName': 'FuelLevel', 'Value': 70.98039215686275, 'Units': 'percent', 'Cmd': 'Fuel Level Input'}\n",
      "{'Timestamp': 1676511321.2113566, 'ChannelName': 'AmbientTemp', 'Value': 6.0, 'Units': 'degC', 'Cmd': 'Ambient air temperature'}\n",
      "{'Timestamp': 1676511321.2113566, 'ChannelName': 'EngineOilTemp', 'Value': 64.0, 'Units': 'degC', 'Cmd': 'Engine oil temperature'}\n",
      "FuelRate is not supported\n"
     ]
    },
    {
     "name": "stderr",
     "output_type": "stream",
     "text": [
      "[obd.obd] 'b'015E': Engine fuel rate' is not supported\n"
     ]
    },
    {
     "name": "stdout",
     "output_type": "stream",
     "text": [
      "{'Timestamp': 1676511322.3472269, 'ChannelName': 'RPM', 'Value': 738.25, 'Units': 'revolutions_per_minute', 'Cmd': 'Engine RPM'}\n",
      "{'Timestamp': 1676511322.3472269, 'ChannelName': 'Speed', 'Value': 0.0, 'Units': 'kph', 'Cmd': 'Vehicle Speed'}\n",
      "{'Timestamp': 1676511322.3472269, 'ChannelName': 'EngineLoad', 'Value': 16.862745098039216, 'Units': 'percent', 'Cmd': 'Calculated Engine Load'}\n",
      "{'Timestamp': 1676511322.3472269, 'ChannelName': 'CoolantTemp', 'Value': 74.0, 'Units': 'degC', 'Cmd': 'Engine Coolant Temperature'}\n",
      "{'Timestamp': 1676511322.3472269, 'ChannelName': 'IntakeTemp', 'Value': 6.0, 'Units': 'degC', 'Cmd': 'Intake Air Temp'}\n",
      "{'Timestamp': 1676511322.3472269, 'ChannelName': 'FuelLevel', 'Value': 70.98039215686275, 'Units': 'percent', 'Cmd': 'Fuel Level Input'}\n",
      "{'Timestamp': 1676511322.3472269, 'ChannelName': 'AmbientTemp', 'Value': 6.0, 'Units': 'degC', 'Cmd': 'Ambient air temperature'}\n",
      "{'Timestamp': 1676511322.3472269, 'ChannelName': 'EngineOilTemp', 'Value': 64.0, 'Units': 'degC', 'Cmd': 'Engine oil temperature'}\n",
      "FuelRate is not supported\n"
     ]
    },
    {
     "name": "stderr",
     "output_type": "stream",
     "text": [
      "[obd.obd] 'b'015E': Engine fuel rate' is not supported\n"
     ]
    },
    {
     "name": "stdout",
     "output_type": "stream",
     "text": [
      "{'Timestamp': 1676511323.4828236, 'ChannelName': 'RPM', 'Value': 734.25, 'Units': 'revolutions_per_minute', 'Cmd': 'Engine RPM'}\n",
      "{'Timestamp': 1676511323.4828236, 'ChannelName': 'Speed', 'Value': 0.0, 'Units': 'kph', 'Cmd': 'Vehicle Speed'}\n",
      "{'Timestamp': 1676511323.4828236, 'ChannelName': 'EngineLoad', 'Value': 16.862745098039216, 'Units': 'percent', 'Cmd': 'Calculated Engine Load'}\n",
      "{'Timestamp': 1676511323.4828236, 'ChannelName': 'CoolantTemp', 'Value': 74.0, 'Units': 'degC', 'Cmd': 'Engine Coolant Temperature'}\n",
      "{'Timestamp': 1676511323.4828236, 'ChannelName': 'IntakeTemp', 'Value': 6.0, 'Units': 'degC', 'Cmd': 'Intake Air Temp'}\n",
      "{'Timestamp': 1676511323.4828236, 'ChannelName': 'FuelLevel', 'Value': 70.98039215686275, 'Units': 'percent', 'Cmd': 'Fuel Level Input'}\n",
      "{'Timestamp': 1676511323.4828236, 'ChannelName': 'AmbientTemp', 'Value': 6.0, 'Units': 'degC', 'Cmd': 'Ambient air temperature'}\n",
      "{'Timestamp': 1676511323.4828236, 'ChannelName': 'EngineOilTemp', 'Value': 64.0, 'Units': 'degC', 'Cmd': 'Engine oil temperature'}\n",
      "FuelRate is not supported\n"
     ]
    },
    {
     "name": "stderr",
     "output_type": "stream",
     "text": [
      "[obd.obd] 'b'015E': Engine fuel rate' is not supported\n"
     ]
    },
    {
     "name": "stdout",
     "output_type": "stream",
     "text": [
      "{'Timestamp': 1676511324.6200073, 'ChannelName': 'RPM', 'Value': 735.75, 'Units': 'revolutions_per_minute', 'Cmd': 'Engine RPM'}\n",
      "{'Timestamp': 1676511324.6200073, 'ChannelName': 'Speed', 'Value': 0.0, 'Units': 'kph', 'Cmd': 'Vehicle Speed'}\n",
      "{'Timestamp': 1676511324.6200073, 'ChannelName': 'EngineLoad', 'Value': 16.862745098039216, 'Units': 'percent', 'Cmd': 'Calculated Engine Load'}\n",
      "{'Timestamp': 1676511324.6200073, 'ChannelName': 'CoolantTemp', 'Value': 74.0, 'Units': 'degC', 'Cmd': 'Engine Coolant Temperature'}\n",
      "{'Timestamp': 1676511324.6200073, 'ChannelName': 'IntakeTemp', 'Value': 6.0, 'Units': 'degC', 'Cmd': 'Intake Air Temp'}\n",
      "{'Timestamp': 1676511324.6200073, 'ChannelName': 'FuelLevel', 'Value': 70.98039215686275, 'Units': 'percent', 'Cmd': 'Fuel Level Input'}\n",
      "{'Timestamp': 1676511324.6200073, 'ChannelName': 'AmbientTemp', 'Value': 6.0, 'Units': 'degC', 'Cmd': 'Ambient air temperature'}\n",
      "{'Timestamp': 1676511324.6200073, 'ChannelName': 'EngineOilTemp', 'Value': 64.0, 'Units': 'degC', 'Cmd': 'Engine oil temperature'}\n",
      "FuelRate is not supported\n"
     ]
    },
    {
     "name": "stderr",
     "output_type": "stream",
     "text": [
      "[obd.obd] 'b'015E': Engine fuel rate' is not supported\n"
     ]
    },
    {
     "name": "stdout",
     "output_type": "stream",
     "text": [
      "{'Timestamp': 1676511325.7560716, 'ChannelName': 'RPM', 'Value': 743.75, 'Units': 'revolutions_per_minute', 'Cmd': 'Engine RPM'}\n",
      "{'Timestamp': 1676511325.7560716, 'ChannelName': 'Speed', 'Value': 0.0, 'Units': 'kph', 'Cmd': 'Vehicle Speed'}\n",
      "{'Timestamp': 1676511325.7560716, 'ChannelName': 'EngineLoad', 'Value': 16.862745098039216, 'Units': 'percent', 'Cmd': 'Calculated Engine Load'}\n",
      "{'Timestamp': 1676511325.7560716, 'ChannelName': 'CoolantTemp', 'Value': 74.0, 'Units': 'degC', 'Cmd': 'Engine Coolant Temperature'}\n",
      "{'Timestamp': 1676511325.7560716, 'ChannelName': 'IntakeTemp', 'Value': 6.0, 'Units': 'degC', 'Cmd': 'Intake Air Temp'}\n",
      "{'Timestamp': 1676511325.7560716, 'ChannelName': 'FuelLevel', 'Value': 70.98039215686275, 'Units': 'percent', 'Cmd': 'Fuel Level Input'}\n",
      "{'Timestamp': 1676511325.7560716, 'ChannelName': 'AmbientTemp', 'Value': 6.0, 'Units': 'degC', 'Cmd': 'Ambient air temperature'}\n",
      "{'Timestamp': 1676511325.7560716, 'ChannelName': 'EngineOilTemp', 'Value': 64.0, 'Units': 'degC', 'Cmd': 'Engine oil temperature'}\n",
      "FuelRate is not supported\n"
     ]
    },
    {
     "name": "stderr",
     "output_type": "stream",
     "text": [
      "[obd.obd] 'b'015E': Engine fuel rate' is not supported\n"
     ]
    },
    {
     "name": "stdout",
     "output_type": "stream",
     "text": [
      "{'Timestamp': 1676511326.8928757, 'ChannelName': 'RPM', 'Value': 735.75, 'Units': 'revolutions_per_minute', 'Cmd': 'Engine RPM'}\n",
      "{'Timestamp': 1676511326.8928757, 'ChannelName': 'Speed', 'Value': 0.0, 'Units': 'kph', 'Cmd': 'Vehicle Speed'}\n",
      "{'Timestamp': 1676511326.8928757, 'ChannelName': 'EngineLoad', 'Value': 16.862745098039216, 'Units': 'percent', 'Cmd': 'Calculated Engine Load'}\n",
      "{'Timestamp': 1676511326.8928757, 'ChannelName': 'CoolantTemp', 'Value': 74.0, 'Units': 'degC', 'Cmd': 'Engine Coolant Temperature'}\n",
      "{'Timestamp': 1676511326.8928757, 'ChannelName': 'IntakeTemp', 'Value': 6.0, 'Units': 'degC', 'Cmd': 'Intake Air Temp'}\n",
      "{'Timestamp': 1676511326.8928757, 'ChannelName': 'FuelLevel', 'Value': 70.98039215686275, 'Units': 'percent', 'Cmd': 'Fuel Level Input'}\n",
      "{'Timestamp': 1676511326.8928757, 'ChannelName': 'AmbientTemp', 'Value': 6.0, 'Units': 'degC', 'Cmd': 'Ambient air temperature'}\n",
      "{'Timestamp': 1676511326.8928757, 'ChannelName': 'EngineOilTemp', 'Value': 64.0, 'Units': 'degC', 'Cmd': 'Engine oil temperature'}\n",
      "FuelRate is not supported\n"
     ]
    },
    {
     "name": "stderr",
     "output_type": "stream",
     "text": [
      "[obd.obd] 'b'015E': Engine fuel rate' is not supported\n"
     ]
    },
    {
     "name": "stdout",
     "output_type": "stream",
     "text": [
      "{'Timestamp': 1676511328.0287752, 'ChannelName': 'RPM', 'Value': 734.25, 'Units': 'revolutions_per_minute', 'Cmd': 'Engine RPM'}\n",
      "{'Timestamp': 1676511328.0287752, 'ChannelName': 'Speed', 'Value': 0.0, 'Units': 'kph', 'Cmd': 'Vehicle Speed'}\n",
      "{'Timestamp': 1676511328.0287752, 'ChannelName': 'EngineLoad', 'Value': 16.862745098039216, 'Units': 'percent', 'Cmd': 'Calculated Engine Load'}\n",
      "{'Timestamp': 1676511328.0287752, 'ChannelName': 'CoolantTemp', 'Value': 74.0, 'Units': 'degC', 'Cmd': 'Engine Coolant Temperature'}\n",
      "{'Timestamp': 1676511328.0287752, 'ChannelName': 'IntakeTemp', 'Value': 6.0, 'Units': 'degC', 'Cmd': 'Intake Air Temp'}\n",
      "{'Timestamp': 1676511328.0287752, 'ChannelName': 'FuelLevel', 'Value': 70.98039215686275, 'Units': 'percent', 'Cmd': 'Fuel Level Input'}\n",
      "{'Timestamp': 1676511328.0287752, 'ChannelName': 'AmbientTemp', 'Value': 6.0, 'Units': 'degC', 'Cmd': 'Ambient air temperature'}\n",
      "{'Timestamp': 1676511328.0287752, 'ChannelName': 'EngineOilTemp', 'Value': 64.0, 'Units': 'degC', 'Cmd': 'Engine oil temperature'}\n",
      "FuelRate is not supported\n"
     ]
    },
    {
     "name": "stderr",
     "output_type": "stream",
     "text": [
      "[obd.obd] 'b'015E': Engine fuel rate' is not supported\n"
     ]
    },
    {
     "name": "stdout",
     "output_type": "stream",
     "text": [
      "{'Timestamp': 1676511329.164981, 'ChannelName': 'RPM', 'Value': 741.25, 'Units': 'revolutions_per_minute', 'Cmd': 'Engine RPM'}\n",
      "{'Timestamp': 1676511329.164981, 'ChannelName': 'Speed', 'Value': 0.0, 'Units': 'kph', 'Cmd': 'Vehicle Speed'}\n",
      "{'Timestamp': 1676511329.164981, 'ChannelName': 'EngineLoad', 'Value': 16.862745098039216, 'Units': 'percent', 'Cmd': 'Calculated Engine Load'}\n",
      "{'Timestamp': 1676511329.164981, 'ChannelName': 'CoolantTemp', 'Value': 74.0, 'Units': 'degC', 'Cmd': 'Engine Coolant Temperature'}\n",
      "{'Timestamp': 1676511329.164981, 'ChannelName': 'IntakeTemp', 'Value': 6.0, 'Units': 'degC', 'Cmd': 'Intake Air Temp'}\n",
      "{'Timestamp': 1676511329.164981, 'ChannelName': 'FuelLevel', 'Value': 70.98039215686275, 'Units': 'percent', 'Cmd': 'Fuel Level Input'}\n",
      "{'Timestamp': 1676511329.164981, 'ChannelName': 'AmbientTemp', 'Value': 6.0, 'Units': 'degC', 'Cmd': 'Ambient air temperature'}\n",
      "{'Timestamp': 1676511329.164981, 'ChannelName': 'EngineOilTemp', 'Value': 64.0, 'Units': 'degC', 'Cmd': 'Engine oil temperature'}\n",
      "FuelRate is not supported\n"
     ]
    },
    {
     "name": "stderr",
     "output_type": "stream",
     "text": [
      "[obd.obd] 'b'015E': Engine fuel rate' is not supported\n"
     ]
    },
    {
     "name": "stdout",
     "output_type": "stream",
     "text": [
      "{'Timestamp': 1676511330.301294, 'ChannelName': 'RPM', 'Value': 735.75, 'Units': 'revolutions_per_minute', 'Cmd': 'Engine RPM'}\n",
      "{'Timestamp': 1676511330.301294, 'ChannelName': 'Speed', 'Value': 0.0, 'Units': 'kph', 'Cmd': 'Vehicle Speed'}\n",
      "{'Timestamp': 1676511330.301294, 'ChannelName': 'EngineLoad', 'Value': 16.862745098039216, 'Units': 'percent', 'Cmd': 'Calculated Engine Load'}\n",
      "{'Timestamp': 1676511330.301294, 'ChannelName': 'CoolantTemp', 'Value': 74.0, 'Units': 'degC', 'Cmd': 'Engine Coolant Temperature'}\n",
      "{'Timestamp': 1676511330.301294, 'ChannelName': 'IntakeTemp', 'Value': 6.0, 'Units': 'degC', 'Cmd': 'Intake Air Temp'}\n",
      "{'Timestamp': 1676511330.301294, 'ChannelName': 'FuelLevel', 'Value': 70.98039215686275, 'Units': 'percent', 'Cmd': 'Fuel Level Input'}\n",
      "{'Timestamp': 1676511330.301294, 'ChannelName': 'AmbientTemp', 'Value': 6.0, 'Units': 'degC', 'Cmd': 'Ambient air temperature'}\n",
      "{'Timestamp': 1676511330.301294, 'ChannelName': 'EngineOilTemp', 'Value': 64.0, 'Units': 'degC', 'Cmd': 'Engine oil temperature'}\n",
      "FuelRate is not supported\n"
     ]
    },
    {
     "name": "stderr",
     "output_type": "stream",
     "text": [
      "[obd.obd] 'b'015E': Engine fuel rate' is not supported\n"
     ]
    },
    {
     "name": "stdout",
     "output_type": "stream",
     "text": [
      "{'Timestamp': 1676511331.4381773, 'ChannelName': 'RPM', 'Value': 735.75, 'Units': 'revolutions_per_minute', 'Cmd': 'Engine RPM'}\n",
      "{'Timestamp': 1676511331.4381773, 'ChannelName': 'Speed', 'Value': 0.0, 'Units': 'kph', 'Cmd': 'Vehicle Speed'}\n",
      "{'Timestamp': 1676511331.4381773, 'ChannelName': 'EngineLoad', 'Value': 16.862745098039216, 'Units': 'percent', 'Cmd': 'Calculated Engine Load'}\n",
      "{'Timestamp': 1676511331.4381773, 'ChannelName': 'CoolantTemp', 'Value': 74.0, 'Units': 'degC', 'Cmd': 'Engine Coolant Temperature'}\n",
      "{'Timestamp': 1676511331.4381773, 'ChannelName': 'IntakeTemp', 'Value': 6.0, 'Units': 'degC', 'Cmd': 'Intake Air Temp'}\n",
      "{'Timestamp': 1676511331.4381773, 'ChannelName': 'FuelLevel', 'Value': 70.98039215686275, 'Units': 'percent', 'Cmd': 'Fuel Level Input'}\n",
      "{'Timestamp': 1676511331.4381773, 'ChannelName': 'AmbientTemp', 'Value': 6.0, 'Units': 'degC', 'Cmd': 'Ambient air temperature'}\n",
      "{'Timestamp': 1676511331.4381773, 'ChannelName': 'EngineOilTemp', 'Value': 64.0, 'Units': 'degC', 'Cmd': 'Engine oil temperature'}\n",
      "FuelRate is not supported\n"
     ]
    },
    {
     "name": "stderr",
     "output_type": "stream",
     "text": [
      "[obd.obd] 'b'015E': Engine fuel rate' is not supported\n"
     ]
    },
    {
     "name": "stdout",
     "output_type": "stream",
     "text": [
      "{'Timestamp': 1676511332.5738618, 'ChannelName': 'RPM', 'Value': 737.5, 'Units': 'revolutions_per_minute', 'Cmd': 'Engine RPM'}\n",
      "{'Timestamp': 1676511332.5738618, 'ChannelName': 'Speed', 'Value': 0.0, 'Units': 'kph', 'Cmd': 'Vehicle Speed'}\n",
      "{'Timestamp': 1676511332.5738618, 'ChannelName': 'EngineLoad', 'Value': 16.862745098039216, 'Units': 'percent', 'Cmd': 'Calculated Engine Load'}\n",
      "{'Timestamp': 1676511332.5738618, 'ChannelName': 'CoolantTemp', 'Value': 74.0, 'Units': 'degC', 'Cmd': 'Engine Coolant Temperature'}\n",
      "{'Timestamp': 1676511332.5738618, 'ChannelName': 'IntakeTemp', 'Value': 6.0, 'Units': 'degC', 'Cmd': 'Intake Air Temp'}\n",
      "{'Timestamp': 1676511332.5738618, 'ChannelName': 'FuelLevel', 'Value': 70.98039215686275, 'Units': 'percent', 'Cmd': 'Fuel Level Input'}\n",
      "{'Timestamp': 1676511332.5738618, 'ChannelName': 'AmbientTemp', 'Value': 6.0, 'Units': 'degC', 'Cmd': 'Ambient air temperature'}\n",
      "{'Timestamp': 1676511332.5738618, 'ChannelName': 'EngineOilTemp', 'Value': 64.0, 'Units': 'degC', 'Cmd': 'Engine oil temperature'}\n",
      "FuelRate is not supported\n"
     ]
    },
    {
     "name": "stderr",
     "output_type": "stream",
     "text": [
      "[obd.obd] 'b'015E': Engine fuel rate' is not supported\n"
     ]
    },
    {
     "name": "stdout",
     "output_type": "stream",
     "text": [
      "{'Timestamp': 1676511333.7087104, 'ChannelName': 'RPM', 'Value': 734.25, 'Units': 'revolutions_per_minute', 'Cmd': 'Engine RPM'}\n",
      "{'Timestamp': 1676511333.7087104, 'ChannelName': 'Speed', 'Value': 0.0, 'Units': 'kph', 'Cmd': 'Vehicle Speed'}\n",
      "{'Timestamp': 1676511333.7087104, 'ChannelName': 'EngineLoad', 'Value': 16.862745098039216, 'Units': 'percent', 'Cmd': 'Calculated Engine Load'}\n",
      "{'Timestamp': 1676511333.7087104, 'ChannelName': 'CoolantTemp', 'Value': 74.0, 'Units': 'degC', 'Cmd': 'Engine Coolant Temperature'}\n",
      "{'Timestamp': 1676511333.7087104, 'ChannelName': 'IntakeTemp', 'Value': 6.0, 'Units': 'degC', 'Cmd': 'Intake Air Temp'}\n",
      "{'Timestamp': 1676511333.7087104, 'ChannelName': 'FuelLevel', 'Value': 70.98039215686275, 'Units': 'percent', 'Cmd': 'Fuel Level Input'}\n",
      "{'Timestamp': 1676511333.7087104, 'ChannelName': 'AmbientTemp', 'Value': 6.0, 'Units': 'degC', 'Cmd': 'Ambient air temperature'}\n",
      "{'Timestamp': 1676511333.7087104, 'ChannelName': 'EngineOilTemp', 'Value': 64.0, 'Units': 'degC', 'Cmd': 'Engine oil temperature'}\n",
      "FuelRate is not supported\n"
     ]
    },
    {
     "name": "stderr",
     "output_type": "stream",
     "text": [
      "[obd.obd] 'b'015E': Engine fuel rate' is not supported\n"
     ]
    },
    {
     "name": "stdout",
     "output_type": "stream",
     "text": [
      "{'Timestamp': 1676511334.8464303, 'ChannelName': 'RPM', 'Value': 735.0, 'Units': 'revolutions_per_minute', 'Cmd': 'Engine RPM'}\n",
      "{'Timestamp': 1676511334.8464303, 'ChannelName': 'Speed', 'Value': 0.0, 'Units': 'kph', 'Cmd': 'Vehicle Speed'}\n",
      "{'Timestamp': 1676511334.8464303, 'ChannelName': 'EngineLoad', 'Value': 16.862745098039216, 'Units': 'percent', 'Cmd': 'Calculated Engine Load'}\n",
      "{'Timestamp': 1676511334.8464303, 'ChannelName': 'CoolantTemp', 'Value': 74.0, 'Units': 'degC', 'Cmd': 'Engine Coolant Temperature'}\n",
      "{'Timestamp': 1676511334.8464303, 'ChannelName': 'IntakeTemp', 'Value': 6.0, 'Units': 'degC', 'Cmd': 'Intake Air Temp'}\n",
      "{'Timestamp': 1676511334.8464303, 'ChannelName': 'FuelLevel', 'Value': 70.98039215686275, 'Units': 'percent', 'Cmd': 'Fuel Level Input'}\n",
      "{'Timestamp': 1676511334.8464303, 'ChannelName': 'AmbientTemp', 'Value': 6.0, 'Units': 'degC', 'Cmd': 'Ambient air temperature'}\n",
      "{'Timestamp': 1676511334.8464303, 'ChannelName': 'EngineOilTemp', 'Value': 64.0, 'Units': 'degC', 'Cmd': 'Engine oil temperature'}\n",
      "FuelRate is not supported\n"
     ]
    },
    {
     "name": "stderr",
     "output_type": "stream",
     "text": [
      "[obd.obd] 'b'015E': Engine fuel rate' is not supported\n"
     ]
    },
    {
     "name": "stdout",
     "output_type": "stream",
     "text": [
      "{'Timestamp': 1676511335.982421, 'ChannelName': 'RPM', 'Value': 732.75, 'Units': 'revolutions_per_minute', 'Cmd': 'Engine RPM'}\n",
      "{'Timestamp': 1676511335.982421, 'ChannelName': 'Speed', 'Value': 0.0, 'Units': 'kph', 'Cmd': 'Vehicle Speed'}\n",
      "{'Timestamp': 1676511335.982421, 'ChannelName': 'EngineLoad', 'Value': 16.862745098039216, 'Units': 'percent', 'Cmd': 'Calculated Engine Load'}\n",
      "{'Timestamp': 1676511335.982421, 'ChannelName': 'CoolantTemp', 'Value': 74.0, 'Units': 'degC', 'Cmd': 'Engine Coolant Temperature'}\n",
      "{'Timestamp': 1676511335.982421, 'ChannelName': 'IntakeTemp', 'Value': 6.0, 'Units': 'degC', 'Cmd': 'Intake Air Temp'}\n",
      "{'Timestamp': 1676511335.982421, 'ChannelName': 'FuelLevel', 'Value': 70.98039215686275, 'Units': 'percent', 'Cmd': 'Fuel Level Input'}\n",
      "{'Timestamp': 1676511335.982421, 'ChannelName': 'AmbientTemp', 'Value': 6.0, 'Units': 'degC', 'Cmd': 'Ambient air temperature'}\n",
      "{'Timestamp': 1676511335.982421, 'ChannelName': 'EngineOilTemp', 'Value': 64.0, 'Units': 'degC', 'Cmd': 'Engine oil temperature'}\n",
      "FuelRate is not supported\n"
     ]
    },
    {
     "name": "stderr",
     "output_type": "stream",
     "text": [
      "[obd.obd] 'b'015E': Engine fuel rate' is not supported\n"
     ]
    },
    {
     "name": "stdout",
     "output_type": "stream",
     "text": [
      "{'Timestamp': 1676511337.1196496, 'ChannelName': 'RPM', 'Value': 735.0, 'Units': 'revolutions_per_minute', 'Cmd': 'Engine RPM'}\n",
      "{'Timestamp': 1676511337.1196496, 'ChannelName': 'Speed', 'Value': 0.0, 'Units': 'kph', 'Cmd': 'Vehicle Speed'}\n",
      "{'Timestamp': 1676511337.1196496, 'ChannelName': 'EngineLoad', 'Value': 16.862745098039216, 'Units': 'percent', 'Cmd': 'Calculated Engine Load'}\n",
      "{'Timestamp': 1676511337.1196496, 'ChannelName': 'CoolantTemp', 'Value': 74.0, 'Units': 'degC', 'Cmd': 'Engine Coolant Temperature'}\n",
      "{'Timestamp': 1676511337.1196496, 'ChannelName': 'IntakeTemp', 'Value': 6.0, 'Units': 'degC', 'Cmd': 'Intake Air Temp'}\n",
      "{'Timestamp': 1676511337.1196496, 'ChannelName': 'FuelLevel', 'Value': 70.98039215686275, 'Units': 'percent', 'Cmd': 'Fuel Level Input'}\n",
      "{'Timestamp': 1676511337.1196496, 'ChannelName': 'AmbientTemp', 'Value': 6.0, 'Units': 'degC', 'Cmd': 'Ambient air temperature'}\n",
      "{'Timestamp': 1676511337.1196496, 'ChannelName': 'EngineOilTemp', 'Value': 64.0, 'Units': 'degC', 'Cmd': 'Engine oil temperature'}\n",
      "FuelRate is not supported\n"
     ]
    },
    {
     "name": "stderr",
     "output_type": "stream",
     "text": [
      "[obd.obd] 'b'015E': Engine fuel rate' is not supported\n"
     ]
    },
    {
     "name": "stdout",
     "output_type": "stream",
     "text": [
      "{'Timestamp': 1676511338.2551873, 'ChannelName': 'RPM', 'Value': 734.25, 'Units': 'revolutions_per_minute', 'Cmd': 'Engine RPM'}\n",
      "{'Timestamp': 1676511338.2551873, 'ChannelName': 'Speed', 'Value': 0.0, 'Units': 'kph', 'Cmd': 'Vehicle Speed'}\n",
      "{'Timestamp': 1676511338.2551873, 'ChannelName': 'EngineLoad', 'Value': 16.862745098039216, 'Units': 'percent', 'Cmd': 'Calculated Engine Load'}\n",
      "{'Timestamp': 1676511338.2551873, 'ChannelName': 'CoolantTemp', 'Value': 74.0, 'Units': 'degC', 'Cmd': 'Engine Coolant Temperature'}\n",
      "{'Timestamp': 1676511338.2551873, 'ChannelName': 'IntakeTemp', 'Value': 6.0, 'Units': 'degC', 'Cmd': 'Intake Air Temp'}\n",
      "{'Timestamp': 1676511338.2551873, 'ChannelName': 'FuelLevel', 'Value': 70.98039215686275, 'Units': 'percent', 'Cmd': 'Fuel Level Input'}\n",
      "{'Timestamp': 1676511338.2551873, 'ChannelName': 'AmbientTemp', 'Value': 6.0, 'Units': 'degC', 'Cmd': 'Ambient air temperature'}\n",
      "{'Timestamp': 1676511338.2551873, 'ChannelName': 'EngineOilTemp', 'Value': 64.0, 'Units': 'degC', 'Cmd': 'Engine oil temperature'}\n",
      "FuelRate is not supported\n"
     ]
    },
    {
     "name": "stderr",
     "output_type": "stream",
     "text": [
      "[obd.obd] 'b'015E': Engine fuel rate' is not supported\n"
     ]
    },
    {
     "name": "stdout",
     "output_type": "stream",
     "text": [
      "{'Timestamp': 1676511339.389985, 'ChannelName': 'RPM', 'Value': 735.0, 'Units': 'revolutions_per_minute', 'Cmd': 'Engine RPM'}\n",
      "{'Timestamp': 1676511339.389985, 'ChannelName': 'Speed', 'Value': 0.0, 'Units': 'kph', 'Cmd': 'Vehicle Speed'}\n",
      "{'Timestamp': 1676511339.389985, 'ChannelName': 'EngineLoad', 'Value': 16.862745098039216, 'Units': 'percent', 'Cmd': 'Calculated Engine Load'}\n",
      "{'Timestamp': 1676511339.389985, 'ChannelName': 'CoolantTemp', 'Value': 74.0, 'Units': 'degC', 'Cmd': 'Engine Coolant Temperature'}\n",
      "{'Timestamp': 1676511339.389985, 'ChannelName': 'IntakeTemp', 'Value': 6.0, 'Units': 'degC', 'Cmd': 'Intake Air Temp'}\n",
      "{'Timestamp': 1676511339.389985, 'ChannelName': 'FuelLevel', 'Value': 70.98039215686275, 'Units': 'percent', 'Cmd': 'Fuel Level Input'}\n",
      "{'Timestamp': 1676511339.389985, 'ChannelName': 'AmbientTemp', 'Value': 6.0, 'Units': 'degC', 'Cmd': 'Ambient air temperature'}\n",
      "{'Timestamp': 1676511339.389985, 'ChannelName': 'EngineOilTemp', 'Value': 64.0, 'Units': 'degC', 'Cmd': 'Engine oil temperature'}\n",
      "FuelRate is not supported\n"
     ]
    },
    {
     "name": "stderr",
     "output_type": "stream",
     "text": [
      "[obd.obd] 'b'015E': Engine fuel rate' is not supported\n"
     ]
    },
    {
     "name": "stdout",
     "output_type": "stream",
     "text": [
      "{'Timestamp': 1676511340.5271049, 'ChannelName': 'RPM', 'Value': 733.5, 'Units': 'revolutions_per_minute', 'Cmd': 'Engine RPM'}\n",
      "{'Timestamp': 1676511340.5271049, 'ChannelName': 'Speed', 'Value': 0.0, 'Units': 'kph', 'Cmd': 'Vehicle Speed'}\n",
      "{'Timestamp': 1676511340.5271049, 'ChannelName': 'EngineLoad', 'Value': 16.862745098039216, 'Units': 'percent', 'Cmd': 'Calculated Engine Load'}\n",
      "{'Timestamp': 1676511340.5271049, 'ChannelName': 'CoolantTemp', 'Value': 74.0, 'Units': 'degC', 'Cmd': 'Engine Coolant Temperature'}\n",
      "{'Timestamp': 1676511340.5271049, 'ChannelName': 'IntakeTemp', 'Value': 6.0, 'Units': 'degC', 'Cmd': 'Intake Air Temp'}\n",
      "{'Timestamp': 1676511340.5271049, 'ChannelName': 'FuelLevel', 'Value': 70.98039215686275, 'Units': 'percent', 'Cmd': 'Fuel Level Input'}\n",
      "{'Timestamp': 1676511340.5271049, 'ChannelName': 'AmbientTemp', 'Value': 6.0, 'Units': 'degC', 'Cmd': 'Ambient air temperature'}\n",
      "{'Timestamp': 1676511340.5271049, 'ChannelName': 'EngineOilTemp', 'Value': 64.0, 'Units': 'degC', 'Cmd': 'Engine oil temperature'}\n",
      "FuelRate is not supported\n"
     ]
    },
    {
     "name": "stderr",
     "output_type": "stream",
     "text": [
      "[obd.obd] 'b'015E': Engine fuel rate' is not supported\n"
     ]
    },
    {
     "name": "stdout",
     "output_type": "stream",
     "text": [
      "{'Timestamp': 1676511341.6638613, 'ChannelName': 'RPM', 'Value': 732.0, 'Units': 'revolutions_per_minute', 'Cmd': 'Engine RPM'}\n",
      "{'Timestamp': 1676511341.6638613, 'ChannelName': 'Speed', 'Value': 0.0, 'Units': 'kph', 'Cmd': 'Vehicle Speed'}\n",
      "{'Timestamp': 1676511341.6638613, 'ChannelName': 'EngineLoad', 'Value': 16.862745098039216, 'Units': 'percent', 'Cmd': 'Calculated Engine Load'}\n",
      "{'Timestamp': 1676511341.6638613, 'ChannelName': 'CoolantTemp', 'Value': 74.0, 'Units': 'degC', 'Cmd': 'Engine Coolant Temperature'}\n",
      "{'Timestamp': 1676511341.6638613, 'ChannelName': 'IntakeTemp', 'Value': 6.0, 'Units': 'degC', 'Cmd': 'Intake Air Temp'}\n",
      "{'Timestamp': 1676511341.6638613, 'ChannelName': 'FuelLevel', 'Value': 70.98039215686275, 'Units': 'percent', 'Cmd': 'Fuel Level Input'}\n",
      "{'Timestamp': 1676511341.6638613, 'ChannelName': 'AmbientTemp', 'Value': 6.0, 'Units': 'degC', 'Cmd': 'Ambient air temperature'}\n",
      "{'Timestamp': 1676511341.6638613, 'ChannelName': 'EngineOilTemp', 'Value': 64.0, 'Units': 'degC', 'Cmd': 'Engine oil temperature'}\n",
      "FuelRate is not supported\n"
     ]
    },
    {
     "name": "stderr",
     "output_type": "stream",
     "text": [
      "[obd.obd] 'b'015E': Engine fuel rate' is not supported\n"
     ]
    },
    {
     "name": "stdout",
     "output_type": "stream",
     "text": [
      "{'Timestamp': 1676511342.8010085, 'ChannelName': 'RPM', 'Value': 731.25, 'Units': 'revolutions_per_minute', 'Cmd': 'Engine RPM'}\n",
      "{'Timestamp': 1676511342.8010085, 'ChannelName': 'Speed', 'Value': 0.0, 'Units': 'kph', 'Cmd': 'Vehicle Speed'}\n",
      "{'Timestamp': 1676511342.8010085, 'ChannelName': 'EngineLoad', 'Value': 16.862745098039216, 'Units': 'percent', 'Cmd': 'Calculated Engine Load'}\n",
      "{'Timestamp': 1676511342.8010085, 'ChannelName': 'CoolantTemp', 'Value': 74.0, 'Units': 'degC', 'Cmd': 'Engine Coolant Temperature'}\n",
      "{'Timestamp': 1676511342.8010085, 'ChannelName': 'IntakeTemp', 'Value': 6.0, 'Units': 'degC', 'Cmd': 'Intake Air Temp'}\n",
      "{'Timestamp': 1676511342.8010085, 'ChannelName': 'FuelLevel', 'Value': 70.98039215686275, 'Units': 'percent', 'Cmd': 'Fuel Level Input'}\n",
      "{'Timestamp': 1676511342.8010085, 'ChannelName': 'AmbientTemp', 'Value': 6.0, 'Units': 'degC', 'Cmd': 'Ambient air temperature'}\n",
      "{'Timestamp': 1676511342.8010085, 'ChannelName': 'EngineOilTemp', 'Value': 64.0, 'Units': 'degC', 'Cmd': 'Engine oil temperature'}\n",
      "FuelRate is not supported\n"
     ]
    },
    {
     "name": "stderr",
     "output_type": "stream",
     "text": [
      "[obd.obd] 'b'015E': Engine fuel rate' is not supported\n"
     ]
    },
    {
     "name": "stdout",
     "output_type": "stream",
     "text": [
      "{'Timestamp': 1676511343.9352088, 'ChannelName': 'RPM', 'Value': 735.75, 'Units': 'revolutions_per_minute', 'Cmd': 'Engine RPM'}\n",
      "{'Timestamp': 1676511343.9352088, 'ChannelName': 'Speed', 'Value': 0.0, 'Units': 'kph', 'Cmd': 'Vehicle Speed'}\n",
      "{'Timestamp': 1676511343.9352088, 'ChannelName': 'EngineLoad', 'Value': 16.862745098039216, 'Units': 'percent', 'Cmd': 'Calculated Engine Load'}\n",
      "{'Timestamp': 1676511343.9352088, 'ChannelName': 'CoolantTemp', 'Value': 74.0, 'Units': 'degC', 'Cmd': 'Engine Coolant Temperature'}\n",
      "{'Timestamp': 1676511343.9352088, 'ChannelName': 'IntakeTemp', 'Value': 6.0, 'Units': 'degC', 'Cmd': 'Intake Air Temp'}\n",
      "{'Timestamp': 1676511343.9352088, 'ChannelName': 'FuelLevel', 'Value': 70.98039215686275, 'Units': 'percent', 'Cmd': 'Fuel Level Input'}\n",
      "{'Timestamp': 1676511343.9352088, 'ChannelName': 'AmbientTemp', 'Value': 6.0, 'Units': 'degC', 'Cmd': 'Ambient air temperature'}\n",
      "{'Timestamp': 1676511343.9352088, 'ChannelName': 'EngineOilTemp', 'Value': 64.0, 'Units': 'degC', 'Cmd': 'Engine oil temperature'}\n",
      "FuelRate is not supported\n"
     ]
    },
    {
     "name": "stderr",
     "output_type": "stream",
     "text": [
      "[obd.obd] 'b'015E': Engine fuel rate' is not supported\n"
     ]
    },
    {
     "name": "stdout",
     "output_type": "stream",
     "text": [
      "{'Timestamp': 1676511345.0712848, 'ChannelName': 'RPM', 'Value': 732.75, 'Units': 'revolutions_per_minute', 'Cmd': 'Engine RPM'}\n",
      "{'Timestamp': 1676511345.0712848, 'ChannelName': 'Speed', 'Value': 0.0, 'Units': 'kph', 'Cmd': 'Vehicle Speed'}\n",
      "{'Timestamp': 1676511345.0712848, 'ChannelName': 'EngineLoad', 'Value': 16.862745098039216, 'Units': 'percent', 'Cmd': 'Calculated Engine Load'}\n",
      "{'Timestamp': 1676511345.0712848, 'ChannelName': 'CoolantTemp', 'Value': 74.0, 'Units': 'degC', 'Cmd': 'Engine Coolant Temperature'}\n",
      "{'Timestamp': 1676511345.0712848, 'ChannelName': 'IntakeTemp', 'Value': 6.0, 'Units': 'degC', 'Cmd': 'Intake Air Temp'}\n",
      "{'Timestamp': 1676511345.0712848, 'ChannelName': 'FuelLevel', 'Value': 70.98039215686275, 'Units': 'percent', 'Cmd': 'Fuel Level Input'}\n",
      "{'Timestamp': 1676511345.0712848, 'ChannelName': 'AmbientTemp', 'Value': 6.0, 'Units': 'degC', 'Cmd': 'Ambient air temperature'}\n",
      "{'Timestamp': 1676511345.0712848, 'ChannelName': 'EngineOilTemp', 'Value': 64.0, 'Units': 'degC', 'Cmd': 'Engine oil temperature'}\n",
      "FuelRate is not supported\n"
     ]
    },
    {
     "name": "stderr",
     "output_type": "stream",
     "text": [
      "[obd.obd] 'b'015E': Engine fuel rate' is not supported\n"
     ]
    },
    {
     "name": "stdout",
     "output_type": "stream",
     "text": [
      "{'Timestamp': 1676511346.2092884, 'ChannelName': 'RPM', 'Value': 731.25, 'Units': 'revolutions_per_minute', 'Cmd': 'Engine RPM'}\n",
      "{'Timestamp': 1676511346.2092884, 'ChannelName': 'Speed', 'Value': 0.0, 'Units': 'kph', 'Cmd': 'Vehicle Speed'}\n",
      "{'Timestamp': 1676511346.2092884, 'ChannelName': 'EngineLoad', 'Value': 16.862745098039216, 'Units': 'percent', 'Cmd': 'Calculated Engine Load'}\n",
      "{'Timestamp': 1676511346.2092884, 'ChannelName': 'CoolantTemp', 'Value': 74.0, 'Units': 'degC', 'Cmd': 'Engine Coolant Temperature'}\n",
      "{'Timestamp': 1676511346.2092884, 'ChannelName': 'IntakeTemp', 'Value': 6.0, 'Units': 'degC', 'Cmd': 'Intake Air Temp'}\n",
      "{'Timestamp': 1676511346.2092884, 'ChannelName': 'FuelLevel', 'Value': 70.98039215686275, 'Units': 'percent', 'Cmd': 'Fuel Level Input'}\n",
      "{'Timestamp': 1676511346.2092884, 'ChannelName': 'AmbientTemp', 'Value': 6.0, 'Units': 'degC', 'Cmd': 'Ambient air temperature'}\n",
      "{'Timestamp': 1676511346.2092884, 'ChannelName': 'EngineOilTemp', 'Value': 64.0, 'Units': 'degC', 'Cmd': 'Engine oil temperature'}\n",
      "FuelRate is not supported\n"
     ]
    },
    {
     "name": "stderr",
     "output_type": "stream",
     "text": [
      "[obd.obd] 'b'015E': Engine fuel rate' is not supported\n"
     ]
    },
    {
     "name": "stdout",
     "output_type": "stream",
     "text": [
      "{'Timestamp': 1676511347.3449244, 'ChannelName': 'RPM', 'Value': 732.75, 'Units': 'revolutions_per_minute', 'Cmd': 'Engine RPM'}\n",
      "{'Timestamp': 1676511347.3449244, 'ChannelName': 'Speed', 'Value': 0.0, 'Units': 'kph', 'Cmd': 'Vehicle Speed'}\n",
      "{'Timestamp': 1676511347.3449244, 'ChannelName': 'EngineLoad', 'Value': 16.862745098039216, 'Units': 'percent', 'Cmd': 'Calculated Engine Load'}\n",
      "{'Timestamp': 1676511347.3449244, 'ChannelName': 'CoolantTemp', 'Value': 74.0, 'Units': 'degC', 'Cmd': 'Engine Coolant Temperature'}\n",
      "{'Timestamp': 1676511347.3449244, 'ChannelName': 'IntakeTemp', 'Value': 6.0, 'Units': 'degC', 'Cmd': 'Intake Air Temp'}\n",
      "{'Timestamp': 1676511347.3449244, 'ChannelName': 'FuelLevel', 'Value': 70.98039215686275, 'Units': 'percent', 'Cmd': 'Fuel Level Input'}\n",
      "{'Timestamp': 1676511347.3449244, 'ChannelName': 'AmbientTemp', 'Value': 6.0, 'Units': 'degC', 'Cmd': 'Ambient air temperature'}\n",
      "{'Timestamp': 1676511347.3449244, 'ChannelName': 'EngineOilTemp', 'Value': 64.0, 'Units': 'degC', 'Cmd': 'Engine oil temperature'}\n",
      "FuelRate is not supported\n"
     ]
    },
    {
     "name": "stderr",
     "output_type": "stream",
     "text": [
      "[obd.obd] 'b'015E': Engine fuel rate' is not supported\n"
     ]
    },
    {
     "name": "stdout",
     "output_type": "stream",
     "text": [
      "{'Timestamp': 1676511348.4822385, 'ChannelName': 'RPM', 'Value': 734.25, 'Units': 'revolutions_per_minute', 'Cmd': 'Engine RPM'}\n",
      "{'Timestamp': 1676511348.4822385, 'ChannelName': 'Speed', 'Value': 0.0, 'Units': 'kph', 'Cmd': 'Vehicle Speed'}\n",
      "{'Timestamp': 1676511348.4822385, 'ChannelName': 'EngineLoad', 'Value': 16.862745098039216, 'Units': 'percent', 'Cmd': 'Calculated Engine Load'}\n",
      "{'Timestamp': 1676511348.4822385, 'ChannelName': 'CoolantTemp', 'Value': 74.0, 'Units': 'degC', 'Cmd': 'Engine Coolant Temperature'}\n",
      "{'Timestamp': 1676511348.4822385, 'ChannelName': 'IntakeTemp', 'Value': 6.0, 'Units': 'degC', 'Cmd': 'Intake Air Temp'}\n",
      "{'Timestamp': 1676511348.4822385, 'ChannelName': 'FuelLevel', 'Value': 70.98039215686275, 'Units': 'percent', 'Cmd': 'Fuel Level Input'}\n",
      "{'Timestamp': 1676511348.4822385, 'ChannelName': 'AmbientTemp', 'Value': 6.0, 'Units': 'degC', 'Cmd': 'Ambient air temperature'}\n",
      "{'Timestamp': 1676511348.4822385, 'ChannelName': 'EngineOilTemp', 'Value': 64.0, 'Units': 'degC', 'Cmd': 'Engine oil temperature'}\n",
      "FuelRate is not supported\n"
     ]
    },
    {
     "name": "stderr",
     "output_type": "stream",
     "text": [
      "[obd.obd] 'b'015E': Engine fuel rate' is not supported\n"
     ]
    },
    {
     "name": "stdout",
     "output_type": "stream",
     "text": [
      "{'Timestamp': 1676511349.617366, 'ChannelName': 'RPM', 'Value': 732.75, 'Units': 'revolutions_per_minute', 'Cmd': 'Engine RPM'}\n",
      "{'Timestamp': 1676511349.617366, 'ChannelName': 'Speed', 'Value': 0.0, 'Units': 'kph', 'Cmd': 'Vehicle Speed'}\n",
      "{'Timestamp': 1676511349.617366, 'ChannelName': 'EngineLoad', 'Value': 16.862745098039216, 'Units': 'percent', 'Cmd': 'Calculated Engine Load'}\n",
      "{'Timestamp': 1676511349.617366, 'ChannelName': 'CoolantTemp', 'Value': 74.0, 'Units': 'degC', 'Cmd': 'Engine Coolant Temperature'}\n",
      "{'Timestamp': 1676511349.617366, 'ChannelName': 'IntakeTemp', 'Value': 6.0, 'Units': 'degC', 'Cmd': 'Intake Air Temp'}\n",
      "{'Timestamp': 1676511349.617366, 'ChannelName': 'FuelLevel', 'Value': 70.98039215686275, 'Units': 'percent', 'Cmd': 'Fuel Level Input'}\n",
      "{'Timestamp': 1676511349.617366, 'ChannelName': 'AmbientTemp', 'Value': 6.0, 'Units': 'degC', 'Cmd': 'Ambient air temperature'}\n",
      "{'Timestamp': 1676511349.617366, 'ChannelName': 'EngineOilTemp', 'Value': 64.0, 'Units': 'degC', 'Cmd': 'Engine oil temperature'}\n",
      "FuelRate is not supported\n"
     ]
    },
    {
     "name": "stderr",
     "output_type": "stream",
     "text": [
      "[obd.obd] 'b'015E': Engine fuel rate' is not supported\n"
     ]
    },
    {
     "name": "stdout",
     "output_type": "stream",
     "text": [
      "{'Timestamp': 1676511350.7530696, 'ChannelName': 'RPM', 'Value': 733.5, 'Units': 'revolutions_per_minute', 'Cmd': 'Engine RPM'}\n",
      "{'Timestamp': 1676511350.7530696, 'ChannelName': 'Speed', 'Value': 0.0, 'Units': 'kph', 'Cmd': 'Vehicle Speed'}\n",
      "{'Timestamp': 1676511350.7530696, 'ChannelName': 'EngineLoad', 'Value': 16.862745098039216, 'Units': 'percent', 'Cmd': 'Calculated Engine Load'}\n",
      "{'Timestamp': 1676511350.7530696, 'ChannelName': 'CoolantTemp', 'Value': 74.0, 'Units': 'degC', 'Cmd': 'Engine Coolant Temperature'}\n",
      "{'Timestamp': 1676511350.7530696, 'ChannelName': 'IntakeTemp', 'Value': 6.0, 'Units': 'degC', 'Cmd': 'Intake Air Temp'}\n",
      "{'Timestamp': 1676511350.7530696, 'ChannelName': 'FuelLevel', 'Value': 70.98039215686275, 'Units': 'percent', 'Cmd': 'Fuel Level Input'}\n",
      "{'Timestamp': 1676511350.7530696, 'ChannelName': 'AmbientTemp', 'Value': 6.0, 'Units': 'degC', 'Cmd': 'Ambient air temperature'}\n",
      "{'Timestamp': 1676511350.7530696, 'ChannelName': 'EngineOilTemp', 'Value': 64.0, 'Units': 'degC', 'Cmd': 'Engine oil temperature'}\n",
      "FuelRate is not supported\n"
     ]
    },
    {
     "name": "stderr",
     "output_type": "stream",
     "text": [
      "[obd.obd] 'b'015E': Engine fuel rate' is not supported\n"
     ]
    },
    {
     "name": "stdout",
     "output_type": "stream",
     "text": [
      "{'Timestamp': 1676511351.8889103, 'ChannelName': 'RPM', 'Value': 732.0, 'Units': 'revolutions_per_minute', 'Cmd': 'Engine RPM'}\n",
      "{'Timestamp': 1676511351.8889103, 'ChannelName': 'Speed', 'Value': 0.0, 'Units': 'kph', 'Cmd': 'Vehicle Speed'}\n",
      "{'Timestamp': 1676511351.8889103, 'ChannelName': 'EngineLoad', 'Value': 16.862745098039216, 'Units': 'percent', 'Cmd': 'Calculated Engine Load'}\n",
      "{'Timestamp': 1676511351.8889103, 'ChannelName': 'CoolantTemp', 'Value': 74.0, 'Units': 'degC', 'Cmd': 'Engine Coolant Temperature'}\n",
      "{'Timestamp': 1676511351.8889103, 'ChannelName': 'IntakeTemp', 'Value': 6.0, 'Units': 'degC', 'Cmd': 'Intake Air Temp'}\n",
      "{'Timestamp': 1676511351.8889103, 'ChannelName': 'FuelLevel', 'Value': 70.98039215686275, 'Units': 'percent', 'Cmd': 'Fuel Level Input'}\n",
      "{'Timestamp': 1676511351.8889103, 'ChannelName': 'AmbientTemp', 'Value': 6.0, 'Units': 'degC', 'Cmd': 'Ambient air temperature'}\n",
      "{'Timestamp': 1676511351.8889103, 'ChannelName': 'EngineOilTemp', 'Value': 64.0, 'Units': 'degC', 'Cmd': 'Engine oil temperature'}\n",
      "FuelRate is not supported\n"
     ]
    },
    {
     "name": "stderr",
     "output_type": "stream",
     "text": [
      "[obd.obd] 'b'015E': Engine fuel rate' is not supported\n"
     ]
    },
    {
     "name": "stdout",
     "output_type": "stream",
     "text": [
      "{'Timestamp': 1676511353.0259664, 'ChannelName': 'RPM', 'Value': 727.25, 'Units': 'revolutions_per_minute', 'Cmd': 'Engine RPM'}\n",
      "{'Timestamp': 1676511353.0259664, 'ChannelName': 'Speed', 'Value': 0.0, 'Units': 'kph', 'Cmd': 'Vehicle Speed'}\n",
      "{'Timestamp': 1676511353.0259664, 'ChannelName': 'EngineLoad', 'Value': 16.862745098039216, 'Units': 'percent', 'Cmd': 'Calculated Engine Load'}\n",
      "{'Timestamp': 1676511353.0259664, 'ChannelName': 'CoolantTemp', 'Value': 74.0, 'Units': 'degC', 'Cmd': 'Engine Coolant Temperature'}\n",
      "{'Timestamp': 1676511353.0259664, 'ChannelName': 'IntakeTemp', 'Value': 6.0, 'Units': 'degC', 'Cmd': 'Intake Air Temp'}\n",
      "{'Timestamp': 1676511353.0259664, 'ChannelName': 'FuelLevel', 'Value': 70.98039215686275, 'Units': 'percent', 'Cmd': 'Fuel Level Input'}\n",
      "{'Timestamp': 1676511353.0259664, 'ChannelName': 'AmbientTemp', 'Value': 6.0, 'Units': 'degC', 'Cmd': 'Ambient air temperature'}\n",
      "{'Timestamp': 1676511353.0259664, 'ChannelName': 'EngineOilTemp', 'Value': 64.0, 'Units': 'degC', 'Cmd': 'Engine oil temperature'}\n",
      "FuelRate is not supported\n"
     ]
    },
    {
     "name": "stderr",
     "output_type": "stream",
     "text": [
      "[obd.obd] 'b'015E': Engine fuel rate' is not supported\n"
     ]
    },
    {
     "name": "stdout",
     "output_type": "stream",
     "text": [
      "{'Timestamp': 1676511354.1621106, 'ChannelName': 'RPM', 'Value': 735.75, 'Units': 'revolutions_per_minute', 'Cmd': 'Engine RPM'}\n",
      "{'Timestamp': 1676511354.1621106, 'ChannelName': 'Speed', 'Value': 0.0, 'Units': 'kph', 'Cmd': 'Vehicle Speed'}\n",
      "{'Timestamp': 1676511354.1621106, 'ChannelName': 'EngineLoad', 'Value': 16.862745098039216, 'Units': 'percent', 'Cmd': 'Calculated Engine Load'}\n",
      "{'Timestamp': 1676511354.1621106, 'ChannelName': 'CoolantTemp', 'Value': 74.0, 'Units': 'degC', 'Cmd': 'Engine Coolant Temperature'}\n",
      "{'Timestamp': 1676511354.1621106, 'ChannelName': 'IntakeTemp', 'Value': 6.0, 'Units': 'degC', 'Cmd': 'Intake Air Temp'}\n",
      "{'Timestamp': 1676511354.1621106, 'ChannelName': 'FuelLevel', 'Value': 70.98039215686275, 'Units': 'percent', 'Cmd': 'Fuel Level Input'}\n",
      "{'Timestamp': 1676511354.1621106, 'ChannelName': 'AmbientTemp', 'Value': 6.0, 'Units': 'degC', 'Cmd': 'Ambient air temperature'}\n",
      "{'Timestamp': 1676511354.1621106, 'ChannelName': 'EngineOilTemp', 'Value': 64.0, 'Units': 'degC', 'Cmd': 'Engine oil temperature'}\n",
      "FuelRate is not supported\n"
     ]
    },
    {
     "name": "stderr",
     "output_type": "stream",
     "text": [
      "[obd.obd] 'b'015E': Engine fuel rate' is not supported\n"
     ]
    },
    {
     "name": "stdout",
     "output_type": "stream",
     "text": [
      "{'Timestamp': 1676511355.2984328, 'ChannelName': 'RPM', 'Value': 732.75, 'Units': 'revolutions_per_minute', 'Cmd': 'Engine RPM'}\n",
      "{'Timestamp': 1676511355.2984328, 'ChannelName': 'Speed', 'Value': 0.0, 'Units': 'kph', 'Cmd': 'Vehicle Speed'}\n",
      "{'Timestamp': 1676511355.2984328, 'ChannelName': 'EngineLoad', 'Value': 16.862745098039216, 'Units': 'percent', 'Cmd': 'Calculated Engine Load'}\n",
      "{'Timestamp': 1676511355.2984328, 'ChannelName': 'CoolantTemp', 'Value': 74.0, 'Units': 'degC', 'Cmd': 'Engine Coolant Temperature'}\n",
      "{'Timestamp': 1676511355.2984328, 'ChannelName': 'IntakeTemp', 'Value': 6.0, 'Units': 'degC', 'Cmd': 'Intake Air Temp'}\n",
      "{'Timestamp': 1676511355.2984328, 'ChannelName': 'FuelLevel', 'Value': 70.98039215686275, 'Units': 'percent', 'Cmd': 'Fuel Level Input'}\n",
      "{'Timestamp': 1676511355.2984328, 'ChannelName': 'AmbientTemp', 'Value': 6.0, 'Units': 'degC', 'Cmd': 'Ambient air temperature'}\n",
      "{'Timestamp': 1676511355.2984328, 'ChannelName': 'EngineOilTemp', 'Value': 64.0, 'Units': 'degC', 'Cmd': 'Engine oil temperature'}\n",
      "FuelRate is not supported\n"
     ]
    },
    {
     "name": "stderr",
     "output_type": "stream",
     "text": [
      "[obd.obd] 'b'015E': Engine fuel rate' is not supported\n"
     ]
    },
    {
     "name": "stdout",
     "output_type": "stream",
     "text": [
      "{'Timestamp': 1676511356.434792, 'ChannelName': 'RPM', 'Value': 733.5, 'Units': 'revolutions_per_minute', 'Cmd': 'Engine RPM'}\n",
      "{'Timestamp': 1676511356.434792, 'ChannelName': 'Speed', 'Value': 0.0, 'Units': 'kph', 'Cmd': 'Vehicle Speed'}\n",
      "{'Timestamp': 1676511356.434792, 'ChannelName': 'EngineLoad', 'Value': 16.862745098039216, 'Units': 'percent', 'Cmd': 'Calculated Engine Load'}\n",
      "{'Timestamp': 1676511356.434792, 'ChannelName': 'CoolantTemp', 'Value': 74.0, 'Units': 'degC', 'Cmd': 'Engine Coolant Temperature'}\n",
      "{'Timestamp': 1676511356.434792, 'ChannelName': 'IntakeTemp', 'Value': 6.0, 'Units': 'degC', 'Cmd': 'Intake Air Temp'}\n",
      "{'Timestamp': 1676511356.434792, 'ChannelName': 'FuelLevel', 'Value': 70.98039215686275, 'Units': 'percent', 'Cmd': 'Fuel Level Input'}\n",
      "{'Timestamp': 1676511356.434792, 'ChannelName': 'AmbientTemp', 'Value': 6.0, 'Units': 'degC', 'Cmd': 'Ambient air temperature'}\n",
      "{'Timestamp': 1676511356.434792, 'ChannelName': 'EngineOilTemp', 'Value': 64.0, 'Units': 'degC', 'Cmd': 'Engine oil temperature'}\n",
      "FuelRate is not supported\n"
     ]
    },
    {
     "name": "stderr",
     "output_type": "stream",
     "text": [
      "[obd.obd] 'b'015E': Engine fuel rate' is not supported\n"
     ]
    },
    {
     "name": "stdout",
     "output_type": "stream",
     "text": [
      "{'Timestamp': 1676511357.5702958, 'ChannelName': 'RPM', 'Value': 735.75, 'Units': 'revolutions_per_minute', 'Cmd': 'Engine RPM'}\n",
      "{'Timestamp': 1676511357.5702958, 'ChannelName': 'Speed', 'Value': 0.0, 'Units': 'kph', 'Cmd': 'Vehicle Speed'}\n",
      "{'Timestamp': 1676511357.5702958, 'ChannelName': 'EngineLoad', 'Value': 16.862745098039216, 'Units': 'percent', 'Cmd': 'Calculated Engine Load'}\n",
      "{'Timestamp': 1676511357.5702958, 'ChannelName': 'CoolantTemp', 'Value': 74.0, 'Units': 'degC', 'Cmd': 'Engine Coolant Temperature'}\n",
      "{'Timestamp': 1676511357.5702958, 'ChannelName': 'IntakeTemp', 'Value': 6.0, 'Units': 'degC', 'Cmd': 'Intake Air Temp'}\n",
      "{'Timestamp': 1676511357.5702958, 'ChannelName': 'FuelLevel', 'Value': 70.98039215686275, 'Units': 'percent', 'Cmd': 'Fuel Level Input'}\n",
      "{'Timestamp': 1676511357.5702958, 'ChannelName': 'AmbientTemp', 'Value': 6.0, 'Units': 'degC', 'Cmd': 'Ambient air temperature'}\n",
      "{'Timestamp': 1676511357.5702958, 'ChannelName': 'EngineOilTemp', 'Value': 64.0, 'Units': 'degC', 'Cmd': 'Engine oil temperature'}\n",
      "FuelRate is not supported\n"
     ]
    },
    {
     "name": "stderr",
     "output_type": "stream",
     "text": [
      "[obd.obd] 'b'015E': Engine fuel rate' is not supported\n"
     ]
    },
    {
     "name": "stdout",
     "output_type": "stream",
     "text": [
      "{'Timestamp': 1676511358.707584, 'ChannelName': 'RPM', 'Value': 734.25, 'Units': 'revolutions_per_minute', 'Cmd': 'Engine RPM'}\n",
      "{'Timestamp': 1676511358.707584, 'ChannelName': 'Speed', 'Value': 0.0, 'Units': 'kph', 'Cmd': 'Vehicle Speed'}\n",
      "{'Timestamp': 1676511358.707584, 'ChannelName': 'EngineLoad', 'Value': 16.862745098039216, 'Units': 'percent', 'Cmd': 'Calculated Engine Load'}\n",
      "{'Timestamp': 1676511358.707584, 'ChannelName': 'CoolantTemp', 'Value': 74.0, 'Units': 'degC', 'Cmd': 'Engine Coolant Temperature'}\n",
      "{'Timestamp': 1676511358.707584, 'ChannelName': 'IntakeTemp', 'Value': 6.0, 'Units': 'degC', 'Cmd': 'Intake Air Temp'}\n",
      "{'Timestamp': 1676511358.707584, 'ChannelName': 'FuelLevel', 'Value': 70.98039215686275, 'Units': 'percent', 'Cmd': 'Fuel Level Input'}\n",
      "{'Timestamp': 1676511358.707584, 'ChannelName': 'AmbientTemp', 'Value': 6.0, 'Units': 'degC', 'Cmd': 'Ambient air temperature'}\n",
      "{'Timestamp': 1676511358.707584, 'ChannelName': 'EngineOilTemp', 'Value': 64.0, 'Units': 'degC', 'Cmd': 'Engine oil temperature'}\n",
      "FuelRate is not supported\n"
     ]
    },
    {
     "name": "stderr",
     "output_type": "stream",
     "text": [
      "[obd.obd] 'b'015E': Engine fuel rate' is not supported\n"
     ]
    },
    {
     "name": "stdout",
     "output_type": "stream",
     "text": [
      "{'Timestamp': 1676511359.842655, 'ChannelName': 'RPM', 'Value': 734.25, 'Units': 'revolutions_per_minute', 'Cmd': 'Engine RPM'}\n",
      "{'Timestamp': 1676511359.842655, 'ChannelName': 'Speed', 'Value': 0.0, 'Units': 'kph', 'Cmd': 'Vehicle Speed'}\n",
      "{'Timestamp': 1676511359.842655, 'ChannelName': 'EngineLoad', 'Value': 16.862745098039216, 'Units': 'percent', 'Cmd': 'Calculated Engine Load'}\n",
      "{'Timestamp': 1676511359.842655, 'ChannelName': 'CoolantTemp', 'Value': 74.0, 'Units': 'degC', 'Cmd': 'Engine Coolant Temperature'}\n",
      "{'Timestamp': 1676511359.842655, 'ChannelName': 'IntakeTemp', 'Value': 6.0, 'Units': 'degC', 'Cmd': 'Intake Air Temp'}\n",
      "{'Timestamp': 1676511359.842655, 'ChannelName': 'FuelLevel', 'Value': 70.98039215686275, 'Units': 'percent', 'Cmd': 'Fuel Level Input'}\n",
      "{'Timestamp': 1676511359.842655, 'ChannelName': 'AmbientTemp', 'Value': 6.0, 'Units': 'degC', 'Cmd': 'Ambient air temperature'}\n",
      "{'Timestamp': 1676511359.842655, 'ChannelName': 'EngineOilTemp', 'Value': 64.0, 'Units': 'degC', 'Cmd': 'Engine oil temperature'}\n",
      "FuelRate is not supported\n"
     ]
    },
    {
     "name": "stderr",
     "output_type": "stream",
     "text": [
      "[obd.obd] 'b'015E': Engine fuel rate' is not supported\n"
     ]
    },
    {
     "name": "stdout",
     "output_type": "stream",
     "text": [
      "{'Timestamp': 1676511360.9803264, 'ChannelName': 'RPM', 'Value': 731.25, 'Units': 'revolutions_per_minute', 'Cmd': 'Engine RPM'}\n",
      "{'Timestamp': 1676511360.9803264, 'ChannelName': 'Speed', 'Value': 0.0, 'Units': 'kph', 'Cmd': 'Vehicle Speed'}\n",
      "{'Timestamp': 1676511360.9803264, 'ChannelName': 'EngineLoad', 'Value': 16.862745098039216, 'Units': 'percent', 'Cmd': 'Calculated Engine Load'}\n",
      "{'Timestamp': 1676511360.9803264, 'ChannelName': 'CoolantTemp', 'Value': 74.0, 'Units': 'degC', 'Cmd': 'Engine Coolant Temperature'}\n",
      "{'Timestamp': 1676511360.9803264, 'ChannelName': 'IntakeTemp', 'Value': 6.0, 'Units': 'degC', 'Cmd': 'Intake Air Temp'}\n",
      "{'Timestamp': 1676511360.9803264, 'ChannelName': 'FuelLevel', 'Value': 70.98039215686275, 'Units': 'percent', 'Cmd': 'Fuel Level Input'}\n",
      "{'Timestamp': 1676511360.9803264, 'ChannelName': 'AmbientTemp', 'Value': 6.0, 'Units': 'degC', 'Cmd': 'Ambient air temperature'}\n",
      "{'Timestamp': 1676511360.9803264, 'ChannelName': 'EngineOilTemp', 'Value': 64.0, 'Units': 'degC', 'Cmd': 'Engine oil temperature'}\n",
      "FuelRate is not supported\n"
     ]
    },
    {
     "name": "stderr",
     "output_type": "stream",
     "text": [
      "[obd.obd] 'b'015E': Engine fuel rate' is not supported\n"
     ]
    },
    {
     "name": "stdout",
     "output_type": "stream",
     "text": [
      "{'Timestamp': 1676511362.1157942, 'ChannelName': 'RPM', 'Value': 729.5, 'Units': 'revolutions_per_minute', 'Cmd': 'Engine RPM'}\n",
      "{'Timestamp': 1676511362.1157942, 'ChannelName': 'Speed', 'Value': 0.0, 'Units': 'kph', 'Cmd': 'Vehicle Speed'}\n",
      "{'Timestamp': 1676511362.1157942, 'ChannelName': 'EngineLoad', 'Value': 16.862745098039216, 'Units': 'percent', 'Cmd': 'Calculated Engine Load'}\n",
      "{'Timestamp': 1676511362.1157942, 'ChannelName': 'CoolantTemp', 'Value': 74.0, 'Units': 'degC', 'Cmd': 'Engine Coolant Temperature'}\n",
      "{'Timestamp': 1676511362.1157942, 'ChannelName': 'IntakeTemp', 'Value': 6.0, 'Units': 'degC', 'Cmd': 'Intake Air Temp'}\n",
      "{'Timestamp': 1676511362.1157942, 'ChannelName': 'FuelLevel', 'Value': 70.98039215686275, 'Units': 'percent', 'Cmd': 'Fuel Level Input'}\n",
      "{'Timestamp': 1676511362.1157942, 'ChannelName': 'AmbientTemp', 'Value': 6.0, 'Units': 'degC', 'Cmd': 'Ambient air temperature'}\n",
      "{'Timestamp': 1676511362.1157942, 'ChannelName': 'EngineOilTemp', 'Value': 64.0, 'Units': 'degC', 'Cmd': 'Engine oil temperature'}\n",
      "FuelRate is not supported\n"
     ]
    },
    {
     "name": "stderr",
     "output_type": "stream",
     "text": [
      "[obd.obd] 'b'015E': Engine fuel rate' is not supported\n"
     ]
    },
    {
     "name": "stdout",
     "output_type": "stream",
     "text": [
      "{'Timestamp': 1676511363.2525866, 'ChannelName': 'RPM', 'Value': 729.5, 'Units': 'revolutions_per_minute', 'Cmd': 'Engine RPM'}\n",
      "{'Timestamp': 1676511363.2525866, 'ChannelName': 'Speed', 'Value': 0.0, 'Units': 'kph', 'Cmd': 'Vehicle Speed'}\n",
      "{'Timestamp': 1676511363.2525866, 'ChannelName': 'EngineLoad', 'Value': 16.862745098039216, 'Units': 'percent', 'Cmd': 'Calculated Engine Load'}\n",
      "{'Timestamp': 1676511363.2525866, 'ChannelName': 'CoolantTemp', 'Value': 74.0, 'Units': 'degC', 'Cmd': 'Engine Coolant Temperature'}\n",
      "{'Timestamp': 1676511363.2525866, 'ChannelName': 'IntakeTemp', 'Value': 6.0, 'Units': 'degC', 'Cmd': 'Intake Air Temp'}\n",
      "{'Timestamp': 1676511363.2525866, 'ChannelName': 'FuelLevel', 'Value': 70.98039215686275, 'Units': 'percent', 'Cmd': 'Fuel Level Input'}\n",
      "{'Timestamp': 1676511363.2525866, 'ChannelName': 'AmbientTemp', 'Value': 6.0, 'Units': 'degC', 'Cmd': 'Ambient air temperature'}\n",
      "{'Timestamp': 1676511363.2525866, 'ChannelName': 'EngineOilTemp', 'Value': 64.0, 'Units': 'degC', 'Cmd': 'Engine oil temperature'}\n",
      "FuelRate is not supported\n"
     ]
    },
    {
     "name": "stderr",
     "output_type": "stream",
     "text": [
      "[obd.obd] 'b'015E': Engine fuel rate' is not supported\n"
     ]
    },
    {
     "name": "stdout",
     "output_type": "stream",
     "text": [
      "{'Timestamp': 1676511364.388767, 'ChannelName': 'RPM', 'Value': 726.5, 'Units': 'revolutions_per_minute', 'Cmd': 'Engine RPM'}\n",
      "{'Timestamp': 1676511364.388767, 'ChannelName': 'Speed', 'Value': 0.0, 'Units': 'kph', 'Cmd': 'Vehicle Speed'}\n",
      "{'Timestamp': 1676511364.388767, 'ChannelName': 'EngineLoad', 'Value': 16.862745098039216, 'Units': 'percent', 'Cmd': 'Calculated Engine Load'}\n",
      "{'Timestamp': 1676511364.388767, 'ChannelName': 'CoolantTemp', 'Value': 74.0, 'Units': 'degC', 'Cmd': 'Engine Coolant Temperature'}\n",
      "{'Timestamp': 1676511364.388767, 'ChannelName': 'IntakeTemp', 'Value': 6.0, 'Units': 'degC', 'Cmd': 'Intake Air Temp'}\n",
      "{'Timestamp': 1676511364.388767, 'ChannelName': 'FuelLevel', 'Value': 70.98039215686275, 'Units': 'percent', 'Cmd': 'Fuel Level Input'}\n",
      "{'Timestamp': 1676511364.388767, 'ChannelName': 'AmbientTemp', 'Value': 6.0, 'Units': 'degC', 'Cmd': 'Ambient air temperature'}\n",
      "{'Timestamp': 1676511364.388767, 'ChannelName': 'EngineOilTemp', 'Value': 64.0, 'Units': 'degC', 'Cmd': 'Engine oil temperature'}\n",
      "FuelRate is not supported\n"
     ]
    },
    {
     "name": "stderr",
     "output_type": "stream",
     "text": [
      "[obd.obd] 'b'015E': Engine fuel rate' is not supported\n"
     ]
    },
    {
     "name": "stdout",
     "output_type": "stream",
     "text": [
      "{'Timestamp': 1676511365.525415, 'ChannelName': 'RPM', 'Value': 731.25, 'Units': 'revolutions_per_minute', 'Cmd': 'Engine RPM'}\n",
      "{'Timestamp': 1676511365.525415, 'ChannelName': 'Speed', 'Value': 0.0, 'Units': 'kph', 'Cmd': 'Vehicle Speed'}\n",
      "{'Timestamp': 1676511365.525415, 'ChannelName': 'EngineLoad', 'Value': 16.862745098039216, 'Units': 'percent', 'Cmd': 'Calculated Engine Load'}\n",
      "{'Timestamp': 1676511365.525415, 'ChannelName': 'CoolantTemp', 'Value': 74.0, 'Units': 'degC', 'Cmd': 'Engine Coolant Temperature'}\n",
      "{'Timestamp': 1676511365.525415, 'ChannelName': 'IntakeTemp', 'Value': 6.0, 'Units': 'degC', 'Cmd': 'Intake Air Temp'}\n",
      "{'Timestamp': 1676511365.525415, 'ChannelName': 'FuelLevel', 'Value': 70.98039215686275, 'Units': 'percent', 'Cmd': 'Fuel Level Input'}\n",
      "{'Timestamp': 1676511365.525415, 'ChannelName': 'AmbientTemp', 'Value': 6.0, 'Units': 'degC', 'Cmd': 'Ambient air temperature'}\n",
      "{'Timestamp': 1676511365.525415, 'ChannelName': 'EngineOilTemp', 'Value': 64.0, 'Units': 'degC', 'Cmd': 'Engine oil temperature'}\n",
      "FuelRate is not supported\n"
     ]
    },
    {
     "name": "stderr",
     "output_type": "stream",
     "text": [
      "[obd.obd] 'b'015E': Engine fuel rate' is not supported\n"
     ]
    },
    {
     "name": "stdout",
     "output_type": "stream",
     "text": [
      "{'Timestamp': 1676511366.6607711, 'ChannelName': 'RPM', 'Value': 729.5, 'Units': 'revolutions_per_minute', 'Cmd': 'Engine RPM'}\n",
      "{'Timestamp': 1676511366.6607711, 'ChannelName': 'Speed', 'Value': 0.0, 'Units': 'kph', 'Cmd': 'Vehicle Speed'}\n",
      "{'Timestamp': 1676511366.6607711, 'ChannelName': 'EngineLoad', 'Value': 16.862745098039216, 'Units': 'percent', 'Cmd': 'Calculated Engine Load'}\n",
      "{'Timestamp': 1676511366.6607711, 'ChannelName': 'CoolantTemp', 'Value': 74.0, 'Units': 'degC', 'Cmd': 'Engine Coolant Temperature'}\n",
      "{'Timestamp': 1676511366.6607711, 'ChannelName': 'IntakeTemp', 'Value': 6.0, 'Units': 'degC', 'Cmd': 'Intake Air Temp'}\n",
      "{'Timestamp': 1676511366.6607711, 'ChannelName': 'FuelLevel', 'Value': 70.98039215686275, 'Units': 'percent', 'Cmd': 'Fuel Level Input'}\n",
      "{'Timestamp': 1676511366.6607711, 'ChannelName': 'AmbientTemp', 'Value': 6.0, 'Units': 'degC', 'Cmd': 'Ambient air temperature'}\n",
      "{'Timestamp': 1676511366.6607711, 'ChannelName': 'EngineOilTemp', 'Value': 64.0, 'Units': 'degC', 'Cmd': 'Engine oil temperature'}\n",
      "FuelRate is not supported\n"
     ]
    },
    {
     "name": "stderr",
     "output_type": "stream",
     "text": [
      "[obd.obd] 'b'015E': Engine fuel rate' is not supported\n"
     ]
    },
    {
     "name": "stdout",
     "output_type": "stream",
     "text": [
      "{'Timestamp': 1676511367.7970293, 'ChannelName': 'RPM', 'Value': 725.75, 'Units': 'revolutions_per_minute', 'Cmd': 'Engine RPM'}\n",
      "{'Timestamp': 1676511367.7970293, 'ChannelName': 'Speed', 'Value': 0.0, 'Units': 'kph', 'Cmd': 'Vehicle Speed'}\n",
      "{'Timestamp': 1676511367.7970293, 'ChannelName': 'EngineLoad', 'Value': 16.862745098039216, 'Units': 'percent', 'Cmd': 'Calculated Engine Load'}\n",
      "{'Timestamp': 1676511367.7970293, 'ChannelName': 'CoolantTemp', 'Value': 74.0, 'Units': 'degC', 'Cmd': 'Engine Coolant Temperature'}\n",
      "{'Timestamp': 1676511367.7970293, 'ChannelName': 'IntakeTemp', 'Value': 6.0, 'Units': 'degC', 'Cmd': 'Intake Air Temp'}\n",
      "{'Timestamp': 1676511367.7970293, 'ChannelName': 'FuelLevel', 'Value': 70.98039215686275, 'Units': 'percent', 'Cmd': 'Fuel Level Input'}\n",
      "{'Timestamp': 1676511367.7970293, 'ChannelName': 'AmbientTemp', 'Value': 6.0, 'Units': 'degC', 'Cmd': 'Ambient air temperature'}\n",
      "{'Timestamp': 1676511367.7970293, 'ChannelName': 'EngineOilTemp', 'Value': 64.0, 'Units': 'degC', 'Cmd': 'Engine oil temperature'}\n",
      "FuelRate is not supported\n"
     ]
    },
    {
     "name": "stderr",
     "output_type": "stream",
     "text": [
      "[obd.obd] 'b'015E': Engine fuel rate' is not supported\n"
     ]
    },
    {
     "name": "stdout",
     "output_type": "stream",
     "text": [
      "{'Timestamp': 1676511368.9340403, 'ChannelName': 'RPM', 'Value': 729.5, 'Units': 'revolutions_per_minute', 'Cmd': 'Engine RPM'}\n",
      "{'Timestamp': 1676511368.9340403, 'ChannelName': 'Speed', 'Value': 0.0, 'Units': 'kph', 'Cmd': 'Vehicle Speed'}\n",
      "{'Timestamp': 1676511368.9340403, 'ChannelName': 'EngineLoad', 'Value': 16.862745098039216, 'Units': 'percent', 'Cmd': 'Calculated Engine Load'}\n",
      "{'Timestamp': 1676511368.9340403, 'ChannelName': 'CoolantTemp', 'Value': 74.0, 'Units': 'degC', 'Cmd': 'Engine Coolant Temperature'}\n",
      "{'Timestamp': 1676511368.9340403, 'ChannelName': 'IntakeTemp', 'Value': 6.0, 'Units': 'degC', 'Cmd': 'Intake Air Temp'}\n",
      "{'Timestamp': 1676511368.9340403, 'ChannelName': 'FuelLevel', 'Value': 70.98039215686275, 'Units': 'percent', 'Cmd': 'Fuel Level Input'}\n",
      "{'Timestamp': 1676511368.9340403, 'ChannelName': 'AmbientTemp', 'Value': 6.0, 'Units': 'degC', 'Cmd': 'Ambient air temperature'}\n",
      "{'Timestamp': 1676511368.9340403, 'ChannelName': 'EngineOilTemp', 'Value': 64.0, 'Units': 'degC', 'Cmd': 'Engine oil temperature'}\n",
      "FuelRate is not supported\n"
     ]
    },
    {
     "name": "stderr",
     "output_type": "stream",
     "text": [
      "[obd.obd] 'b'015E': Engine fuel rate' is not supported\n"
     ]
    },
    {
     "name": "stdout",
     "output_type": "stream",
     "text": [
      "{'Timestamp': 1676511370.0697134, 'ChannelName': 'RPM', 'Value': 728.75, 'Units': 'revolutions_per_minute', 'Cmd': 'Engine RPM'}\n",
      "{'Timestamp': 1676511370.0697134, 'ChannelName': 'Speed', 'Value': 0.0, 'Units': 'kph', 'Cmd': 'Vehicle Speed'}\n",
      "{'Timestamp': 1676511370.0697134, 'ChannelName': 'EngineLoad', 'Value': 16.862745098039216, 'Units': 'percent', 'Cmd': 'Calculated Engine Load'}\n",
      "{'Timestamp': 1676511370.0697134, 'ChannelName': 'CoolantTemp', 'Value': 74.0, 'Units': 'degC', 'Cmd': 'Engine Coolant Temperature'}\n",
      "{'Timestamp': 1676511370.0697134, 'ChannelName': 'IntakeTemp', 'Value': 6.0, 'Units': 'degC', 'Cmd': 'Intake Air Temp'}\n",
      "{'Timestamp': 1676511370.0697134, 'ChannelName': 'FuelLevel', 'Value': 70.98039215686275, 'Units': 'percent', 'Cmd': 'Fuel Level Input'}\n",
      "{'Timestamp': 1676511370.0697134, 'ChannelName': 'AmbientTemp', 'Value': 6.0, 'Units': 'degC', 'Cmd': 'Ambient air temperature'}\n",
      "{'Timestamp': 1676511370.0697134, 'ChannelName': 'EngineOilTemp', 'Value': 64.0, 'Units': 'degC', 'Cmd': 'Engine oil temperature'}\n",
      "FuelRate is not supported\n"
     ]
    },
    {
     "name": "stderr",
     "output_type": "stream",
     "text": [
      "[obd.obd] 'b'015E': Engine fuel rate' is not supported\n"
     ]
    },
    {
     "name": "stdout",
     "output_type": "stream",
     "text": [
      "{'Timestamp': 1676511371.2067926, 'ChannelName': 'RPM', 'Value': 725.0, 'Units': 'revolutions_per_minute', 'Cmd': 'Engine RPM'}\n",
      "{'Timestamp': 1676511371.2067926, 'ChannelName': 'Speed', 'Value': 0.0, 'Units': 'kph', 'Cmd': 'Vehicle Speed'}\n",
      "{'Timestamp': 1676511371.2067926, 'ChannelName': 'EngineLoad', 'Value': 16.862745098039216, 'Units': 'percent', 'Cmd': 'Calculated Engine Load'}\n",
      "{'Timestamp': 1676511371.2067926, 'ChannelName': 'CoolantTemp', 'Value': 74.0, 'Units': 'degC', 'Cmd': 'Engine Coolant Temperature'}\n",
      "{'Timestamp': 1676511371.2067926, 'ChannelName': 'IntakeTemp', 'Value': 6.0, 'Units': 'degC', 'Cmd': 'Intake Air Temp'}\n",
      "{'Timestamp': 1676511371.2067926, 'ChannelName': 'FuelLevel', 'Value': 70.98039215686275, 'Units': 'percent', 'Cmd': 'Fuel Level Input'}\n",
      "{'Timestamp': 1676511371.2067926, 'ChannelName': 'AmbientTemp', 'Value': 6.0, 'Units': 'degC', 'Cmd': 'Ambient air temperature'}\n",
      "{'Timestamp': 1676511371.2067926, 'ChannelName': 'EngineOilTemp', 'Value': 64.0, 'Units': 'degC', 'Cmd': 'Engine oil temperature'}\n",
      "FuelRate is not supported\n"
     ]
    },
    {
     "name": "stderr",
     "output_type": "stream",
     "text": [
      "[obd.obd] 'b'015E': Engine fuel rate' is not supported\n"
     ]
    },
    {
     "name": "stdout",
     "output_type": "stream",
     "text": [
      "{'Timestamp': 1676511372.3418746, 'ChannelName': 'RPM', 'Value': 728.75, 'Units': 'revolutions_per_minute', 'Cmd': 'Engine RPM'}\n",
      "{'Timestamp': 1676511372.3418746, 'ChannelName': 'Speed', 'Value': 0.0, 'Units': 'kph', 'Cmd': 'Vehicle Speed'}\n",
      "{'Timestamp': 1676511372.3418746, 'ChannelName': 'EngineLoad', 'Value': 16.862745098039216, 'Units': 'percent', 'Cmd': 'Calculated Engine Load'}\n",
      "{'Timestamp': 1676511372.3418746, 'ChannelName': 'CoolantTemp', 'Value': 74.0, 'Units': 'degC', 'Cmd': 'Engine Coolant Temperature'}\n",
      "{'Timestamp': 1676511372.3418746, 'ChannelName': 'IntakeTemp', 'Value': 6.0, 'Units': 'degC', 'Cmd': 'Intake Air Temp'}\n",
      "{'Timestamp': 1676511372.3418746, 'ChannelName': 'FuelLevel', 'Value': 70.98039215686275, 'Units': 'percent', 'Cmd': 'Fuel Level Input'}\n",
      "{'Timestamp': 1676511372.3418746, 'ChannelName': 'AmbientTemp', 'Value': 6.0, 'Units': 'degC', 'Cmd': 'Ambient air temperature'}\n",
      "{'Timestamp': 1676511372.3418746, 'ChannelName': 'EngineOilTemp', 'Value': 64.0, 'Units': 'degC', 'Cmd': 'Engine oil temperature'}\n",
      "FuelRate is not supported\n"
     ]
    },
    {
     "name": "stderr",
     "output_type": "stream",
     "text": [
      "[obd.obd] 'b'015E': Engine fuel rate' is not supported\n"
     ]
    },
    {
     "name": "stdout",
     "output_type": "stream",
     "text": [
      "{'Timestamp': 1676511373.4786644, 'ChannelName': 'RPM', 'Value': 730.25, 'Units': 'revolutions_per_minute', 'Cmd': 'Engine RPM'}\n",
      "{'Timestamp': 1676511373.4786644, 'ChannelName': 'Speed', 'Value': 0.0, 'Units': 'kph', 'Cmd': 'Vehicle Speed'}\n",
      "{'Timestamp': 1676511373.4786644, 'ChannelName': 'EngineLoad', 'Value': 16.862745098039216, 'Units': 'percent', 'Cmd': 'Calculated Engine Load'}\n",
      "{'Timestamp': 1676511373.4786644, 'ChannelName': 'CoolantTemp', 'Value': 74.0, 'Units': 'degC', 'Cmd': 'Engine Coolant Temperature'}\n",
      "{'Timestamp': 1676511373.4786644, 'ChannelName': 'IntakeTemp', 'Value': 6.0, 'Units': 'degC', 'Cmd': 'Intake Air Temp'}\n",
      "{'Timestamp': 1676511373.4786644, 'ChannelName': 'FuelLevel', 'Value': 70.98039215686275, 'Units': 'percent', 'Cmd': 'Fuel Level Input'}\n",
      "{'Timestamp': 1676511373.4786644, 'ChannelName': 'AmbientTemp', 'Value': 6.0, 'Units': 'degC', 'Cmd': 'Ambient air temperature'}\n",
      "{'Timestamp': 1676511373.4786644, 'ChannelName': 'EngineOilTemp', 'Value': 64.0, 'Units': 'degC', 'Cmd': 'Engine oil temperature'}\n",
      "FuelRate is not supported\n"
     ]
    },
    {
     "name": "stderr",
     "output_type": "stream",
     "text": [
      "[obd.obd] 'b'015E': Engine fuel rate' is not supported\n"
     ]
    },
    {
     "name": "stdout",
     "output_type": "stream",
     "text": [
      "{'Timestamp': 1676511374.614929, 'ChannelName': 'RPM', 'Value': 724.0, 'Units': 'revolutions_per_minute', 'Cmd': 'Engine RPM'}\n",
      "{'Timestamp': 1676511374.614929, 'ChannelName': 'Speed', 'Value': 0.0, 'Units': 'kph', 'Cmd': 'Vehicle Speed'}\n",
      "{'Timestamp': 1676511374.614929, 'ChannelName': 'EngineLoad', 'Value': 16.862745098039216, 'Units': 'percent', 'Cmd': 'Calculated Engine Load'}\n",
      "{'Timestamp': 1676511374.614929, 'ChannelName': 'CoolantTemp', 'Value': 74.0, 'Units': 'degC', 'Cmd': 'Engine Coolant Temperature'}\n",
      "{'Timestamp': 1676511374.614929, 'ChannelName': 'IntakeTemp', 'Value': 6.0, 'Units': 'degC', 'Cmd': 'Intake Air Temp'}\n",
      "{'Timestamp': 1676511374.614929, 'ChannelName': 'FuelLevel', 'Value': 70.98039215686275, 'Units': 'percent', 'Cmd': 'Fuel Level Input'}\n",
      "{'Timestamp': 1676511374.614929, 'ChannelName': 'AmbientTemp', 'Value': 6.0, 'Units': 'degC', 'Cmd': 'Ambient air temperature'}\n",
      "{'Timestamp': 1676511374.614929, 'ChannelName': 'EngineOilTemp', 'Value': 64.0, 'Units': 'degC', 'Cmd': 'Engine oil temperature'}\n",
      "FuelRate is not supported\n"
     ]
    },
    {
     "name": "stderr",
     "output_type": "stream",
     "text": [
      "[obd.obd] 'b'015E': Engine fuel rate' is not supported\n"
     ]
    },
    {
     "name": "stdout",
     "output_type": "stream",
     "text": [
      "{'Timestamp': 1676511375.7507274, 'ChannelName': 'RPM', 'Value': 725.0, 'Units': 'revolutions_per_minute', 'Cmd': 'Engine RPM'}\n",
      "{'Timestamp': 1676511375.7507274, 'ChannelName': 'Speed', 'Value': 0.0, 'Units': 'kph', 'Cmd': 'Vehicle Speed'}\n",
      "{'Timestamp': 1676511375.7507274, 'ChannelName': 'EngineLoad', 'Value': 16.862745098039216, 'Units': 'percent', 'Cmd': 'Calculated Engine Load'}\n",
      "{'Timestamp': 1676511375.7507274, 'ChannelName': 'CoolantTemp', 'Value': 74.0, 'Units': 'degC', 'Cmd': 'Engine Coolant Temperature'}\n",
      "{'Timestamp': 1676511375.7507274, 'ChannelName': 'IntakeTemp', 'Value': 6.0, 'Units': 'degC', 'Cmd': 'Intake Air Temp'}\n",
      "{'Timestamp': 1676511375.7507274, 'ChannelName': 'FuelLevel', 'Value': 70.98039215686275, 'Units': 'percent', 'Cmd': 'Fuel Level Input'}\n",
      "{'Timestamp': 1676511375.7507274, 'ChannelName': 'AmbientTemp', 'Value': 6.0, 'Units': 'degC', 'Cmd': 'Ambient air temperature'}\n",
      "{'Timestamp': 1676511375.7507274, 'ChannelName': 'EngineOilTemp', 'Value': 64.0, 'Units': 'degC', 'Cmd': 'Engine oil temperature'}\n",
      "FuelRate is not supported\n"
     ]
    },
    {
     "name": "stderr",
     "output_type": "stream",
     "text": [
      "[obd.obd] 'b'015E': Engine fuel rate' is not supported\n"
     ]
    },
    {
     "name": "stdout",
     "output_type": "stream",
     "text": [
      "{'Timestamp': 1676511376.8875182, 'ChannelName': 'RPM', 'Value': 729.5, 'Units': 'revolutions_per_minute', 'Cmd': 'Engine RPM'}\n",
      "{'Timestamp': 1676511376.8875182, 'ChannelName': 'Speed', 'Value': 0.0, 'Units': 'kph', 'Cmd': 'Vehicle Speed'}\n",
      "{'Timestamp': 1676511376.8875182, 'ChannelName': 'EngineLoad', 'Value': 16.862745098039216, 'Units': 'percent', 'Cmd': 'Calculated Engine Load'}\n",
      "{'Timestamp': 1676511376.8875182, 'ChannelName': 'CoolantTemp', 'Value': 74.0, 'Units': 'degC', 'Cmd': 'Engine Coolant Temperature'}\n",
      "{'Timestamp': 1676511376.8875182, 'ChannelName': 'IntakeTemp', 'Value': 6.0, 'Units': 'degC', 'Cmd': 'Intake Air Temp'}\n",
      "{'Timestamp': 1676511376.8875182, 'ChannelName': 'FuelLevel', 'Value': 70.98039215686275, 'Units': 'percent', 'Cmd': 'Fuel Level Input'}\n",
      "{'Timestamp': 1676511376.8875182, 'ChannelName': 'AmbientTemp', 'Value': 6.0, 'Units': 'degC', 'Cmd': 'Ambient air temperature'}\n",
      "{'Timestamp': 1676511376.8875182, 'ChannelName': 'EngineOilTemp', 'Value': 64.0, 'Units': 'degC', 'Cmd': 'Engine oil temperature'}\n",
      "FuelRate is not supported\n"
     ]
    },
    {
     "name": "stderr",
     "output_type": "stream",
     "text": [
      "[obd.obd] 'b'015E': Engine fuel rate' is not supported\n"
     ]
    },
    {
     "name": "stdout",
     "output_type": "stream",
     "text": [
      "{'Timestamp': 1676511378.0239546, 'ChannelName': 'RPM', 'Value': 731.25, 'Units': 'revolutions_per_minute', 'Cmd': 'Engine RPM'}\n",
      "{'Timestamp': 1676511378.0239546, 'ChannelName': 'Speed', 'Value': 0.0, 'Units': 'kph', 'Cmd': 'Vehicle Speed'}\n",
      "{'Timestamp': 1676511378.0239546, 'ChannelName': 'EngineLoad', 'Value': 16.862745098039216, 'Units': 'percent', 'Cmd': 'Calculated Engine Load'}\n",
      "{'Timestamp': 1676511378.0239546, 'ChannelName': 'CoolantTemp', 'Value': 74.0, 'Units': 'degC', 'Cmd': 'Engine Coolant Temperature'}\n",
      "{'Timestamp': 1676511378.0239546, 'ChannelName': 'IntakeTemp', 'Value': 6.0, 'Units': 'degC', 'Cmd': 'Intake Air Temp'}\n",
      "{'Timestamp': 1676511378.0239546, 'ChannelName': 'FuelLevel', 'Value': 70.98039215686275, 'Units': 'percent', 'Cmd': 'Fuel Level Input'}\n",
      "{'Timestamp': 1676511378.0239546, 'ChannelName': 'AmbientTemp', 'Value': 6.0, 'Units': 'degC', 'Cmd': 'Ambient air temperature'}\n",
      "{'Timestamp': 1676511378.0239546, 'ChannelName': 'EngineOilTemp', 'Value': 64.0, 'Units': 'degC', 'Cmd': 'Engine oil temperature'}\n",
      "FuelRate is not supported\n"
     ]
    },
    {
     "name": "stderr",
     "output_type": "stream",
     "text": [
      "[obd.obd] 'b'015E': Engine fuel rate' is not supported\n"
     ]
    },
    {
     "name": "stdout",
     "output_type": "stream",
     "text": [
      "{'Timestamp': 1676511379.1596425, 'ChannelName': 'RPM', 'Value': 728.75, 'Units': 'revolutions_per_minute', 'Cmd': 'Engine RPM'}\n",
      "{'Timestamp': 1676511379.1596425, 'ChannelName': 'Speed', 'Value': 0.0, 'Units': 'kph', 'Cmd': 'Vehicle Speed'}\n",
      "{'Timestamp': 1676511379.1596425, 'ChannelName': 'EngineLoad', 'Value': 16.862745098039216, 'Units': 'percent', 'Cmd': 'Calculated Engine Load'}\n",
      "{'Timestamp': 1676511379.1596425, 'ChannelName': 'CoolantTemp', 'Value': 74.0, 'Units': 'degC', 'Cmd': 'Engine Coolant Temperature'}\n",
      "{'Timestamp': 1676511379.1596425, 'ChannelName': 'IntakeTemp', 'Value': 6.0, 'Units': 'degC', 'Cmd': 'Intake Air Temp'}\n",
      "{'Timestamp': 1676511379.1596425, 'ChannelName': 'FuelLevel', 'Value': 70.98039215686275, 'Units': 'percent', 'Cmd': 'Fuel Level Input'}\n",
      "{'Timestamp': 1676511379.1596425, 'ChannelName': 'AmbientTemp', 'Value': 6.0, 'Units': 'degC', 'Cmd': 'Ambient air temperature'}\n",
      "{'Timestamp': 1676511379.1596425, 'ChannelName': 'EngineOilTemp', 'Value': 64.0, 'Units': 'degC', 'Cmd': 'Engine oil temperature'}\n",
      "FuelRate is not supported\n"
     ]
    },
    {
     "name": "stderr",
     "output_type": "stream",
     "text": [
      "[obd.obd] 'b'015E': Engine fuel rate' is not supported\n"
     ]
    },
    {
     "name": "stdout",
     "output_type": "stream",
     "text": [
      "{'Timestamp': 1676511380.2966363, 'ChannelName': 'RPM', 'Value': 731.25, 'Units': 'revolutions_per_minute', 'Cmd': 'Engine RPM'}\n",
      "{'Timestamp': 1676511380.2966363, 'ChannelName': 'Speed', 'Value': 0.0, 'Units': 'kph', 'Cmd': 'Vehicle Speed'}\n",
      "{'Timestamp': 1676511380.2966363, 'ChannelName': 'EngineLoad', 'Value': 16.862745098039216, 'Units': 'percent', 'Cmd': 'Calculated Engine Load'}\n",
      "{'Timestamp': 1676511380.2966363, 'ChannelName': 'CoolantTemp', 'Value': 74.0, 'Units': 'degC', 'Cmd': 'Engine Coolant Temperature'}\n",
      "{'Timestamp': 1676511380.2966363, 'ChannelName': 'IntakeTemp', 'Value': 6.0, 'Units': 'degC', 'Cmd': 'Intake Air Temp'}\n",
      "{'Timestamp': 1676511380.2966363, 'ChannelName': 'FuelLevel', 'Value': 70.98039215686275, 'Units': 'percent', 'Cmd': 'Fuel Level Input'}\n",
      "{'Timestamp': 1676511380.2966363, 'ChannelName': 'AmbientTemp', 'Value': 6.0, 'Units': 'degC', 'Cmd': 'Ambient air temperature'}\n",
      "{'Timestamp': 1676511380.2966363, 'ChannelName': 'EngineOilTemp', 'Value': 64.0, 'Units': 'degC', 'Cmd': 'Engine oil temperature'}\n",
      "FuelRate is not supported\n"
     ]
    },
    {
     "name": "stderr",
     "output_type": "stream",
     "text": [
      "[obd.obd] 'b'015E': Engine fuel rate' is not supported\n"
     ]
    },
    {
     "name": "stdout",
     "output_type": "stream",
     "text": [
      "{'Timestamp': 1676511381.4327264, 'ChannelName': 'RPM', 'Value': 734.25, 'Units': 'revolutions_per_minute', 'Cmd': 'Engine RPM'}\n",
      "{'Timestamp': 1676511381.4327264, 'ChannelName': 'Speed', 'Value': 0.0, 'Units': 'kph', 'Cmd': 'Vehicle Speed'}\n",
      "{'Timestamp': 1676511381.4327264, 'ChannelName': 'EngineLoad', 'Value': 16.862745098039216, 'Units': 'percent', 'Cmd': 'Calculated Engine Load'}\n",
      "{'Timestamp': 1676511381.4327264, 'ChannelName': 'CoolantTemp', 'Value': 74.0, 'Units': 'degC', 'Cmd': 'Engine Coolant Temperature'}\n",
      "{'Timestamp': 1676511381.4327264, 'ChannelName': 'IntakeTemp', 'Value': 6.0, 'Units': 'degC', 'Cmd': 'Intake Air Temp'}\n",
      "{'Timestamp': 1676511381.4327264, 'ChannelName': 'FuelLevel', 'Value': 70.98039215686275, 'Units': 'percent', 'Cmd': 'Fuel Level Input'}\n",
      "{'Timestamp': 1676511381.4327264, 'ChannelName': 'AmbientTemp', 'Value': 6.0, 'Units': 'degC', 'Cmd': 'Ambient air temperature'}\n",
      "{'Timestamp': 1676511381.4327264, 'ChannelName': 'EngineOilTemp', 'Value': 64.0, 'Units': 'degC', 'Cmd': 'Engine oil temperature'}\n",
      "FuelRate is not supported\n"
     ]
    },
    {
     "name": "stderr",
     "output_type": "stream",
     "text": [
      "[obd.obd] 'b'015E': Engine fuel rate' is not supported\n"
     ]
    },
    {
     "name": "stdout",
     "output_type": "stream",
     "text": [
      "{'Timestamp': 1676511382.56753, 'ChannelName': 'RPM', 'Value': 732.0, 'Units': 'revolutions_per_minute', 'Cmd': 'Engine RPM'}\n",
      "{'Timestamp': 1676511382.56753, 'ChannelName': 'Speed', 'Value': 0.0, 'Units': 'kph', 'Cmd': 'Vehicle Speed'}\n",
      "{'Timestamp': 1676511382.56753, 'ChannelName': 'EngineLoad', 'Value': 16.862745098039216, 'Units': 'percent', 'Cmd': 'Calculated Engine Load'}\n",
      "{'Timestamp': 1676511382.56753, 'ChannelName': 'CoolantTemp', 'Value': 74.0, 'Units': 'degC', 'Cmd': 'Engine Coolant Temperature'}\n",
      "{'Timestamp': 1676511382.56753, 'ChannelName': 'IntakeTemp', 'Value': 6.0, 'Units': 'degC', 'Cmd': 'Intake Air Temp'}\n",
      "{'Timestamp': 1676511382.56753, 'ChannelName': 'FuelLevel', 'Value': 70.98039215686275, 'Units': 'percent', 'Cmd': 'Fuel Level Input'}\n",
      "{'Timestamp': 1676511382.56753, 'ChannelName': 'AmbientTemp', 'Value': 6.0, 'Units': 'degC', 'Cmd': 'Ambient air temperature'}\n",
      "{'Timestamp': 1676511382.56753, 'ChannelName': 'EngineOilTemp', 'Value': 64.0, 'Units': 'degC', 'Cmd': 'Engine oil temperature'}\n",
      "FuelRate is not supported\n"
     ]
    },
    {
     "name": "stderr",
     "output_type": "stream",
     "text": [
      "[obd.obd] 'b'015E': Engine fuel rate' is not supported\n"
     ]
    },
    {
     "name": "stdout",
     "output_type": "stream",
     "text": [
      "{'Timestamp': 1676511383.7049031, 'ChannelName': 'RPM', 'Value': 726.5, 'Units': 'revolutions_per_minute', 'Cmd': 'Engine RPM'}\n",
      "{'Timestamp': 1676511383.7049031, 'ChannelName': 'Speed', 'Value': 0.0, 'Units': 'kph', 'Cmd': 'Vehicle Speed'}\n",
      "{'Timestamp': 1676511383.7049031, 'ChannelName': 'EngineLoad', 'Value': 16.862745098039216, 'Units': 'percent', 'Cmd': 'Calculated Engine Load'}\n",
      "{'Timestamp': 1676511383.7049031, 'ChannelName': 'CoolantTemp', 'Value': 74.0, 'Units': 'degC', 'Cmd': 'Engine Coolant Temperature'}\n",
      "{'Timestamp': 1676511383.7049031, 'ChannelName': 'IntakeTemp', 'Value': 6.0, 'Units': 'degC', 'Cmd': 'Intake Air Temp'}\n",
      "{'Timestamp': 1676511383.7049031, 'ChannelName': 'FuelLevel', 'Value': 70.98039215686275, 'Units': 'percent', 'Cmd': 'Fuel Level Input'}\n",
      "{'Timestamp': 1676511383.7049031, 'ChannelName': 'AmbientTemp', 'Value': 6.0, 'Units': 'degC', 'Cmd': 'Ambient air temperature'}\n",
      "{'Timestamp': 1676511383.7049031, 'ChannelName': 'EngineOilTemp', 'Value': 64.0, 'Units': 'degC', 'Cmd': 'Engine oil temperature'}\n",
      "FuelRate is not supported\n"
     ]
    },
    {
     "name": "stderr",
     "output_type": "stream",
     "text": [
      "[obd.obd] 'b'015E': Engine fuel rate' is not supported\n"
     ]
    },
    {
     "name": "stdout",
     "output_type": "stream",
     "text": [
      "{'Timestamp': 1676511384.8401678, 'ChannelName': 'RPM', 'Value': 728.0, 'Units': 'revolutions_per_minute', 'Cmd': 'Engine RPM'}\n",
      "{'Timestamp': 1676511384.8401678, 'ChannelName': 'Speed', 'Value': 0.0, 'Units': 'kph', 'Cmd': 'Vehicle Speed'}\n",
      "{'Timestamp': 1676511384.8401678, 'ChannelName': 'EngineLoad', 'Value': 16.862745098039216, 'Units': 'percent', 'Cmd': 'Calculated Engine Load'}\n",
      "{'Timestamp': 1676511384.8401678, 'ChannelName': 'CoolantTemp', 'Value': 74.0, 'Units': 'degC', 'Cmd': 'Engine Coolant Temperature'}\n",
      "{'Timestamp': 1676511384.8401678, 'ChannelName': 'IntakeTemp', 'Value': 6.0, 'Units': 'degC', 'Cmd': 'Intake Air Temp'}\n",
      "{'Timestamp': 1676511384.8401678, 'ChannelName': 'FuelLevel', 'Value': 70.98039215686275, 'Units': 'percent', 'Cmd': 'Fuel Level Input'}\n",
      "{'Timestamp': 1676511384.8401678, 'ChannelName': 'AmbientTemp', 'Value': 6.0, 'Units': 'degC', 'Cmd': 'Ambient air temperature'}\n",
      "{'Timestamp': 1676511384.8401678, 'ChannelName': 'EngineOilTemp', 'Value': 64.0, 'Units': 'degC', 'Cmd': 'Engine oil temperature'}\n",
      "FuelRate is not supported\n"
     ]
    },
    {
     "name": "stderr",
     "output_type": "stream",
     "text": [
      "[obd.obd] 'b'015E': Engine fuel rate' is not supported\n"
     ]
    },
    {
     "name": "stdout",
     "output_type": "stream",
     "text": [
      "{'Timestamp': 1676511385.9771254, 'ChannelName': 'RPM', 'Value': 724.0, 'Units': 'revolutions_per_minute', 'Cmd': 'Engine RPM'}\n",
      "{'Timestamp': 1676511385.9771254, 'ChannelName': 'Speed', 'Value': 0.0, 'Units': 'kph', 'Cmd': 'Vehicle Speed'}\n",
      "{'Timestamp': 1676511385.9771254, 'ChannelName': 'EngineLoad', 'Value': 16.862745098039216, 'Units': 'percent', 'Cmd': 'Calculated Engine Load'}\n",
      "{'Timestamp': 1676511385.9771254, 'ChannelName': 'CoolantTemp', 'Value': 74.0, 'Units': 'degC', 'Cmd': 'Engine Coolant Temperature'}\n",
      "{'Timestamp': 1676511385.9771254, 'ChannelName': 'IntakeTemp', 'Value': 6.0, 'Units': 'degC', 'Cmd': 'Intake Air Temp'}\n",
      "{'Timestamp': 1676511385.9771254, 'ChannelName': 'FuelLevel', 'Value': 70.98039215686275, 'Units': 'percent', 'Cmd': 'Fuel Level Input'}\n",
      "{'Timestamp': 1676511385.9771254, 'ChannelName': 'AmbientTemp', 'Value': 6.0, 'Units': 'degC', 'Cmd': 'Ambient air temperature'}\n",
      "{'Timestamp': 1676511385.9771254, 'ChannelName': 'EngineOilTemp', 'Value': 64.0, 'Units': 'degC', 'Cmd': 'Engine oil temperature'}\n",
      "FuelRate is not supported\n"
     ]
    },
    {
     "name": "stderr",
     "output_type": "stream",
     "text": [
      "[obd.obd] 'b'015E': Engine fuel rate' is not supported\n"
     ]
    },
    {
     "name": "stdout",
     "output_type": "stream",
     "text": [
      "{'Timestamp': 1676511387.1140404, 'ChannelName': 'RPM', 'Value': 727.25, 'Units': 'revolutions_per_minute', 'Cmd': 'Engine RPM'}\n",
      "{'Timestamp': 1676511387.1140404, 'ChannelName': 'Speed', 'Value': 0.0, 'Units': 'kph', 'Cmd': 'Vehicle Speed'}\n",
      "{'Timestamp': 1676511387.1140404, 'ChannelName': 'EngineLoad', 'Value': 16.862745098039216, 'Units': 'percent', 'Cmd': 'Calculated Engine Load'}\n",
      "{'Timestamp': 1676511387.1140404, 'ChannelName': 'CoolantTemp', 'Value': 74.0, 'Units': 'degC', 'Cmd': 'Engine Coolant Temperature'}\n",
      "{'Timestamp': 1676511387.1140404, 'ChannelName': 'IntakeTemp', 'Value': 6.0, 'Units': 'degC', 'Cmd': 'Intake Air Temp'}\n",
      "{'Timestamp': 1676511387.1140404, 'ChannelName': 'FuelLevel', 'Value': 70.98039215686275, 'Units': 'percent', 'Cmd': 'Fuel Level Input'}\n",
      "{'Timestamp': 1676511387.1140404, 'ChannelName': 'AmbientTemp', 'Value': 6.0, 'Units': 'degC', 'Cmd': 'Ambient air temperature'}\n",
      "{'Timestamp': 1676511387.1140404, 'ChannelName': 'EngineOilTemp', 'Value': 64.0, 'Units': 'degC', 'Cmd': 'Engine oil temperature'}\n",
      "FuelRate is not supported\n"
     ]
    },
    {
     "name": "stderr",
     "output_type": "stream",
     "text": [
      "[obd.obd] 'b'015E': Engine fuel rate' is not supported\n"
     ]
    },
    {
     "name": "stdout",
     "output_type": "stream",
     "text": [
      "{'Timestamp': 1676511388.2504523, 'ChannelName': 'RPM', 'Value': 725.0, 'Units': 'revolutions_per_minute', 'Cmd': 'Engine RPM'}\n",
      "{'Timestamp': 1676511388.2504523, 'ChannelName': 'Speed', 'Value': 0.0, 'Units': 'kph', 'Cmd': 'Vehicle Speed'}\n",
      "{'Timestamp': 1676511388.2504523, 'ChannelName': 'EngineLoad', 'Value': 16.862745098039216, 'Units': 'percent', 'Cmd': 'Calculated Engine Load'}\n",
      "{'Timestamp': 1676511388.2504523, 'ChannelName': 'CoolantTemp', 'Value': 74.0, 'Units': 'degC', 'Cmd': 'Engine Coolant Temperature'}\n",
      "{'Timestamp': 1676511388.2504523, 'ChannelName': 'IntakeTemp', 'Value': 6.0, 'Units': 'degC', 'Cmd': 'Intake Air Temp'}\n",
      "{'Timestamp': 1676511388.2504523, 'ChannelName': 'FuelLevel', 'Value': 70.98039215686275, 'Units': 'percent', 'Cmd': 'Fuel Level Input'}\n",
      "{'Timestamp': 1676511388.2504523, 'ChannelName': 'AmbientTemp', 'Value': 6.0, 'Units': 'degC', 'Cmd': 'Ambient air temperature'}\n",
      "{'Timestamp': 1676511388.2504523, 'ChannelName': 'EngineOilTemp', 'Value': 64.0, 'Units': 'degC', 'Cmd': 'Engine oil temperature'}\n",
      "FuelRate is not supported\n",
      "RPM is not supported\n",
      "Speed is not supported\n",
      "EngineLoad is not supported\n",
      "CoolantTemp is not supported\n",
      "IntakeTemp is not supported\n",
      "FuelLevel is not supported\n"
     ]
    },
    {
     "name": "stderr",
     "output_type": "stream",
     "text": [
      "[obd.obd] 'b'015E': Engine fuel rate' is not supported\n"
     ]
    },
    {
     "name": "stdout",
     "output_type": "stream",
     "text": [
      "AmbientTemp is not supported\n",
      "EngineOilTemp is not supported\n",
      "FuelRate is not supported\n",
      "RPM is not supported\n",
      "Speed is not supported\n",
      "EngineLoad is not supported\n",
      "CoolantTemp is not supported\n",
      "IntakeTemp is not supported\n",
      "FuelLevel is not supported\n",
      "AmbientTemp is not supported\n"
     ]
    },
    {
     "name": "stderr",
     "output_type": "stream",
     "text": [
      "[obd.obd] 'b'015E': Engine fuel rate' is not supported\n"
     ]
    },
    {
     "name": "stdout",
     "output_type": "stream",
     "text": [
      "EngineOilTemp is not supported\n",
      "FuelRate is not supported\n"
     ]
    },
    {
     "name": "stderr",
     "output_type": "stream",
     "text": [
      "[obd.obd] Query failed, no connection available\n",
      "[obd.obd] Query failed, no connection available\n",
      "[obd.obd] Query failed, no connection available\n",
      "[obd.obd] Query failed, no connection available\n",
      "[obd.obd] Query failed, no connection available\n",
      "[obd.obd] Query failed, no connection available\n"
     ]
    },
    {
     "name": "stdout",
     "output_type": "stream",
     "text": [
      "RPM is not supported\n",
      "Speed is not supported\n",
      "EngineLoad is not supported\n",
      "CoolantTemp is not supported\n",
      "IntakeTemp is not supported\n",
      "FuelLevel is not supported\n",
      "AmbientTemp is not supported\n",
      "EngineOilTemp is not supported\n",
      "FuelRate is not supported\n"
     ]
    },
    {
     "name": "stderr",
     "output_type": "stream",
     "text": [
      "[obd.obd] Query failed, no connection available\n",
      "[obd.obd] Query failed, no connection available\n",
      "[obd.obd] Query failed, no connection available\n",
      "[obd.obd] Query failed, no connection available\n",
      "[obd.obd] Query failed, no connection available\n",
      "[obd.obd] Query failed, no connection available\n",
      "[obd.obd] Query failed, no connection available\n",
      "[obd.obd] Query failed, no connection available\n",
      "[obd.obd] Query failed, no connection available\n"
     ]
    },
    {
     "name": "stdout",
     "output_type": "stream",
     "text": [
      "RPM is not supported\n",
      "Speed is not supported\n",
      "EngineLoad is not supported\n",
      "CoolantTemp is not supported\n",
      "IntakeTemp is not supported\n",
      "FuelLevel is not supported\n",
      "AmbientTemp is not supported\n",
      "EngineOilTemp is not supported\n",
      "FuelRate is not supported\n"
     ]
    },
    {
     "name": "stderr",
     "output_type": "stream",
     "text": [
      "[obd.obd] Query failed, no connection available\n",
      "[obd.obd] Query failed, no connection available\n",
      "[obd.obd] Query failed, no connection available\n",
      "[obd.obd] Query failed, no connection available\n",
      "[obd.obd] Query failed, no connection available\n",
      "[obd.obd] Query failed, no connection available\n",
      "[obd.obd] Query failed, no connection available\n",
      "[obd.obd] Query failed, no connection available\n",
      "[obd.obd] Query failed, no connection available\n"
     ]
    },
    {
     "name": "stdout",
     "output_type": "stream",
     "text": [
      "RPM is not supported\n",
      "Speed is not supported\n",
      "EngineLoad is not supported\n",
      "CoolantTemp is not supported\n",
      "IntakeTemp is not supported\n",
      "FuelLevel is not supported\n",
      "AmbientTemp is not supported\n",
      "EngineOilTemp is not supported\n",
      "FuelRate is not supported\n"
     ]
    },
    {
     "name": "stderr",
     "output_type": "stream",
     "text": [
      "[obd.obd] Query failed, no connection available\n",
      "[obd.obd] Query failed, no connection available\n",
      "[obd.obd] Query failed, no connection available\n",
      "[obd.obd] Query failed, no connection available\n",
      "[obd.obd] Query failed, no connection available\n",
      "[obd.obd] Query failed, no connection available\n",
      "[obd.obd] Query failed, no connection available\n",
      "[obd.obd] Query failed, no connection available\n",
      "[obd.obd] Query failed, no connection available\n"
     ]
    },
    {
     "name": "stdout",
     "output_type": "stream",
     "text": [
      "RPM is not supported\n",
      "Speed is not supported\n",
      "EngineLoad is not supported\n",
      "CoolantTemp is not supported\n",
      "IntakeTemp is not supported\n",
      "FuelLevel is not supported\n",
      "AmbientTemp is not supported\n",
      "EngineOilTemp is not supported\n",
      "FuelRate is not supported\n"
     ]
    },
    {
     "name": "stderr",
     "output_type": "stream",
     "text": [
      "[obd.obd] Query failed, no connection available\n",
      "[obd.obd] Query failed, no connection available\n",
      "[obd.obd] Query failed, no connection available\n",
      "[obd.obd] Query failed, no connection available\n",
      "[obd.obd] Query failed, no connection available\n",
      "[obd.obd] Query failed, no connection available\n",
      "[obd.obd] Query failed, no connection available\n",
      "[obd.obd] Query failed, no connection available\n",
      "[obd.obd] Query failed, no connection available\n"
     ]
    },
    {
     "name": "stdout",
     "output_type": "stream",
     "text": [
      "RPM is not supported\n",
      "Speed is not supported\n",
      "EngineLoad is not supported\n",
      "CoolantTemp is not supported\n",
      "IntakeTemp is not supported\n",
      "FuelLevel is not supported\n",
      "AmbientTemp is not supported\n",
      "EngineOilTemp is not supported\n",
      "FuelRate is not supported\n"
     ]
    },
    {
     "name": "stderr",
     "output_type": "stream",
     "text": [
      "[obd.obd] Query failed, no connection available\n",
      "[obd.obd] Query failed, no connection available\n",
      "[obd.obd] Query failed, no connection available\n",
      "[obd.obd] Query failed, no connection available\n",
      "[obd.obd] Query failed, no connection available\n",
      "[obd.obd] Query failed, no connection available\n",
      "[obd.obd] Query failed, no connection available\n",
      "[obd.obd] Query failed, no connection available\n",
      "[obd.obd] Query failed, no connection available\n"
     ]
    },
    {
     "name": "stdout",
     "output_type": "stream",
     "text": [
      "RPM is not supported\n",
      "Speed is not supported\n",
      "EngineLoad is not supported\n",
      "CoolantTemp is not supported\n",
      "IntakeTemp is not supported\n",
      "FuelLevel is not supported\n",
      "AmbientTemp is not supported\n",
      "EngineOilTemp is not supported\n",
      "FuelRate is not supported\n"
     ]
    },
    {
     "name": "stderr",
     "output_type": "stream",
     "text": [
      "[obd.obd] Query failed, no connection available\n",
      "[obd.obd] Query failed, no connection available\n",
      "[obd.obd] Query failed, no connection available\n",
      "[obd.obd] Query failed, no connection available\n",
      "[obd.obd] Query failed, no connection available\n",
      "[obd.obd] Query failed, no connection available\n",
      "[obd.obd] Query failed, no connection available\n",
      "[obd.obd] Query failed, no connection available\n",
      "[obd.obd] Query failed, no connection available\n"
     ]
    },
    {
     "name": "stdout",
     "output_type": "stream",
     "text": [
      "RPM is not supported\n",
      "Speed is not supported\n",
      "EngineLoad is not supported\n",
      "CoolantTemp is not supported\n",
      "IntakeTemp is not supported\n",
      "FuelLevel is not supported\n",
      "AmbientTemp is not supported\n",
      "EngineOilTemp is not supported\n",
      "FuelRate is not supported\n"
     ]
    },
    {
     "name": "stderr",
     "output_type": "stream",
     "text": [
      "[obd.obd] Query failed, no connection available\n",
      "[obd.obd] Query failed, no connection available\n",
      "[obd.obd] Query failed, no connection available\n",
      "[obd.obd] Query failed, no connection available\n",
      "[obd.obd] Query failed, no connection available\n",
      "[obd.obd] Query failed, no connection available\n",
      "[obd.obd] Query failed, no connection available\n",
      "[obd.obd] Query failed, no connection available\n",
      "[obd.obd] Query failed, no connection available\n"
     ]
    },
    {
     "name": "stdout",
     "output_type": "stream",
     "text": [
      "RPM is not supported\n",
      "Speed is not supported\n",
      "EngineLoad is not supported\n",
      "CoolantTemp is not supported\n",
      "IntakeTemp is not supported\n",
      "FuelLevel is not supported\n",
      "AmbientTemp is not supported\n",
      "EngineOilTemp is not supported\n",
      "FuelRate is not supported\n"
     ]
    },
    {
     "name": "stderr",
     "output_type": "stream",
     "text": [
      "[obd.obd] Query failed, no connection available\n",
      "[obd.obd] Query failed, no connection available\n",
      "[obd.obd] Query failed, no connection available\n",
      "[obd.obd] Query failed, no connection available\n",
      "[obd.obd] Query failed, no connection available\n",
      "[obd.obd] Query failed, no connection available\n",
      "[obd.obd] Query failed, no connection available\n",
      "[obd.obd] Query failed, no connection available\n",
      "[obd.obd] Query failed, no connection available\n"
     ]
    },
    {
     "name": "stdout",
     "output_type": "stream",
     "text": [
      "RPM is not supported\n",
      "Speed is not supported\n",
      "EngineLoad is not supported\n",
      "CoolantTemp is not supported\n",
      "IntakeTemp is not supported\n",
      "FuelLevel is not supported\n",
      "AmbientTemp is not supported\n",
      "EngineOilTemp is not supported\n",
      "FuelRate is not supported\n"
     ]
    },
    {
     "name": "stderr",
     "output_type": "stream",
     "text": [
      "[obd.obd] Query failed, no connection available\n",
      "[obd.obd] Query failed, no connection available\n",
      "[obd.obd] Query failed, no connection available\n",
      "[obd.obd] Query failed, no connection available\n",
      "[obd.obd] Query failed, no connection available\n",
      "[obd.obd] Query failed, no connection available\n",
      "[obd.obd] Query failed, no connection available\n",
      "[obd.obd] Query failed, no connection available\n",
      "[obd.obd] Query failed, no connection available\n"
     ]
    },
    {
     "name": "stdout",
     "output_type": "stream",
     "text": [
      "RPM is not supported\n",
      "Speed is not supported\n",
      "EngineLoad is not supported\n",
      "CoolantTemp is not supported\n",
      "IntakeTemp is not supported\n",
      "FuelLevel is not supported\n",
      "AmbientTemp is not supported\n",
      "EngineOilTemp is not supported\n",
      "FuelRate is not supported\n"
     ]
    },
    {
     "name": "stderr",
     "output_type": "stream",
     "text": [
      "[obd.obd] Query failed, no connection available\n",
      "[obd.obd] Query failed, no connection available\n",
      "[obd.obd] Query failed, no connection available\n",
      "[obd.obd] Query failed, no connection available\n",
      "[obd.obd] Query failed, no connection available\n",
      "[obd.obd] Query failed, no connection available\n",
      "[obd.obd] Query failed, no connection available\n",
      "[obd.obd] Query failed, no connection available\n",
      "[obd.obd] Query failed, no connection available\n"
     ]
    },
    {
     "name": "stdout",
     "output_type": "stream",
     "text": [
      "RPM is not supported\n",
      "Speed is not supported\n",
      "EngineLoad is not supported\n",
      "CoolantTemp is not supported\n",
      "IntakeTemp is not supported\n",
      "FuelLevel is not supported\n",
      "AmbientTemp is not supported\n",
      "EngineOilTemp is not supported\n",
      "FuelRate is not supported\n"
     ]
    },
    {
     "name": "stderr",
     "output_type": "stream",
     "text": [
      "[obd.obd] Query failed, no connection available\n",
      "[obd.obd] Query failed, no connection available\n",
      "[obd.obd] Query failed, no connection available\n",
      "[obd.obd] Query failed, no connection available\n",
      "[obd.obd] Query failed, no connection available\n",
      "[obd.obd] Query failed, no connection available\n",
      "[obd.obd] Query failed, no connection available\n",
      "[obd.obd] Query failed, no connection available\n",
      "[obd.obd] Query failed, no connection available\n"
     ]
    },
    {
     "name": "stdout",
     "output_type": "stream",
     "text": [
      "RPM is not supported\n",
      "Speed is not supported\n",
      "EngineLoad is not supported\n",
      "CoolantTemp is not supported\n",
      "IntakeTemp is not supported\n",
      "FuelLevel is not supported\n",
      "AmbientTemp is not supported\n",
      "EngineOilTemp is not supported\n",
      "FuelRate is not supported\n"
     ]
    },
    {
     "name": "stderr",
     "output_type": "stream",
     "text": [
      "[obd.obd] Query failed, no connection available\n",
      "[obd.obd] Query failed, no connection available\n",
      "[obd.obd] Query failed, no connection available\n",
      "[obd.obd] Query failed, no connection available\n",
      "[obd.obd] Query failed, no connection available\n",
      "[obd.obd] Query failed, no connection available\n",
      "[obd.obd] Query failed, no connection available\n",
      "[obd.obd] Query failed, no connection available\n",
      "[obd.obd] Query failed, no connection available\n"
     ]
    },
    {
     "name": "stdout",
     "output_type": "stream",
     "text": [
      "RPM is not supported\n",
      "Speed is not supported\n",
      "EngineLoad is not supported\n",
      "CoolantTemp is not supported\n",
      "IntakeTemp is not supported\n",
      "FuelLevel is not supported\n",
      "AmbientTemp is not supported\n",
      "EngineOilTemp is not supported\n",
      "FuelRate is not supported\n"
     ]
    },
    {
     "name": "stderr",
     "output_type": "stream",
     "text": [
      "[obd.obd] Query failed, no connection available\n",
      "[obd.obd] Query failed, no connection available\n",
      "[obd.obd] Query failed, no connection available\n",
      "[obd.obd] Query failed, no connection available\n",
      "[obd.obd] Query failed, no connection available\n",
      "[obd.obd] Query failed, no connection available\n",
      "[obd.obd] Query failed, no connection available\n",
      "[obd.obd] Query failed, no connection available\n",
      "[obd.obd] Query failed, no connection available\n"
     ]
    },
    {
     "name": "stdout",
     "output_type": "stream",
     "text": [
      "RPM is not supported\n",
      "Speed is not supported\n",
      "EngineLoad is not supported\n",
      "CoolantTemp is not supported\n",
      "IntakeTemp is not supported\n",
      "FuelLevel is not supported\n",
      "AmbientTemp is not supported\n",
      "EngineOilTemp is not supported\n",
      "FuelRate is not supported\n"
     ]
    },
    {
     "name": "stderr",
     "output_type": "stream",
     "text": [
      "[obd.obd] Query failed, no connection available\n",
      "[obd.obd] Query failed, no connection available\n",
      "[obd.obd] Query failed, no connection available\n",
      "[obd.obd] Query failed, no connection available\n",
      "[obd.obd] Query failed, no connection available\n",
      "[obd.obd] Query failed, no connection available\n",
      "[obd.obd] Query failed, no connection available\n",
      "[obd.obd] Query failed, no connection available\n",
      "[obd.obd] Query failed, no connection available\n"
     ]
    },
    {
     "name": "stdout",
     "output_type": "stream",
     "text": [
      "RPM is not supported\n",
      "Speed is not supported\n",
      "EngineLoad is not supported\n",
      "CoolantTemp is not supported\n",
      "IntakeTemp is not supported\n",
      "FuelLevel is not supported\n",
      "AmbientTemp is not supported\n",
      "EngineOilTemp is not supported\n",
      "FuelRate is not supported\n"
     ]
    },
    {
     "name": "stderr",
     "output_type": "stream",
     "text": [
      "[obd.obd] Query failed, no connection available\n",
      "[obd.obd] Query failed, no connection available\n",
      "[obd.obd] Query failed, no connection available\n",
      "[obd.obd] Query failed, no connection available\n",
      "[obd.obd] Query failed, no connection available\n",
      "[obd.obd] Query failed, no connection available\n",
      "[obd.obd] Query failed, no connection available\n",
      "[obd.obd] Query failed, no connection available\n",
      "[obd.obd] Query failed, no connection available\n"
     ]
    },
    {
     "name": "stdout",
     "output_type": "stream",
     "text": [
      "RPM is not supported\n",
      "Speed is not supported\n",
      "EngineLoad is not supported\n",
      "CoolantTemp is not supported\n",
      "IntakeTemp is not supported\n",
      "FuelLevel is not supported\n",
      "AmbientTemp is not supported\n",
      "EngineOilTemp is not supported\n",
      "FuelRate is not supported\n"
     ]
    },
    {
     "name": "stderr",
     "output_type": "stream",
     "text": [
      "[obd.obd] Query failed, no connection available\n",
      "[obd.obd] Query failed, no connection available\n",
      "[obd.obd] Query failed, no connection available\n",
      "[obd.obd] Query failed, no connection available\n",
      "[obd.obd] Query failed, no connection available\n",
      "[obd.obd] Query failed, no connection available\n",
      "[obd.obd] Query failed, no connection available\n",
      "[obd.obd] Query failed, no connection available\n",
      "[obd.obd] Query failed, no connection available\n"
     ]
    },
    {
     "name": "stdout",
     "output_type": "stream",
     "text": [
      "RPM is not supported\n",
      "Speed is not supported\n",
      "EngineLoad is not supported\n",
      "CoolantTemp is not supported\n",
      "IntakeTemp is not supported\n",
      "FuelLevel is not supported\n",
      "AmbientTemp is not supported\n",
      "EngineOilTemp is not supported\n",
      "FuelRate is not supported\n"
     ]
    },
    {
     "name": "stderr",
     "output_type": "stream",
     "text": [
      "[obd.obd] Query failed, no connection available\n",
      "[obd.obd] Query failed, no connection available\n",
      "[obd.obd] Query failed, no connection available\n",
      "[obd.obd] Query failed, no connection available\n",
      "[obd.obd] Query failed, no connection available\n",
      "[obd.obd] Query failed, no connection available\n",
      "[obd.obd] Query failed, no connection available\n",
      "[obd.obd] Query failed, no connection available\n",
      "[obd.obd] Query failed, no connection available\n"
     ]
    },
    {
     "name": "stdout",
     "output_type": "stream",
     "text": [
      "RPM is not supported\n",
      "Speed is not supported\n",
      "EngineLoad is not supported\n",
      "CoolantTemp is not supported\n",
      "IntakeTemp is not supported\n",
      "FuelLevel is not supported\n",
      "AmbientTemp is not supported\n",
      "EngineOilTemp is not supported\n",
      "FuelRate is not supported\n"
     ]
    },
    {
     "name": "stderr",
     "output_type": "stream",
     "text": [
      "[obd.obd] Query failed, no connection available\n",
      "[obd.obd] Query failed, no connection available\n",
      "[obd.obd] Query failed, no connection available\n",
      "[obd.obd] Query failed, no connection available\n",
      "[obd.obd] Query failed, no connection available\n",
      "[obd.obd] Query failed, no connection available\n",
      "[obd.obd] Query failed, no connection available\n",
      "[obd.obd] Query failed, no connection available\n",
      "[obd.obd] Query failed, no connection available\n"
     ]
    },
    {
     "name": "stdout",
     "output_type": "stream",
     "text": [
      "RPM is not supported\n",
      "Speed is not supported\n",
      "EngineLoad is not supported\n",
      "CoolantTemp is not supported\n",
      "IntakeTemp is not supported\n",
      "FuelLevel is not supported\n",
      "AmbientTemp is not supported\n",
      "EngineOilTemp is not supported\n",
      "FuelRate is not supported\n"
     ]
    },
    {
     "name": "stderr",
     "output_type": "stream",
     "text": [
      "[obd.obd] Query failed, no connection available\n",
      "[obd.obd] Query failed, no connection available\n",
      "[obd.obd] Query failed, no connection available\n",
      "[obd.obd] Query failed, no connection available\n",
      "[obd.obd] Query failed, no connection available\n",
      "[obd.obd] Query failed, no connection available\n",
      "[obd.obd] Query failed, no connection available\n",
      "[obd.obd] Query failed, no connection available\n",
      "[obd.obd] Query failed, no connection available\n"
     ]
    },
    {
     "name": "stdout",
     "output_type": "stream",
     "text": [
      "RPM is not supported\n",
      "Speed is not supported\n",
      "EngineLoad is not supported\n",
      "CoolantTemp is not supported\n",
      "IntakeTemp is not supported\n",
      "FuelLevel is not supported\n",
      "AmbientTemp is not supported\n",
      "EngineOilTemp is not supported\n",
      "FuelRate is not supported\n"
     ]
    },
    {
     "name": "stderr",
     "output_type": "stream",
     "text": [
      "[obd.obd] Query failed, no connection available\n",
      "[obd.obd] Query failed, no connection available\n",
      "[obd.obd] Query failed, no connection available\n",
      "[obd.obd] Query failed, no connection available\n",
      "[obd.obd] Query failed, no connection available\n",
      "[obd.obd] Query failed, no connection available\n",
      "[obd.obd] Query failed, no connection available\n",
      "[obd.obd] Query failed, no connection available\n",
      "[obd.obd] Query failed, no connection available\n"
     ]
    },
    {
     "name": "stdout",
     "output_type": "stream",
     "text": [
      "RPM is not supported\n",
      "Speed is not supported\n",
      "EngineLoad is not supported\n",
      "CoolantTemp is not supported\n",
      "IntakeTemp is not supported\n",
      "FuelLevel is not supported\n",
      "AmbientTemp is not supported\n",
      "EngineOilTemp is not supported\n",
      "FuelRate is not supported\n"
     ]
    },
    {
     "name": "stderr",
     "output_type": "stream",
     "text": [
      "[obd.obd] Query failed, no connection available\n",
      "[obd.obd] Query failed, no connection available\n",
      "[obd.obd] Query failed, no connection available\n",
      "[obd.obd] Query failed, no connection available\n",
      "[obd.obd] Query failed, no connection available\n",
      "[obd.obd] Query failed, no connection available\n",
      "[obd.obd] Query failed, no connection available\n",
      "[obd.obd] Query failed, no connection available\n",
      "[obd.obd] Query failed, no connection available\n"
     ]
    },
    {
     "name": "stdout",
     "output_type": "stream",
     "text": [
      "RPM is not supported\n",
      "Speed is not supported\n",
      "EngineLoad is not supported\n",
      "CoolantTemp is not supported\n",
      "IntakeTemp is not supported\n",
      "FuelLevel is not supported\n",
      "AmbientTemp is not supported\n",
      "EngineOilTemp is not supported\n",
      "FuelRate is not supported\n"
     ]
    },
    {
     "name": "stderr",
     "output_type": "stream",
     "text": [
      "[obd.obd] Query failed, no connection available\n",
      "[obd.obd] Query failed, no connection available\n",
      "[obd.obd] Query failed, no connection available\n",
      "[obd.obd] Query failed, no connection available\n",
      "[obd.obd] Query failed, no connection available\n",
      "[obd.obd] Query failed, no connection available\n",
      "[obd.obd] Query failed, no connection available\n",
      "[obd.obd] Query failed, no connection available\n",
      "[obd.obd] Query failed, no connection available\n"
     ]
    },
    {
     "name": "stdout",
     "output_type": "stream",
     "text": [
      "RPM is not supported\n",
      "Speed is not supported\n",
      "EngineLoad is not supported\n",
      "CoolantTemp is not supported\n",
      "IntakeTemp is not supported\n",
      "FuelLevel is not supported\n",
      "AmbientTemp is not supported\n",
      "EngineOilTemp is not supported\n",
      "FuelRate is not supported\n"
     ]
    },
    {
     "name": "stderr",
     "output_type": "stream",
     "text": [
      "[obd.obd] Query failed, no connection available\n",
      "[obd.obd] Query failed, no connection available\n",
      "[obd.obd] Query failed, no connection available\n",
      "[obd.obd] Query failed, no connection available\n",
      "[obd.obd] Query failed, no connection available\n",
      "[obd.obd] Query failed, no connection available\n",
      "[obd.obd] Query failed, no connection available\n",
      "[obd.obd] Query failed, no connection available\n",
      "[obd.obd] Query failed, no connection available\n"
     ]
    },
    {
     "name": "stdout",
     "output_type": "stream",
     "text": [
      "RPM is not supported\n",
      "Speed is not supported\n",
      "EngineLoad is not supported\n",
      "CoolantTemp is not supported\n",
      "IntakeTemp is not supported\n",
      "FuelLevel is not supported\n",
      "AmbientTemp is not supported\n",
      "EngineOilTemp is not supported\n",
      "FuelRate is not supported\n"
     ]
    },
    {
     "name": "stderr",
     "output_type": "stream",
     "text": [
      "[obd.obd] Query failed, no connection available\n",
      "[obd.obd] Query failed, no connection available\n",
      "[obd.obd] Query failed, no connection available\n",
      "[obd.obd] Query failed, no connection available\n",
      "[obd.obd] Query failed, no connection available\n",
      "[obd.obd] Query failed, no connection available\n",
      "[obd.obd] Query failed, no connection available\n",
      "[obd.obd] Query failed, no connection available\n",
      "[obd.obd] Query failed, no connection available\n"
     ]
    },
    {
     "name": "stdout",
     "output_type": "stream",
     "text": [
      "RPM is not supported\n",
      "Speed is not supported\n",
      "EngineLoad is not supported\n",
      "CoolantTemp is not supported\n",
      "IntakeTemp is not supported\n",
      "FuelLevel is not supported\n",
      "AmbientTemp is not supported\n",
      "EngineOilTemp is not supported\n",
      "FuelRate is not supported\n"
     ]
    },
    {
     "name": "stderr",
     "output_type": "stream",
     "text": [
      "[obd.obd] Query failed, no connection available\n",
      "[obd.obd] Query failed, no connection available\n",
      "[obd.obd] Query failed, no connection available\n",
      "[obd.obd] Query failed, no connection available\n",
      "[obd.obd] Query failed, no connection available\n",
      "[obd.obd] Query failed, no connection available\n",
      "[obd.obd] Query failed, no connection available\n",
      "[obd.obd] Query failed, no connection available\n",
      "[obd.obd] Query failed, no connection available\n"
     ]
    },
    {
     "name": "stdout",
     "output_type": "stream",
     "text": [
      "RPM is not supported\n",
      "Speed is not supported\n",
      "EngineLoad is not supported\n",
      "CoolantTemp is not supported\n",
      "IntakeTemp is not supported\n",
      "FuelLevel is not supported\n",
      "AmbientTemp is not supported\n",
      "EngineOilTemp is not supported\n",
      "FuelRate is not supported\n"
     ]
    },
    {
     "name": "stderr",
     "output_type": "stream",
     "text": [
      "[obd.obd] Query failed, no connection available\n",
      "[obd.obd] Query failed, no connection available\n",
      "[obd.obd] Query failed, no connection available\n",
      "[obd.obd] Query failed, no connection available\n",
      "[obd.obd] Query failed, no connection available\n",
      "[obd.obd] Query failed, no connection available\n",
      "[obd.obd] Query failed, no connection available\n",
      "[obd.obd] Query failed, no connection available\n",
      "[obd.obd] Query failed, no connection available\n"
     ]
    },
    {
     "name": "stdout",
     "output_type": "stream",
     "text": [
      "RPM is not supported\n",
      "Speed is not supported\n",
      "EngineLoad is not supported\n",
      "CoolantTemp is not supported\n",
      "IntakeTemp is not supported\n",
      "FuelLevel is not supported\n",
      "AmbientTemp is not supported\n",
      "EngineOilTemp is not supported\n",
      "FuelRate is not supported\n"
     ]
    },
    {
     "name": "stderr",
     "output_type": "stream",
     "text": [
      "[obd.obd] Query failed, no connection available\n",
      "[obd.obd] Query failed, no connection available\n",
      "[obd.obd] Query failed, no connection available\n",
      "[obd.obd] Query failed, no connection available\n",
      "[obd.obd] Query failed, no connection available\n",
      "[obd.obd] Query failed, no connection available\n",
      "[obd.obd] Query failed, no connection available\n",
      "[obd.obd] Query failed, no connection available\n",
      "[obd.obd] Query failed, no connection available\n"
     ]
    },
    {
     "name": "stdout",
     "output_type": "stream",
     "text": [
      "RPM is not supported\n",
      "Speed is not supported\n",
      "EngineLoad is not supported\n",
      "CoolantTemp is not supported\n",
      "IntakeTemp is not supported\n",
      "FuelLevel is not supported\n",
      "AmbientTemp is not supported\n",
      "EngineOilTemp is not supported\n",
      "FuelRate is not supported\n"
     ]
    },
    {
     "name": "stderr",
     "output_type": "stream",
     "text": [
      "[obd.obd] Query failed, no connection available\n",
      "[obd.obd] Query failed, no connection available\n",
      "[obd.obd] Query failed, no connection available\n",
      "[obd.obd] Query failed, no connection available\n",
      "[obd.obd] Query failed, no connection available\n",
      "[obd.obd] Query failed, no connection available\n",
      "[obd.obd] Query failed, no connection available\n",
      "[obd.obd] Query failed, no connection available\n",
      "[obd.obd] Query failed, no connection available\n"
     ]
    },
    {
     "name": "stdout",
     "output_type": "stream",
     "text": [
      "RPM is not supported\n",
      "Speed is not supported\n",
      "EngineLoad is not supported\n",
      "CoolantTemp is not supported\n",
      "IntakeTemp is not supported\n",
      "FuelLevel is not supported\n",
      "AmbientTemp is not supported\n",
      "EngineOilTemp is not supported\n",
      "FuelRate is not supported\n"
     ]
    },
    {
     "name": "stderr",
     "output_type": "stream",
     "text": [
      "[obd.obd] Query failed, no connection available\n",
      "[obd.obd] Query failed, no connection available\n",
      "[obd.obd] Query failed, no connection available\n",
      "[obd.obd] Query failed, no connection available\n",
      "[obd.obd] Query failed, no connection available\n",
      "[obd.obd] Query failed, no connection available\n",
      "[obd.obd] Query failed, no connection available\n",
      "[obd.obd] Query failed, no connection available\n",
      "[obd.obd] Query failed, no connection available\n"
     ]
    },
    {
     "name": "stdout",
     "output_type": "stream",
     "text": [
      "RPM is not supported\n",
      "Speed is not supported\n",
      "EngineLoad is not supported\n",
      "CoolantTemp is not supported\n",
      "IntakeTemp is not supported\n",
      "FuelLevel is not supported\n",
      "AmbientTemp is not supported\n",
      "EngineOilTemp is not supported\n",
      "FuelRate is not supported\n"
     ]
    },
    {
     "name": "stderr",
     "output_type": "stream",
     "text": [
      "[obd.obd] Query failed, no connection available\n",
      "[obd.obd] Query failed, no connection available\n",
      "[obd.obd] Query failed, no connection available\n",
      "[obd.obd] Query failed, no connection available\n",
      "[obd.obd] Query failed, no connection available\n",
      "[obd.obd] Query failed, no connection available\n",
      "[obd.obd] Query failed, no connection available\n",
      "[obd.obd] Query failed, no connection available\n",
      "[obd.obd] Query failed, no connection available\n"
     ]
    },
    {
     "name": "stdout",
     "output_type": "stream",
     "text": [
      "RPM is not supported\n",
      "Speed is not supported\n",
      "EngineLoad is not supported\n",
      "CoolantTemp is not supported\n",
      "IntakeTemp is not supported\n",
      "FuelLevel is not supported\n",
      "AmbientTemp is not supported\n",
      "EngineOilTemp is not supported\n",
      "FuelRate is not supported\n"
     ]
    },
    {
     "name": "stderr",
     "output_type": "stream",
     "text": [
      "[obd.obd] Query failed, no connection available\n",
      "[obd.obd] Query failed, no connection available\n",
      "[obd.obd] Query failed, no connection available\n",
      "[obd.obd] Query failed, no connection available\n",
      "[obd.obd] Query failed, no connection available\n",
      "[obd.obd] Query failed, no connection available\n",
      "[obd.obd] Query failed, no connection available\n",
      "[obd.obd] Query failed, no connection available\n",
      "[obd.obd] Query failed, no connection available\n"
     ]
    },
    {
     "name": "stdout",
     "output_type": "stream",
     "text": [
      "RPM is not supported\n",
      "Speed is not supported\n",
      "EngineLoad is not supported\n",
      "CoolantTemp is not supported\n",
      "IntakeTemp is not supported\n",
      "FuelLevel is not supported\n",
      "AmbientTemp is not supported\n",
      "EngineOilTemp is not supported\n",
      "FuelRate is not supported\n"
     ]
    },
    {
     "name": "stderr",
     "output_type": "stream",
     "text": [
      "[obd.obd] Query failed, no connection available\n",
      "[obd.obd] Query failed, no connection available\n",
      "[obd.obd] Query failed, no connection available\n",
      "[obd.obd] Query failed, no connection available\n",
      "[obd.obd] Query failed, no connection available\n",
      "[obd.obd] Query failed, no connection available\n",
      "[obd.obd] Query failed, no connection available\n",
      "[obd.obd] Query failed, no connection available\n",
      "[obd.obd] Query failed, no connection available\n"
     ]
    },
    {
     "name": "stdout",
     "output_type": "stream",
     "text": [
      "RPM is not supported\n",
      "Speed is not supported\n",
      "EngineLoad is not supported\n",
      "CoolantTemp is not supported\n",
      "IntakeTemp is not supported\n",
      "FuelLevel is not supported\n",
      "AmbientTemp is not supported\n",
      "EngineOilTemp is not supported\n",
      "FuelRate is not supported\n"
     ]
    },
    {
     "name": "stderr",
     "output_type": "stream",
     "text": [
      "[obd.obd] Query failed, no connection available\n",
      "[obd.obd] Query failed, no connection available\n",
      "[obd.obd] Query failed, no connection available\n",
      "[obd.obd] Query failed, no connection available\n",
      "[obd.obd] Query failed, no connection available\n",
      "[obd.obd] Query failed, no connection available\n",
      "[obd.obd] Query failed, no connection available\n",
      "[obd.obd] Query failed, no connection available\n",
      "[obd.obd] Query failed, no connection available\n"
     ]
    },
    {
     "name": "stdout",
     "output_type": "stream",
     "text": [
      "RPM is not supported\n",
      "Speed is not supported\n",
      "EngineLoad is not supported\n",
      "CoolantTemp is not supported\n",
      "IntakeTemp is not supported\n",
      "FuelLevel is not supported\n",
      "AmbientTemp is not supported\n",
      "EngineOilTemp is not supported\n",
      "FuelRate is not supported\n"
     ]
    },
    {
     "name": "stderr",
     "output_type": "stream",
     "text": [
      "[obd.obd] Query failed, no connection available\n",
      "[obd.obd] Query failed, no connection available\n",
      "[obd.obd] Query failed, no connection available\n",
      "[obd.obd] Query failed, no connection available\n",
      "[obd.obd] Query failed, no connection available\n",
      "[obd.obd] Query failed, no connection available\n",
      "[obd.obd] Query failed, no connection available\n",
      "[obd.obd] Query failed, no connection available\n",
      "[obd.obd] Query failed, no connection available\n"
     ]
    },
    {
     "name": "stdout",
     "output_type": "stream",
     "text": [
      "RPM is not supported\n",
      "Speed is not supported\n",
      "EngineLoad is not supported\n",
      "CoolantTemp is not supported\n",
      "IntakeTemp is not supported\n",
      "FuelLevel is not supported\n",
      "AmbientTemp is not supported\n",
      "EngineOilTemp is not supported\n",
      "FuelRate is not supported\n"
     ]
    },
    {
     "name": "stderr",
     "output_type": "stream",
     "text": [
      "[obd.obd] Query failed, no connection available\n",
      "[obd.obd] Query failed, no connection available\n",
      "[obd.obd] Query failed, no connection available\n",
      "[obd.obd] Query failed, no connection available\n",
      "[obd.obd] Query failed, no connection available\n",
      "[obd.obd] Query failed, no connection available\n",
      "[obd.obd] Query failed, no connection available\n",
      "[obd.obd] Query failed, no connection available\n",
      "[obd.obd] Query failed, no connection available\n"
     ]
    },
    {
     "name": "stdout",
     "output_type": "stream",
     "text": [
      "RPM is not supported\n",
      "Speed is not supported\n",
      "EngineLoad is not supported\n",
      "CoolantTemp is not supported\n",
      "IntakeTemp is not supported\n",
      "FuelLevel is not supported\n",
      "AmbientTemp is not supported\n",
      "EngineOilTemp is not supported\n",
      "FuelRate is not supported\n"
     ]
    },
    {
     "name": "stderr",
     "output_type": "stream",
     "text": [
      "[obd.obd] Query failed, no connection available\n",
      "[obd.obd] Query failed, no connection available\n",
      "[obd.obd] Query failed, no connection available\n",
      "[obd.obd] Query failed, no connection available\n",
      "[obd.obd] Query failed, no connection available\n",
      "[obd.obd] Query failed, no connection available\n",
      "[obd.obd] Query failed, no connection available\n",
      "[obd.obd] Query failed, no connection available\n",
      "[obd.obd] Query failed, no connection available\n"
     ]
    },
    {
     "name": "stdout",
     "output_type": "stream",
     "text": [
      "RPM is not supported\n",
      "Speed is not supported\n",
      "EngineLoad is not supported\n",
      "CoolantTemp is not supported\n",
      "IntakeTemp is not supported\n",
      "FuelLevel is not supported\n",
      "AmbientTemp is not supported\n",
      "EngineOilTemp is not supported\n",
      "FuelRate is not supported\n"
     ]
    },
    {
     "name": "stderr",
     "output_type": "stream",
     "text": [
      "[obd.obd] Query failed, no connection available\n",
      "[obd.obd] Query failed, no connection available\n",
      "[obd.obd] Query failed, no connection available\n",
      "[obd.obd] Query failed, no connection available\n",
      "[obd.obd] Query failed, no connection available\n",
      "[obd.obd] Query failed, no connection available\n",
      "[obd.obd] Query failed, no connection available\n",
      "[obd.obd] Query failed, no connection available\n",
      "[obd.obd] Query failed, no connection available\n"
     ]
    },
    {
     "name": "stdout",
     "output_type": "stream",
     "text": [
      "RPM is not supported\n",
      "Speed is not supported\n",
      "EngineLoad is not supported\n",
      "CoolantTemp is not supported\n",
      "IntakeTemp is not supported\n",
      "FuelLevel is not supported\n",
      "AmbientTemp is not supported\n",
      "EngineOilTemp is not supported\n",
      "FuelRate is not supported\n"
     ]
    },
    {
     "name": "stderr",
     "output_type": "stream",
     "text": [
      "[obd.obd] Query failed, no connection available\n",
      "[obd.obd] Query failed, no connection available\n",
      "[obd.obd] Query failed, no connection available\n",
      "[obd.obd] Query failed, no connection available\n",
      "[obd.obd] Query failed, no connection available\n",
      "[obd.obd] Query failed, no connection available\n",
      "[obd.obd] Query failed, no connection available\n",
      "[obd.obd] Query failed, no connection available\n",
      "[obd.obd] Query failed, no connection available\n"
     ]
    },
    {
     "name": "stdout",
     "output_type": "stream",
     "text": [
      "RPM is not supported\n",
      "Speed is not supported\n",
      "EngineLoad is not supported\n",
      "CoolantTemp is not supported\n",
      "IntakeTemp is not supported\n",
      "FuelLevel is not supported\n",
      "AmbientTemp is not supported\n",
      "EngineOilTemp is not supported\n",
      "FuelRate is not supported\n"
     ]
    },
    {
     "name": "stderr",
     "output_type": "stream",
     "text": [
      "[obd.obd] Query failed, no connection available\n",
      "[obd.obd] Query failed, no connection available\n",
      "[obd.obd] Query failed, no connection available\n",
      "[obd.obd] Query failed, no connection available\n",
      "[obd.obd] Query failed, no connection available\n",
      "[obd.obd] Query failed, no connection available\n",
      "[obd.obd] Query failed, no connection available\n",
      "[obd.obd] Query failed, no connection available\n",
      "[obd.obd] Query failed, no connection available\n"
     ]
    },
    {
     "name": "stdout",
     "output_type": "stream",
     "text": [
      "RPM is not supported\n",
      "Speed is not supported\n",
      "EngineLoad is not supported\n",
      "CoolantTemp is not supported\n",
      "IntakeTemp is not supported\n",
      "FuelLevel is not supported\n",
      "AmbientTemp is not supported\n",
      "EngineOilTemp is not supported\n",
      "FuelRate is not supported\n"
     ]
    },
    {
     "name": "stderr",
     "output_type": "stream",
     "text": [
      "[obd.obd] Query failed, no connection available\n",
      "[obd.obd] Query failed, no connection available\n",
      "[obd.obd] Query failed, no connection available\n",
      "[obd.obd] Query failed, no connection available\n",
      "[obd.obd] Query failed, no connection available\n",
      "[obd.obd] Query failed, no connection available\n",
      "[obd.obd] Query failed, no connection available\n",
      "[obd.obd] Query failed, no connection available\n",
      "[obd.obd] Query failed, no connection available\n"
     ]
    },
    {
     "name": "stdout",
     "output_type": "stream",
     "text": [
      "RPM is not supported\n",
      "Speed is not supported\n",
      "EngineLoad is not supported\n",
      "CoolantTemp is not supported\n",
      "IntakeTemp is not supported\n",
      "FuelLevel is not supported\n",
      "AmbientTemp is not supported\n",
      "EngineOilTemp is not supported\n",
      "FuelRate is not supported\n"
     ]
    },
    {
     "name": "stderr",
     "output_type": "stream",
     "text": [
      "[obd.obd] Query failed, no connection available\n",
      "[obd.obd] Query failed, no connection available\n",
      "[obd.obd] Query failed, no connection available\n",
      "[obd.obd] Query failed, no connection available\n",
      "[obd.obd] Query failed, no connection available\n",
      "[obd.obd] Query failed, no connection available\n",
      "[obd.obd] Query failed, no connection available\n",
      "[obd.obd] Query failed, no connection available\n",
      "[obd.obd] Query failed, no connection available\n"
     ]
    },
    {
     "name": "stdout",
     "output_type": "stream",
     "text": [
      "RPM is not supported\n",
      "Speed is not supported\n",
      "EngineLoad is not supported\n",
      "CoolantTemp is not supported\n",
      "IntakeTemp is not supported\n",
      "FuelLevel is not supported\n",
      "AmbientTemp is not supported\n",
      "EngineOilTemp is not supported\n",
      "FuelRate is not supported\n"
     ]
    },
    {
     "name": "stderr",
     "output_type": "stream",
     "text": [
      "[obd.obd] Query failed, no connection available\n",
      "[obd.obd] Query failed, no connection available\n",
      "[obd.obd] Query failed, no connection available\n",
      "[obd.obd] Query failed, no connection available\n",
      "[obd.obd] Query failed, no connection available\n",
      "[obd.obd] Query failed, no connection available\n",
      "[obd.obd] Query failed, no connection available\n",
      "[obd.obd] Query failed, no connection available\n",
      "[obd.obd] Query failed, no connection available\n"
     ]
    },
    {
     "name": "stdout",
     "output_type": "stream",
     "text": [
      "RPM is not supported\n",
      "Speed is not supported\n",
      "EngineLoad is not supported\n",
      "CoolantTemp is not supported\n",
      "IntakeTemp is not supported\n",
      "FuelLevel is not supported\n",
      "AmbientTemp is not supported\n",
      "EngineOilTemp is not supported\n",
      "FuelRate is not supported\n"
     ]
    },
    {
     "name": "stderr",
     "output_type": "stream",
     "text": [
      "[obd.obd] Query failed, no connection available\n",
      "[obd.obd] Query failed, no connection available\n",
      "[obd.obd] Query failed, no connection available\n",
      "[obd.obd] Query failed, no connection available\n",
      "[obd.obd] Query failed, no connection available\n",
      "[obd.obd] Query failed, no connection available\n",
      "[obd.obd] Query failed, no connection available\n",
      "[obd.obd] Query failed, no connection available\n",
      "[obd.obd] Query failed, no connection available\n"
     ]
    },
    {
     "name": "stdout",
     "output_type": "stream",
     "text": [
      "RPM is not supported\n",
      "Speed is not supported\n",
      "EngineLoad is not supported\n",
      "CoolantTemp is not supported\n",
      "IntakeTemp is not supported\n",
      "FuelLevel is not supported\n",
      "AmbientTemp is not supported\n",
      "EngineOilTemp is not supported\n",
      "FuelRate is not supported\n"
     ]
    },
    {
     "name": "stderr",
     "output_type": "stream",
     "text": [
      "[obd.obd] Query failed, no connection available\n",
      "[obd.obd] Query failed, no connection available\n",
      "[obd.obd] Query failed, no connection available\n",
      "[obd.obd] Query failed, no connection available\n",
      "[obd.obd] Query failed, no connection available\n",
      "[obd.obd] Query failed, no connection available\n",
      "[obd.obd] Query failed, no connection available\n",
      "[obd.obd] Query failed, no connection available\n",
      "[obd.obd] Query failed, no connection available\n"
     ]
    },
    {
     "name": "stdout",
     "output_type": "stream",
     "text": [
      "RPM is not supported\n",
      "Speed is not supported\n",
      "EngineLoad is not supported\n",
      "CoolantTemp is not supported\n",
      "IntakeTemp is not supported\n",
      "FuelLevel is not supported\n",
      "AmbientTemp is not supported\n",
      "EngineOilTemp is not supported\n",
      "FuelRate is not supported\n"
     ]
    },
    {
     "name": "stderr",
     "output_type": "stream",
     "text": [
      "[obd.obd] Query failed, no connection available\n",
      "[obd.obd] Query failed, no connection available\n",
      "[obd.obd] Query failed, no connection available\n",
      "[obd.obd] Query failed, no connection available\n",
      "[obd.obd] Query failed, no connection available\n",
      "[obd.obd] Query failed, no connection available\n",
      "[obd.obd] Query failed, no connection available\n",
      "[obd.obd] Query failed, no connection available\n",
      "[obd.obd] Query failed, no connection available\n"
     ]
    },
    {
     "name": "stdout",
     "output_type": "stream",
     "text": [
      "RPM is not supported\n",
      "Speed is not supported\n",
      "EngineLoad is not supported\n",
      "CoolantTemp is not supported\n",
      "IntakeTemp is not supported\n",
      "FuelLevel is not supported\n",
      "AmbientTemp is not supported\n",
      "EngineOilTemp is not supported\n",
      "FuelRate is not supported\n"
     ]
    },
    {
     "name": "stderr",
     "output_type": "stream",
     "text": [
      "[obd.obd] Query failed, no connection available\n",
      "[obd.obd] Query failed, no connection available\n",
      "[obd.obd] Query failed, no connection available\n",
      "[obd.obd] Query failed, no connection available\n",
      "[obd.obd] Query failed, no connection available\n",
      "[obd.obd] Query failed, no connection available\n",
      "[obd.obd] Query failed, no connection available\n",
      "[obd.obd] Query failed, no connection available\n",
      "[obd.obd] Query failed, no connection available\n"
     ]
    },
    {
     "name": "stdout",
     "output_type": "stream",
     "text": [
      "RPM is not supported\n",
      "Speed is not supported\n",
      "EngineLoad is not supported\n",
      "CoolantTemp is not supported\n",
      "IntakeTemp is not supported\n",
      "FuelLevel is not supported\n",
      "AmbientTemp is not supported\n",
      "EngineOilTemp is not supported\n",
      "FuelRate is not supported\n"
     ]
    },
    {
     "name": "stderr",
     "output_type": "stream",
     "text": [
      "[obd.obd] Query failed, no connection available\n",
      "[obd.obd] Query failed, no connection available\n",
      "[obd.obd] Query failed, no connection available\n",
      "[obd.obd] Query failed, no connection available\n",
      "[obd.obd] Query failed, no connection available\n",
      "[obd.obd] Query failed, no connection available\n",
      "[obd.obd] Query failed, no connection available\n",
      "[obd.obd] Query failed, no connection available\n",
      "[obd.obd] Query failed, no connection available\n"
     ]
    },
    {
     "name": "stdout",
     "output_type": "stream",
     "text": [
      "RPM is not supported\n",
      "Speed is not supported\n",
      "EngineLoad is not supported\n",
      "CoolantTemp is not supported\n",
      "IntakeTemp is not supported\n",
      "FuelLevel is not supported\n",
      "AmbientTemp is not supported\n",
      "EngineOilTemp is not supported\n",
      "FuelRate is not supported\n"
     ]
    },
    {
     "name": "stderr",
     "output_type": "stream",
     "text": [
      "[obd.obd] Query failed, no connection available\n",
      "[obd.obd] Query failed, no connection available\n",
      "[obd.obd] Query failed, no connection available\n",
      "[obd.obd] Query failed, no connection available\n",
      "[obd.obd] Query failed, no connection available\n",
      "[obd.obd] Query failed, no connection available\n",
      "[obd.obd] Query failed, no connection available\n",
      "[obd.obd] Query failed, no connection available\n",
      "[obd.obd] Query failed, no connection available\n"
     ]
    },
    {
     "name": "stdout",
     "output_type": "stream",
     "text": [
      "RPM is not supported\n",
      "Speed is not supported\n",
      "EngineLoad is not supported\n",
      "CoolantTemp is not supported\n",
      "IntakeTemp is not supported\n",
      "FuelLevel is not supported\n",
      "AmbientTemp is not supported\n",
      "EngineOilTemp is not supported\n",
      "FuelRate is not supported\n"
     ]
    },
    {
     "name": "stderr",
     "output_type": "stream",
     "text": [
      "[obd.obd] Query failed, no connection available\n",
      "[obd.obd] Query failed, no connection available\n",
      "[obd.obd] Query failed, no connection available\n",
      "[obd.obd] Query failed, no connection available\n",
      "[obd.obd] Query failed, no connection available\n",
      "[obd.obd] Query failed, no connection available\n",
      "[obd.obd] Query failed, no connection available\n",
      "[obd.obd] Query failed, no connection available\n",
      "[obd.obd] Query failed, no connection available\n"
     ]
    },
    {
     "name": "stdout",
     "output_type": "stream",
     "text": [
      "RPM is not supported\n",
      "Speed is not supported\n",
      "EngineLoad is not supported\n",
      "CoolantTemp is not supported\n",
      "IntakeTemp is not supported\n",
      "FuelLevel is not supported\n",
      "AmbientTemp is not supported\n",
      "EngineOilTemp is not supported\n",
      "FuelRate is not supported\n"
     ]
    },
    {
     "name": "stderr",
     "output_type": "stream",
     "text": [
      "[obd.obd] Query failed, no connection available\n",
      "[obd.obd] Query failed, no connection available\n",
      "[obd.obd] Query failed, no connection available\n",
      "[obd.obd] Query failed, no connection available\n",
      "[obd.obd] Query failed, no connection available\n",
      "[obd.obd] Query failed, no connection available\n",
      "[obd.obd] Query failed, no connection available\n",
      "[obd.obd] Query failed, no connection available\n",
      "[obd.obd] Query failed, no connection available\n"
     ]
    },
    {
     "name": "stdout",
     "output_type": "stream",
     "text": [
      "RPM is not supported\n",
      "Speed is not supported\n",
      "EngineLoad is not supported\n",
      "CoolantTemp is not supported\n",
      "IntakeTemp is not supported\n",
      "FuelLevel is not supported\n",
      "AmbientTemp is not supported\n",
      "EngineOilTemp is not supported\n",
      "FuelRate is not supported\n"
     ]
    },
    {
     "name": "stderr",
     "output_type": "stream",
     "text": [
      "[obd.obd] Query failed, no connection available\n",
      "[obd.obd] Query failed, no connection available\n",
      "[obd.obd] Query failed, no connection available\n",
      "[obd.obd] Query failed, no connection available\n",
      "[obd.obd] Query failed, no connection available\n",
      "[obd.obd] Query failed, no connection available\n",
      "[obd.obd] Query failed, no connection available\n",
      "[obd.obd] Query failed, no connection available\n",
      "[obd.obd] Query failed, no connection available\n"
     ]
    },
    {
     "name": "stdout",
     "output_type": "stream",
     "text": [
      "RPM is not supported\n",
      "Speed is not supported\n",
      "EngineLoad is not supported\n",
      "CoolantTemp is not supported\n",
      "IntakeTemp is not supported\n",
      "FuelLevel is not supported\n",
      "AmbientTemp is not supported\n",
      "EngineOilTemp is not supported\n",
      "FuelRate is not supported\n"
     ]
    },
    {
     "name": "stderr",
     "output_type": "stream",
     "text": [
      "[obd.obd] Query failed, no connection available\n",
      "[obd.obd] Query failed, no connection available\n",
      "[obd.obd] Query failed, no connection available\n",
      "[obd.obd] Query failed, no connection available\n",
      "[obd.obd] Query failed, no connection available\n",
      "[obd.obd] Query failed, no connection available\n",
      "[obd.obd] Query failed, no connection available\n",
      "[obd.obd] Query failed, no connection available\n",
      "[obd.obd] Query failed, no connection available\n"
     ]
    },
    {
     "name": "stdout",
     "output_type": "stream",
     "text": [
      "RPM is not supported\n",
      "Speed is not supported\n",
      "EngineLoad is not supported\n",
      "CoolantTemp is not supported\n",
      "IntakeTemp is not supported\n",
      "FuelLevel is not supported\n",
      "AmbientTemp is not supported\n",
      "EngineOilTemp is not supported\n",
      "FuelRate is not supported\n"
     ]
    },
    {
     "name": "stderr",
     "output_type": "stream",
     "text": [
      "[obd.obd] Query failed, no connection available\n",
      "[obd.obd] Query failed, no connection available\n",
      "[obd.obd] Query failed, no connection available\n",
      "[obd.obd] Query failed, no connection available\n",
      "[obd.obd] Query failed, no connection available\n",
      "[obd.obd] Query failed, no connection available\n",
      "[obd.obd] Query failed, no connection available\n",
      "[obd.obd] Query failed, no connection available\n",
      "[obd.obd] Query failed, no connection available\n"
     ]
    },
    {
     "name": "stdout",
     "output_type": "stream",
     "text": [
      "RPM is not supported\n",
      "Speed is not supported\n",
      "EngineLoad is not supported\n",
      "CoolantTemp is not supported\n",
      "IntakeTemp is not supported\n",
      "FuelLevel is not supported\n",
      "AmbientTemp is not supported\n",
      "EngineOilTemp is not supported\n",
      "FuelRate is not supported\n"
     ]
    },
    {
     "name": "stderr",
     "output_type": "stream",
     "text": [
      "[obd.obd] Query failed, no connection available\n",
      "[obd.obd] Query failed, no connection available\n",
      "[obd.obd] Query failed, no connection available\n",
      "[obd.obd] Query failed, no connection available\n",
      "[obd.obd] Query failed, no connection available\n",
      "[obd.obd] Query failed, no connection available\n",
      "[obd.obd] Query failed, no connection available\n",
      "[obd.obd] Query failed, no connection available\n",
      "[obd.obd] Query failed, no connection available\n"
     ]
    },
    {
     "name": "stdout",
     "output_type": "stream",
     "text": [
      "RPM is not supported\n",
      "Speed is not supported\n",
      "EngineLoad is not supported\n",
      "CoolantTemp is not supported\n",
      "IntakeTemp is not supported\n",
      "FuelLevel is not supported\n",
      "AmbientTemp is not supported\n",
      "EngineOilTemp is not supported\n",
      "FuelRate is not supported\n"
     ]
    },
    {
     "name": "stderr",
     "output_type": "stream",
     "text": [
      "[obd.obd] Query failed, no connection available\n",
      "[obd.obd] Query failed, no connection available\n",
      "[obd.obd] Query failed, no connection available\n",
      "[obd.obd] Query failed, no connection available\n",
      "[obd.obd] Query failed, no connection available\n",
      "[obd.obd] Query failed, no connection available\n",
      "[obd.obd] Query failed, no connection available\n",
      "[obd.obd] Query failed, no connection available\n",
      "[obd.obd] Query failed, no connection available\n"
     ]
    },
    {
     "name": "stdout",
     "output_type": "stream",
     "text": [
      "RPM is not supported\n",
      "Speed is not supported\n",
      "EngineLoad is not supported\n",
      "CoolantTemp is not supported\n",
      "IntakeTemp is not supported\n",
      "FuelLevel is not supported\n",
      "AmbientTemp is not supported\n",
      "EngineOilTemp is not supported\n",
      "FuelRate is not supported\n"
     ]
    },
    {
     "name": "stderr",
     "output_type": "stream",
     "text": [
      "[obd.obd] Query failed, no connection available\n",
      "[obd.obd] Query failed, no connection available\n",
      "[obd.obd] Query failed, no connection available\n",
      "[obd.obd] Query failed, no connection available\n",
      "[obd.obd] Query failed, no connection available\n",
      "[obd.obd] Query failed, no connection available\n",
      "[obd.obd] Query failed, no connection available\n",
      "[obd.obd] Query failed, no connection available\n",
      "[obd.obd] Query failed, no connection available\n"
     ]
    },
    {
     "name": "stdout",
     "output_type": "stream",
     "text": [
      "RPM is not supported\n",
      "Speed is not supported\n",
      "EngineLoad is not supported\n",
      "CoolantTemp is not supported\n",
      "IntakeTemp is not supported\n",
      "FuelLevel is not supported\n",
      "AmbientTemp is not supported\n",
      "EngineOilTemp is not supported\n",
      "FuelRate is not supported\n"
     ]
    },
    {
     "name": "stderr",
     "output_type": "stream",
     "text": [
      "[obd.obd] Query failed, no connection available\n",
      "[obd.obd] Query failed, no connection available\n",
      "[obd.obd] Query failed, no connection available\n",
      "[obd.obd] Query failed, no connection available\n",
      "[obd.obd] Query failed, no connection available\n",
      "[obd.obd] Query failed, no connection available\n",
      "[obd.obd] Query failed, no connection available\n",
      "[obd.obd] Query failed, no connection available\n",
      "[obd.obd] Query failed, no connection available\n"
     ]
    },
    {
     "name": "stdout",
     "output_type": "stream",
     "text": [
      "RPM is not supported\n",
      "Speed is not supported\n",
      "EngineLoad is not supported\n",
      "CoolantTemp is not supported\n",
      "IntakeTemp is not supported\n",
      "FuelLevel is not supported\n",
      "AmbientTemp is not supported\n",
      "EngineOilTemp is not supported\n",
      "FuelRate is not supported\n"
     ]
    },
    {
     "name": "stderr",
     "output_type": "stream",
     "text": [
      "[obd.obd] Query failed, no connection available\n",
      "[obd.obd] Query failed, no connection available\n",
      "[obd.obd] Query failed, no connection available\n",
      "[obd.obd] Query failed, no connection available\n",
      "[obd.obd] Query failed, no connection available\n",
      "[obd.obd] Query failed, no connection available\n",
      "[obd.obd] Query failed, no connection available\n",
      "[obd.obd] Query failed, no connection available\n",
      "[obd.obd] Query failed, no connection available\n"
     ]
    },
    {
     "name": "stdout",
     "output_type": "stream",
     "text": [
      "RPM is not supported\n",
      "Speed is not supported\n",
      "EngineLoad is not supported\n",
      "CoolantTemp is not supported\n",
      "IntakeTemp is not supported\n",
      "FuelLevel is not supported\n",
      "AmbientTemp is not supported\n",
      "EngineOilTemp is not supported\n",
      "FuelRate is not supported\n"
     ]
    },
    {
     "name": "stderr",
     "output_type": "stream",
     "text": [
      "[obd.obd] Query failed, no connection available\n",
      "[obd.obd] Query failed, no connection available\n",
      "[obd.obd] Query failed, no connection available\n",
      "[obd.obd] Query failed, no connection available\n",
      "[obd.obd] Query failed, no connection available\n",
      "[obd.obd] Query failed, no connection available\n",
      "[obd.obd] Query failed, no connection available\n",
      "[obd.obd] Query failed, no connection available\n",
      "[obd.obd] Query failed, no connection available\n"
     ]
    },
    {
     "name": "stdout",
     "output_type": "stream",
     "text": [
      "RPM is not supported\n",
      "Speed is not supported\n",
      "EngineLoad is not supported\n",
      "CoolantTemp is not supported\n",
      "IntakeTemp is not supported\n",
      "FuelLevel is not supported\n",
      "AmbientTemp is not supported\n",
      "EngineOilTemp is not supported\n",
      "FuelRate is not supported\n"
     ]
    },
    {
     "name": "stderr",
     "output_type": "stream",
     "text": [
      "[obd.obd] Query failed, no connection available\n",
      "[obd.obd] Query failed, no connection available\n",
      "[obd.obd] Query failed, no connection available\n",
      "[obd.obd] Query failed, no connection available\n",
      "[obd.obd] Query failed, no connection available\n",
      "[obd.obd] Query failed, no connection available\n",
      "[obd.obd] Query failed, no connection available\n",
      "[obd.obd] Query failed, no connection available\n",
      "[obd.obd] Query failed, no connection available\n"
     ]
    },
    {
     "name": "stdout",
     "output_type": "stream",
     "text": [
      "RPM is not supported\n",
      "Speed is not supported\n",
      "EngineLoad is not supported\n",
      "CoolantTemp is not supported\n",
      "IntakeTemp is not supported\n",
      "FuelLevel is not supported\n",
      "AmbientTemp is not supported\n",
      "EngineOilTemp is not supported\n",
      "FuelRate is not supported\n"
     ]
    },
    {
     "name": "stderr",
     "output_type": "stream",
     "text": [
      "[obd.obd] Query failed, no connection available\n",
      "[obd.obd] Query failed, no connection available\n",
      "[obd.obd] Query failed, no connection available\n",
      "[obd.obd] Query failed, no connection available\n",
      "[obd.obd] Query failed, no connection available\n",
      "[obd.obd] Query failed, no connection available\n",
      "[obd.obd] Query failed, no connection available\n",
      "[obd.obd] Query failed, no connection available\n",
      "[obd.obd] Query failed, no connection available\n"
     ]
    },
    {
     "name": "stdout",
     "output_type": "stream",
     "text": [
      "RPM is not supported\n",
      "Speed is not supported\n",
      "EngineLoad is not supported\n",
      "CoolantTemp is not supported\n",
      "IntakeTemp is not supported\n",
      "FuelLevel is not supported\n",
      "AmbientTemp is not supported\n",
      "EngineOilTemp is not supported\n",
      "FuelRate is not supported\n"
     ]
    },
    {
     "name": "stderr",
     "output_type": "stream",
     "text": [
      "[obd.obd] Query failed, no connection available\n",
      "[obd.obd] Query failed, no connection available\n",
      "[obd.obd] Query failed, no connection available\n",
      "[obd.obd] Query failed, no connection available\n",
      "[obd.obd] Query failed, no connection available\n",
      "[obd.obd] Query failed, no connection available\n",
      "[obd.obd] Query failed, no connection available\n",
      "[obd.obd] Query failed, no connection available\n",
      "[obd.obd] Query failed, no connection available\n"
     ]
    },
    {
     "name": "stdout",
     "output_type": "stream",
     "text": [
      "RPM is not supported\n",
      "Speed is not supported\n",
      "EngineLoad is not supported\n",
      "CoolantTemp is not supported\n",
      "IntakeTemp is not supported\n",
      "FuelLevel is not supported\n",
      "AmbientTemp is not supported\n",
      "EngineOilTemp is not supported\n",
      "FuelRate is not supported\n"
     ]
    },
    {
     "name": "stderr",
     "output_type": "stream",
     "text": [
      "[obd.obd] Query failed, no connection available\n",
      "[obd.obd] Query failed, no connection available\n",
      "[obd.obd] Query failed, no connection available\n",
      "[obd.obd] Query failed, no connection available\n",
      "[obd.obd] Query failed, no connection available\n",
      "[obd.obd] Query failed, no connection available\n",
      "[obd.obd] Query failed, no connection available\n",
      "[obd.obd] Query failed, no connection available\n",
      "[obd.obd] Query failed, no connection available\n"
     ]
    },
    {
     "name": "stdout",
     "output_type": "stream",
     "text": [
      "RPM is not supported\n",
      "Speed is not supported\n",
      "EngineLoad is not supported\n",
      "CoolantTemp is not supported\n",
      "IntakeTemp is not supported\n",
      "FuelLevel is not supported\n",
      "AmbientTemp is not supported\n",
      "EngineOilTemp is not supported\n",
      "FuelRate is not supported\n"
     ]
    },
    {
     "name": "stderr",
     "output_type": "stream",
     "text": [
      "[obd.obd] Query failed, no connection available\n",
      "[obd.obd] Query failed, no connection available\n",
      "[obd.obd] Query failed, no connection available\n",
      "[obd.obd] Query failed, no connection available\n",
      "[obd.obd] Query failed, no connection available\n",
      "[obd.obd] Query failed, no connection available\n",
      "[obd.obd] Query failed, no connection available\n",
      "[obd.obd] Query failed, no connection available\n",
      "[obd.obd] Query failed, no connection available\n"
     ]
    },
    {
     "name": "stdout",
     "output_type": "stream",
     "text": [
      "RPM is not supported\n",
      "Speed is not supported\n",
      "EngineLoad is not supported\n",
      "CoolantTemp is not supported\n",
      "IntakeTemp is not supported\n",
      "FuelLevel is not supported\n",
      "AmbientTemp is not supported\n",
      "EngineOilTemp is not supported\n",
      "FuelRate is not supported\n"
     ]
    },
    {
     "name": "stderr",
     "output_type": "stream",
     "text": [
      "[obd.obd] Query failed, no connection available\n",
      "[obd.obd] Query failed, no connection available\n",
      "[obd.obd] Query failed, no connection available\n",
      "[obd.obd] Query failed, no connection available\n",
      "[obd.obd] Query failed, no connection available\n",
      "[obd.obd] Query failed, no connection available\n",
      "[obd.obd] Query failed, no connection available\n",
      "[obd.obd] Query failed, no connection available\n",
      "[obd.obd] Query failed, no connection available\n"
     ]
    },
    {
     "name": "stdout",
     "output_type": "stream",
     "text": [
      "RPM is not supported\n",
      "Speed is not supported\n",
      "EngineLoad is not supported\n",
      "CoolantTemp is not supported\n",
      "IntakeTemp is not supported\n",
      "FuelLevel is not supported\n",
      "AmbientTemp is not supported\n",
      "EngineOilTemp is not supported\n",
      "FuelRate is not supported\n"
     ]
    },
    {
     "name": "stderr",
     "output_type": "stream",
     "text": [
      "[obd.obd] Query failed, no connection available\n",
      "[obd.obd] Query failed, no connection available\n",
      "[obd.obd] Query failed, no connection available\n",
      "[obd.obd] Query failed, no connection available\n",
      "[obd.obd] Query failed, no connection available\n",
      "[obd.obd] Query failed, no connection available\n",
      "[obd.obd] Query failed, no connection available\n",
      "[obd.obd] Query failed, no connection available\n",
      "[obd.obd] Query failed, no connection available\n"
     ]
    },
    {
     "name": "stdout",
     "output_type": "stream",
     "text": [
      "RPM is not supported\n",
      "Speed is not supported\n",
      "EngineLoad is not supported\n",
      "CoolantTemp is not supported\n",
      "IntakeTemp is not supported\n",
      "FuelLevel is not supported\n",
      "AmbientTemp is not supported\n",
      "EngineOilTemp is not supported\n",
      "FuelRate is not supported\n"
     ]
    },
    {
     "name": "stderr",
     "output_type": "stream",
     "text": [
      "[obd.obd] Query failed, no connection available\n",
      "[obd.obd] Query failed, no connection available\n",
      "[obd.obd] Query failed, no connection available\n",
      "[obd.obd] Query failed, no connection available\n",
      "[obd.obd] Query failed, no connection available\n",
      "[obd.obd] Query failed, no connection available\n",
      "[obd.obd] Query failed, no connection available\n",
      "[obd.obd] Query failed, no connection available\n",
      "[obd.obd] Query failed, no connection available\n"
     ]
    },
    {
     "name": "stdout",
     "output_type": "stream",
     "text": [
      "RPM is not supported\n",
      "Speed is not supported\n",
      "EngineLoad is not supported\n",
      "CoolantTemp is not supported\n",
      "IntakeTemp is not supported\n",
      "FuelLevel is not supported\n",
      "AmbientTemp is not supported\n",
      "EngineOilTemp is not supported\n",
      "FuelRate is not supported\n"
     ]
    },
    {
     "name": "stderr",
     "output_type": "stream",
     "text": [
      "[obd.obd] Query failed, no connection available\n",
      "[obd.obd] Query failed, no connection available\n",
      "[obd.obd] Query failed, no connection available\n",
      "[obd.obd] Query failed, no connection available\n",
      "[obd.obd] Query failed, no connection available\n",
      "[obd.obd] Query failed, no connection available\n",
      "[obd.obd] Query failed, no connection available\n",
      "[obd.obd] Query failed, no connection available\n",
      "[obd.obd] Query failed, no connection available\n"
     ]
    },
    {
     "name": "stdout",
     "output_type": "stream",
     "text": [
      "RPM is not supported\n",
      "Speed is not supported\n",
      "EngineLoad is not supported\n",
      "CoolantTemp is not supported\n",
      "IntakeTemp is not supported\n",
      "FuelLevel is not supported\n",
      "AmbientTemp is not supported\n",
      "EngineOilTemp is not supported\n",
      "FuelRate is not supported\n"
     ]
    },
    {
     "name": "stderr",
     "output_type": "stream",
     "text": [
      "[obd.obd] Query failed, no connection available\n",
      "[obd.obd] Query failed, no connection available\n",
      "[obd.obd] Query failed, no connection available\n",
      "[obd.obd] Query failed, no connection available\n",
      "[obd.obd] Query failed, no connection available\n",
      "[obd.obd] Query failed, no connection available\n",
      "[obd.obd] Query failed, no connection available\n",
      "[obd.obd] Query failed, no connection available\n",
      "[obd.obd] Query failed, no connection available\n"
     ]
    },
    {
     "name": "stdout",
     "output_type": "stream",
     "text": [
      "RPM is not supported\n",
      "Speed is not supported\n",
      "EngineLoad is not supported\n",
      "CoolantTemp is not supported\n",
      "IntakeTemp is not supported\n",
      "FuelLevel is not supported\n",
      "AmbientTemp is not supported\n",
      "EngineOilTemp is not supported\n",
      "FuelRate is not supported\n"
     ]
    },
    {
     "name": "stderr",
     "output_type": "stream",
     "text": [
      "[obd.obd] Query failed, no connection available\n",
      "[obd.obd] Query failed, no connection available\n",
      "[obd.obd] Query failed, no connection available\n",
      "[obd.obd] Query failed, no connection available\n",
      "[obd.obd] Query failed, no connection available\n",
      "[obd.obd] Query failed, no connection available\n",
      "[obd.obd] Query failed, no connection available\n",
      "[obd.obd] Query failed, no connection available\n",
      "[obd.obd] Query failed, no connection available\n"
     ]
    },
    {
     "name": "stdout",
     "output_type": "stream",
     "text": [
      "RPM is not supported\n",
      "Speed is not supported\n",
      "EngineLoad is not supported\n",
      "CoolantTemp is not supported\n",
      "IntakeTemp is not supported\n",
      "FuelLevel is not supported\n",
      "AmbientTemp is not supported\n",
      "EngineOilTemp is not supported\n",
      "FuelRate is not supported\n"
     ]
    },
    {
     "name": "stderr",
     "output_type": "stream",
     "text": [
      "[obd.obd] Query failed, no connection available\n",
      "[obd.obd] Query failed, no connection available\n",
      "[obd.obd] Query failed, no connection available\n",
      "[obd.obd] Query failed, no connection available\n",
      "[obd.obd] Query failed, no connection available\n",
      "[obd.obd] Query failed, no connection available\n",
      "[obd.obd] Query failed, no connection available\n",
      "[obd.obd] Query failed, no connection available\n",
      "[obd.obd] Query failed, no connection available\n"
     ]
    },
    {
     "name": "stdout",
     "output_type": "stream",
     "text": [
      "RPM is not supported\n",
      "Speed is not supported\n",
      "EngineLoad is not supported\n",
      "CoolantTemp is not supported\n",
      "IntakeTemp is not supported\n",
      "FuelLevel is not supported\n",
      "AmbientTemp is not supported\n",
      "EngineOilTemp is not supported\n",
      "FuelRate is not supported\n"
     ]
    },
    {
     "name": "stderr",
     "output_type": "stream",
     "text": [
      "[obd.obd] Query failed, no connection available\n",
      "[obd.obd] Query failed, no connection available\n",
      "[obd.obd] Query failed, no connection available\n",
      "[obd.obd] Query failed, no connection available\n",
      "[obd.obd] Query failed, no connection available\n",
      "[obd.obd] Query failed, no connection available\n",
      "[obd.obd] Query failed, no connection available\n",
      "[obd.obd] Query failed, no connection available\n",
      "[obd.obd] Query failed, no connection available\n"
     ]
    },
    {
     "name": "stdout",
     "output_type": "stream",
     "text": [
      "RPM is not supported\n",
      "Speed is not supported\n",
      "EngineLoad is not supported\n",
      "CoolantTemp is not supported\n",
      "IntakeTemp is not supported\n",
      "FuelLevel is not supported\n",
      "AmbientTemp is not supported\n",
      "EngineOilTemp is not supported\n",
      "FuelRate is not supported\n"
     ]
    },
    {
     "name": "stderr",
     "output_type": "stream",
     "text": [
      "[obd.obd] Query failed, no connection available\n",
      "[obd.obd] Query failed, no connection available\n",
      "[obd.obd] Query failed, no connection available\n",
      "[obd.obd] Query failed, no connection available\n",
      "[obd.obd] Query failed, no connection available\n",
      "[obd.obd] Query failed, no connection available\n",
      "[obd.obd] Query failed, no connection available\n",
      "[obd.obd] Query failed, no connection available\n",
      "[obd.obd] Query failed, no connection available\n"
     ]
    },
    {
     "name": "stdout",
     "output_type": "stream",
     "text": [
      "RPM is not supported\n",
      "Speed is not supported\n",
      "EngineLoad is not supported\n",
      "CoolantTemp is not supported\n",
      "IntakeTemp is not supported\n",
      "FuelLevel is not supported\n",
      "AmbientTemp is not supported\n",
      "EngineOilTemp is not supported\n",
      "FuelRate is not supported\n"
     ]
    },
    {
     "name": "stderr",
     "output_type": "stream",
     "text": [
      "[obd.obd] Query failed, no connection available\n",
      "[obd.obd] Query failed, no connection available\n",
      "[obd.obd] Query failed, no connection available\n",
      "[obd.obd] Query failed, no connection available\n",
      "[obd.obd] Query failed, no connection available\n",
      "[obd.obd] Query failed, no connection available\n",
      "[obd.obd] Query failed, no connection available\n",
      "[obd.obd] Query failed, no connection available\n",
      "[obd.obd] Query failed, no connection available\n"
     ]
    },
    {
     "name": "stdout",
     "output_type": "stream",
     "text": [
      "RPM is not supported\n",
      "Speed is not supported\n",
      "EngineLoad is not supported\n",
      "CoolantTemp is not supported\n",
      "IntakeTemp is not supported\n",
      "FuelLevel is not supported\n",
      "AmbientTemp is not supported\n",
      "EngineOilTemp is not supported\n",
      "FuelRate is not supported\n"
     ]
    },
    {
     "name": "stderr",
     "output_type": "stream",
     "text": [
      "[obd.obd] Query failed, no connection available\n",
      "[obd.obd] Query failed, no connection available\n",
      "[obd.obd] Query failed, no connection available\n",
      "[obd.obd] Query failed, no connection available\n",
      "[obd.obd] Query failed, no connection available\n",
      "[obd.obd] Query failed, no connection available\n",
      "[obd.obd] Query failed, no connection available\n",
      "[obd.obd] Query failed, no connection available\n",
      "[obd.obd] Query failed, no connection available\n"
     ]
    },
    {
     "name": "stdout",
     "output_type": "stream",
     "text": [
      "RPM is not supported\n",
      "Speed is not supported\n",
      "EngineLoad is not supported\n",
      "CoolantTemp is not supported\n",
      "IntakeTemp is not supported\n",
      "FuelLevel is not supported\n",
      "AmbientTemp is not supported\n",
      "EngineOilTemp is not supported\n",
      "FuelRate is not supported\n"
     ]
    },
    {
     "name": "stderr",
     "output_type": "stream",
     "text": [
      "[obd.obd] Query failed, no connection available\n",
      "[obd.obd] Query failed, no connection available\n",
      "[obd.obd] Query failed, no connection available\n",
      "[obd.obd] Query failed, no connection available\n",
      "[obd.obd] Query failed, no connection available\n",
      "[obd.obd] Query failed, no connection available\n",
      "[obd.obd] Query failed, no connection available\n",
      "[obd.obd] Query failed, no connection available\n",
      "[obd.obd] Query failed, no connection available\n"
     ]
    },
    {
     "name": "stdout",
     "output_type": "stream",
     "text": [
      "RPM is not supported\n",
      "Speed is not supported\n",
      "EngineLoad is not supported\n",
      "CoolantTemp is not supported\n",
      "IntakeTemp is not supported\n",
      "FuelLevel is not supported\n",
      "AmbientTemp is not supported\n",
      "EngineOilTemp is not supported\n",
      "FuelRate is not supported\n"
     ]
    },
    {
     "name": "stderr",
     "output_type": "stream",
     "text": [
      "[obd.obd] Query failed, no connection available\n",
      "[obd.obd] Query failed, no connection available\n",
      "[obd.obd] Query failed, no connection available\n",
      "[obd.obd] Query failed, no connection available\n",
      "[obd.obd] Query failed, no connection available\n",
      "[obd.obd] Query failed, no connection available\n",
      "[obd.obd] Query failed, no connection available\n",
      "[obd.obd] Query failed, no connection available\n",
      "[obd.obd] Query failed, no connection available\n"
     ]
    },
    {
     "name": "stdout",
     "output_type": "stream",
     "text": [
      "RPM is not supported\n",
      "Speed is not supported\n",
      "EngineLoad is not supported\n",
      "CoolantTemp is not supported\n",
      "IntakeTemp is not supported\n",
      "FuelLevel is not supported\n",
      "AmbientTemp is not supported\n",
      "EngineOilTemp is not supported\n",
      "FuelRate is not supported\n"
     ]
    },
    {
     "name": "stderr",
     "output_type": "stream",
     "text": [
      "[obd.obd] Query failed, no connection available\n",
      "[obd.obd] Query failed, no connection available\n",
      "[obd.obd] Query failed, no connection available\n",
      "[obd.obd] Query failed, no connection available\n",
      "[obd.obd] Query failed, no connection available\n",
      "[obd.obd] Query failed, no connection available\n",
      "[obd.obd] Query failed, no connection available\n",
      "[obd.obd] Query failed, no connection available\n",
      "[obd.obd] Query failed, no connection available\n"
     ]
    },
    {
     "name": "stdout",
     "output_type": "stream",
     "text": [
      "RPM is not supported\n",
      "Speed is not supported\n",
      "EngineLoad is not supported\n",
      "CoolantTemp is not supported\n",
      "IntakeTemp is not supported\n",
      "FuelLevel is not supported\n",
      "AmbientTemp is not supported\n",
      "EngineOilTemp is not supported\n",
      "FuelRate is not supported\n"
     ]
    },
    {
     "name": "stderr",
     "output_type": "stream",
     "text": [
      "[obd.obd] Query failed, no connection available\n",
      "[obd.obd] Query failed, no connection available\n",
      "[obd.obd] Query failed, no connection available\n",
      "[obd.obd] Query failed, no connection available\n",
      "[obd.obd] Query failed, no connection available\n",
      "[obd.obd] Query failed, no connection available\n",
      "[obd.obd] Query failed, no connection available\n",
      "[obd.obd] Query failed, no connection available\n",
      "[obd.obd] Query failed, no connection available\n"
     ]
    },
    {
     "name": "stdout",
     "output_type": "stream",
     "text": [
      "RPM is not supported\n",
      "Speed is not supported\n",
      "EngineLoad is not supported\n",
      "CoolantTemp is not supported\n",
      "IntakeTemp is not supported\n",
      "FuelLevel is not supported\n",
      "AmbientTemp is not supported\n",
      "EngineOilTemp is not supported\n",
      "FuelRate is not supported\n"
     ]
    },
    {
     "name": "stderr",
     "output_type": "stream",
     "text": [
      "[obd.obd] Query failed, no connection available\n",
      "[obd.obd] Query failed, no connection available\n",
      "[obd.obd] Query failed, no connection available\n",
      "[obd.obd] Query failed, no connection available\n",
      "[obd.obd] Query failed, no connection available\n",
      "[obd.obd] Query failed, no connection available\n",
      "[obd.obd] Query failed, no connection available\n",
      "[obd.obd] Query failed, no connection available\n",
      "[obd.obd] Query failed, no connection available\n"
     ]
    },
    {
     "name": "stdout",
     "output_type": "stream",
     "text": [
      "RPM is not supported\n",
      "Speed is not supported\n",
      "EngineLoad is not supported\n",
      "CoolantTemp is not supported\n",
      "IntakeTemp is not supported\n",
      "FuelLevel is not supported\n",
      "AmbientTemp is not supported\n",
      "EngineOilTemp is not supported\n",
      "FuelRate is not supported\n"
     ]
    },
    {
     "name": "stderr",
     "output_type": "stream",
     "text": [
      "[obd.obd] Query failed, no connection available\n",
      "[obd.obd] Query failed, no connection available\n",
      "[obd.obd] Query failed, no connection available\n",
      "[obd.obd] Query failed, no connection available\n",
      "[obd.obd] Query failed, no connection available\n",
      "[obd.obd] Query failed, no connection available\n",
      "[obd.obd] Query failed, no connection available\n",
      "[obd.obd] Query failed, no connection available\n",
      "[obd.obd] Query failed, no connection available\n"
     ]
    },
    {
     "name": "stdout",
     "output_type": "stream",
     "text": [
      "RPM is not supported\n",
      "Speed is not supported\n",
      "EngineLoad is not supported\n",
      "CoolantTemp is not supported\n",
      "IntakeTemp is not supported\n",
      "FuelLevel is not supported\n",
      "AmbientTemp is not supported\n",
      "EngineOilTemp is not supported\n",
      "FuelRate is not supported\n"
     ]
    },
    {
     "name": "stderr",
     "output_type": "stream",
     "text": [
      "[obd.obd] Query failed, no connection available\n",
      "[obd.obd] Query failed, no connection available\n",
      "[obd.obd] Query failed, no connection available\n",
      "[obd.obd] Query failed, no connection available\n",
      "[obd.obd] Query failed, no connection available\n",
      "[obd.obd] Query failed, no connection available\n",
      "[obd.obd] Query failed, no connection available\n",
      "[obd.obd] Query failed, no connection available\n",
      "[obd.obd] Query failed, no connection available\n"
     ]
    },
    {
     "name": "stdout",
     "output_type": "stream",
     "text": [
      "RPM is not supported\n",
      "Speed is not supported\n",
      "EngineLoad is not supported\n",
      "CoolantTemp is not supported\n",
      "IntakeTemp is not supported\n",
      "FuelLevel is not supported\n",
      "AmbientTemp is not supported\n",
      "EngineOilTemp is not supported\n",
      "FuelRate is not supported\n"
     ]
    },
    {
     "name": "stderr",
     "output_type": "stream",
     "text": [
      "[obd.obd] Query failed, no connection available\n",
      "[obd.obd] Query failed, no connection available\n",
      "[obd.obd] Query failed, no connection available\n",
      "[obd.obd] Query failed, no connection available\n",
      "[obd.obd] Query failed, no connection available\n",
      "[obd.obd] Query failed, no connection available\n",
      "[obd.obd] Query failed, no connection available\n",
      "[obd.obd] Query failed, no connection available\n",
      "[obd.obd] Query failed, no connection available\n"
     ]
    },
    {
     "name": "stdout",
     "output_type": "stream",
     "text": [
      "RPM is not supported\n",
      "Speed is not supported\n",
      "EngineLoad is not supported\n",
      "CoolantTemp is not supported\n",
      "IntakeTemp is not supported\n",
      "FuelLevel is not supported\n",
      "AmbientTemp is not supported\n",
      "EngineOilTemp is not supported\n",
      "FuelRate is not supported\n"
     ]
    },
    {
     "name": "stderr",
     "output_type": "stream",
     "text": [
      "[obd.obd] Query failed, no connection available\n",
      "[obd.obd] Query failed, no connection available\n",
      "[obd.obd] Query failed, no connection available\n",
      "[obd.obd] Query failed, no connection available\n",
      "[obd.obd] Query failed, no connection available\n",
      "[obd.obd] Query failed, no connection available\n",
      "[obd.obd] Query failed, no connection available\n",
      "[obd.obd] Query failed, no connection available\n",
      "[obd.obd] Query failed, no connection available\n"
     ]
    },
    {
     "name": "stdout",
     "output_type": "stream",
     "text": [
      "RPM is not supported\n",
      "Speed is not supported\n",
      "EngineLoad is not supported\n",
      "CoolantTemp is not supported\n",
      "IntakeTemp is not supported\n",
      "FuelLevel is not supported\n",
      "AmbientTemp is not supported\n",
      "EngineOilTemp is not supported\n",
      "FuelRate is not supported\n"
     ]
    },
    {
     "name": "stderr",
     "output_type": "stream",
     "text": [
      "[obd.obd] Query failed, no connection available\n",
      "[obd.obd] Query failed, no connection available\n",
      "[obd.obd] Query failed, no connection available\n",
      "[obd.obd] Query failed, no connection available\n",
      "[obd.obd] Query failed, no connection available\n",
      "[obd.obd] Query failed, no connection available\n",
      "[obd.obd] Query failed, no connection available\n",
      "[obd.obd] Query failed, no connection available\n",
      "[obd.obd] Query failed, no connection available\n"
     ]
    },
    {
     "name": "stdout",
     "output_type": "stream",
     "text": [
      "RPM is not supported\n",
      "Speed is not supported\n",
      "EngineLoad is not supported\n",
      "CoolantTemp is not supported\n",
      "IntakeTemp is not supported\n",
      "FuelLevel is not supported\n",
      "AmbientTemp is not supported\n",
      "EngineOilTemp is not supported\n",
      "FuelRate is not supported\n"
     ]
    },
    {
     "name": "stderr",
     "output_type": "stream",
     "text": [
      "[obd.obd] Query failed, no connection available\n",
      "[obd.obd] Query failed, no connection available\n",
      "[obd.obd] Query failed, no connection available\n",
      "[obd.obd] Query failed, no connection available\n",
      "[obd.obd] Query failed, no connection available\n",
      "[obd.obd] Query failed, no connection available\n",
      "[obd.obd] Query failed, no connection available\n",
      "[obd.obd] Query failed, no connection available\n",
      "[obd.obd] Query failed, no connection available\n"
     ]
    },
    {
     "name": "stdout",
     "output_type": "stream",
     "text": [
      "RPM is not supported\n",
      "Speed is not supported\n",
      "EngineLoad is not supported\n",
      "CoolantTemp is not supported\n",
      "IntakeTemp is not supported\n",
      "FuelLevel is not supported\n",
      "AmbientTemp is not supported\n",
      "EngineOilTemp is not supported\n",
      "FuelRate is not supported\n"
     ]
    },
    {
     "name": "stderr",
     "output_type": "stream",
     "text": [
      "[obd.obd] Query failed, no connection available\n",
      "[obd.obd] Query failed, no connection available\n",
      "[obd.obd] Query failed, no connection available\n",
      "[obd.obd] Query failed, no connection available\n",
      "[obd.obd] Query failed, no connection available\n",
      "[obd.obd] Query failed, no connection available\n",
      "[obd.obd] Query failed, no connection available\n",
      "[obd.obd] Query failed, no connection available\n",
      "[obd.obd] Query failed, no connection available\n"
     ]
    },
    {
     "name": "stdout",
     "output_type": "stream",
     "text": [
      "RPM is not supported\n",
      "Speed is not supported\n",
      "EngineLoad is not supported\n",
      "CoolantTemp is not supported\n",
      "IntakeTemp is not supported\n",
      "FuelLevel is not supported\n",
      "AmbientTemp is not supported\n",
      "EngineOilTemp is not supported\n",
      "FuelRate is not supported\n"
     ]
    },
    {
     "name": "stderr",
     "output_type": "stream",
     "text": [
      "[obd.obd] Query failed, no connection available\n",
      "[obd.obd] Query failed, no connection available\n",
      "[obd.obd] Query failed, no connection available\n",
      "[obd.obd] Query failed, no connection available\n",
      "[obd.obd] Query failed, no connection available\n",
      "[obd.obd] Query failed, no connection available\n",
      "[obd.obd] Query failed, no connection available\n",
      "[obd.obd] Query failed, no connection available\n",
      "[obd.obd] Query failed, no connection available\n"
     ]
    },
    {
     "name": "stdout",
     "output_type": "stream",
     "text": [
      "RPM is not supported\n",
      "Speed is not supported\n",
      "EngineLoad is not supported\n",
      "CoolantTemp is not supported\n",
      "IntakeTemp is not supported\n",
      "FuelLevel is not supported\n",
      "AmbientTemp is not supported\n",
      "EngineOilTemp is not supported\n",
      "FuelRate is not supported\n"
     ]
    },
    {
     "name": "stderr",
     "output_type": "stream",
     "text": [
      "[obd.obd] Query failed, no connection available\n",
      "[obd.obd] Query failed, no connection available\n",
      "[obd.obd] Query failed, no connection available\n",
      "[obd.obd] Query failed, no connection available\n",
      "[obd.obd] Query failed, no connection available\n",
      "[obd.obd] Query failed, no connection available\n",
      "[obd.obd] Query failed, no connection available\n",
      "[obd.obd] Query failed, no connection available\n",
      "[obd.obd] Query failed, no connection available\n"
     ]
    },
    {
     "name": "stdout",
     "output_type": "stream",
     "text": [
      "RPM is not supported\n",
      "Speed is not supported\n",
      "EngineLoad is not supported\n",
      "CoolantTemp is not supported\n",
      "IntakeTemp is not supported\n",
      "FuelLevel is not supported\n",
      "AmbientTemp is not supported\n",
      "EngineOilTemp is not supported\n",
      "FuelRate is not supported\n"
     ]
    },
    {
     "name": "stderr",
     "output_type": "stream",
     "text": [
      "[obd.obd] Query failed, no connection available\n",
      "[obd.obd] Query failed, no connection available\n",
      "[obd.obd] Query failed, no connection available\n",
      "[obd.obd] Query failed, no connection available\n",
      "[obd.obd] Query failed, no connection available\n",
      "[obd.obd] Query failed, no connection available\n",
      "[obd.obd] Query failed, no connection available\n",
      "[obd.obd] Query failed, no connection available\n",
      "[obd.obd] Query failed, no connection available\n"
     ]
    },
    {
     "name": "stdout",
     "output_type": "stream",
     "text": [
      "RPM is not supported\n",
      "Speed is not supported\n",
      "EngineLoad is not supported\n",
      "CoolantTemp is not supported\n",
      "IntakeTemp is not supported\n",
      "FuelLevel is not supported\n",
      "AmbientTemp is not supported\n",
      "EngineOilTemp is not supported\n",
      "FuelRate is not supported\n"
     ]
    },
    {
     "name": "stderr",
     "output_type": "stream",
     "text": [
      "[obd.obd] Query failed, no connection available\n",
      "[obd.obd] Query failed, no connection available\n",
      "[obd.obd] Query failed, no connection available\n",
      "[obd.obd] Query failed, no connection available\n",
      "[obd.obd] Query failed, no connection available\n",
      "[obd.obd] Query failed, no connection available\n",
      "[obd.obd] Query failed, no connection available\n",
      "[obd.obd] Query failed, no connection available\n",
      "[obd.obd] Query failed, no connection available\n"
     ]
    },
    {
     "name": "stdout",
     "output_type": "stream",
     "text": [
      "RPM is not supported\n",
      "Speed is not supported\n",
      "EngineLoad is not supported\n",
      "CoolantTemp is not supported\n",
      "IntakeTemp is not supported\n",
      "FuelLevel is not supported\n",
      "AmbientTemp is not supported\n",
      "EngineOilTemp is not supported\n",
      "FuelRate is not supported\n"
     ]
    },
    {
     "name": "stderr",
     "output_type": "stream",
     "text": [
      "[obd.obd] Query failed, no connection available\n",
      "[obd.obd] Query failed, no connection available\n",
      "[obd.obd] Query failed, no connection available\n",
      "[obd.obd] Query failed, no connection available\n",
      "[obd.obd] Query failed, no connection available\n",
      "[obd.obd] Query failed, no connection available\n",
      "[obd.obd] Query failed, no connection available\n",
      "[obd.obd] Query failed, no connection available\n",
      "[obd.obd] Query failed, no connection available\n"
     ]
    },
    {
     "name": "stdout",
     "output_type": "stream",
     "text": [
      "RPM is not supported\n",
      "Speed is not supported\n",
      "EngineLoad is not supported\n",
      "CoolantTemp is not supported\n",
      "IntakeTemp is not supported\n",
      "FuelLevel is not supported\n",
      "AmbientTemp is not supported\n",
      "EngineOilTemp is not supported\n",
      "FuelRate is not supported\n"
     ]
    },
    {
     "name": "stderr",
     "output_type": "stream",
     "text": [
      "[obd.obd] Query failed, no connection available\n",
      "[obd.obd] Query failed, no connection available\n",
      "[obd.obd] Query failed, no connection available\n",
      "[obd.obd] Query failed, no connection available\n",
      "[obd.obd] Query failed, no connection available\n",
      "[obd.obd] Query failed, no connection available\n",
      "[obd.obd] Query failed, no connection available\n",
      "[obd.obd] Query failed, no connection available\n",
      "[obd.obd] Query failed, no connection available\n"
     ]
    },
    {
     "name": "stdout",
     "output_type": "stream",
     "text": [
      "RPM is not supported\n",
      "Speed is not supported\n",
      "EngineLoad is not supported\n",
      "CoolantTemp is not supported\n",
      "IntakeTemp is not supported\n",
      "FuelLevel is not supported\n",
      "AmbientTemp is not supported\n",
      "EngineOilTemp is not supported\n",
      "FuelRate is not supported\n"
     ]
    },
    {
     "name": "stderr",
     "output_type": "stream",
     "text": [
      "[obd.obd] Query failed, no connection available\n",
      "[obd.obd] Query failed, no connection available\n",
      "[obd.obd] Query failed, no connection available\n",
      "[obd.obd] Query failed, no connection available\n",
      "[obd.obd] Query failed, no connection available\n",
      "[obd.obd] Query failed, no connection available\n",
      "[obd.obd] Query failed, no connection available\n",
      "[obd.obd] Query failed, no connection available\n",
      "[obd.obd] Query failed, no connection available\n"
     ]
    },
    {
     "name": "stdout",
     "output_type": "stream",
     "text": [
      "RPM is not supported\n",
      "Speed is not supported\n",
      "EngineLoad is not supported\n",
      "CoolantTemp is not supported\n",
      "IntakeTemp is not supported\n",
      "FuelLevel is not supported\n",
      "AmbientTemp is not supported\n",
      "EngineOilTemp is not supported\n",
      "FuelRate is not supported\n"
     ]
    },
    {
     "name": "stderr",
     "output_type": "stream",
     "text": [
      "[obd.obd] Query failed, no connection available\n",
      "[obd.obd] Query failed, no connection available\n",
      "[obd.obd] Query failed, no connection available\n",
      "[obd.obd] Query failed, no connection available\n",
      "[obd.obd] Query failed, no connection available\n",
      "[obd.obd] Query failed, no connection available\n",
      "[obd.obd] Query failed, no connection available\n",
      "[obd.obd] Query failed, no connection available\n",
      "[obd.obd] Query failed, no connection available\n"
     ]
    },
    {
     "name": "stdout",
     "output_type": "stream",
     "text": [
      "RPM is not supported\n",
      "Speed is not supported\n",
      "EngineLoad is not supported\n",
      "CoolantTemp is not supported\n",
      "IntakeTemp is not supported\n",
      "FuelLevel is not supported\n",
      "AmbientTemp is not supported\n",
      "EngineOilTemp is not supported\n",
      "FuelRate is not supported\n"
     ]
    },
    {
     "name": "stderr",
     "output_type": "stream",
     "text": [
      "[obd.obd] Query failed, no connection available\n",
      "[obd.obd] Query failed, no connection available\n",
      "[obd.obd] Query failed, no connection available\n",
      "[obd.obd] Query failed, no connection available\n",
      "[obd.obd] Query failed, no connection available\n",
      "[obd.obd] Query failed, no connection available\n",
      "[obd.obd] Query failed, no connection available\n",
      "[obd.obd] Query failed, no connection available\n",
      "[obd.obd] Query failed, no connection available\n"
     ]
    },
    {
     "name": "stdout",
     "output_type": "stream",
     "text": [
      "RPM is not supported\n",
      "Speed is not supported\n",
      "EngineLoad is not supported\n",
      "CoolantTemp is not supported\n",
      "IntakeTemp is not supported\n",
      "FuelLevel is not supported\n",
      "AmbientTemp is not supported\n",
      "EngineOilTemp is not supported\n",
      "FuelRate is not supported\n"
     ]
    },
    {
     "name": "stderr",
     "output_type": "stream",
     "text": [
      "[obd.obd] Query failed, no connection available\n",
      "[obd.obd] Query failed, no connection available\n",
      "[obd.obd] Query failed, no connection available\n",
      "[obd.obd] Query failed, no connection available\n",
      "[obd.obd] Query failed, no connection available\n",
      "[obd.obd] Query failed, no connection available\n",
      "[obd.obd] Query failed, no connection available\n",
      "[obd.obd] Query failed, no connection available\n",
      "[obd.obd] Query failed, no connection available\n"
     ]
    },
    {
     "name": "stdout",
     "output_type": "stream",
     "text": [
      "RPM is not supported\n",
      "Speed is not supported\n",
      "EngineLoad is not supported\n",
      "CoolantTemp is not supported\n",
      "IntakeTemp is not supported\n",
      "FuelLevel is not supported\n",
      "AmbientTemp is not supported\n",
      "EngineOilTemp is not supported\n",
      "FuelRate is not supported\n"
     ]
    },
    {
     "name": "stderr",
     "output_type": "stream",
     "text": [
      "[obd.obd] Query failed, no connection available\n",
      "[obd.obd] Query failed, no connection available\n",
      "[obd.obd] Query failed, no connection available\n",
      "[obd.obd] Query failed, no connection available\n",
      "[obd.obd] Query failed, no connection available\n",
      "[obd.obd] Query failed, no connection available\n",
      "[obd.obd] Query failed, no connection available\n",
      "[obd.obd] Query failed, no connection available\n",
      "[obd.obd] Query failed, no connection available\n"
     ]
    },
    {
     "name": "stdout",
     "output_type": "stream",
     "text": [
      "RPM is not supported\n",
      "Speed is not supported\n",
      "EngineLoad is not supported\n",
      "CoolantTemp is not supported\n",
      "IntakeTemp is not supported\n",
      "FuelLevel is not supported\n",
      "AmbientTemp is not supported\n",
      "EngineOilTemp is not supported\n",
      "FuelRate is not supported\n"
     ]
    },
    {
     "name": "stderr",
     "output_type": "stream",
     "text": [
      "[obd.obd] Query failed, no connection available\n",
      "[obd.obd] Query failed, no connection available\n",
      "[obd.obd] Query failed, no connection available\n",
      "[obd.obd] Query failed, no connection available\n",
      "[obd.obd] Query failed, no connection available\n",
      "[obd.obd] Query failed, no connection available\n",
      "[obd.obd] Query failed, no connection available\n",
      "[obd.obd] Query failed, no connection available\n",
      "[obd.obd] Query failed, no connection available\n"
     ]
    },
    {
     "name": "stdout",
     "output_type": "stream",
     "text": [
      "RPM is not supported\n",
      "Speed is not supported\n",
      "EngineLoad is not supported\n",
      "CoolantTemp is not supported\n",
      "IntakeTemp is not supported\n",
      "FuelLevel is not supported\n",
      "AmbientTemp is not supported\n",
      "EngineOilTemp is not supported\n",
      "FuelRate is not supported\n"
     ]
    },
    {
     "name": "stderr",
     "output_type": "stream",
     "text": [
      "[obd.obd] Query failed, no connection available\n",
      "[obd.obd] Query failed, no connection available\n",
      "[obd.obd] Query failed, no connection available\n",
      "[obd.obd] Query failed, no connection available\n",
      "[obd.obd] Query failed, no connection available\n",
      "[obd.obd] Query failed, no connection available\n",
      "[obd.obd] Query failed, no connection available\n",
      "[obd.obd] Query failed, no connection available\n",
      "[obd.obd] Query failed, no connection available\n"
     ]
    },
    {
     "name": "stdout",
     "output_type": "stream",
     "text": [
      "RPM is not supported\n",
      "Speed is not supported\n",
      "EngineLoad is not supported\n",
      "CoolantTemp is not supported\n",
      "IntakeTemp is not supported\n",
      "FuelLevel is not supported\n",
      "AmbientTemp is not supported\n",
      "EngineOilTemp is not supported\n",
      "FuelRate is not supported\n"
     ]
    },
    {
     "name": "stderr",
     "output_type": "stream",
     "text": [
      "[obd.obd] Query failed, no connection available\n",
      "[obd.obd] Query failed, no connection available\n",
      "[obd.obd] Query failed, no connection available\n",
      "[obd.obd] Query failed, no connection available\n",
      "[obd.obd] Query failed, no connection available\n",
      "[obd.obd] Query failed, no connection available\n",
      "[obd.obd] Query failed, no connection available\n",
      "[obd.obd] Query failed, no connection available\n",
      "[obd.obd] Query failed, no connection available\n"
     ]
    },
    {
     "name": "stdout",
     "output_type": "stream",
     "text": [
      "RPM is not supported\n",
      "Speed is not supported\n",
      "EngineLoad is not supported\n",
      "CoolantTemp is not supported\n",
      "IntakeTemp is not supported\n",
      "FuelLevel is not supported\n",
      "AmbientTemp is not supported\n",
      "EngineOilTemp is not supported\n",
      "FuelRate is not supported\n"
     ]
    },
    {
     "name": "stderr",
     "output_type": "stream",
     "text": [
      "[obd.obd] Query failed, no connection available\n",
      "[obd.obd] Query failed, no connection available\n",
      "[obd.obd] Query failed, no connection available\n",
      "[obd.obd] Query failed, no connection available\n",
      "[obd.obd] Query failed, no connection available\n",
      "[obd.obd] Query failed, no connection available\n",
      "[obd.obd] Query failed, no connection available\n",
      "[obd.obd] Query failed, no connection available\n",
      "[obd.obd] Query failed, no connection available\n"
     ]
    },
    {
     "name": "stdout",
     "output_type": "stream",
     "text": [
      "RPM is not supported\n",
      "Speed is not supported\n",
      "EngineLoad is not supported\n",
      "CoolantTemp is not supported\n",
      "IntakeTemp is not supported\n",
      "FuelLevel is not supported\n",
      "AmbientTemp is not supported\n",
      "EngineOilTemp is not supported\n",
      "FuelRate is not supported\n"
     ]
    },
    {
     "name": "stderr",
     "output_type": "stream",
     "text": [
      "[obd.obd] Query failed, no connection available\n",
      "[obd.obd] Query failed, no connection available\n",
      "[obd.obd] Query failed, no connection available\n",
      "[obd.obd] Query failed, no connection available\n",
      "[obd.obd] Query failed, no connection available\n",
      "[obd.obd] Query failed, no connection available\n",
      "[obd.obd] Query failed, no connection available\n",
      "[obd.obd] Query failed, no connection available\n",
      "[obd.obd] Query failed, no connection available\n"
     ]
    },
    {
     "name": "stdout",
     "output_type": "stream",
     "text": [
      "RPM is not supported\n",
      "Speed is not supported\n",
      "EngineLoad is not supported\n",
      "CoolantTemp is not supported\n",
      "IntakeTemp is not supported\n",
      "FuelLevel is not supported\n",
      "AmbientTemp is not supported\n",
      "EngineOilTemp is not supported\n",
      "FuelRate is not supported\n"
     ]
    },
    {
     "name": "stderr",
     "output_type": "stream",
     "text": [
      "[obd.obd] Query failed, no connection available\n",
      "[obd.obd] Query failed, no connection available\n",
      "[obd.obd] Query failed, no connection available\n",
      "[obd.obd] Query failed, no connection available\n",
      "[obd.obd] Query failed, no connection available\n",
      "[obd.obd] Query failed, no connection available\n",
      "[obd.obd] Query failed, no connection available\n",
      "[obd.obd] Query failed, no connection available\n",
      "[obd.obd] Query failed, no connection available\n"
     ]
    },
    {
     "name": "stdout",
     "output_type": "stream",
     "text": [
      "RPM is not supported\n",
      "Speed is not supported\n",
      "EngineLoad is not supported\n",
      "CoolantTemp is not supported\n",
      "IntakeTemp is not supported\n",
      "FuelLevel is not supported\n",
      "AmbientTemp is not supported\n",
      "EngineOilTemp is not supported\n",
      "FuelRate is not supported\n"
     ]
    },
    {
     "name": "stderr",
     "output_type": "stream",
     "text": [
      "[obd.obd] Query failed, no connection available\n",
      "[obd.obd] Query failed, no connection available\n",
      "[obd.obd] Query failed, no connection available\n",
      "[obd.obd] Query failed, no connection available\n",
      "[obd.obd] Query failed, no connection available\n",
      "[obd.obd] Query failed, no connection available\n",
      "[obd.obd] Query failed, no connection available\n",
      "[obd.obd] Query failed, no connection available\n",
      "[obd.obd] Query failed, no connection available\n"
     ]
    },
    {
     "name": "stdout",
     "output_type": "stream",
     "text": [
      "RPM is not supported\n",
      "Speed is not supported\n",
      "EngineLoad is not supported\n",
      "CoolantTemp is not supported\n",
      "IntakeTemp is not supported\n",
      "FuelLevel is not supported\n",
      "AmbientTemp is not supported\n",
      "EngineOilTemp is not supported\n",
      "FuelRate is not supported\n"
     ]
    },
    {
     "name": "stderr",
     "output_type": "stream",
     "text": [
      "[obd.obd] Query failed, no connection available\n",
      "[obd.obd] Query failed, no connection available\n",
      "[obd.obd] Query failed, no connection available\n",
      "[obd.obd] Query failed, no connection available\n",
      "[obd.obd] Query failed, no connection available\n",
      "[obd.obd] Query failed, no connection available\n",
      "[obd.obd] Query failed, no connection available\n",
      "[obd.obd] Query failed, no connection available\n",
      "[obd.obd] Query failed, no connection available\n"
     ]
    },
    {
     "name": "stdout",
     "output_type": "stream",
     "text": [
      "RPM is not supported\n",
      "Speed is not supported\n",
      "EngineLoad is not supported\n",
      "CoolantTemp is not supported\n",
      "IntakeTemp is not supported\n",
      "FuelLevel is not supported\n",
      "AmbientTemp is not supported\n",
      "EngineOilTemp is not supported\n",
      "FuelRate is not supported\n"
     ]
    },
    {
     "name": "stderr",
     "output_type": "stream",
     "text": [
      "[obd.obd] Query failed, no connection available\n",
      "[obd.obd] Query failed, no connection available\n",
      "[obd.obd] Query failed, no connection available\n",
      "[obd.obd] Query failed, no connection available\n",
      "[obd.obd] Query failed, no connection available\n",
      "[obd.obd] Query failed, no connection available\n",
      "[obd.obd] Query failed, no connection available\n",
      "[obd.obd] Query failed, no connection available\n",
      "[obd.obd] Query failed, no connection available\n"
     ]
    },
    {
     "name": "stdout",
     "output_type": "stream",
     "text": [
      "RPM is not supported\n",
      "Speed is not supported\n",
      "EngineLoad is not supported\n",
      "CoolantTemp is not supported\n",
      "IntakeTemp is not supported\n",
      "FuelLevel is not supported\n",
      "AmbientTemp is not supported\n",
      "EngineOilTemp is not supported\n",
      "FuelRate is not supported\n"
     ]
    },
    {
     "name": "stderr",
     "output_type": "stream",
     "text": [
      "[obd.obd] Query failed, no connection available\n",
      "[obd.obd] Query failed, no connection available\n",
      "[obd.obd] Query failed, no connection available\n",
      "[obd.obd] Query failed, no connection available\n",
      "[obd.obd] Query failed, no connection available\n",
      "[obd.obd] Query failed, no connection available\n",
      "[obd.obd] Query failed, no connection available\n",
      "[obd.obd] Query failed, no connection available\n",
      "[obd.obd] Query failed, no connection available\n"
     ]
    },
    {
     "name": "stdout",
     "output_type": "stream",
     "text": [
      "RPM is not supported\n",
      "Speed is not supported\n",
      "EngineLoad is not supported\n",
      "CoolantTemp is not supported\n",
      "IntakeTemp is not supported\n",
      "FuelLevel is not supported\n",
      "AmbientTemp is not supported\n",
      "EngineOilTemp is not supported\n",
      "FuelRate is not supported\n"
     ]
    },
    {
     "name": "stderr",
     "output_type": "stream",
     "text": [
      "[obd.obd] Query failed, no connection available\n",
      "[obd.obd] Query failed, no connection available\n",
      "[obd.obd] Query failed, no connection available\n",
      "[obd.obd] Query failed, no connection available\n",
      "[obd.obd] Query failed, no connection available\n",
      "[obd.obd] Query failed, no connection available\n",
      "[obd.obd] Query failed, no connection available\n",
      "[obd.obd] Query failed, no connection available\n",
      "[obd.obd] Query failed, no connection available\n"
     ]
    },
    {
     "name": "stdout",
     "output_type": "stream",
     "text": [
      "RPM is not supported\n",
      "Speed is not supported\n",
      "EngineLoad is not supported\n",
      "CoolantTemp is not supported\n",
      "IntakeTemp is not supported\n",
      "FuelLevel is not supported\n",
      "AmbientTemp is not supported\n",
      "EngineOilTemp is not supported\n",
      "FuelRate is not supported\n"
     ]
    },
    {
     "name": "stderr",
     "output_type": "stream",
     "text": [
      "[obd.obd] Query failed, no connection available\n",
      "[obd.obd] Query failed, no connection available\n",
      "[obd.obd] Query failed, no connection available\n",
      "[obd.obd] Query failed, no connection available\n",
      "[obd.obd] Query failed, no connection available\n",
      "[obd.obd] Query failed, no connection available\n",
      "[obd.obd] Query failed, no connection available\n",
      "[obd.obd] Query failed, no connection available\n",
      "[obd.obd] Query failed, no connection available\n"
     ]
    },
    {
     "name": "stdout",
     "output_type": "stream",
     "text": [
      "RPM is not supported\n",
      "Speed is not supported\n",
      "EngineLoad is not supported\n",
      "CoolantTemp is not supported\n",
      "IntakeTemp is not supported\n",
      "FuelLevel is not supported\n",
      "AmbientTemp is not supported\n",
      "EngineOilTemp is not supported\n",
      "FuelRate is not supported\n"
     ]
    },
    {
     "name": "stderr",
     "output_type": "stream",
     "text": [
      "[obd.obd] Query failed, no connection available\n",
      "[obd.obd] Query failed, no connection available\n",
      "[obd.obd] Query failed, no connection available\n",
      "[obd.obd] Query failed, no connection available\n",
      "[obd.obd] Query failed, no connection available\n",
      "[obd.obd] Query failed, no connection available\n",
      "[obd.obd] Query failed, no connection available\n",
      "[obd.obd] Query failed, no connection available\n",
      "[obd.obd] Query failed, no connection available\n"
     ]
    },
    {
     "name": "stdout",
     "output_type": "stream",
     "text": [
      "RPM is not supported\n",
      "Speed is not supported\n",
      "EngineLoad is not supported\n",
      "CoolantTemp is not supported\n",
      "IntakeTemp is not supported\n",
      "FuelLevel is not supported\n",
      "AmbientTemp is not supported\n",
      "EngineOilTemp is not supported\n",
      "FuelRate is not supported\n"
     ]
    },
    {
     "name": "stderr",
     "output_type": "stream",
     "text": [
      "[obd.obd] Query failed, no connection available\n",
      "[obd.obd] Query failed, no connection available\n",
      "[obd.obd] Query failed, no connection available\n",
      "[obd.obd] Query failed, no connection available\n",
      "[obd.obd] Query failed, no connection available\n",
      "[obd.obd] Query failed, no connection available\n",
      "[obd.obd] Query failed, no connection available\n",
      "[obd.obd] Query failed, no connection available\n",
      "[obd.obd] Query failed, no connection available\n"
     ]
    },
    {
     "name": "stdout",
     "output_type": "stream",
     "text": [
      "RPM is not supported\n",
      "Speed is not supported\n",
      "EngineLoad is not supported\n",
      "CoolantTemp is not supported\n",
      "IntakeTemp is not supported\n",
      "FuelLevel is not supported\n",
      "AmbientTemp is not supported\n",
      "EngineOilTemp is not supported\n",
      "FuelRate is not supported\n"
     ]
    },
    {
     "name": "stderr",
     "output_type": "stream",
     "text": [
      "[obd.obd] Query failed, no connection available\n",
      "[obd.obd] Query failed, no connection available\n",
      "[obd.obd] Query failed, no connection available\n",
      "[obd.obd] Query failed, no connection available\n",
      "[obd.obd] Query failed, no connection available\n",
      "[obd.obd] Query failed, no connection available\n",
      "[obd.obd] Query failed, no connection available\n",
      "[obd.obd] Query failed, no connection available\n",
      "[obd.obd] Query failed, no connection available\n"
     ]
    },
    {
     "name": "stdout",
     "output_type": "stream",
     "text": [
      "RPM is not supported\n",
      "Speed is not supported\n",
      "EngineLoad is not supported\n",
      "CoolantTemp is not supported\n",
      "IntakeTemp is not supported\n",
      "FuelLevel is not supported\n",
      "AmbientTemp is not supported\n",
      "EngineOilTemp is not supported\n",
      "FuelRate is not supported\n"
     ]
    },
    {
     "name": "stderr",
     "output_type": "stream",
     "text": [
      "[obd.obd] Query failed, no connection available\n",
      "[obd.obd] Query failed, no connection available\n",
      "[obd.obd] Query failed, no connection available\n",
      "[obd.obd] Query failed, no connection available\n",
      "[obd.obd] Query failed, no connection available\n",
      "[obd.obd] Query failed, no connection available\n",
      "[obd.obd] Query failed, no connection available\n",
      "[obd.obd] Query failed, no connection available\n",
      "[obd.obd] Query failed, no connection available\n"
     ]
    },
    {
     "name": "stdout",
     "output_type": "stream",
     "text": [
      "RPM is not supported\n",
      "Speed is not supported\n",
      "EngineLoad is not supported\n",
      "CoolantTemp is not supported\n",
      "IntakeTemp is not supported\n",
      "FuelLevel is not supported\n",
      "AmbientTemp is not supported\n",
      "EngineOilTemp is not supported\n",
      "FuelRate is not supported\n"
     ]
    },
    {
     "name": "stderr",
     "output_type": "stream",
     "text": [
      "[obd.obd] Query failed, no connection available\n",
      "[obd.obd] Query failed, no connection available\n",
      "[obd.obd] Query failed, no connection available\n",
      "[obd.obd] Query failed, no connection available\n",
      "[obd.obd] Query failed, no connection available\n",
      "[obd.obd] Query failed, no connection available\n",
      "[obd.obd] Query failed, no connection available\n",
      "[obd.obd] Query failed, no connection available\n",
      "[obd.obd] Query failed, no connection available\n"
     ]
    },
    {
     "name": "stdout",
     "output_type": "stream",
     "text": [
      "RPM is not supported\n",
      "Speed is not supported\n",
      "EngineLoad is not supported\n",
      "CoolantTemp is not supported\n",
      "IntakeTemp is not supported\n",
      "FuelLevel is not supported\n",
      "AmbientTemp is not supported\n",
      "EngineOilTemp is not supported\n",
      "FuelRate is not supported\n"
     ]
    },
    {
     "name": "stderr",
     "output_type": "stream",
     "text": [
      "[obd.obd] Query failed, no connection available\n",
      "[obd.obd] Query failed, no connection available\n",
      "[obd.obd] Query failed, no connection available\n",
      "[obd.obd] Query failed, no connection available\n",
      "[obd.obd] Query failed, no connection available\n",
      "[obd.obd] Query failed, no connection available\n",
      "[obd.obd] Query failed, no connection available\n",
      "[obd.obd] Query failed, no connection available\n",
      "[obd.obd] Query failed, no connection available\n"
     ]
    },
    {
     "name": "stdout",
     "output_type": "stream",
     "text": [
      "RPM is not supported\n",
      "Speed is not supported\n",
      "EngineLoad is not supported\n",
      "CoolantTemp is not supported\n",
      "IntakeTemp is not supported\n",
      "FuelLevel is not supported\n",
      "AmbientTemp is not supported\n",
      "EngineOilTemp is not supported\n",
      "FuelRate is not supported\n"
     ]
    },
    {
     "name": "stderr",
     "output_type": "stream",
     "text": [
      "[obd.obd] Query failed, no connection available\n",
      "[obd.obd] Query failed, no connection available\n",
      "[obd.obd] Query failed, no connection available\n",
      "[obd.obd] Query failed, no connection available\n",
      "[obd.obd] Query failed, no connection available\n",
      "[obd.obd] Query failed, no connection available\n",
      "[obd.obd] Query failed, no connection available\n",
      "[obd.obd] Query failed, no connection available\n",
      "[obd.obd] Query failed, no connection available\n"
     ]
    },
    {
     "name": "stdout",
     "output_type": "stream",
     "text": [
      "RPM is not supported\n",
      "Speed is not supported\n",
      "EngineLoad is not supported\n",
      "CoolantTemp is not supported\n",
      "IntakeTemp is not supported\n",
      "FuelLevel is not supported\n",
      "AmbientTemp is not supported\n",
      "EngineOilTemp is not supported\n",
      "FuelRate is not supported\n"
     ]
    },
    {
     "name": "stderr",
     "output_type": "stream",
     "text": [
      "[obd.obd] Query failed, no connection available\n",
      "[obd.obd] Query failed, no connection available\n",
      "[obd.obd] Query failed, no connection available\n",
      "[obd.obd] Query failed, no connection available\n",
      "[obd.obd] Query failed, no connection available\n",
      "[obd.obd] Query failed, no connection available\n",
      "[obd.obd] Query failed, no connection available\n",
      "[obd.obd] Query failed, no connection available\n",
      "[obd.obd] Query failed, no connection available\n"
     ]
    },
    {
     "name": "stdout",
     "output_type": "stream",
     "text": [
      "RPM is not supported\n",
      "Speed is not supported\n",
      "EngineLoad is not supported\n",
      "CoolantTemp is not supported\n",
      "IntakeTemp is not supported\n",
      "FuelLevel is not supported\n",
      "AmbientTemp is not supported\n",
      "EngineOilTemp is not supported\n",
      "FuelRate is not supported\n"
     ]
    },
    {
     "name": "stderr",
     "output_type": "stream",
     "text": [
      "[obd.obd] Query failed, no connection available\n",
      "[obd.obd] Query failed, no connection available\n",
      "[obd.obd] Query failed, no connection available\n",
      "[obd.obd] Query failed, no connection available\n",
      "[obd.obd] Query failed, no connection available\n",
      "[obd.obd] Query failed, no connection available\n",
      "[obd.obd] Query failed, no connection available\n",
      "[obd.obd] Query failed, no connection available\n",
      "[obd.obd] Query failed, no connection available\n"
     ]
    },
    {
     "name": "stdout",
     "output_type": "stream",
     "text": [
      "RPM is not supported\n",
      "Speed is not supported\n",
      "EngineLoad is not supported\n",
      "CoolantTemp is not supported\n",
      "IntakeTemp is not supported\n",
      "FuelLevel is not supported\n",
      "AmbientTemp is not supported\n",
      "EngineOilTemp is not supported\n",
      "FuelRate is not supported\n"
     ]
    },
    {
     "name": "stderr",
     "output_type": "stream",
     "text": [
      "[obd.obd] Query failed, no connection available\n",
      "[obd.obd] Query failed, no connection available\n",
      "[obd.obd] Query failed, no connection available\n",
      "[obd.obd] Query failed, no connection available\n",
      "[obd.obd] Query failed, no connection available\n",
      "[obd.obd] Query failed, no connection available\n",
      "[obd.obd] Query failed, no connection available\n",
      "[obd.obd] Query failed, no connection available\n",
      "[obd.obd] Query failed, no connection available\n"
     ]
    },
    {
     "name": "stdout",
     "output_type": "stream",
     "text": [
      "RPM is not supported\n",
      "Speed is not supported\n",
      "EngineLoad is not supported\n",
      "CoolantTemp is not supported\n",
      "IntakeTemp is not supported\n",
      "FuelLevel is not supported\n",
      "AmbientTemp is not supported\n",
      "EngineOilTemp is not supported\n",
      "FuelRate is not supported\n"
     ]
    },
    {
     "name": "stderr",
     "output_type": "stream",
     "text": [
      "[obd.obd] Query failed, no connection available\n",
      "[obd.obd] Query failed, no connection available\n",
      "[obd.obd] Query failed, no connection available\n",
      "[obd.obd] Query failed, no connection available\n",
      "[obd.obd] Query failed, no connection available\n",
      "[obd.obd] Query failed, no connection available\n",
      "[obd.obd] Query failed, no connection available\n",
      "[obd.obd] Query failed, no connection available\n",
      "[obd.obd] Query failed, no connection available\n"
     ]
    },
    {
     "name": "stdout",
     "output_type": "stream",
     "text": [
      "RPM is not supported\n",
      "Speed is not supported\n",
      "EngineLoad is not supported\n",
      "CoolantTemp is not supported\n",
      "IntakeTemp is not supported\n",
      "FuelLevel is not supported\n",
      "AmbientTemp is not supported\n",
      "EngineOilTemp is not supported\n",
      "FuelRate is not supported\n"
     ]
    },
    {
     "name": "stderr",
     "output_type": "stream",
     "text": [
      "[obd.obd] Query failed, no connection available\n",
      "[obd.obd] Query failed, no connection available\n",
      "[obd.obd] Query failed, no connection available\n",
      "[obd.obd] Query failed, no connection available\n",
      "[obd.obd] Query failed, no connection available\n",
      "[obd.obd] Query failed, no connection available\n",
      "[obd.obd] Query failed, no connection available\n",
      "[obd.obd] Query failed, no connection available\n",
      "[obd.obd] Query failed, no connection available\n"
     ]
    },
    {
     "name": "stdout",
     "output_type": "stream",
     "text": [
      "RPM is not supported\n",
      "Speed is not supported\n",
      "EngineLoad is not supported\n",
      "CoolantTemp is not supported\n",
      "IntakeTemp is not supported\n",
      "FuelLevel is not supported\n",
      "AmbientTemp is not supported\n",
      "EngineOilTemp is not supported\n",
      "FuelRate is not supported\n"
     ]
    },
    {
     "name": "stderr",
     "output_type": "stream",
     "text": [
      "[obd.obd] Query failed, no connection available\n",
      "[obd.obd] Query failed, no connection available\n",
      "[obd.obd] Query failed, no connection available\n",
      "[obd.obd] Query failed, no connection available\n",
      "[obd.obd] Query failed, no connection available\n",
      "[obd.obd] Query failed, no connection available\n",
      "[obd.obd] Query failed, no connection available\n",
      "[obd.obd] Query failed, no connection available\n",
      "[obd.obd] Query failed, no connection available\n"
     ]
    },
    {
     "name": "stdout",
     "output_type": "stream",
     "text": [
      "RPM is not supported\n",
      "Speed is not supported\n",
      "EngineLoad is not supported\n",
      "CoolantTemp is not supported\n",
      "IntakeTemp is not supported\n",
      "FuelLevel is not supported\n",
      "AmbientTemp is not supported\n",
      "EngineOilTemp is not supported\n",
      "FuelRate is not supported\n"
     ]
    },
    {
     "name": "stderr",
     "output_type": "stream",
     "text": [
      "[obd.obd] Query failed, no connection available\n",
      "[obd.obd] Query failed, no connection available\n",
      "[obd.obd] Query failed, no connection available\n",
      "[obd.obd] Query failed, no connection available\n",
      "[obd.obd] Query failed, no connection available\n",
      "[obd.obd] Query failed, no connection available\n",
      "[obd.obd] Query failed, no connection available\n",
      "[obd.obd] Query failed, no connection available\n",
      "[obd.obd] Query failed, no connection available\n"
     ]
    },
    {
     "name": "stdout",
     "output_type": "stream",
     "text": [
      "RPM is not supported\n",
      "Speed is not supported\n",
      "EngineLoad is not supported\n",
      "CoolantTemp is not supported\n",
      "IntakeTemp is not supported\n",
      "FuelLevel is not supported\n",
      "AmbientTemp is not supported\n",
      "EngineOilTemp is not supported\n",
      "FuelRate is not supported\n"
     ]
    },
    {
     "name": "stderr",
     "output_type": "stream",
     "text": [
      "[obd.obd] Query failed, no connection available\n",
      "[obd.obd] Query failed, no connection available\n",
      "[obd.obd] Query failed, no connection available\n",
      "[obd.obd] Query failed, no connection available\n",
      "[obd.obd] Query failed, no connection available\n",
      "[obd.obd] Query failed, no connection available\n",
      "[obd.obd] Query failed, no connection available\n",
      "[obd.obd] Query failed, no connection available\n",
      "[obd.obd] Query failed, no connection available\n"
     ]
    },
    {
     "name": "stdout",
     "output_type": "stream",
     "text": [
      "RPM is not supported\n",
      "Speed is not supported\n",
      "EngineLoad is not supported\n",
      "CoolantTemp is not supported\n",
      "IntakeTemp is not supported\n",
      "FuelLevel is not supported\n",
      "AmbientTemp is not supported\n",
      "EngineOilTemp is not supported\n",
      "FuelRate is not supported\n"
     ]
    },
    {
     "name": "stderr",
     "output_type": "stream",
     "text": [
      "[obd.obd] Query failed, no connection available\n",
      "[obd.obd] Query failed, no connection available\n",
      "[obd.obd] Query failed, no connection available\n",
      "[obd.obd] Query failed, no connection available\n",
      "[obd.obd] Query failed, no connection available\n",
      "[obd.obd] Query failed, no connection available\n",
      "[obd.obd] Query failed, no connection available\n",
      "[obd.obd] Query failed, no connection available\n",
      "[obd.obd] Query failed, no connection available\n"
     ]
    },
    {
     "name": "stdout",
     "output_type": "stream",
     "text": [
      "RPM is not supported\n",
      "Speed is not supported\n",
      "EngineLoad is not supported\n",
      "CoolantTemp is not supported\n",
      "IntakeTemp is not supported\n",
      "FuelLevel is not supported\n",
      "AmbientTemp is not supported\n",
      "EngineOilTemp is not supported\n",
      "FuelRate is not supported\n"
     ]
    },
    {
     "name": "stderr",
     "output_type": "stream",
     "text": [
      "[obd.obd] Query failed, no connection available\n",
      "[obd.obd] Query failed, no connection available\n",
      "[obd.obd] Query failed, no connection available\n",
      "[obd.obd] Query failed, no connection available\n",
      "[obd.obd] Query failed, no connection available\n",
      "[obd.obd] Query failed, no connection available\n",
      "[obd.obd] Query failed, no connection available\n",
      "[obd.obd] Query failed, no connection available\n",
      "[obd.obd] Query failed, no connection available\n"
     ]
    },
    {
     "name": "stdout",
     "output_type": "stream",
     "text": [
      "RPM is not supported\n",
      "Speed is not supported\n",
      "EngineLoad is not supported\n",
      "CoolantTemp is not supported\n",
      "IntakeTemp is not supported\n",
      "FuelLevel is not supported\n",
      "AmbientTemp is not supported\n",
      "EngineOilTemp is not supported\n",
      "FuelRate is not supported\n"
     ]
    },
    {
     "name": "stderr",
     "output_type": "stream",
     "text": [
      "[obd.obd] Query failed, no connection available\n",
      "[obd.obd] Query failed, no connection available\n",
      "[obd.obd] Query failed, no connection available\n",
      "[obd.obd] Query failed, no connection available\n",
      "[obd.obd] Query failed, no connection available\n",
      "[obd.obd] Query failed, no connection available\n",
      "[obd.obd] Query failed, no connection available\n",
      "[obd.obd] Query failed, no connection available\n",
      "[obd.obd] Query failed, no connection available\n"
     ]
    },
    {
     "name": "stdout",
     "output_type": "stream",
     "text": [
      "RPM is not supported\n",
      "Speed is not supported\n",
      "EngineLoad is not supported\n",
      "CoolantTemp is not supported\n",
      "IntakeTemp is not supported\n",
      "FuelLevel is not supported\n",
      "AmbientTemp is not supported\n",
      "EngineOilTemp is not supported\n",
      "FuelRate is not supported\n"
     ]
    },
    {
     "name": "stderr",
     "output_type": "stream",
     "text": [
      "[obd.obd] Query failed, no connection available\n",
      "[obd.obd] Query failed, no connection available\n",
      "[obd.obd] Query failed, no connection available\n",
      "[obd.obd] Query failed, no connection available\n",
      "[obd.obd] Query failed, no connection available\n",
      "[obd.obd] Query failed, no connection available\n",
      "[obd.obd] Query failed, no connection available\n",
      "[obd.obd] Query failed, no connection available\n",
      "[obd.obd] Query failed, no connection available\n"
     ]
    },
    {
     "name": "stdout",
     "output_type": "stream",
     "text": [
      "RPM is not supported\n",
      "Speed is not supported\n",
      "EngineLoad is not supported\n",
      "CoolantTemp is not supported\n",
      "IntakeTemp is not supported\n",
      "FuelLevel is not supported\n",
      "AmbientTemp is not supported\n",
      "EngineOilTemp is not supported\n",
      "FuelRate is not supported\n"
     ]
    },
    {
     "name": "stderr",
     "output_type": "stream",
     "text": [
      "[obd.obd] Query failed, no connection available\n",
      "[obd.obd] Query failed, no connection available\n",
      "[obd.obd] Query failed, no connection available\n",
      "[obd.obd] Query failed, no connection available\n",
      "[obd.obd] Query failed, no connection available\n",
      "[obd.obd] Query failed, no connection available\n",
      "[obd.obd] Query failed, no connection available\n",
      "[obd.obd] Query failed, no connection available\n",
      "[obd.obd] Query failed, no connection available\n"
     ]
    },
    {
     "name": "stdout",
     "output_type": "stream",
     "text": [
      "RPM is not supported\n",
      "Speed is not supported\n",
      "EngineLoad is not supported\n",
      "CoolantTemp is not supported\n",
      "IntakeTemp is not supported\n",
      "FuelLevel is not supported\n",
      "AmbientTemp is not supported\n",
      "EngineOilTemp is not supported\n",
      "FuelRate is not supported\n"
     ]
    },
    {
     "name": "stderr",
     "output_type": "stream",
     "text": [
      "[obd.obd] Query failed, no connection available\n",
      "[obd.obd] Query failed, no connection available\n",
      "[obd.obd] Query failed, no connection available\n",
      "[obd.obd] Query failed, no connection available\n",
      "[obd.obd] Query failed, no connection available\n",
      "[obd.obd] Query failed, no connection available\n",
      "[obd.obd] Query failed, no connection available\n",
      "[obd.obd] Query failed, no connection available\n",
      "[obd.obd] Query failed, no connection available\n"
     ]
    },
    {
     "name": "stdout",
     "output_type": "stream",
     "text": [
      "RPM is not supported\n",
      "Speed is not supported\n",
      "EngineLoad is not supported\n",
      "CoolantTemp is not supported\n",
      "IntakeTemp is not supported\n",
      "FuelLevel is not supported\n",
      "AmbientTemp is not supported\n",
      "EngineOilTemp is not supported\n",
      "FuelRate is not supported\n"
     ]
    },
    {
     "name": "stderr",
     "output_type": "stream",
     "text": [
      "[obd.obd] Query failed, no connection available\n",
      "[obd.obd] Query failed, no connection available\n",
      "[obd.obd] Query failed, no connection available\n",
      "[obd.obd] Query failed, no connection available\n",
      "[obd.obd] Query failed, no connection available\n",
      "[obd.obd] Query failed, no connection available\n",
      "[obd.obd] Query failed, no connection available\n",
      "[obd.obd] Query failed, no connection available\n",
      "[obd.obd] Query failed, no connection available\n"
     ]
    },
    {
     "name": "stdout",
     "output_type": "stream",
     "text": [
      "RPM is not supported\n",
      "Speed is not supported\n",
      "EngineLoad is not supported\n",
      "CoolantTemp is not supported\n",
      "IntakeTemp is not supported\n",
      "FuelLevel is not supported\n",
      "AmbientTemp is not supported\n",
      "EngineOilTemp is not supported\n",
      "FuelRate is not supported\n"
     ]
    },
    {
     "name": "stderr",
     "output_type": "stream",
     "text": [
      "[obd.obd] Query failed, no connection available\n",
      "[obd.obd] Query failed, no connection available\n",
      "[obd.obd] Query failed, no connection available\n",
      "[obd.obd] Query failed, no connection available\n",
      "[obd.obd] Query failed, no connection available\n",
      "[obd.obd] Query failed, no connection available\n",
      "[obd.obd] Query failed, no connection available\n",
      "[obd.obd] Query failed, no connection available\n",
      "[obd.obd] Query failed, no connection available\n"
     ]
    },
    {
     "name": "stdout",
     "output_type": "stream",
     "text": [
      "RPM is not supported\n",
      "Speed is not supported\n",
      "EngineLoad is not supported\n",
      "CoolantTemp is not supported\n",
      "IntakeTemp is not supported\n",
      "FuelLevel is not supported\n",
      "AmbientTemp is not supported\n",
      "EngineOilTemp is not supported\n",
      "FuelRate is not supported\n"
     ]
    },
    {
     "name": "stderr",
     "output_type": "stream",
     "text": [
      "[obd.obd] Query failed, no connection available\n",
      "[obd.obd] Query failed, no connection available\n",
      "[obd.obd] Query failed, no connection available\n",
      "[obd.obd] Query failed, no connection available\n",
      "[obd.obd] Query failed, no connection available\n",
      "[obd.obd] Query failed, no connection available\n",
      "[obd.obd] Query failed, no connection available\n",
      "[obd.obd] Query failed, no connection available\n",
      "[obd.obd] Query failed, no connection available\n"
     ]
    },
    {
     "name": "stdout",
     "output_type": "stream",
     "text": [
      "RPM is not supported\n",
      "Speed is not supported\n",
      "EngineLoad is not supported\n",
      "CoolantTemp is not supported\n",
      "IntakeTemp is not supported\n",
      "FuelLevel is not supported\n",
      "AmbientTemp is not supported\n",
      "EngineOilTemp is not supported\n",
      "FuelRate is not supported\n"
     ]
    },
    {
     "name": "stderr",
     "output_type": "stream",
     "text": [
      "[obd.obd] Query failed, no connection available\n",
      "[obd.obd] Query failed, no connection available\n",
      "[obd.obd] Query failed, no connection available\n",
      "[obd.obd] Query failed, no connection available\n",
      "[obd.obd] Query failed, no connection available\n",
      "[obd.obd] Query failed, no connection available\n",
      "[obd.obd] Query failed, no connection available\n",
      "[obd.obd] Query failed, no connection available\n",
      "[obd.obd] Query failed, no connection available\n"
     ]
    },
    {
     "name": "stdout",
     "output_type": "stream",
     "text": [
      "RPM is not supported\n",
      "Speed is not supported\n",
      "EngineLoad is not supported\n",
      "CoolantTemp is not supported\n",
      "IntakeTemp is not supported\n",
      "FuelLevel is not supported\n",
      "AmbientTemp is not supported\n",
      "EngineOilTemp is not supported\n",
      "FuelRate is not supported\n"
     ]
    },
    {
     "name": "stderr",
     "output_type": "stream",
     "text": [
      "[obd.obd] Query failed, no connection available\n",
      "[obd.obd] Query failed, no connection available\n",
      "[obd.obd] Query failed, no connection available\n",
      "[obd.obd] Query failed, no connection available\n",
      "[obd.obd] Query failed, no connection available\n",
      "[obd.obd] Query failed, no connection available\n",
      "[obd.obd] Query failed, no connection available\n",
      "[obd.obd] Query failed, no connection available\n",
      "[obd.obd] Query failed, no connection available\n"
     ]
    },
    {
     "name": "stdout",
     "output_type": "stream",
     "text": [
      "RPM is not supported\n",
      "Speed is not supported\n",
      "EngineLoad is not supported\n",
      "CoolantTemp is not supported\n",
      "IntakeTemp is not supported\n",
      "FuelLevel is not supported\n",
      "AmbientTemp is not supported\n",
      "EngineOilTemp is not supported\n",
      "FuelRate is not supported\n"
     ]
    },
    {
     "name": "stderr",
     "output_type": "stream",
     "text": [
      "[obd.obd] Query failed, no connection available\n",
      "[obd.obd] Query failed, no connection available\n",
      "[obd.obd] Query failed, no connection available\n",
      "[obd.obd] Query failed, no connection available\n",
      "[obd.obd] Query failed, no connection available\n",
      "[obd.obd] Query failed, no connection available\n",
      "[obd.obd] Query failed, no connection available\n",
      "[obd.obd] Query failed, no connection available\n",
      "[obd.obd] Query failed, no connection available\n"
     ]
    },
    {
     "name": "stdout",
     "output_type": "stream",
     "text": [
      "RPM is not supported\n",
      "Speed is not supported\n",
      "EngineLoad is not supported\n",
      "CoolantTemp is not supported\n",
      "IntakeTemp is not supported\n",
      "FuelLevel is not supported\n",
      "AmbientTemp is not supported\n",
      "EngineOilTemp is not supported\n",
      "FuelRate is not supported\n"
     ]
    },
    {
     "name": "stderr",
     "output_type": "stream",
     "text": [
      "[obd.obd] Query failed, no connection available\n",
      "[obd.obd] Query failed, no connection available\n",
      "[obd.obd] Query failed, no connection available\n",
      "[obd.obd] Query failed, no connection available\n",
      "[obd.obd] Query failed, no connection available\n",
      "[obd.obd] Query failed, no connection available\n",
      "[obd.obd] Query failed, no connection available\n",
      "[obd.obd] Query failed, no connection available\n",
      "[obd.obd] Query failed, no connection available\n"
     ]
    },
    {
     "name": "stdout",
     "output_type": "stream",
     "text": [
      "RPM is not supported\n",
      "Speed is not supported\n",
      "EngineLoad is not supported\n",
      "CoolantTemp is not supported\n",
      "IntakeTemp is not supported\n",
      "FuelLevel is not supported\n",
      "AmbientTemp is not supported\n",
      "EngineOilTemp is not supported\n",
      "FuelRate is not supported\n"
     ]
    },
    {
     "name": "stderr",
     "output_type": "stream",
     "text": [
      "[obd.obd] Query failed, no connection available\n",
      "[obd.obd] Query failed, no connection available\n",
      "[obd.obd] Query failed, no connection available\n",
      "[obd.obd] Query failed, no connection available\n",
      "[obd.obd] Query failed, no connection available\n",
      "[obd.obd] Query failed, no connection available\n",
      "[obd.obd] Query failed, no connection available\n",
      "[obd.obd] Query failed, no connection available\n",
      "[obd.obd] Query failed, no connection available\n"
     ]
    },
    {
     "name": "stdout",
     "output_type": "stream",
     "text": [
      "RPM is not supported\n",
      "Speed is not supported\n",
      "EngineLoad is not supported\n",
      "CoolantTemp is not supported\n",
      "IntakeTemp is not supported\n",
      "FuelLevel is not supported\n",
      "AmbientTemp is not supported\n",
      "EngineOilTemp is not supported\n",
      "FuelRate is not supported\n"
     ]
    },
    {
     "name": "stderr",
     "output_type": "stream",
     "text": [
      "[obd.obd] Query failed, no connection available\n",
      "[obd.obd] Query failed, no connection available\n",
      "[obd.obd] Query failed, no connection available\n",
      "[obd.obd] Query failed, no connection available\n",
      "[obd.obd] Query failed, no connection available\n",
      "[obd.obd] Query failed, no connection available\n",
      "[obd.obd] Query failed, no connection available\n",
      "[obd.obd] Query failed, no connection available\n",
      "[obd.obd] Query failed, no connection available\n"
     ]
    },
    {
     "name": "stdout",
     "output_type": "stream",
     "text": [
      "RPM is not supported\n",
      "Speed is not supported\n",
      "EngineLoad is not supported\n",
      "CoolantTemp is not supported\n",
      "IntakeTemp is not supported\n",
      "FuelLevel is not supported\n",
      "AmbientTemp is not supported\n",
      "EngineOilTemp is not supported\n",
      "FuelRate is not supported\n"
     ]
    },
    {
     "name": "stderr",
     "output_type": "stream",
     "text": [
      "[obd.obd] Query failed, no connection available\n",
      "[obd.obd] Query failed, no connection available\n",
      "[obd.obd] Query failed, no connection available\n",
      "[obd.obd] Query failed, no connection available\n",
      "[obd.obd] Query failed, no connection available\n",
      "[obd.obd] Query failed, no connection available\n",
      "[obd.obd] Query failed, no connection available\n",
      "[obd.obd] Query failed, no connection available\n",
      "[obd.obd] Query failed, no connection available\n"
     ]
    },
    {
     "name": "stdout",
     "output_type": "stream",
     "text": [
      "RPM is not supported\n",
      "Speed is not supported\n",
      "EngineLoad is not supported\n",
      "CoolantTemp is not supported\n",
      "IntakeTemp is not supported\n",
      "FuelLevel is not supported\n",
      "AmbientTemp is not supported\n",
      "EngineOilTemp is not supported\n",
      "FuelRate is not supported\n"
     ]
    },
    {
     "name": "stderr",
     "output_type": "stream",
     "text": [
      "[obd.obd] Query failed, no connection available\n",
      "[obd.obd] Query failed, no connection available\n",
      "[obd.obd] Query failed, no connection available\n",
      "[obd.obd] Query failed, no connection available\n",
      "[obd.obd] Query failed, no connection available\n",
      "[obd.obd] Query failed, no connection available\n",
      "[obd.obd] Query failed, no connection available\n",
      "[obd.obd] Query failed, no connection available\n",
      "[obd.obd] Query failed, no connection available\n"
     ]
    },
    {
     "name": "stdout",
     "output_type": "stream",
     "text": [
      "RPM is not supported\n",
      "Speed is not supported\n",
      "EngineLoad is not supported\n",
      "CoolantTemp is not supported\n",
      "IntakeTemp is not supported\n",
      "FuelLevel is not supported\n",
      "AmbientTemp is not supported\n",
      "EngineOilTemp is not supported\n",
      "FuelRate is not supported\n"
     ]
    },
    {
     "name": "stderr",
     "output_type": "stream",
     "text": [
      "[obd.obd] Query failed, no connection available\n",
      "[obd.obd] Query failed, no connection available\n",
      "[obd.obd] Query failed, no connection available\n",
      "[obd.obd] Query failed, no connection available\n",
      "[obd.obd] Query failed, no connection available\n",
      "[obd.obd] Query failed, no connection available\n",
      "[obd.obd] Query failed, no connection available\n",
      "[obd.obd] Query failed, no connection available\n",
      "[obd.obd] Query failed, no connection available\n"
     ]
    },
    {
     "name": "stdout",
     "output_type": "stream",
     "text": [
      "RPM is not supported\n",
      "Speed is not supported\n",
      "EngineLoad is not supported\n",
      "CoolantTemp is not supported\n",
      "IntakeTemp is not supported\n",
      "FuelLevel is not supported\n",
      "AmbientTemp is not supported\n",
      "EngineOilTemp is not supported\n",
      "FuelRate is not supported\n"
     ]
    },
    {
     "name": "stderr",
     "output_type": "stream",
     "text": [
      "[obd.obd] Query failed, no connection available\n",
      "[obd.obd] Query failed, no connection available\n",
      "[obd.obd] Query failed, no connection available\n",
      "[obd.obd] Query failed, no connection available\n",
      "[obd.obd] Query failed, no connection available\n",
      "[obd.obd] Query failed, no connection available\n",
      "[obd.obd] Query failed, no connection available\n",
      "[obd.obd] Query failed, no connection available\n",
      "[obd.obd] Query failed, no connection available\n"
     ]
    },
    {
     "name": "stdout",
     "output_type": "stream",
     "text": [
      "RPM is not supported\n",
      "Speed is not supported\n",
      "EngineLoad is not supported\n",
      "CoolantTemp is not supported\n",
      "IntakeTemp is not supported\n",
      "FuelLevel is not supported\n",
      "AmbientTemp is not supported\n",
      "EngineOilTemp is not supported\n",
      "FuelRate is not supported\n"
     ]
    },
    {
     "name": "stderr",
     "output_type": "stream",
     "text": [
      "[obd.obd] Query failed, no connection available\n",
      "[obd.obd] Query failed, no connection available\n",
      "[obd.obd] Query failed, no connection available\n",
      "[obd.obd] Query failed, no connection available\n",
      "[obd.obd] Query failed, no connection available\n",
      "[obd.obd] Query failed, no connection available\n",
      "[obd.obd] Query failed, no connection available\n",
      "[obd.obd] Query failed, no connection available\n",
      "[obd.obd] Query failed, no connection available\n"
     ]
    },
    {
     "name": "stdout",
     "output_type": "stream",
     "text": [
      "RPM is not supported\n",
      "Speed is not supported\n",
      "EngineLoad is not supported\n",
      "CoolantTemp is not supported\n",
      "IntakeTemp is not supported\n",
      "FuelLevel is not supported\n",
      "AmbientTemp is not supported\n",
      "EngineOilTemp is not supported\n",
      "FuelRate is not supported\n"
     ]
    },
    {
     "name": "stderr",
     "output_type": "stream",
     "text": [
      "[obd.obd] Query failed, no connection available\n",
      "[obd.obd] Query failed, no connection available\n",
      "[obd.obd] Query failed, no connection available\n",
      "[obd.obd] Query failed, no connection available\n",
      "[obd.obd] Query failed, no connection available\n",
      "[obd.obd] Query failed, no connection available\n",
      "[obd.obd] Query failed, no connection available\n",
      "[obd.obd] Query failed, no connection available\n",
      "[obd.obd] Query failed, no connection available\n"
     ]
    },
    {
     "name": "stdout",
     "output_type": "stream",
     "text": [
      "RPM is not supported\n",
      "Speed is not supported\n",
      "EngineLoad is not supported\n",
      "CoolantTemp is not supported\n",
      "IntakeTemp is not supported\n",
      "FuelLevel is not supported\n",
      "AmbientTemp is not supported\n",
      "EngineOilTemp is not supported\n",
      "FuelRate is not supported\n"
     ]
    },
    {
     "name": "stderr",
     "output_type": "stream",
     "text": [
      "[obd.obd] Query failed, no connection available\n",
      "[obd.obd] Query failed, no connection available\n",
      "[obd.obd] Query failed, no connection available\n",
      "[obd.obd] Query failed, no connection available\n",
      "[obd.obd] Query failed, no connection available\n",
      "[obd.obd] Query failed, no connection available\n",
      "[obd.obd] Query failed, no connection available\n",
      "[obd.obd] Query failed, no connection available\n",
      "[obd.obd] Query failed, no connection available\n"
     ]
    },
    {
     "name": "stdout",
     "output_type": "stream",
     "text": [
      "RPM is not supported\n",
      "Speed is not supported\n",
      "EngineLoad is not supported\n",
      "CoolantTemp is not supported\n",
      "IntakeTemp is not supported\n",
      "FuelLevel is not supported\n",
      "AmbientTemp is not supported\n",
      "EngineOilTemp is not supported\n",
      "FuelRate is not supported\n"
     ]
    },
    {
     "name": "stderr",
     "output_type": "stream",
     "text": [
      "[obd.obd] Query failed, no connection available\n",
      "[obd.obd] Query failed, no connection available\n",
      "[obd.obd] Query failed, no connection available\n",
      "[obd.obd] Query failed, no connection available\n",
      "[obd.obd] Query failed, no connection available\n",
      "[obd.obd] Query failed, no connection available\n",
      "[obd.obd] Query failed, no connection available\n",
      "[obd.obd] Query failed, no connection available\n",
      "[obd.obd] Query failed, no connection available\n"
     ]
    },
    {
     "name": "stdout",
     "output_type": "stream",
     "text": [
      "RPM is not supported\n",
      "Speed is not supported\n",
      "EngineLoad is not supported\n",
      "CoolantTemp is not supported\n",
      "IntakeTemp is not supported\n",
      "FuelLevel is not supported\n",
      "AmbientTemp is not supported\n",
      "EngineOilTemp is not supported\n",
      "FuelRate is not supported\n"
     ]
    },
    {
     "name": "stderr",
     "output_type": "stream",
     "text": [
      "[obd.obd] Query failed, no connection available\n",
      "[obd.obd] Query failed, no connection available\n",
      "[obd.obd] Query failed, no connection available\n",
      "[obd.obd] Query failed, no connection available\n",
      "[obd.obd] Query failed, no connection available\n",
      "[obd.obd] Query failed, no connection available\n",
      "[obd.obd] Query failed, no connection available\n",
      "[obd.obd] Query failed, no connection available\n",
      "[obd.obd] Query failed, no connection available\n"
     ]
    },
    {
     "name": "stdout",
     "output_type": "stream",
     "text": [
      "RPM is not supported\n",
      "Speed is not supported\n",
      "EngineLoad is not supported\n",
      "CoolantTemp is not supported\n",
      "IntakeTemp is not supported\n",
      "FuelLevel is not supported\n",
      "AmbientTemp is not supported\n",
      "EngineOilTemp is not supported\n",
      "FuelRate is not supported\n"
     ]
    },
    {
     "name": "stderr",
     "output_type": "stream",
     "text": [
      "[obd.obd] Query failed, no connection available\n",
      "[obd.obd] Query failed, no connection available\n",
      "[obd.obd] Query failed, no connection available\n",
      "[obd.obd] Query failed, no connection available\n",
      "[obd.obd] Query failed, no connection available\n",
      "[obd.obd] Query failed, no connection available\n",
      "[obd.obd] Query failed, no connection available\n",
      "[obd.obd] Query failed, no connection available\n",
      "[obd.obd] Query failed, no connection available\n"
     ]
    },
    {
     "name": "stdout",
     "output_type": "stream",
     "text": [
      "RPM is not supported\n",
      "Speed is not supported\n",
      "EngineLoad is not supported\n",
      "CoolantTemp is not supported\n",
      "IntakeTemp is not supported\n",
      "FuelLevel is not supported\n",
      "AmbientTemp is not supported\n",
      "EngineOilTemp is not supported\n",
      "FuelRate is not supported\n"
     ]
    },
    {
     "name": "stderr",
     "output_type": "stream",
     "text": [
      "[obd.obd] Query failed, no connection available\n",
      "[obd.obd] Query failed, no connection available\n",
      "[obd.obd] Query failed, no connection available\n",
      "[obd.obd] Query failed, no connection available\n",
      "[obd.obd] Query failed, no connection available\n",
      "[obd.obd] Query failed, no connection available\n",
      "[obd.obd] Query failed, no connection available\n",
      "[obd.obd] Query failed, no connection available\n",
      "[obd.obd] Query failed, no connection available\n"
     ]
    },
    {
     "name": "stdout",
     "output_type": "stream",
     "text": [
      "RPM is not supported\n",
      "Speed is not supported\n",
      "EngineLoad is not supported\n",
      "CoolantTemp is not supported\n",
      "IntakeTemp is not supported\n",
      "FuelLevel is not supported\n",
      "AmbientTemp is not supported\n",
      "EngineOilTemp is not supported\n",
      "FuelRate is not supported\n"
     ]
    },
    {
     "name": "stderr",
     "output_type": "stream",
     "text": [
      "[obd.obd] Query failed, no connection available\n",
      "[obd.obd] Query failed, no connection available\n",
      "[obd.obd] Query failed, no connection available\n",
      "[obd.obd] Query failed, no connection available\n",
      "[obd.obd] Query failed, no connection available\n",
      "[obd.obd] Query failed, no connection available\n",
      "[obd.obd] Query failed, no connection available\n",
      "[obd.obd] Query failed, no connection available\n",
      "[obd.obd] Query failed, no connection available\n"
     ]
    },
    {
     "name": "stdout",
     "output_type": "stream",
     "text": [
      "RPM is not supported\n",
      "Speed is not supported\n",
      "EngineLoad is not supported\n",
      "CoolantTemp is not supported\n",
      "IntakeTemp is not supported\n",
      "FuelLevel is not supported\n",
      "AmbientTemp is not supported\n",
      "EngineOilTemp is not supported\n",
      "FuelRate is not supported\n"
     ]
    },
    {
     "name": "stderr",
     "output_type": "stream",
     "text": [
      "[obd.obd] Query failed, no connection available\n",
      "[obd.obd] Query failed, no connection available\n",
      "[obd.obd] Query failed, no connection available\n",
      "[obd.obd] Query failed, no connection available\n",
      "[obd.obd] Query failed, no connection available\n",
      "[obd.obd] Query failed, no connection available\n",
      "[obd.obd] Query failed, no connection available\n",
      "[obd.obd] Query failed, no connection available\n",
      "[obd.obd] Query failed, no connection available\n"
     ]
    },
    {
     "name": "stdout",
     "output_type": "stream",
     "text": [
      "RPM is not supported\n",
      "Speed is not supported\n",
      "EngineLoad is not supported\n",
      "CoolantTemp is not supported\n",
      "IntakeTemp is not supported\n",
      "FuelLevel is not supported\n",
      "AmbientTemp is not supported\n",
      "EngineOilTemp is not supported\n",
      "FuelRate is not supported\n"
     ]
    },
    {
     "name": "stderr",
     "output_type": "stream",
     "text": [
      "[obd.obd] Query failed, no connection available\n",
      "[obd.obd] Query failed, no connection available\n",
      "[obd.obd] Query failed, no connection available\n",
      "[obd.obd] Query failed, no connection available\n",
      "[obd.obd] Query failed, no connection available\n",
      "[obd.obd] Query failed, no connection available\n",
      "[obd.obd] Query failed, no connection available\n",
      "[obd.obd] Query failed, no connection available\n",
      "[obd.obd] Query failed, no connection available\n"
     ]
    },
    {
     "name": "stdout",
     "output_type": "stream",
     "text": [
      "RPM is not supported\n",
      "Speed is not supported\n",
      "EngineLoad is not supported\n",
      "CoolantTemp is not supported\n",
      "IntakeTemp is not supported\n",
      "FuelLevel is not supported\n",
      "AmbientTemp is not supported\n",
      "EngineOilTemp is not supported\n",
      "FuelRate is not supported\n"
     ]
    },
    {
     "name": "stderr",
     "output_type": "stream",
     "text": [
      "[obd.obd] Query failed, no connection available\n",
      "[obd.obd] Query failed, no connection available\n",
      "[obd.obd] Query failed, no connection available\n",
      "[obd.obd] Query failed, no connection available\n",
      "[obd.obd] Query failed, no connection available\n",
      "[obd.obd] Query failed, no connection available\n",
      "[obd.obd] Query failed, no connection available\n",
      "[obd.obd] Query failed, no connection available\n",
      "[obd.obd] Query failed, no connection available\n"
     ]
    },
    {
     "name": "stdout",
     "output_type": "stream",
     "text": [
      "RPM is not supported\n",
      "Speed is not supported\n",
      "EngineLoad is not supported\n",
      "CoolantTemp is not supported\n",
      "IntakeTemp is not supported\n",
      "FuelLevel is not supported\n",
      "AmbientTemp is not supported\n",
      "EngineOilTemp is not supported\n",
      "FuelRate is not supported\n"
     ]
    },
    {
     "name": "stderr",
     "output_type": "stream",
     "text": [
      "[obd.obd] Query failed, no connection available\n",
      "[obd.obd] Query failed, no connection available\n",
      "[obd.obd] Query failed, no connection available\n",
      "[obd.obd] Query failed, no connection available\n",
      "[obd.obd] Query failed, no connection available\n",
      "[obd.obd] Query failed, no connection available\n",
      "[obd.obd] Query failed, no connection available\n",
      "[obd.obd] Query failed, no connection available\n",
      "[obd.obd] Query failed, no connection available\n"
     ]
    },
    {
     "name": "stdout",
     "output_type": "stream",
     "text": [
      "RPM is not supported\n",
      "Speed is not supported\n",
      "EngineLoad is not supported\n",
      "CoolantTemp is not supported\n",
      "IntakeTemp is not supported\n",
      "FuelLevel is not supported\n",
      "AmbientTemp is not supported\n",
      "EngineOilTemp is not supported\n",
      "FuelRate is not supported\n"
     ]
    },
    {
     "name": "stderr",
     "output_type": "stream",
     "text": [
      "[obd.obd] Query failed, no connection available\n",
      "[obd.obd] Query failed, no connection available\n",
      "[obd.obd] Query failed, no connection available\n",
      "[obd.obd] Query failed, no connection available\n",
      "[obd.obd] Query failed, no connection available\n",
      "[obd.obd] Query failed, no connection available\n",
      "[obd.obd] Query failed, no connection available\n",
      "[obd.obd] Query failed, no connection available\n",
      "[obd.obd] Query failed, no connection available\n"
     ]
    },
    {
     "name": "stdout",
     "output_type": "stream",
     "text": [
      "RPM is not supported\n",
      "Speed is not supported\n",
      "EngineLoad is not supported\n",
      "CoolantTemp is not supported\n",
      "IntakeTemp is not supported\n",
      "FuelLevel is not supported\n",
      "AmbientTemp is not supported\n",
      "EngineOilTemp is not supported\n",
      "FuelRate is not supported\n"
     ]
    },
    {
     "name": "stderr",
     "output_type": "stream",
     "text": [
      "[obd.obd] Query failed, no connection available\n",
      "[obd.obd] Query failed, no connection available\n",
      "[obd.obd] Query failed, no connection available\n",
      "[obd.obd] Query failed, no connection available\n",
      "[obd.obd] Query failed, no connection available\n",
      "[obd.obd] Query failed, no connection available\n",
      "[obd.obd] Query failed, no connection available\n",
      "[obd.obd] Query failed, no connection available\n",
      "[obd.obd] Query failed, no connection available\n"
     ]
    },
    {
     "name": "stdout",
     "output_type": "stream",
     "text": [
      "RPM is not supported\n",
      "Speed is not supported\n",
      "EngineLoad is not supported\n",
      "CoolantTemp is not supported\n",
      "IntakeTemp is not supported\n",
      "FuelLevel is not supported\n",
      "AmbientTemp is not supported\n",
      "EngineOilTemp is not supported\n",
      "FuelRate is not supported\n"
     ]
    },
    {
     "name": "stderr",
     "output_type": "stream",
     "text": [
      "[obd.obd] Query failed, no connection available\n",
      "[obd.obd] Query failed, no connection available\n",
      "[obd.obd] Query failed, no connection available\n",
      "[obd.obd] Query failed, no connection available\n",
      "[obd.obd] Query failed, no connection available\n",
      "[obd.obd] Query failed, no connection available\n",
      "[obd.obd] Query failed, no connection available\n",
      "[obd.obd] Query failed, no connection available\n",
      "[obd.obd] Query failed, no connection available\n"
     ]
    },
    {
     "name": "stdout",
     "output_type": "stream",
     "text": [
      "RPM is not supported\n",
      "Speed is not supported\n",
      "EngineLoad is not supported\n",
      "CoolantTemp is not supported\n",
      "IntakeTemp is not supported\n",
      "FuelLevel is not supported\n",
      "AmbientTemp is not supported\n",
      "EngineOilTemp is not supported\n",
      "FuelRate is not supported\n"
     ]
    },
    {
     "name": "stderr",
     "output_type": "stream",
     "text": [
      "[obd.obd] Query failed, no connection available\n",
      "[obd.obd] Query failed, no connection available\n",
      "[obd.obd] Query failed, no connection available\n",
      "[obd.obd] Query failed, no connection available\n",
      "[obd.obd] Query failed, no connection available\n",
      "[obd.obd] Query failed, no connection available\n",
      "[obd.obd] Query failed, no connection available\n",
      "[obd.obd] Query failed, no connection available\n",
      "[obd.obd] Query failed, no connection available\n"
     ]
    },
    {
     "name": "stdout",
     "output_type": "stream",
     "text": [
      "RPM is not supported\n",
      "Speed is not supported\n",
      "EngineLoad is not supported\n",
      "CoolantTemp is not supported\n",
      "IntakeTemp is not supported\n",
      "FuelLevel is not supported\n",
      "AmbientTemp is not supported\n",
      "EngineOilTemp is not supported\n",
      "FuelRate is not supported\n"
     ]
    },
    {
     "name": "stderr",
     "output_type": "stream",
     "text": [
      "[obd.obd] Query failed, no connection available\n",
      "[obd.obd] Query failed, no connection available\n",
      "[obd.obd] Query failed, no connection available\n",
      "[obd.obd] Query failed, no connection available\n",
      "[obd.obd] Query failed, no connection available\n",
      "[obd.obd] Query failed, no connection available\n",
      "[obd.obd] Query failed, no connection available\n",
      "[obd.obd] Query failed, no connection available\n",
      "[obd.obd] Query failed, no connection available\n"
     ]
    },
    {
     "name": "stdout",
     "output_type": "stream",
     "text": [
      "RPM is not supported\n",
      "Speed is not supported\n",
      "EngineLoad is not supported\n",
      "CoolantTemp is not supported\n",
      "IntakeTemp is not supported\n",
      "FuelLevel is not supported\n",
      "AmbientTemp is not supported\n",
      "EngineOilTemp is not supported\n",
      "FuelRate is not supported\n"
     ]
    },
    {
     "name": "stderr",
     "output_type": "stream",
     "text": [
      "[obd.obd] Query failed, no connection available\n",
      "[obd.obd] Query failed, no connection available\n",
      "[obd.obd] Query failed, no connection available\n",
      "[obd.obd] Query failed, no connection available\n",
      "[obd.obd] Query failed, no connection available\n",
      "[obd.obd] Query failed, no connection available\n",
      "[obd.obd] Query failed, no connection available\n",
      "[obd.obd] Query failed, no connection available\n",
      "[obd.obd] Query failed, no connection available\n"
     ]
    },
    {
     "name": "stdout",
     "output_type": "stream",
     "text": [
      "RPM is not supported\n",
      "Speed is not supported\n",
      "EngineLoad is not supported\n",
      "CoolantTemp is not supported\n",
      "IntakeTemp is not supported\n",
      "FuelLevel is not supported\n",
      "AmbientTemp is not supported\n",
      "EngineOilTemp is not supported\n",
      "FuelRate is not supported\n"
     ]
    },
    {
     "name": "stderr",
     "output_type": "stream",
     "text": [
      "[obd.obd] Query failed, no connection available\n",
      "[obd.obd] Query failed, no connection available\n",
      "[obd.obd] Query failed, no connection available\n",
      "[obd.obd] Query failed, no connection available\n",
      "[obd.obd] Query failed, no connection available\n",
      "[obd.obd] Query failed, no connection available\n",
      "[obd.obd] Query failed, no connection available\n",
      "[obd.obd] Query failed, no connection available\n",
      "[obd.obd] Query failed, no connection available\n"
     ]
    },
    {
     "name": "stdout",
     "output_type": "stream",
     "text": [
      "RPM is not supported\n",
      "Speed is not supported\n",
      "EngineLoad is not supported\n",
      "CoolantTemp is not supported\n",
      "IntakeTemp is not supported\n",
      "FuelLevel is not supported\n",
      "AmbientTemp is not supported\n",
      "EngineOilTemp is not supported\n",
      "FuelRate is not supported\n"
     ]
    },
    {
     "name": "stderr",
     "output_type": "stream",
     "text": [
      "[obd.obd] Query failed, no connection available\n",
      "[obd.obd] Query failed, no connection available\n",
      "[obd.obd] Query failed, no connection available\n",
      "[obd.obd] Query failed, no connection available\n",
      "[obd.obd] Query failed, no connection available\n",
      "[obd.obd] Query failed, no connection available\n",
      "[obd.obd] Query failed, no connection available\n",
      "[obd.obd] Query failed, no connection available\n",
      "[obd.obd] Query failed, no connection available\n"
     ]
    },
    {
     "name": "stdout",
     "output_type": "stream",
     "text": [
      "RPM is not supported\n",
      "Speed is not supported\n",
      "EngineLoad is not supported\n",
      "CoolantTemp is not supported\n",
      "IntakeTemp is not supported\n",
      "FuelLevel is not supported\n",
      "AmbientTemp is not supported\n",
      "EngineOilTemp is not supported\n",
      "FuelRate is not supported\n"
     ]
    },
    {
     "name": "stderr",
     "output_type": "stream",
     "text": [
      "[obd.obd] Query failed, no connection available\n",
      "[obd.obd] Query failed, no connection available\n",
      "[obd.obd] Query failed, no connection available\n",
      "[obd.obd] Query failed, no connection available\n",
      "[obd.obd] Query failed, no connection available\n",
      "[obd.obd] Query failed, no connection available\n",
      "[obd.obd] Query failed, no connection available\n",
      "[obd.obd] Query failed, no connection available\n",
      "[obd.obd] Query failed, no connection available\n"
     ]
    },
    {
     "name": "stdout",
     "output_type": "stream",
     "text": [
      "RPM is not supported\n",
      "Speed is not supported\n",
      "EngineLoad is not supported\n",
      "CoolantTemp is not supported\n",
      "IntakeTemp is not supported\n",
      "FuelLevel is not supported\n",
      "AmbientTemp is not supported\n",
      "EngineOilTemp is not supported\n",
      "FuelRate is not supported\n"
     ]
    },
    {
     "name": "stderr",
     "output_type": "stream",
     "text": [
      "[obd.obd] Query failed, no connection available\n",
      "[obd.obd] Query failed, no connection available\n",
      "[obd.obd] Query failed, no connection available\n",
      "[obd.obd] Query failed, no connection available\n",
      "[obd.obd] Query failed, no connection available\n",
      "[obd.obd] Query failed, no connection available\n",
      "[obd.obd] Query failed, no connection available\n",
      "[obd.obd] Query failed, no connection available\n",
      "[obd.obd] Query failed, no connection available\n"
     ]
    },
    {
     "name": "stdout",
     "output_type": "stream",
     "text": [
      "RPM is not supported\n",
      "Speed is not supported\n",
      "EngineLoad is not supported\n",
      "CoolantTemp is not supported\n",
      "IntakeTemp is not supported\n",
      "FuelLevel is not supported\n",
      "AmbientTemp is not supported\n",
      "EngineOilTemp is not supported\n",
      "FuelRate is not supported\n"
     ]
    },
    {
     "name": "stderr",
     "output_type": "stream",
     "text": [
      "[obd.obd] Query failed, no connection available\n",
      "[obd.obd] Query failed, no connection available\n",
      "[obd.obd] Query failed, no connection available\n",
      "[obd.obd] Query failed, no connection available\n",
      "[obd.obd] Query failed, no connection available\n",
      "[obd.obd] Query failed, no connection available\n",
      "[obd.obd] Query failed, no connection available\n",
      "[obd.obd] Query failed, no connection available\n",
      "[obd.obd] Query failed, no connection available\n"
     ]
    },
    {
     "name": "stdout",
     "output_type": "stream",
     "text": [
      "RPM is not supported\n",
      "Speed is not supported\n",
      "EngineLoad is not supported\n",
      "CoolantTemp is not supported\n",
      "IntakeTemp is not supported\n",
      "FuelLevel is not supported\n",
      "AmbientTemp is not supported\n",
      "EngineOilTemp is not supported\n",
      "FuelRate is not supported\n"
     ]
    },
    {
     "name": "stderr",
     "output_type": "stream",
     "text": [
      "[obd.obd] Query failed, no connection available\n",
      "[obd.obd] Query failed, no connection available\n",
      "[obd.obd] Query failed, no connection available\n",
      "[obd.obd] Query failed, no connection available\n",
      "[obd.obd] Query failed, no connection available\n",
      "[obd.obd] Query failed, no connection available\n",
      "[obd.obd] Query failed, no connection available\n",
      "[obd.obd] Query failed, no connection available\n",
      "[obd.obd] Query failed, no connection available\n"
     ]
    },
    {
     "name": "stdout",
     "output_type": "stream",
     "text": [
      "RPM is not supported\n",
      "Speed is not supported\n",
      "EngineLoad is not supported\n",
      "CoolantTemp is not supported\n",
      "IntakeTemp is not supported\n",
      "FuelLevel is not supported\n",
      "AmbientTemp is not supported\n",
      "EngineOilTemp is not supported\n",
      "FuelRate is not supported\n"
     ]
    },
    {
     "name": "stderr",
     "output_type": "stream",
     "text": [
      "[obd.obd] Query failed, no connection available\n",
      "[obd.obd] Query failed, no connection available\n",
      "[obd.obd] Query failed, no connection available\n",
      "[obd.obd] Query failed, no connection available\n",
      "[obd.obd] Query failed, no connection available\n",
      "[obd.obd] Query failed, no connection available\n",
      "[obd.obd] Query failed, no connection available\n",
      "[obd.obd] Query failed, no connection available\n",
      "[obd.obd] Query failed, no connection available\n"
     ]
    },
    {
     "name": "stdout",
     "output_type": "stream",
     "text": [
      "RPM is not supported\n",
      "Speed is not supported\n",
      "EngineLoad is not supported\n",
      "CoolantTemp is not supported\n",
      "IntakeTemp is not supported\n",
      "FuelLevel is not supported\n",
      "AmbientTemp is not supported\n",
      "EngineOilTemp is not supported\n",
      "FuelRate is not supported\n"
     ]
    },
    {
     "name": "stderr",
     "output_type": "stream",
     "text": [
      "[obd.obd] Query failed, no connection available\n",
      "[obd.obd] Query failed, no connection available\n",
      "[obd.obd] Query failed, no connection available\n",
      "[obd.obd] Query failed, no connection available\n",
      "[obd.obd] Query failed, no connection available\n",
      "[obd.obd] Query failed, no connection available\n",
      "[obd.obd] Query failed, no connection available\n",
      "[obd.obd] Query failed, no connection available\n",
      "[obd.obd] Query failed, no connection available\n"
     ]
    },
    {
     "name": "stdout",
     "output_type": "stream",
     "text": [
      "RPM is not supported\n",
      "Speed is not supported\n",
      "EngineLoad is not supported\n",
      "CoolantTemp is not supported\n",
      "IntakeTemp is not supported\n",
      "FuelLevel is not supported\n",
      "AmbientTemp is not supported\n",
      "EngineOilTemp is not supported\n",
      "FuelRate is not supported\n"
     ]
    },
    {
     "name": "stderr",
     "output_type": "stream",
     "text": [
      "[obd.obd] Query failed, no connection available\n",
      "[obd.obd] Query failed, no connection available\n",
      "[obd.obd] Query failed, no connection available\n",
      "[obd.obd] Query failed, no connection available\n",
      "[obd.obd] Query failed, no connection available\n",
      "[obd.obd] Query failed, no connection available\n",
      "[obd.obd] Query failed, no connection available\n",
      "[obd.obd] Query failed, no connection available\n",
      "[obd.obd] Query failed, no connection available\n"
     ]
    },
    {
     "name": "stdout",
     "output_type": "stream",
     "text": [
      "RPM is not supported\n",
      "Speed is not supported\n",
      "EngineLoad is not supported\n",
      "CoolantTemp is not supported\n",
      "IntakeTemp is not supported\n",
      "FuelLevel is not supported\n",
      "AmbientTemp is not supported\n",
      "EngineOilTemp is not supported\n",
      "FuelRate is not supported\n"
     ]
    },
    {
     "name": "stderr",
     "output_type": "stream",
     "text": [
      "[obd.obd] Query failed, no connection available\n",
      "[obd.obd] Query failed, no connection available\n",
      "[obd.obd] Query failed, no connection available\n",
      "[obd.obd] Query failed, no connection available\n",
      "[obd.obd] Query failed, no connection available\n",
      "[obd.obd] Query failed, no connection available\n",
      "[obd.obd] Query failed, no connection available\n",
      "[obd.obd] Query failed, no connection available\n",
      "[obd.obd] Query failed, no connection available\n"
     ]
    },
    {
     "name": "stdout",
     "output_type": "stream",
     "text": [
      "RPM is not supported\n",
      "Speed is not supported\n",
      "EngineLoad is not supported\n",
      "CoolantTemp is not supported\n",
      "IntakeTemp is not supported\n",
      "FuelLevel is not supported\n",
      "AmbientTemp is not supported\n",
      "EngineOilTemp is not supported\n",
      "FuelRate is not supported\n"
     ]
    },
    {
     "name": "stderr",
     "output_type": "stream",
     "text": [
      "[obd.obd] Query failed, no connection available\n",
      "[obd.obd] Query failed, no connection available\n",
      "[obd.obd] Query failed, no connection available\n",
      "[obd.obd] Query failed, no connection available\n",
      "[obd.obd] Query failed, no connection available\n",
      "[obd.obd] Query failed, no connection available\n",
      "[obd.obd] Query failed, no connection available\n",
      "[obd.obd] Query failed, no connection available\n",
      "[obd.obd] Query failed, no connection available\n"
     ]
    },
    {
     "name": "stdout",
     "output_type": "stream",
     "text": [
      "RPM is not supported\n",
      "Speed is not supported\n",
      "EngineLoad is not supported\n",
      "CoolantTemp is not supported\n",
      "IntakeTemp is not supported\n",
      "FuelLevel is not supported\n",
      "AmbientTemp is not supported\n",
      "EngineOilTemp is not supported\n",
      "FuelRate is not supported\n"
     ]
    },
    {
     "name": "stderr",
     "output_type": "stream",
     "text": [
      "[obd.obd] Query failed, no connection available\n",
      "[obd.obd] Query failed, no connection available\n",
      "[obd.obd] Query failed, no connection available\n",
      "[obd.obd] Query failed, no connection available\n",
      "[obd.obd] Query failed, no connection available\n",
      "[obd.obd] Query failed, no connection available\n",
      "[obd.obd] Query failed, no connection available\n",
      "[obd.obd] Query failed, no connection available\n",
      "[obd.obd] Query failed, no connection available\n"
     ]
    },
    {
     "name": "stdout",
     "output_type": "stream",
     "text": [
      "RPM is not supported\n",
      "Speed is not supported\n",
      "EngineLoad is not supported\n",
      "CoolantTemp is not supported\n",
      "IntakeTemp is not supported\n",
      "FuelLevel is not supported\n",
      "AmbientTemp is not supported\n",
      "EngineOilTemp is not supported\n",
      "FuelRate is not supported\n"
     ]
    },
    {
     "name": "stderr",
     "output_type": "stream",
     "text": [
      "[obd.obd] Query failed, no connection available\n",
      "[obd.obd] Query failed, no connection available\n",
      "[obd.obd] Query failed, no connection available\n",
      "[obd.obd] Query failed, no connection available\n",
      "[obd.obd] Query failed, no connection available\n",
      "[obd.obd] Query failed, no connection available\n",
      "[obd.obd] Query failed, no connection available\n",
      "[obd.obd] Query failed, no connection available\n",
      "[obd.obd] Query failed, no connection available\n"
     ]
    },
    {
     "name": "stdout",
     "output_type": "stream",
     "text": [
      "RPM is not supported\n",
      "Speed is not supported\n",
      "EngineLoad is not supported\n",
      "CoolantTemp is not supported\n",
      "IntakeTemp is not supported\n",
      "FuelLevel is not supported\n",
      "AmbientTemp is not supported\n",
      "EngineOilTemp is not supported\n",
      "FuelRate is not supported\n"
     ]
    },
    {
     "name": "stderr",
     "output_type": "stream",
     "text": [
      "[obd.obd] Query failed, no connection available\n",
      "[obd.obd] Query failed, no connection available\n",
      "[obd.obd] Query failed, no connection available\n",
      "[obd.obd] Query failed, no connection available\n",
      "[obd.obd] Query failed, no connection available\n",
      "[obd.obd] Query failed, no connection available\n",
      "[obd.obd] Query failed, no connection available\n",
      "[obd.obd] Query failed, no connection available\n",
      "[obd.obd] Query failed, no connection available\n"
     ]
    },
    {
     "name": "stdout",
     "output_type": "stream",
     "text": [
      "RPM is not supported\n",
      "Speed is not supported\n",
      "EngineLoad is not supported\n",
      "CoolantTemp is not supported\n",
      "IntakeTemp is not supported\n",
      "FuelLevel is not supported\n",
      "AmbientTemp is not supported\n",
      "EngineOilTemp is not supported\n",
      "FuelRate is not supported\n"
     ]
    },
    {
     "name": "stderr",
     "output_type": "stream",
     "text": [
      "[obd.obd] Query failed, no connection available\n",
      "[obd.obd] Query failed, no connection available\n",
      "[obd.obd] Query failed, no connection available\n",
      "[obd.obd] Query failed, no connection available\n",
      "[obd.obd] Query failed, no connection available\n",
      "[obd.obd] Query failed, no connection available\n",
      "[obd.obd] Query failed, no connection available\n",
      "[obd.obd] Query failed, no connection available\n",
      "[obd.obd] Query failed, no connection available\n"
     ]
    },
    {
     "name": "stdout",
     "output_type": "stream",
     "text": [
      "RPM is not supported\n",
      "Speed is not supported\n",
      "EngineLoad is not supported\n",
      "CoolantTemp is not supported\n",
      "IntakeTemp is not supported\n",
      "FuelLevel is not supported\n",
      "AmbientTemp is not supported\n",
      "EngineOilTemp is not supported\n",
      "FuelRate is not supported\n"
     ]
    },
    {
     "name": "stderr",
     "output_type": "stream",
     "text": [
      "[obd.obd] Query failed, no connection available\n",
      "[obd.obd] Query failed, no connection available\n",
      "[obd.obd] Query failed, no connection available\n",
      "[obd.obd] Query failed, no connection available\n",
      "[obd.obd] Query failed, no connection available\n",
      "[obd.obd] Query failed, no connection available\n",
      "[obd.obd] Query failed, no connection available\n",
      "[obd.obd] Query failed, no connection available\n",
      "[obd.obd] Query failed, no connection available\n"
     ]
    },
    {
     "name": "stdout",
     "output_type": "stream",
     "text": [
      "RPM is not supported\n",
      "Speed is not supported\n",
      "EngineLoad is not supported\n",
      "CoolantTemp is not supported\n",
      "IntakeTemp is not supported\n",
      "FuelLevel is not supported\n",
      "AmbientTemp is not supported\n",
      "EngineOilTemp is not supported\n",
      "FuelRate is not supported\n"
     ]
    },
    {
     "name": "stderr",
     "output_type": "stream",
     "text": [
      "[obd.obd] Query failed, no connection available\n",
      "[obd.obd] Query failed, no connection available\n",
      "[obd.obd] Query failed, no connection available\n",
      "[obd.obd] Query failed, no connection available\n",
      "[obd.obd] Query failed, no connection available\n",
      "[obd.obd] Query failed, no connection available\n",
      "[obd.obd] Query failed, no connection available\n",
      "[obd.obd] Query failed, no connection available\n",
      "[obd.obd] Query failed, no connection available\n"
     ]
    },
    {
     "name": "stdout",
     "output_type": "stream",
     "text": [
      "RPM is not supported\n",
      "Speed is not supported\n",
      "EngineLoad is not supported\n",
      "CoolantTemp is not supported\n",
      "IntakeTemp is not supported\n",
      "FuelLevel is not supported\n",
      "AmbientTemp is not supported\n",
      "EngineOilTemp is not supported\n",
      "FuelRate is not supported\n"
     ]
    },
    {
     "name": "stderr",
     "output_type": "stream",
     "text": [
      "[obd.obd] Query failed, no connection available\n",
      "[obd.obd] Query failed, no connection available\n",
      "[obd.obd] Query failed, no connection available\n",
      "[obd.obd] Query failed, no connection available\n",
      "[obd.obd] Query failed, no connection available\n",
      "[obd.obd] Query failed, no connection available\n",
      "[obd.obd] Query failed, no connection available\n",
      "[obd.obd] Query failed, no connection available\n",
      "[obd.obd] Query failed, no connection available\n"
     ]
    },
    {
     "name": "stdout",
     "output_type": "stream",
     "text": [
      "RPM is not supported\n",
      "Speed is not supported\n",
      "EngineLoad is not supported\n",
      "CoolantTemp is not supported\n",
      "IntakeTemp is not supported\n",
      "FuelLevel is not supported\n",
      "AmbientTemp is not supported\n",
      "EngineOilTemp is not supported\n",
      "FuelRate is not supported\n"
     ]
    },
    {
     "name": "stderr",
     "output_type": "stream",
     "text": [
      "[obd.obd] Query failed, no connection available\n",
      "[obd.obd] Query failed, no connection available\n",
      "[obd.obd] Query failed, no connection available\n",
      "[obd.obd] Query failed, no connection available\n",
      "[obd.obd] Query failed, no connection available\n",
      "[obd.obd] Query failed, no connection available\n",
      "[obd.obd] Query failed, no connection available\n",
      "[obd.obd] Query failed, no connection available\n",
      "[obd.obd] Query failed, no connection available\n"
     ]
    },
    {
     "name": "stdout",
     "output_type": "stream",
     "text": [
      "RPM is not supported\n",
      "Speed is not supported\n",
      "EngineLoad is not supported\n",
      "CoolantTemp is not supported\n",
      "IntakeTemp is not supported\n",
      "FuelLevel is not supported\n",
      "AmbientTemp is not supported\n",
      "EngineOilTemp is not supported\n",
      "FuelRate is not supported\n"
     ]
    },
    {
     "name": "stderr",
     "output_type": "stream",
     "text": [
      "[obd.obd] Query failed, no connection available\n",
      "[obd.obd] Query failed, no connection available\n",
      "[obd.obd] Query failed, no connection available\n",
      "[obd.obd] Query failed, no connection available\n",
      "[obd.obd] Query failed, no connection available\n",
      "[obd.obd] Query failed, no connection available\n",
      "[obd.obd] Query failed, no connection available\n",
      "[obd.obd] Query failed, no connection available\n",
      "[obd.obd] Query failed, no connection available\n"
     ]
    },
    {
     "name": "stdout",
     "output_type": "stream",
     "text": [
      "RPM is not supported\n",
      "Speed is not supported\n",
      "EngineLoad is not supported\n",
      "CoolantTemp is not supported\n",
      "IntakeTemp is not supported\n",
      "FuelLevel is not supported\n",
      "AmbientTemp is not supported\n",
      "EngineOilTemp is not supported\n",
      "FuelRate is not supported\n"
     ]
    },
    {
     "name": "stderr",
     "output_type": "stream",
     "text": [
      "[obd.obd] Query failed, no connection available\n",
      "[obd.obd] Query failed, no connection available\n",
      "[obd.obd] Query failed, no connection available\n",
      "[obd.obd] Query failed, no connection available\n",
      "[obd.obd] Query failed, no connection available\n",
      "[obd.obd] Query failed, no connection available\n",
      "[obd.obd] Query failed, no connection available\n",
      "[obd.obd] Query failed, no connection available\n",
      "[obd.obd] Query failed, no connection available\n"
     ]
    },
    {
     "name": "stdout",
     "output_type": "stream",
     "text": [
      "RPM is not supported\n",
      "Speed is not supported\n",
      "EngineLoad is not supported\n",
      "CoolantTemp is not supported\n",
      "IntakeTemp is not supported\n",
      "FuelLevel is not supported\n",
      "AmbientTemp is not supported\n",
      "EngineOilTemp is not supported\n",
      "FuelRate is not supported\n"
     ]
    },
    {
     "name": "stderr",
     "output_type": "stream",
     "text": [
      "[obd.obd] Query failed, no connection available\n",
      "[obd.obd] Query failed, no connection available\n",
      "[obd.obd] Query failed, no connection available\n",
      "[obd.obd] Query failed, no connection available\n",
      "[obd.obd] Query failed, no connection available\n",
      "[obd.obd] Query failed, no connection available\n",
      "[obd.obd] Query failed, no connection available\n",
      "[obd.obd] Query failed, no connection available\n",
      "[obd.obd] Query failed, no connection available\n"
     ]
    },
    {
     "name": "stdout",
     "output_type": "stream",
     "text": [
      "RPM is not supported\n",
      "Speed is not supported\n",
      "EngineLoad is not supported\n",
      "CoolantTemp is not supported\n",
      "IntakeTemp is not supported\n",
      "FuelLevel is not supported\n",
      "AmbientTemp is not supported\n",
      "EngineOilTemp is not supported\n",
      "FuelRate is not supported\n"
     ]
    },
    {
     "name": "stderr",
     "output_type": "stream",
     "text": [
      "[obd.obd] Query failed, no connection available\n",
      "[obd.obd] Query failed, no connection available\n",
      "[obd.obd] Query failed, no connection available\n",
      "[obd.obd] Query failed, no connection available\n",
      "[obd.obd] Query failed, no connection available\n",
      "[obd.obd] Query failed, no connection available\n",
      "[obd.obd] Query failed, no connection available\n",
      "[obd.obd] Query failed, no connection available\n",
      "[obd.obd] Query failed, no connection available\n"
     ]
    },
    {
     "name": "stdout",
     "output_type": "stream",
     "text": [
      "RPM is not supported\n",
      "Speed is not supported\n",
      "EngineLoad is not supported\n",
      "CoolantTemp is not supported\n",
      "IntakeTemp is not supported\n",
      "FuelLevel is not supported\n",
      "AmbientTemp is not supported\n",
      "EngineOilTemp is not supported\n",
      "FuelRate is not supported\n"
     ]
    },
    {
     "name": "stderr",
     "output_type": "stream",
     "text": [
      "[obd.obd] Query failed, no connection available\n",
      "[obd.obd] Query failed, no connection available\n",
      "[obd.obd] Query failed, no connection available\n",
      "[obd.obd] Query failed, no connection available\n",
      "[obd.obd] Query failed, no connection available\n",
      "[obd.obd] Query failed, no connection available\n",
      "[obd.obd] Query failed, no connection available\n",
      "[obd.obd] Query failed, no connection available\n",
      "[obd.obd] Query failed, no connection available\n"
     ]
    },
    {
     "name": "stdout",
     "output_type": "stream",
     "text": [
      "RPM is not supported\n",
      "Speed is not supported\n",
      "EngineLoad is not supported\n",
      "CoolantTemp is not supported\n",
      "IntakeTemp is not supported\n",
      "FuelLevel is not supported\n",
      "AmbientTemp is not supported\n",
      "EngineOilTemp is not supported\n",
      "FuelRate is not supported\n"
     ]
    },
    {
     "name": "stderr",
     "output_type": "stream",
     "text": [
      "[obd.obd] Query failed, no connection available\n",
      "[obd.obd] Query failed, no connection available\n",
      "[obd.obd] Query failed, no connection available\n",
      "[obd.obd] Query failed, no connection available\n",
      "[obd.obd] Query failed, no connection available\n",
      "[obd.obd] Query failed, no connection available\n",
      "[obd.obd] Query failed, no connection available\n",
      "[obd.obd] Query failed, no connection available\n",
      "[obd.obd] Query failed, no connection available\n"
     ]
    },
    {
     "name": "stdout",
     "output_type": "stream",
     "text": [
      "RPM is not supported\n",
      "Speed is not supported\n",
      "EngineLoad is not supported\n",
      "CoolantTemp is not supported\n",
      "IntakeTemp is not supported\n",
      "FuelLevel is not supported\n",
      "AmbientTemp is not supported\n",
      "EngineOilTemp is not supported\n",
      "FuelRate is not supported\n"
     ]
    },
    {
     "name": "stderr",
     "output_type": "stream",
     "text": [
      "[obd.obd] Query failed, no connection available\n",
      "[obd.obd] Query failed, no connection available\n",
      "[obd.obd] Query failed, no connection available\n",
      "[obd.obd] Query failed, no connection available\n",
      "[obd.obd] Query failed, no connection available\n",
      "[obd.obd] Query failed, no connection available\n",
      "[obd.obd] Query failed, no connection available\n",
      "[obd.obd] Query failed, no connection available\n",
      "[obd.obd] Query failed, no connection available\n"
     ]
    },
    {
     "name": "stdout",
     "output_type": "stream",
     "text": [
      "RPM is not supported\n",
      "Speed is not supported\n",
      "EngineLoad is not supported\n",
      "CoolantTemp is not supported\n",
      "IntakeTemp is not supported\n",
      "FuelLevel is not supported\n",
      "AmbientTemp is not supported\n",
      "EngineOilTemp is not supported\n",
      "FuelRate is not supported\n"
     ]
    },
    {
     "name": "stderr",
     "output_type": "stream",
     "text": [
      "[obd.obd] Query failed, no connection available\n",
      "[obd.obd] Query failed, no connection available\n",
      "[obd.obd] Query failed, no connection available\n",
      "[obd.obd] Query failed, no connection available\n",
      "[obd.obd] Query failed, no connection available\n",
      "[obd.obd] Query failed, no connection available\n",
      "[obd.obd] Query failed, no connection available\n",
      "[obd.obd] Query failed, no connection available\n",
      "[obd.obd] Query failed, no connection available\n"
     ]
    },
    {
     "name": "stdout",
     "output_type": "stream",
     "text": [
      "RPM is not supported\n",
      "Speed is not supported\n",
      "EngineLoad is not supported\n",
      "CoolantTemp is not supported\n",
      "IntakeTemp is not supported\n",
      "FuelLevel is not supported\n",
      "AmbientTemp is not supported\n",
      "EngineOilTemp is not supported\n",
      "FuelRate is not supported\n"
     ]
    },
    {
     "name": "stderr",
     "output_type": "stream",
     "text": [
      "[obd.obd] Query failed, no connection available\n",
      "[obd.obd] Query failed, no connection available\n",
      "[obd.obd] Query failed, no connection available\n",
      "[obd.obd] Query failed, no connection available\n",
      "[obd.obd] Query failed, no connection available\n",
      "[obd.obd] Query failed, no connection available\n",
      "[obd.obd] Query failed, no connection available\n",
      "[obd.obd] Query failed, no connection available\n",
      "[obd.obd] Query failed, no connection available\n"
     ]
    },
    {
     "name": "stdout",
     "output_type": "stream",
     "text": [
      "RPM is not supported\n",
      "Speed is not supported\n",
      "EngineLoad is not supported\n",
      "CoolantTemp is not supported\n",
      "IntakeTemp is not supported\n",
      "FuelLevel is not supported\n",
      "AmbientTemp is not supported\n",
      "EngineOilTemp is not supported\n",
      "FuelRate is not supported\n"
     ]
    },
    {
     "name": "stderr",
     "output_type": "stream",
     "text": [
      "[obd.obd] Query failed, no connection available\n",
      "[obd.obd] Query failed, no connection available\n",
      "[obd.obd] Query failed, no connection available\n",
      "[obd.obd] Query failed, no connection available\n",
      "[obd.obd] Query failed, no connection available\n",
      "[obd.obd] Query failed, no connection available\n",
      "[obd.obd] Query failed, no connection available\n",
      "[obd.obd] Query failed, no connection available\n",
      "[obd.obd] Query failed, no connection available\n"
     ]
    },
    {
     "name": "stdout",
     "output_type": "stream",
     "text": [
      "RPM is not supported\n",
      "Speed is not supported\n",
      "EngineLoad is not supported\n",
      "CoolantTemp is not supported\n",
      "IntakeTemp is not supported\n",
      "FuelLevel is not supported\n",
      "AmbientTemp is not supported\n",
      "EngineOilTemp is not supported\n",
      "FuelRate is not supported\n"
     ]
    },
    {
     "name": "stderr",
     "output_type": "stream",
     "text": [
      "[obd.obd] Query failed, no connection available\n",
      "[obd.obd] Query failed, no connection available\n",
      "[obd.obd] Query failed, no connection available\n",
      "[obd.obd] Query failed, no connection available\n",
      "[obd.obd] Query failed, no connection available\n",
      "[obd.obd] Query failed, no connection available\n",
      "[obd.obd] Query failed, no connection available\n",
      "[obd.obd] Query failed, no connection available\n",
      "[obd.obd] Query failed, no connection available\n"
     ]
    },
    {
     "name": "stdout",
     "output_type": "stream",
     "text": [
      "RPM is not supported\n",
      "Speed is not supported\n",
      "EngineLoad is not supported\n",
      "CoolantTemp is not supported\n",
      "IntakeTemp is not supported\n",
      "FuelLevel is not supported\n",
      "AmbientTemp is not supported\n",
      "EngineOilTemp is not supported\n",
      "FuelRate is not supported\n"
     ]
    },
    {
     "name": "stderr",
     "output_type": "stream",
     "text": [
      "[obd.obd] Query failed, no connection available\n",
      "[obd.obd] Query failed, no connection available\n",
      "[obd.obd] Query failed, no connection available\n",
      "[obd.obd] Query failed, no connection available\n",
      "[obd.obd] Query failed, no connection available\n",
      "[obd.obd] Query failed, no connection available\n",
      "[obd.obd] Query failed, no connection available\n",
      "[obd.obd] Query failed, no connection available\n",
      "[obd.obd] Query failed, no connection available\n"
     ]
    },
    {
     "name": "stdout",
     "output_type": "stream",
     "text": [
      "RPM is not supported\n",
      "Speed is not supported\n",
      "EngineLoad is not supported\n",
      "CoolantTemp is not supported\n",
      "IntakeTemp is not supported\n",
      "FuelLevel is not supported\n",
      "AmbientTemp is not supported\n",
      "EngineOilTemp is not supported\n",
      "FuelRate is not supported\n"
     ]
    },
    {
     "name": "stderr",
     "output_type": "stream",
     "text": [
      "[obd.obd] Query failed, no connection available\n",
      "[obd.obd] Query failed, no connection available\n",
      "[obd.obd] Query failed, no connection available\n",
      "[obd.obd] Query failed, no connection available\n",
      "[obd.obd] Query failed, no connection available\n",
      "[obd.obd] Query failed, no connection available\n",
      "[obd.obd] Query failed, no connection available\n",
      "[obd.obd] Query failed, no connection available\n",
      "[obd.obd] Query failed, no connection available\n"
     ]
    },
    {
     "name": "stdout",
     "output_type": "stream",
     "text": [
      "RPM is not supported\n",
      "Speed is not supported\n",
      "EngineLoad is not supported\n",
      "CoolantTemp is not supported\n",
      "IntakeTemp is not supported\n",
      "FuelLevel is not supported\n",
      "AmbientTemp is not supported\n",
      "EngineOilTemp is not supported\n",
      "FuelRate is not supported\n"
     ]
    },
    {
     "name": "stderr",
     "output_type": "stream",
     "text": [
      "[obd.obd] Query failed, no connection available\n",
      "[obd.obd] Query failed, no connection available\n",
      "[obd.obd] Query failed, no connection available\n",
      "[obd.obd] Query failed, no connection available\n",
      "[obd.obd] Query failed, no connection available\n",
      "[obd.obd] Query failed, no connection available\n",
      "[obd.obd] Query failed, no connection available\n",
      "[obd.obd] Query failed, no connection available\n",
      "[obd.obd] Query failed, no connection available\n"
     ]
    },
    {
     "name": "stdout",
     "output_type": "stream",
     "text": [
      "RPM is not supported\n",
      "Speed is not supported\n",
      "EngineLoad is not supported\n",
      "CoolantTemp is not supported\n",
      "IntakeTemp is not supported\n",
      "FuelLevel is not supported\n",
      "AmbientTemp is not supported\n",
      "EngineOilTemp is not supported\n",
      "FuelRate is not supported\n"
     ]
    },
    {
     "name": "stderr",
     "output_type": "stream",
     "text": [
      "[obd.obd] Query failed, no connection available\n",
      "[obd.obd] Query failed, no connection available\n",
      "[obd.obd] Query failed, no connection available\n",
      "[obd.obd] Query failed, no connection available\n",
      "[obd.obd] Query failed, no connection available\n",
      "[obd.obd] Query failed, no connection available\n",
      "[obd.obd] Query failed, no connection available\n",
      "[obd.obd] Query failed, no connection available\n",
      "[obd.obd] Query failed, no connection available\n"
     ]
    },
    {
     "name": "stdout",
     "output_type": "stream",
     "text": [
      "RPM is not supported\n",
      "Speed is not supported\n",
      "EngineLoad is not supported\n",
      "CoolantTemp is not supported\n",
      "IntakeTemp is not supported\n",
      "FuelLevel is not supported\n",
      "AmbientTemp is not supported\n",
      "EngineOilTemp is not supported\n",
      "FuelRate is not supported\n"
     ]
    },
    {
     "name": "stderr",
     "output_type": "stream",
     "text": [
      "[obd.obd] Query failed, no connection available\n",
      "[obd.obd] Query failed, no connection available\n",
      "[obd.obd] Query failed, no connection available\n",
      "[obd.obd] Query failed, no connection available\n",
      "[obd.obd] Query failed, no connection available\n",
      "[obd.obd] Query failed, no connection available\n",
      "[obd.obd] Query failed, no connection available\n",
      "[obd.obd] Query failed, no connection available\n",
      "[obd.obd] Query failed, no connection available\n"
     ]
    },
    {
     "name": "stdout",
     "output_type": "stream",
     "text": [
      "RPM is not supported\n",
      "Speed is not supported\n",
      "EngineLoad is not supported\n",
      "CoolantTemp is not supported\n",
      "IntakeTemp is not supported\n",
      "FuelLevel is not supported\n",
      "AmbientTemp is not supported\n",
      "EngineOilTemp is not supported\n",
      "FuelRate is not supported\n"
     ]
    },
    {
     "name": "stderr",
     "output_type": "stream",
     "text": [
      "[obd.obd] Query failed, no connection available\n",
      "[obd.obd] Query failed, no connection available\n",
      "[obd.obd] Query failed, no connection available\n",
      "[obd.obd] Query failed, no connection available\n",
      "[obd.obd] Query failed, no connection available\n",
      "[obd.obd] Query failed, no connection available\n",
      "[obd.obd] Query failed, no connection available\n",
      "[obd.obd] Query failed, no connection available\n",
      "[obd.obd] Query failed, no connection available\n"
     ]
    },
    {
     "name": "stdout",
     "output_type": "stream",
     "text": [
      "RPM is not supported\n",
      "Speed is not supported\n",
      "EngineLoad is not supported\n",
      "CoolantTemp is not supported\n",
      "IntakeTemp is not supported\n",
      "FuelLevel is not supported\n",
      "AmbientTemp is not supported\n",
      "EngineOilTemp is not supported\n",
      "FuelRate is not supported\n"
     ]
    },
    {
     "name": "stderr",
     "output_type": "stream",
     "text": [
      "[obd.obd] Query failed, no connection available\n",
      "[obd.obd] Query failed, no connection available\n",
      "[obd.obd] Query failed, no connection available\n",
      "[obd.obd] Query failed, no connection available\n",
      "[obd.obd] Query failed, no connection available\n",
      "[obd.obd] Query failed, no connection available\n",
      "[obd.obd] Query failed, no connection available\n",
      "[obd.obd] Query failed, no connection available\n",
      "[obd.obd] Query failed, no connection available\n"
     ]
    },
    {
     "name": "stdout",
     "output_type": "stream",
     "text": [
      "RPM is not supported\n",
      "Speed is not supported\n",
      "EngineLoad is not supported\n",
      "CoolantTemp is not supported\n",
      "IntakeTemp is not supported\n",
      "FuelLevel is not supported\n",
      "AmbientTemp is not supported\n",
      "EngineOilTemp is not supported\n",
      "FuelRate is not supported\n"
     ]
    },
    {
     "name": "stderr",
     "output_type": "stream",
     "text": [
      "[obd.obd] Query failed, no connection available\n",
      "[obd.obd] Query failed, no connection available\n",
      "[obd.obd] Query failed, no connection available\n",
      "[obd.obd] Query failed, no connection available\n",
      "[obd.obd] Query failed, no connection available\n",
      "[obd.obd] Query failed, no connection available\n",
      "[obd.obd] Query failed, no connection available\n",
      "[obd.obd] Query failed, no connection available\n",
      "[obd.obd] Query failed, no connection available\n"
     ]
    },
    {
     "name": "stdout",
     "output_type": "stream",
     "text": [
      "RPM is not supported\n",
      "Speed is not supported\n",
      "EngineLoad is not supported\n",
      "CoolantTemp is not supported\n",
      "IntakeTemp is not supported\n",
      "FuelLevel is not supported\n",
      "AmbientTemp is not supported\n",
      "EngineOilTemp is not supported\n",
      "FuelRate is not supported\n"
     ]
    },
    {
     "name": "stderr",
     "output_type": "stream",
     "text": [
      "[obd.obd] Query failed, no connection available\n",
      "[obd.obd] Query failed, no connection available\n",
      "[obd.obd] Query failed, no connection available\n",
      "[obd.obd] Query failed, no connection available\n",
      "[obd.obd] Query failed, no connection available\n",
      "[obd.obd] Query failed, no connection available\n",
      "[obd.obd] Query failed, no connection available\n",
      "[obd.obd] Query failed, no connection available\n",
      "[obd.obd] Query failed, no connection available\n"
     ]
    },
    {
     "name": "stdout",
     "output_type": "stream",
     "text": [
      "RPM is not supported\n",
      "Speed is not supported\n",
      "EngineLoad is not supported\n",
      "CoolantTemp is not supported\n",
      "IntakeTemp is not supported\n",
      "FuelLevel is not supported\n",
      "AmbientTemp is not supported\n",
      "EngineOilTemp is not supported\n",
      "FuelRate is not supported\n"
     ]
    },
    {
     "name": "stderr",
     "output_type": "stream",
     "text": [
      "[obd.obd] Query failed, no connection available\n",
      "[obd.obd] Query failed, no connection available\n",
      "[obd.obd] Query failed, no connection available\n",
      "[obd.obd] Query failed, no connection available\n",
      "[obd.obd] Query failed, no connection available\n",
      "[obd.obd] Query failed, no connection available\n",
      "[obd.obd] Query failed, no connection available\n",
      "[obd.obd] Query failed, no connection available\n",
      "[obd.obd] Query failed, no connection available\n"
     ]
    },
    {
     "name": "stdout",
     "output_type": "stream",
     "text": [
      "RPM is not supported\n",
      "Speed is not supported\n",
      "EngineLoad is not supported\n",
      "CoolantTemp is not supported\n",
      "IntakeTemp is not supported\n",
      "FuelLevel is not supported\n",
      "AmbientTemp is not supported\n",
      "EngineOilTemp is not supported\n",
      "FuelRate is not supported\n"
     ]
    },
    {
     "name": "stderr",
     "output_type": "stream",
     "text": [
      "[obd.obd] Query failed, no connection available\n",
      "[obd.obd] Query failed, no connection available\n",
      "[obd.obd] Query failed, no connection available\n",
      "[obd.obd] Query failed, no connection available\n",
      "[obd.obd] Query failed, no connection available\n",
      "[obd.obd] Query failed, no connection available\n",
      "[obd.obd] Query failed, no connection available\n",
      "[obd.obd] Query failed, no connection available\n",
      "[obd.obd] Query failed, no connection available\n"
     ]
    },
    {
     "name": "stdout",
     "output_type": "stream",
     "text": [
      "RPM is not supported\n",
      "Speed is not supported\n",
      "EngineLoad is not supported\n",
      "CoolantTemp is not supported\n",
      "IntakeTemp is not supported\n",
      "FuelLevel is not supported\n",
      "AmbientTemp is not supported\n",
      "EngineOilTemp is not supported\n",
      "FuelRate is not supported\n"
     ]
    },
    {
     "name": "stderr",
     "output_type": "stream",
     "text": [
      "[obd.obd] Query failed, no connection available\n",
      "[obd.obd] Query failed, no connection available\n",
      "[obd.obd] Query failed, no connection available\n",
      "[obd.obd] Query failed, no connection available\n",
      "[obd.obd] Query failed, no connection available\n",
      "[obd.obd] Query failed, no connection available\n",
      "[obd.obd] Query failed, no connection available\n",
      "[obd.obd] Query failed, no connection available\n",
      "[obd.obd] Query failed, no connection available\n"
     ]
    },
    {
     "name": "stdout",
     "output_type": "stream",
     "text": [
      "RPM is not supported\n",
      "Speed is not supported\n",
      "EngineLoad is not supported\n",
      "CoolantTemp is not supported\n",
      "IntakeTemp is not supported\n",
      "FuelLevel is not supported\n",
      "AmbientTemp is not supported\n",
      "EngineOilTemp is not supported\n",
      "FuelRate is not supported\n"
     ]
    },
    {
     "name": "stderr",
     "output_type": "stream",
     "text": [
      "[obd.obd] Query failed, no connection available\n",
      "[obd.obd] Query failed, no connection available\n",
      "[obd.obd] Query failed, no connection available\n",
      "[obd.obd] Query failed, no connection available\n",
      "[obd.obd] Query failed, no connection available\n",
      "[obd.obd] Query failed, no connection available\n",
      "[obd.obd] Query failed, no connection available\n",
      "[obd.obd] Query failed, no connection available\n",
      "[obd.obd] Query failed, no connection available\n"
     ]
    },
    {
     "name": "stdout",
     "output_type": "stream",
     "text": [
      "RPM is not supported\n",
      "Speed is not supported\n",
      "EngineLoad is not supported\n",
      "CoolantTemp is not supported\n",
      "IntakeTemp is not supported\n",
      "FuelLevel is not supported\n",
      "AmbientTemp is not supported\n",
      "EngineOilTemp is not supported\n",
      "FuelRate is not supported\n"
     ]
    },
    {
     "name": "stderr",
     "output_type": "stream",
     "text": [
      "[obd.obd] Query failed, no connection available\n",
      "[obd.obd] Query failed, no connection available\n",
      "[obd.obd] Query failed, no connection available\n",
      "[obd.obd] Query failed, no connection available\n",
      "[obd.obd] Query failed, no connection available\n",
      "[obd.obd] Query failed, no connection available\n",
      "[obd.obd] Query failed, no connection available\n",
      "[obd.obd] Query failed, no connection available\n",
      "[obd.obd] Query failed, no connection available\n"
     ]
    },
    {
     "name": "stdout",
     "output_type": "stream",
     "text": [
      "RPM is not supported\n",
      "Speed is not supported\n",
      "EngineLoad is not supported\n",
      "CoolantTemp is not supported\n",
      "IntakeTemp is not supported\n",
      "FuelLevel is not supported\n",
      "AmbientTemp is not supported\n",
      "EngineOilTemp is not supported\n",
      "FuelRate is not supported\n"
     ]
    },
    {
     "name": "stderr",
     "output_type": "stream",
     "text": [
      "[obd.obd] Query failed, no connection available\n",
      "[obd.obd] Query failed, no connection available\n",
      "[obd.obd] Query failed, no connection available\n",
      "[obd.obd] Query failed, no connection available\n",
      "[obd.obd] Query failed, no connection available\n",
      "[obd.obd] Query failed, no connection available\n",
      "[obd.obd] Query failed, no connection available\n",
      "[obd.obd] Query failed, no connection available\n",
      "[obd.obd] Query failed, no connection available\n"
     ]
    },
    {
     "name": "stdout",
     "output_type": "stream",
     "text": [
      "RPM is not supported\n",
      "Speed is not supported\n",
      "EngineLoad is not supported\n",
      "CoolantTemp is not supported\n",
      "IntakeTemp is not supported\n",
      "FuelLevel is not supported\n",
      "AmbientTemp is not supported\n",
      "EngineOilTemp is not supported\n",
      "FuelRate is not supported\n"
     ]
    },
    {
     "name": "stderr",
     "output_type": "stream",
     "text": [
      "[obd.obd] Query failed, no connection available\n",
      "[obd.obd] Query failed, no connection available\n",
      "[obd.obd] Query failed, no connection available\n",
      "[obd.obd] Query failed, no connection available\n",
      "[obd.obd] Query failed, no connection available\n",
      "[obd.obd] Query failed, no connection available\n",
      "[obd.obd] Query failed, no connection available\n",
      "[obd.obd] Query failed, no connection available\n",
      "[obd.obd] Query failed, no connection available\n"
     ]
    },
    {
     "name": "stdout",
     "output_type": "stream",
     "text": [
      "RPM is not supported\n",
      "Speed is not supported\n",
      "EngineLoad is not supported\n",
      "CoolantTemp is not supported\n",
      "IntakeTemp is not supported\n",
      "FuelLevel is not supported\n",
      "AmbientTemp is not supported\n",
      "EngineOilTemp is not supported\n",
      "FuelRate is not supported\n"
     ]
    },
    {
     "name": "stderr",
     "output_type": "stream",
     "text": [
      "[obd.obd] Query failed, no connection available\n",
      "[obd.obd] Query failed, no connection available\n",
      "[obd.obd] Query failed, no connection available\n",
      "[obd.obd] Query failed, no connection available\n",
      "[obd.obd] Query failed, no connection available\n",
      "[obd.obd] Query failed, no connection available\n",
      "[obd.obd] Query failed, no connection available\n",
      "[obd.obd] Query failed, no connection available\n",
      "[obd.obd] Query failed, no connection available\n"
     ]
    },
    {
     "name": "stdout",
     "output_type": "stream",
     "text": [
      "RPM is not supported\n",
      "Speed is not supported\n",
      "EngineLoad is not supported\n",
      "CoolantTemp is not supported\n",
      "IntakeTemp is not supported\n",
      "FuelLevel is not supported\n",
      "AmbientTemp is not supported\n",
      "EngineOilTemp is not supported\n",
      "FuelRate is not supported\n"
     ]
    },
    {
     "name": "stderr",
     "output_type": "stream",
     "text": [
      "[obd.obd] Query failed, no connection available\n",
      "[obd.obd] Query failed, no connection available\n",
      "[obd.obd] Query failed, no connection available\n",
      "[obd.obd] Query failed, no connection available\n",
      "[obd.obd] Query failed, no connection available\n",
      "[obd.obd] Query failed, no connection available\n",
      "[obd.obd] Query failed, no connection available\n",
      "[obd.obd] Query failed, no connection available\n",
      "[obd.obd] Query failed, no connection available\n"
     ]
    },
    {
     "name": "stdout",
     "output_type": "stream",
     "text": [
      "RPM is not supported\n",
      "Speed is not supported\n",
      "EngineLoad is not supported\n",
      "CoolantTemp is not supported\n",
      "IntakeTemp is not supported\n",
      "FuelLevel is not supported\n",
      "AmbientTemp is not supported\n",
      "EngineOilTemp is not supported\n",
      "FuelRate is not supported\n"
     ]
    },
    {
     "name": "stderr",
     "output_type": "stream",
     "text": [
      "[obd.obd] Query failed, no connection available\n",
      "[obd.obd] Query failed, no connection available\n",
      "[obd.obd] Query failed, no connection available\n",
      "[obd.obd] Query failed, no connection available\n",
      "[obd.obd] Query failed, no connection available\n",
      "[obd.obd] Query failed, no connection available\n",
      "[obd.obd] Query failed, no connection available\n",
      "[obd.obd] Query failed, no connection available\n",
      "[obd.obd] Query failed, no connection available\n"
     ]
    },
    {
     "name": "stdout",
     "output_type": "stream",
     "text": [
      "RPM is not supported\n",
      "Speed is not supported\n",
      "EngineLoad is not supported\n",
      "CoolantTemp is not supported\n",
      "IntakeTemp is not supported\n",
      "FuelLevel is not supported\n",
      "AmbientTemp is not supported\n",
      "EngineOilTemp is not supported\n",
      "FuelRate is not supported\n"
     ]
    },
    {
     "name": "stderr",
     "output_type": "stream",
     "text": [
      "[obd.obd] Query failed, no connection available\n",
      "[obd.obd] Query failed, no connection available\n",
      "[obd.obd] Query failed, no connection available\n",
      "[obd.obd] Query failed, no connection available\n",
      "[obd.obd] Query failed, no connection available\n",
      "[obd.obd] Query failed, no connection available\n",
      "[obd.obd] Query failed, no connection available\n",
      "[obd.obd] Query failed, no connection available\n",
      "[obd.obd] Query failed, no connection available\n"
     ]
    },
    {
     "name": "stdout",
     "output_type": "stream",
     "text": [
      "RPM is not supported\n",
      "Speed is not supported\n",
      "EngineLoad is not supported\n",
      "CoolantTemp is not supported\n",
      "IntakeTemp is not supported\n",
      "FuelLevel is not supported\n",
      "AmbientTemp is not supported\n",
      "EngineOilTemp is not supported\n",
      "FuelRate is not supported\n"
     ]
    },
    {
     "name": "stderr",
     "output_type": "stream",
     "text": [
      "[obd.obd] Query failed, no connection available\n",
      "[obd.obd] Query failed, no connection available\n",
      "[obd.obd] Query failed, no connection available\n",
      "[obd.obd] Query failed, no connection available\n",
      "[obd.obd] Query failed, no connection available\n",
      "[obd.obd] Query failed, no connection available\n",
      "[obd.obd] Query failed, no connection available\n",
      "[obd.obd] Query failed, no connection available\n",
      "[obd.obd] Query failed, no connection available\n"
     ]
    },
    {
     "name": "stdout",
     "output_type": "stream",
     "text": [
      "RPM is not supported\n",
      "Speed is not supported\n",
      "EngineLoad is not supported\n",
      "CoolantTemp is not supported\n",
      "IntakeTemp is not supported\n",
      "FuelLevel is not supported\n",
      "AmbientTemp is not supported\n",
      "EngineOilTemp is not supported\n",
      "FuelRate is not supported\n"
     ]
    },
    {
     "name": "stderr",
     "output_type": "stream",
     "text": [
      "[obd.obd] Query failed, no connection available\n",
      "[obd.obd] Query failed, no connection available\n",
      "[obd.obd] Query failed, no connection available\n",
      "[obd.obd] Query failed, no connection available\n",
      "[obd.obd] Query failed, no connection available\n",
      "[obd.obd] Query failed, no connection available\n",
      "[obd.obd] Query failed, no connection available\n",
      "[obd.obd] Query failed, no connection available\n",
      "[obd.obd] Query failed, no connection available\n"
     ]
    },
    {
     "name": "stdout",
     "output_type": "stream",
     "text": [
      "RPM is not supported\n",
      "Speed is not supported\n",
      "EngineLoad is not supported\n",
      "CoolantTemp is not supported\n",
      "IntakeTemp is not supported\n",
      "FuelLevel is not supported\n",
      "AmbientTemp is not supported\n",
      "EngineOilTemp is not supported\n",
      "FuelRate is not supported\n"
     ]
    },
    {
     "name": "stderr",
     "output_type": "stream",
     "text": [
      "[obd.obd] Query failed, no connection available\n",
      "[obd.obd] Query failed, no connection available\n",
      "[obd.obd] Query failed, no connection available\n",
      "[obd.obd] Query failed, no connection available\n",
      "[obd.obd] Query failed, no connection available\n",
      "[obd.obd] Query failed, no connection available\n",
      "[obd.obd] Query failed, no connection available\n",
      "[obd.obd] Query failed, no connection available\n",
      "[obd.obd] Query failed, no connection available\n"
     ]
    },
    {
     "name": "stdout",
     "output_type": "stream",
     "text": [
      "RPM is not supported\n",
      "Speed is not supported\n",
      "EngineLoad is not supported\n",
      "CoolantTemp is not supported\n",
      "IntakeTemp is not supported\n",
      "FuelLevel is not supported\n",
      "AmbientTemp is not supported\n",
      "EngineOilTemp is not supported\n",
      "FuelRate is not supported\n"
     ]
    },
    {
     "name": "stderr",
     "output_type": "stream",
     "text": [
      "[obd.obd] Query failed, no connection available\n",
      "[obd.obd] Query failed, no connection available\n",
      "[obd.obd] Query failed, no connection available\n",
      "[obd.obd] Query failed, no connection available\n",
      "[obd.obd] Query failed, no connection available\n",
      "[obd.obd] Query failed, no connection available\n",
      "[obd.obd] Query failed, no connection available\n",
      "[obd.obd] Query failed, no connection available\n",
      "[obd.obd] Query failed, no connection available\n"
     ]
    },
    {
     "name": "stdout",
     "output_type": "stream",
     "text": [
      "RPM is not supported\n",
      "Speed is not supported\n",
      "EngineLoad is not supported\n",
      "CoolantTemp is not supported\n",
      "IntakeTemp is not supported\n",
      "FuelLevel is not supported\n",
      "AmbientTemp is not supported\n",
      "EngineOilTemp is not supported\n",
      "FuelRate is not supported\n"
     ]
    },
    {
     "name": "stderr",
     "output_type": "stream",
     "text": [
      "[obd.obd] Query failed, no connection available\n",
      "[obd.obd] Query failed, no connection available\n",
      "[obd.obd] Query failed, no connection available\n",
      "[obd.obd] Query failed, no connection available\n",
      "[obd.obd] Query failed, no connection available\n",
      "[obd.obd] Query failed, no connection available\n",
      "[obd.obd] Query failed, no connection available\n",
      "[obd.obd] Query failed, no connection available\n",
      "[obd.obd] Query failed, no connection available\n"
     ]
    },
    {
     "name": "stdout",
     "output_type": "stream",
     "text": [
      "RPM is not supported\n",
      "Speed is not supported\n",
      "EngineLoad is not supported\n",
      "CoolantTemp is not supported\n",
      "IntakeTemp is not supported\n",
      "FuelLevel is not supported\n",
      "AmbientTemp is not supported\n",
      "EngineOilTemp is not supported\n",
      "FuelRate is not supported\n"
     ]
    },
    {
     "name": "stderr",
     "output_type": "stream",
     "text": [
      "[obd.obd] Query failed, no connection available\n",
      "[obd.obd] Query failed, no connection available\n",
      "[obd.obd] Query failed, no connection available\n",
      "[obd.obd] Query failed, no connection available\n",
      "[obd.obd] Query failed, no connection available\n",
      "[obd.obd] Query failed, no connection available\n",
      "[obd.obd] Query failed, no connection available\n",
      "[obd.obd] Query failed, no connection available\n",
      "[obd.obd] Query failed, no connection available\n"
     ]
    },
    {
     "name": "stdout",
     "output_type": "stream",
     "text": [
      "RPM is not supported\n",
      "Speed is not supported\n",
      "EngineLoad is not supported\n",
      "CoolantTemp is not supported\n",
      "IntakeTemp is not supported\n",
      "FuelLevel is not supported\n",
      "AmbientTemp is not supported\n",
      "EngineOilTemp is not supported\n",
      "FuelRate is not supported\n"
     ]
    },
    {
     "name": "stderr",
     "output_type": "stream",
     "text": [
      "[obd.obd] Query failed, no connection available\n",
      "[obd.obd] Query failed, no connection available\n",
      "[obd.obd] Query failed, no connection available\n",
      "[obd.obd] Query failed, no connection available\n",
      "[obd.obd] Query failed, no connection available\n",
      "[obd.obd] Query failed, no connection available\n",
      "[obd.obd] Query failed, no connection available\n",
      "[obd.obd] Query failed, no connection available\n",
      "[obd.obd] Query failed, no connection available\n"
     ]
    },
    {
     "name": "stdout",
     "output_type": "stream",
     "text": [
      "RPM is not supported\n",
      "Speed is not supported\n",
      "EngineLoad is not supported\n",
      "CoolantTemp is not supported\n",
      "IntakeTemp is not supported\n",
      "FuelLevel is not supported\n",
      "AmbientTemp is not supported\n",
      "EngineOilTemp is not supported\n",
      "FuelRate is not supported\n"
     ]
    },
    {
     "name": "stderr",
     "output_type": "stream",
     "text": [
      "[obd.obd] Query failed, no connection available\n",
      "[obd.obd] Query failed, no connection available\n",
      "[obd.obd] Query failed, no connection available\n",
      "[obd.obd] Query failed, no connection available\n",
      "[obd.obd] Query failed, no connection available\n",
      "[obd.obd] Query failed, no connection available\n",
      "[obd.obd] Query failed, no connection available\n",
      "[obd.obd] Query failed, no connection available\n",
      "[obd.obd] Query failed, no connection available\n"
     ]
    },
    {
     "name": "stdout",
     "output_type": "stream",
     "text": [
      "RPM is not supported\n",
      "Speed is not supported\n",
      "EngineLoad is not supported\n",
      "CoolantTemp is not supported\n",
      "IntakeTemp is not supported\n",
      "FuelLevel is not supported\n",
      "AmbientTemp is not supported\n",
      "EngineOilTemp is not supported\n",
      "FuelRate is not supported\n"
     ]
    },
    {
     "name": "stderr",
     "output_type": "stream",
     "text": [
      "[obd.obd] Query failed, no connection available\n",
      "[obd.obd] Query failed, no connection available\n",
      "[obd.obd] Query failed, no connection available\n",
      "[obd.obd] Query failed, no connection available\n",
      "[obd.obd] Query failed, no connection available\n",
      "[obd.obd] Query failed, no connection available\n",
      "[obd.obd] Query failed, no connection available\n",
      "[obd.obd] Query failed, no connection available\n",
      "[obd.obd] Query failed, no connection available\n"
     ]
    },
    {
     "name": "stdout",
     "output_type": "stream",
     "text": [
      "RPM is not supported\n",
      "Speed is not supported\n",
      "EngineLoad is not supported\n",
      "CoolantTemp is not supported\n",
      "IntakeTemp is not supported\n",
      "FuelLevel is not supported\n",
      "AmbientTemp is not supported\n",
      "EngineOilTemp is not supported\n",
      "FuelRate is not supported\n"
     ]
    },
    {
     "name": "stderr",
     "output_type": "stream",
     "text": [
      "[obd.obd] Query failed, no connection available\n",
      "[obd.obd] Query failed, no connection available\n",
      "[obd.obd] Query failed, no connection available\n",
      "[obd.obd] Query failed, no connection available\n",
      "[obd.obd] Query failed, no connection available\n",
      "[obd.obd] Query failed, no connection available\n",
      "[obd.obd] Query failed, no connection available\n",
      "[obd.obd] Query failed, no connection available\n",
      "[obd.obd] Query failed, no connection available\n"
     ]
    },
    {
     "name": "stdout",
     "output_type": "stream",
     "text": [
      "RPM is not supported\n",
      "Speed is not supported\n",
      "EngineLoad is not supported\n",
      "CoolantTemp is not supported\n",
      "IntakeTemp is not supported\n",
      "FuelLevel is not supported\n",
      "AmbientTemp is not supported\n",
      "EngineOilTemp is not supported\n",
      "FuelRate is not supported\n"
     ]
    },
    {
     "name": "stderr",
     "output_type": "stream",
     "text": [
      "[obd.obd] Query failed, no connection available\n",
      "[obd.obd] Query failed, no connection available\n",
      "[obd.obd] Query failed, no connection available\n",
      "[obd.obd] Query failed, no connection available\n",
      "[obd.obd] Query failed, no connection available\n",
      "[obd.obd] Query failed, no connection available\n",
      "[obd.obd] Query failed, no connection available\n",
      "[obd.obd] Query failed, no connection available\n",
      "[obd.obd] Query failed, no connection available\n"
     ]
    },
    {
     "name": "stdout",
     "output_type": "stream",
     "text": [
      "RPM is not supported\n",
      "Speed is not supported\n",
      "EngineLoad is not supported\n",
      "CoolantTemp is not supported\n",
      "IntakeTemp is not supported\n",
      "FuelLevel is not supported\n",
      "AmbientTemp is not supported\n",
      "EngineOilTemp is not supported\n",
      "FuelRate is not supported\n"
     ]
    },
    {
     "name": "stderr",
     "output_type": "stream",
     "text": [
      "[obd.obd] Query failed, no connection available\n",
      "[obd.obd] Query failed, no connection available\n",
      "[obd.obd] Query failed, no connection available\n",
      "[obd.obd] Query failed, no connection available\n",
      "[obd.obd] Query failed, no connection available\n",
      "[obd.obd] Query failed, no connection available\n",
      "[obd.obd] Query failed, no connection available\n",
      "[obd.obd] Query failed, no connection available\n",
      "[obd.obd] Query failed, no connection available\n"
     ]
    },
    {
     "name": "stdout",
     "output_type": "stream",
     "text": [
      "RPM is not supported\n",
      "Speed is not supported\n",
      "EngineLoad is not supported\n",
      "CoolantTemp is not supported\n",
      "IntakeTemp is not supported\n",
      "FuelLevel is not supported\n",
      "AmbientTemp is not supported\n",
      "EngineOilTemp is not supported\n",
      "FuelRate is not supported\n"
     ]
    },
    {
     "name": "stderr",
     "output_type": "stream",
     "text": [
      "[obd.obd] Query failed, no connection available\n",
      "[obd.obd] Query failed, no connection available\n",
      "[obd.obd] Query failed, no connection available\n",
      "[obd.obd] Query failed, no connection available\n",
      "[obd.obd] Query failed, no connection available\n",
      "[obd.obd] Query failed, no connection available\n",
      "[obd.obd] Query failed, no connection available\n",
      "[obd.obd] Query failed, no connection available\n",
      "[obd.obd] Query failed, no connection available\n"
     ]
    },
    {
     "name": "stdout",
     "output_type": "stream",
     "text": [
      "RPM is not supported\n",
      "Speed is not supported\n",
      "EngineLoad is not supported\n",
      "CoolantTemp is not supported\n",
      "IntakeTemp is not supported\n",
      "FuelLevel is not supported\n",
      "AmbientTemp is not supported\n",
      "EngineOilTemp is not supported\n",
      "FuelRate is not supported\n"
     ]
    },
    {
     "name": "stderr",
     "output_type": "stream",
     "text": [
      "[obd.obd] Query failed, no connection available\n",
      "[obd.obd] Query failed, no connection available\n",
      "[obd.obd] Query failed, no connection available\n",
      "[obd.obd] Query failed, no connection available\n",
      "[obd.obd] Query failed, no connection available\n",
      "[obd.obd] Query failed, no connection available\n",
      "[obd.obd] Query failed, no connection available\n",
      "[obd.obd] Query failed, no connection available\n",
      "[obd.obd] Query failed, no connection available\n"
     ]
    },
    {
     "name": "stdout",
     "output_type": "stream",
     "text": [
      "RPM is not supported\n",
      "Speed is not supported\n",
      "EngineLoad is not supported\n",
      "CoolantTemp is not supported\n",
      "IntakeTemp is not supported\n",
      "FuelLevel is not supported\n",
      "AmbientTemp is not supported\n",
      "EngineOilTemp is not supported\n",
      "FuelRate is not supported\n"
     ]
    },
    {
     "name": "stderr",
     "output_type": "stream",
     "text": [
      "[obd.obd] Query failed, no connection available\n",
      "[obd.obd] Query failed, no connection available\n",
      "[obd.obd] Query failed, no connection available\n",
      "[obd.obd] Query failed, no connection available\n",
      "[obd.obd] Query failed, no connection available\n",
      "[obd.obd] Query failed, no connection available\n",
      "[obd.obd] Query failed, no connection available\n",
      "[obd.obd] Query failed, no connection available\n",
      "[obd.obd] Query failed, no connection available\n"
     ]
    },
    {
     "name": "stdout",
     "output_type": "stream",
     "text": [
      "RPM is not supported\n",
      "Speed is not supported\n",
      "EngineLoad is not supported\n",
      "CoolantTemp is not supported\n",
      "IntakeTemp is not supported\n",
      "FuelLevel is not supported\n",
      "AmbientTemp is not supported\n",
      "EngineOilTemp is not supported\n",
      "FuelRate is not supported\n"
     ]
    },
    {
     "name": "stderr",
     "output_type": "stream",
     "text": [
      "[obd.obd] Query failed, no connection available\n",
      "[obd.obd] Query failed, no connection available\n",
      "[obd.obd] Query failed, no connection available\n",
      "[obd.obd] Query failed, no connection available\n",
      "[obd.obd] Query failed, no connection available\n",
      "[obd.obd] Query failed, no connection available\n",
      "[obd.obd] Query failed, no connection available\n",
      "[obd.obd] Query failed, no connection available\n",
      "[obd.obd] Query failed, no connection available\n"
     ]
    },
    {
     "name": "stdout",
     "output_type": "stream",
     "text": [
      "RPM is not supported\n",
      "Speed is not supported\n",
      "EngineLoad is not supported\n",
      "CoolantTemp is not supported\n",
      "IntakeTemp is not supported\n",
      "FuelLevel is not supported\n",
      "AmbientTemp is not supported\n",
      "EngineOilTemp is not supported\n",
      "FuelRate is not supported\n"
     ]
    },
    {
     "name": "stderr",
     "output_type": "stream",
     "text": [
      "[obd.obd] Query failed, no connection available\n",
      "[obd.obd] Query failed, no connection available\n",
      "[obd.obd] Query failed, no connection available\n",
      "[obd.obd] Query failed, no connection available\n",
      "[obd.obd] Query failed, no connection available\n",
      "[obd.obd] Query failed, no connection available\n",
      "[obd.obd] Query failed, no connection available\n",
      "[obd.obd] Query failed, no connection available\n",
      "[obd.obd] Query failed, no connection available\n"
     ]
    },
    {
     "name": "stdout",
     "output_type": "stream",
     "text": [
      "RPM is not supported\n",
      "Speed is not supported\n",
      "EngineLoad is not supported\n",
      "CoolantTemp is not supported\n",
      "IntakeTemp is not supported\n",
      "FuelLevel is not supported\n",
      "AmbientTemp is not supported\n",
      "EngineOilTemp is not supported\n",
      "FuelRate is not supported\n"
     ]
    },
    {
     "name": "stderr",
     "output_type": "stream",
     "text": [
      "[obd.obd] Query failed, no connection available\n",
      "[obd.obd] Query failed, no connection available\n",
      "[obd.obd] Query failed, no connection available\n",
      "[obd.obd] Query failed, no connection available\n",
      "[obd.obd] Query failed, no connection available\n",
      "[obd.obd] Query failed, no connection available\n",
      "[obd.obd] Query failed, no connection available\n",
      "[obd.obd] Query failed, no connection available\n",
      "[obd.obd] Query failed, no connection available\n"
     ]
    },
    {
     "name": "stdout",
     "output_type": "stream",
     "text": [
      "RPM is not supported\n",
      "Speed is not supported\n",
      "EngineLoad is not supported\n",
      "CoolantTemp is not supported\n",
      "IntakeTemp is not supported\n",
      "FuelLevel is not supported\n",
      "AmbientTemp is not supported\n",
      "EngineOilTemp is not supported\n",
      "FuelRate is not supported\n"
     ]
    },
    {
     "name": "stderr",
     "output_type": "stream",
     "text": [
      "[obd.obd] Query failed, no connection available\n",
      "[obd.obd] Query failed, no connection available\n",
      "[obd.obd] Query failed, no connection available\n",
      "[obd.obd] Query failed, no connection available\n",
      "[obd.obd] Query failed, no connection available\n",
      "[obd.obd] Query failed, no connection available\n",
      "[obd.obd] Query failed, no connection available\n",
      "[obd.obd] Query failed, no connection available\n",
      "[obd.obd] Query failed, no connection available\n"
     ]
    },
    {
     "name": "stdout",
     "output_type": "stream",
     "text": [
      "RPM is not supported\n",
      "Speed is not supported\n",
      "EngineLoad is not supported\n",
      "CoolantTemp is not supported\n",
      "IntakeTemp is not supported\n",
      "FuelLevel is not supported\n",
      "AmbientTemp is not supported\n",
      "EngineOilTemp is not supported\n",
      "FuelRate is not supported\n"
     ]
    },
    {
     "name": "stderr",
     "output_type": "stream",
     "text": [
      "[obd.obd] Query failed, no connection available\n",
      "[obd.obd] Query failed, no connection available\n",
      "[obd.obd] Query failed, no connection available\n",
      "[obd.obd] Query failed, no connection available\n",
      "[obd.obd] Query failed, no connection available\n",
      "[obd.obd] Query failed, no connection available\n",
      "[obd.obd] Query failed, no connection available\n",
      "[obd.obd] Query failed, no connection available\n",
      "[obd.obd] Query failed, no connection available\n"
     ]
    },
    {
     "name": "stdout",
     "output_type": "stream",
     "text": [
      "RPM is not supported\n",
      "Speed is not supported\n",
      "EngineLoad is not supported\n",
      "CoolantTemp is not supported\n",
      "IntakeTemp is not supported\n",
      "FuelLevel is not supported\n",
      "AmbientTemp is not supported\n",
      "EngineOilTemp is not supported\n",
      "FuelRate is not supported\n"
     ]
    },
    {
     "name": "stderr",
     "output_type": "stream",
     "text": [
      "[obd.obd] Query failed, no connection available\n",
      "[obd.obd] Query failed, no connection available\n",
      "[obd.obd] Query failed, no connection available\n",
      "[obd.obd] Query failed, no connection available\n",
      "[obd.obd] Query failed, no connection available\n",
      "[obd.obd] Query failed, no connection available\n",
      "[obd.obd] Query failed, no connection available\n",
      "[obd.obd] Query failed, no connection available\n",
      "[obd.obd] Query failed, no connection available\n"
     ]
    },
    {
     "name": "stdout",
     "output_type": "stream",
     "text": [
      "RPM is not supported\n",
      "Speed is not supported\n",
      "EngineLoad is not supported\n",
      "CoolantTemp is not supported\n",
      "IntakeTemp is not supported\n",
      "FuelLevel is not supported\n",
      "AmbientTemp is not supported\n",
      "EngineOilTemp is not supported\n",
      "FuelRate is not supported\n"
     ]
    },
    {
     "name": "stderr",
     "output_type": "stream",
     "text": [
      "[obd.obd] Query failed, no connection available\n",
      "[obd.obd] Query failed, no connection available\n",
      "[obd.obd] Query failed, no connection available\n",
      "[obd.obd] Query failed, no connection available\n",
      "[obd.obd] Query failed, no connection available\n",
      "[obd.obd] Query failed, no connection available\n",
      "[obd.obd] Query failed, no connection available\n",
      "[obd.obd] Query failed, no connection available\n",
      "[obd.obd] Query failed, no connection available\n"
     ]
    },
    {
     "name": "stdout",
     "output_type": "stream",
     "text": [
      "RPM is not supported\n",
      "Speed is not supported\n",
      "EngineLoad is not supported\n",
      "CoolantTemp is not supported\n",
      "IntakeTemp is not supported\n",
      "FuelLevel is not supported\n",
      "AmbientTemp is not supported\n",
      "EngineOilTemp is not supported\n",
      "FuelRate is not supported\n"
     ]
    },
    {
     "name": "stderr",
     "output_type": "stream",
     "text": [
      "[obd.obd] Query failed, no connection available\n",
      "[obd.obd] Query failed, no connection available\n",
      "[obd.obd] Query failed, no connection available\n",
      "[obd.obd] Query failed, no connection available\n",
      "[obd.obd] Query failed, no connection available\n",
      "[obd.obd] Query failed, no connection available\n",
      "[obd.obd] Query failed, no connection available\n",
      "[obd.obd] Query failed, no connection available\n",
      "[obd.obd] Query failed, no connection available\n"
     ]
    },
    {
     "name": "stdout",
     "output_type": "stream",
     "text": [
      "RPM is not supported\n",
      "Speed is not supported\n",
      "EngineLoad is not supported\n",
      "CoolantTemp is not supported\n",
      "IntakeTemp is not supported\n",
      "FuelLevel is not supported\n",
      "AmbientTemp is not supported\n",
      "EngineOilTemp is not supported\n",
      "FuelRate is not supported\n"
     ]
    },
    {
     "name": "stderr",
     "output_type": "stream",
     "text": [
      "[obd.obd] Query failed, no connection available\n",
      "[obd.obd] Query failed, no connection available\n",
      "[obd.obd] Query failed, no connection available\n",
      "[obd.obd] Query failed, no connection available\n",
      "[obd.obd] Query failed, no connection available\n",
      "[obd.obd] Query failed, no connection available\n",
      "[obd.obd] Query failed, no connection available\n",
      "[obd.obd] Query failed, no connection available\n",
      "[obd.obd] Query failed, no connection available\n"
     ]
    },
    {
     "name": "stdout",
     "output_type": "stream",
     "text": [
      "RPM is not supported\n",
      "Speed is not supported\n",
      "EngineLoad is not supported\n",
      "CoolantTemp is not supported\n",
      "IntakeTemp is not supported\n",
      "FuelLevel is not supported\n",
      "AmbientTemp is not supported\n",
      "EngineOilTemp is not supported\n",
      "FuelRate is not supported\n"
     ]
    },
    {
     "name": "stderr",
     "output_type": "stream",
     "text": [
      "[obd.obd] Query failed, no connection available\n",
      "[obd.obd] Query failed, no connection available\n",
      "[obd.obd] Query failed, no connection available\n",
      "[obd.obd] Query failed, no connection available\n",
      "[obd.obd] Query failed, no connection available\n",
      "[obd.obd] Query failed, no connection available\n",
      "[obd.obd] Query failed, no connection available\n",
      "[obd.obd] Query failed, no connection available\n",
      "[obd.obd] Query failed, no connection available\n"
     ]
    },
    {
     "name": "stdout",
     "output_type": "stream",
     "text": [
      "RPM is not supported\n",
      "Speed is not supported\n",
      "EngineLoad is not supported\n",
      "CoolantTemp is not supported\n",
      "IntakeTemp is not supported\n",
      "FuelLevel is not supported\n",
      "AmbientTemp is not supported\n",
      "EngineOilTemp is not supported\n",
      "FuelRate is not supported\n"
     ]
    },
    {
     "name": "stderr",
     "output_type": "stream",
     "text": [
      "[obd.obd] Query failed, no connection available\n",
      "[obd.obd] Query failed, no connection available\n",
      "[obd.obd] Query failed, no connection available\n",
      "[obd.obd] Query failed, no connection available\n",
      "[obd.obd] Query failed, no connection available\n",
      "[obd.obd] Query failed, no connection available\n",
      "[obd.obd] Query failed, no connection available\n",
      "[obd.obd] Query failed, no connection available\n",
      "[obd.obd] Query failed, no connection available\n"
     ]
    },
    {
     "name": "stdout",
     "output_type": "stream",
     "text": [
      "RPM is not supported\n",
      "Speed is not supported\n",
      "EngineLoad is not supported\n",
      "CoolantTemp is not supported\n",
      "IntakeTemp is not supported\n",
      "FuelLevel is not supported\n",
      "AmbientTemp is not supported\n",
      "EngineOilTemp is not supported\n",
      "FuelRate is not supported\n"
     ]
    },
    {
     "name": "stderr",
     "output_type": "stream",
     "text": [
      "[obd.obd] Query failed, no connection available\n",
      "[obd.obd] Query failed, no connection available\n",
      "[obd.obd] Query failed, no connection available\n",
      "[obd.obd] Query failed, no connection available\n",
      "[obd.obd] Query failed, no connection available\n",
      "[obd.obd] Query failed, no connection available\n",
      "[obd.obd] Query failed, no connection available\n",
      "[obd.obd] Query failed, no connection available\n",
      "[obd.obd] Query failed, no connection available\n"
     ]
    },
    {
     "name": "stdout",
     "output_type": "stream",
     "text": [
      "RPM is not supported\n",
      "Speed is not supported\n",
      "EngineLoad is not supported\n",
      "CoolantTemp is not supported\n",
      "IntakeTemp is not supported\n",
      "FuelLevel is not supported\n",
      "AmbientTemp is not supported\n",
      "EngineOilTemp is not supported\n",
      "FuelRate is not supported\n"
     ]
    },
    {
     "name": "stderr",
     "output_type": "stream",
     "text": [
      "[obd.obd] Query failed, no connection available\n",
      "[obd.obd] Query failed, no connection available\n",
      "[obd.obd] Query failed, no connection available\n",
      "[obd.obd] Query failed, no connection available\n",
      "[obd.obd] Query failed, no connection available\n",
      "[obd.obd] Query failed, no connection available\n",
      "[obd.obd] Query failed, no connection available\n",
      "[obd.obd] Query failed, no connection available\n",
      "[obd.obd] Query failed, no connection available\n"
     ]
    },
    {
     "name": "stdout",
     "output_type": "stream",
     "text": [
      "RPM is not supported\n",
      "Speed is not supported\n",
      "EngineLoad is not supported\n",
      "CoolantTemp is not supported\n",
      "IntakeTemp is not supported\n",
      "FuelLevel is not supported\n",
      "AmbientTemp is not supported\n",
      "EngineOilTemp is not supported\n",
      "FuelRate is not supported\n"
     ]
    },
    {
     "name": "stderr",
     "output_type": "stream",
     "text": [
      "[obd.obd] Query failed, no connection available\n",
      "[obd.obd] Query failed, no connection available\n",
      "[obd.obd] Query failed, no connection available\n",
      "[obd.obd] Query failed, no connection available\n",
      "[obd.obd] Query failed, no connection available\n",
      "[obd.obd] Query failed, no connection available\n",
      "[obd.obd] Query failed, no connection available\n",
      "[obd.obd] Query failed, no connection available\n",
      "[obd.obd] Query failed, no connection available\n"
     ]
    },
    {
     "name": "stdout",
     "output_type": "stream",
     "text": [
      "RPM is not supported\n",
      "Speed is not supported\n",
      "EngineLoad is not supported\n",
      "CoolantTemp is not supported\n",
      "IntakeTemp is not supported\n",
      "FuelLevel is not supported\n",
      "AmbientTemp is not supported\n",
      "EngineOilTemp is not supported\n",
      "FuelRate is not supported\n"
     ]
    },
    {
     "name": "stderr",
     "output_type": "stream",
     "text": [
      "[obd.obd] Query failed, no connection available\n",
      "[obd.obd] Query failed, no connection available\n",
      "[obd.obd] Query failed, no connection available\n",
      "[obd.obd] Query failed, no connection available\n",
      "[obd.obd] Query failed, no connection available\n",
      "[obd.obd] Query failed, no connection available\n",
      "[obd.obd] Query failed, no connection available\n",
      "[obd.obd] Query failed, no connection available\n",
      "[obd.obd] Query failed, no connection available\n"
     ]
    },
    {
     "name": "stdout",
     "output_type": "stream",
     "text": [
      "RPM is not supported\n",
      "Speed is not supported\n",
      "EngineLoad is not supported\n",
      "CoolantTemp is not supported\n",
      "IntakeTemp is not supported\n",
      "FuelLevel is not supported\n",
      "AmbientTemp is not supported\n",
      "EngineOilTemp is not supported\n",
      "FuelRate is not supported\n"
     ]
    },
    {
     "name": "stderr",
     "output_type": "stream",
     "text": [
      "[obd.obd] Query failed, no connection available\n",
      "[obd.obd] Query failed, no connection available\n",
      "[obd.obd] Query failed, no connection available\n",
      "[obd.obd] Query failed, no connection available\n",
      "[obd.obd] Query failed, no connection available\n",
      "[obd.obd] Query failed, no connection available\n",
      "[obd.obd] Query failed, no connection available\n",
      "[obd.obd] Query failed, no connection available\n",
      "[obd.obd] Query failed, no connection available\n"
     ]
    },
    {
     "name": "stdout",
     "output_type": "stream",
     "text": [
      "RPM is not supported\n",
      "Speed is not supported\n",
      "EngineLoad is not supported\n",
      "CoolantTemp is not supported\n",
      "IntakeTemp is not supported\n",
      "FuelLevel is not supported\n",
      "AmbientTemp is not supported\n",
      "EngineOilTemp is not supported\n",
      "FuelRate is not supported\n"
     ]
    },
    {
     "name": "stderr",
     "output_type": "stream",
     "text": [
      "[obd.obd] Query failed, no connection available\n",
      "[obd.obd] Query failed, no connection available\n",
      "[obd.obd] Query failed, no connection available\n",
      "[obd.obd] Query failed, no connection available\n",
      "[obd.obd] Query failed, no connection available\n",
      "[obd.obd] Query failed, no connection available\n",
      "[obd.obd] Query failed, no connection available\n",
      "[obd.obd] Query failed, no connection available\n",
      "[obd.obd] Query failed, no connection available\n"
     ]
    },
    {
     "name": "stdout",
     "output_type": "stream",
     "text": [
      "RPM is not supported\n",
      "Speed is not supported\n",
      "EngineLoad is not supported\n",
      "CoolantTemp is not supported\n",
      "IntakeTemp is not supported\n",
      "FuelLevel is not supported\n",
      "AmbientTemp is not supported\n",
      "EngineOilTemp is not supported\n",
      "FuelRate is not supported\n"
     ]
    },
    {
     "name": "stderr",
     "output_type": "stream",
     "text": [
      "[obd.obd] Query failed, no connection available\n",
      "[obd.obd] Query failed, no connection available\n",
      "[obd.obd] Query failed, no connection available\n",
      "[obd.obd] Query failed, no connection available\n",
      "[obd.obd] Query failed, no connection available\n",
      "[obd.obd] Query failed, no connection available\n",
      "[obd.obd] Query failed, no connection available\n",
      "[obd.obd] Query failed, no connection available\n",
      "[obd.obd] Query failed, no connection available\n"
     ]
    },
    {
     "name": "stdout",
     "output_type": "stream",
     "text": [
      "RPM is not supported\n",
      "Speed is not supported\n",
      "EngineLoad is not supported\n",
      "CoolantTemp is not supported\n",
      "IntakeTemp is not supported\n",
      "FuelLevel is not supported\n",
      "AmbientTemp is not supported\n",
      "EngineOilTemp is not supported\n",
      "FuelRate is not supported\n"
     ]
    },
    {
     "name": "stderr",
     "output_type": "stream",
     "text": [
      "[obd.obd] Query failed, no connection available\n",
      "[obd.obd] Query failed, no connection available\n",
      "[obd.obd] Query failed, no connection available\n",
      "[obd.obd] Query failed, no connection available\n",
      "[obd.obd] Query failed, no connection available\n",
      "[obd.obd] Query failed, no connection available\n",
      "[obd.obd] Query failed, no connection available\n",
      "[obd.obd] Query failed, no connection available\n",
      "[obd.obd] Query failed, no connection available\n"
     ]
    },
    {
     "name": "stdout",
     "output_type": "stream",
     "text": [
      "RPM is not supported\n",
      "Speed is not supported\n",
      "EngineLoad is not supported\n",
      "CoolantTemp is not supported\n",
      "IntakeTemp is not supported\n",
      "FuelLevel is not supported\n",
      "AmbientTemp is not supported\n",
      "EngineOilTemp is not supported\n",
      "FuelRate is not supported\n"
     ]
    },
    {
     "name": "stderr",
     "output_type": "stream",
     "text": [
      "[obd.obd] Query failed, no connection available\n",
      "[obd.obd] Query failed, no connection available\n",
      "[obd.obd] Query failed, no connection available\n",
      "[obd.obd] Query failed, no connection available\n",
      "[obd.obd] Query failed, no connection available\n",
      "[obd.obd] Query failed, no connection available\n",
      "[obd.obd] Query failed, no connection available\n",
      "[obd.obd] Query failed, no connection available\n",
      "[obd.obd] Query failed, no connection available\n"
     ]
    },
    {
     "name": "stdout",
     "output_type": "stream",
     "text": [
      "RPM is not supported\n",
      "Speed is not supported\n",
      "EngineLoad is not supported\n",
      "CoolantTemp is not supported\n",
      "IntakeTemp is not supported\n",
      "FuelLevel is not supported\n",
      "AmbientTemp is not supported\n",
      "EngineOilTemp is not supported\n",
      "FuelRate is not supported\n"
     ]
    },
    {
     "name": "stderr",
     "output_type": "stream",
     "text": [
      "[obd.obd] Query failed, no connection available\n",
      "[obd.obd] Query failed, no connection available\n",
      "[obd.obd] Query failed, no connection available\n",
      "[obd.obd] Query failed, no connection available\n",
      "[obd.obd] Query failed, no connection available\n",
      "[obd.obd] Query failed, no connection available\n",
      "[obd.obd] Query failed, no connection available\n",
      "[obd.obd] Query failed, no connection available\n",
      "[obd.obd] Query failed, no connection available\n"
     ]
    },
    {
     "name": "stdout",
     "output_type": "stream",
     "text": [
      "RPM is not supported\n",
      "Speed is not supported\n",
      "EngineLoad is not supported\n",
      "CoolantTemp is not supported\n",
      "IntakeTemp is not supported\n",
      "FuelLevel is not supported\n",
      "AmbientTemp is not supported\n",
      "EngineOilTemp is not supported\n",
      "FuelRate is not supported\n"
     ]
    },
    {
     "name": "stderr",
     "output_type": "stream",
     "text": [
      "[obd.obd] Query failed, no connection available\n",
      "[obd.obd] Query failed, no connection available\n",
      "[obd.obd] Query failed, no connection available\n",
      "[obd.obd] Query failed, no connection available\n",
      "[obd.obd] Query failed, no connection available\n",
      "[obd.obd] Query failed, no connection available\n",
      "[obd.obd] Query failed, no connection available\n",
      "[obd.obd] Query failed, no connection available\n",
      "[obd.obd] Query failed, no connection available\n"
     ]
    },
    {
     "name": "stdout",
     "output_type": "stream",
     "text": [
      "RPM is not supported\n",
      "Speed is not supported\n",
      "EngineLoad is not supported\n",
      "CoolantTemp is not supported\n",
      "IntakeTemp is not supported\n",
      "FuelLevel is not supported\n",
      "AmbientTemp is not supported\n",
      "EngineOilTemp is not supported\n",
      "FuelRate is not supported\n"
     ]
    },
    {
     "name": "stderr",
     "output_type": "stream",
     "text": [
      "[obd.obd] Query failed, no connection available\n",
      "[obd.obd] Query failed, no connection available\n",
      "[obd.obd] Query failed, no connection available\n",
      "[obd.obd] Query failed, no connection available\n",
      "[obd.obd] Query failed, no connection available\n",
      "[obd.obd] Query failed, no connection available\n",
      "[obd.obd] Query failed, no connection available\n",
      "[obd.obd] Query failed, no connection available\n",
      "[obd.obd] Query failed, no connection available\n"
     ]
    },
    {
     "name": "stdout",
     "output_type": "stream",
     "text": [
      "RPM is not supported\n",
      "Speed is not supported\n",
      "EngineLoad is not supported\n",
      "CoolantTemp is not supported\n",
      "IntakeTemp is not supported\n",
      "FuelLevel is not supported\n",
      "AmbientTemp is not supported\n",
      "EngineOilTemp is not supported\n",
      "FuelRate is not supported\n"
     ]
    },
    {
     "name": "stderr",
     "output_type": "stream",
     "text": [
      "[obd.obd] Query failed, no connection available\n",
      "[obd.obd] Query failed, no connection available\n",
      "[obd.obd] Query failed, no connection available\n",
      "[obd.obd] Query failed, no connection available\n",
      "[obd.obd] Query failed, no connection available\n",
      "[obd.obd] Query failed, no connection available\n",
      "[obd.obd] Query failed, no connection available\n",
      "[obd.obd] Query failed, no connection available\n",
      "[obd.obd] Query failed, no connection available\n"
     ]
    },
    {
     "name": "stdout",
     "output_type": "stream",
     "text": [
      "RPM is not supported\n",
      "Speed is not supported\n",
      "EngineLoad is not supported\n",
      "CoolantTemp is not supported\n",
      "IntakeTemp is not supported\n",
      "FuelLevel is not supported\n",
      "AmbientTemp is not supported\n",
      "EngineOilTemp is not supported\n",
      "FuelRate is not supported\n"
     ]
    },
    {
     "name": "stderr",
     "output_type": "stream",
     "text": [
      "[obd.obd] Query failed, no connection available\n",
      "[obd.obd] Query failed, no connection available\n",
      "[obd.obd] Query failed, no connection available\n",
      "[obd.obd] Query failed, no connection available\n",
      "[obd.obd] Query failed, no connection available\n",
      "[obd.obd] Query failed, no connection available\n",
      "[obd.obd] Query failed, no connection available\n",
      "[obd.obd] Query failed, no connection available\n",
      "[obd.obd] Query failed, no connection available\n"
     ]
    },
    {
     "name": "stdout",
     "output_type": "stream",
     "text": [
      "RPM is not supported\n",
      "Speed is not supported\n",
      "EngineLoad is not supported\n",
      "CoolantTemp is not supported\n",
      "IntakeTemp is not supported\n",
      "FuelLevel is not supported\n",
      "AmbientTemp is not supported\n",
      "EngineOilTemp is not supported\n",
      "FuelRate is not supported\n"
     ]
    },
    {
     "name": "stderr",
     "output_type": "stream",
     "text": [
      "[obd.obd] Query failed, no connection available\n",
      "[obd.obd] Query failed, no connection available\n",
      "[obd.obd] Query failed, no connection available\n",
      "[obd.obd] Query failed, no connection available\n",
      "[obd.obd] Query failed, no connection available\n",
      "[obd.obd] Query failed, no connection available\n",
      "[obd.obd] Query failed, no connection available\n",
      "[obd.obd] Query failed, no connection available\n",
      "[obd.obd] Query failed, no connection available\n"
     ]
    },
    {
     "name": "stdout",
     "output_type": "stream",
     "text": [
      "RPM is not supported\n",
      "Speed is not supported\n",
      "EngineLoad is not supported\n",
      "CoolantTemp is not supported\n",
      "IntakeTemp is not supported\n",
      "FuelLevel is not supported\n",
      "AmbientTemp is not supported\n",
      "EngineOilTemp is not supported\n",
      "FuelRate is not supported\n"
     ]
    },
    {
     "name": "stderr",
     "output_type": "stream",
     "text": [
      "[obd.obd] Query failed, no connection available\n",
      "[obd.obd] Query failed, no connection available\n",
      "[obd.obd] Query failed, no connection available\n",
      "[obd.obd] Query failed, no connection available\n",
      "[obd.obd] Query failed, no connection available\n",
      "[obd.obd] Query failed, no connection available\n",
      "[obd.obd] Query failed, no connection available\n",
      "[obd.obd] Query failed, no connection available\n",
      "[obd.obd] Query failed, no connection available\n"
     ]
    },
    {
     "name": "stdout",
     "output_type": "stream",
     "text": [
      "RPM is not supported\n",
      "Speed is not supported\n",
      "EngineLoad is not supported\n",
      "CoolantTemp is not supported\n",
      "IntakeTemp is not supported\n",
      "FuelLevel is not supported\n",
      "AmbientTemp is not supported\n",
      "EngineOilTemp is not supported\n",
      "FuelRate is not supported\n"
     ]
    },
    {
     "name": "stderr",
     "output_type": "stream",
     "text": [
      "[obd.obd] Query failed, no connection available\n",
      "[obd.obd] Query failed, no connection available\n",
      "[obd.obd] Query failed, no connection available\n",
      "[obd.obd] Query failed, no connection available\n",
      "[obd.obd] Query failed, no connection available\n",
      "[obd.obd] Query failed, no connection available\n",
      "[obd.obd] Query failed, no connection available\n",
      "[obd.obd] Query failed, no connection available\n",
      "[obd.obd] Query failed, no connection available\n"
     ]
    },
    {
     "name": "stdout",
     "output_type": "stream",
     "text": [
      "RPM is not supported\n",
      "Speed is not supported\n",
      "EngineLoad is not supported\n",
      "CoolantTemp is not supported\n",
      "IntakeTemp is not supported\n",
      "FuelLevel is not supported\n",
      "AmbientTemp is not supported\n",
      "EngineOilTemp is not supported\n",
      "FuelRate is not supported\n"
     ]
    },
    {
     "name": "stderr",
     "output_type": "stream",
     "text": [
      "[obd.obd] Query failed, no connection available\n",
      "[obd.obd] Query failed, no connection available\n",
      "[obd.obd] Query failed, no connection available\n",
      "[obd.obd] Query failed, no connection available\n",
      "[obd.obd] Query failed, no connection available\n",
      "[obd.obd] Query failed, no connection available\n",
      "[obd.obd] Query failed, no connection available\n",
      "[obd.obd] Query failed, no connection available\n",
      "[obd.obd] Query failed, no connection available\n"
     ]
    },
    {
     "name": "stdout",
     "output_type": "stream",
     "text": [
      "RPM is not supported\n",
      "Speed is not supported\n",
      "EngineLoad is not supported\n",
      "CoolantTemp is not supported\n",
      "IntakeTemp is not supported\n",
      "FuelLevel is not supported\n",
      "AmbientTemp is not supported\n",
      "EngineOilTemp is not supported\n",
      "FuelRate is not supported\n"
     ]
    },
    {
     "name": "stderr",
     "output_type": "stream",
     "text": [
      "[obd.obd] Query failed, no connection available\n",
      "[obd.obd] Query failed, no connection available\n",
      "[obd.obd] Query failed, no connection available\n",
      "[obd.obd] Query failed, no connection available\n",
      "[obd.obd] Query failed, no connection available\n",
      "[obd.obd] Query failed, no connection available\n",
      "[obd.obd] Query failed, no connection available\n",
      "[obd.obd] Query failed, no connection available\n",
      "[obd.obd] Query failed, no connection available\n"
     ]
    },
    {
     "name": "stdout",
     "output_type": "stream",
     "text": [
      "RPM is not supported\n",
      "Speed is not supported\n",
      "EngineLoad is not supported\n",
      "CoolantTemp is not supported\n",
      "IntakeTemp is not supported\n",
      "FuelLevel is not supported\n",
      "AmbientTemp is not supported\n",
      "EngineOilTemp is not supported\n",
      "FuelRate is not supported\n"
     ]
    },
    {
     "name": "stderr",
     "output_type": "stream",
     "text": [
      "[obd.obd] Query failed, no connection available\n",
      "[obd.obd] Query failed, no connection available\n",
      "[obd.obd] Query failed, no connection available\n",
      "[obd.obd] Query failed, no connection available\n",
      "[obd.obd] Query failed, no connection available\n",
      "[obd.obd] Query failed, no connection available\n",
      "[obd.obd] Query failed, no connection available\n",
      "[obd.obd] Query failed, no connection available\n",
      "[obd.obd] Query failed, no connection available\n"
     ]
    },
    {
     "name": "stdout",
     "output_type": "stream",
     "text": [
      "RPM is not supported\n",
      "Speed is not supported\n",
      "EngineLoad is not supported\n",
      "CoolantTemp is not supported\n",
      "IntakeTemp is not supported\n",
      "FuelLevel is not supported\n",
      "AmbientTemp is not supported\n",
      "EngineOilTemp is not supported\n",
      "FuelRate is not supported\n"
     ]
    },
    {
     "name": "stderr",
     "output_type": "stream",
     "text": [
      "[obd.obd] Query failed, no connection available\n",
      "[obd.obd] Query failed, no connection available\n",
      "[obd.obd] Query failed, no connection available\n",
      "[obd.obd] Query failed, no connection available\n",
      "[obd.obd] Query failed, no connection available\n",
      "[obd.obd] Query failed, no connection available\n",
      "[obd.obd] Query failed, no connection available\n",
      "[obd.obd] Query failed, no connection available\n",
      "[obd.obd] Query failed, no connection available\n"
     ]
    },
    {
     "name": "stdout",
     "output_type": "stream",
     "text": [
      "RPM is not supported\n",
      "Speed is not supported\n",
      "EngineLoad is not supported\n",
      "CoolantTemp is not supported\n",
      "IntakeTemp is not supported\n",
      "FuelLevel is not supported\n",
      "AmbientTemp is not supported\n",
      "EngineOilTemp is not supported\n",
      "FuelRate is not supported\n"
     ]
    },
    {
     "name": "stderr",
     "output_type": "stream",
     "text": [
      "[obd.obd] Query failed, no connection available\n",
      "[obd.obd] Query failed, no connection available\n",
      "[obd.obd] Query failed, no connection available\n",
      "[obd.obd] Query failed, no connection available\n",
      "[obd.obd] Query failed, no connection available\n",
      "[obd.obd] Query failed, no connection available\n",
      "[obd.obd] Query failed, no connection available\n",
      "[obd.obd] Query failed, no connection available\n",
      "[obd.obd] Query failed, no connection available\n"
     ]
    },
    {
     "name": "stdout",
     "output_type": "stream",
     "text": [
      "RPM is not supported\n",
      "Speed is not supported\n",
      "EngineLoad is not supported\n",
      "CoolantTemp is not supported\n",
      "IntakeTemp is not supported\n",
      "FuelLevel is not supported\n",
      "AmbientTemp is not supported\n",
      "EngineOilTemp is not supported\n",
      "FuelRate is not supported\n"
     ]
    },
    {
     "name": "stderr",
     "output_type": "stream",
     "text": [
      "[obd.obd] Query failed, no connection available\n",
      "[obd.obd] Query failed, no connection available\n",
      "[obd.obd] Query failed, no connection available\n",
      "[obd.obd] Query failed, no connection available\n",
      "[obd.obd] Query failed, no connection available\n",
      "[obd.obd] Query failed, no connection available\n",
      "[obd.obd] Query failed, no connection available\n",
      "[obd.obd] Query failed, no connection available\n",
      "[obd.obd] Query failed, no connection available\n"
     ]
    },
    {
     "name": "stdout",
     "output_type": "stream",
     "text": [
      "RPM is not supported\n",
      "Speed is not supported\n",
      "EngineLoad is not supported\n",
      "CoolantTemp is not supported\n",
      "IntakeTemp is not supported\n",
      "FuelLevel is not supported\n",
      "AmbientTemp is not supported\n",
      "EngineOilTemp is not supported\n",
      "FuelRate is not supported\n"
     ]
    },
    {
     "name": "stderr",
     "output_type": "stream",
     "text": [
      "[obd.obd] Query failed, no connection available\n",
      "[obd.obd] Query failed, no connection available\n",
      "[obd.obd] Query failed, no connection available\n",
      "[obd.obd] Query failed, no connection available\n",
      "[obd.obd] Query failed, no connection available\n",
      "[obd.obd] Query failed, no connection available\n",
      "[obd.obd] Query failed, no connection available\n",
      "[obd.obd] Query failed, no connection available\n",
      "[obd.obd] Query failed, no connection available\n"
     ]
    },
    {
     "name": "stdout",
     "output_type": "stream",
     "text": [
      "RPM is not supported\n",
      "Speed is not supported\n",
      "EngineLoad is not supported\n",
      "CoolantTemp is not supported\n",
      "IntakeTemp is not supported\n",
      "FuelLevel is not supported\n",
      "AmbientTemp is not supported\n",
      "EngineOilTemp is not supported\n",
      "FuelRate is not supported\n"
     ]
    },
    {
     "name": "stderr",
     "output_type": "stream",
     "text": [
      "[obd.obd] Query failed, no connection available\n",
      "[obd.obd] Query failed, no connection available\n",
      "[obd.obd] Query failed, no connection available\n",
      "[obd.obd] Query failed, no connection available\n",
      "[obd.obd] Query failed, no connection available\n",
      "[obd.obd] Query failed, no connection available\n",
      "[obd.obd] Query failed, no connection available\n",
      "[obd.obd] Query failed, no connection available\n",
      "[obd.obd] Query failed, no connection available\n"
     ]
    },
    {
     "name": "stdout",
     "output_type": "stream",
     "text": [
      "RPM is not supported\n",
      "Speed is not supported\n",
      "EngineLoad is not supported\n",
      "CoolantTemp is not supported\n",
      "IntakeTemp is not supported\n",
      "FuelLevel is not supported\n",
      "AmbientTemp is not supported\n",
      "EngineOilTemp is not supported\n",
      "FuelRate is not supported\n"
     ]
    },
    {
     "name": "stderr",
     "output_type": "stream",
     "text": [
      "[obd.obd] Query failed, no connection available\n",
      "[obd.obd] Query failed, no connection available\n",
      "[obd.obd] Query failed, no connection available\n",
      "[obd.obd] Query failed, no connection available\n",
      "[obd.obd] Query failed, no connection available\n",
      "[obd.obd] Query failed, no connection available\n",
      "[obd.obd] Query failed, no connection available\n",
      "[obd.obd] Query failed, no connection available\n",
      "[obd.obd] Query failed, no connection available\n"
     ]
    },
    {
     "name": "stdout",
     "output_type": "stream",
     "text": [
      "RPM is not supported\n",
      "Speed is not supported\n",
      "EngineLoad is not supported\n",
      "CoolantTemp is not supported\n",
      "IntakeTemp is not supported\n",
      "FuelLevel is not supported\n",
      "AmbientTemp is not supported\n",
      "EngineOilTemp is not supported\n",
      "FuelRate is not supported\n"
     ]
    },
    {
     "name": "stderr",
     "output_type": "stream",
     "text": [
      "[obd.obd] Query failed, no connection available\n",
      "[obd.obd] Query failed, no connection available\n",
      "[obd.obd] Query failed, no connection available\n",
      "[obd.obd] Query failed, no connection available\n",
      "[obd.obd] Query failed, no connection available\n",
      "[obd.obd] Query failed, no connection available\n",
      "[obd.obd] Query failed, no connection available\n",
      "[obd.obd] Query failed, no connection available\n",
      "[obd.obd] Query failed, no connection available\n"
     ]
    },
    {
     "name": "stdout",
     "output_type": "stream",
     "text": [
      "RPM is not supported\n",
      "Speed is not supported\n",
      "EngineLoad is not supported\n",
      "CoolantTemp is not supported\n",
      "IntakeTemp is not supported\n",
      "FuelLevel is not supported\n",
      "AmbientTemp is not supported\n",
      "EngineOilTemp is not supported\n",
      "FuelRate is not supported\n"
     ]
    },
    {
     "name": "stderr",
     "output_type": "stream",
     "text": [
      "[obd.obd] Query failed, no connection available\n",
      "[obd.obd] Query failed, no connection available\n",
      "[obd.obd] Query failed, no connection available\n",
      "[obd.obd] Query failed, no connection available\n",
      "[obd.obd] Query failed, no connection available\n",
      "[obd.obd] Query failed, no connection available\n",
      "[obd.obd] Query failed, no connection available\n",
      "[obd.obd] Query failed, no connection available\n",
      "[obd.obd] Query failed, no connection available\n"
     ]
    },
    {
     "name": "stdout",
     "output_type": "stream",
     "text": [
      "RPM is not supported\n",
      "Speed is not supported\n",
      "EngineLoad is not supported\n",
      "CoolantTemp is not supported\n",
      "IntakeTemp is not supported\n",
      "FuelLevel is not supported\n",
      "AmbientTemp is not supported\n",
      "EngineOilTemp is not supported\n",
      "FuelRate is not supported\n"
     ]
    },
    {
     "name": "stderr",
     "output_type": "stream",
     "text": [
      "[obd.obd] Query failed, no connection available\n",
      "[obd.obd] Query failed, no connection available\n",
      "[obd.obd] Query failed, no connection available\n",
      "[obd.obd] Query failed, no connection available\n",
      "[obd.obd] Query failed, no connection available\n",
      "[obd.obd] Query failed, no connection available\n",
      "[obd.obd] Query failed, no connection available\n",
      "[obd.obd] Query failed, no connection available\n",
      "[obd.obd] Query failed, no connection available\n"
     ]
    },
    {
     "name": "stdout",
     "output_type": "stream",
     "text": [
      "RPM is not supported\n",
      "Speed is not supported\n",
      "EngineLoad is not supported\n",
      "CoolantTemp is not supported\n",
      "IntakeTemp is not supported\n",
      "FuelLevel is not supported\n",
      "AmbientTemp is not supported\n",
      "EngineOilTemp is not supported\n",
      "FuelRate is not supported\n"
     ]
    },
    {
     "name": "stderr",
     "output_type": "stream",
     "text": [
      "[obd.obd] Query failed, no connection available\n",
      "[obd.obd] Query failed, no connection available\n",
      "[obd.obd] Query failed, no connection available\n",
      "[obd.obd] Query failed, no connection available\n",
      "[obd.obd] Query failed, no connection available\n",
      "[obd.obd] Query failed, no connection available\n",
      "[obd.obd] Query failed, no connection available\n",
      "[obd.obd] Query failed, no connection available\n",
      "[obd.obd] Query failed, no connection available\n"
     ]
    },
    {
     "name": "stdout",
     "output_type": "stream",
     "text": [
      "RPM is not supported\n",
      "Speed is not supported\n",
      "EngineLoad is not supported\n",
      "CoolantTemp is not supported\n",
      "IntakeTemp is not supported\n",
      "FuelLevel is not supported\n",
      "AmbientTemp is not supported\n",
      "EngineOilTemp is not supported\n",
      "FuelRate is not supported\n"
     ]
    },
    {
     "name": "stderr",
     "output_type": "stream",
     "text": [
      "[obd.obd] Query failed, no connection available\n",
      "[obd.obd] Query failed, no connection available\n",
      "[obd.obd] Query failed, no connection available\n",
      "[obd.obd] Query failed, no connection available\n",
      "[obd.obd] Query failed, no connection available\n",
      "[obd.obd] Query failed, no connection available\n",
      "[obd.obd] Query failed, no connection available\n",
      "[obd.obd] Query failed, no connection available\n",
      "[obd.obd] Query failed, no connection available\n"
     ]
    },
    {
     "name": "stdout",
     "output_type": "stream",
     "text": [
      "RPM is not supported\n",
      "Speed is not supported\n",
      "EngineLoad is not supported\n",
      "CoolantTemp is not supported\n",
      "IntakeTemp is not supported\n",
      "FuelLevel is not supported\n",
      "AmbientTemp is not supported\n",
      "EngineOilTemp is not supported\n",
      "FuelRate is not supported\n"
     ]
    },
    {
     "name": "stderr",
     "output_type": "stream",
     "text": [
      "[obd.obd] Query failed, no connection available\n",
      "[obd.obd] Query failed, no connection available\n",
      "[obd.obd] Query failed, no connection available\n",
      "[obd.obd] Query failed, no connection available\n",
      "[obd.obd] Query failed, no connection available\n",
      "[obd.obd] Query failed, no connection available\n",
      "[obd.obd] Query failed, no connection available\n",
      "[obd.obd] Query failed, no connection available\n",
      "[obd.obd] Query failed, no connection available\n"
     ]
    },
    {
     "name": "stdout",
     "output_type": "stream",
     "text": [
      "RPM is not supported\n",
      "Speed is not supported\n",
      "EngineLoad is not supported\n",
      "CoolantTemp is not supported\n",
      "IntakeTemp is not supported\n",
      "FuelLevel is not supported\n",
      "AmbientTemp is not supported\n",
      "EngineOilTemp is not supported\n",
      "FuelRate is not supported\n"
     ]
    },
    {
     "name": "stderr",
     "output_type": "stream",
     "text": [
      "[obd.obd] Query failed, no connection available\n",
      "[obd.obd] Query failed, no connection available\n",
      "[obd.obd] Query failed, no connection available\n",
      "[obd.obd] Query failed, no connection available\n",
      "[obd.obd] Query failed, no connection available\n",
      "[obd.obd] Query failed, no connection available\n",
      "[obd.obd] Query failed, no connection available\n",
      "[obd.obd] Query failed, no connection available\n",
      "[obd.obd] Query failed, no connection available\n"
     ]
    },
    {
     "name": "stdout",
     "output_type": "stream",
     "text": [
      "RPM is not supported\n",
      "Speed is not supported\n",
      "EngineLoad is not supported\n",
      "CoolantTemp is not supported\n",
      "IntakeTemp is not supported\n",
      "FuelLevel is not supported\n",
      "AmbientTemp is not supported\n",
      "EngineOilTemp is not supported\n",
      "FuelRate is not supported\n"
     ]
    },
    {
     "name": "stderr",
     "output_type": "stream",
     "text": [
      "[obd.obd] Query failed, no connection available\n",
      "[obd.obd] Query failed, no connection available\n",
      "[obd.obd] Query failed, no connection available\n",
      "[obd.obd] Query failed, no connection available\n",
      "[obd.obd] Query failed, no connection available\n",
      "[obd.obd] Query failed, no connection available\n",
      "[obd.obd] Query failed, no connection available\n",
      "[obd.obd] Query failed, no connection available\n",
      "[obd.obd] Query failed, no connection available\n"
     ]
    },
    {
     "name": "stdout",
     "output_type": "stream",
     "text": [
      "RPM is not supported\n",
      "Speed is not supported\n",
      "EngineLoad is not supported\n",
      "CoolantTemp is not supported\n",
      "IntakeTemp is not supported\n",
      "FuelLevel is not supported\n",
      "AmbientTemp is not supported\n",
      "EngineOilTemp is not supported\n",
      "FuelRate is not supported\n"
     ]
    },
    {
     "name": "stderr",
     "output_type": "stream",
     "text": [
      "[obd.obd] Query failed, no connection available\n",
      "[obd.obd] Query failed, no connection available\n",
      "[obd.obd] Query failed, no connection available\n",
      "[obd.obd] Query failed, no connection available\n",
      "[obd.obd] Query failed, no connection available\n",
      "[obd.obd] Query failed, no connection available\n",
      "[obd.obd] Query failed, no connection available\n",
      "[obd.obd] Query failed, no connection available\n",
      "[obd.obd] Query failed, no connection available\n"
     ]
    },
    {
     "name": "stdout",
     "output_type": "stream",
     "text": [
      "RPM is not supported\n",
      "Speed is not supported\n",
      "EngineLoad is not supported\n",
      "CoolantTemp is not supported\n",
      "IntakeTemp is not supported\n",
      "FuelLevel is not supported\n",
      "AmbientTemp is not supported\n",
      "EngineOilTemp is not supported\n",
      "FuelRate is not supported\n"
     ]
    },
    {
     "name": "stderr",
     "output_type": "stream",
     "text": [
      "[obd.obd] Query failed, no connection available\n",
      "[obd.obd] Query failed, no connection available\n",
      "[obd.obd] Query failed, no connection available\n",
      "[obd.obd] Query failed, no connection available\n",
      "[obd.obd] Query failed, no connection available\n",
      "[obd.obd] Query failed, no connection available\n",
      "[obd.obd] Query failed, no connection available\n",
      "[obd.obd] Query failed, no connection available\n",
      "[obd.obd] Query failed, no connection available\n"
     ]
    },
    {
     "name": "stdout",
     "output_type": "stream",
     "text": [
      "RPM is not supported\n",
      "Speed is not supported\n",
      "EngineLoad is not supported\n",
      "CoolantTemp is not supported\n",
      "IntakeTemp is not supported\n",
      "FuelLevel is not supported\n",
      "AmbientTemp is not supported\n",
      "EngineOilTemp is not supported\n",
      "FuelRate is not supported\n"
     ]
    },
    {
     "name": "stderr",
     "output_type": "stream",
     "text": [
      "[obd.obd] Query failed, no connection available\n",
      "[obd.obd] Query failed, no connection available\n",
      "[obd.obd] Query failed, no connection available\n",
      "[obd.obd] Query failed, no connection available\n",
      "[obd.obd] Query failed, no connection available\n",
      "[obd.obd] Query failed, no connection available\n",
      "[obd.obd] Query failed, no connection available\n",
      "[obd.obd] Query failed, no connection available\n",
      "[obd.obd] Query failed, no connection available\n"
     ]
    },
    {
     "name": "stdout",
     "output_type": "stream",
     "text": [
      "RPM is not supported\n",
      "Speed is not supported\n",
      "EngineLoad is not supported\n",
      "CoolantTemp is not supported\n",
      "IntakeTemp is not supported\n",
      "FuelLevel is not supported\n",
      "AmbientTemp is not supported\n",
      "EngineOilTemp is not supported\n",
      "FuelRate is not supported\n"
     ]
    },
    {
     "name": "stderr",
     "output_type": "stream",
     "text": [
      "[obd.obd] Query failed, no connection available\n",
      "[obd.obd] Query failed, no connection available\n",
      "[obd.obd] Query failed, no connection available\n",
      "[obd.obd] Query failed, no connection available\n",
      "[obd.obd] Query failed, no connection available\n",
      "[obd.obd] Query failed, no connection available\n",
      "[obd.obd] Query failed, no connection available\n",
      "[obd.obd] Query failed, no connection available\n",
      "[obd.obd] Query failed, no connection available\n"
     ]
    },
    {
     "name": "stdout",
     "output_type": "stream",
     "text": [
      "RPM is not supported\n",
      "Speed is not supported\n",
      "EngineLoad is not supported\n",
      "CoolantTemp is not supported\n",
      "IntakeTemp is not supported\n",
      "FuelLevel is not supported\n",
      "AmbientTemp is not supported\n",
      "EngineOilTemp is not supported\n",
      "FuelRate is not supported\n"
     ]
    },
    {
     "name": "stderr",
     "output_type": "stream",
     "text": [
      "[obd.obd] Query failed, no connection available\n",
      "[obd.obd] Query failed, no connection available\n",
      "[obd.obd] Query failed, no connection available\n",
      "[obd.obd] Query failed, no connection available\n",
      "[obd.obd] Query failed, no connection available\n",
      "[obd.obd] Query failed, no connection available\n",
      "[obd.obd] Query failed, no connection available\n",
      "[obd.obd] Query failed, no connection available\n",
      "[obd.obd] Query failed, no connection available\n"
     ]
    },
    {
     "name": "stdout",
     "output_type": "stream",
     "text": [
      "RPM is not supported\n",
      "Speed is not supported\n",
      "EngineLoad is not supported\n",
      "CoolantTemp is not supported\n",
      "IntakeTemp is not supported\n",
      "FuelLevel is not supported\n",
      "AmbientTemp is not supported\n",
      "EngineOilTemp is not supported\n",
      "FuelRate is not supported\n"
     ]
    },
    {
     "name": "stderr",
     "output_type": "stream",
     "text": [
      "[obd.obd] Query failed, no connection available\n",
      "[obd.obd] Query failed, no connection available\n",
      "[obd.obd] Query failed, no connection available\n",
      "[obd.obd] Query failed, no connection available\n",
      "[obd.obd] Query failed, no connection available\n",
      "[obd.obd] Query failed, no connection available\n",
      "[obd.obd] Query failed, no connection available\n",
      "[obd.obd] Query failed, no connection available\n",
      "[obd.obd] Query failed, no connection available\n"
     ]
    },
    {
     "name": "stdout",
     "output_type": "stream",
     "text": [
      "RPM is not supported\n",
      "Speed is not supported\n",
      "EngineLoad is not supported\n",
      "CoolantTemp is not supported\n",
      "IntakeTemp is not supported\n",
      "FuelLevel is not supported\n",
      "AmbientTemp is not supported\n",
      "EngineOilTemp is not supported\n",
      "FuelRate is not supported\n"
     ]
    },
    {
     "name": "stderr",
     "output_type": "stream",
     "text": [
      "[obd.obd] Query failed, no connection available\n",
      "[obd.obd] Query failed, no connection available\n",
      "[obd.obd] Query failed, no connection available\n",
      "[obd.obd] Query failed, no connection available\n",
      "[obd.obd] Query failed, no connection available\n",
      "[obd.obd] Query failed, no connection available\n",
      "[obd.obd] Query failed, no connection available\n",
      "[obd.obd] Query failed, no connection available\n",
      "[obd.obd] Query failed, no connection available\n"
     ]
    },
    {
     "name": "stdout",
     "output_type": "stream",
     "text": [
      "RPM is not supported\n",
      "Speed is not supported\n",
      "EngineLoad is not supported\n",
      "CoolantTemp is not supported\n",
      "IntakeTemp is not supported\n",
      "FuelLevel is not supported\n",
      "AmbientTemp is not supported\n",
      "EngineOilTemp is not supported\n",
      "FuelRate is not supported\n"
     ]
    },
    {
     "name": "stderr",
     "output_type": "stream",
     "text": [
      "[obd.obd] Query failed, no connection available\n",
      "[obd.obd] Query failed, no connection available\n",
      "[obd.obd] Query failed, no connection available\n",
      "[obd.obd] Query failed, no connection available\n",
      "[obd.obd] Query failed, no connection available\n",
      "[obd.obd] Query failed, no connection available\n",
      "[obd.obd] Query failed, no connection available\n",
      "[obd.obd] Query failed, no connection available\n",
      "[obd.obd] Query failed, no connection available\n"
     ]
    },
    {
     "name": "stdout",
     "output_type": "stream",
     "text": [
      "RPM is not supported\n",
      "Speed is not supported\n",
      "EngineLoad is not supported\n",
      "CoolantTemp is not supported\n",
      "IntakeTemp is not supported\n",
      "FuelLevel is not supported\n",
      "AmbientTemp is not supported\n",
      "EngineOilTemp is not supported\n",
      "FuelRate is not supported\n"
     ]
    },
    {
     "name": "stderr",
     "output_type": "stream",
     "text": [
      "[obd.obd] Query failed, no connection available\n",
      "[obd.obd] Query failed, no connection available\n",
      "[obd.obd] Query failed, no connection available\n",
      "[obd.obd] Query failed, no connection available\n",
      "[obd.obd] Query failed, no connection available\n",
      "[obd.obd] Query failed, no connection available\n",
      "[obd.obd] Query failed, no connection available\n",
      "[obd.obd] Query failed, no connection available\n",
      "[obd.obd] Query failed, no connection available\n"
     ]
    },
    {
     "name": "stdout",
     "output_type": "stream",
     "text": [
      "RPM is not supported\n",
      "Speed is not supported\n",
      "EngineLoad is not supported\n",
      "CoolantTemp is not supported\n",
      "IntakeTemp is not supported\n",
      "FuelLevel is not supported\n",
      "AmbientTemp is not supported\n",
      "EngineOilTemp is not supported\n",
      "FuelRate is not supported\n"
     ]
    },
    {
     "name": "stderr",
     "output_type": "stream",
     "text": [
      "[obd.obd] Query failed, no connection available\n",
      "[obd.obd] Query failed, no connection available\n",
      "[obd.obd] Query failed, no connection available\n",
      "[obd.obd] Query failed, no connection available\n",
      "[obd.obd] Query failed, no connection available\n",
      "[obd.obd] Query failed, no connection available\n",
      "[obd.obd] Query failed, no connection available\n",
      "[obd.obd] Query failed, no connection available\n",
      "[obd.obd] Query failed, no connection available\n"
     ]
    },
    {
     "name": "stdout",
     "output_type": "stream",
     "text": [
      "RPM is not supported\n",
      "Speed is not supported\n",
      "EngineLoad is not supported\n",
      "CoolantTemp is not supported\n",
      "IntakeTemp is not supported\n",
      "FuelLevel is not supported\n",
      "AmbientTemp is not supported\n",
      "EngineOilTemp is not supported\n",
      "FuelRate is not supported\n"
     ]
    },
    {
     "name": "stderr",
     "output_type": "stream",
     "text": [
      "[obd.obd] Query failed, no connection available\n",
      "[obd.obd] Query failed, no connection available\n",
      "[obd.obd] Query failed, no connection available\n",
      "[obd.obd] Query failed, no connection available\n",
      "[obd.obd] Query failed, no connection available\n",
      "[obd.obd] Query failed, no connection available\n",
      "[obd.obd] Query failed, no connection available\n",
      "[obd.obd] Query failed, no connection available\n",
      "[obd.obd] Query failed, no connection available\n"
     ]
    },
    {
     "name": "stdout",
     "output_type": "stream",
     "text": [
      "RPM is not supported\n",
      "Speed is not supported\n",
      "EngineLoad is not supported\n",
      "CoolantTemp is not supported\n",
      "IntakeTemp is not supported\n",
      "FuelLevel is not supported\n",
      "AmbientTemp is not supported\n",
      "EngineOilTemp is not supported\n",
      "FuelRate is not supported\n"
     ]
    },
    {
     "name": "stderr",
     "output_type": "stream",
     "text": [
      "[obd.obd] Query failed, no connection available\n",
      "[obd.obd] Query failed, no connection available\n",
      "[obd.obd] Query failed, no connection available\n",
      "[obd.obd] Query failed, no connection available\n",
      "[obd.obd] Query failed, no connection available\n",
      "[obd.obd] Query failed, no connection available\n",
      "[obd.obd] Query failed, no connection available\n",
      "[obd.obd] Query failed, no connection available\n",
      "[obd.obd] Query failed, no connection available\n"
     ]
    },
    {
     "name": "stdout",
     "output_type": "stream",
     "text": [
      "RPM is not supported\n",
      "Speed is not supported\n",
      "EngineLoad is not supported\n",
      "CoolantTemp is not supported\n",
      "IntakeTemp is not supported\n",
      "FuelLevel is not supported\n",
      "AmbientTemp is not supported\n",
      "EngineOilTemp is not supported\n",
      "FuelRate is not supported\n"
     ]
    },
    {
     "name": "stderr",
     "output_type": "stream",
     "text": [
      "[obd.obd] Query failed, no connection available\n",
      "[obd.obd] Query failed, no connection available\n",
      "[obd.obd] Query failed, no connection available\n",
      "[obd.obd] Query failed, no connection available\n",
      "[obd.obd] Query failed, no connection available\n",
      "[obd.obd] Query failed, no connection available\n",
      "[obd.obd] Query failed, no connection available\n",
      "[obd.obd] Query failed, no connection available\n",
      "[obd.obd] Query failed, no connection available\n"
     ]
    },
    {
     "name": "stdout",
     "output_type": "stream",
     "text": [
      "RPM is not supported\n",
      "Speed is not supported\n",
      "EngineLoad is not supported\n",
      "CoolantTemp is not supported\n",
      "IntakeTemp is not supported\n",
      "FuelLevel is not supported\n",
      "AmbientTemp is not supported\n",
      "EngineOilTemp is not supported\n",
      "FuelRate is not supported\n"
     ]
    },
    {
     "name": "stderr",
     "output_type": "stream",
     "text": [
      "[obd.obd] Query failed, no connection available\n",
      "[obd.obd] Query failed, no connection available\n",
      "[obd.obd] Query failed, no connection available\n",
      "[obd.obd] Query failed, no connection available\n",
      "[obd.obd] Query failed, no connection available\n",
      "[obd.obd] Query failed, no connection available\n",
      "[obd.obd] Query failed, no connection available\n",
      "[obd.obd] Query failed, no connection available\n",
      "[obd.obd] Query failed, no connection available\n"
     ]
    },
    {
     "name": "stdout",
     "output_type": "stream",
     "text": [
      "RPM is not supported\n",
      "Speed is not supported\n",
      "EngineLoad is not supported\n",
      "CoolantTemp is not supported\n",
      "IntakeTemp is not supported\n",
      "FuelLevel is not supported\n",
      "AmbientTemp is not supported\n",
      "EngineOilTemp is not supported\n",
      "FuelRate is not supported\n"
     ]
    },
    {
     "name": "stderr",
     "output_type": "stream",
     "text": [
      "[obd.obd] Query failed, no connection available\n",
      "[obd.obd] Query failed, no connection available\n",
      "[obd.obd] Query failed, no connection available\n",
      "[obd.obd] Query failed, no connection available\n",
      "[obd.obd] Query failed, no connection available\n",
      "[obd.obd] Query failed, no connection available\n",
      "[obd.obd] Query failed, no connection available\n",
      "[obd.obd] Query failed, no connection available\n",
      "[obd.obd] Query failed, no connection available\n"
     ]
    },
    {
     "name": "stdout",
     "output_type": "stream",
     "text": [
      "RPM is not supported\n",
      "Speed is not supported\n",
      "EngineLoad is not supported\n",
      "CoolantTemp is not supported\n",
      "IntakeTemp is not supported\n",
      "FuelLevel is not supported\n",
      "AmbientTemp is not supported\n",
      "EngineOilTemp is not supported\n",
      "FuelRate is not supported\n"
     ]
    },
    {
     "name": "stderr",
     "output_type": "stream",
     "text": [
      "[obd.obd] Query failed, no connection available\n",
      "[obd.obd] Query failed, no connection available\n",
      "[obd.obd] Query failed, no connection available\n",
      "[obd.obd] Query failed, no connection available\n",
      "[obd.obd] Query failed, no connection available\n",
      "[obd.obd] Query failed, no connection available\n",
      "[obd.obd] Query failed, no connection available\n",
      "[obd.obd] Query failed, no connection available\n",
      "[obd.obd] Query failed, no connection available\n"
     ]
    },
    {
     "name": "stdout",
     "output_type": "stream",
     "text": [
      "RPM is not supported\n",
      "Speed is not supported\n",
      "EngineLoad is not supported\n",
      "CoolantTemp is not supported\n",
      "IntakeTemp is not supported\n",
      "FuelLevel is not supported\n",
      "AmbientTemp is not supported\n",
      "EngineOilTemp is not supported\n",
      "FuelRate is not supported\n"
     ]
    },
    {
     "name": "stderr",
     "output_type": "stream",
     "text": [
      "[obd.obd] Query failed, no connection available\n",
      "[obd.obd] Query failed, no connection available\n",
      "[obd.obd] Query failed, no connection available\n",
      "[obd.obd] Query failed, no connection available\n",
      "[obd.obd] Query failed, no connection available\n",
      "[obd.obd] Query failed, no connection available\n",
      "[obd.obd] Query failed, no connection available\n",
      "[obd.obd] Query failed, no connection available\n",
      "[obd.obd] Query failed, no connection available\n"
     ]
    },
    {
     "name": "stdout",
     "output_type": "stream",
     "text": [
      "RPM is not supported\n",
      "Speed is not supported\n",
      "EngineLoad is not supported\n",
      "CoolantTemp is not supported\n",
      "IntakeTemp is not supported\n",
      "FuelLevel is not supported\n",
      "AmbientTemp is not supported\n",
      "EngineOilTemp is not supported\n",
      "FuelRate is not supported\n"
     ]
    },
    {
     "name": "stderr",
     "output_type": "stream",
     "text": [
      "[obd.obd] Query failed, no connection available\n",
      "[obd.obd] Query failed, no connection available\n",
      "[obd.obd] Query failed, no connection available\n",
      "[obd.obd] Query failed, no connection available\n",
      "[obd.obd] Query failed, no connection available\n",
      "[obd.obd] Query failed, no connection available\n",
      "[obd.obd] Query failed, no connection available\n",
      "[obd.obd] Query failed, no connection available\n",
      "[obd.obd] Query failed, no connection available\n"
     ]
    },
    {
     "name": "stdout",
     "output_type": "stream",
     "text": [
      "RPM is not supported\n",
      "Speed is not supported\n",
      "EngineLoad is not supported\n",
      "CoolantTemp is not supported\n",
      "IntakeTemp is not supported\n",
      "FuelLevel is not supported\n",
      "AmbientTemp is not supported\n",
      "EngineOilTemp is not supported\n",
      "FuelRate is not supported\n"
     ]
    },
    {
     "name": "stderr",
     "output_type": "stream",
     "text": [
      "[obd.obd] Query failed, no connection available\n",
      "[obd.obd] Query failed, no connection available\n",
      "[obd.obd] Query failed, no connection available\n",
      "[obd.obd] Query failed, no connection available\n",
      "[obd.obd] Query failed, no connection available\n",
      "[obd.obd] Query failed, no connection available\n",
      "[obd.obd] Query failed, no connection available\n",
      "[obd.obd] Query failed, no connection available\n",
      "[obd.obd] Query failed, no connection available\n"
     ]
    },
    {
     "name": "stdout",
     "output_type": "stream",
     "text": [
      "RPM is not supported\n",
      "Speed is not supported\n",
      "EngineLoad is not supported\n",
      "CoolantTemp is not supported\n",
      "IntakeTemp is not supported\n",
      "FuelLevel is not supported\n",
      "AmbientTemp is not supported\n",
      "EngineOilTemp is not supported\n",
      "FuelRate is not supported\n"
     ]
    },
    {
     "name": "stderr",
     "output_type": "stream",
     "text": [
      "[obd.obd] Query failed, no connection available\n",
      "[obd.obd] Query failed, no connection available\n",
      "[obd.obd] Query failed, no connection available\n",
      "[obd.obd] Query failed, no connection available\n",
      "[obd.obd] Query failed, no connection available\n",
      "[obd.obd] Query failed, no connection available\n",
      "[obd.obd] Query failed, no connection available\n",
      "[obd.obd] Query failed, no connection available\n",
      "[obd.obd] Query failed, no connection available\n"
     ]
    },
    {
     "name": "stdout",
     "output_type": "stream",
     "text": [
      "RPM is not supported\n",
      "Speed is not supported\n",
      "EngineLoad is not supported\n",
      "CoolantTemp is not supported\n",
      "IntakeTemp is not supported\n",
      "FuelLevel is not supported\n",
      "AmbientTemp is not supported\n",
      "EngineOilTemp is not supported\n",
      "FuelRate is not supported\n"
     ]
    },
    {
     "name": "stderr",
     "output_type": "stream",
     "text": [
      "[obd.obd] Query failed, no connection available\n",
      "[obd.obd] Query failed, no connection available\n",
      "[obd.obd] Query failed, no connection available\n",
      "[obd.obd] Query failed, no connection available\n",
      "[obd.obd] Query failed, no connection available\n",
      "[obd.obd] Query failed, no connection available\n",
      "[obd.obd] Query failed, no connection available\n",
      "[obd.obd] Query failed, no connection available\n",
      "[obd.obd] Query failed, no connection available\n"
     ]
    },
    {
     "name": "stdout",
     "output_type": "stream",
     "text": [
      "RPM is not supported\n",
      "Speed is not supported\n",
      "EngineLoad is not supported\n",
      "CoolantTemp is not supported\n",
      "IntakeTemp is not supported\n",
      "FuelLevel is not supported\n",
      "AmbientTemp is not supported\n",
      "EngineOilTemp is not supported\n",
      "FuelRate is not supported\n"
     ]
    },
    {
     "name": "stderr",
     "output_type": "stream",
     "text": [
      "[obd.obd] Query failed, no connection available\n",
      "[obd.obd] Query failed, no connection available\n",
      "[obd.obd] Query failed, no connection available\n",
      "[obd.obd] Query failed, no connection available\n",
      "[obd.obd] Query failed, no connection available\n",
      "[obd.obd] Query failed, no connection available\n",
      "[obd.obd] Query failed, no connection available\n",
      "[obd.obd] Query failed, no connection available\n",
      "[obd.obd] Query failed, no connection available\n"
     ]
    },
    {
     "name": "stdout",
     "output_type": "stream",
     "text": [
      "RPM is not supported\n",
      "Speed is not supported\n",
      "EngineLoad is not supported\n",
      "CoolantTemp is not supported\n",
      "IntakeTemp is not supported\n",
      "FuelLevel is not supported\n",
      "AmbientTemp is not supported\n",
      "EngineOilTemp is not supported\n",
      "FuelRate is not supported\n"
     ]
    },
    {
     "name": "stderr",
     "output_type": "stream",
     "text": [
      "[obd.obd] Query failed, no connection available\n",
      "[obd.obd] Query failed, no connection available\n",
      "[obd.obd] Query failed, no connection available\n",
      "[obd.obd] Query failed, no connection available\n",
      "[obd.obd] Query failed, no connection available\n",
      "[obd.obd] Query failed, no connection available\n",
      "[obd.obd] Query failed, no connection available\n",
      "[obd.obd] Query failed, no connection available\n",
      "[obd.obd] Query failed, no connection available\n"
     ]
    },
    {
     "name": "stdout",
     "output_type": "stream",
     "text": [
      "RPM is not supported\n",
      "Speed is not supported\n",
      "EngineLoad is not supported\n",
      "CoolantTemp is not supported\n",
      "IntakeTemp is not supported\n",
      "FuelLevel is not supported\n",
      "AmbientTemp is not supported\n",
      "EngineOilTemp is not supported\n",
      "FuelRate is not supported\n"
     ]
    },
    {
     "name": "stderr",
     "output_type": "stream",
     "text": [
      "[obd.obd] Query failed, no connection available\n",
      "[obd.obd] Query failed, no connection available\n",
      "[obd.obd] Query failed, no connection available\n",
      "[obd.obd] Query failed, no connection available\n",
      "[obd.obd] Query failed, no connection available\n",
      "[obd.obd] Query failed, no connection available\n",
      "[obd.obd] Query failed, no connection available\n",
      "[obd.obd] Query failed, no connection available\n",
      "[obd.obd] Query failed, no connection available\n"
     ]
    },
    {
     "name": "stdout",
     "output_type": "stream",
     "text": [
      "RPM is not supported\n",
      "Speed is not supported\n",
      "EngineLoad is not supported\n",
      "CoolantTemp is not supported\n",
      "IntakeTemp is not supported\n",
      "FuelLevel is not supported\n",
      "AmbientTemp is not supported\n",
      "EngineOilTemp is not supported\n",
      "FuelRate is not supported\n"
     ]
    },
    {
     "name": "stderr",
     "output_type": "stream",
     "text": [
      "[obd.obd] Query failed, no connection available\n",
      "[obd.obd] Query failed, no connection available\n",
      "[obd.obd] Query failed, no connection available\n",
      "[obd.obd] Query failed, no connection available\n",
      "[obd.obd] Query failed, no connection available\n",
      "[obd.obd] Query failed, no connection available\n",
      "[obd.obd] Query failed, no connection available\n",
      "[obd.obd] Query failed, no connection available\n",
      "[obd.obd] Query failed, no connection available\n"
     ]
    },
    {
     "name": "stdout",
     "output_type": "stream",
     "text": [
      "RPM is not supported\n",
      "Speed is not supported\n",
      "EngineLoad is not supported\n",
      "CoolantTemp is not supported\n",
      "IntakeTemp is not supported\n",
      "FuelLevel is not supported\n",
      "AmbientTemp is not supported\n",
      "EngineOilTemp is not supported\n",
      "FuelRate is not supported\n"
     ]
    },
    {
     "name": "stderr",
     "output_type": "stream",
     "text": [
      "[obd.obd] Query failed, no connection available\n",
      "[obd.obd] Query failed, no connection available\n",
      "[obd.obd] Query failed, no connection available\n",
      "[obd.obd] Query failed, no connection available\n",
      "[obd.obd] Query failed, no connection available\n",
      "[obd.obd] Query failed, no connection available\n",
      "[obd.obd] Query failed, no connection available\n",
      "[obd.obd] Query failed, no connection available\n",
      "[obd.obd] Query failed, no connection available\n"
     ]
    },
    {
     "name": "stdout",
     "output_type": "stream",
     "text": [
      "RPM is not supported\n",
      "Speed is not supported\n",
      "EngineLoad is not supported\n",
      "CoolantTemp is not supported\n",
      "IntakeTemp is not supported\n",
      "FuelLevel is not supported\n",
      "AmbientTemp is not supported\n",
      "EngineOilTemp is not supported\n",
      "FuelRate is not supported\n"
     ]
    },
    {
     "name": "stderr",
     "output_type": "stream",
     "text": [
      "[obd.obd] Query failed, no connection available\n",
      "[obd.obd] Query failed, no connection available\n",
      "[obd.obd] Query failed, no connection available\n",
      "[obd.obd] Query failed, no connection available\n",
      "[obd.obd] Query failed, no connection available\n",
      "[obd.obd] Query failed, no connection available\n",
      "[obd.obd] Query failed, no connection available\n",
      "[obd.obd] Query failed, no connection available\n",
      "[obd.obd] Query failed, no connection available\n"
     ]
    },
    {
     "name": "stdout",
     "output_type": "stream",
     "text": [
      "RPM is not supported\n",
      "Speed is not supported\n",
      "EngineLoad is not supported\n",
      "CoolantTemp is not supported\n",
      "IntakeTemp is not supported\n",
      "FuelLevel is not supported\n",
      "AmbientTemp is not supported\n",
      "EngineOilTemp is not supported\n",
      "FuelRate is not supported\n"
     ]
    },
    {
     "name": "stderr",
     "output_type": "stream",
     "text": [
      "[obd.obd] Query failed, no connection available\n",
      "[obd.obd] Query failed, no connection available\n",
      "[obd.obd] Query failed, no connection available\n",
      "[obd.obd] Query failed, no connection available\n",
      "[obd.obd] Query failed, no connection available\n",
      "[obd.obd] Query failed, no connection available\n",
      "[obd.obd] Query failed, no connection available\n",
      "[obd.obd] Query failed, no connection available\n",
      "[obd.obd] Query failed, no connection available\n"
     ]
    },
    {
     "name": "stdout",
     "output_type": "stream",
     "text": [
      "RPM is not supported\n",
      "Speed is not supported\n",
      "EngineLoad is not supported\n",
      "CoolantTemp is not supported\n",
      "IntakeTemp is not supported\n",
      "FuelLevel is not supported\n",
      "AmbientTemp is not supported\n",
      "EngineOilTemp is not supported\n",
      "FuelRate is not supported\n"
     ]
    },
    {
     "name": "stderr",
     "output_type": "stream",
     "text": [
      "[obd.obd] Query failed, no connection available\n",
      "[obd.obd] Query failed, no connection available\n",
      "[obd.obd] Query failed, no connection available\n",
      "[obd.obd] Query failed, no connection available\n",
      "[obd.obd] Query failed, no connection available\n",
      "[obd.obd] Query failed, no connection available\n",
      "[obd.obd] Query failed, no connection available\n",
      "[obd.obd] Query failed, no connection available\n",
      "[obd.obd] Query failed, no connection available\n"
     ]
    },
    {
     "name": "stdout",
     "output_type": "stream",
     "text": [
      "RPM is not supported\n",
      "Speed is not supported\n",
      "EngineLoad is not supported\n",
      "CoolantTemp is not supported\n",
      "IntakeTemp is not supported\n",
      "FuelLevel is not supported\n",
      "AmbientTemp is not supported\n",
      "EngineOilTemp is not supported\n",
      "FuelRate is not supported\n"
     ]
    },
    {
     "name": "stderr",
     "output_type": "stream",
     "text": [
      "[obd.obd] Query failed, no connection available\n",
      "[obd.obd] Query failed, no connection available\n",
      "[obd.obd] Query failed, no connection available\n",
      "[obd.obd] Query failed, no connection available\n",
      "[obd.obd] Query failed, no connection available\n",
      "[obd.obd] Query failed, no connection available\n",
      "[obd.obd] Query failed, no connection available\n",
      "[obd.obd] Query failed, no connection available\n",
      "[obd.obd] Query failed, no connection available\n"
     ]
    },
    {
     "name": "stdout",
     "output_type": "stream",
     "text": [
      "RPM is not supported\n",
      "Speed is not supported\n",
      "EngineLoad is not supported\n",
      "CoolantTemp is not supported\n",
      "IntakeTemp is not supported\n",
      "FuelLevel is not supported\n",
      "AmbientTemp is not supported\n",
      "EngineOilTemp is not supported\n",
      "FuelRate is not supported\n"
     ]
    },
    {
     "name": "stderr",
     "output_type": "stream",
     "text": [
      "[obd.obd] Query failed, no connection available\n",
      "[obd.obd] Query failed, no connection available\n",
      "[obd.obd] Query failed, no connection available\n",
      "[obd.obd] Query failed, no connection available\n",
      "[obd.obd] Query failed, no connection available\n",
      "[obd.obd] Query failed, no connection available\n",
      "[obd.obd] Query failed, no connection available\n",
      "[obd.obd] Query failed, no connection available\n",
      "[obd.obd] Query failed, no connection available\n"
     ]
    },
    {
     "name": "stdout",
     "output_type": "stream",
     "text": [
      "RPM is not supported\n",
      "Speed is not supported\n",
      "EngineLoad is not supported\n",
      "CoolantTemp is not supported\n",
      "IntakeTemp is not supported\n",
      "FuelLevel is not supported\n",
      "AmbientTemp is not supported\n",
      "EngineOilTemp is not supported\n",
      "FuelRate is not supported\n"
     ]
    },
    {
     "name": "stderr",
     "output_type": "stream",
     "text": [
      "[obd.obd] Query failed, no connection available\n",
      "[obd.obd] Query failed, no connection available\n",
      "[obd.obd] Query failed, no connection available\n",
      "[obd.obd] Query failed, no connection available\n",
      "[obd.obd] Query failed, no connection available\n",
      "[obd.obd] Query failed, no connection available\n",
      "[obd.obd] Query failed, no connection available\n",
      "[obd.obd] Query failed, no connection available\n",
      "[obd.obd] Query failed, no connection available\n"
     ]
    },
    {
     "name": "stdout",
     "output_type": "stream",
     "text": [
      "RPM is not supported\n",
      "Speed is not supported\n",
      "EngineLoad is not supported\n",
      "CoolantTemp is not supported\n",
      "IntakeTemp is not supported\n",
      "FuelLevel is not supported\n",
      "AmbientTemp is not supported\n",
      "EngineOilTemp is not supported\n",
      "FuelRate is not supported\n"
     ]
    },
    {
     "name": "stderr",
     "output_type": "stream",
     "text": [
      "[obd.obd] Query failed, no connection available\n",
      "[obd.obd] Query failed, no connection available\n",
      "[obd.obd] Query failed, no connection available\n",
      "[obd.obd] Query failed, no connection available\n",
      "[obd.obd] Query failed, no connection available\n",
      "[obd.obd] Query failed, no connection available\n",
      "[obd.obd] Query failed, no connection available\n",
      "[obd.obd] Query failed, no connection available\n",
      "[obd.obd] Query failed, no connection available\n"
     ]
    },
    {
     "name": "stdout",
     "output_type": "stream",
     "text": [
      "RPM is not supported\n",
      "Speed is not supported\n",
      "EngineLoad is not supported\n",
      "CoolantTemp is not supported\n",
      "IntakeTemp is not supported\n",
      "FuelLevel is not supported\n",
      "AmbientTemp is not supported\n",
      "EngineOilTemp is not supported\n",
      "FuelRate is not supported\n"
     ]
    },
    {
     "name": "stderr",
     "output_type": "stream",
     "text": [
      "[obd.obd] Query failed, no connection available\n",
      "[obd.obd] Query failed, no connection available\n",
      "[obd.obd] Query failed, no connection available\n",
      "[obd.obd] Query failed, no connection available\n",
      "[obd.obd] Query failed, no connection available\n",
      "[obd.obd] Query failed, no connection available\n",
      "[obd.obd] Query failed, no connection available\n",
      "[obd.obd] Query failed, no connection available\n",
      "[obd.obd] Query failed, no connection available\n"
     ]
    },
    {
     "name": "stdout",
     "output_type": "stream",
     "text": [
      "RPM is not supported\n",
      "Speed is not supported\n",
      "EngineLoad is not supported\n",
      "CoolantTemp is not supported\n",
      "IntakeTemp is not supported\n",
      "FuelLevel is not supported\n",
      "AmbientTemp is not supported\n",
      "EngineOilTemp is not supported\n",
      "FuelRate is not supported\n"
     ]
    },
    {
     "name": "stderr",
     "output_type": "stream",
     "text": [
      "[obd.obd] Query failed, no connection available\n",
      "[obd.obd] Query failed, no connection available\n",
      "[obd.obd] Query failed, no connection available\n",
      "[obd.obd] Query failed, no connection available\n",
      "[obd.obd] Query failed, no connection available\n",
      "[obd.obd] Query failed, no connection available\n",
      "[obd.obd] Query failed, no connection available\n",
      "[obd.obd] Query failed, no connection available\n",
      "[obd.obd] Query failed, no connection available\n"
     ]
    },
    {
     "name": "stdout",
     "output_type": "stream",
     "text": [
      "RPM is not supported\n",
      "Speed is not supported\n",
      "EngineLoad is not supported\n",
      "CoolantTemp is not supported\n",
      "IntakeTemp is not supported\n",
      "FuelLevel is not supported\n",
      "AmbientTemp is not supported\n",
      "EngineOilTemp is not supported\n",
      "FuelRate is not supported\n"
     ]
    },
    {
     "name": "stderr",
     "output_type": "stream",
     "text": [
      "[obd.obd] Query failed, no connection available\n",
      "[obd.obd] Query failed, no connection available\n",
      "[obd.obd] Query failed, no connection available\n",
      "[obd.obd] Query failed, no connection available\n",
      "[obd.obd] Query failed, no connection available\n",
      "[obd.obd] Query failed, no connection available\n",
      "[obd.obd] Query failed, no connection available\n",
      "[obd.obd] Query failed, no connection available\n",
      "[obd.obd] Query failed, no connection available\n"
     ]
    },
    {
     "name": "stdout",
     "output_type": "stream",
     "text": [
      "RPM is not supported\n",
      "Speed is not supported\n",
      "EngineLoad is not supported\n",
      "CoolantTemp is not supported\n",
      "IntakeTemp is not supported\n",
      "FuelLevel is not supported\n",
      "AmbientTemp is not supported\n",
      "EngineOilTemp is not supported\n",
      "FuelRate is not supported\n"
     ]
    },
    {
     "name": "stderr",
     "output_type": "stream",
     "text": [
      "[obd.obd] Query failed, no connection available\n",
      "[obd.obd] Query failed, no connection available\n",
      "[obd.obd] Query failed, no connection available\n",
      "[obd.obd] Query failed, no connection available\n",
      "[obd.obd] Query failed, no connection available\n",
      "[obd.obd] Query failed, no connection available\n",
      "[obd.obd] Query failed, no connection available\n",
      "[obd.obd] Query failed, no connection available\n",
      "[obd.obd] Query failed, no connection available\n"
     ]
    },
    {
     "name": "stdout",
     "output_type": "stream",
     "text": [
      "RPM is not supported\n",
      "Speed is not supported\n",
      "EngineLoad is not supported\n",
      "CoolantTemp is not supported\n",
      "IntakeTemp is not supported\n",
      "FuelLevel is not supported\n",
      "AmbientTemp is not supported\n",
      "EngineOilTemp is not supported\n",
      "FuelRate is not supported\n"
     ]
    },
    {
     "name": "stderr",
     "output_type": "stream",
     "text": [
      "[obd.obd] Query failed, no connection available\n",
      "[obd.obd] Query failed, no connection available\n",
      "[obd.obd] Query failed, no connection available\n",
      "[obd.obd] Query failed, no connection available\n",
      "[obd.obd] Query failed, no connection available\n",
      "[obd.obd] Query failed, no connection available\n",
      "[obd.obd] Query failed, no connection available\n",
      "[obd.obd] Query failed, no connection available\n",
      "[obd.obd] Query failed, no connection available\n"
     ]
    },
    {
     "name": "stdout",
     "output_type": "stream",
     "text": [
      "RPM is not supported\n",
      "Speed is not supported\n",
      "EngineLoad is not supported\n",
      "CoolantTemp is not supported\n",
      "IntakeTemp is not supported\n",
      "FuelLevel is not supported\n",
      "AmbientTemp is not supported\n",
      "EngineOilTemp is not supported\n",
      "FuelRate is not supported\n"
     ]
    },
    {
     "name": "stderr",
     "output_type": "stream",
     "text": [
      "[obd.obd] Query failed, no connection available\n",
      "[obd.obd] Query failed, no connection available\n",
      "[obd.obd] Query failed, no connection available\n",
      "[obd.obd] Query failed, no connection available\n",
      "[obd.obd] Query failed, no connection available\n",
      "[obd.obd] Query failed, no connection available\n",
      "[obd.obd] Query failed, no connection available\n",
      "[obd.obd] Query failed, no connection available\n",
      "[obd.obd] Query failed, no connection available\n"
     ]
    },
    {
     "name": "stdout",
     "output_type": "stream",
     "text": [
      "RPM is not supported\n",
      "Speed is not supported\n",
      "EngineLoad is not supported\n",
      "CoolantTemp is not supported\n",
      "IntakeTemp is not supported\n",
      "FuelLevel is not supported\n",
      "AmbientTemp is not supported\n",
      "EngineOilTemp is not supported\n",
      "FuelRate is not supported\n"
     ]
    },
    {
     "name": "stderr",
     "output_type": "stream",
     "text": [
      "[obd.obd] Query failed, no connection available\n",
      "[obd.obd] Query failed, no connection available\n",
      "[obd.obd] Query failed, no connection available\n",
      "[obd.obd] Query failed, no connection available\n",
      "[obd.obd] Query failed, no connection available\n",
      "[obd.obd] Query failed, no connection available\n",
      "[obd.obd] Query failed, no connection available\n",
      "[obd.obd] Query failed, no connection available\n",
      "[obd.obd] Query failed, no connection available\n"
     ]
    },
    {
     "name": "stdout",
     "output_type": "stream",
     "text": [
      "RPM is not supported\n",
      "Speed is not supported\n",
      "EngineLoad is not supported\n",
      "CoolantTemp is not supported\n",
      "IntakeTemp is not supported\n",
      "FuelLevel is not supported\n",
      "AmbientTemp is not supported\n",
      "EngineOilTemp is not supported\n",
      "FuelRate is not supported\n"
     ]
    },
    {
     "name": "stderr",
     "output_type": "stream",
     "text": [
      "[obd.obd] Query failed, no connection available\n",
      "[obd.obd] Query failed, no connection available\n",
      "[obd.obd] Query failed, no connection available\n",
      "[obd.obd] Query failed, no connection available\n",
      "[obd.obd] Query failed, no connection available\n",
      "[obd.obd] Query failed, no connection available\n",
      "[obd.obd] Query failed, no connection available\n",
      "[obd.obd] Query failed, no connection available\n",
      "[obd.obd] Query failed, no connection available\n"
     ]
    },
    {
     "name": "stdout",
     "output_type": "stream",
     "text": [
      "RPM is not supported\n",
      "Speed is not supported\n",
      "EngineLoad is not supported\n",
      "CoolantTemp is not supported\n",
      "IntakeTemp is not supported\n",
      "FuelLevel is not supported\n",
      "AmbientTemp is not supported\n",
      "EngineOilTemp is not supported\n",
      "FuelRate is not supported\n"
     ]
    },
    {
     "name": "stderr",
     "output_type": "stream",
     "text": [
      "[obd.obd] Query failed, no connection available\n",
      "[obd.obd] Query failed, no connection available\n",
      "[obd.obd] Query failed, no connection available\n",
      "[obd.obd] Query failed, no connection available\n",
      "[obd.obd] Query failed, no connection available\n",
      "[obd.obd] Query failed, no connection available\n",
      "[obd.obd] Query failed, no connection available\n",
      "[obd.obd] Query failed, no connection available\n",
      "[obd.obd] Query failed, no connection available\n"
     ]
    },
    {
     "name": "stdout",
     "output_type": "stream",
     "text": [
      "RPM is not supported\n",
      "Speed is not supported\n",
      "EngineLoad is not supported\n",
      "CoolantTemp is not supported\n",
      "IntakeTemp is not supported\n",
      "FuelLevel is not supported\n",
      "AmbientTemp is not supported\n",
      "EngineOilTemp is not supported\n",
      "FuelRate is not supported\n"
     ]
    },
    {
     "name": "stderr",
     "output_type": "stream",
     "text": [
      "[obd.obd] Query failed, no connection available\n",
      "[obd.obd] Query failed, no connection available\n",
      "[obd.obd] Query failed, no connection available\n",
      "[obd.obd] Query failed, no connection available\n",
      "[obd.obd] Query failed, no connection available\n",
      "[obd.obd] Query failed, no connection available\n",
      "[obd.obd] Query failed, no connection available\n",
      "[obd.obd] Query failed, no connection available\n",
      "[obd.obd] Query failed, no connection available\n"
     ]
    },
    {
     "name": "stdout",
     "output_type": "stream",
     "text": [
      "RPM is not supported\n",
      "Speed is not supported\n",
      "EngineLoad is not supported\n",
      "CoolantTemp is not supported\n",
      "IntakeTemp is not supported\n",
      "FuelLevel is not supported\n",
      "AmbientTemp is not supported\n",
      "EngineOilTemp is not supported\n",
      "FuelRate is not supported\n"
     ]
    },
    {
     "name": "stderr",
     "output_type": "stream",
     "text": [
      "[obd.obd] Query failed, no connection available\n",
      "[obd.obd] Query failed, no connection available\n",
      "[obd.obd] Query failed, no connection available\n",
      "[obd.obd] Query failed, no connection available\n",
      "[obd.obd] Query failed, no connection available\n",
      "[obd.obd] Query failed, no connection available\n",
      "[obd.obd] Query failed, no connection available\n",
      "[obd.obd] Query failed, no connection available\n",
      "[obd.obd] Query failed, no connection available\n"
     ]
    },
    {
     "name": "stdout",
     "output_type": "stream",
     "text": [
      "RPM is not supported\n",
      "Speed is not supported\n",
      "EngineLoad is not supported\n",
      "CoolantTemp is not supported\n",
      "IntakeTemp is not supported\n",
      "FuelLevel is not supported\n",
      "AmbientTemp is not supported\n",
      "EngineOilTemp is not supported\n",
      "FuelRate is not supported\n"
     ]
    },
    {
     "name": "stderr",
     "output_type": "stream",
     "text": [
      "[obd.obd] Query failed, no connection available\n",
      "[obd.obd] Query failed, no connection available\n",
      "[obd.obd] Query failed, no connection available\n",
      "[obd.obd] Query failed, no connection available\n",
      "[obd.obd] Query failed, no connection available\n",
      "[obd.obd] Query failed, no connection available\n",
      "[obd.obd] Query failed, no connection available\n",
      "[obd.obd] Query failed, no connection available\n",
      "[obd.obd] Query failed, no connection available\n"
     ]
    },
    {
     "name": "stdout",
     "output_type": "stream",
     "text": [
      "RPM is not supported\n",
      "Speed is not supported\n",
      "EngineLoad is not supported\n",
      "CoolantTemp is not supported\n",
      "IntakeTemp is not supported\n",
      "FuelLevel is not supported\n",
      "AmbientTemp is not supported\n",
      "EngineOilTemp is not supported\n",
      "FuelRate is not supported\n"
     ]
    },
    {
     "name": "stderr",
     "output_type": "stream",
     "text": [
      "[obd.obd] Query failed, no connection available\n",
      "[obd.obd] Query failed, no connection available\n",
      "[obd.obd] Query failed, no connection available\n",
      "[obd.obd] Query failed, no connection available\n",
      "[obd.obd] Query failed, no connection available\n",
      "[obd.obd] Query failed, no connection available\n",
      "[obd.obd] Query failed, no connection available\n",
      "[obd.obd] Query failed, no connection available\n",
      "[obd.obd] Query failed, no connection available\n"
     ]
    },
    {
     "name": "stdout",
     "output_type": "stream",
     "text": [
      "RPM is not supported\n",
      "Speed is not supported\n",
      "EngineLoad is not supported\n",
      "CoolantTemp is not supported\n",
      "IntakeTemp is not supported\n",
      "FuelLevel is not supported\n",
      "AmbientTemp is not supported\n",
      "EngineOilTemp is not supported\n",
      "FuelRate is not supported\n"
     ]
    },
    {
     "name": "stderr",
     "output_type": "stream",
     "text": [
      "[obd.obd] Query failed, no connection available\n",
      "[obd.obd] Query failed, no connection available\n",
      "[obd.obd] Query failed, no connection available\n",
      "[obd.obd] Query failed, no connection available\n",
      "[obd.obd] Query failed, no connection available\n",
      "[obd.obd] Query failed, no connection available\n",
      "[obd.obd] Query failed, no connection available\n",
      "[obd.obd] Query failed, no connection available\n",
      "[obd.obd] Query failed, no connection available\n"
     ]
    },
    {
     "name": "stdout",
     "output_type": "stream",
     "text": [
      "RPM is not supported\n",
      "Speed is not supported\n",
      "EngineLoad is not supported\n",
      "CoolantTemp is not supported\n",
      "IntakeTemp is not supported\n",
      "FuelLevel is not supported\n",
      "AmbientTemp is not supported\n",
      "EngineOilTemp is not supported\n",
      "FuelRate is not supported\n"
     ]
    },
    {
     "name": "stderr",
     "output_type": "stream",
     "text": [
      "[obd.obd] Query failed, no connection available\n",
      "[obd.obd] Query failed, no connection available\n",
      "[obd.obd] Query failed, no connection available\n",
      "[obd.obd] Query failed, no connection available\n",
      "[obd.obd] Query failed, no connection available\n",
      "[obd.obd] Query failed, no connection available\n",
      "[obd.obd] Query failed, no connection available\n",
      "[obd.obd] Query failed, no connection available\n",
      "[obd.obd] Query failed, no connection available\n"
     ]
    },
    {
     "name": "stdout",
     "output_type": "stream",
     "text": [
      "RPM is not supported\n",
      "Speed is not supported\n",
      "EngineLoad is not supported\n",
      "CoolantTemp is not supported\n",
      "IntakeTemp is not supported\n",
      "FuelLevel is not supported\n",
      "AmbientTemp is not supported\n",
      "EngineOilTemp is not supported\n",
      "FuelRate is not supported\n"
     ]
    },
    {
     "name": "stderr",
     "output_type": "stream",
     "text": [
      "[obd.obd] Query failed, no connection available\n",
      "[obd.obd] Query failed, no connection available\n",
      "[obd.obd] Query failed, no connection available\n",
      "[obd.obd] Query failed, no connection available\n",
      "[obd.obd] Query failed, no connection available\n",
      "[obd.obd] Query failed, no connection available\n",
      "[obd.obd] Query failed, no connection available\n",
      "[obd.obd] Query failed, no connection available\n",
      "[obd.obd] Query failed, no connection available\n"
     ]
    },
    {
     "name": "stdout",
     "output_type": "stream",
     "text": [
      "RPM is not supported\n",
      "Speed is not supported\n",
      "EngineLoad is not supported\n",
      "CoolantTemp is not supported\n",
      "IntakeTemp is not supported\n",
      "FuelLevel is not supported\n",
      "AmbientTemp is not supported\n",
      "EngineOilTemp is not supported\n",
      "FuelRate is not supported\n"
     ]
    },
    {
     "name": "stderr",
     "output_type": "stream",
     "text": [
      "[obd.obd] Query failed, no connection available\n",
      "[obd.obd] Query failed, no connection available\n",
      "[obd.obd] Query failed, no connection available\n",
      "[obd.obd] Query failed, no connection available\n",
      "[obd.obd] Query failed, no connection available\n",
      "[obd.obd] Query failed, no connection available\n",
      "[obd.obd] Query failed, no connection available\n",
      "[obd.obd] Query failed, no connection available\n",
      "[obd.obd] Query failed, no connection available\n"
     ]
    },
    {
     "name": "stdout",
     "output_type": "stream",
     "text": [
      "RPM is not supported\n",
      "Speed is not supported\n",
      "EngineLoad is not supported\n",
      "CoolantTemp is not supported\n",
      "IntakeTemp is not supported\n",
      "FuelLevel is not supported\n",
      "AmbientTemp is not supported\n",
      "EngineOilTemp is not supported\n",
      "FuelRate is not supported\n"
     ]
    },
    {
     "name": "stderr",
     "output_type": "stream",
     "text": [
      "[obd.obd] Query failed, no connection available\n",
      "[obd.obd] Query failed, no connection available\n",
      "[obd.obd] Query failed, no connection available\n",
      "[obd.obd] Query failed, no connection available\n",
      "[obd.obd] Query failed, no connection available\n",
      "[obd.obd] Query failed, no connection available\n",
      "[obd.obd] Query failed, no connection available\n",
      "[obd.obd] Query failed, no connection available\n",
      "[obd.obd] Query failed, no connection available\n"
     ]
    },
    {
     "name": "stdout",
     "output_type": "stream",
     "text": [
      "RPM is not supported\n",
      "Speed is not supported\n",
      "EngineLoad is not supported\n",
      "CoolantTemp is not supported\n",
      "IntakeTemp is not supported\n",
      "FuelLevel is not supported\n",
      "AmbientTemp is not supported\n",
      "EngineOilTemp is not supported\n",
      "FuelRate is not supported\n"
     ]
    },
    {
     "name": "stderr",
     "output_type": "stream",
     "text": [
      "[obd.obd] Query failed, no connection available\n",
      "[obd.obd] Query failed, no connection available\n",
      "[obd.obd] Query failed, no connection available\n",
      "[obd.obd] Query failed, no connection available\n",
      "[obd.obd] Query failed, no connection available\n",
      "[obd.obd] Query failed, no connection available\n",
      "[obd.obd] Query failed, no connection available\n",
      "[obd.obd] Query failed, no connection available\n",
      "[obd.obd] Query failed, no connection available\n"
     ]
    },
    {
     "name": "stdout",
     "output_type": "stream",
     "text": [
      "RPM is not supported\n",
      "Speed is not supported\n",
      "EngineLoad is not supported\n",
      "CoolantTemp is not supported\n",
      "IntakeTemp is not supported\n",
      "FuelLevel is not supported\n",
      "AmbientTemp is not supported\n",
      "EngineOilTemp is not supported\n",
      "FuelRate is not supported\n"
     ]
    },
    {
     "name": "stderr",
     "output_type": "stream",
     "text": [
      "[obd.obd] Query failed, no connection available\n",
      "[obd.obd] Query failed, no connection available\n",
      "[obd.obd] Query failed, no connection available\n",
      "[obd.obd] Query failed, no connection available\n",
      "[obd.obd] Query failed, no connection available\n",
      "[obd.obd] Query failed, no connection available\n",
      "[obd.obd] Query failed, no connection available\n",
      "[obd.obd] Query failed, no connection available\n",
      "[obd.obd] Query failed, no connection available\n"
     ]
    },
    {
     "name": "stdout",
     "output_type": "stream",
     "text": [
      "RPM is not supported\n",
      "Speed is not supported\n",
      "EngineLoad is not supported\n",
      "CoolantTemp is not supported\n",
      "IntakeTemp is not supported\n",
      "FuelLevel is not supported\n",
      "AmbientTemp is not supported\n",
      "EngineOilTemp is not supported\n",
      "FuelRate is not supported\n"
     ]
    },
    {
     "name": "stderr",
     "output_type": "stream",
     "text": [
      "[obd.obd] Query failed, no connection available\n",
      "[obd.obd] Query failed, no connection available\n",
      "[obd.obd] Query failed, no connection available\n",
      "[obd.obd] Query failed, no connection available\n",
      "[obd.obd] Query failed, no connection available\n",
      "[obd.obd] Query failed, no connection available\n",
      "[obd.obd] Query failed, no connection available\n",
      "[obd.obd] Query failed, no connection available\n",
      "[obd.obd] Query failed, no connection available\n"
     ]
    },
    {
     "name": "stdout",
     "output_type": "stream",
     "text": [
      "RPM is not supported\n",
      "Speed is not supported\n",
      "EngineLoad is not supported\n",
      "CoolantTemp is not supported\n",
      "IntakeTemp is not supported\n",
      "FuelLevel is not supported\n",
      "AmbientTemp is not supported\n",
      "EngineOilTemp is not supported\n",
      "FuelRate is not supported\n"
     ]
    },
    {
     "name": "stderr",
     "output_type": "stream",
     "text": [
      "[obd.obd] Query failed, no connection available\n",
      "[obd.obd] Query failed, no connection available\n",
      "[obd.obd] Query failed, no connection available\n",
      "[obd.obd] Query failed, no connection available\n",
      "[obd.obd] Query failed, no connection available\n",
      "[obd.obd] Query failed, no connection available\n",
      "[obd.obd] Query failed, no connection available\n",
      "[obd.obd] Query failed, no connection available\n",
      "[obd.obd] Query failed, no connection available\n"
     ]
    },
    {
     "name": "stdout",
     "output_type": "stream",
     "text": [
      "RPM is not supported\n",
      "Speed is not supported\n",
      "EngineLoad is not supported\n",
      "CoolantTemp is not supported\n",
      "IntakeTemp is not supported\n",
      "FuelLevel is not supported\n",
      "AmbientTemp is not supported\n",
      "EngineOilTemp is not supported\n",
      "FuelRate is not supported\n"
     ]
    },
    {
     "name": "stderr",
     "output_type": "stream",
     "text": [
      "[obd.obd] Query failed, no connection available\n",
      "[obd.obd] Query failed, no connection available\n",
      "[obd.obd] Query failed, no connection available\n",
      "[obd.obd] Query failed, no connection available\n",
      "[obd.obd] Query failed, no connection available\n",
      "[obd.obd] Query failed, no connection available\n",
      "[obd.obd] Query failed, no connection available\n",
      "[obd.obd] Query failed, no connection available\n",
      "[obd.obd] Query failed, no connection available\n"
     ]
    },
    {
     "name": "stdout",
     "output_type": "stream",
     "text": [
      "RPM is not supported\n",
      "Speed is not supported\n",
      "EngineLoad is not supported\n",
      "CoolantTemp is not supported\n",
      "IntakeTemp is not supported\n",
      "FuelLevel is not supported\n",
      "AmbientTemp is not supported\n",
      "EngineOilTemp is not supported\n",
      "FuelRate is not supported\n"
     ]
    },
    {
     "name": "stderr",
     "output_type": "stream",
     "text": [
      "[obd.obd] Query failed, no connection available\n",
      "[obd.obd] Query failed, no connection available\n",
      "[obd.obd] Query failed, no connection available\n",
      "[obd.obd] Query failed, no connection available\n",
      "[obd.obd] Query failed, no connection available\n",
      "[obd.obd] Query failed, no connection available\n",
      "[obd.obd] Query failed, no connection available\n",
      "[obd.obd] Query failed, no connection available\n",
      "[obd.obd] Query failed, no connection available\n"
     ]
    },
    {
     "name": "stdout",
     "output_type": "stream",
     "text": [
      "RPM is not supported\n",
      "Speed is not supported\n",
      "EngineLoad is not supported\n",
      "CoolantTemp is not supported\n",
      "IntakeTemp is not supported\n",
      "FuelLevel is not supported\n",
      "AmbientTemp is not supported\n",
      "EngineOilTemp is not supported\n",
      "FuelRate is not supported\n"
     ]
    },
    {
     "name": "stderr",
     "output_type": "stream",
     "text": [
      "[obd.obd] Query failed, no connection available\n",
      "[obd.obd] Query failed, no connection available\n",
      "[obd.obd] Query failed, no connection available\n",
      "[obd.obd] Query failed, no connection available\n",
      "[obd.obd] Query failed, no connection available\n",
      "[obd.obd] Query failed, no connection available\n",
      "[obd.obd] Query failed, no connection available\n",
      "[obd.obd] Query failed, no connection available\n",
      "[obd.obd] Query failed, no connection available\n"
     ]
    },
    {
     "name": "stdout",
     "output_type": "stream",
     "text": [
      "RPM is not supported\n",
      "Speed is not supported\n",
      "EngineLoad is not supported\n",
      "CoolantTemp is not supported\n",
      "IntakeTemp is not supported\n",
      "FuelLevel is not supported\n",
      "AmbientTemp is not supported\n",
      "EngineOilTemp is not supported\n",
      "FuelRate is not supported\n"
     ]
    },
    {
     "name": "stderr",
     "output_type": "stream",
     "text": [
      "[obd.obd] Query failed, no connection available\n",
      "[obd.obd] Query failed, no connection available\n",
      "[obd.obd] Query failed, no connection available\n",
      "[obd.obd] Query failed, no connection available\n",
      "[obd.obd] Query failed, no connection available\n",
      "[obd.obd] Query failed, no connection available\n",
      "[obd.obd] Query failed, no connection available\n",
      "[obd.obd] Query failed, no connection available\n",
      "[obd.obd] Query failed, no connection available\n"
     ]
    },
    {
     "name": "stdout",
     "output_type": "stream",
     "text": [
      "RPM is not supported\n",
      "Speed is not supported\n",
      "EngineLoad is not supported\n",
      "CoolantTemp is not supported\n",
      "IntakeTemp is not supported\n",
      "FuelLevel is not supported\n",
      "AmbientTemp is not supported\n",
      "EngineOilTemp is not supported\n",
      "FuelRate is not supported\n"
     ]
    },
    {
     "name": "stderr",
     "output_type": "stream",
     "text": [
      "[obd.obd] Query failed, no connection available\n",
      "[obd.obd] Query failed, no connection available\n",
      "[obd.obd] Query failed, no connection available\n",
      "[obd.obd] Query failed, no connection available\n",
      "[obd.obd] Query failed, no connection available\n",
      "[obd.obd] Query failed, no connection available\n",
      "[obd.obd] Query failed, no connection available\n",
      "[obd.obd] Query failed, no connection available\n",
      "[obd.obd] Query failed, no connection available\n"
     ]
    },
    {
     "name": "stdout",
     "output_type": "stream",
     "text": [
      "RPM is not supported\n",
      "Speed is not supported\n",
      "EngineLoad is not supported\n",
      "CoolantTemp is not supported\n",
      "IntakeTemp is not supported\n",
      "FuelLevel is not supported\n",
      "AmbientTemp is not supported\n",
      "EngineOilTemp is not supported\n",
      "FuelRate is not supported\n"
     ]
    },
    {
     "name": "stderr",
     "output_type": "stream",
     "text": [
      "[obd.obd] Query failed, no connection available\n",
      "[obd.obd] Query failed, no connection available\n",
      "[obd.obd] Query failed, no connection available\n",
      "[obd.obd] Query failed, no connection available\n",
      "[obd.obd] Query failed, no connection available\n",
      "[obd.obd] Query failed, no connection available\n",
      "[obd.obd] Query failed, no connection available\n",
      "[obd.obd] Query failed, no connection available\n",
      "[obd.obd] Query failed, no connection available\n"
     ]
    },
    {
     "name": "stdout",
     "output_type": "stream",
     "text": [
      "RPM is not supported\n",
      "Speed is not supported\n",
      "EngineLoad is not supported\n",
      "CoolantTemp is not supported\n",
      "IntakeTemp is not supported\n",
      "FuelLevel is not supported\n",
      "AmbientTemp is not supported\n",
      "EngineOilTemp is not supported\n",
      "FuelRate is not supported\n"
     ]
    },
    {
     "name": "stderr",
     "output_type": "stream",
     "text": [
      "[obd.obd] Query failed, no connection available\n",
      "[obd.obd] Query failed, no connection available\n",
      "[obd.obd] Query failed, no connection available\n",
      "[obd.obd] Query failed, no connection available\n",
      "[obd.obd] Query failed, no connection available\n",
      "[obd.obd] Query failed, no connection available\n",
      "[obd.obd] Query failed, no connection available\n",
      "[obd.obd] Query failed, no connection available\n",
      "[obd.obd] Query failed, no connection available\n"
     ]
    },
    {
     "name": "stdout",
     "output_type": "stream",
     "text": [
      "RPM is not supported\n",
      "Speed is not supported\n",
      "EngineLoad is not supported\n",
      "CoolantTemp is not supported\n",
      "IntakeTemp is not supported\n",
      "FuelLevel is not supported\n",
      "AmbientTemp is not supported\n",
      "EngineOilTemp is not supported\n",
      "FuelRate is not supported\n"
     ]
    },
    {
     "name": "stderr",
     "output_type": "stream",
     "text": [
      "[obd.obd] Query failed, no connection available\n",
      "[obd.obd] Query failed, no connection available\n",
      "[obd.obd] Query failed, no connection available\n",
      "[obd.obd] Query failed, no connection available\n",
      "[obd.obd] Query failed, no connection available\n",
      "[obd.obd] Query failed, no connection available\n",
      "[obd.obd] Query failed, no connection available\n",
      "[obd.obd] Query failed, no connection available\n",
      "[obd.obd] Query failed, no connection available\n"
     ]
    },
    {
     "name": "stdout",
     "output_type": "stream",
     "text": [
      "RPM is not supported\n",
      "Speed is not supported\n",
      "EngineLoad is not supported\n",
      "CoolantTemp is not supported\n",
      "IntakeTemp is not supported\n",
      "FuelLevel is not supported\n",
      "AmbientTemp is not supported\n",
      "EngineOilTemp is not supported\n",
      "FuelRate is not supported\n"
     ]
    },
    {
     "name": "stderr",
     "output_type": "stream",
     "text": [
      "[obd.obd] Query failed, no connection available\n",
      "[obd.obd] Query failed, no connection available\n",
      "[obd.obd] Query failed, no connection available\n",
      "[obd.obd] Query failed, no connection available\n",
      "[obd.obd] Query failed, no connection available\n",
      "[obd.obd] Query failed, no connection available\n",
      "[obd.obd] Query failed, no connection available\n",
      "[obd.obd] Query failed, no connection available\n",
      "[obd.obd] Query failed, no connection available\n"
     ]
    },
    {
     "name": "stdout",
     "output_type": "stream",
     "text": [
      "RPM is not supported\n",
      "Speed is not supported\n",
      "EngineLoad is not supported\n",
      "CoolantTemp is not supported\n",
      "IntakeTemp is not supported\n",
      "FuelLevel is not supported\n",
      "AmbientTemp is not supported\n",
      "EngineOilTemp is not supported\n",
      "FuelRate is not supported\n"
     ]
    },
    {
     "name": "stderr",
     "output_type": "stream",
     "text": [
      "[obd.obd] Query failed, no connection available\n",
      "[obd.obd] Query failed, no connection available\n",
      "[obd.obd] Query failed, no connection available\n",
      "[obd.obd] Query failed, no connection available\n",
      "[obd.obd] Query failed, no connection available\n",
      "[obd.obd] Query failed, no connection available\n",
      "[obd.obd] Query failed, no connection available\n",
      "[obd.obd] Query failed, no connection available\n",
      "[obd.obd] Query failed, no connection available\n"
     ]
    },
    {
     "name": "stdout",
     "output_type": "stream",
     "text": [
      "RPM is not supported\n",
      "Speed is not supported\n",
      "EngineLoad is not supported\n",
      "CoolantTemp is not supported\n",
      "IntakeTemp is not supported\n",
      "FuelLevel is not supported\n",
      "AmbientTemp is not supported\n",
      "EngineOilTemp is not supported\n",
      "FuelRate is not supported\n"
     ]
    },
    {
     "name": "stderr",
     "output_type": "stream",
     "text": [
      "[obd.obd] Query failed, no connection available\n",
      "[obd.obd] Query failed, no connection available\n",
      "[obd.obd] Query failed, no connection available\n",
      "[obd.obd] Query failed, no connection available\n",
      "[obd.obd] Query failed, no connection available\n",
      "[obd.obd] Query failed, no connection available\n",
      "[obd.obd] Query failed, no connection available\n",
      "[obd.obd] Query failed, no connection available\n",
      "[obd.obd] Query failed, no connection available\n"
     ]
    },
    {
     "name": "stdout",
     "output_type": "stream",
     "text": [
      "RPM is not supported\n",
      "Speed is not supported\n",
      "EngineLoad is not supported\n",
      "CoolantTemp is not supported\n",
      "IntakeTemp is not supported\n",
      "FuelLevel is not supported\n",
      "AmbientTemp is not supported\n",
      "EngineOilTemp is not supported\n",
      "FuelRate is not supported\n"
     ]
    },
    {
     "name": "stderr",
     "output_type": "stream",
     "text": [
      "[obd.obd] Query failed, no connection available\n",
      "[obd.obd] Query failed, no connection available\n",
      "[obd.obd] Query failed, no connection available\n",
      "[obd.obd] Query failed, no connection available\n",
      "[obd.obd] Query failed, no connection available\n",
      "[obd.obd] Query failed, no connection available\n",
      "[obd.obd] Query failed, no connection available\n",
      "[obd.obd] Query failed, no connection available\n",
      "[obd.obd] Query failed, no connection available\n"
     ]
    },
    {
     "name": "stdout",
     "output_type": "stream",
     "text": [
      "RPM is not supported\n",
      "Speed is not supported\n",
      "EngineLoad is not supported\n",
      "CoolantTemp is not supported\n",
      "IntakeTemp is not supported\n",
      "FuelLevel is not supported\n",
      "AmbientTemp is not supported\n",
      "EngineOilTemp is not supported\n",
      "FuelRate is not supported\n"
     ]
    },
    {
     "name": "stderr",
     "output_type": "stream",
     "text": [
      "[obd.obd] Query failed, no connection available\n",
      "[obd.obd] Query failed, no connection available\n",
      "[obd.obd] Query failed, no connection available\n",
      "[obd.obd] Query failed, no connection available\n",
      "[obd.obd] Query failed, no connection available\n",
      "[obd.obd] Query failed, no connection available\n",
      "[obd.obd] Query failed, no connection available\n",
      "[obd.obd] Query failed, no connection available\n",
      "[obd.obd] Query failed, no connection available\n"
     ]
    },
    {
     "name": "stdout",
     "output_type": "stream",
     "text": [
      "RPM is not supported\n",
      "Speed is not supported\n",
      "EngineLoad is not supported\n",
      "CoolantTemp is not supported\n",
      "IntakeTemp is not supported\n",
      "FuelLevel is not supported\n",
      "AmbientTemp is not supported\n",
      "EngineOilTemp is not supported\n",
      "FuelRate is not supported\n"
     ]
    },
    {
     "name": "stderr",
     "output_type": "stream",
     "text": [
      "[obd.obd] Query failed, no connection available\n",
      "[obd.obd] Query failed, no connection available\n",
      "[obd.obd] Query failed, no connection available\n",
      "[obd.obd] Query failed, no connection available\n",
      "[obd.obd] Query failed, no connection available\n",
      "[obd.obd] Query failed, no connection available\n",
      "[obd.obd] Query failed, no connection available\n",
      "[obd.obd] Query failed, no connection available\n",
      "[obd.obd] Query failed, no connection available\n"
     ]
    },
    {
     "name": "stdout",
     "output_type": "stream",
     "text": [
      "RPM is not supported\n",
      "Speed is not supported\n",
      "EngineLoad is not supported\n",
      "CoolantTemp is not supported\n",
      "IntakeTemp is not supported\n",
      "FuelLevel is not supported\n",
      "AmbientTemp is not supported\n",
      "EngineOilTemp is not supported\n",
      "FuelRate is not supported\n"
     ]
    },
    {
     "name": "stderr",
     "output_type": "stream",
     "text": [
      "[obd.obd] Query failed, no connection available\n",
      "[obd.obd] Query failed, no connection available\n",
      "[obd.obd] Query failed, no connection available\n",
      "[obd.obd] Query failed, no connection available\n",
      "[obd.obd] Query failed, no connection available\n",
      "[obd.obd] Query failed, no connection available\n",
      "[obd.obd] Query failed, no connection available\n",
      "[obd.obd] Query failed, no connection available\n",
      "[obd.obd] Query failed, no connection available\n"
     ]
    },
    {
     "name": "stdout",
     "output_type": "stream",
     "text": [
      "RPM is not supported\n",
      "Speed is not supported\n",
      "EngineLoad is not supported\n",
      "CoolantTemp is not supported\n",
      "IntakeTemp is not supported\n",
      "FuelLevel is not supported\n",
      "AmbientTemp is not supported\n",
      "EngineOilTemp is not supported\n",
      "FuelRate is not supported\n"
     ]
    },
    {
     "name": "stderr",
     "output_type": "stream",
     "text": [
      "[obd.obd] Query failed, no connection available\n",
      "[obd.obd] Query failed, no connection available\n",
      "[obd.obd] Query failed, no connection available\n",
      "[obd.obd] Query failed, no connection available\n",
      "[obd.obd] Query failed, no connection available\n",
      "[obd.obd] Query failed, no connection available\n",
      "[obd.obd] Query failed, no connection available\n",
      "[obd.obd] Query failed, no connection available\n",
      "[obd.obd] Query failed, no connection available\n"
     ]
    },
    {
     "name": "stdout",
     "output_type": "stream",
     "text": [
      "RPM is not supported\n",
      "Speed is not supported\n",
      "EngineLoad is not supported\n",
      "CoolantTemp is not supported\n",
      "IntakeTemp is not supported\n",
      "FuelLevel is not supported\n",
      "AmbientTemp is not supported\n",
      "EngineOilTemp is not supported\n",
      "FuelRate is not supported\n"
     ]
    },
    {
     "name": "stderr",
     "output_type": "stream",
     "text": [
      "[obd.obd] Query failed, no connection available\n",
      "[obd.obd] Query failed, no connection available\n",
      "[obd.obd] Query failed, no connection available\n",
      "[obd.obd] Query failed, no connection available\n",
      "[obd.obd] Query failed, no connection available\n",
      "[obd.obd] Query failed, no connection available\n",
      "[obd.obd] Query failed, no connection available\n",
      "[obd.obd] Query failed, no connection available\n",
      "[obd.obd] Query failed, no connection available\n"
     ]
    },
    {
     "name": "stdout",
     "output_type": "stream",
     "text": [
      "RPM is not supported\n",
      "Speed is not supported\n",
      "EngineLoad is not supported\n",
      "CoolantTemp is not supported\n",
      "IntakeTemp is not supported\n",
      "FuelLevel is not supported\n",
      "AmbientTemp is not supported\n",
      "EngineOilTemp is not supported\n",
      "FuelRate is not supported\n"
     ]
    },
    {
     "name": "stderr",
     "output_type": "stream",
     "text": [
      "[obd.obd] Query failed, no connection available\n",
      "[obd.obd] Query failed, no connection available\n",
      "[obd.obd] Query failed, no connection available\n",
      "[obd.obd] Query failed, no connection available\n",
      "[obd.obd] Query failed, no connection available\n",
      "[obd.obd] Query failed, no connection available\n",
      "[obd.obd] Query failed, no connection available\n",
      "[obd.obd] Query failed, no connection available\n",
      "[obd.obd] Query failed, no connection available\n"
     ]
    },
    {
     "name": "stdout",
     "output_type": "stream",
     "text": [
      "RPM is not supported\n",
      "Speed is not supported\n",
      "EngineLoad is not supported\n",
      "CoolantTemp is not supported\n",
      "IntakeTemp is not supported\n",
      "FuelLevel is not supported\n",
      "AmbientTemp is not supported\n",
      "EngineOilTemp is not supported\n",
      "FuelRate is not supported\n"
     ]
    },
    {
     "name": "stderr",
     "output_type": "stream",
     "text": [
      "[obd.obd] Query failed, no connection available\n",
      "[obd.obd] Query failed, no connection available\n",
      "[obd.obd] Query failed, no connection available\n",
      "[obd.obd] Query failed, no connection available\n",
      "[obd.obd] Query failed, no connection available\n",
      "[obd.obd] Query failed, no connection available\n",
      "[obd.obd] Query failed, no connection available\n",
      "[obd.obd] Query failed, no connection available\n",
      "[obd.obd] Query failed, no connection available\n"
     ]
    },
    {
     "name": "stdout",
     "output_type": "stream",
     "text": [
      "RPM is not supported\n",
      "Speed is not supported\n",
      "EngineLoad is not supported\n",
      "CoolantTemp is not supported\n",
      "IntakeTemp is not supported\n",
      "FuelLevel is not supported\n",
      "AmbientTemp is not supported\n",
      "EngineOilTemp is not supported\n",
      "FuelRate is not supported\n"
     ]
    },
    {
     "name": "stderr",
     "output_type": "stream",
     "text": [
      "[obd.obd] Query failed, no connection available\n",
      "[obd.obd] Query failed, no connection available\n",
      "[obd.obd] Query failed, no connection available\n",
      "[obd.obd] Query failed, no connection available\n",
      "[obd.obd] Query failed, no connection available\n",
      "[obd.obd] Query failed, no connection available\n",
      "[obd.obd] Query failed, no connection available\n",
      "[obd.obd] Query failed, no connection available\n",
      "[obd.obd] Query failed, no connection available\n"
     ]
    },
    {
     "name": "stdout",
     "output_type": "stream",
     "text": [
      "RPM is not supported\n",
      "Speed is not supported\n",
      "EngineLoad is not supported\n",
      "CoolantTemp is not supported\n",
      "IntakeTemp is not supported\n",
      "FuelLevel is not supported\n",
      "AmbientTemp is not supported\n",
      "EngineOilTemp is not supported\n",
      "FuelRate is not supported\n"
     ]
    },
    {
     "name": "stderr",
     "output_type": "stream",
     "text": [
      "[obd.obd] Query failed, no connection available\n",
      "[obd.obd] Query failed, no connection available\n",
      "[obd.obd] Query failed, no connection available\n",
      "[obd.obd] Query failed, no connection available\n",
      "[obd.obd] Query failed, no connection available\n",
      "[obd.obd] Query failed, no connection available\n",
      "[obd.obd] Query failed, no connection available\n",
      "[obd.obd] Query failed, no connection available\n",
      "[obd.obd] Query failed, no connection available\n"
     ]
    },
    {
     "name": "stdout",
     "output_type": "stream",
     "text": [
      "RPM is not supported\n",
      "Speed is not supported\n",
      "EngineLoad is not supported\n",
      "CoolantTemp is not supported\n",
      "IntakeTemp is not supported\n",
      "FuelLevel is not supported\n",
      "AmbientTemp is not supported\n",
      "EngineOilTemp is not supported\n",
      "FuelRate is not supported\n"
     ]
    },
    {
     "name": "stderr",
     "output_type": "stream",
     "text": [
      "[obd.obd] Query failed, no connection available\n",
      "[obd.obd] Query failed, no connection available\n",
      "[obd.obd] Query failed, no connection available\n",
      "[obd.obd] Query failed, no connection available\n",
      "[obd.obd] Query failed, no connection available\n",
      "[obd.obd] Query failed, no connection available\n",
      "[obd.obd] Query failed, no connection available\n",
      "[obd.obd] Query failed, no connection available\n",
      "[obd.obd] Query failed, no connection available\n"
     ]
    },
    {
     "name": "stdout",
     "output_type": "stream",
     "text": [
      "RPM is not supported\n",
      "Speed is not supported\n",
      "EngineLoad is not supported\n",
      "CoolantTemp is not supported\n",
      "IntakeTemp is not supported\n",
      "FuelLevel is not supported\n",
      "AmbientTemp is not supported\n",
      "EngineOilTemp is not supported\n",
      "FuelRate is not supported\n"
     ]
    },
    {
     "name": "stderr",
     "output_type": "stream",
     "text": [
      "[obd.obd] Query failed, no connection available\n",
      "[obd.obd] Query failed, no connection available\n",
      "[obd.obd] Query failed, no connection available\n",
      "[obd.obd] Query failed, no connection available\n",
      "[obd.obd] Query failed, no connection available\n",
      "[obd.obd] Query failed, no connection available\n",
      "[obd.obd] Query failed, no connection available\n",
      "[obd.obd] Query failed, no connection available\n",
      "[obd.obd] Query failed, no connection available\n"
     ]
    },
    {
     "name": "stdout",
     "output_type": "stream",
     "text": [
      "RPM is not supported\n",
      "Speed is not supported\n",
      "EngineLoad is not supported\n",
      "CoolantTemp is not supported\n",
      "IntakeTemp is not supported\n",
      "FuelLevel is not supported\n",
      "AmbientTemp is not supported\n",
      "EngineOilTemp is not supported\n",
      "FuelRate is not supported\n"
     ]
    },
    {
     "name": "stderr",
     "output_type": "stream",
     "text": [
      "[obd.obd] Query failed, no connection available\n",
      "[obd.obd] Query failed, no connection available\n",
      "[obd.obd] Query failed, no connection available\n",
      "[obd.obd] Query failed, no connection available\n",
      "[obd.obd] Query failed, no connection available\n",
      "[obd.obd] Query failed, no connection available\n",
      "[obd.obd] Query failed, no connection available\n",
      "[obd.obd] Query failed, no connection available\n",
      "[obd.obd] Query failed, no connection available\n"
     ]
    },
    {
     "name": "stdout",
     "output_type": "stream",
     "text": [
      "RPM is not supported\n",
      "Speed is not supported\n",
      "EngineLoad is not supported\n",
      "CoolantTemp is not supported\n",
      "IntakeTemp is not supported\n",
      "FuelLevel is not supported\n",
      "AmbientTemp is not supported\n",
      "EngineOilTemp is not supported\n",
      "FuelRate is not supported\n"
     ]
    },
    {
     "name": "stderr",
     "output_type": "stream",
     "text": [
      "[obd.obd] Query failed, no connection available\n",
      "[obd.obd] Query failed, no connection available\n",
      "[obd.obd] Query failed, no connection available\n",
      "[obd.obd] Query failed, no connection available\n",
      "[obd.obd] Query failed, no connection available\n",
      "[obd.obd] Query failed, no connection available\n",
      "[obd.obd] Query failed, no connection available\n",
      "[obd.obd] Query failed, no connection available\n",
      "[obd.obd] Query failed, no connection available\n"
     ]
    },
    {
     "name": "stdout",
     "output_type": "stream",
     "text": [
      "RPM is not supported\n",
      "Speed is not supported\n",
      "EngineLoad is not supported\n",
      "CoolantTemp is not supported\n",
      "IntakeTemp is not supported\n",
      "FuelLevel is not supported\n",
      "AmbientTemp is not supported\n",
      "EngineOilTemp is not supported\n",
      "FuelRate is not supported\n"
     ]
    },
    {
     "name": "stderr",
     "output_type": "stream",
     "text": [
      "[obd.obd] Query failed, no connection available\n",
      "[obd.obd] Query failed, no connection available\n",
      "[obd.obd] Query failed, no connection available\n",
      "[obd.obd] Query failed, no connection available\n",
      "[obd.obd] Query failed, no connection available\n",
      "[obd.obd] Query failed, no connection available\n",
      "[obd.obd] Query failed, no connection available\n",
      "[obd.obd] Query failed, no connection available\n",
      "[obd.obd] Query failed, no connection available\n"
     ]
    },
    {
     "name": "stdout",
     "output_type": "stream",
     "text": [
      "RPM is not supported\n",
      "Speed is not supported\n",
      "EngineLoad is not supported\n",
      "CoolantTemp is not supported\n",
      "IntakeTemp is not supported\n",
      "FuelLevel is not supported\n",
      "AmbientTemp is not supported\n",
      "EngineOilTemp is not supported\n",
      "FuelRate is not supported\n"
     ]
    },
    {
     "name": "stderr",
     "output_type": "stream",
     "text": [
      "[obd.obd] Query failed, no connection available\n",
      "[obd.obd] Query failed, no connection available\n",
      "[obd.obd] Query failed, no connection available\n",
      "[obd.obd] Query failed, no connection available\n",
      "[obd.obd] Query failed, no connection available\n",
      "[obd.obd] Query failed, no connection available\n",
      "[obd.obd] Query failed, no connection available\n",
      "[obd.obd] Query failed, no connection available\n",
      "[obd.obd] Query failed, no connection available\n"
     ]
    },
    {
     "name": "stdout",
     "output_type": "stream",
     "text": [
      "RPM is not supported\n",
      "Speed is not supported\n",
      "EngineLoad is not supported\n",
      "CoolantTemp is not supported\n",
      "IntakeTemp is not supported\n",
      "FuelLevel is not supported\n",
      "AmbientTemp is not supported\n",
      "EngineOilTemp is not supported\n",
      "FuelRate is not supported\n"
     ]
    },
    {
     "name": "stderr",
     "output_type": "stream",
     "text": [
      "[obd.obd] Query failed, no connection available\n",
      "[obd.obd] Query failed, no connection available\n",
      "[obd.obd] Query failed, no connection available\n",
      "[obd.obd] Query failed, no connection available\n",
      "[obd.obd] Query failed, no connection available\n",
      "[obd.obd] Query failed, no connection available\n",
      "[obd.obd] Query failed, no connection available\n",
      "[obd.obd] Query failed, no connection available\n",
      "[obd.obd] Query failed, no connection available\n"
     ]
    },
    {
     "name": "stdout",
     "output_type": "stream",
     "text": [
      "RPM is not supported\n",
      "Speed is not supported\n",
      "EngineLoad is not supported\n",
      "CoolantTemp is not supported\n",
      "IntakeTemp is not supported\n",
      "FuelLevel is not supported\n",
      "AmbientTemp is not supported\n",
      "EngineOilTemp is not supported\n",
      "FuelRate is not supported\n"
     ]
    },
    {
     "name": "stderr",
     "output_type": "stream",
     "text": [
      "[obd.obd] Query failed, no connection available\n",
      "[obd.obd] Query failed, no connection available\n",
      "[obd.obd] Query failed, no connection available\n",
      "[obd.obd] Query failed, no connection available\n",
      "[obd.obd] Query failed, no connection available\n",
      "[obd.obd] Query failed, no connection available\n",
      "[obd.obd] Query failed, no connection available\n",
      "[obd.obd] Query failed, no connection available\n",
      "[obd.obd] Query failed, no connection available\n"
     ]
    },
    {
     "name": "stdout",
     "output_type": "stream",
     "text": [
      "RPM is not supported\n",
      "Speed is not supported\n",
      "EngineLoad is not supported\n",
      "CoolantTemp is not supported\n",
      "IntakeTemp is not supported\n",
      "FuelLevel is not supported\n",
      "AmbientTemp is not supported\n",
      "EngineOilTemp is not supported\n",
      "FuelRate is not supported\n"
     ]
    },
    {
     "name": "stderr",
     "output_type": "stream",
     "text": [
      "[obd.obd] Query failed, no connection available\n",
      "[obd.obd] Query failed, no connection available\n",
      "[obd.obd] Query failed, no connection available\n",
      "[obd.obd] Query failed, no connection available\n",
      "[obd.obd] Query failed, no connection available\n",
      "[obd.obd] Query failed, no connection available\n",
      "[obd.obd] Query failed, no connection available\n",
      "[obd.obd] Query failed, no connection available\n",
      "[obd.obd] Query failed, no connection available\n"
     ]
    },
    {
     "name": "stdout",
     "output_type": "stream",
     "text": [
      "RPM is not supported\n",
      "Speed is not supported\n",
      "EngineLoad is not supported\n",
      "CoolantTemp is not supported\n",
      "IntakeTemp is not supported\n",
      "FuelLevel is not supported\n",
      "AmbientTemp is not supported\n",
      "EngineOilTemp is not supported\n",
      "FuelRate is not supported\n"
     ]
    },
    {
     "name": "stderr",
     "output_type": "stream",
     "text": [
      "[obd.obd] Query failed, no connection available\n",
      "[obd.obd] Query failed, no connection available\n",
      "[obd.obd] Query failed, no connection available\n",
      "[obd.obd] Query failed, no connection available\n",
      "[obd.obd] Query failed, no connection available\n",
      "[obd.obd] Query failed, no connection available\n",
      "[obd.obd] Query failed, no connection available\n",
      "[obd.obd] Query failed, no connection available\n",
      "[obd.obd] Query failed, no connection available\n"
     ]
    },
    {
     "name": "stdout",
     "output_type": "stream",
     "text": [
      "RPM is not supported\n",
      "Speed is not supported\n",
      "EngineLoad is not supported\n",
      "CoolantTemp is not supported\n",
      "IntakeTemp is not supported\n",
      "FuelLevel is not supported\n",
      "AmbientTemp is not supported\n",
      "EngineOilTemp is not supported\n",
      "FuelRate is not supported\n"
     ]
    },
    {
     "name": "stderr",
     "output_type": "stream",
     "text": [
      "[obd.obd] Query failed, no connection available\n",
      "[obd.obd] Query failed, no connection available\n",
      "[obd.obd] Query failed, no connection available\n",
      "[obd.obd] Query failed, no connection available\n",
      "[obd.obd] Query failed, no connection available\n",
      "[obd.obd] Query failed, no connection available\n",
      "[obd.obd] Query failed, no connection available\n",
      "[obd.obd] Query failed, no connection available\n",
      "[obd.obd] Query failed, no connection available\n"
     ]
    },
    {
     "name": "stdout",
     "output_type": "stream",
     "text": [
      "RPM is not supported\n",
      "Speed is not supported\n",
      "EngineLoad is not supported\n",
      "CoolantTemp is not supported\n",
      "IntakeTemp is not supported\n",
      "FuelLevel is not supported\n",
      "AmbientTemp is not supported\n",
      "EngineOilTemp is not supported\n",
      "FuelRate is not supported\n"
     ]
    },
    {
     "name": "stderr",
     "output_type": "stream",
     "text": [
      "[obd.obd] Query failed, no connection available\n",
      "[obd.obd] Query failed, no connection available\n",
      "[obd.obd] Query failed, no connection available\n",
      "[obd.obd] Query failed, no connection available\n",
      "[obd.obd] Query failed, no connection available\n",
      "[obd.obd] Query failed, no connection available\n",
      "[obd.obd] Query failed, no connection available\n",
      "[obd.obd] Query failed, no connection available\n",
      "[obd.obd] Query failed, no connection available\n"
     ]
    },
    {
     "name": "stdout",
     "output_type": "stream",
     "text": [
      "RPM is not supported\n",
      "Speed is not supported\n",
      "EngineLoad is not supported\n",
      "CoolantTemp is not supported\n",
      "IntakeTemp is not supported\n",
      "FuelLevel is not supported\n",
      "AmbientTemp is not supported\n",
      "EngineOilTemp is not supported\n",
      "FuelRate is not supported\n"
     ]
    },
    {
     "name": "stderr",
     "output_type": "stream",
     "text": [
      "[obd.obd] Query failed, no connection available\n",
      "[obd.obd] Query failed, no connection available\n",
      "[obd.obd] Query failed, no connection available\n",
      "[obd.obd] Query failed, no connection available\n",
      "[obd.obd] Query failed, no connection available\n",
      "[obd.obd] Query failed, no connection available\n",
      "[obd.obd] Query failed, no connection available\n",
      "[obd.obd] Query failed, no connection available\n",
      "[obd.obd] Query failed, no connection available\n"
     ]
    },
    {
     "name": "stdout",
     "output_type": "stream",
     "text": [
      "RPM is not supported\n",
      "Speed is not supported\n",
      "EngineLoad is not supported\n",
      "CoolantTemp is not supported\n",
      "IntakeTemp is not supported\n",
      "FuelLevel is not supported\n",
      "AmbientTemp is not supported\n",
      "EngineOilTemp is not supported\n",
      "FuelRate is not supported\n"
     ]
    },
    {
     "name": "stderr",
     "output_type": "stream",
     "text": [
      "[obd.obd] Query failed, no connection available\n",
      "[obd.obd] Query failed, no connection available\n",
      "[obd.obd] Query failed, no connection available\n",
      "[obd.obd] Query failed, no connection available\n",
      "[obd.obd] Query failed, no connection available\n",
      "[obd.obd] Query failed, no connection available\n",
      "[obd.obd] Query failed, no connection available\n",
      "[obd.obd] Query failed, no connection available\n",
      "[obd.obd] Query failed, no connection available\n"
     ]
    },
    {
     "name": "stdout",
     "output_type": "stream",
     "text": [
      "RPM is not supported\n",
      "Speed is not supported\n",
      "EngineLoad is not supported\n",
      "CoolantTemp is not supported\n",
      "IntakeTemp is not supported\n",
      "FuelLevel is not supported\n",
      "AmbientTemp is not supported\n",
      "EngineOilTemp is not supported\n",
      "FuelRate is not supported\n"
     ]
    },
    {
     "name": "stderr",
     "output_type": "stream",
     "text": [
      "[obd.obd] Query failed, no connection available\n",
      "[obd.obd] Query failed, no connection available\n",
      "[obd.obd] Query failed, no connection available\n",
      "[obd.obd] Query failed, no connection available\n",
      "[obd.obd] Query failed, no connection available\n",
      "[obd.obd] Query failed, no connection available\n",
      "[obd.obd] Query failed, no connection available\n",
      "[obd.obd] Query failed, no connection available\n",
      "[obd.obd] Query failed, no connection available\n"
     ]
    },
    {
     "name": "stdout",
     "output_type": "stream",
     "text": [
      "RPM is not supported\n",
      "Speed is not supported\n",
      "EngineLoad is not supported\n",
      "CoolantTemp is not supported\n",
      "IntakeTemp is not supported\n",
      "FuelLevel is not supported\n",
      "AmbientTemp is not supported\n",
      "EngineOilTemp is not supported\n",
      "FuelRate is not supported\n"
     ]
    },
    {
     "name": "stderr",
     "output_type": "stream",
     "text": [
      "[obd.obd] Query failed, no connection available\n",
      "[obd.obd] Query failed, no connection available\n",
      "[obd.obd] Query failed, no connection available\n",
      "[obd.obd] Query failed, no connection available\n",
      "[obd.obd] Query failed, no connection available\n",
      "[obd.obd] Query failed, no connection available\n",
      "[obd.obd] Query failed, no connection available\n",
      "[obd.obd] Query failed, no connection available\n",
      "[obd.obd] Query failed, no connection available\n"
     ]
    },
    {
     "name": "stdout",
     "output_type": "stream",
     "text": [
      "RPM is not supported\n",
      "Speed is not supported\n",
      "EngineLoad is not supported\n",
      "CoolantTemp is not supported\n",
      "IntakeTemp is not supported\n",
      "FuelLevel is not supported\n",
      "AmbientTemp is not supported\n",
      "EngineOilTemp is not supported\n",
      "FuelRate is not supported\n"
     ]
    },
    {
     "name": "stderr",
     "output_type": "stream",
     "text": [
      "[obd.obd] Query failed, no connection available\n",
      "[obd.obd] Query failed, no connection available\n",
      "[obd.obd] Query failed, no connection available\n",
      "[obd.obd] Query failed, no connection available\n",
      "[obd.obd] Query failed, no connection available\n",
      "[obd.obd] Query failed, no connection available\n",
      "[obd.obd] Query failed, no connection available\n",
      "[obd.obd] Query failed, no connection available\n",
      "[obd.obd] Query failed, no connection available\n"
     ]
    },
    {
     "name": "stdout",
     "output_type": "stream",
     "text": [
      "RPM is not supported\n",
      "Speed is not supported\n",
      "EngineLoad is not supported\n",
      "CoolantTemp is not supported\n",
      "IntakeTemp is not supported\n",
      "FuelLevel is not supported\n",
      "AmbientTemp is not supported\n",
      "EngineOilTemp is not supported\n",
      "FuelRate is not supported\n"
     ]
    },
    {
     "name": "stderr",
     "output_type": "stream",
     "text": [
      "[obd.obd] Query failed, no connection available\n",
      "[obd.obd] Query failed, no connection available\n",
      "[obd.obd] Query failed, no connection available\n",
      "[obd.obd] Query failed, no connection available\n",
      "[obd.obd] Query failed, no connection available\n",
      "[obd.obd] Query failed, no connection available\n",
      "[obd.obd] Query failed, no connection available\n",
      "[obd.obd] Query failed, no connection available\n",
      "[obd.obd] Query failed, no connection available\n"
     ]
    },
    {
     "name": "stdout",
     "output_type": "stream",
     "text": [
      "RPM is not supported\n",
      "Speed is not supported\n",
      "EngineLoad is not supported\n",
      "CoolantTemp is not supported\n",
      "IntakeTemp is not supported\n",
      "FuelLevel is not supported\n",
      "AmbientTemp is not supported\n",
      "EngineOilTemp is not supported\n",
      "FuelRate is not supported\n"
     ]
    },
    {
     "name": "stderr",
     "output_type": "stream",
     "text": [
      "[obd.obd] Query failed, no connection available\n",
      "[obd.obd] Query failed, no connection available\n",
      "[obd.obd] Query failed, no connection available\n",
      "[obd.obd] Query failed, no connection available\n",
      "[obd.obd] Query failed, no connection available\n",
      "[obd.obd] Query failed, no connection available\n",
      "[obd.obd] Query failed, no connection available\n",
      "[obd.obd] Query failed, no connection available\n",
      "[obd.obd] Query failed, no connection available\n"
     ]
    },
    {
     "name": "stdout",
     "output_type": "stream",
     "text": [
      "RPM is not supported\n",
      "Speed is not supported\n",
      "EngineLoad is not supported\n",
      "CoolantTemp is not supported\n",
      "IntakeTemp is not supported\n",
      "FuelLevel is not supported\n",
      "AmbientTemp is not supported\n",
      "EngineOilTemp is not supported\n",
      "FuelRate is not supported\n"
     ]
    },
    {
     "name": "stderr",
     "output_type": "stream",
     "text": [
      "[obd.obd] Query failed, no connection available\n",
      "[obd.obd] Query failed, no connection available\n",
      "[obd.obd] Query failed, no connection available\n",
      "[obd.obd] Query failed, no connection available\n",
      "[obd.obd] Query failed, no connection available\n",
      "[obd.obd] Query failed, no connection available\n",
      "[obd.obd] Query failed, no connection available\n",
      "[obd.obd] Query failed, no connection available\n",
      "[obd.obd] Query failed, no connection available\n"
     ]
    },
    {
     "name": "stdout",
     "output_type": "stream",
     "text": [
      "RPM is not supported\n",
      "Speed is not supported\n",
      "EngineLoad is not supported\n",
      "CoolantTemp is not supported\n",
      "IntakeTemp is not supported\n",
      "FuelLevel is not supported\n",
      "AmbientTemp is not supported\n",
      "EngineOilTemp is not supported\n",
      "FuelRate is not supported\n"
     ]
    },
    {
     "name": "stderr",
     "output_type": "stream",
     "text": [
      "[obd.obd] Query failed, no connection available\n",
      "[obd.obd] Query failed, no connection available\n",
      "[obd.obd] Query failed, no connection available\n",
      "[obd.obd] Query failed, no connection available\n",
      "[obd.obd] Query failed, no connection available\n",
      "[obd.obd] Query failed, no connection available\n",
      "[obd.obd] Query failed, no connection available\n",
      "[obd.obd] Query failed, no connection available\n",
      "[obd.obd] Query failed, no connection available\n"
     ]
    },
    {
     "name": "stdout",
     "output_type": "stream",
     "text": [
      "RPM is not supported\n",
      "Speed is not supported\n",
      "EngineLoad is not supported\n",
      "CoolantTemp is not supported\n",
      "IntakeTemp is not supported\n",
      "FuelLevel is not supported\n",
      "AmbientTemp is not supported\n",
      "EngineOilTemp is not supported\n",
      "FuelRate is not supported\n"
     ]
    },
    {
     "name": "stderr",
     "output_type": "stream",
     "text": [
      "[obd.obd] Query failed, no connection available\n",
      "[obd.obd] Query failed, no connection available\n",
      "[obd.obd] Query failed, no connection available\n",
      "[obd.obd] Query failed, no connection available\n",
      "[obd.obd] Query failed, no connection available\n",
      "[obd.obd] Query failed, no connection available\n",
      "[obd.obd] Query failed, no connection available\n",
      "[obd.obd] Query failed, no connection available\n",
      "[obd.obd] Query failed, no connection available\n"
     ]
    },
    {
     "name": "stdout",
     "output_type": "stream",
     "text": [
      "RPM is not supported\n",
      "Speed is not supported\n",
      "EngineLoad is not supported\n",
      "CoolantTemp is not supported\n",
      "IntakeTemp is not supported\n",
      "FuelLevel is not supported\n",
      "AmbientTemp is not supported\n",
      "EngineOilTemp is not supported\n",
      "FuelRate is not supported\n"
     ]
    },
    {
     "name": "stderr",
     "output_type": "stream",
     "text": [
      "[obd.obd] Query failed, no connection available\n",
      "[obd.obd] Query failed, no connection available\n",
      "[obd.obd] Query failed, no connection available\n",
      "[obd.obd] Query failed, no connection available\n",
      "[obd.obd] Query failed, no connection available\n",
      "[obd.obd] Query failed, no connection available\n",
      "[obd.obd] Query failed, no connection available\n",
      "[obd.obd] Query failed, no connection available\n",
      "[obd.obd] Query failed, no connection available\n"
     ]
    },
    {
     "name": "stdout",
     "output_type": "stream",
     "text": [
      "RPM is not supported\n",
      "Speed is not supported\n",
      "EngineLoad is not supported\n",
      "CoolantTemp is not supported\n",
      "IntakeTemp is not supported\n",
      "FuelLevel is not supported\n",
      "AmbientTemp is not supported\n",
      "EngineOilTemp is not supported\n",
      "FuelRate is not supported\n"
     ]
    },
    {
     "name": "stderr",
     "output_type": "stream",
     "text": [
      "[obd.obd] Query failed, no connection available\n",
      "[obd.obd] Query failed, no connection available\n",
      "[obd.obd] Query failed, no connection available\n",
      "[obd.obd] Query failed, no connection available\n",
      "[obd.obd] Query failed, no connection available\n",
      "[obd.obd] Query failed, no connection available\n",
      "[obd.obd] Query failed, no connection available\n",
      "[obd.obd] Query failed, no connection available\n",
      "[obd.obd] Query failed, no connection available\n"
     ]
    },
    {
     "name": "stdout",
     "output_type": "stream",
     "text": [
      "RPM is not supported\n",
      "Speed is not supported\n",
      "EngineLoad is not supported\n",
      "CoolantTemp is not supported\n",
      "IntakeTemp is not supported\n",
      "FuelLevel is not supported\n",
      "AmbientTemp is not supported\n",
      "EngineOilTemp is not supported\n",
      "FuelRate is not supported\n"
     ]
    },
    {
     "name": "stderr",
     "output_type": "stream",
     "text": [
      "[obd.obd] Query failed, no connection available\n",
      "[obd.obd] Query failed, no connection available\n",
      "[obd.obd] Query failed, no connection available\n",
      "[obd.obd] Query failed, no connection available\n",
      "[obd.obd] Query failed, no connection available\n",
      "[obd.obd] Query failed, no connection available\n",
      "[obd.obd] Query failed, no connection available\n",
      "[obd.obd] Query failed, no connection available\n",
      "[obd.obd] Query failed, no connection available\n"
     ]
    },
    {
     "name": "stdout",
     "output_type": "stream",
     "text": [
      "RPM is not supported\n",
      "Speed is not supported\n",
      "EngineLoad is not supported\n",
      "CoolantTemp is not supported\n",
      "IntakeTemp is not supported\n",
      "FuelLevel is not supported\n",
      "AmbientTemp is not supported\n",
      "EngineOilTemp is not supported\n",
      "FuelRate is not supported\n"
     ]
    },
    {
     "name": "stderr",
     "output_type": "stream",
     "text": [
      "[obd.obd] Query failed, no connection available\n",
      "[obd.obd] Query failed, no connection available\n",
      "[obd.obd] Query failed, no connection available\n",
      "[obd.obd] Query failed, no connection available\n",
      "[obd.obd] Query failed, no connection available\n",
      "[obd.obd] Query failed, no connection available\n",
      "[obd.obd] Query failed, no connection available\n",
      "[obd.obd] Query failed, no connection available\n",
      "[obd.obd] Query failed, no connection available\n"
     ]
    },
    {
     "name": "stdout",
     "output_type": "stream",
     "text": [
      "RPM is not supported\n",
      "Speed is not supported\n",
      "EngineLoad is not supported\n",
      "CoolantTemp is not supported\n",
      "IntakeTemp is not supported\n",
      "FuelLevel is not supported\n",
      "AmbientTemp is not supported\n",
      "EngineOilTemp is not supported\n",
      "FuelRate is not supported\n"
     ]
    },
    {
     "name": "stderr",
     "output_type": "stream",
     "text": [
      "[obd.obd] Query failed, no connection available\n",
      "[obd.obd] Query failed, no connection available\n",
      "[obd.obd] Query failed, no connection available\n",
      "[obd.obd] Query failed, no connection available\n",
      "[obd.obd] Query failed, no connection available\n",
      "[obd.obd] Query failed, no connection available\n",
      "[obd.obd] Query failed, no connection available\n",
      "[obd.obd] Query failed, no connection available\n",
      "[obd.obd] Query failed, no connection available\n"
     ]
    },
    {
     "name": "stdout",
     "output_type": "stream",
     "text": [
      "RPM is not supported\n",
      "Speed is not supported\n",
      "EngineLoad is not supported\n",
      "CoolantTemp is not supported\n",
      "IntakeTemp is not supported\n",
      "FuelLevel is not supported\n",
      "AmbientTemp is not supported\n",
      "EngineOilTemp is not supported\n",
      "FuelRate is not supported\n"
     ]
    },
    {
     "name": "stderr",
     "output_type": "stream",
     "text": [
      "[obd.obd] Query failed, no connection available\n",
      "[obd.obd] Query failed, no connection available\n",
      "[obd.obd] Query failed, no connection available\n",
      "[obd.obd] Query failed, no connection available\n",
      "[obd.obd] Query failed, no connection available\n",
      "[obd.obd] Query failed, no connection available\n",
      "[obd.obd] Query failed, no connection available\n",
      "[obd.obd] Query failed, no connection available\n",
      "[obd.obd] Query failed, no connection available\n"
     ]
    },
    {
     "name": "stdout",
     "output_type": "stream",
     "text": [
      "RPM is not supported\n",
      "Speed is not supported\n",
      "EngineLoad is not supported\n",
      "CoolantTemp is not supported\n",
      "IntakeTemp is not supported\n",
      "FuelLevel is not supported\n",
      "AmbientTemp is not supported\n",
      "EngineOilTemp is not supported\n",
      "FuelRate is not supported\n"
     ]
    },
    {
     "name": "stderr",
     "output_type": "stream",
     "text": [
      "[obd.obd] Query failed, no connection available\n",
      "[obd.obd] Query failed, no connection available\n",
      "[obd.obd] Query failed, no connection available\n",
      "[obd.obd] Query failed, no connection available\n",
      "[obd.obd] Query failed, no connection available\n",
      "[obd.obd] Query failed, no connection available\n",
      "[obd.obd] Query failed, no connection available\n",
      "[obd.obd] Query failed, no connection available\n",
      "[obd.obd] Query failed, no connection available\n"
     ]
    },
    {
     "name": "stdout",
     "output_type": "stream",
     "text": [
      "RPM is not supported\n",
      "Speed is not supported\n",
      "EngineLoad is not supported\n",
      "CoolantTemp is not supported\n",
      "IntakeTemp is not supported\n",
      "FuelLevel is not supported\n",
      "AmbientTemp is not supported\n",
      "EngineOilTemp is not supported\n",
      "FuelRate is not supported\n"
     ]
    },
    {
     "name": "stderr",
     "output_type": "stream",
     "text": [
      "[obd.obd] Query failed, no connection available\n",
      "[obd.obd] Query failed, no connection available\n",
      "[obd.obd] Query failed, no connection available\n",
      "[obd.obd] Query failed, no connection available\n",
      "[obd.obd] Query failed, no connection available\n",
      "[obd.obd] Query failed, no connection available\n",
      "[obd.obd] Query failed, no connection available\n",
      "[obd.obd] Query failed, no connection available\n",
      "[obd.obd] Query failed, no connection available\n"
     ]
    },
    {
     "name": "stdout",
     "output_type": "stream",
     "text": [
      "RPM is not supported\n",
      "Speed is not supported\n",
      "EngineLoad is not supported\n",
      "CoolantTemp is not supported\n",
      "IntakeTemp is not supported\n",
      "FuelLevel is not supported\n",
      "AmbientTemp is not supported\n",
      "EngineOilTemp is not supported\n",
      "FuelRate is not supported\n"
     ]
    },
    {
     "name": "stderr",
     "output_type": "stream",
     "text": [
      "[obd.obd] Query failed, no connection available\n",
      "[obd.obd] Query failed, no connection available\n",
      "[obd.obd] Query failed, no connection available\n",
      "[obd.obd] Query failed, no connection available\n",
      "[obd.obd] Query failed, no connection available\n",
      "[obd.obd] Query failed, no connection available\n",
      "[obd.obd] Query failed, no connection available\n",
      "[obd.obd] Query failed, no connection available\n",
      "[obd.obd] Query failed, no connection available\n"
     ]
    },
    {
     "name": "stdout",
     "output_type": "stream",
     "text": [
      "RPM is not supported\n",
      "Speed is not supported\n",
      "EngineLoad is not supported\n",
      "CoolantTemp is not supported\n",
      "IntakeTemp is not supported\n",
      "FuelLevel is not supported\n",
      "AmbientTemp is not supported\n",
      "EngineOilTemp is not supported\n",
      "FuelRate is not supported\n"
     ]
    },
    {
     "name": "stderr",
     "output_type": "stream",
     "text": [
      "[obd.obd] Query failed, no connection available\n",
      "[obd.obd] Query failed, no connection available\n",
      "[obd.obd] Query failed, no connection available\n",
      "[obd.obd] Query failed, no connection available\n",
      "[obd.obd] Query failed, no connection available\n",
      "[obd.obd] Query failed, no connection available\n",
      "[obd.obd] Query failed, no connection available\n",
      "[obd.obd] Query failed, no connection available\n",
      "[obd.obd] Query failed, no connection available\n"
     ]
    },
    {
     "name": "stdout",
     "output_type": "stream",
     "text": [
      "RPM is not supported\n",
      "Speed is not supported\n",
      "EngineLoad is not supported\n",
      "CoolantTemp is not supported\n",
      "IntakeTemp is not supported\n",
      "FuelLevel is not supported\n",
      "AmbientTemp is not supported\n",
      "EngineOilTemp is not supported\n",
      "FuelRate is not supported\n"
     ]
    },
    {
     "name": "stderr",
     "output_type": "stream",
     "text": [
      "[obd.obd] Query failed, no connection available\n",
      "[obd.obd] Query failed, no connection available\n",
      "[obd.obd] Query failed, no connection available\n",
      "[obd.obd] Query failed, no connection available\n",
      "[obd.obd] Query failed, no connection available\n",
      "[obd.obd] Query failed, no connection available\n",
      "[obd.obd] Query failed, no connection available\n",
      "[obd.obd] Query failed, no connection available\n",
      "[obd.obd] Query failed, no connection available\n"
     ]
    },
    {
     "name": "stdout",
     "output_type": "stream",
     "text": [
      "RPM is not supported\n",
      "Speed is not supported\n",
      "EngineLoad is not supported\n",
      "CoolantTemp is not supported\n",
      "IntakeTemp is not supported\n",
      "FuelLevel is not supported\n",
      "AmbientTemp is not supported\n",
      "EngineOilTemp is not supported\n",
      "FuelRate is not supported\n"
     ]
    },
    {
     "name": "stderr",
     "output_type": "stream",
     "text": [
      "[obd.obd] Query failed, no connection available\n",
      "[obd.obd] Query failed, no connection available\n",
      "[obd.obd] Query failed, no connection available\n",
      "[obd.obd] Query failed, no connection available\n",
      "[obd.obd] Query failed, no connection available\n",
      "[obd.obd] Query failed, no connection available\n",
      "[obd.obd] Query failed, no connection available\n",
      "[obd.obd] Query failed, no connection available\n",
      "[obd.obd] Query failed, no connection available\n"
     ]
    },
    {
     "name": "stdout",
     "output_type": "stream",
     "text": [
      "RPM is not supported\n",
      "Speed is not supported\n",
      "EngineLoad is not supported\n",
      "CoolantTemp is not supported\n",
      "IntakeTemp is not supported\n",
      "FuelLevel is not supported\n",
      "AmbientTemp is not supported\n",
      "EngineOilTemp is not supported\n",
      "FuelRate is not supported\n"
     ]
    },
    {
     "name": "stderr",
     "output_type": "stream",
     "text": [
      "[obd.obd] Query failed, no connection available\n",
      "[obd.obd] Query failed, no connection available\n",
      "[obd.obd] Query failed, no connection available\n",
      "[obd.obd] Query failed, no connection available\n",
      "[obd.obd] Query failed, no connection available\n",
      "[obd.obd] Query failed, no connection available\n",
      "[obd.obd] Query failed, no connection available\n",
      "[obd.obd] Query failed, no connection available\n",
      "[obd.obd] Query failed, no connection available\n"
     ]
    },
    {
     "name": "stdout",
     "output_type": "stream",
     "text": [
      "RPM is not supported\n",
      "Speed is not supported\n",
      "EngineLoad is not supported\n",
      "CoolantTemp is not supported\n",
      "IntakeTemp is not supported\n",
      "FuelLevel is not supported\n",
      "AmbientTemp is not supported\n",
      "EngineOilTemp is not supported\n",
      "FuelRate is not supported\n"
     ]
    },
    {
     "name": "stderr",
     "output_type": "stream",
     "text": [
      "[obd.obd] Query failed, no connection available\n",
      "[obd.obd] Query failed, no connection available\n",
      "[obd.obd] Query failed, no connection available\n",
      "[obd.obd] Query failed, no connection available\n",
      "[obd.obd] Query failed, no connection available\n",
      "[obd.obd] Query failed, no connection available\n",
      "[obd.obd] Query failed, no connection available\n",
      "[obd.obd] Query failed, no connection available\n",
      "[obd.obd] Query failed, no connection available\n"
     ]
    },
    {
     "name": "stdout",
     "output_type": "stream",
     "text": [
      "RPM is not supported\n",
      "Speed is not supported\n",
      "EngineLoad is not supported\n",
      "CoolantTemp is not supported\n",
      "IntakeTemp is not supported\n",
      "FuelLevel is not supported\n",
      "AmbientTemp is not supported\n",
      "EngineOilTemp is not supported\n",
      "FuelRate is not supported\n"
     ]
    },
    {
     "name": "stderr",
     "output_type": "stream",
     "text": [
      "[obd.obd] Query failed, no connection available\n",
      "[obd.obd] Query failed, no connection available\n",
      "[obd.obd] Query failed, no connection available\n",
      "[obd.obd] Query failed, no connection available\n",
      "[obd.obd] Query failed, no connection available\n",
      "[obd.obd] Query failed, no connection available\n",
      "[obd.obd] Query failed, no connection available\n",
      "[obd.obd] Query failed, no connection available\n",
      "[obd.obd] Query failed, no connection available\n"
     ]
    },
    {
     "name": "stdout",
     "output_type": "stream",
     "text": [
      "RPM is not supported\n",
      "Speed is not supported\n",
      "EngineLoad is not supported\n",
      "CoolantTemp is not supported\n",
      "IntakeTemp is not supported\n",
      "FuelLevel is not supported\n",
      "AmbientTemp is not supported\n",
      "EngineOilTemp is not supported\n",
      "FuelRate is not supported\n"
     ]
    },
    {
     "name": "stderr",
     "output_type": "stream",
     "text": [
      "[obd.obd] Query failed, no connection available\n",
      "[obd.obd] Query failed, no connection available\n",
      "[obd.obd] Query failed, no connection available\n",
      "[obd.obd] Query failed, no connection available\n",
      "[obd.obd] Query failed, no connection available\n",
      "[obd.obd] Query failed, no connection available\n",
      "[obd.obd] Query failed, no connection available\n",
      "[obd.obd] Query failed, no connection available\n",
      "[obd.obd] Query failed, no connection available\n"
     ]
    },
    {
     "name": "stdout",
     "output_type": "stream",
     "text": [
      "RPM is not supported\n",
      "Speed is not supported\n",
      "EngineLoad is not supported\n",
      "CoolantTemp is not supported\n",
      "IntakeTemp is not supported\n",
      "FuelLevel is not supported\n",
      "AmbientTemp is not supported\n",
      "EngineOilTemp is not supported\n",
      "FuelRate is not supported\n"
     ]
    },
    {
     "name": "stderr",
     "output_type": "stream",
     "text": [
      "[obd.obd] Query failed, no connection available\n",
      "[obd.obd] Query failed, no connection available\n",
      "[obd.obd] Query failed, no connection available\n",
      "[obd.obd] Query failed, no connection available\n",
      "[obd.obd] Query failed, no connection available\n",
      "[obd.obd] Query failed, no connection available\n",
      "[obd.obd] Query failed, no connection available\n",
      "[obd.obd] Query failed, no connection available\n",
      "[obd.obd] Query failed, no connection available\n"
     ]
    },
    {
     "name": "stdout",
     "output_type": "stream",
     "text": [
      "RPM is not supported\n",
      "Speed is not supported\n",
      "EngineLoad is not supported\n",
      "CoolantTemp is not supported\n",
      "IntakeTemp is not supported\n",
      "FuelLevel is not supported\n",
      "AmbientTemp is not supported\n",
      "EngineOilTemp is not supported\n",
      "FuelRate is not supported\n"
     ]
    },
    {
     "name": "stderr",
     "output_type": "stream",
     "text": [
      "[obd.obd] Query failed, no connection available\n",
      "[obd.obd] Query failed, no connection available\n",
      "[obd.obd] Query failed, no connection available\n",
      "[obd.obd] Query failed, no connection available\n",
      "[obd.obd] Query failed, no connection available\n",
      "[obd.obd] Query failed, no connection available\n",
      "[obd.obd] Query failed, no connection available\n",
      "[obd.obd] Query failed, no connection available\n",
      "[obd.obd] Query failed, no connection available\n"
     ]
    },
    {
     "name": "stdout",
     "output_type": "stream",
     "text": [
      "RPM is not supported\n",
      "Speed is not supported\n",
      "EngineLoad is not supported\n",
      "CoolantTemp is not supported\n",
      "IntakeTemp is not supported\n",
      "FuelLevel is not supported\n",
      "AmbientTemp is not supported\n",
      "EngineOilTemp is not supported\n",
      "FuelRate is not supported\n"
     ]
    },
    {
     "name": "stderr",
     "output_type": "stream",
     "text": [
      "[obd.obd] Query failed, no connection available\n",
      "[obd.obd] Query failed, no connection available\n",
      "[obd.obd] Query failed, no connection available\n",
      "[obd.obd] Query failed, no connection available\n",
      "[obd.obd] Query failed, no connection available\n",
      "[obd.obd] Query failed, no connection available\n",
      "[obd.obd] Query failed, no connection available\n",
      "[obd.obd] Query failed, no connection available\n",
      "[obd.obd] Query failed, no connection available\n"
     ]
    },
    {
     "name": "stdout",
     "output_type": "stream",
     "text": [
      "RPM is not supported\n",
      "Speed is not supported\n",
      "EngineLoad is not supported\n",
      "CoolantTemp is not supported\n",
      "IntakeTemp is not supported\n",
      "FuelLevel is not supported\n",
      "AmbientTemp is not supported\n",
      "EngineOilTemp is not supported\n",
      "FuelRate is not supported\n"
     ]
    },
    {
     "name": "stderr",
     "output_type": "stream",
     "text": [
      "[obd.obd] Query failed, no connection available\n",
      "[obd.obd] Query failed, no connection available\n",
      "[obd.obd] Query failed, no connection available\n",
      "[obd.obd] Query failed, no connection available\n",
      "[obd.obd] Query failed, no connection available\n",
      "[obd.obd] Query failed, no connection available\n",
      "[obd.obd] Query failed, no connection available\n",
      "[obd.obd] Query failed, no connection available\n",
      "[obd.obd] Query failed, no connection available\n"
     ]
    },
    {
     "name": "stdout",
     "output_type": "stream",
     "text": [
      "RPM is not supported\n",
      "Speed is not supported\n",
      "EngineLoad is not supported\n",
      "CoolantTemp is not supported\n",
      "IntakeTemp is not supported\n",
      "FuelLevel is not supported\n",
      "AmbientTemp is not supported\n",
      "EngineOilTemp is not supported\n",
      "FuelRate is not supported\n"
     ]
    },
    {
     "name": "stderr",
     "output_type": "stream",
     "text": [
      "[obd.obd] Query failed, no connection available\n",
      "[obd.obd] Query failed, no connection available\n",
      "[obd.obd] Query failed, no connection available\n",
      "[obd.obd] Query failed, no connection available\n",
      "[obd.obd] Query failed, no connection available\n",
      "[obd.obd] Query failed, no connection available\n",
      "[obd.obd] Query failed, no connection available\n",
      "[obd.obd] Query failed, no connection available\n",
      "[obd.obd] Query failed, no connection available\n"
     ]
    },
    {
     "name": "stdout",
     "output_type": "stream",
     "text": [
      "RPM is not supported\n",
      "Speed is not supported\n",
      "EngineLoad is not supported\n",
      "CoolantTemp is not supported\n",
      "IntakeTemp is not supported\n",
      "FuelLevel is not supported\n",
      "AmbientTemp is not supported\n",
      "EngineOilTemp is not supported\n",
      "FuelRate is not supported\n"
     ]
    },
    {
     "name": "stderr",
     "output_type": "stream",
     "text": [
      "[obd.obd] Query failed, no connection available\n",
      "[obd.obd] Query failed, no connection available\n",
      "[obd.obd] Query failed, no connection available\n",
      "[obd.obd] Query failed, no connection available\n",
      "[obd.obd] Query failed, no connection available\n",
      "[obd.obd] Query failed, no connection available\n",
      "[obd.obd] Query failed, no connection available\n",
      "[obd.obd] Query failed, no connection available\n",
      "[obd.obd] Query failed, no connection available\n"
     ]
    },
    {
     "name": "stdout",
     "output_type": "stream",
     "text": [
      "RPM is not supported\n",
      "Speed is not supported\n",
      "EngineLoad is not supported\n",
      "CoolantTemp is not supported\n",
      "IntakeTemp is not supported\n",
      "FuelLevel is not supported\n",
      "AmbientTemp is not supported\n",
      "EngineOilTemp is not supported\n",
      "FuelRate is not supported\n"
     ]
    },
    {
     "name": "stderr",
     "output_type": "stream",
     "text": [
      "[obd.obd] Query failed, no connection available\n",
      "[obd.obd] Query failed, no connection available\n",
      "[obd.obd] Query failed, no connection available\n",
      "[obd.obd] Query failed, no connection available\n",
      "[obd.obd] Query failed, no connection available\n",
      "[obd.obd] Query failed, no connection available\n",
      "[obd.obd] Query failed, no connection available\n",
      "[obd.obd] Query failed, no connection available\n",
      "[obd.obd] Query failed, no connection available\n"
     ]
    },
    {
     "name": "stdout",
     "output_type": "stream",
     "text": [
      "RPM is not supported\n",
      "Speed is not supported\n",
      "EngineLoad is not supported\n",
      "CoolantTemp is not supported\n",
      "IntakeTemp is not supported\n",
      "FuelLevel is not supported\n",
      "AmbientTemp is not supported\n",
      "EngineOilTemp is not supported\n",
      "FuelRate is not supported\n"
     ]
    },
    {
     "name": "stderr",
     "output_type": "stream",
     "text": [
      "[obd.obd] Query failed, no connection available\n",
      "[obd.obd] Query failed, no connection available\n",
      "[obd.obd] Query failed, no connection available\n",
      "[obd.obd] Query failed, no connection available\n",
      "[obd.obd] Query failed, no connection available\n",
      "[obd.obd] Query failed, no connection available\n",
      "[obd.obd] Query failed, no connection available\n",
      "[obd.obd] Query failed, no connection available\n",
      "[obd.obd] Query failed, no connection available\n"
     ]
    },
    {
     "name": "stdout",
     "output_type": "stream",
     "text": [
      "RPM is not supported\n",
      "Speed is not supported\n",
      "EngineLoad is not supported\n",
      "CoolantTemp is not supported\n",
      "IntakeTemp is not supported\n",
      "FuelLevel is not supported\n",
      "AmbientTemp is not supported\n",
      "EngineOilTemp is not supported\n",
      "FuelRate is not supported\n"
     ]
    },
    {
     "name": "stderr",
     "output_type": "stream",
     "text": [
      "[obd.obd] Query failed, no connection available\n",
      "[obd.obd] Query failed, no connection available\n",
      "[obd.obd] Query failed, no connection available\n",
      "[obd.obd] Query failed, no connection available\n",
      "[obd.obd] Query failed, no connection available\n",
      "[obd.obd] Query failed, no connection available\n",
      "[obd.obd] Query failed, no connection available\n",
      "[obd.obd] Query failed, no connection available\n",
      "[obd.obd] Query failed, no connection available\n"
     ]
    },
    {
     "name": "stdout",
     "output_type": "stream",
     "text": [
      "RPM is not supported\n",
      "Speed is not supported\n",
      "EngineLoad is not supported\n",
      "CoolantTemp is not supported\n",
      "IntakeTemp is not supported\n",
      "FuelLevel is not supported\n",
      "AmbientTemp is not supported\n",
      "EngineOilTemp is not supported\n",
      "FuelRate is not supported\n"
     ]
    },
    {
     "name": "stderr",
     "output_type": "stream",
     "text": [
      "[obd.obd] Query failed, no connection available\n",
      "[obd.obd] Query failed, no connection available\n",
      "[obd.obd] Query failed, no connection available\n",
      "[obd.obd] Query failed, no connection available\n",
      "[obd.obd] Query failed, no connection available\n",
      "[obd.obd] Query failed, no connection available\n",
      "[obd.obd] Query failed, no connection available\n",
      "[obd.obd] Query failed, no connection available\n",
      "[obd.obd] Query failed, no connection available\n"
     ]
    },
    {
     "name": "stdout",
     "output_type": "stream",
     "text": [
      "RPM is not supported\n",
      "Speed is not supported\n",
      "EngineLoad is not supported\n",
      "CoolantTemp is not supported\n",
      "IntakeTemp is not supported\n",
      "FuelLevel is not supported\n",
      "AmbientTemp is not supported\n",
      "EngineOilTemp is not supported\n",
      "FuelRate is not supported\n"
     ]
    },
    {
     "name": "stderr",
     "output_type": "stream",
     "text": [
      "[obd.obd] Query failed, no connection available\n",
      "[obd.obd] Query failed, no connection available\n",
      "[obd.obd] Query failed, no connection available\n",
      "[obd.obd] Query failed, no connection available\n",
      "[obd.obd] Query failed, no connection available\n",
      "[obd.obd] Query failed, no connection available\n",
      "[obd.obd] Query failed, no connection available\n",
      "[obd.obd] Query failed, no connection available\n",
      "[obd.obd] Query failed, no connection available\n"
     ]
    },
    {
     "name": "stdout",
     "output_type": "stream",
     "text": [
      "RPM is not supported\n",
      "Speed is not supported\n",
      "EngineLoad is not supported\n",
      "CoolantTemp is not supported\n",
      "IntakeTemp is not supported\n",
      "FuelLevel is not supported\n",
      "AmbientTemp is not supported\n",
      "EngineOilTemp is not supported\n",
      "FuelRate is not supported\n"
     ]
    },
    {
     "name": "stderr",
     "output_type": "stream",
     "text": [
      "[obd.obd] Query failed, no connection available\n",
      "[obd.obd] Query failed, no connection available\n",
      "[obd.obd] Query failed, no connection available\n",
      "[obd.obd] Query failed, no connection available\n",
      "[obd.obd] Query failed, no connection available\n",
      "[obd.obd] Query failed, no connection available\n",
      "[obd.obd] Query failed, no connection available\n",
      "[obd.obd] Query failed, no connection available\n",
      "[obd.obd] Query failed, no connection available\n"
     ]
    },
    {
     "name": "stdout",
     "output_type": "stream",
     "text": [
      "RPM is not supported\n",
      "Speed is not supported\n",
      "EngineLoad is not supported\n",
      "CoolantTemp is not supported\n",
      "IntakeTemp is not supported\n",
      "FuelLevel is not supported\n",
      "AmbientTemp is not supported\n",
      "EngineOilTemp is not supported\n",
      "FuelRate is not supported\n"
     ]
    },
    {
     "name": "stderr",
     "output_type": "stream",
     "text": [
      "[obd.obd] Query failed, no connection available\n",
      "[obd.obd] Query failed, no connection available\n",
      "[obd.obd] Query failed, no connection available\n",
      "[obd.obd] Query failed, no connection available\n",
      "[obd.obd] Query failed, no connection available\n",
      "[obd.obd] Query failed, no connection available\n",
      "[obd.obd] Query failed, no connection available\n",
      "[obd.obd] Query failed, no connection available\n",
      "[obd.obd] Query failed, no connection available\n"
     ]
    },
    {
     "name": "stdout",
     "output_type": "stream",
     "text": [
      "RPM is not supported\n",
      "Speed is not supported\n",
      "EngineLoad is not supported\n",
      "CoolantTemp is not supported\n",
      "IntakeTemp is not supported\n",
      "FuelLevel is not supported\n",
      "AmbientTemp is not supported\n",
      "EngineOilTemp is not supported\n",
      "FuelRate is not supported\n"
     ]
    },
    {
     "name": "stderr",
     "output_type": "stream",
     "text": [
      "[obd.obd] Query failed, no connection available\n",
      "[obd.obd] Query failed, no connection available\n",
      "[obd.obd] Query failed, no connection available\n",
      "[obd.obd] Query failed, no connection available\n",
      "[obd.obd] Query failed, no connection available\n",
      "[obd.obd] Query failed, no connection available\n",
      "[obd.obd] Query failed, no connection available\n",
      "[obd.obd] Query failed, no connection available\n",
      "[obd.obd] Query failed, no connection available\n"
     ]
    },
    {
     "name": "stdout",
     "output_type": "stream",
     "text": [
      "RPM is not supported\n",
      "Speed is not supported\n",
      "EngineLoad is not supported\n",
      "CoolantTemp is not supported\n",
      "IntakeTemp is not supported\n",
      "FuelLevel is not supported\n",
      "AmbientTemp is not supported\n",
      "EngineOilTemp is not supported\n",
      "FuelRate is not supported\n"
     ]
    },
    {
     "name": "stderr",
     "output_type": "stream",
     "text": [
      "[obd.obd] Query failed, no connection available\n",
      "[obd.obd] Query failed, no connection available\n",
      "[obd.obd] Query failed, no connection available\n",
      "[obd.obd] Query failed, no connection available\n",
      "[obd.obd] Query failed, no connection available\n",
      "[obd.obd] Query failed, no connection available\n",
      "[obd.obd] Query failed, no connection available\n",
      "[obd.obd] Query failed, no connection available\n",
      "[obd.obd] Query failed, no connection available\n"
     ]
    },
    {
     "name": "stdout",
     "output_type": "stream",
     "text": [
      "RPM is not supported\n",
      "Speed is not supported\n",
      "EngineLoad is not supported\n",
      "CoolantTemp is not supported\n",
      "IntakeTemp is not supported\n",
      "FuelLevel is not supported\n",
      "AmbientTemp is not supported\n",
      "EngineOilTemp is not supported\n",
      "FuelRate is not supported\n"
     ]
    },
    {
     "name": "stderr",
     "output_type": "stream",
     "text": [
      "[obd.obd] Query failed, no connection available\n",
      "[obd.obd] Query failed, no connection available\n",
      "[obd.obd] Query failed, no connection available\n",
      "[obd.obd] Query failed, no connection available\n",
      "[obd.obd] Query failed, no connection available\n",
      "[obd.obd] Query failed, no connection available\n",
      "[obd.obd] Query failed, no connection available\n",
      "[obd.obd] Query failed, no connection available\n",
      "[obd.obd] Query failed, no connection available\n"
     ]
    },
    {
     "name": "stdout",
     "output_type": "stream",
     "text": [
      "RPM is not supported\n",
      "Speed is not supported\n",
      "EngineLoad is not supported\n",
      "CoolantTemp is not supported\n",
      "IntakeTemp is not supported\n",
      "FuelLevel is not supported\n",
      "AmbientTemp is not supported\n",
      "EngineOilTemp is not supported\n",
      "FuelRate is not supported\n"
     ]
    },
    {
     "name": "stderr",
     "output_type": "stream",
     "text": [
      "[obd.obd] Query failed, no connection available\n",
      "[obd.obd] Query failed, no connection available\n",
      "[obd.obd] Query failed, no connection available\n",
      "[obd.obd] Query failed, no connection available\n",
      "[obd.obd] Query failed, no connection available\n",
      "[obd.obd] Query failed, no connection available\n",
      "[obd.obd] Query failed, no connection available\n",
      "[obd.obd] Query failed, no connection available\n",
      "[obd.obd] Query failed, no connection available\n"
     ]
    },
    {
     "name": "stdout",
     "output_type": "stream",
     "text": [
      "RPM is not supported\n",
      "Speed is not supported\n",
      "EngineLoad is not supported\n",
      "CoolantTemp is not supported\n",
      "IntakeTemp is not supported\n",
      "FuelLevel is not supported\n",
      "AmbientTemp is not supported\n",
      "EngineOilTemp is not supported\n",
      "FuelRate is not supported\n"
     ]
    },
    {
     "name": "stderr",
     "output_type": "stream",
     "text": [
      "[obd.obd] Query failed, no connection available\n",
      "[obd.obd] Query failed, no connection available\n",
      "[obd.obd] Query failed, no connection available\n",
      "[obd.obd] Query failed, no connection available\n",
      "[obd.obd] Query failed, no connection available\n",
      "[obd.obd] Query failed, no connection available\n",
      "[obd.obd] Query failed, no connection available\n",
      "[obd.obd] Query failed, no connection available\n",
      "[obd.obd] Query failed, no connection available\n"
     ]
    },
    {
     "name": "stdout",
     "output_type": "stream",
     "text": [
      "RPM is not supported\n",
      "Speed is not supported\n",
      "EngineLoad is not supported\n",
      "CoolantTemp is not supported\n",
      "IntakeTemp is not supported\n",
      "FuelLevel is not supported\n",
      "AmbientTemp is not supported\n",
      "EngineOilTemp is not supported\n",
      "FuelRate is not supported\n"
     ]
    },
    {
     "name": "stderr",
     "output_type": "stream",
     "text": [
      "[obd.obd] Query failed, no connection available\n",
      "[obd.obd] Query failed, no connection available\n",
      "[obd.obd] Query failed, no connection available\n",
      "[obd.obd] Query failed, no connection available\n",
      "[obd.obd] Query failed, no connection available\n",
      "[obd.obd] Query failed, no connection available\n",
      "[obd.obd] Query failed, no connection available\n",
      "[obd.obd] Query failed, no connection available\n",
      "[obd.obd] Query failed, no connection available\n"
     ]
    },
    {
     "name": "stdout",
     "output_type": "stream",
     "text": [
      "RPM is not supported\n",
      "Speed is not supported\n",
      "EngineLoad is not supported\n",
      "CoolantTemp is not supported\n",
      "IntakeTemp is not supported\n",
      "FuelLevel is not supported\n",
      "AmbientTemp is not supported\n",
      "EngineOilTemp is not supported\n",
      "FuelRate is not supported\n"
     ]
    },
    {
     "name": "stderr",
     "output_type": "stream",
     "text": [
      "[obd.obd] Query failed, no connection available\n",
      "[obd.obd] Query failed, no connection available\n",
      "[obd.obd] Query failed, no connection available\n",
      "[obd.obd] Query failed, no connection available\n",
      "[obd.obd] Query failed, no connection available\n",
      "[obd.obd] Query failed, no connection available\n",
      "[obd.obd] Query failed, no connection available\n",
      "[obd.obd] Query failed, no connection available\n",
      "[obd.obd] Query failed, no connection available\n"
     ]
    },
    {
     "name": "stdout",
     "output_type": "stream",
     "text": [
      "RPM is not supported\n",
      "Speed is not supported\n",
      "EngineLoad is not supported\n",
      "CoolantTemp is not supported\n",
      "IntakeTemp is not supported\n",
      "FuelLevel is not supported\n",
      "AmbientTemp is not supported\n",
      "EngineOilTemp is not supported\n",
      "FuelRate is not supported\n"
     ]
    },
    {
     "name": "stderr",
     "output_type": "stream",
     "text": [
      "[obd.obd] Query failed, no connection available\n",
      "[obd.obd] Query failed, no connection available\n",
      "[obd.obd] Query failed, no connection available\n",
      "[obd.obd] Query failed, no connection available\n",
      "[obd.obd] Query failed, no connection available\n",
      "[obd.obd] Query failed, no connection available\n",
      "[obd.obd] Query failed, no connection available\n",
      "[obd.obd] Query failed, no connection available\n",
      "[obd.obd] Query failed, no connection available\n"
     ]
    },
    {
     "name": "stdout",
     "output_type": "stream",
     "text": [
      "RPM is not supported\n",
      "Speed is not supported\n",
      "EngineLoad is not supported\n",
      "CoolantTemp is not supported\n",
      "IntakeTemp is not supported\n",
      "FuelLevel is not supported\n",
      "AmbientTemp is not supported\n",
      "EngineOilTemp is not supported\n",
      "FuelRate is not supported\n"
     ]
    },
    {
     "name": "stderr",
     "output_type": "stream",
     "text": [
      "[obd.obd] Query failed, no connection available\n",
      "[obd.obd] Query failed, no connection available\n",
      "[obd.obd] Query failed, no connection available\n",
      "[obd.obd] Query failed, no connection available\n",
      "[obd.obd] Query failed, no connection available\n",
      "[obd.obd] Query failed, no connection available\n",
      "[obd.obd] Query failed, no connection available\n",
      "[obd.obd] Query failed, no connection available\n",
      "[obd.obd] Query failed, no connection available\n"
     ]
    },
    {
     "name": "stdout",
     "output_type": "stream",
     "text": [
      "RPM is not supported\n",
      "Speed is not supported\n",
      "EngineLoad is not supported\n",
      "CoolantTemp is not supported\n",
      "IntakeTemp is not supported\n",
      "FuelLevel is not supported\n",
      "AmbientTemp is not supported\n",
      "EngineOilTemp is not supported\n",
      "FuelRate is not supported\n"
     ]
    },
    {
     "name": "stderr",
     "output_type": "stream",
     "text": [
      "[obd.obd] Query failed, no connection available\n",
      "[obd.obd] Query failed, no connection available\n",
      "[obd.obd] Query failed, no connection available\n",
      "[obd.obd] Query failed, no connection available\n",
      "[obd.obd] Query failed, no connection available\n",
      "[obd.obd] Query failed, no connection available\n",
      "[obd.obd] Query failed, no connection available\n",
      "[obd.obd] Query failed, no connection available\n",
      "[obd.obd] Query failed, no connection available\n"
     ]
    },
    {
     "name": "stdout",
     "output_type": "stream",
     "text": [
      "RPM is not supported\n",
      "Speed is not supported\n",
      "EngineLoad is not supported\n",
      "CoolantTemp is not supported\n",
      "IntakeTemp is not supported\n",
      "FuelLevel is not supported\n",
      "AmbientTemp is not supported\n",
      "EngineOilTemp is not supported\n",
      "FuelRate is not supported\n"
     ]
    },
    {
     "name": "stderr",
     "output_type": "stream",
     "text": [
      "[obd.obd] Query failed, no connection available\n",
      "[obd.obd] Query failed, no connection available\n",
      "[obd.obd] Query failed, no connection available\n",
      "[obd.obd] Query failed, no connection available\n",
      "[obd.obd] Query failed, no connection available\n",
      "[obd.obd] Query failed, no connection available\n",
      "[obd.obd] Query failed, no connection available\n",
      "[obd.obd] Query failed, no connection available\n",
      "[obd.obd] Query failed, no connection available\n"
     ]
    },
    {
     "name": "stdout",
     "output_type": "stream",
     "text": [
      "RPM is not supported\n",
      "Speed is not supported\n",
      "EngineLoad is not supported\n",
      "CoolantTemp is not supported\n",
      "IntakeTemp is not supported\n",
      "FuelLevel is not supported\n",
      "AmbientTemp is not supported\n",
      "EngineOilTemp is not supported\n",
      "FuelRate is not supported\n"
     ]
    },
    {
     "name": "stderr",
     "output_type": "stream",
     "text": [
      "[obd.obd] Query failed, no connection available\n",
      "[obd.obd] Query failed, no connection available\n",
      "[obd.obd] Query failed, no connection available\n",
      "[obd.obd] Query failed, no connection available\n",
      "[obd.obd] Query failed, no connection available\n",
      "[obd.obd] Query failed, no connection available\n",
      "[obd.obd] Query failed, no connection available\n",
      "[obd.obd] Query failed, no connection available\n",
      "[obd.obd] Query failed, no connection available\n"
     ]
    },
    {
     "name": "stdout",
     "output_type": "stream",
     "text": [
      "RPM is not supported\n",
      "Speed is not supported\n",
      "EngineLoad is not supported\n",
      "CoolantTemp is not supported\n",
      "IntakeTemp is not supported\n",
      "FuelLevel is not supported\n",
      "AmbientTemp is not supported\n",
      "EngineOilTemp is not supported\n",
      "FuelRate is not supported\n"
     ]
    },
    {
     "name": "stderr",
     "output_type": "stream",
     "text": [
      "[obd.obd] Query failed, no connection available\n",
      "[obd.obd] Query failed, no connection available\n",
      "[obd.obd] Query failed, no connection available\n",
      "[obd.obd] Query failed, no connection available\n",
      "[obd.obd] Query failed, no connection available\n",
      "[obd.obd] Query failed, no connection available\n",
      "[obd.obd] Query failed, no connection available\n",
      "[obd.obd] Query failed, no connection available\n",
      "[obd.obd] Query failed, no connection available\n"
     ]
    },
    {
     "name": "stdout",
     "output_type": "stream",
     "text": [
      "RPM is not supported\n",
      "Speed is not supported\n",
      "EngineLoad is not supported\n",
      "CoolantTemp is not supported\n",
      "IntakeTemp is not supported\n",
      "FuelLevel is not supported\n",
      "AmbientTemp is not supported\n",
      "EngineOilTemp is not supported\n",
      "FuelRate is not supported\n"
     ]
    },
    {
     "name": "stderr",
     "output_type": "stream",
     "text": [
      "[obd.obd] Query failed, no connection available\n",
      "[obd.obd] Query failed, no connection available\n",
      "[obd.obd] Query failed, no connection available\n",
      "[obd.obd] Query failed, no connection available\n",
      "[obd.obd] Query failed, no connection available\n",
      "[obd.obd] Query failed, no connection available\n",
      "[obd.obd] Query failed, no connection available\n",
      "[obd.obd] Query failed, no connection available\n",
      "[obd.obd] Query failed, no connection available\n"
     ]
    },
    {
     "name": "stdout",
     "output_type": "stream",
     "text": [
      "RPM is not supported\n",
      "Speed is not supported\n",
      "EngineLoad is not supported\n",
      "CoolantTemp is not supported\n",
      "IntakeTemp is not supported\n",
      "FuelLevel is not supported\n",
      "AmbientTemp is not supported\n",
      "EngineOilTemp is not supported\n",
      "FuelRate is not supported\n"
     ]
    },
    {
     "name": "stderr",
     "output_type": "stream",
     "text": [
      "[obd.obd] Query failed, no connection available\n",
      "[obd.obd] Query failed, no connection available\n",
      "[obd.obd] Query failed, no connection available\n",
      "[obd.obd] Query failed, no connection available\n",
      "[obd.obd] Query failed, no connection available\n",
      "[obd.obd] Query failed, no connection available\n",
      "[obd.obd] Query failed, no connection available\n",
      "[obd.obd] Query failed, no connection available\n",
      "[obd.obd] Query failed, no connection available\n"
     ]
    },
    {
     "name": "stdout",
     "output_type": "stream",
     "text": [
      "RPM is not supported\n",
      "Speed is not supported\n",
      "EngineLoad is not supported\n",
      "CoolantTemp is not supported\n",
      "IntakeTemp is not supported\n",
      "FuelLevel is not supported\n",
      "AmbientTemp is not supported\n",
      "EngineOilTemp is not supported\n",
      "FuelRate is not supported\n"
     ]
    },
    {
     "name": "stderr",
     "output_type": "stream",
     "text": [
      "[obd.obd] Query failed, no connection available\n",
      "[obd.obd] Query failed, no connection available\n",
      "[obd.obd] Query failed, no connection available\n",
      "[obd.obd] Query failed, no connection available\n",
      "[obd.obd] Query failed, no connection available\n",
      "[obd.obd] Query failed, no connection available\n",
      "[obd.obd] Query failed, no connection available\n",
      "[obd.obd] Query failed, no connection available\n",
      "[obd.obd] Query failed, no connection available\n"
     ]
    },
    {
     "name": "stdout",
     "output_type": "stream",
     "text": [
      "RPM is not supported\n",
      "Speed is not supported\n",
      "EngineLoad is not supported\n",
      "CoolantTemp is not supported\n",
      "IntakeTemp is not supported\n",
      "FuelLevel is not supported\n",
      "AmbientTemp is not supported\n",
      "EngineOilTemp is not supported\n",
      "FuelRate is not supported\n"
     ]
    },
    {
     "name": "stderr",
     "output_type": "stream",
     "text": [
      "[obd.obd] Query failed, no connection available\n",
      "[obd.obd] Query failed, no connection available\n",
      "[obd.obd] Query failed, no connection available\n",
      "[obd.obd] Query failed, no connection available\n",
      "[obd.obd] Query failed, no connection available\n",
      "[obd.obd] Query failed, no connection available\n",
      "[obd.obd] Query failed, no connection available\n",
      "[obd.obd] Query failed, no connection available\n",
      "[obd.obd] Query failed, no connection available\n"
     ]
    },
    {
     "name": "stdout",
     "output_type": "stream",
     "text": [
      "RPM is not supported\n",
      "Speed is not supported\n",
      "EngineLoad is not supported\n",
      "CoolantTemp is not supported\n",
      "IntakeTemp is not supported\n",
      "FuelLevel is not supported\n",
      "AmbientTemp is not supported\n",
      "EngineOilTemp is not supported\n",
      "FuelRate is not supported\n"
     ]
    },
    {
     "name": "stderr",
     "output_type": "stream",
     "text": [
      "[obd.obd] Query failed, no connection available\n",
      "[obd.obd] Query failed, no connection available\n",
      "[obd.obd] Query failed, no connection available\n",
      "[obd.obd] Query failed, no connection available\n",
      "[obd.obd] Query failed, no connection available\n",
      "[obd.obd] Query failed, no connection available\n",
      "[obd.obd] Query failed, no connection available\n",
      "[obd.obd] Query failed, no connection available\n",
      "[obd.obd] Query failed, no connection available\n"
     ]
    },
    {
     "name": "stdout",
     "output_type": "stream",
     "text": [
      "RPM is not supported\n",
      "Speed is not supported\n",
      "EngineLoad is not supported\n",
      "CoolantTemp is not supported\n",
      "IntakeTemp is not supported\n",
      "FuelLevel is not supported\n",
      "AmbientTemp is not supported\n",
      "EngineOilTemp is not supported\n",
      "FuelRate is not supported\n"
     ]
    },
    {
     "name": "stderr",
     "output_type": "stream",
     "text": [
      "[obd.obd] Query failed, no connection available\n",
      "[obd.obd] Query failed, no connection available\n",
      "[obd.obd] Query failed, no connection available\n",
      "[obd.obd] Query failed, no connection available\n",
      "[obd.obd] Query failed, no connection available\n",
      "[obd.obd] Query failed, no connection available\n",
      "[obd.obd] Query failed, no connection available\n",
      "[obd.obd] Query failed, no connection available\n",
      "[obd.obd] Query failed, no connection available\n"
     ]
    },
    {
     "name": "stdout",
     "output_type": "stream",
     "text": [
      "RPM is not supported\n",
      "Speed is not supported\n",
      "EngineLoad is not supported\n",
      "CoolantTemp is not supported\n",
      "IntakeTemp is not supported\n",
      "FuelLevel is not supported\n",
      "AmbientTemp is not supported\n",
      "EngineOilTemp is not supported\n",
      "FuelRate is not supported\n"
     ]
    },
    {
     "name": "stderr",
     "output_type": "stream",
     "text": [
      "[obd.obd] Query failed, no connection available\n",
      "[obd.obd] Query failed, no connection available\n",
      "[obd.obd] Query failed, no connection available\n",
      "[obd.obd] Query failed, no connection available\n",
      "[obd.obd] Query failed, no connection available\n",
      "[obd.obd] Query failed, no connection available\n",
      "[obd.obd] Query failed, no connection available\n",
      "[obd.obd] Query failed, no connection available\n",
      "[obd.obd] Query failed, no connection available\n"
     ]
    },
    {
     "name": "stdout",
     "output_type": "stream",
     "text": [
      "RPM is not supported\n",
      "Speed is not supported\n",
      "EngineLoad is not supported\n",
      "CoolantTemp is not supported\n",
      "IntakeTemp is not supported\n",
      "FuelLevel is not supported\n",
      "AmbientTemp is not supported\n",
      "EngineOilTemp is not supported\n",
      "FuelRate is not supported\n"
     ]
    },
    {
     "name": "stderr",
     "output_type": "stream",
     "text": [
      "[obd.obd] Query failed, no connection available\n",
      "[obd.obd] Query failed, no connection available\n",
      "[obd.obd] Query failed, no connection available\n",
      "[obd.obd] Query failed, no connection available\n",
      "[obd.obd] Query failed, no connection available\n",
      "[obd.obd] Query failed, no connection available\n",
      "[obd.obd] Query failed, no connection available\n",
      "[obd.obd] Query failed, no connection available\n",
      "[obd.obd] Query failed, no connection available\n"
     ]
    },
    {
     "name": "stdout",
     "output_type": "stream",
     "text": [
      "RPM is not supported\n",
      "Speed is not supported\n",
      "EngineLoad is not supported\n",
      "CoolantTemp is not supported\n",
      "IntakeTemp is not supported\n",
      "FuelLevel is not supported\n",
      "AmbientTemp is not supported\n",
      "EngineOilTemp is not supported\n",
      "FuelRate is not supported\n"
     ]
    },
    {
     "name": "stderr",
     "output_type": "stream",
     "text": [
      "[obd.obd] Query failed, no connection available\n",
      "[obd.obd] Query failed, no connection available\n",
      "[obd.obd] Query failed, no connection available\n",
      "[obd.obd] Query failed, no connection available\n",
      "[obd.obd] Query failed, no connection available\n",
      "[obd.obd] Query failed, no connection available\n",
      "[obd.obd] Query failed, no connection available\n",
      "[obd.obd] Query failed, no connection available\n",
      "[obd.obd] Query failed, no connection available\n"
     ]
    },
    {
     "name": "stdout",
     "output_type": "stream",
     "text": [
      "RPM is not supported\n",
      "Speed is not supported\n",
      "EngineLoad is not supported\n",
      "CoolantTemp is not supported\n",
      "IntakeTemp is not supported\n",
      "FuelLevel is not supported\n",
      "AmbientTemp is not supported\n",
      "EngineOilTemp is not supported\n",
      "FuelRate is not supported\n"
     ]
    },
    {
     "name": "stderr",
     "output_type": "stream",
     "text": [
      "[obd.obd] Query failed, no connection available\n",
      "[obd.obd] Query failed, no connection available\n",
      "[obd.obd] Query failed, no connection available\n",
      "[obd.obd] Query failed, no connection available\n",
      "[obd.obd] Query failed, no connection available\n",
      "[obd.obd] Query failed, no connection available\n",
      "[obd.obd] Query failed, no connection available\n",
      "[obd.obd] Query failed, no connection available\n",
      "[obd.obd] Query failed, no connection available\n"
     ]
    },
    {
     "name": "stdout",
     "output_type": "stream",
     "text": [
      "RPM is not supported\n",
      "Speed is not supported\n",
      "EngineLoad is not supported\n",
      "CoolantTemp is not supported\n",
      "IntakeTemp is not supported\n",
      "FuelLevel is not supported\n",
      "AmbientTemp is not supported\n",
      "EngineOilTemp is not supported\n",
      "FuelRate is not supported\n"
     ]
    },
    {
     "name": "stderr",
     "output_type": "stream",
     "text": [
      "[obd.obd] Query failed, no connection available\n",
      "[obd.obd] Query failed, no connection available\n",
      "[obd.obd] Query failed, no connection available\n",
      "[obd.obd] Query failed, no connection available\n",
      "[obd.obd] Query failed, no connection available\n",
      "[obd.obd] Query failed, no connection available\n",
      "[obd.obd] Query failed, no connection available\n",
      "[obd.obd] Query failed, no connection available\n",
      "[obd.obd] Query failed, no connection available\n"
     ]
    },
    {
     "name": "stdout",
     "output_type": "stream",
     "text": [
      "RPM is not supported\n",
      "Speed is not supported\n",
      "EngineLoad is not supported\n",
      "CoolantTemp is not supported\n",
      "IntakeTemp is not supported\n",
      "FuelLevel is not supported\n",
      "AmbientTemp is not supported\n",
      "EngineOilTemp is not supported\n",
      "FuelRate is not supported\n"
     ]
    },
    {
     "name": "stderr",
     "output_type": "stream",
     "text": [
      "[obd.obd] Query failed, no connection available\n",
      "[obd.obd] Query failed, no connection available\n",
      "[obd.obd] Query failed, no connection available\n",
      "[obd.obd] Query failed, no connection available\n",
      "[obd.obd] Query failed, no connection available\n",
      "[obd.obd] Query failed, no connection available\n",
      "[obd.obd] Query failed, no connection available\n",
      "[obd.obd] Query failed, no connection available\n",
      "[obd.obd] Query failed, no connection available\n"
     ]
    },
    {
     "name": "stdout",
     "output_type": "stream",
     "text": [
      "RPM is not supported\n",
      "Speed is not supported\n",
      "EngineLoad is not supported\n",
      "CoolantTemp is not supported\n",
      "IntakeTemp is not supported\n",
      "FuelLevel is not supported\n",
      "AmbientTemp is not supported\n",
      "EngineOilTemp is not supported\n",
      "FuelRate is not supported\n"
     ]
    },
    {
     "name": "stderr",
     "output_type": "stream",
     "text": [
      "[obd.obd] Query failed, no connection available\n",
      "[obd.obd] Query failed, no connection available\n",
      "[obd.obd] Query failed, no connection available\n",
      "[obd.obd] Query failed, no connection available\n",
      "[obd.obd] Query failed, no connection available\n",
      "[obd.obd] Query failed, no connection available\n",
      "[obd.obd] Query failed, no connection available\n",
      "[obd.obd] Query failed, no connection available\n",
      "[obd.obd] Query failed, no connection available\n"
     ]
    },
    {
     "name": "stdout",
     "output_type": "stream",
     "text": [
      "RPM is not supported\n",
      "Speed is not supported\n",
      "EngineLoad is not supported\n",
      "CoolantTemp is not supported\n",
      "IntakeTemp is not supported\n",
      "FuelLevel is not supported\n",
      "AmbientTemp is not supported\n",
      "EngineOilTemp is not supported\n",
      "FuelRate is not supported\n"
     ]
    },
    {
     "name": "stderr",
     "output_type": "stream",
     "text": [
      "[obd.obd] Query failed, no connection available\n",
      "[obd.obd] Query failed, no connection available\n",
      "[obd.obd] Query failed, no connection available\n",
      "[obd.obd] Query failed, no connection available\n",
      "[obd.obd] Query failed, no connection available\n",
      "[obd.obd] Query failed, no connection available\n",
      "[obd.obd] Query failed, no connection available\n",
      "[obd.obd] Query failed, no connection available\n",
      "[obd.obd] Query failed, no connection available\n"
     ]
    },
    {
     "name": "stdout",
     "output_type": "stream",
     "text": [
      "RPM is not supported\n",
      "Speed is not supported\n",
      "EngineLoad is not supported\n",
      "CoolantTemp is not supported\n",
      "IntakeTemp is not supported\n",
      "FuelLevel is not supported\n",
      "AmbientTemp is not supported\n",
      "EngineOilTemp is not supported\n",
      "FuelRate is not supported\n"
     ]
    },
    {
     "name": "stderr",
     "output_type": "stream",
     "text": [
      "[obd.obd] Query failed, no connection available\n",
      "[obd.obd] Query failed, no connection available\n",
      "[obd.obd] Query failed, no connection available\n",
      "[obd.obd] Query failed, no connection available\n",
      "[obd.obd] Query failed, no connection available\n",
      "[obd.obd] Query failed, no connection available\n",
      "[obd.obd] Query failed, no connection available\n",
      "[obd.obd] Query failed, no connection available\n",
      "[obd.obd] Query failed, no connection available\n"
     ]
    },
    {
     "name": "stdout",
     "output_type": "stream",
     "text": [
      "RPM is not supported\n",
      "Speed is not supported\n",
      "EngineLoad is not supported\n",
      "CoolantTemp is not supported\n",
      "IntakeTemp is not supported\n",
      "FuelLevel is not supported\n",
      "AmbientTemp is not supported\n",
      "EngineOilTemp is not supported\n",
      "FuelRate is not supported\n"
     ]
    },
    {
     "name": "stderr",
     "output_type": "stream",
     "text": [
      "[obd.obd] Query failed, no connection available\n",
      "[obd.obd] Query failed, no connection available\n",
      "[obd.obd] Query failed, no connection available\n",
      "[obd.obd] Query failed, no connection available\n",
      "[obd.obd] Query failed, no connection available\n",
      "[obd.obd] Query failed, no connection available\n",
      "[obd.obd] Query failed, no connection available\n",
      "[obd.obd] Query failed, no connection available\n",
      "[obd.obd] Query failed, no connection available\n"
     ]
    },
    {
     "name": "stdout",
     "output_type": "stream",
     "text": [
      "RPM is not supported\n",
      "Speed is not supported\n",
      "EngineLoad is not supported\n",
      "CoolantTemp is not supported\n",
      "IntakeTemp is not supported\n",
      "FuelLevel is not supported\n",
      "AmbientTemp is not supported\n",
      "EngineOilTemp is not supported\n",
      "FuelRate is not supported\n"
     ]
    },
    {
     "name": "stderr",
     "output_type": "stream",
     "text": [
      "[obd.obd] Query failed, no connection available\n",
      "[obd.obd] Query failed, no connection available\n",
      "[obd.obd] Query failed, no connection available\n",
      "[obd.obd] Query failed, no connection available\n",
      "[obd.obd] Query failed, no connection available\n",
      "[obd.obd] Query failed, no connection available\n",
      "[obd.obd] Query failed, no connection available\n",
      "[obd.obd] Query failed, no connection available\n",
      "[obd.obd] Query failed, no connection available\n"
     ]
    },
    {
     "name": "stdout",
     "output_type": "stream",
     "text": [
      "RPM is not supported\n",
      "Speed is not supported\n",
      "EngineLoad is not supported\n",
      "CoolantTemp is not supported\n",
      "IntakeTemp is not supported\n",
      "FuelLevel is not supported\n",
      "AmbientTemp is not supported\n",
      "EngineOilTemp is not supported\n",
      "FuelRate is not supported\n"
     ]
    },
    {
     "name": "stderr",
     "output_type": "stream",
     "text": [
      "[obd.obd] Query failed, no connection available\n",
      "[obd.obd] Query failed, no connection available\n",
      "[obd.obd] Query failed, no connection available\n",
      "[obd.obd] Query failed, no connection available\n",
      "[obd.obd] Query failed, no connection available\n",
      "[obd.obd] Query failed, no connection available\n",
      "[obd.obd] Query failed, no connection available\n",
      "[obd.obd] Query failed, no connection available\n",
      "[obd.obd] Query failed, no connection available\n"
     ]
    },
    {
     "name": "stdout",
     "output_type": "stream",
     "text": [
      "RPM is not supported\n",
      "Speed is not supported\n",
      "EngineLoad is not supported\n",
      "CoolantTemp is not supported\n",
      "IntakeTemp is not supported\n",
      "FuelLevel is not supported\n",
      "AmbientTemp is not supported\n",
      "EngineOilTemp is not supported\n",
      "FuelRate is not supported\n"
     ]
    },
    {
     "name": "stderr",
     "output_type": "stream",
     "text": [
      "[obd.obd] Query failed, no connection available\n",
      "[obd.obd] Query failed, no connection available\n",
      "[obd.obd] Query failed, no connection available\n",
      "[obd.obd] Query failed, no connection available\n",
      "[obd.obd] Query failed, no connection available\n",
      "[obd.obd] Query failed, no connection available\n",
      "[obd.obd] Query failed, no connection available\n",
      "[obd.obd] Query failed, no connection available\n",
      "[obd.obd] Query failed, no connection available\n"
     ]
    },
    {
     "name": "stdout",
     "output_type": "stream",
     "text": [
      "RPM is not supported\n",
      "Speed is not supported\n",
      "EngineLoad is not supported\n",
      "CoolantTemp is not supported\n",
      "IntakeTemp is not supported\n",
      "FuelLevel is not supported\n",
      "AmbientTemp is not supported\n",
      "EngineOilTemp is not supported\n",
      "FuelRate is not supported\n"
     ]
    },
    {
     "name": "stderr",
     "output_type": "stream",
     "text": [
      "[obd.obd] Query failed, no connection available\n",
      "[obd.obd] Query failed, no connection available\n",
      "[obd.obd] Query failed, no connection available\n",
      "[obd.obd] Query failed, no connection available\n",
      "[obd.obd] Query failed, no connection available\n",
      "[obd.obd] Query failed, no connection available\n",
      "[obd.obd] Query failed, no connection available\n",
      "[obd.obd] Query failed, no connection available\n",
      "[obd.obd] Query failed, no connection available\n"
     ]
    },
    {
     "name": "stdout",
     "output_type": "stream",
     "text": [
      "RPM is not supported\n",
      "Speed is not supported\n",
      "EngineLoad is not supported\n",
      "CoolantTemp is not supported\n",
      "IntakeTemp is not supported\n",
      "FuelLevel is not supported\n",
      "AmbientTemp is not supported\n",
      "EngineOilTemp is not supported\n",
      "FuelRate is not supported\n"
     ]
    },
    {
     "name": "stderr",
     "output_type": "stream",
     "text": [
      "[obd.obd] Query failed, no connection available\n",
      "[obd.obd] Query failed, no connection available\n",
      "[obd.obd] Query failed, no connection available\n",
      "[obd.obd] Query failed, no connection available\n",
      "[obd.obd] Query failed, no connection available\n",
      "[obd.obd] Query failed, no connection available\n",
      "[obd.obd] Query failed, no connection available\n",
      "[obd.obd] Query failed, no connection available\n",
      "[obd.obd] Query failed, no connection available\n"
     ]
    },
    {
     "name": "stdout",
     "output_type": "stream",
     "text": [
      "RPM is not supported\n",
      "Speed is not supported\n",
      "EngineLoad is not supported\n",
      "CoolantTemp is not supported\n",
      "IntakeTemp is not supported\n",
      "FuelLevel is not supported\n",
      "AmbientTemp is not supported\n",
      "EngineOilTemp is not supported\n",
      "FuelRate is not supported\n"
     ]
    },
    {
     "name": "stderr",
     "output_type": "stream",
     "text": [
      "[obd.obd] Query failed, no connection available\n",
      "[obd.obd] Query failed, no connection available\n",
      "[obd.obd] Query failed, no connection available\n",
      "[obd.obd] Query failed, no connection available\n",
      "[obd.obd] Query failed, no connection available\n",
      "[obd.obd] Query failed, no connection available\n",
      "[obd.obd] Query failed, no connection available\n",
      "[obd.obd] Query failed, no connection available\n",
      "[obd.obd] Query failed, no connection available\n"
     ]
    },
    {
     "name": "stdout",
     "output_type": "stream",
     "text": [
      "RPM is not supported\n",
      "Speed is not supported\n",
      "EngineLoad is not supported\n",
      "CoolantTemp is not supported\n",
      "IntakeTemp is not supported\n",
      "FuelLevel is not supported\n",
      "AmbientTemp is not supported\n",
      "EngineOilTemp is not supported\n",
      "FuelRate is not supported\n"
     ]
    },
    {
     "name": "stderr",
     "output_type": "stream",
     "text": [
      "[obd.obd] Query failed, no connection available\n",
      "[obd.obd] Query failed, no connection available\n",
      "[obd.obd] Query failed, no connection available\n",
      "[obd.obd] Query failed, no connection available\n",
      "[obd.obd] Query failed, no connection available\n",
      "[obd.obd] Query failed, no connection available\n",
      "[obd.obd] Query failed, no connection available\n",
      "[obd.obd] Query failed, no connection available\n",
      "[obd.obd] Query failed, no connection available\n"
     ]
    },
    {
     "name": "stdout",
     "output_type": "stream",
     "text": [
      "RPM is not supported\n",
      "Speed is not supported\n",
      "EngineLoad is not supported\n",
      "CoolantTemp is not supported\n",
      "IntakeTemp is not supported\n",
      "FuelLevel is not supported\n",
      "AmbientTemp is not supported\n",
      "EngineOilTemp is not supported\n",
      "FuelRate is not supported\n"
     ]
    },
    {
     "name": "stderr",
     "output_type": "stream",
     "text": [
      "[obd.obd] Query failed, no connection available\n",
      "[obd.obd] Query failed, no connection available\n",
      "[obd.obd] Query failed, no connection available\n",
      "[obd.obd] Query failed, no connection available\n",
      "[obd.obd] Query failed, no connection available\n",
      "[obd.obd] Query failed, no connection available\n",
      "[obd.obd] Query failed, no connection available\n",
      "[obd.obd] Query failed, no connection available\n",
      "[obd.obd] Query failed, no connection available\n"
     ]
    },
    {
     "name": "stdout",
     "output_type": "stream",
     "text": [
      "RPM is not supported\n",
      "Speed is not supported\n",
      "EngineLoad is not supported\n",
      "CoolantTemp is not supported\n",
      "IntakeTemp is not supported\n",
      "FuelLevel is not supported\n",
      "AmbientTemp is not supported\n",
      "EngineOilTemp is not supported\n",
      "FuelRate is not supported\n"
     ]
    },
    {
     "name": "stderr",
     "output_type": "stream",
     "text": [
      "[obd.obd] Query failed, no connection available\n",
      "[obd.obd] Query failed, no connection available\n",
      "[obd.obd] Query failed, no connection available\n",
      "[obd.obd] Query failed, no connection available\n",
      "[obd.obd] Query failed, no connection available\n",
      "[obd.obd] Query failed, no connection available\n",
      "[obd.obd] Query failed, no connection available\n",
      "[obd.obd] Query failed, no connection available\n",
      "[obd.obd] Query failed, no connection available\n"
     ]
    },
    {
     "name": "stdout",
     "output_type": "stream",
     "text": [
      "RPM is not supported\n",
      "Speed is not supported\n",
      "EngineLoad is not supported\n",
      "CoolantTemp is not supported\n",
      "IntakeTemp is not supported\n",
      "FuelLevel is not supported\n",
      "AmbientTemp is not supported\n",
      "EngineOilTemp is not supported\n",
      "FuelRate is not supported\n"
     ]
    },
    {
     "name": "stderr",
     "output_type": "stream",
     "text": [
      "[obd.obd] Query failed, no connection available\n",
      "[obd.obd] Query failed, no connection available\n",
      "[obd.obd] Query failed, no connection available\n",
      "[obd.obd] Query failed, no connection available\n",
      "[obd.obd] Query failed, no connection available\n",
      "[obd.obd] Query failed, no connection available\n",
      "[obd.obd] Query failed, no connection available\n",
      "[obd.obd] Query failed, no connection available\n",
      "[obd.obd] Query failed, no connection available\n"
     ]
    },
    {
     "name": "stdout",
     "output_type": "stream",
     "text": [
      "RPM is not supported\n",
      "Speed is not supported\n",
      "EngineLoad is not supported\n",
      "CoolantTemp is not supported\n",
      "IntakeTemp is not supported\n",
      "FuelLevel is not supported\n",
      "AmbientTemp is not supported\n",
      "EngineOilTemp is not supported\n",
      "FuelRate is not supported\n"
     ]
    },
    {
     "name": "stderr",
     "output_type": "stream",
     "text": [
      "[obd.obd] Query failed, no connection available\n",
      "[obd.obd] Query failed, no connection available\n",
      "[obd.obd] Query failed, no connection available\n",
      "[obd.obd] Query failed, no connection available\n",
      "[obd.obd] Query failed, no connection available\n",
      "[obd.obd] Query failed, no connection available\n",
      "[obd.obd] Query failed, no connection available\n",
      "[obd.obd] Query failed, no connection available\n",
      "[obd.obd] Query failed, no connection available\n"
     ]
    },
    {
     "name": "stdout",
     "output_type": "stream",
     "text": [
      "RPM is not supported\n",
      "Speed is not supported\n",
      "EngineLoad is not supported\n",
      "CoolantTemp is not supported\n",
      "IntakeTemp is not supported\n",
      "FuelLevel is not supported\n",
      "AmbientTemp is not supported\n",
      "EngineOilTemp is not supported\n",
      "FuelRate is not supported\n"
     ]
    },
    {
     "name": "stderr",
     "output_type": "stream",
     "text": [
      "[obd.obd] Query failed, no connection available\n",
      "[obd.obd] Query failed, no connection available\n",
      "[obd.obd] Query failed, no connection available\n",
      "[obd.obd] Query failed, no connection available\n",
      "[obd.obd] Query failed, no connection available\n",
      "[obd.obd] Query failed, no connection available\n",
      "[obd.obd] Query failed, no connection available\n",
      "[obd.obd] Query failed, no connection available\n",
      "[obd.obd] Query failed, no connection available\n"
     ]
    },
    {
     "name": "stdout",
     "output_type": "stream",
     "text": [
      "RPM is not supported\n",
      "Speed is not supported\n",
      "EngineLoad is not supported\n",
      "CoolantTemp is not supported\n",
      "IntakeTemp is not supported\n",
      "FuelLevel is not supported\n",
      "AmbientTemp is not supported\n",
      "EngineOilTemp is not supported\n",
      "FuelRate is not supported\n"
     ]
    },
    {
     "name": "stderr",
     "output_type": "stream",
     "text": [
      "[obd.obd] Query failed, no connection available\n",
      "[obd.obd] Query failed, no connection available\n",
      "[obd.obd] Query failed, no connection available\n",
      "[obd.obd] Query failed, no connection available\n",
      "[obd.obd] Query failed, no connection available\n",
      "[obd.obd] Query failed, no connection available\n",
      "[obd.obd] Query failed, no connection available\n",
      "[obd.obd] Query failed, no connection available\n",
      "[obd.obd] Query failed, no connection available\n"
     ]
    },
    {
     "name": "stdout",
     "output_type": "stream",
     "text": [
      "RPM is not supported\n",
      "Speed is not supported\n",
      "EngineLoad is not supported\n",
      "CoolantTemp is not supported\n",
      "IntakeTemp is not supported\n",
      "FuelLevel is not supported\n",
      "AmbientTemp is not supported\n",
      "EngineOilTemp is not supported\n",
      "FuelRate is not supported\n"
     ]
    },
    {
     "name": "stderr",
     "output_type": "stream",
     "text": [
      "[obd.obd] Query failed, no connection available\n",
      "[obd.obd] Query failed, no connection available\n",
      "[obd.obd] Query failed, no connection available\n",
      "[obd.obd] Query failed, no connection available\n",
      "[obd.obd] Query failed, no connection available\n",
      "[obd.obd] Query failed, no connection available\n",
      "[obd.obd] Query failed, no connection available\n",
      "[obd.obd] Query failed, no connection available\n",
      "[obd.obd] Query failed, no connection available\n"
     ]
    },
    {
     "name": "stdout",
     "output_type": "stream",
     "text": [
      "RPM is not supported\n",
      "Speed is not supported\n",
      "EngineLoad is not supported\n",
      "CoolantTemp is not supported\n",
      "IntakeTemp is not supported\n",
      "FuelLevel is not supported\n",
      "AmbientTemp is not supported\n",
      "EngineOilTemp is not supported\n",
      "FuelRate is not supported\n"
     ]
    },
    {
     "name": "stderr",
     "output_type": "stream",
     "text": [
      "[obd.obd] Query failed, no connection available\n",
      "[obd.obd] Query failed, no connection available\n",
      "[obd.obd] Query failed, no connection available\n",
      "[obd.obd] Query failed, no connection available\n",
      "[obd.obd] Query failed, no connection available\n",
      "[obd.obd] Query failed, no connection available\n",
      "[obd.obd] Query failed, no connection available\n",
      "[obd.obd] Query failed, no connection available\n",
      "[obd.obd] Query failed, no connection available\n"
     ]
    },
    {
     "name": "stdout",
     "output_type": "stream",
     "text": [
      "RPM is not supported\n",
      "Speed is not supported\n",
      "EngineLoad is not supported\n",
      "CoolantTemp is not supported\n",
      "IntakeTemp is not supported\n",
      "FuelLevel is not supported\n",
      "AmbientTemp is not supported\n",
      "EngineOilTemp is not supported\n",
      "FuelRate is not supported\n"
     ]
    },
    {
     "name": "stderr",
     "output_type": "stream",
     "text": [
      "[obd.obd] Query failed, no connection available\n",
      "[obd.obd] Query failed, no connection available\n",
      "[obd.obd] Query failed, no connection available\n",
      "[obd.obd] Query failed, no connection available\n",
      "[obd.obd] Query failed, no connection available\n",
      "[obd.obd] Query failed, no connection available\n",
      "[obd.obd] Query failed, no connection available\n",
      "[obd.obd] Query failed, no connection available\n",
      "[obd.obd] Query failed, no connection available\n"
     ]
    },
    {
     "name": "stdout",
     "output_type": "stream",
     "text": [
      "RPM is not supported\n",
      "Speed is not supported\n",
      "EngineLoad is not supported\n",
      "CoolantTemp is not supported\n",
      "IntakeTemp is not supported\n",
      "FuelLevel is not supported\n",
      "AmbientTemp is not supported\n",
      "EngineOilTemp is not supported\n",
      "FuelRate is not supported\n"
     ]
    },
    {
     "name": "stderr",
     "output_type": "stream",
     "text": [
      "[obd.obd] Query failed, no connection available\n",
      "[obd.obd] Query failed, no connection available\n",
      "[obd.obd] Query failed, no connection available\n",
      "[obd.obd] Query failed, no connection available\n",
      "[obd.obd] Query failed, no connection available\n",
      "[obd.obd] Query failed, no connection available\n",
      "[obd.obd] Query failed, no connection available\n",
      "[obd.obd] Query failed, no connection available\n",
      "[obd.obd] Query failed, no connection available\n"
     ]
    },
    {
     "name": "stdout",
     "output_type": "stream",
     "text": [
      "RPM is not supported\n",
      "Speed is not supported\n",
      "EngineLoad is not supported\n",
      "CoolantTemp is not supported\n",
      "IntakeTemp is not supported\n",
      "FuelLevel is not supported\n",
      "AmbientTemp is not supported\n",
      "EngineOilTemp is not supported\n",
      "FuelRate is not supported\n"
     ]
    },
    {
     "name": "stderr",
     "output_type": "stream",
     "text": [
      "[obd.obd] Query failed, no connection available\n",
      "[obd.obd] Query failed, no connection available\n",
      "[obd.obd] Query failed, no connection available\n",
      "[obd.obd] Query failed, no connection available\n",
      "[obd.obd] Query failed, no connection available\n",
      "[obd.obd] Query failed, no connection available\n",
      "[obd.obd] Query failed, no connection available\n",
      "[obd.obd] Query failed, no connection available\n",
      "[obd.obd] Query failed, no connection available\n"
     ]
    },
    {
     "name": "stdout",
     "output_type": "stream",
     "text": [
      "RPM is not supported\n",
      "Speed is not supported\n",
      "EngineLoad is not supported\n",
      "CoolantTemp is not supported\n",
      "IntakeTemp is not supported\n",
      "FuelLevel is not supported\n",
      "AmbientTemp is not supported\n",
      "EngineOilTemp is not supported\n",
      "FuelRate is not supported\n"
     ]
    },
    {
     "name": "stderr",
     "output_type": "stream",
     "text": [
      "[obd.obd] Query failed, no connection available\n",
      "[obd.obd] Query failed, no connection available\n",
      "[obd.obd] Query failed, no connection available\n",
      "[obd.obd] Query failed, no connection available\n",
      "[obd.obd] Query failed, no connection available\n",
      "[obd.obd] Query failed, no connection available\n",
      "[obd.obd] Query failed, no connection available\n",
      "[obd.obd] Query failed, no connection available\n",
      "[obd.obd] Query failed, no connection available\n"
     ]
    },
    {
     "name": "stdout",
     "output_type": "stream",
     "text": [
      "RPM is not supported\n",
      "Speed is not supported\n",
      "EngineLoad is not supported\n",
      "CoolantTemp is not supported\n",
      "IntakeTemp is not supported\n",
      "FuelLevel is not supported\n",
      "AmbientTemp is not supported\n",
      "EngineOilTemp is not supported\n",
      "FuelRate is not supported\n"
     ]
    },
    {
     "name": "stderr",
     "output_type": "stream",
     "text": [
      "[obd.obd] Query failed, no connection available\n",
      "[obd.obd] Query failed, no connection available\n",
      "[obd.obd] Query failed, no connection available\n",
      "[obd.obd] Query failed, no connection available\n",
      "[obd.obd] Query failed, no connection available\n",
      "[obd.obd] Query failed, no connection available\n",
      "[obd.obd] Query failed, no connection available\n",
      "[obd.obd] Query failed, no connection available\n",
      "[obd.obd] Query failed, no connection available\n"
     ]
    },
    {
     "name": "stdout",
     "output_type": "stream",
     "text": [
      "RPM is not supported\n",
      "Speed is not supported\n",
      "EngineLoad is not supported\n",
      "CoolantTemp is not supported\n",
      "IntakeTemp is not supported\n",
      "FuelLevel is not supported\n",
      "AmbientTemp is not supported\n",
      "EngineOilTemp is not supported\n",
      "FuelRate is not supported\n"
     ]
    },
    {
     "name": "stderr",
     "output_type": "stream",
     "text": [
      "[obd.obd] Query failed, no connection available\n",
      "[obd.obd] Query failed, no connection available\n",
      "[obd.obd] Query failed, no connection available\n",
      "[obd.obd] Query failed, no connection available\n",
      "[obd.obd] Query failed, no connection available\n",
      "[obd.obd] Query failed, no connection available\n",
      "[obd.obd] Query failed, no connection available\n",
      "[obd.obd] Query failed, no connection available\n",
      "[obd.obd] Query failed, no connection available\n"
     ]
    },
    {
     "name": "stdout",
     "output_type": "stream",
     "text": [
      "RPM is not supported\n",
      "Speed is not supported\n",
      "EngineLoad is not supported\n",
      "CoolantTemp is not supported\n",
      "IntakeTemp is not supported\n",
      "FuelLevel is not supported\n",
      "AmbientTemp is not supported\n",
      "EngineOilTemp is not supported\n",
      "FuelRate is not supported\n"
     ]
    },
    {
     "name": "stderr",
     "output_type": "stream",
     "text": [
      "[obd.obd] Query failed, no connection available\n",
      "[obd.obd] Query failed, no connection available\n",
      "[obd.obd] Query failed, no connection available\n",
      "[obd.obd] Query failed, no connection available\n",
      "[obd.obd] Query failed, no connection available\n",
      "[obd.obd] Query failed, no connection available\n",
      "[obd.obd] Query failed, no connection available\n",
      "[obd.obd] Query failed, no connection available\n",
      "[obd.obd] Query failed, no connection available\n"
     ]
    },
    {
     "name": "stdout",
     "output_type": "stream",
     "text": [
      "RPM is not supported\n",
      "Speed is not supported\n",
      "EngineLoad is not supported\n",
      "CoolantTemp is not supported\n",
      "IntakeTemp is not supported\n",
      "FuelLevel is not supported\n",
      "AmbientTemp is not supported\n",
      "EngineOilTemp is not supported\n",
      "FuelRate is not supported\n"
     ]
    },
    {
     "name": "stderr",
     "output_type": "stream",
     "text": [
      "[obd.obd] Query failed, no connection available\n",
      "[obd.obd] Query failed, no connection available\n",
      "[obd.obd] Query failed, no connection available\n",
      "[obd.obd] Query failed, no connection available\n",
      "[obd.obd] Query failed, no connection available\n",
      "[obd.obd] Query failed, no connection available\n",
      "[obd.obd] Query failed, no connection available\n",
      "[obd.obd] Query failed, no connection available\n",
      "[obd.obd] Query failed, no connection available\n"
     ]
    },
    {
     "name": "stdout",
     "output_type": "stream",
     "text": [
      "RPM is not supported\n",
      "Speed is not supported\n",
      "EngineLoad is not supported\n",
      "CoolantTemp is not supported\n",
      "IntakeTemp is not supported\n",
      "FuelLevel is not supported\n",
      "AmbientTemp is not supported\n",
      "EngineOilTemp is not supported\n",
      "FuelRate is not supported\n"
     ]
    },
    {
     "name": "stderr",
     "output_type": "stream",
     "text": [
      "[obd.obd] Query failed, no connection available\n",
      "[obd.obd] Query failed, no connection available\n",
      "[obd.obd] Query failed, no connection available\n",
      "[obd.obd] Query failed, no connection available\n",
      "[obd.obd] Query failed, no connection available\n",
      "[obd.obd] Query failed, no connection available\n",
      "[obd.obd] Query failed, no connection available\n",
      "[obd.obd] Query failed, no connection available\n",
      "[obd.obd] Query failed, no connection available\n"
     ]
    },
    {
     "name": "stdout",
     "output_type": "stream",
     "text": [
      "RPM is not supported\n",
      "Speed is not supported\n",
      "EngineLoad is not supported\n",
      "CoolantTemp is not supported\n",
      "IntakeTemp is not supported\n",
      "FuelLevel is not supported\n",
      "AmbientTemp is not supported\n",
      "EngineOilTemp is not supported\n",
      "FuelRate is not supported\n"
     ]
    },
    {
     "name": "stderr",
     "output_type": "stream",
     "text": [
      "[obd.obd] Query failed, no connection available\n",
      "[obd.obd] Query failed, no connection available\n",
      "[obd.obd] Query failed, no connection available\n",
      "[obd.obd] Query failed, no connection available\n",
      "[obd.obd] Query failed, no connection available\n",
      "[obd.obd] Query failed, no connection available\n",
      "[obd.obd] Query failed, no connection available\n",
      "[obd.obd] Query failed, no connection available\n",
      "[obd.obd] Query failed, no connection available\n"
     ]
    },
    {
     "name": "stdout",
     "output_type": "stream",
     "text": [
      "RPM is not supported\n",
      "Speed is not supported\n",
      "EngineLoad is not supported\n",
      "CoolantTemp is not supported\n",
      "IntakeTemp is not supported\n",
      "FuelLevel is not supported\n",
      "AmbientTemp is not supported\n",
      "EngineOilTemp is not supported\n",
      "FuelRate is not supported\n"
     ]
    },
    {
     "name": "stderr",
     "output_type": "stream",
     "text": [
      "[obd.obd] Query failed, no connection available\n",
      "[obd.obd] Query failed, no connection available\n",
      "[obd.obd] Query failed, no connection available\n",
      "[obd.obd] Query failed, no connection available\n",
      "[obd.obd] Query failed, no connection available\n",
      "[obd.obd] Query failed, no connection available\n",
      "[obd.obd] Query failed, no connection available\n",
      "[obd.obd] Query failed, no connection available\n",
      "[obd.obd] Query failed, no connection available\n"
     ]
    },
    {
     "name": "stdout",
     "output_type": "stream",
     "text": [
      "RPM is not supported\n",
      "Speed is not supported\n",
      "EngineLoad is not supported\n",
      "CoolantTemp is not supported\n",
      "IntakeTemp is not supported\n",
      "FuelLevel is not supported\n",
      "AmbientTemp is not supported\n",
      "EngineOilTemp is not supported\n",
      "FuelRate is not supported\n"
     ]
    },
    {
     "name": "stderr",
     "output_type": "stream",
     "text": [
      "[obd.obd] Query failed, no connection available\n",
      "[obd.obd] Query failed, no connection available\n",
      "[obd.obd] Query failed, no connection available\n",
      "[obd.obd] Query failed, no connection available\n",
      "[obd.obd] Query failed, no connection available\n",
      "[obd.obd] Query failed, no connection available\n",
      "[obd.obd] Query failed, no connection available\n",
      "[obd.obd] Query failed, no connection available\n",
      "[obd.obd] Query failed, no connection available\n"
     ]
    },
    {
     "name": "stdout",
     "output_type": "stream",
     "text": [
      "RPM is not supported\n",
      "Speed is not supported\n",
      "EngineLoad is not supported\n",
      "CoolantTemp is not supported\n",
      "IntakeTemp is not supported\n",
      "FuelLevel is not supported\n",
      "AmbientTemp is not supported\n",
      "EngineOilTemp is not supported\n",
      "FuelRate is not supported\n"
     ]
    },
    {
     "name": "stderr",
     "output_type": "stream",
     "text": [
      "[obd.obd] Query failed, no connection available\n",
      "[obd.obd] Query failed, no connection available\n",
      "[obd.obd] Query failed, no connection available\n",
      "[obd.obd] Query failed, no connection available\n",
      "[obd.obd] Query failed, no connection available\n",
      "[obd.obd] Query failed, no connection available\n",
      "[obd.obd] Query failed, no connection available\n",
      "[obd.obd] Query failed, no connection available\n",
      "[obd.obd] Query failed, no connection available\n"
     ]
    },
    {
     "name": "stdout",
     "output_type": "stream",
     "text": [
      "RPM is not supported\n",
      "Speed is not supported\n",
      "EngineLoad is not supported\n",
      "CoolantTemp is not supported\n",
      "IntakeTemp is not supported\n",
      "FuelLevel is not supported\n",
      "AmbientTemp is not supported\n",
      "EngineOilTemp is not supported\n",
      "FuelRate is not supported\n"
     ]
    },
    {
     "name": "stderr",
     "output_type": "stream",
     "text": [
      "[obd.obd] Query failed, no connection available\n",
      "[obd.obd] Query failed, no connection available\n",
      "[obd.obd] Query failed, no connection available\n",
      "[obd.obd] Query failed, no connection available\n",
      "[obd.obd] Query failed, no connection available\n",
      "[obd.obd] Query failed, no connection available\n",
      "[obd.obd] Query failed, no connection available\n",
      "[obd.obd] Query failed, no connection available\n",
      "[obd.obd] Query failed, no connection available\n"
     ]
    },
    {
     "name": "stdout",
     "output_type": "stream",
     "text": [
      "RPM is not supported\n",
      "Speed is not supported\n",
      "EngineLoad is not supported\n",
      "CoolantTemp is not supported\n",
      "IntakeTemp is not supported\n",
      "FuelLevel is not supported\n",
      "AmbientTemp is not supported\n",
      "EngineOilTemp is not supported\n",
      "FuelRate is not supported\n"
     ]
    },
    {
     "name": "stderr",
     "output_type": "stream",
     "text": [
      "[obd.obd] Query failed, no connection available\n",
      "[obd.obd] Query failed, no connection available\n",
      "[obd.obd] Query failed, no connection available\n",
      "[obd.obd] Query failed, no connection available\n",
      "[obd.obd] Query failed, no connection available\n",
      "[obd.obd] Query failed, no connection available\n",
      "[obd.obd] Query failed, no connection available\n",
      "[obd.obd] Query failed, no connection available\n",
      "[obd.obd] Query failed, no connection available\n"
     ]
    },
    {
     "name": "stdout",
     "output_type": "stream",
     "text": [
      "RPM is not supported\n",
      "Speed is not supported\n",
      "EngineLoad is not supported\n",
      "CoolantTemp is not supported\n",
      "IntakeTemp is not supported\n",
      "FuelLevel is not supported\n",
      "AmbientTemp is not supported\n",
      "EngineOilTemp is not supported\n",
      "FuelRate is not supported\n"
     ]
    },
    {
     "name": "stderr",
     "output_type": "stream",
     "text": [
      "[obd.obd] Query failed, no connection available\n",
      "[obd.obd] Query failed, no connection available\n",
      "[obd.obd] Query failed, no connection available\n",
      "[obd.obd] Query failed, no connection available\n",
      "[obd.obd] Query failed, no connection available\n",
      "[obd.obd] Query failed, no connection available\n",
      "[obd.obd] Query failed, no connection available\n",
      "[obd.obd] Query failed, no connection available\n",
      "[obd.obd] Query failed, no connection available\n"
     ]
    },
    {
     "name": "stdout",
     "output_type": "stream",
     "text": [
      "RPM is not supported\n",
      "Speed is not supported\n",
      "EngineLoad is not supported\n",
      "CoolantTemp is not supported\n",
      "IntakeTemp is not supported\n",
      "FuelLevel is not supported\n",
      "AmbientTemp is not supported\n",
      "EngineOilTemp is not supported\n",
      "FuelRate is not supported\n"
     ]
    },
    {
     "name": "stderr",
     "output_type": "stream",
     "text": [
      "[obd.obd] Query failed, no connection available\n",
      "[obd.obd] Query failed, no connection available\n",
      "[obd.obd] Query failed, no connection available\n",
      "[obd.obd] Query failed, no connection available\n",
      "[obd.obd] Query failed, no connection available\n",
      "[obd.obd] Query failed, no connection available\n",
      "[obd.obd] Query failed, no connection available\n",
      "[obd.obd] Query failed, no connection available\n",
      "[obd.obd] Query failed, no connection available\n"
     ]
    },
    {
     "name": "stdout",
     "output_type": "stream",
     "text": [
      "RPM is not supported\n",
      "Speed is not supported\n",
      "EngineLoad is not supported\n",
      "CoolantTemp is not supported\n",
      "IntakeTemp is not supported\n",
      "FuelLevel is not supported\n",
      "AmbientTemp is not supported\n",
      "EngineOilTemp is not supported\n",
      "FuelRate is not supported\n"
     ]
    },
    {
     "name": "stderr",
     "output_type": "stream",
     "text": [
      "[obd.obd] Query failed, no connection available\n",
      "[obd.obd] Query failed, no connection available\n",
      "[obd.obd] Query failed, no connection available\n",
      "[obd.obd] Query failed, no connection available\n",
      "[obd.obd] Query failed, no connection available\n",
      "[obd.obd] Query failed, no connection available\n",
      "[obd.obd] Query failed, no connection available\n",
      "[obd.obd] Query failed, no connection available\n",
      "[obd.obd] Query failed, no connection available\n"
     ]
    },
    {
     "name": "stdout",
     "output_type": "stream",
     "text": [
      "RPM is not supported\n",
      "Speed is not supported\n",
      "EngineLoad is not supported\n",
      "CoolantTemp is not supported\n",
      "IntakeTemp is not supported\n",
      "FuelLevel is not supported\n",
      "AmbientTemp is not supported\n",
      "EngineOilTemp is not supported\n",
      "FuelRate is not supported\n"
     ]
    },
    {
     "name": "stderr",
     "output_type": "stream",
     "text": [
      "[obd.obd] Query failed, no connection available\n",
      "[obd.obd] Query failed, no connection available\n",
      "[obd.obd] Query failed, no connection available\n",
      "[obd.obd] Query failed, no connection available\n",
      "[obd.obd] Query failed, no connection available\n",
      "[obd.obd] Query failed, no connection available\n",
      "[obd.obd] Query failed, no connection available\n",
      "[obd.obd] Query failed, no connection available\n",
      "[obd.obd] Query failed, no connection available\n"
     ]
    },
    {
     "name": "stdout",
     "output_type": "stream",
     "text": [
      "RPM is not supported\n",
      "Speed is not supported\n",
      "EngineLoad is not supported\n",
      "CoolantTemp is not supported\n",
      "IntakeTemp is not supported\n",
      "FuelLevel is not supported\n",
      "AmbientTemp is not supported\n",
      "EngineOilTemp is not supported\n",
      "FuelRate is not supported\n"
     ]
    },
    {
     "name": "stderr",
     "output_type": "stream",
     "text": [
      "[obd.obd] Query failed, no connection available\n",
      "[obd.obd] Query failed, no connection available\n",
      "[obd.obd] Query failed, no connection available\n",
      "[obd.obd] Query failed, no connection available\n",
      "[obd.obd] Query failed, no connection available\n",
      "[obd.obd] Query failed, no connection available\n",
      "[obd.obd] Query failed, no connection available\n",
      "[obd.obd] Query failed, no connection available\n",
      "[obd.obd] Query failed, no connection available\n"
     ]
    },
    {
     "name": "stdout",
     "output_type": "stream",
     "text": [
      "RPM is not supported\n",
      "Speed is not supported\n",
      "EngineLoad is not supported\n",
      "CoolantTemp is not supported\n",
      "IntakeTemp is not supported\n",
      "FuelLevel is not supported\n",
      "AmbientTemp is not supported\n",
      "EngineOilTemp is not supported\n",
      "FuelRate is not supported\n"
     ]
    },
    {
     "name": "stderr",
     "output_type": "stream",
     "text": [
      "[obd.obd] Query failed, no connection available\n",
      "[obd.obd] Query failed, no connection available\n",
      "[obd.obd] Query failed, no connection available\n",
      "[obd.obd] Query failed, no connection available\n",
      "[obd.obd] Query failed, no connection available\n",
      "[obd.obd] Query failed, no connection available\n",
      "[obd.obd] Query failed, no connection available\n",
      "[obd.obd] Query failed, no connection available\n",
      "[obd.obd] Query failed, no connection available\n"
     ]
    },
    {
     "name": "stdout",
     "output_type": "stream",
     "text": [
      "RPM is not supported\n",
      "Speed is not supported\n",
      "EngineLoad is not supported\n",
      "CoolantTemp is not supported\n",
      "IntakeTemp is not supported\n",
      "FuelLevel is not supported\n",
      "AmbientTemp is not supported\n",
      "EngineOilTemp is not supported\n",
      "FuelRate is not supported\n"
     ]
    },
    {
     "name": "stderr",
     "output_type": "stream",
     "text": [
      "[obd.obd] Query failed, no connection available\n",
      "[obd.obd] Query failed, no connection available\n",
      "[obd.obd] Query failed, no connection available\n",
      "[obd.obd] Query failed, no connection available\n",
      "[obd.obd] Query failed, no connection available\n",
      "[obd.obd] Query failed, no connection available\n",
      "[obd.obd] Query failed, no connection available\n",
      "[obd.obd] Query failed, no connection available\n",
      "[obd.obd] Query failed, no connection available\n"
     ]
    },
    {
     "name": "stdout",
     "output_type": "stream",
     "text": [
      "RPM is not supported\n",
      "Speed is not supported\n",
      "EngineLoad is not supported\n",
      "CoolantTemp is not supported\n",
      "IntakeTemp is not supported\n",
      "FuelLevel is not supported\n",
      "AmbientTemp is not supported\n",
      "EngineOilTemp is not supported\n",
      "FuelRate is not supported\n"
     ]
    },
    {
     "name": "stderr",
     "output_type": "stream",
     "text": [
      "[obd.obd] Query failed, no connection available\n",
      "[obd.obd] Query failed, no connection available\n",
      "[obd.obd] Query failed, no connection available\n",
      "[obd.obd] Query failed, no connection available\n",
      "[obd.obd] Query failed, no connection available\n",
      "[obd.obd] Query failed, no connection available\n",
      "[obd.obd] Query failed, no connection available\n",
      "[obd.obd] Query failed, no connection available\n",
      "[obd.obd] Query failed, no connection available\n"
     ]
    },
    {
     "name": "stdout",
     "output_type": "stream",
     "text": [
      "RPM is not supported\n",
      "Speed is not supported\n",
      "EngineLoad is not supported\n",
      "CoolantTemp is not supported\n",
      "IntakeTemp is not supported\n",
      "FuelLevel is not supported\n",
      "AmbientTemp is not supported\n",
      "EngineOilTemp is not supported\n",
      "FuelRate is not supported\n"
     ]
    },
    {
     "name": "stderr",
     "output_type": "stream",
     "text": [
      "[obd.obd] Query failed, no connection available\n",
      "[obd.obd] Query failed, no connection available\n",
      "[obd.obd] Query failed, no connection available\n",
      "[obd.obd] Query failed, no connection available\n",
      "[obd.obd] Query failed, no connection available\n",
      "[obd.obd] Query failed, no connection available\n",
      "[obd.obd] Query failed, no connection available\n",
      "[obd.obd] Query failed, no connection available\n",
      "[obd.obd] Query failed, no connection available\n"
     ]
    },
    {
     "name": "stdout",
     "output_type": "stream",
     "text": [
      "RPM is not supported\n",
      "Speed is not supported\n",
      "EngineLoad is not supported\n",
      "CoolantTemp is not supported\n",
      "IntakeTemp is not supported\n",
      "FuelLevel is not supported\n",
      "AmbientTemp is not supported\n",
      "EngineOilTemp is not supported\n",
      "FuelRate is not supported\n"
     ]
    },
    {
     "name": "stderr",
     "output_type": "stream",
     "text": [
      "[obd.obd] Query failed, no connection available\n",
      "[obd.obd] Query failed, no connection available\n",
      "[obd.obd] Query failed, no connection available\n",
      "[obd.obd] Query failed, no connection available\n",
      "[obd.obd] Query failed, no connection available\n",
      "[obd.obd] Query failed, no connection available\n",
      "[obd.obd] Query failed, no connection available\n",
      "[obd.obd] Query failed, no connection available\n",
      "[obd.obd] Query failed, no connection available\n"
     ]
    },
    {
     "name": "stdout",
     "output_type": "stream",
     "text": [
      "RPM is not supported\n",
      "Speed is not supported\n",
      "EngineLoad is not supported\n",
      "CoolantTemp is not supported\n",
      "IntakeTemp is not supported\n",
      "FuelLevel is not supported\n",
      "AmbientTemp is not supported\n",
      "EngineOilTemp is not supported\n",
      "FuelRate is not supported\n"
     ]
    },
    {
     "name": "stderr",
     "output_type": "stream",
     "text": [
      "[obd.obd] Query failed, no connection available\n",
      "[obd.obd] Query failed, no connection available\n",
      "[obd.obd] Query failed, no connection available\n",
      "[obd.obd] Query failed, no connection available\n",
      "[obd.obd] Query failed, no connection available\n",
      "[obd.obd] Query failed, no connection available\n",
      "[obd.obd] Query failed, no connection available\n",
      "[obd.obd] Query failed, no connection available\n",
      "[obd.obd] Query failed, no connection available\n"
     ]
    },
    {
     "name": "stdout",
     "output_type": "stream",
     "text": [
      "RPM is not supported\n",
      "Speed is not supported\n",
      "EngineLoad is not supported\n",
      "CoolantTemp is not supported\n",
      "IntakeTemp is not supported\n",
      "FuelLevel is not supported\n",
      "AmbientTemp is not supported\n",
      "EngineOilTemp is not supported\n",
      "FuelRate is not supported\n"
     ]
    },
    {
     "name": "stderr",
     "output_type": "stream",
     "text": [
      "[obd.obd] Query failed, no connection available\n",
      "[obd.obd] Query failed, no connection available\n",
      "[obd.obd] Query failed, no connection available\n",
      "[obd.obd] Query failed, no connection available\n",
      "[obd.obd] Query failed, no connection available\n",
      "[obd.obd] Query failed, no connection available\n",
      "[obd.obd] Query failed, no connection available\n",
      "[obd.obd] Query failed, no connection available\n",
      "[obd.obd] Query failed, no connection available\n"
     ]
    },
    {
     "name": "stdout",
     "output_type": "stream",
     "text": [
      "RPM is not supported\n",
      "Speed is not supported\n",
      "EngineLoad is not supported\n",
      "CoolantTemp is not supported\n",
      "IntakeTemp is not supported\n",
      "FuelLevel is not supported\n",
      "AmbientTemp is not supported\n",
      "EngineOilTemp is not supported\n",
      "FuelRate is not supported\n"
     ]
    },
    {
     "name": "stderr",
     "output_type": "stream",
     "text": [
      "[obd.obd] Query failed, no connection available\n",
      "[obd.obd] Query failed, no connection available\n",
      "[obd.obd] Query failed, no connection available\n",
      "[obd.obd] Query failed, no connection available\n",
      "[obd.obd] Query failed, no connection available\n",
      "[obd.obd] Query failed, no connection available\n",
      "[obd.obd] Query failed, no connection available\n",
      "[obd.obd] Query failed, no connection available\n",
      "[obd.obd] Query failed, no connection available\n"
     ]
    },
    {
     "name": "stdout",
     "output_type": "stream",
     "text": [
      "RPM is not supported\n",
      "Speed is not supported\n",
      "EngineLoad is not supported\n",
      "CoolantTemp is not supported\n",
      "IntakeTemp is not supported\n",
      "FuelLevel is not supported\n",
      "AmbientTemp is not supported\n",
      "EngineOilTemp is not supported\n",
      "FuelRate is not supported\n"
     ]
    },
    {
     "name": "stderr",
     "output_type": "stream",
     "text": [
      "[obd.obd] Query failed, no connection available\n",
      "[obd.obd] Query failed, no connection available\n",
      "[obd.obd] Query failed, no connection available\n",
      "[obd.obd] Query failed, no connection available\n",
      "[obd.obd] Query failed, no connection available\n",
      "[obd.obd] Query failed, no connection available\n",
      "[obd.obd] Query failed, no connection available\n",
      "[obd.obd] Query failed, no connection available\n",
      "[obd.obd] Query failed, no connection available\n"
     ]
    },
    {
     "name": "stdout",
     "output_type": "stream",
     "text": [
      "RPM is not supported\n",
      "Speed is not supported\n",
      "EngineLoad is not supported\n",
      "CoolantTemp is not supported\n",
      "IntakeTemp is not supported\n",
      "FuelLevel is not supported\n",
      "AmbientTemp is not supported\n",
      "EngineOilTemp is not supported\n",
      "FuelRate is not supported\n"
     ]
    },
    {
     "name": "stderr",
     "output_type": "stream",
     "text": [
      "[obd.obd] Query failed, no connection available\n",
      "[obd.obd] Query failed, no connection available\n",
      "[obd.obd] Query failed, no connection available\n",
      "[obd.obd] Query failed, no connection available\n",
      "[obd.obd] Query failed, no connection available\n",
      "[obd.obd] Query failed, no connection available\n",
      "[obd.obd] Query failed, no connection available\n",
      "[obd.obd] Query failed, no connection available\n",
      "[obd.obd] Query failed, no connection available\n"
     ]
    },
    {
     "name": "stdout",
     "output_type": "stream",
     "text": [
      "RPM is not supported\n",
      "Speed is not supported\n",
      "EngineLoad is not supported\n",
      "CoolantTemp is not supported\n",
      "IntakeTemp is not supported\n",
      "FuelLevel is not supported\n",
      "AmbientTemp is not supported\n",
      "EngineOilTemp is not supported\n",
      "FuelRate is not supported\n"
     ]
    },
    {
     "name": "stderr",
     "output_type": "stream",
     "text": [
      "[obd.obd] Query failed, no connection available\n",
      "[obd.obd] Query failed, no connection available\n",
      "[obd.obd] Query failed, no connection available\n",
      "[obd.obd] Query failed, no connection available\n",
      "[obd.obd] Query failed, no connection available\n",
      "[obd.obd] Query failed, no connection available\n",
      "[obd.obd] Query failed, no connection available\n",
      "[obd.obd] Query failed, no connection available\n",
      "[obd.obd] Query failed, no connection available\n"
     ]
    },
    {
     "name": "stdout",
     "output_type": "stream",
     "text": [
      "RPM is not supported\n",
      "Speed is not supported\n",
      "EngineLoad is not supported\n",
      "CoolantTemp is not supported\n",
      "IntakeTemp is not supported\n",
      "FuelLevel is not supported\n",
      "AmbientTemp is not supported\n",
      "EngineOilTemp is not supported\n",
      "FuelRate is not supported\n"
     ]
    },
    {
     "name": "stderr",
     "output_type": "stream",
     "text": [
      "[obd.obd] Query failed, no connection available\n",
      "[obd.obd] Query failed, no connection available\n",
      "[obd.obd] Query failed, no connection available\n",
      "[obd.obd] Query failed, no connection available\n",
      "[obd.obd] Query failed, no connection available\n",
      "[obd.obd] Query failed, no connection available\n",
      "[obd.obd] Query failed, no connection available\n",
      "[obd.obd] Query failed, no connection available\n",
      "[obd.obd] Query failed, no connection available\n"
     ]
    },
    {
     "name": "stdout",
     "output_type": "stream",
     "text": [
      "RPM is not supported\n",
      "Speed is not supported\n",
      "EngineLoad is not supported\n",
      "CoolantTemp is not supported\n",
      "IntakeTemp is not supported\n",
      "FuelLevel is not supported\n",
      "AmbientTemp is not supported\n",
      "EngineOilTemp is not supported\n",
      "FuelRate is not supported\n"
     ]
    },
    {
     "name": "stderr",
     "output_type": "stream",
     "text": [
      "[obd.obd] Query failed, no connection available\n",
      "[obd.obd] Query failed, no connection available\n",
      "[obd.obd] Query failed, no connection available\n",
      "[obd.obd] Query failed, no connection available\n",
      "[obd.obd] Query failed, no connection available\n",
      "[obd.obd] Query failed, no connection available\n",
      "[obd.obd] Query failed, no connection available\n",
      "[obd.obd] Query failed, no connection available\n",
      "[obd.obd] Query failed, no connection available\n"
     ]
    },
    {
     "name": "stdout",
     "output_type": "stream",
     "text": [
      "RPM is not supported\n",
      "Speed is not supported\n",
      "EngineLoad is not supported\n",
      "CoolantTemp is not supported\n",
      "IntakeTemp is not supported\n",
      "FuelLevel is not supported\n",
      "AmbientTemp is not supported\n",
      "EngineOilTemp is not supported\n",
      "FuelRate is not supported\n"
     ]
    },
    {
     "name": "stderr",
     "output_type": "stream",
     "text": [
      "[obd.obd] Query failed, no connection available\n",
      "[obd.obd] Query failed, no connection available\n",
      "[obd.obd] Query failed, no connection available\n",
      "[obd.obd] Query failed, no connection available\n",
      "[obd.obd] Query failed, no connection available\n",
      "[obd.obd] Query failed, no connection available\n",
      "[obd.obd] Query failed, no connection available\n",
      "[obd.obd] Query failed, no connection available\n",
      "[obd.obd] Query failed, no connection available\n"
     ]
    },
    {
     "name": "stdout",
     "output_type": "stream",
     "text": [
      "RPM is not supported\n",
      "Speed is not supported\n",
      "EngineLoad is not supported\n",
      "CoolantTemp is not supported\n",
      "IntakeTemp is not supported\n",
      "FuelLevel is not supported\n",
      "AmbientTemp is not supported\n",
      "EngineOilTemp is not supported\n",
      "FuelRate is not supported\n"
     ]
    },
    {
     "name": "stderr",
     "output_type": "stream",
     "text": [
      "[obd.obd] Query failed, no connection available\n",
      "[obd.obd] Query failed, no connection available\n",
      "[obd.obd] Query failed, no connection available\n",
      "[obd.obd] Query failed, no connection available\n",
      "[obd.obd] Query failed, no connection available\n",
      "[obd.obd] Query failed, no connection available\n",
      "[obd.obd] Query failed, no connection available\n",
      "[obd.obd] Query failed, no connection available\n",
      "[obd.obd] Query failed, no connection available\n"
     ]
    },
    {
     "name": "stdout",
     "output_type": "stream",
     "text": [
      "RPM is not supported\n",
      "Speed is not supported\n",
      "EngineLoad is not supported\n",
      "CoolantTemp is not supported\n",
      "IntakeTemp is not supported\n",
      "FuelLevel is not supported\n",
      "AmbientTemp is not supported\n",
      "EngineOilTemp is not supported\n",
      "FuelRate is not supported\n"
     ]
    },
    {
     "name": "stderr",
     "output_type": "stream",
     "text": [
      "[obd.obd] Query failed, no connection available\n",
      "[obd.obd] Query failed, no connection available\n",
      "[obd.obd] Query failed, no connection available\n",
      "[obd.obd] Query failed, no connection available\n",
      "[obd.obd] Query failed, no connection available\n",
      "[obd.obd] Query failed, no connection available\n",
      "[obd.obd] Query failed, no connection available\n",
      "[obd.obd] Query failed, no connection available\n",
      "[obd.obd] Query failed, no connection available\n"
     ]
    },
    {
     "name": "stdout",
     "output_type": "stream",
     "text": [
      "RPM is not supported\n",
      "Speed is not supported\n",
      "EngineLoad is not supported\n",
      "CoolantTemp is not supported\n",
      "IntakeTemp is not supported\n",
      "FuelLevel is not supported\n",
      "AmbientTemp is not supported\n",
      "EngineOilTemp is not supported\n",
      "FuelRate is not supported\n"
     ]
    },
    {
     "name": "stderr",
     "output_type": "stream",
     "text": [
      "[obd.obd] Query failed, no connection available\n",
      "[obd.obd] Query failed, no connection available\n",
      "[obd.obd] Query failed, no connection available\n",
      "[obd.obd] Query failed, no connection available\n",
      "[obd.obd] Query failed, no connection available\n",
      "[obd.obd] Query failed, no connection available\n",
      "[obd.obd] Query failed, no connection available\n",
      "[obd.obd] Query failed, no connection available\n",
      "[obd.obd] Query failed, no connection available\n"
     ]
    },
    {
     "name": "stdout",
     "output_type": "stream",
     "text": [
      "RPM is not supported\n",
      "Speed is not supported\n",
      "EngineLoad is not supported\n",
      "CoolantTemp is not supported\n",
      "IntakeTemp is not supported\n",
      "FuelLevel is not supported\n",
      "AmbientTemp is not supported\n",
      "EngineOilTemp is not supported\n",
      "FuelRate is not supported\n"
     ]
    },
    {
     "name": "stderr",
     "output_type": "stream",
     "text": [
      "[obd.obd] Query failed, no connection available\n",
      "[obd.obd] Query failed, no connection available\n",
      "[obd.obd] Query failed, no connection available\n",
      "[obd.obd] Query failed, no connection available\n",
      "[obd.obd] Query failed, no connection available\n",
      "[obd.obd] Query failed, no connection available\n",
      "[obd.obd] Query failed, no connection available\n",
      "[obd.obd] Query failed, no connection available\n",
      "[obd.obd] Query failed, no connection available\n"
     ]
    },
    {
     "name": "stdout",
     "output_type": "stream",
     "text": [
      "RPM is not supported\n",
      "Speed is not supported\n",
      "EngineLoad is not supported\n",
      "CoolantTemp is not supported\n",
      "IntakeTemp is not supported\n",
      "FuelLevel is not supported\n",
      "AmbientTemp is not supported\n",
      "EngineOilTemp is not supported\n",
      "FuelRate is not supported\n"
     ]
    },
    {
     "name": "stderr",
     "output_type": "stream",
     "text": [
      "[obd.obd] Query failed, no connection available\n",
      "[obd.obd] Query failed, no connection available\n",
      "[obd.obd] Query failed, no connection available\n",
      "[obd.obd] Query failed, no connection available\n",
      "[obd.obd] Query failed, no connection available\n",
      "[obd.obd] Query failed, no connection available\n",
      "[obd.obd] Query failed, no connection available\n",
      "[obd.obd] Query failed, no connection available\n",
      "[obd.obd] Query failed, no connection available\n"
     ]
    },
    {
     "name": "stdout",
     "output_type": "stream",
     "text": [
      "RPM is not supported\n",
      "Speed is not supported\n",
      "EngineLoad is not supported\n",
      "CoolantTemp is not supported\n",
      "IntakeTemp is not supported\n",
      "FuelLevel is not supported\n",
      "AmbientTemp is not supported\n",
      "EngineOilTemp is not supported\n",
      "FuelRate is not supported\n"
     ]
    },
    {
     "name": "stderr",
     "output_type": "stream",
     "text": [
      "[obd.obd] Query failed, no connection available\n",
      "[obd.obd] Query failed, no connection available\n",
      "[obd.obd] Query failed, no connection available\n",
      "[obd.obd] Query failed, no connection available\n",
      "[obd.obd] Query failed, no connection available\n",
      "[obd.obd] Query failed, no connection available\n",
      "[obd.obd] Query failed, no connection available\n",
      "[obd.obd] Query failed, no connection available\n",
      "[obd.obd] Query failed, no connection available\n"
     ]
    },
    {
     "name": "stdout",
     "output_type": "stream",
     "text": [
      "RPM is not supported\n",
      "Speed is not supported\n",
      "EngineLoad is not supported\n",
      "CoolantTemp is not supported\n",
      "IntakeTemp is not supported\n",
      "FuelLevel is not supported\n",
      "AmbientTemp is not supported\n",
      "EngineOilTemp is not supported\n",
      "FuelRate is not supported\n"
     ]
    },
    {
     "name": "stderr",
     "output_type": "stream",
     "text": [
      "[obd.obd] Query failed, no connection available\n",
      "[obd.obd] Query failed, no connection available\n",
      "[obd.obd] Query failed, no connection available\n",
      "[obd.obd] Query failed, no connection available\n",
      "[obd.obd] Query failed, no connection available\n",
      "[obd.obd] Query failed, no connection available\n",
      "[obd.obd] Query failed, no connection available\n",
      "[obd.obd] Query failed, no connection available\n",
      "[obd.obd] Query failed, no connection available\n"
     ]
    },
    {
     "name": "stdout",
     "output_type": "stream",
     "text": [
      "RPM is not supported\n",
      "Speed is not supported\n",
      "EngineLoad is not supported\n",
      "CoolantTemp is not supported\n",
      "IntakeTemp is not supported\n",
      "FuelLevel is not supported\n",
      "AmbientTemp is not supported\n",
      "EngineOilTemp is not supported\n",
      "FuelRate is not supported\n"
     ]
    },
    {
     "name": "stderr",
     "output_type": "stream",
     "text": [
      "[obd.obd] Query failed, no connection available\n",
      "[obd.obd] Query failed, no connection available\n",
      "[obd.obd] Query failed, no connection available\n",
      "[obd.obd] Query failed, no connection available\n",
      "[obd.obd] Query failed, no connection available\n",
      "[obd.obd] Query failed, no connection available\n",
      "[obd.obd] Query failed, no connection available\n",
      "[obd.obd] Query failed, no connection available\n",
      "[obd.obd] Query failed, no connection available\n"
     ]
    },
    {
     "name": "stdout",
     "output_type": "stream",
     "text": [
      "RPM is not supported\n",
      "Speed is not supported\n",
      "EngineLoad is not supported\n",
      "CoolantTemp is not supported\n",
      "IntakeTemp is not supported\n",
      "FuelLevel is not supported\n",
      "AmbientTemp is not supported\n",
      "EngineOilTemp is not supported\n",
      "FuelRate is not supported\n"
     ]
    },
    {
     "name": "stderr",
     "output_type": "stream",
     "text": [
      "[obd.obd] Query failed, no connection available\n",
      "[obd.obd] Query failed, no connection available\n",
      "[obd.obd] Query failed, no connection available\n",
      "[obd.obd] Query failed, no connection available\n",
      "[obd.obd] Query failed, no connection available\n",
      "[obd.obd] Query failed, no connection available\n",
      "[obd.obd] Query failed, no connection available\n",
      "[obd.obd] Query failed, no connection available\n",
      "[obd.obd] Query failed, no connection available\n"
     ]
    },
    {
     "name": "stdout",
     "output_type": "stream",
     "text": [
      "RPM is not supported\n",
      "Speed is not supported\n",
      "EngineLoad is not supported\n",
      "CoolantTemp is not supported\n",
      "IntakeTemp is not supported\n",
      "FuelLevel is not supported\n",
      "AmbientTemp is not supported\n",
      "EngineOilTemp is not supported\n",
      "FuelRate is not supported\n"
     ]
    },
    {
     "name": "stderr",
     "output_type": "stream",
     "text": [
      "[obd.obd] Query failed, no connection available\n",
      "[obd.obd] Query failed, no connection available\n",
      "[obd.obd] Query failed, no connection available\n",
      "[obd.obd] Query failed, no connection available\n",
      "[obd.obd] Query failed, no connection available\n",
      "[obd.obd] Query failed, no connection available\n",
      "[obd.obd] Query failed, no connection available\n",
      "[obd.obd] Query failed, no connection available\n",
      "[obd.obd] Query failed, no connection available\n"
     ]
    },
    {
     "name": "stdout",
     "output_type": "stream",
     "text": [
      "RPM is not supported\n",
      "Speed is not supported\n",
      "EngineLoad is not supported\n",
      "CoolantTemp is not supported\n",
      "IntakeTemp is not supported\n",
      "FuelLevel is not supported\n",
      "AmbientTemp is not supported\n",
      "EngineOilTemp is not supported\n",
      "FuelRate is not supported\n"
     ]
    },
    {
     "name": "stderr",
     "output_type": "stream",
     "text": [
      "[obd.obd] Query failed, no connection available\n",
      "[obd.obd] Query failed, no connection available\n",
      "[obd.obd] Query failed, no connection available\n",
      "[obd.obd] Query failed, no connection available\n",
      "[obd.obd] Query failed, no connection available\n",
      "[obd.obd] Query failed, no connection available\n",
      "[obd.obd] Query failed, no connection available\n",
      "[obd.obd] Query failed, no connection available\n",
      "[obd.obd] Query failed, no connection available\n"
     ]
    },
    {
     "name": "stdout",
     "output_type": "stream",
     "text": [
      "RPM is not supported\n",
      "Speed is not supported\n",
      "EngineLoad is not supported\n",
      "CoolantTemp is not supported\n",
      "IntakeTemp is not supported\n",
      "FuelLevel is not supported\n",
      "AmbientTemp is not supported\n",
      "EngineOilTemp is not supported\n",
      "FuelRate is not supported\n"
     ]
    },
    {
     "name": "stderr",
     "output_type": "stream",
     "text": [
      "[obd.obd] Query failed, no connection available\n",
      "[obd.obd] Query failed, no connection available\n",
      "[obd.obd] Query failed, no connection available\n",
      "[obd.obd] Query failed, no connection available\n",
      "[obd.obd] Query failed, no connection available\n",
      "[obd.obd] Query failed, no connection available\n",
      "[obd.obd] Query failed, no connection available\n",
      "[obd.obd] Query failed, no connection available\n",
      "[obd.obd] Query failed, no connection available\n"
     ]
    },
    {
     "name": "stdout",
     "output_type": "stream",
     "text": [
      "RPM is not supported\n",
      "Speed is not supported\n",
      "EngineLoad is not supported\n",
      "CoolantTemp is not supported\n",
      "IntakeTemp is not supported\n",
      "FuelLevel is not supported\n",
      "AmbientTemp is not supported\n",
      "EngineOilTemp is not supported\n",
      "FuelRate is not supported\n"
     ]
    },
    {
     "name": "stderr",
     "output_type": "stream",
     "text": [
      "[obd.obd] Query failed, no connection available\n",
      "[obd.obd] Query failed, no connection available\n",
      "[obd.obd] Query failed, no connection available\n",
      "[obd.obd] Query failed, no connection available\n",
      "[obd.obd] Query failed, no connection available\n",
      "[obd.obd] Query failed, no connection available\n",
      "[obd.obd] Query failed, no connection available\n",
      "[obd.obd] Query failed, no connection available\n",
      "[obd.obd] Query failed, no connection available\n"
     ]
    },
    {
     "name": "stdout",
     "output_type": "stream",
     "text": [
      "RPM is not supported\n",
      "Speed is not supported\n",
      "EngineLoad is not supported\n",
      "CoolantTemp is not supported\n",
      "IntakeTemp is not supported\n",
      "FuelLevel is not supported\n",
      "AmbientTemp is not supported\n",
      "EngineOilTemp is not supported\n",
      "FuelRate is not supported\n"
     ]
    },
    {
     "name": "stderr",
     "output_type": "stream",
     "text": [
      "[obd.obd] Query failed, no connection available\n",
      "[obd.obd] Query failed, no connection available\n",
      "[obd.obd] Query failed, no connection available\n",
      "[obd.obd] Query failed, no connection available\n",
      "[obd.obd] Query failed, no connection available\n",
      "[obd.obd] Query failed, no connection available\n",
      "[obd.obd] Query failed, no connection available\n",
      "[obd.obd] Query failed, no connection available\n",
      "[obd.obd] Query failed, no connection available\n"
     ]
    },
    {
     "name": "stdout",
     "output_type": "stream",
     "text": [
      "RPM is not supported\n",
      "Speed is not supported\n",
      "EngineLoad is not supported\n",
      "CoolantTemp is not supported\n",
      "IntakeTemp is not supported\n",
      "FuelLevel is not supported\n",
      "AmbientTemp is not supported\n",
      "EngineOilTemp is not supported\n",
      "FuelRate is not supported\n"
     ]
    },
    {
     "name": "stderr",
     "output_type": "stream",
     "text": [
      "[obd.obd] Query failed, no connection available\n",
      "[obd.obd] Query failed, no connection available\n",
      "[obd.obd] Query failed, no connection available\n",
      "[obd.obd] Query failed, no connection available\n",
      "[obd.obd] Query failed, no connection available\n",
      "[obd.obd] Query failed, no connection available\n",
      "[obd.obd] Query failed, no connection available\n",
      "[obd.obd] Query failed, no connection available\n",
      "[obd.obd] Query failed, no connection available\n"
     ]
    },
    {
     "name": "stdout",
     "output_type": "stream",
     "text": [
      "RPM is not supported\n",
      "Speed is not supported\n",
      "EngineLoad is not supported\n",
      "CoolantTemp is not supported\n",
      "IntakeTemp is not supported\n",
      "FuelLevel is not supported\n",
      "AmbientTemp is not supported\n",
      "EngineOilTemp is not supported\n",
      "FuelRate is not supported\n"
     ]
    },
    {
     "name": "stderr",
     "output_type": "stream",
     "text": [
      "[obd.obd] Query failed, no connection available\n",
      "[obd.obd] Query failed, no connection available\n",
      "[obd.obd] Query failed, no connection available\n",
      "[obd.obd] Query failed, no connection available\n",
      "[obd.obd] Query failed, no connection available\n",
      "[obd.obd] Query failed, no connection available\n",
      "[obd.obd] Query failed, no connection available\n",
      "[obd.obd] Query failed, no connection available\n",
      "[obd.obd] Query failed, no connection available\n"
     ]
    },
    {
     "name": "stdout",
     "output_type": "stream",
     "text": [
      "RPM is not supported\n",
      "Speed is not supported\n",
      "EngineLoad is not supported\n",
      "CoolantTemp is not supported\n",
      "IntakeTemp is not supported\n",
      "FuelLevel is not supported\n",
      "AmbientTemp is not supported\n",
      "EngineOilTemp is not supported\n",
      "FuelRate is not supported\n"
     ]
    },
    {
     "name": "stderr",
     "output_type": "stream",
     "text": [
      "[obd.obd] Query failed, no connection available\n",
      "[obd.obd] Query failed, no connection available\n",
      "[obd.obd] Query failed, no connection available\n",
      "[obd.obd] Query failed, no connection available\n",
      "[obd.obd] Query failed, no connection available\n",
      "[obd.obd] Query failed, no connection available\n",
      "[obd.obd] Query failed, no connection available\n",
      "[obd.obd] Query failed, no connection available\n",
      "[obd.obd] Query failed, no connection available\n"
     ]
    },
    {
     "name": "stdout",
     "output_type": "stream",
     "text": [
      "RPM is not supported\n",
      "Speed is not supported\n",
      "EngineLoad is not supported\n",
      "CoolantTemp is not supported\n",
      "IntakeTemp is not supported\n",
      "FuelLevel is not supported\n",
      "AmbientTemp is not supported\n",
      "EngineOilTemp is not supported\n",
      "FuelRate is not supported\n"
     ]
    },
    {
     "name": "stderr",
     "output_type": "stream",
     "text": [
      "[obd.obd] Query failed, no connection available\n",
      "[obd.obd] Query failed, no connection available\n",
      "[obd.obd] Query failed, no connection available\n",
      "[obd.obd] Query failed, no connection available\n",
      "[obd.obd] Query failed, no connection available\n",
      "[obd.obd] Query failed, no connection available\n",
      "[obd.obd] Query failed, no connection available\n",
      "[obd.obd] Query failed, no connection available\n",
      "[obd.obd] Query failed, no connection available\n"
     ]
    },
    {
     "name": "stdout",
     "output_type": "stream",
     "text": [
      "RPM is not supported\n",
      "Speed is not supported\n",
      "EngineLoad is not supported\n",
      "CoolantTemp is not supported\n",
      "IntakeTemp is not supported\n",
      "FuelLevel is not supported\n",
      "AmbientTemp is not supported\n",
      "EngineOilTemp is not supported\n",
      "FuelRate is not supported\n"
     ]
    },
    {
     "name": "stderr",
     "output_type": "stream",
     "text": [
      "[obd.obd] Query failed, no connection available\n",
      "[obd.obd] Query failed, no connection available\n",
      "[obd.obd] Query failed, no connection available\n",
      "[obd.obd] Query failed, no connection available\n",
      "[obd.obd] Query failed, no connection available\n",
      "[obd.obd] Query failed, no connection available\n",
      "[obd.obd] Query failed, no connection available\n",
      "[obd.obd] Query failed, no connection available\n",
      "[obd.obd] Query failed, no connection available\n"
     ]
    },
    {
     "name": "stdout",
     "output_type": "stream",
     "text": [
      "RPM is not supported\n",
      "Speed is not supported\n",
      "EngineLoad is not supported\n",
      "CoolantTemp is not supported\n",
      "IntakeTemp is not supported\n",
      "FuelLevel is not supported\n",
      "AmbientTemp is not supported\n",
      "EngineOilTemp is not supported\n",
      "FuelRate is not supported\n"
     ]
    },
    {
     "name": "stderr",
     "output_type": "stream",
     "text": [
      "[obd.obd] Query failed, no connection available\n",
      "[obd.obd] Query failed, no connection available\n",
      "[obd.obd] Query failed, no connection available\n",
      "[obd.obd] Query failed, no connection available\n",
      "[obd.obd] Query failed, no connection available\n",
      "[obd.obd] Query failed, no connection available\n",
      "[obd.obd] Query failed, no connection available\n",
      "[obd.obd] Query failed, no connection available\n",
      "[obd.obd] Query failed, no connection available\n"
     ]
    },
    {
     "name": "stdout",
     "output_type": "stream",
     "text": [
      "RPM is not supported\n",
      "Speed is not supported\n",
      "EngineLoad is not supported\n",
      "CoolantTemp is not supported\n",
      "IntakeTemp is not supported\n",
      "FuelLevel is not supported\n",
      "AmbientTemp is not supported\n",
      "EngineOilTemp is not supported\n",
      "FuelRate is not supported\n"
     ]
    },
    {
     "name": "stderr",
     "output_type": "stream",
     "text": [
      "[obd.obd] Query failed, no connection available\n",
      "[obd.obd] Query failed, no connection available\n",
      "[obd.obd] Query failed, no connection available\n",
      "[obd.obd] Query failed, no connection available\n",
      "[obd.obd] Query failed, no connection available\n",
      "[obd.obd] Query failed, no connection available\n",
      "[obd.obd] Query failed, no connection available\n",
      "[obd.obd] Query failed, no connection available\n",
      "[obd.obd] Query failed, no connection available\n"
     ]
    },
    {
     "name": "stdout",
     "output_type": "stream",
     "text": [
      "RPM is not supported\n",
      "Speed is not supported\n",
      "EngineLoad is not supported\n",
      "CoolantTemp is not supported\n",
      "IntakeTemp is not supported\n",
      "FuelLevel is not supported\n",
      "AmbientTemp is not supported\n",
      "EngineOilTemp is not supported\n",
      "FuelRate is not supported\n"
     ]
    },
    {
     "name": "stderr",
     "output_type": "stream",
     "text": [
      "[obd.obd] Query failed, no connection available\n",
      "[obd.obd] Query failed, no connection available\n",
      "[obd.obd] Query failed, no connection available\n",
      "[obd.obd] Query failed, no connection available\n",
      "[obd.obd] Query failed, no connection available\n",
      "[obd.obd] Query failed, no connection available\n",
      "[obd.obd] Query failed, no connection available\n",
      "[obd.obd] Query failed, no connection available\n",
      "[obd.obd] Query failed, no connection available\n"
     ]
    },
    {
     "name": "stdout",
     "output_type": "stream",
     "text": [
      "RPM is not supported\n",
      "Speed is not supported\n",
      "EngineLoad is not supported\n",
      "CoolantTemp is not supported\n",
      "IntakeTemp is not supported\n",
      "FuelLevel is not supported\n",
      "AmbientTemp is not supported\n",
      "EngineOilTemp is not supported\n",
      "FuelRate is not supported\n"
     ]
    },
    {
     "name": "stderr",
     "output_type": "stream",
     "text": [
      "[obd.obd] Query failed, no connection available\n",
      "[obd.obd] Query failed, no connection available\n",
      "[obd.obd] Query failed, no connection available\n",
      "[obd.obd] Query failed, no connection available\n",
      "[obd.obd] Query failed, no connection available\n",
      "[obd.obd] Query failed, no connection available\n",
      "[obd.obd] Query failed, no connection available\n",
      "[obd.obd] Query failed, no connection available\n",
      "[obd.obd] Query failed, no connection available\n"
     ]
    },
    {
     "name": "stdout",
     "output_type": "stream",
     "text": [
      "RPM is not supported\n",
      "Speed is not supported\n",
      "EngineLoad is not supported\n",
      "CoolantTemp is not supported\n",
      "IntakeTemp is not supported\n",
      "FuelLevel is not supported\n",
      "AmbientTemp is not supported\n",
      "EngineOilTemp is not supported\n",
      "FuelRate is not supported\n"
     ]
    },
    {
     "name": "stderr",
     "output_type": "stream",
     "text": [
      "[obd.obd] Query failed, no connection available\n",
      "[obd.obd] Query failed, no connection available\n",
      "[obd.obd] Query failed, no connection available\n",
      "[obd.obd] Query failed, no connection available\n",
      "[obd.obd] Query failed, no connection available\n",
      "[obd.obd] Query failed, no connection available\n",
      "[obd.obd] Query failed, no connection available\n",
      "[obd.obd] Query failed, no connection available\n",
      "[obd.obd] Query failed, no connection available\n"
     ]
    },
    {
     "name": "stdout",
     "output_type": "stream",
     "text": [
      "RPM is not supported\n",
      "Speed is not supported\n",
      "EngineLoad is not supported\n",
      "CoolantTemp is not supported\n",
      "IntakeTemp is not supported\n",
      "FuelLevel is not supported\n",
      "AmbientTemp is not supported\n",
      "EngineOilTemp is not supported\n",
      "FuelRate is not supported\n"
     ]
    },
    {
     "name": "stderr",
     "output_type": "stream",
     "text": [
      "[obd.obd] Query failed, no connection available\n",
      "[obd.obd] Query failed, no connection available\n",
      "[obd.obd] Query failed, no connection available\n",
      "[obd.obd] Query failed, no connection available\n",
      "[obd.obd] Query failed, no connection available\n",
      "[obd.obd] Query failed, no connection available\n",
      "[obd.obd] Query failed, no connection available\n",
      "[obd.obd] Query failed, no connection available\n",
      "[obd.obd] Query failed, no connection available\n"
     ]
    },
    {
     "name": "stdout",
     "output_type": "stream",
     "text": [
      "RPM is not supported\n",
      "Speed is not supported\n",
      "EngineLoad is not supported\n",
      "CoolantTemp is not supported\n",
      "IntakeTemp is not supported\n",
      "FuelLevel is not supported\n",
      "AmbientTemp is not supported\n",
      "EngineOilTemp is not supported\n",
      "FuelRate is not supported\n"
     ]
    },
    {
     "name": "stderr",
     "output_type": "stream",
     "text": [
      "[obd.obd] Query failed, no connection available\n",
      "[obd.obd] Query failed, no connection available\n",
      "[obd.obd] Query failed, no connection available\n",
      "[obd.obd] Query failed, no connection available\n",
      "[obd.obd] Query failed, no connection available\n",
      "[obd.obd] Query failed, no connection available\n",
      "[obd.obd] Query failed, no connection available\n",
      "[obd.obd] Query failed, no connection available\n",
      "[obd.obd] Query failed, no connection available\n"
     ]
    },
    {
     "name": "stdout",
     "output_type": "stream",
     "text": [
      "RPM is not supported\n",
      "Speed is not supported\n",
      "EngineLoad is not supported\n",
      "CoolantTemp is not supported\n",
      "IntakeTemp is not supported\n",
      "FuelLevel is not supported\n",
      "AmbientTemp is not supported\n",
      "EngineOilTemp is not supported\n",
      "FuelRate is not supported\n"
     ]
    },
    {
     "name": "stderr",
     "output_type": "stream",
     "text": [
      "[obd.obd] Query failed, no connection available\n",
      "[obd.obd] Query failed, no connection available\n",
      "[obd.obd] Query failed, no connection available\n",
      "[obd.obd] Query failed, no connection available\n",
      "[obd.obd] Query failed, no connection available\n",
      "[obd.obd] Query failed, no connection available\n",
      "[obd.obd] Query failed, no connection available\n",
      "[obd.obd] Query failed, no connection available\n",
      "[obd.obd] Query failed, no connection available\n"
     ]
    },
    {
     "name": "stdout",
     "output_type": "stream",
     "text": [
      "RPM is not supported\n",
      "Speed is not supported\n",
      "EngineLoad is not supported\n",
      "CoolantTemp is not supported\n",
      "IntakeTemp is not supported\n",
      "FuelLevel is not supported\n",
      "AmbientTemp is not supported\n",
      "EngineOilTemp is not supported\n",
      "FuelRate is not supported\n"
     ]
    },
    {
     "name": "stderr",
     "output_type": "stream",
     "text": [
      "[obd.obd] Query failed, no connection available\n",
      "[obd.obd] Query failed, no connection available\n",
      "[obd.obd] Query failed, no connection available\n",
      "[obd.obd] Query failed, no connection available\n",
      "[obd.obd] Query failed, no connection available\n",
      "[obd.obd] Query failed, no connection available\n",
      "[obd.obd] Query failed, no connection available\n",
      "[obd.obd] Query failed, no connection available\n",
      "[obd.obd] Query failed, no connection available\n"
     ]
    },
    {
     "name": "stdout",
     "output_type": "stream",
     "text": [
      "RPM is not supported\n",
      "Speed is not supported\n",
      "EngineLoad is not supported\n",
      "CoolantTemp is not supported\n",
      "IntakeTemp is not supported\n",
      "FuelLevel is not supported\n",
      "AmbientTemp is not supported\n",
      "EngineOilTemp is not supported\n",
      "FuelRate is not supported\n"
     ]
    },
    {
     "name": "stderr",
     "output_type": "stream",
     "text": [
      "[obd.obd] Query failed, no connection available\n",
      "[obd.obd] Query failed, no connection available\n",
      "[obd.obd] Query failed, no connection available\n",
      "[obd.obd] Query failed, no connection available\n",
      "[obd.obd] Query failed, no connection available\n",
      "[obd.obd] Query failed, no connection available\n",
      "[obd.obd] Query failed, no connection available\n",
      "[obd.obd] Query failed, no connection available\n",
      "[obd.obd] Query failed, no connection available\n"
     ]
    },
    {
     "name": "stdout",
     "output_type": "stream",
     "text": [
      "RPM is not supported\n",
      "Speed is not supported\n",
      "EngineLoad is not supported\n",
      "CoolantTemp is not supported\n",
      "IntakeTemp is not supported\n",
      "FuelLevel is not supported\n",
      "AmbientTemp is not supported\n",
      "EngineOilTemp is not supported\n",
      "FuelRate is not supported\n"
     ]
    },
    {
     "name": "stderr",
     "output_type": "stream",
     "text": [
      "[obd.obd] Query failed, no connection available\n",
      "[obd.obd] Query failed, no connection available\n",
      "[obd.obd] Query failed, no connection available\n",
      "[obd.obd] Query failed, no connection available\n",
      "[obd.obd] Query failed, no connection available\n",
      "[obd.obd] Query failed, no connection available\n",
      "[obd.obd] Query failed, no connection available\n",
      "[obd.obd] Query failed, no connection available\n",
      "[obd.obd] Query failed, no connection available\n"
     ]
    },
    {
     "name": "stdout",
     "output_type": "stream",
     "text": [
      "RPM is not supported\n",
      "Speed is not supported\n",
      "EngineLoad is not supported\n",
      "CoolantTemp is not supported\n",
      "IntakeTemp is not supported\n",
      "FuelLevel is not supported\n",
      "AmbientTemp is not supported\n",
      "EngineOilTemp is not supported\n",
      "FuelRate is not supported\n"
     ]
    },
    {
     "name": "stderr",
     "output_type": "stream",
     "text": [
      "[obd.obd] Query failed, no connection available\n",
      "[obd.obd] Query failed, no connection available\n",
      "[obd.obd] Query failed, no connection available\n",
      "[obd.obd] Query failed, no connection available\n",
      "[obd.obd] Query failed, no connection available\n",
      "[obd.obd] Query failed, no connection available\n",
      "[obd.obd] Query failed, no connection available\n",
      "[obd.obd] Query failed, no connection available\n",
      "[obd.obd] Query failed, no connection available\n"
     ]
    },
    {
     "name": "stdout",
     "output_type": "stream",
     "text": [
      "RPM is not supported\n",
      "Speed is not supported\n",
      "EngineLoad is not supported\n",
      "CoolantTemp is not supported\n",
      "IntakeTemp is not supported\n",
      "FuelLevel is not supported\n",
      "AmbientTemp is not supported\n",
      "EngineOilTemp is not supported\n",
      "FuelRate is not supported\n"
     ]
    },
    {
     "name": "stderr",
     "output_type": "stream",
     "text": [
      "[obd.obd] Query failed, no connection available\n",
      "[obd.obd] Query failed, no connection available\n",
      "[obd.obd] Query failed, no connection available\n",
      "[obd.obd] Query failed, no connection available\n",
      "[obd.obd] Query failed, no connection available\n",
      "[obd.obd] Query failed, no connection available\n",
      "[obd.obd] Query failed, no connection available\n",
      "[obd.obd] Query failed, no connection available\n",
      "[obd.obd] Query failed, no connection available\n"
     ]
    },
    {
     "name": "stdout",
     "output_type": "stream",
     "text": [
      "RPM is not supported\n",
      "Speed is not supported\n",
      "EngineLoad is not supported\n",
      "CoolantTemp is not supported\n",
      "IntakeTemp is not supported\n",
      "FuelLevel is not supported\n",
      "AmbientTemp is not supported\n",
      "EngineOilTemp is not supported\n",
      "FuelRate is not supported\n"
     ]
    },
    {
     "name": "stderr",
     "output_type": "stream",
     "text": [
      "[obd.obd] Query failed, no connection available\n",
      "[obd.obd] Query failed, no connection available\n",
      "[obd.obd] Query failed, no connection available\n",
      "[obd.obd] Query failed, no connection available\n",
      "[obd.obd] Query failed, no connection available\n",
      "[obd.obd] Query failed, no connection available\n",
      "[obd.obd] Query failed, no connection available\n",
      "[obd.obd] Query failed, no connection available\n",
      "[obd.obd] Query failed, no connection available\n"
     ]
    },
    {
     "name": "stdout",
     "output_type": "stream",
     "text": [
      "RPM is not supported\n",
      "Speed is not supported\n",
      "EngineLoad is not supported\n",
      "CoolantTemp is not supported\n",
      "IntakeTemp is not supported\n",
      "FuelLevel is not supported\n",
      "AmbientTemp is not supported\n",
      "EngineOilTemp is not supported\n",
      "FuelRate is not supported\n"
     ]
    },
    {
     "name": "stderr",
     "output_type": "stream",
     "text": [
      "[obd.obd] Query failed, no connection available\n",
      "[obd.obd] Query failed, no connection available\n",
      "[obd.obd] Query failed, no connection available\n",
      "[obd.obd] Query failed, no connection available\n",
      "[obd.obd] Query failed, no connection available\n",
      "[obd.obd] Query failed, no connection available\n",
      "[obd.obd] Query failed, no connection available\n",
      "[obd.obd] Query failed, no connection available\n",
      "[obd.obd] Query failed, no connection available\n"
     ]
    },
    {
     "name": "stdout",
     "output_type": "stream",
     "text": [
      "RPM is not supported\n",
      "Speed is not supported\n",
      "EngineLoad is not supported\n",
      "CoolantTemp is not supported\n",
      "IntakeTemp is not supported\n",
      "FuelLevel is not supported\n",
      "AmbientTemp is not supported\n",
      "EngineOilTemp is not supported\n",
      "FuelRate is not supported\n"
     ]
    },
    {
     "name": "stderr",
     "output_type": "stream",
     "text": [
      "[obd.obd] Query failed, no connection available\n",
      "[obd.obd] Query failed, no connection available\n",
      "[obd.obd] Query failed, no connection available\n",
      "[obd.obd] Query failed, no connection available\n",
      "[obd.obd] Query failed, no connection available\n",
      "[obd.obd] Query failed, no connection available\n",
      "[obd.obd] Query failed, no connection available\n",
      "[obd.obd] Query failed, no connection available\n",
      "[obd.obd] Query failed, no connection available\n"
     ]
    },
    {
     "name": "stdout",
     "output_type": "stream",
     "text": [
      "RPM is not supported\n",
      "Speed is not supported\n",
      "EngineLoad is not supported\n",
      "CoolantTemp is not supported\n",
      "IntakeTemp is not supported\n",
      "FuelLevel is not supported\n",
      "AmbientTemp is not supported\n",
      "EngineOilTemp is not supported\n",
      "FuelRate is not supported\n"
     ]
    },
    {
     "name": "stderr",
     "output_type": "stream",
     "text": [
      "[obd.obd] Query failed, no connection available\n",
      "[obd.obd] Query failed, no connection available\n",
      "[obd.obd] Query failed, no connection available\n",
      "[obd.obd] Query failed, no connection available\n",
      "[obd.obd] Query failed, no connection available\n",
      "[obd.obd] Query failed, no connection available\n",
      "[obd.obd] Query failed, no connection available\n",
      "[obd.obd] Query failed, no connection available\n",
      "[obd.obd] Query failed, no connection available\n"
     ]
    },
    {
     "name": "stdout",
     "output_type": "stream",
     "text": [
      "RPM is not supported\n",
      "Speed is not supported\n",
      "EngineLoad is not supported\n",
      "CoolantTemp is not supported\n",
      "IntakeTemp is not supported\n",
      "FuelLevel is not supported\n",
      "AmbientTemp is not supported\n",
      "EngineOilTemp is not supported\n",
      "FuelRate is not supported\n"
     ]
    },
    {
     "name": "stderr",
     "output_type": "stream",
     "text": [
      "[obd.obd] Query failed, no connection available\n",
      "[obd.obd] Query failed, no connection available\n",
      "[obd.obd] Query failed, no connection available\n",
      "[obd.obd] Query failed, no connection available\n",
      "[obd.obd] Query failed, no connection available\n",
      "[obd.obd] Query failed, no connection available\n",
      "[obd.obd] Query failed, no connection available\n",
      "[obd.obd] Query failed, no connection available\n",
      "[obd.obd] Query failed, no connection available\n"
     ]
    },
    {
     "name": "stdout",
     "output_type": "stream",
     "text": [
      "RPM is not supported\n",
      "Speed is not supported\n",
      "EngineLoad is not supported\n",
      "CoolantTemp is not supported\n",
      "IntakeTemp is not supported\n",
      "FuelLevel is not supported\n",
      "AmbientTemp is not supported\n",
      "EngineOilTemp is not supported\n",
      "FuelRate is not supported\n"
     ]
    },
    {
     "name": "stderr",
     "output_type": "stream",
     "text": [
      "[obd.obd] Query failed, no connection available\n",
      "[obd.obd] Query failed, no connection available\n",
      "[obd.obd] Query failed, no connection available\n",
      "[obd.obd] Query failed, no connection available\n",
      "[obd.obd] Query failed, no connection available\n",
      "[obd.obd] Query failed, no connection available\n",
      "[obd.obd] Query failed, no connection available\n",
      "[obd.obd] Query failed, no connection available\n",
      "[obd.obd] Query failed, no connection available\n"
     ]
    },
    {
     "name": "stdout",
     "output_type": "stream",
     "text": [
      "RPM is not supported\n",
      "Speed is not supported\n",
      "EngineLoad is not supported\n",
      "CoolantTemp is not supported\n",
      "IntakeTemp is not supported\n",
      "FuelLevel is not supported\n",
      "AmbientTemp is not supported\n",
      "EngineOilTemp is not supported\n",
      "FuelRate is not supported\n"
     ]
    },
    {
     "name": "stderr",
     "output_type": "stream",
     "text": [
      "[obd.obd] Query failed, no connection available\n",
      "[obd.obd] Query failed, no connection available\n",
      "[obd.obd] Query failed, no connection available\n",
      "[obd.obd] Query failed, no connection available\n",
      "[obd.obd] Query failed, no connection available\n",
      "[obd.obd] Query failed, no connection available\n",
      "[obd.obd] Query failed, no connection available\n",
      "[obd.obd] Query failed, no connection available\n",
      "[obd.obd] Query failed, no connection available\n"
     ]
    },
    {
     "name": "stdout",
     "output_type": "stream",
     "text": [
      "RPM is not supported\n",
      "Speed is not supported\n",
      "EngineLoad is not supported\n",
      "CoolantTemp is not supported\n",
      "IntakeTemp is not supported\n",
      "FuelLevel is not supported\n",
      "AmbientTemp is not supported\n",
      "EngineOilTemp is not supported\n",
      "FuelRate is not supported\n"
     ]
    },
    {
     "name": "stderr",
     "output_type": "stream",
     "text": [
      "[obd.obd] Query failed, no connection available\n",
      "[obd.obd] Query failed, no connection available\n",
      "[obd.obd] Query failed, no connection available\n",
      "[obd.obd] Query failed, no connection available\n",
      "[obd.obd] Query failed, no connection available\n",
      "[obd.obd] Query failed, no connection available\n",
      "[obd.obd] Query failed, no connection available\n",
      "[obd.obd] Query failed, no connection available\n",
      "[obd.obd] Query failed, no connection available\n"
     ]
    },
    {
     "name": "stdout",
     "output_type": "stream",
     "text": [
      "RPM is not supported\n",
      "Speed is not supported\n",
      "EngineLoad is not supported\n",
      "CoolantTemp is not supported\n",
      "IntakeTemp is not supported\n",
      "FuelLevel is not supported\n",
      "AmbientTemp is not supported\n",
      "EngineOilTemp is not supported\n",
      "FuelRate is not supported\n"
     ]
    },
    {
     "name": "stderr",
     "output_type": "stream",
     "text": [
      "[obd.obd] Query failed, no connection available\n",
      "[obd.obd] Query failed, no connection available\n",
      "[obd.obd] Query failed, no connection available\n",
      "[obd.obd] Query failed, no connection available\n",
      "[obd.obd] Query failed, no connection available\n",
      "[obd.obd] Query failed, no connection available\n",
      "[obd.obd] Query failed, no connection available\n",
      "[obd.obd] Query failed, no connection available\n",
      "[obd.obd] Query failed, no connection available\n"
     ]
    },
    {
     "name": "stdout",
     "output_type": "stream",
     "text": [
      "RPM is not supported\n",
      "Speed is not supported\n",
      "EngineLoad is not supported\n",
      "CoolantTemp is not supported\n",
      "IntakeTemp is not supported\n",
      "FuelLevel is not supported\n",
      "AmbientTemp is not supported\n",
      "EngineOilTemp is not supported\n",
      "FuelRate is not supported\n"
     ]
    },
    {
     "name": "stderr",
     "output_type": "stream",
     "text": [
      "[obd.obd] Query failed, no connection available\n",
      "[obd.obd] Query failed, no connection available\n",
      "[obd.obd] Query failed, no connection available\n",
      "[obd.obd] Query failed, no connection available\n",
      "[obd.obd] Query failed, no connection available\n",
      "[obd.obd] Query failed, no connection available\n",
      "[obd.obd] Query failed, no connection available\n",
      "[obd.obd] Query failed, no connection available\n",
      "[obd.obd] Query failed, no connection available\n"
     ]
    },
    {
     "name": "stdout",
     "output_type": "stream",
     "text": [
      "RPM is not supported\n",
      "Speed is not supported\n",
      "EngineLoad is not supported\n",
      "CoolantTemp is not supported\n",
      "IntakeTemp is not supported\n",
      "FuelLevel is not supported\n",
      "AmbientTemp is not supported\n",
      "EngineOilTemp is not supported\n",
      "FuelRate is not supported\n"
     ]
    },
    {
     "name": "stderr",
     "output_type": "stream",
     "text": [
      "[obd.obd] Query failed, no connection available\n",
      "[obd.obd] Query failed, no connection available\n",
      "[obd.obd] Query failed, no connection available\n",
      "[obd.obd] Query failed, no connection available\n",
      "[obd.obd] Query failed, no connection available\n",
      "[obd.obd] Query failed, no connection available\n",
      "[obd.obd] Query failed, no connection available\n",
      "[obd.obd] Query failed, no connection available\n",
      "[obd.obd] Query failed, no connection available\n"
     ]
    },
    {
     "name": "stdout",
     "output_type": "stream",
     "text": [
      "RPM is not supported\n",
      "Speed is not supported\n",
      "EngineLoad is not supported\n",
      "CoolantTemp is not supported\n",
      "IntakeTemp is not supported\n",
      "FuelLevel is not supported\n",
      "AmbientTemp is not supported\n",
      "EngineOilTemp is not supported\n",
      "FuelRate is not supported\n"
     ]
    },
    {
     "name": "stderr",
     "output_type": "stream",
     "text": [
      "[obd.obd] Query failed, no connection available\n",
      "[obd.obd] Query failed, no connection available\n",
      "[obd.obd] Query failed, no connection available\n",
      "[obd.obd] Query failed, no connection available\n",
      "[obd.obd] Query failed, no connection available\n",
      "[obd.obd] Query failed, no connection available\n",
      "[obd.obd] Query failed, no connection available\n",
      "[obd.obd] Query failed, no connection available\n",
      "[obd.obd] Query failed, no connection available\n"
     ]
    },
    {
     "name": "stdout",
     "output_type": "stream",
     "text": [
      "RPM is not supported\n",
      "Speed is not supported\n",
      "EngineLoad is not supported\n",
      "CoolantTemp is not supported\n",
      "IntakeTemp is not supported\n",
      "FuelLevel is not supported\n",
      "AmbientTemp is not supported\n",
      "EngineOilTemp is not supported\n",
      "FuelRate is not supported\n"
     ]
    },
    {
     "name": "stderr",
     "output_type": "stream",
     "text": [
      "[obd.obd] Query failed, no connection available\n",
      "[obd.obd] Query failed, no connection available\n",
      "[obd.obd] Query failed, no connection available\n",
      "[obd.obd] Query failed, no connection available\n",
      "[obd.obd] Query failed, no connection available\n",
      "[obd.obd] Query failed, no connection available\n",
      "[obd.obd] Query failed, no connection available\n",
      "[obd.obd] Query failed, no connection available\n",
      "[obd.obd] Query failed, no connection available\n"
     ]
    },
    {
     "name": "stdout",
     "output_type": "stream",
     "text": [
      "RPM is not supported\n",
      "Speed is not supported\n",
      "EngineLoad is not supported\n",
      "CoolantTemp is not supported\n",
      "IntakeTemp is not supported\n",
      "FuelLevel is not supported\n",
      "AmbientTemp is not supported\n",
      "EngineOilTemp is not supported\n",
      "FuelRate is not supported\n"
     ]
    },
    {
     "name": "stderr",
     "output_type": "stream",
     "text": [
      "[obd.obd] Query failed, no connection available\n",
      "[obd.obd] Query failed, no connection available\n",
      "[obd.obd] Query failed, no connection available\n",
      "[obd.obd] Query failed, no connection available\n",
      "[obd.obd] Query failed, no connection available\n",
      "[obd.obd] Query failed, no connection available\n",
      "[obd.obd] Query failed, no connection available\n",
      "[obd.obd] Query failed, no connection available\n",
      "[obd.obd] Query failed, no connection available\n"
     ]
    },
    {
     "name": "stdout",
     "output_type": "stream",
     "text": [
      "RPM is not supported\n",
      "Speed is not supported\n",
      "EngineLoad is not supported\n",
      "CoolantTemp is not supported\n",
      "IntakeTemp is not supported\n",
      "FuelLevel is not supported\n",
      "AmbientTemp is not supported\n",
      "EngineOilTemp is not supported\n",
      "FuelRate is not supported\n"
     ]
    },
    {
     "name": "stderr",
     "output_type": "stream",
     "text": [
      "[obd.obd] Query failed, no connection available\n",
      "[obd.obd] Query failed, no connection available\n",
      "[obd.obd] Query failed, no connection available\n",
      "[obd.obd] Query failed, no connection available\n",
      "[obd.obd] Query failed, no connection available\n",
      "[obd.obd] Query failed, no connection available\n",
      "[obd.obd] Query failed, no connection available\n",
      "[obd.obd] Query failed, no connection available\n",
      "[obd.obd] Query failed, no connection available\n"
     ]
    },
    {
     "name": "stdout",
     "output_type": "stream",
     "text": [
      "RPM is not supported\n",
      "Speed is not supported\n",
      "EngineLoad is not supported\n",
      "CoolantTemp is not supported\n",
      "IntakeTemp is not supported\n",
      "FuelLevel is not supported\n",
      "AmbientTemp is not supported\n",
      "EngineOilTemp is not supported\n",
      "FuelRate is not supported\n"
     ]
    },
    {
     "name": "stderr",
     "output_type": "stream",
     "text": [
      "[obd.obd] Query failed, no connection available\n",
      "[obd.obd] Query failed, no connection available\n",
      "[obd.obd] Query failed, no connection available\n",
      "[obd.obd] Query failed, no connection available\n",
      "[obd.obd] Query failed, no connection available\n",
      "[obd.obd] Query failed, no connection available\n",
      "[obd.obd] Query failed, no connection available\n",
      "[obd.obd] Query failed, no connection available\n",
      "[obd.obd] Query failed, no connection available\n"
     ]
    },
    {
     "name": "stdout",
     "output_type": "stream",
     "text": [
      "RPM is not supported\n",
      "Speed is not supported\n",
      "EngineLoad is not supported\n",
      "CoolantTemp is not supported\n",
      "IntakeTemp is not supported\n",
      "FuelLevel is not supported\n",
      "AmbientTemp is not supported\n",
      "EngineOilTemp is not supported\n",
      "FuelRate is not supported\n"
     ]
    },
    {
     "name": "stderr",
     "output_type": "stream",
     "text": [
      "[obd.obd] Query failed, no connection available\n",
      "[obd.obd] Query failed, no connection available\n",
      "[obd.obd] Query failed, no connection available\n",
      "[obd.obd] Query failed, no connection available\n",
      "[obd.obd] Query failed, no connection available\n",
      "[obd.obd] Query failed, no connection available\n",
      "[obd.obd] Query failed, no connection available\n",
      "[obd.obd] Query failed, no connection available\n",
      "[obd.obd] Query failed, no connection available\n"
     ]
    },
    {
     "name": "stdout",
     "output_type": "stream",
     "text": [
      "RPM is not supported\n",
      "Speed is not supported\n",
      "EngineLoad is not supported\n",
      "CoolantTemp is not supported\n",
      "IntakeTemp is not supported\n",
      "FuelLevel is not supported\n",
      "AmbientTemp is not supported\n",
      "EngineOilTemp is not supported\n",
      "FuelRate is not supported\n"
     ]
    },
    {
     "name": "stderr",
     "output_type": "stream",
     "text": [
      "[obd.obd] Query failed, no connection available\n",
      "[obd.obd] Query failed, no connection available\n",
      "[obd.obd] Query failed, no connection available\n",
      "[obd.obd] Query failed, no connection available\n",
      "[obd.obd] Query failed, no connection available\n",
      "[obd.obd] Query failed, no connection available\n",
      "[obd.obd] Query failed, no connection available\n",
      "[obd.obd] Query failed, no connection available\n",
      "[obd.obd] Query failed, no connection available\n"
     ]
    },
    {
     "name": "stdout",
     "output_type": "stream",
     "text": [
      "RPM is not supported\n",
      "Speed is not supported\n",
      "EngineLoad is not supported\n",
      "CoolantTemp is not supported\n",
      "IntakeTemp is not supported\n",
      "FuelLevel is not supported\n",
      "AmbientTemp is not supported\n",
      "EngineOilTemp is not supported\n",
      "FuelRate is not supported\n"
     ]
    },
    {
     "name": "stderr",
     "output_type": "stream",
     "text": [
      "[obd.obd] Query failed, no connection available\n",
      "[obd.obd] Query failed, no connection available\n",
      "[obd.obd] Query failed, no connection available\n",
      "[obd.obd] Query failed, no connection available\n",
      "[obd.obd] Query failed, no connection available\n",
      "[obd.obd] Query failed, no connection available\n",
      "[obd.obd] Query failed, no connection available\n",
      "[obd.obd] Query failed, no connection available\n",
      "[obd.obd] Query failed, no connection available\n"
     ]
    },
    {
     "name": "stdout",
     "output_type": "stream",
     "text": [
      "RPM is not supported\n",
      "Speed is not supported\n",
      "EngineLoad is not supported\n",
      "CoolantTemp is not supported\n",
      "IntakeTemp is not supported\n",
      "FuelLevel is not supported\n",
      "AmbientTemp is not supported\n",
      "EngineOilTemp is not supported\n",
      "FuelRate is not supported\n"
     ]
    },
    {
     "name": "stderr",
     "output_type": "stream",
     "text": [
      "[obd.obd] Query failed, no connection available\n",
      "[obd.obd] Query failed, no connection available\n",
      "[obd.obd] Query failed, no connection available\n",
      "[obd.obd] Query failed, no connection available\n",
      "[obd.obd] Query failed, no connection available\n",
      "[obd.obd] Query failed, no connection available\n",
      "[obd.obd] Query failed, no connection available\n",
      "[obd.obd] Query failed, no connection available\n",
      "[obd.obd] Query failed, no connection available\n"
     ]
    },
    {
     "name": "stdout",
     "output_type": "stream",
     "text": [
      "RPM is not supported\n",
      "Speed is not supported\n",
      "EngineLoad is not supported\n",
      "CoolantTemp is not supported\n",
      "IntakeTemp is not supported\n",
      "FuelLevel is not supported\n",
      "AmbientTemp is not supported\n",
      "EngineOilTemp is not supported\n",
      "FuelRate is not supported\n"
     ]
    },
    {
     "name": "stderr",
     "output_type": "stream",
     "text": [
      "[obd.obd] Query failed, no connection available\n",
      "[obd.obd] Query failed, no connection available\n",
      "[obd.obd] Query failed, no connection available\n",
      "[obd.obd] Query failed, no connection available\n",
      "[obd.obd] Query failed, no connection available\n",
      "[obd.obd] Query failed, no connection available\n",
      "[obd.obd] Query failed, no connection available\n",
      "[obd.obd] Query failed, no connection available\n",
      "[obd.obd] Query failed, no connection available\n"
     ]
    },
    {
     "name": "stdout",
     "output_type": "stream",
     "text": [
      "RPM is not supported\n",
      "Speed is not supported\n",
      "EngineLoad is not supported\n",
      "CoolantTemp is not supported\n",
      "IntakeTemp is not supported\n",
      "FuelLevel is not supported\n",
      "AmbientTemp is not supported\n",
      "EngineOilTemp is not supported\n",
      "FuelRate is not supported\n"
     ]
    },
    {
     "name": "stderr",
     "output_type": "stream",
     "text": [
      "[obd.obd] Query failed, no connection available\n",
      "[obd.obd] Query failed, no connection available\n",
      "[obd.obd] Query failed, no connection available\n",
      "[obd.obd] Query failed, no connection available\n",
      "[obd.obd] Query failed, no connection available\n",
      "[obd.obd] Query failed, no connection available\n",
      "[obd.obd] Query failed, no connection available\n",
      "[obd.obd] Query failed, no connection available\n",
      "[obd.obd] Query failed, no connection available\n"
     ]
    },
    {
     "name": "stdout",
     "output_type": "stream",
     "text": [
      "RPM is not supported\n",
      "Speed is not supported\n",
      "EngineLoad is not supported\n",
      "CoolantTemp is not supported\n",
      "IntakeTemp is not supported\n",
      "FuelLevel is not supported\n",
      "AmbientTemp is not supported\n",
      "EngineOilTemp is not supported\n",
      "FuelRate is not supported\n"
     ]
    },
    {
     "name": "stderr",
     "output_type": "stream",
     "text": [
      "[obd.obd] Query failed, no connection available\n",
      "[obd.obd] Query failed, no connection available\n",
      "[obd.obd] Query failed, no connection available\n",
      "[obd.obd] Query failed, no connection available\n",
      "[obd.obd] Query failed, no connection available\n",
      "[obd.obd] Query failed, no connection available\n",
      "[obd.obd] Query failed, no connection available\n",
      "[obd.obd] Query failed, no connection available\n",
      "[obd.obd] Query failed, no connection available\n"
     ]
    },
    {
     "name": "stdout",
     "output_type": "stream",
     "text": [
      "RPM is not supported\n",
      "Speed is not supported\n",
      "EngineLoad is not supported\n",
      "CoolantTemp is not supported\n",
      "IntakeTemp is not supported\n",
      "FuelLevel is not supported\n",
      "AmbientTemp is not supported\n",
      "EngineOilTemp is not supported\n",
      "FuelRate is not supported\n"
     ]
    },
    {
     "name": "stderr",
     "output_type": "stream",
     "text": [
      "[obd.obd] Query failed, no connection available\n",
      "[obd.obd] Query failed, no connection available\n",
      "[obd.obd] Query failed, no connection available\n",
      "[obd.obd] Query failed, no connection available\n",
      "[obd.obd] Query failed, no connection available\n",
      "[obd.obd] Query failed, no connection available\n",
      "[obd.obd] Query failed, no connection available\n",
      "[obd.obd] Query failed, no connection available\n",
      "[obd.obd] Query failed, no connection available\n"
     ]
    },
    {
     "name": "stdout",
     "output_type": "stream",
     "text": [
      "RPM is not supported\n",
      "Speed is not supported\n",
      "EngineLoad is not supported\n",
      "CoolantTemp is not supported\n",
      "IntakeTemp is not supported\n",
      "FuelLevel is not supported\n",
      "AmbientTemp is not supported\n",
      "EngineOilTemp is not supported\n",
      "FuelRate is not supported\n"
     ]
    },
    {
     "name": "stderr",
     "output_type": "stream",
     "text": [
      "[obd.obd] Query failed, no connection available\n",
      "[obd.obd] Query failed, no connection available\n",
      "[obd.obd] Query failed, no connection available\n",
      "[obd.obd] Query failed, no connection available\n",
      "[obd.obd] Query failed, no connection available\n",
      "[obd.obd] Query failed, no connection available\n",
      "[obd.obd] Query failed, no connection available\n",
      "[obd.obd] Query failed, no connection available\n",
      "[obd.obd] Query failed, no connection available\n"
     ]
    },
    {
     "name": "stdout",
     "output_type": "stream",
     "text": [
      "RPM is not supported\n",
      "Speed is not supported\n",
      "EngineLoad is not supported\n",
      "CoolantTemp is not supported\n",
      "IntakeTemp is not supported\n",
      "FuelLevel is not supported\n",
      "AmbientTemp is not supported\n",
      "EngineOilTemp is not supported\n",
      "FuelRate is not supported\n"
     ]
    },
    {
     "name": "stderr",
     "output_type": "stream",
     "text": [
      "[obd.obd] Query failed, no connection available\n",
      "[obd.obd] Query failed, no connection available\n",
      "[obd.obd] Query failed, no connection available\n",
      "[obd.obd] Query failed, no connection available\n",
      "[obd.obd] Query failed, no connection available\n",
      "[obd.obd] Query failed, no connection available\n",
      "[obd.obd] Query failed, no connection available\n",
      "[obd.obd] Query failed, no connection available\n",
      "[obd.obd] Query failed, no connection available\n"
     ]
    },
    {
     "name": "stdout",
     "output_type": "stream",
     "text": [
      "RPM is not supported\n",
      "Speed is not supported\n",
      "EngineLoad is not supported\n",
      "CoolantTemp is not supported\n",
      "IntakeTemp is not supported\n",
      "FuelLevel is not supported\n",
      "AmbientTemp is not supported\n",
      "EngineOilTemp is not supported\n",
      "FuelRate is not supported\n"
     ]
    },
    {
     "name": "stderr",
     "output_type": "stream",
     "text": [
      "[obd.obd] Query failed, no connection available\n",
      "[obd.obd] Query failed, no connection available\n",
      "[obd.obd] Query failed, no connection available\n",
      "[obd.obd] Query failed, no connection available\n",
      "[obd.obd] Query failed, no connection available\n",
      "[obd.obd] Query failed, no connection available\n",
      "[obd.obd] Query failed, no connection available\n",
      "[obd.obd] Query failed, no connection available\n",
      "[obd.obd] Query failed, no connection available\n"
     ]
    },
    {
     "name": "stdout",
     "output_type": "stream",
     "text": [
      "RPM is not supported\n",
      "Speed is not supported\n",
      "EngineLoad is not supported\n",
      "CoolantTemp is not supported\n",
      "IntakeTemp is not supported\n",
      "FuelLevel is not supported\n",
      "AmbientTemp is not supported\n",
      "EngineOilTemp is not supported\n",
      "FuelRate is not supported\n"
     ]
    },
    {
     "name": "stderr",
     "output_type": "stream",
     "text": [
      "[obd.obd] Query failed, no connection available\n",
      "[obd.obd] Query failed, no connection available\n",
      "[obd.obd] Query failed, no connection available\n",
      "[obd.obd] Query failed, no connection available\n",
      "[obd.obd] Query failed, no connection available\n",
      "[obd.obd] Query failed, no connection available\n",
      "[obd.obd] Query failed, no connection available\n",
      "[obd.obd] Query failed, no connection available\n",
      "[obd.obd] Query failed, no connection available\n"
     ]
    },
    {
     "name": "stdout",
     "output_type": "stream",
     "text": [
      "RPM is not supported\n",
      "Speed is not supported\n",
      "EngineLoad is not supported\n",
      "CoolantTemp is not supported\n",
      "IntakeTemp is not supported\n",
      "FuelLevel is not supported\n",
      "AmbientTemp is not supported\n",
      "EngineOilTemp is not supported\n",
      "FuelRate is not supported\n"
     ]
    },
    {
     "name": "stderr",
     "output_type": "stream",
     "text": [
      "[obd.obd] Query failed, no connection available\n",
      "[obd.obd] Query failed, no connection available\n",
      "[obd.obd] Query failed, no connection available\n",
      "[obd.obd] Query failed, no connection available\n",
      "[obd.obd] Query failed, no connection available\n",
      "[obd.obd] Query failed, no connection available\n",
      "[obd.obd] Query failed, no connection available\n",
      "[obd.obd] Query failed, no connection available\n",
      "[obd.obd] Query failed, no connection available\n"
     ]
    },
    {
     "name": "stdout",
     "output_type": "stream",
     "text": [
      "RPM is not supported\n",
      "Speed is not supported\n",
      "EngineLoad is not supported\n",
      "CoolantTemp is not supported\n",
      "IntakeTemp is not supported\n",
      "FuelLevel is not supported\n",
      "AmbientTemp is not supported\n",
      "EngineOilTemp is not supported\n",
      "FuelRate is not supported\n"
     ]
    },
    {
     "name": "stderr",
     "output_type": "stream",
     "text": [
      "[obd.obd] Query failed, no connection available\n",
      "[obd.obd] Query failed, no connection available\n",
      "[obd.obd] Query failed, no connection available\n",
      "[obd.obd] Query failed, no connection available\n",
      "[obd.obd] Query failed, no connection available\n",
      "[obd.obd] Query failed, no connection available\n",
      "[obd.obd] Query failed, no connection available\n",
      "[obd.obd] Query failed, no connection available\n",
      "[obd.obd] Query failed, no connection available\n"
     ]
    },
    {
     "name": "stdout",
     "output_type": "stream",
     "text": [
      "RPM is not supported\n",
      "Speed is not supported\n",
      "EngineLoad is not supported\n",
      "CoolantTemp is not supported\n",
      "IntakeTemp is not supported\n",
      "FuelLevel is not supported\n",
      "AmbientTemp is not supported\n",
      "EngineOilTemp is not supported\n",
      "FuelRate is not supported\n"
     ]
    },
    {
     "name": "stderr",
     "output_type": "stream",
     "text": [
      "[obd.obd] Query failed, no connection available\n",
      "[obd.obd] Query failed, no connection available\n",
      "[obd.obd] Query failed, no connection available\n",
      "[obd.obd] Query failed, no connection available\n",
      "[obd.obd] Query failed, no connection available\n",
      "[obd.obd] Query failed, no connection available\n",
      "[obd.obd] Query failed, no connection available\n",
      "[obd.obd] Query failed, no connection available\n",
      "[obd.obd] Query failed, no connection available\n"
     ]
    },
    {
     "name": "stdout",
     "output_type": "stream",
     "text": [
      "RPM is not supported\n",
      "Speed is not supported\n",
      "EngineLoad is not supported\n",
      "CoolantTemp is not supported\n",
      "IntakeTemp is not supported\n",
      "FuelLevel is not supported\n",
      "AmbientTemp is not supported\n",
      "EngineOilTemp is not supported\n",
      "FuelRate is not supported\n"
     ]
    },
    {
     "name": "stderr",
     "output_type": "stream",
     "text": [
      "[obd.obd] Query failed, no connection available\n",
      "[obd.obd] Query failed, no connection available\n",
      "[obd.obd] Query failed, no connection available\n",
      "[obd.obd] Query failed, no connection available\n",
      "[obd.obd] Query failed, no connection available\n",
      "[obd.obd] Query failed, no connection available\n",
      "[obd.obd] Query failed, no connection available\n",
      "[obd.obd] Query failed, no connection available\n",
      "[obd.obd] Query failed, no connection available\n"
     ]
    },
    {
     "name": "stdout",
     "output_type": "stream",
     "text": [
      "RPM is not supported\n",
      "Speed is not supported\n",
      "EngineLoad is not supported\n",
      "CoolantTemp is not supported\n",
      "IntakeTemp is not supported\n",
      "FuelLevel is not supported\n",
      "AmbientTemp is not supported\n",
      "EngineOilTemp is not supported\n",
      "FuelRate is not supported\n"
     ]
    },
    {
     "name": "stderr",
     "output_type": "stream",
     "text": [
      "[obd.obd] Query failed, no connection available\n",
      "[obd.obd] Query failed, no connection available\n",
      "[obd.obd] Query failed, no connection available\n",
      "[obd.obd] Query failed, no connection available\n",
      "[obd.obd] Query failed, no connection available\n",
      "[obd.obd] Query failed, no connection available\n",
      "[obd.obd] Query failed, no connection available\n",
      "[obd.obd] Query failed, no connection available\n",
      "[obd.obd] Query failed, no connection available\n"
     ]
    },
    {
     "name": "stdout",
     "output_type": "stream",
     "text": [
      "RPM is not supported\n",
      "Speed is not supported\n",
      "EngineLoad is not supported\n",
      "CoolantTemp is not supported\n",
      "IntakeTemp is not supported\n",
      "FuelLevel is not supported\n",
      "AmbientTemp is not supported\n",
      "EngineOilTemp is not supported\n",
      "FuelRate is not supported\n"
     ]
    },
    {
     "name": "stderr",
     "output_type": "stream",
     "text": [
      "[obd.obd] Query failed, no connection available\n",
      "[obd.obd] Query failed, no connection available\n",
      "[obd.obd] Query failed, no connection available\n",
      "[obd.obd] Query failed, no connection available\n",
      "[obd.obd] Query failed, no connection available\n",
      "[obd.obd] Query failed, no connection available\n",
      "[obd.obd] Query failed, no connection available\n",
      "[obd.obd] Query failed, no connection available\n",
      "[obd.obd] Query failed, no connection available\n"
     ]
    },
    {
     "name": "stdout",
     "output_type": "stream",
     "text": [
      "RPM is not supported\n",
      "Speed is not supported\n",
      "EngineLoad is not supported\n",
      "CoolantTemp is not supported\n",
      "IntakeTemp is not supported\n",
      "FuelLevel is not supported\n",
      "AmbientTemp is not supported\n",
      "EngineOilTemp is not supported\n",
      "FuelRate is not supported\n"
     ]
    },
    {
     "name": "stderr",
     "output_type": "stream",
     "text": [
      "[obd.obd] Query failed, no connection available\n",
      "[obd.obd] Query failed, no connection available\n",
      "[obd.obd] Query failed, no connection available\n",
      "[obd.obd] Query failed, no connection available\n",
      "[obd.obd] Query failed, no connection available\n",
      "[obd.obd] Query failed, no connection available\n",
      "[obd.obd] Query failed, no connection available\n",
      "[obd.obd] Query failed, no connection available\n",
      "[obd.obd] Query failed, no connection available\n"
     ]
    },
    {
     "name": "stdout",
     "output_type": "stream",
     "text": [
      "RPM is not supported\n",
      "Speed is not supported\n",
      "EngineLoad is not supported\n",
      "CoolantTemp is not supported\n",
      "IntakeTemp is not supported\n",
      "FuelLevel is not supported\n",
      "AmbientTemp is not supported\n",
      "EngineOilTemp is not supported\n",
      "FuelRate is not supported\n"
     ]
    },
    {
     "name": "stderr",
     "output_type": "stream",
     "text": [
      "[obd.obd] Query failed, no connection available\n",
      "[obd.obd] Query failed, no connection available\n",
      "[obd.obd] Query failed, no connection available\n",
      "[obd.obd] Query failed, no connection available\n",
      "[obd.obd] Query failed, no connection available\n",
      "[obd.obd] Query failed, no connection available\n",
      "[obd.obd] Query failed, no connection available\n",
      "[obd.obd] Query failed, no connection available\n",
      "[obd.obd] Query failed, no connection available\n"
     ]
    },
    {
     "name": "stdout",
     "output_type": "stream",
     "text": [
      "RPM is not supported\n",
      "Speed is not supported\n",
      "EngineLoad is not supported\n",
      "CoolantTemp is not supported\n",
      "IntakeTemp is not supported\n",
      "FuelLevel is not supported\n",
      "AmbientTemp is not supported\n",
      "EngineOilTemp is not supported\n",
      "FuelRate is not supported\n"
     ]
    },
    {
     "name": "stderr",
     "output_type": "stream",
     "text": [
      "[obd.obd] Query failed, no connection available\n",
      "[obd.obd] Query failed, no connection available\n",
      "[obd.obd] Query failed, no connection available\n",
      "[obd.obd] Query failed, no connection available\n",
      "[obd.obd] Query failed, no connection available\n",
      "[obd.obd] Query failed, no connection available\n",
      "[obd.obd] Query failed, no connection available\n",
      "[obd.obd] Query failed, no connection available\n",
      "[obd.obd] Query failed, no connection available\n"
     ]
    },
    {
     "name": "stdout",
     "output_type": "stream",
     "text": [
      "RPM is not supported\n",
      "Speed is not supported\n",
      "EngineLoad is not supported\n",
      "CoolantTemp is not supported\n",
      "IntakeTemp is not supported\n",
      "FuelLevel is not supported\n",
      "AmbientTemp is not supported\n",
      "EngineOilTemp is not supported\n",
      "FuelRate is not supported\n"
     ]
    },
    {
     "name": "stderr",
     "output_type": "stream",
     "text": [
      "[obd.obd] Query failed, no connection available\n",
      "[obd.obd] Query failed, no connection available\n",
      "[obd.obd] Query failed, no connection available\n",
      "[obd.obd] Query failed, no connection available\n",
      "[obd.obd] Query failed, no connection available\n",
      "[obd.obd] Query failed, no connection available\n",
      "[obd.obd] Query failed, no connection available\n",
      "[obd.obd] Query failed, no connection available\n",
      "[obd.obd] Query failed, no connection available\n"
     ]
    },
    {
     "name": "stdout",
     "output_type": "stream",
     "text": [
      "RPM is not supported\n",
      "Speed is not supported\n",
      "EngineLoad is not supported\n",
      "CoolantTemp is not supported\n",
      "IntakeTemp is not supported\n",
      "FuelLevel is not supported\n",
      "AmbientTemp is not supported\n",
      "EngineOilTemp is not supported\n",
      "FuelRate is not supported\n"
     ]
    },
    {
     "name": "stderr",
     "output_type": "stream",
     "text": [
      "[obd.obd] Query failed, no connection available\n",
      "[obd.obd] Query failed, no connection available\n",
      "[obd.obd] Query failed, no connection available\n",
      "[obd.obd] Query failed, no connection available\n",
      "[obd.obd] Query failed, no connection available\n",
      "[obd.obd] Query failed, no connection available\n",
      "[obd.obd] Query failed, no connection available\n",
      "[obd.obd] Query failed, no connection available\n",
      "[obd.obd] Query failed, no connection available\n"
     ]
    },
    {
     "name": "stdout",
     "output_type": "stream",
     "text": [
      "RPM is not supported\n",
      "Speed is not supported\n",
      "EngineLoad is not supported\n",
      "CoolantTemp is not supported\n",
      "IntakeTemp is not supported\n",
      "FuelLevel is not supported\n",
      "AmbientTemp is not supported\n",
      "EngineOilTemp is not supported\n",
      "FuelRate is not supported\n"
     ]
    },
    {
     "name": "stderr",
     "output_type": "stream",
     "text": [
      "[obd.obd] Query failed, no connection available\n",
      "[obd.obd] Query failed, no connection available\n",
      "[obd.obd] Query failed, no connection available\n",
      "[obd.obd] Query failed, no connection available\n",
      "[obd.obd] Query failed, no connection available\n",
      "[obd.obd] Query failed, no connection available\n",
      "[obd.obd] Query failed, no connection available\n",
      "[obd.obd] Query failed, no connection available\n",
      "[obd.obd] Query failed, no connection available\n"
     ]
    },
    {
     "name": "stdout",
     "output_type": "stream",
     "text": [
      "RPM is not supported\n",
      "Speed is not supported\n",
      "EngineLoad is not supported\n",
      "CoolantTemp is not supported\n",
      "IntakeTemp is not supported\n",
      "FuelLevel is not supported\n",
      "AmbientTemp is not supported\n",
      "EngineOilTemp is not supported\n",
      "FuelRate is not supported\n"
     ]
    },
    {
     "name": "stderr",
     "output_type": "stream",
     "text": [
      "[obd.obd] Query failed, no connection available\n",
      "[obd.obd] Query failed, no connection available\n",
      "[obd.obd] Query failed, no connection available\n",
      "[obd.obd] Query failed, no connection available\n",
      "[obd.obd] Query failed, no connection available\n",
      "[obd.obd] Query failed, no connection available\n",
      "[obd.obd] Query failed, no connection available\n",
      "[obd.obd] Query failed, no connection available\n",
      "[obd.obd] Query failed, no connection available\n"
     ]
    },
    {
     "name": "stdout",
     "output_type": "stream",
     "text": [
      "RPM is not supported\n",
      "Speed is not supported\n",
      "EngineLoad is not supported\n",
      "CoolantTemp is not supported\n",
      "IntakeTemp is not supported\n",
      "FuelLevel is not supported\n",
      "AmbientTemp is not supported\n",
      "EngineOilTemp is not supported\n",
      "FuelRate is not supported\n"
     ]
    },
    {
     "name": "stderr",
     "output_type": "stream",
     "text": [
      "[obd.obd] Query failed, no connection available\n",
      "[obd.obd] Query failed, no connection available\n",
      "[obd.obd] Query failed, no connection available\n",
      "[obd.obd] Query failed, no connection available\n",
      "[obd.obd] Query failed, no connection available\n",
      "[obd.obd] Query failed, no connection available\n",
      "[obd.obd] Query failed, no connection available\n",
      "[obd.obd] Query failed, no connection available\n",
      "[obd.obd] Query failed, no connection available\n"
     ]
    },
    {
     "name": "stdout",
     "output_type": "stream",
     "text": [
      "RPM is not supported\n",
      "Speed is not supported\n",
      "EngineLoad is not supported\n",
      "CoolantTemp is not supported\n",
      "IntakeTemp is not supported\n",
      "FuelLevel is not supported\n",
      "AmbientTemp is not supported\n",
      "EngineOilTemp is not supported\n",
      "FuelRate is not supported\n"
     ]
    },
    {
     "name": "stderr",
     "output_type": "stream",
     "text": [
      "[obd.obd] Query failed, no connection available\n",
      "[obd.obd] Query failed, no connection available\n",
      "[obd.obd] Query failed, no connection available\n",
      "[obd.obd] Query failed, no connection available\n",
      "[obd.obd] Query failed, no connection available\n",
      "[obd.obd] Query failed, no connection available\n",
      "[obd.obd] Query failed, no connection available\n",
      "[obd.obd] Query failed, no connection available\n",
      "[obd.obd] Query failed, no connection available\n"
     ]
    },
    {
     "name": "stdout",
     "output_type": "stream",
     "text": [
      "RPM is not supported\n",
      "Speed is not supported\n",
      "EngineLoad is not supported\n",
      "CoolantTemp is not supported\n",
      "IntakeTemp is not supported\n",
      "FuelLevel is not supported\n",
      "AmbientTemp is not supported\n",
      "EngineOilTemp is not supported\n",
      "FuelRate is not supported\n"
     ]
    },
    {
     "name": "stderr",
     "output_type": "stream",
     "text": [
      "[obd.obd] Query failed, no connection available\n",
      "[obd.obd] Query failed, no connection available\n",
      "[obd.obd] Query failed, no connection available\n",
      "[obd.obd] Query failed, no connection available\n",
      "[obd.obd] Query failed, no connection available\n",
      "[obd.obd] Query failed, no connection available\n",
      "[obd.obd] Query failed, no connection available\n",
      "[obd.obd] Query failed, no connection available\n",
      "[obd.obd] Query failed, no connection available\n"
     ]
    },
    {
     "name": "stdout",
     "output_type": "stream",
     "text": [
      "RPM is not supported\n",
      "Speed is not supported\n",
      "EngineLoad is not supported\n",
      "CoolantTemp is not supported\n",
      "IntakeTemp is not supported\n",
      "FuelLevel is not supported\n",
      "AmbientTemp is not supported\n",
      "EngineOilTemp is not supported\n",
      "FuelRate is not supported\n"
     ]
    },
    {
     "name": "stderr",
     "output_type": "stream",
     "text": [
      "[obd.obd] Query failed, no connection available\n",
      "[obd.obd] Query failed, no connection available\n",
      "[obd.obd] Query failed, no connection available\n",
      "[obd.obd] Query failed, no connection available\n",
      "[obd.obd] Query failed, no connection available\n",
      "[obd.obd] Query failed, no connection available\n",
      "[obd.obd] Query failed, no connection available\n",
      "[obd.obd] Query failed, no connection available\n",
      "[obd.obd] Query failed, no connection available\n"
     ]
    },
    {
     "name": "stdout",
     "output_type": "stream",
     "text": [
      "RPM is not supported\n",
      "Speed is not supported\n",
      "EngineLoad is not supported\n",
      "CoolantTemp is not supported\n",
      "IntakeTemp is not supported\n",
      "FuelLevel is not supported\n",
      "AmbientTemp is not supported\n",
      "EngineOilTemp is not supported\n",
      "FuelRate is not supported\n"
     ]
    },
    {
     "name": "stderr",
     "output_type": "stream",
     "text": [
      "[obd.obd] Query failed, no connection available\n",
      "[obd.obd] Query failed, no connection available\n",
      "[obd.obd] Query failed, no connection available\n",
      "[obd.obd] Query failed, no connection available\n",
      "[obd.obd] Query failed, no connection available\n",
      "[obd.obd] Query failed, no connection available\n",
      "[obd.obd] Query failed, no connection available\n",
      "[obd.obd] Query failed, no connection available\n",
      "[obd.obd] Query failed, no connection available\n"
     ]
    },
    {
     "name": "stdout",
     "output_type": "stream",
     "text": [
      "RPM is not supported\n",
      "Speed is not supported\n",
      "EngineLoad is not supported\n",
      "CoolantTemp is not supported\n",
      "IntakeTemp is not supported\n",
      "FuelLevel is not supported\n",
      "AmbientTemp is not supported\n",
      "EngineOilTemp is not supported\n",
      "FuelRate is not supported\n"
     ]
    },
    {
     "name": "stderr",
     "output_type": "stream",
     "text": [
      "[obd.obd] Query failed, no connection available\n",
      "[obd.obd] Query failed, no connection available\n",
      "[obd.obd] Query failed, no connection available\n",
      "[obd.obd] Query failed, no connection available\n",
      "[obd.obd] Query failed, no connection available\n",
      "[obd.obd] Query failed, no connection available\n",
      "[obd.obd] Query failed, no connection available\n",
      "[obd.obd] Query failed, no connection available\n",
      "[obd.obd] Query failed, no connection available\n"
     ]
    },
    {
     "name": "stdout",
     "output_type": "stream",
     "text": [
      "RPM is not supported\n",
      "Speed is not supported\n",
      "EngineLoad is not supported\n",
      "CoolantTemp is not supported\n",
      "IntakeTemp is not supported\n",
      "FuelLevel is not supported\n",
      "AmbientTemp is not supported\n",
      "EngineOilTemp is not supported\n",
      "FuelRate is not supported\n"
     ]
    },
    {
     "name": "stderr",
     "output_type": "stream",
     "text": [
      "[obd.obd] Query failed, no connection available\n",
      "[obd.obd] Query failed, no connection available\n",
      "[obd.obd] Query failed, no connection available\n",
      "[obd.obd] Query failed, no connection available\n",
      "[obd.obd] Query failed, no connection available\n",
      "[obd.obd] Query failed, no connection available\n",
      "[obd.obd] Query failed, no connection available\n",
      "[obd.obd] Query failed, no connection available\n",
      "[obd.obd] Query failed, no connection available\n"
     ]
    },
    {
     "name": "stdout",
     "output_type": "stream",
     "text": [
      "RPM is not supported\n",
      "Speed is not supported\n",
      "EngineLoad is not supported\n",
      "CoolantTemp is not supported\n",
      "IntakeTemp is not supported\n",
      "FuelLevel is not supported\n",
      "AmbientTemp is not supported\n",
      "EngineOilTemp is not supported\n",
      "FuelRate is not supported\n"
     ]
    },
    {
     "name": "stderr",
     "output_type": "stream",
     "text": [
      "[obd.obd] Query failed, no connection available\n",
      "[obd.obd] Query failed, no connection available\n",
      "[obd.obd] Query failed, no connection available\n",
      "[obd.obd] Query failed, no connection available\n",
      "[obd.obd] Query failed, no connection available\n",
      "[obd.obd] Query failed, no connection available\n",
      "[obd.obd] Query failed, no connection available\n",
      "[obd.obd] Query failed, no connection available\n",
      "[obd.obd] Query failed, no connection available\n"
     ]
    },
    {
     "name": "stdout",
     "output_type": "stream",
     "text": [
      "RPM is not supported\n",
      "Speed is not supported\n",
      "EngineLoad is not supported\n",
      "CoolantTemp is not supported\n",
      "IntakeTemp is not supported\n",
      "FuelLevel is not supported\n",
      "AmbientTemp is not supported\n",
      "EngineOilTemp is not supported\n",
      "FuelRate is not supported\n"
     ]
    },
    {
     "name": "stderr",
     "output_type": "stream",
     "text": [
      "[obd.obd] Query failed, no connection available\n",
      "[obd.obd] Query failed, no connection available\n",
      "[obd.obd] Query failed, no connection available\n",
      "[obd.obd] Query failed, no connection available\n",
      "[obd.obd] Query failed, no connection available\n",
      "[obd.obd] Query failed, no connection available\n",
      "[obd.obd] Query failed, no connection available\n",
      "[obd.obd] Query failed, no connection available\n",
      "[obd.obd] Query failed, no connection available\n"
     ]
    },
    {
     "name": "stdout",
     "output_type": "stream",
     "text": [
      "RPM is not supported\n",
      "Speed is not supported\n",
      "EngineLoad is not supported\n",
      "CoolantTemp is not supported\n",
      "IntakeTemp is not supported\n",
      "FuelLevel is not supported\n",
      "AmbientTemp is not supported\n",
      "EngineOilTemp is not supported\n",
      "FuelRate is not supported\n"
     ]
    },
    {
     "name": "stderr",
     "output_type": "stream",
     "text": [
      "[obd.obd] Query failed, no connection available\n",
      "[obd.obd] Query failed, no connection available\n",
      "[obd.obd] Query failed, no connection available\n",
      "[obd.obd] Query failed, no connection available\n",
      "[obd.obd] Query failed, no connection available\n",
      "[obd.obd] Query failed, no connection available\n",
      "[obd.obd] Query failed, no connection available\n",
      "[obd.obd] Query failed, no connection available\n",
      "[obd.obd] Query failed, no connection available\n"
     ]
    },
    {
     "name": "stdout",
     "output_type": "stream",
     "text": [
      "RPM is not supported\n",
      "Speed is not supported\n",
      "EngineLoad is not supported\n",
      "CoolantTemp is not supported\n",
      "IntakeTemp is not supported\n",
      "FuelLevel is not supported\n",
      "AmbientTemp is not supported\n",
      "EngineOilTemp is not supported\n",
      "FuelRate is not supported\n"
     ]
    },
    {
     "name": "stderr",
     "output_type": "stream",
     "text": [
      "[obd.obd] Query failed, no connection available\n",
      "[obd.obd] Query failed, no connection available\n",
      "[obd.obd] Query failed, no connection available\n",
      "[obd.obd] Query failed, no connection available\n",
      "[obd.obd] Query failed, no connection available\n",
      "[obd.obd] Query failed, no connection available\n",
      "[obd.obd] Query failed, no connection available\n",
      "[obd.obd] Query failed, no connection available\n",
      "[obd.obd] Query failed, no connection available\n"
     ]
    },
    {
     "name": "stdout",
     "output_type": "stream",
     "text": [
      "RPM is not supported\n",
      "Speed is not supported\n",
      "EngineLoad is not supported\n",
      "CoolantTemp is not supported\n",
      "IntakeTemp is not supported\n",
      "FuelLevel is not supported\n",
      "AmbientTemp is not supported\n",
      "EngineOilTemp is not supported\n",
      "FuelRate is not supported\n"
     ]
    },
    {
     "name": "stderr",
     "output_type": "stream",
     "text": [
      "[obd.obd] Query failed, no connection available\n",
      "[obd.obd] Query failed, no connection available\n",
      "[obd.obd] Query failed, no connection available\n",
      "[obd.obd] Query failed, no connection available\n",
      "[obd.obd] Query failed, no connection available\n",
      "[obd.obd] Query failed, no connection available\n",
      "[obd.obd] Query failed, no connection available\n",
      "[obd.obd] Query failed, no connection available\n",
      "[obd.obd] Query failed, no connection available\n"
     ]
    },
    {
     "name": "stdout",
     "output_type": "stream",
     "text": [
      "RPM is not supported\n",
      "Speed is not supported\n",
      "EngineLoad is not supported\n",
      "CoolantTemp is not supported\n",
      "IntakeTemp is not supported\n",
      "FuelLevel is not supported\n",
      "AmbientTemp is not supported\n",
      "EngineOilTemp is not supported\n",
      "FuelRate is not supported\n"
     ]
    },
    {
     "name": "stderr",
     "output_type": "stream",
     "text": [
      "[obd.obd] Query failed, no connection available\n",
      "[obd.obd] Query failed, no connection available\n",
      "[obd.obd] Query failed, no connection available\n",
      "[obd.obd] Query failed, no connection available\n",
      "[obd.obd] Query failed, no connection available\n",
      "[obd.obd] Query failed, no connection available\n",
      "[obd.obd] Query failed, no connection available\n",
      "[obd.obd] Query failed, no connection available\n",
      "[obd.obd] Query failed, no connection available\n"
     ]
    },
    {
     "name": "stdout",
     "output_type": "stream",
     "text": [
      "RPM is not supported\n",
      "Speed is not supported\n",
      "EngineLoad is not supported\n",
      "CoolantTemp is not supported\n",
      "IntakeTemp is not supported\n",
      "FuelLevel is not supported\n",
      "AmbientTemp is not supported\n",
      "EngineOilTemp is not supported\n",
      "FuelRate is not supported\n"
     ]
    },
    {
     "name": "stderr",
     "output_type": "stream",
     "text": [
      "[obd.obd] Query failed, no connection available\n",
      "[obd.obd] Query failed, no connection available\n",
      "[obd.obd] Query failed, no connection available\n",
      "[obd.obd] Query failed, no connection available\n",
      "[obd.obd] Query failed, no connection available\n",
      "[obd.obd] Query failed, no connection available\n",
      "[obd.obd] Query failed, no connection available\n",
      "[obd.obd] Query failed, no connection available\n",
      "[obd.obd] Query failed, no connection available\n"
     ]
    },
    {
     "name": "stdout",
     "output_type": "stream",
     "text": [
      "RPM is not supported\n",
      "Speed is not supported\n",
      "EngineLoad is not supported\n",
      "CoolantTemp is not supported\n",
      "IntakeTemp is not supported\n",
      "FuelLevel is not supported\n",
      "AmbientTemp is not supported\n",
      "EngineOilTemp is not supported\n",
      "FuelRate is not supported\n"
     ]
    },
    {
     "name": "stderr",
     "output_type": "stream",
     "text": [
      "[obd.obd] Query failed, no connection available\n",
      "[obd.obd] Query failed, no connection available\n",
      "[obd.obd] Query failed, no connection available\n",
      "[obd.obd] Query failed, no connection available\n",
      "[obd.obd] Query failed, no connection available\n",
      "[obd.obd] Query failed, no connection available\n",
      "[obd.obd] Query failed, no connection available\n",
      "[obd.obd] Query failed, no connection available\n",
      "[obd.obd] Query failed, no connection available\n"
     ]
    },
    {
     "name": "stdout",
     "output_type": "stream",
     "text": [
      "RPM is not supported\n",
      "Speed is not supported\n",
      "EngineLoad is not supported\n",
      "CoolantTemp is not supported\n",
      "IntakeTemp is not supported\n",
      "FuelLevel is not supported\n",
      "AmbientTemp is not supported\n",
      "EngineOilTemp is not supported\n",
      "FuelRate is not supported\n"
     ]
    },
    {
     "name": "stderr",
     "output_type": "stream",
     "text": [
      "[obd.obd] Query failed, no connection available\n",
      "[obd.obd] Query failed, no connection available\n",
      "[obd.obd] Query failed, no connection available\n",
      "[obd.obd] Query failed, no connection available\n",
      "[obd.obd] Query failed, no connection available\n",
      "[obd.obd] Query failed, no connection available\n",
      "[obd.obd] Query failed, no connection available\n",
      "[obd.obd] Query failed, no connection available\n",
      "[obd.obd] Query failed, no connection available\n"
     ]
    },
    {
     "name": "stdout",
     "output_type": "stream",
     "text": [
      "RPM is not supported\n",
      "Speed is not supported\n",
      "EngineLoad is not supported\n",
      "CoolantTemp is not supported\n",
      "IntakeTemp is not supported\n",
      "FuelLevel is not supported\n",
      "AmbientTemp is not supported\n",
      "EngineOilTemp is not supported\n",
      "FuelRate is not supported\n"
     ]
    },
    {
     "name": "stderr",
     "output_type": "stream",
     "text": [
      "[obd.obd] Query failed, no connection available\n",
      "[obd.obd] Query failed, no connection available\n",
      "[obd.obd] Query failed, no connection available\n",
      "[obd.obd] Query failed, no connection available\n",
      "[obd.obd] Query failed, no connection available\n",
      "[obd.obd] Query failed, no connection available\n",
      "[obd.obd] Query failed, no connection available\n",
      "[obd.obd] Query failed, no connection available\n",
      "[obd.obd] Query failed, no connection available\n"
     ]
    },
    {
     "name": "stdout",
     "output_type": "stream",
     "text": [
      "RPM is not supported\n",
      "Speed is not supported\n",
      "EngineLoad is not supported\n",
      "CoolantTemp is not supported\n",
      "IntakeTemp is not supported\n",
      "FuelLevel is not supported\n",
      "AmbientTemp is not supported\n",
      "EngineOilTemp is not supported\n",
      "FuelRate is not supported\n"
     ]
    },
    {
     "name": "stderr",
     "output_type": "stream",
     "text": [
      "[obd.obd] Query failed, no connection available\n",
      "[obd.obd] Query failed, no connection available\n",
      "[obd.obd] Query failed, no connection available\n",
      "[obd.obd] Query failed, no connection available\n",
      "[obd.obd] Query failed, no connection available\n",
      "[obd.obd] Query failed, no connection available\n",
      "[obd.obd] Query failed, no connection available\n",
      "[obd.obd] Query failed, no connection available\n",
      "[obd.obd] Query failed, no connection available\n"
     ]
    },
    {
     "name": "stdout",
     "output_type": "stream",
     "text": [
      "RPM is not supported\n",
      "Speed is not supported\n",
      "EngineLoad is not supported\n",
      "CoolantTemp is not supported\n",
      "IntakeTemp is not supported\n",
      "FuelLevel is not supported\n",
      "AmbientTemp is not supported\n",
      "EngineOilTemp is not supported\n",
      "FuelRate is not supported\n"
     ]
    },
    {
     "name": "stderr",
     "output_type": "stream",
     "text": [
      "[obd.obd] Query failed, no connection available\n",
      "[obd.obd] Query failed, no connection available\n",
      "[obd.obd] Query failed, no connection available\n",
      "[obd.obd] Query failed, no connection available\n",
      "[obd.obd] Query failed, no connection available\n",
      "[obd.obd] Query failed, no connection available\n",
      "[obd.obd] Query failed, no connection available\n",
      "[obd.obd] Query failed, no connection available\n",
      "[obd.obd] Query failed, no connection available\n"
     ]
    },
    {
     "name": "stdout",
     "output_type": "stream",
     "text": [
      "RPM is not supported\n",
      "Speed is not supported\n",
      "EngineLoad is not supported\n",
      "CoolantTemp is not supported\n",
      "IntakeTemp is not supported\n",
      "FuelLevel is not supported\n",
      "AmbientTemp is not supported\n",
      "EngineOilTemp is not supported\n",
      "FuelRate is not supported\n"
     ]
    },
    {
     "name": "stderr",
     "output_type": "stream",
     "text": [
      "[obd.obd] Query failed, no connection available\n",
      "[obd.obd] Query failed, no connection available\n",
      "[obd.obd] Query failed, no connection available\n",
      "[obd.obd] Query failed, no connection available\n",
      "[obd.obd] Query failed, no connection available\n",
      "[obd.obd] Query failed, no connection available\n",
      "[obd.obd] Query failed, no connection available\n",
      "[obd.obd] Query failed, no connection available\n",
      "[obd.obd] Query failed, no connection available\n"
     ]
    },
    {
     "name": "stdout",
     "output_type": "stream",
     "text": [
      "RPM is not supported\n",
      "Speed is not supported\n",
      "EngineLoad is not supported\n",
      "CoolantTemp is not supported\n",
      "IntakeTemp is not supported\n",
      "FuelLevel is not supported\n",
      "AmbientTemp is not supported\n",
      "EngineOilTemp is not supported\n",
      "FuelRate is not supported\n"
     ]
    },
    {
     "name": "stderr",
     "output_type": "stream",
     "text": [
      "[obd.obd] Query failed, no connection available\n",
      "[obd.obd] Query failed, no connection available\n",
      "[obd.obd] Query failed, no connection available\n",
      "[obd.obd] Query failed, no connection available\n",
      "[obd.obd] Query failed, no connection available\n",
      "[obd.obd] Query failed, no connection available\n",
      "[obd.obd] Query failed, no connection available\n",
      "[obd.obd] Query failed, no connection available\n",
      "[obd.obd] Query failed, no connection available\n"
     ]
    },
    {
     "name": "stdout",
     "output_type": "stream",
     "text": [
      "RPM is not supported\n",
      "Speed is not supported\n",
      "EngineLoad is not supported\n",
      "CoolantTemp is not supported\n",
      "IntakeTemp is not supported\n",
      "FuelLevel is not supported\n",
      "AmbientTemp is not supported\n",
      "EngineOilTemp is not supported\n",
      "FuelRate is not supported\n"
     ]
    },
    {
     "name": "stderr",
     "output_type": "stream",
     "text": [
      "[obd.obd] Query failed, no connection available\n",
      "[obd.obd] Query failed, no connection available\n",
      "[obd.obd] Query failed, no connection available\n",
      "[obd.obd] Query failed, no connection available\n",
      "[obd.obd] Query failed, no connection available\n",
      "[obd.obd] Query failed, no connection available\n",
      "[obd.obd] Query failed, no connection available\n",
      "[obd.obd] Query failed, no connection available\n",
      "[obd.obd] Query failed, no connection available\n"
     ]
    },
    {
     "name": "stdout",
     "output_type": "stream",
     "text": [
      "RPM is not supported\n",
      "Speed is not supported\n",
      "EngineLoad is not supported\n",
      "CoolantTemp is not supported\n",
      "IntakeTemp is not supported\n",
      "FuelLevel is not supported\n",
      "AmbientTemp is not supported\n",
      "EngineOilTemp is not supported\n",
      "FuelRate is not supported\n"
     ]
    },
    {
     "name": "stderr",
     "output_type": "stream",
     "text": [
      "[obd.obd] Query failed, no connection available\n",
      "[obd.obd] Query failed, no connection available\n",
      "[obd.obd] Query failed, no connection available\n",
      "[obd.obd] Query failed, no connection available\n",
      "[obd.obd] Query failed, no connection available\n",
      "[obd.obd] Query failed, no connection available\n",
      "[obd.obd] Query failed, no connection available\n",
      "[obd.obd] Query failed, no connection available\n",
      "[obd.obd] Query failed, no connection available\n"
     ]
    },
    {
     "name": "stdout",
     "output_type": "stream",
     "text": [
      "RPM is not supported\n",
      "Speed is not supported\n",
      "EngineLoad is not supported\n",
      "CoolantTemp is not supported\n",
      "IntakeTemp is not supported\n",
      "FuelLevel is not supported\n",
      "AmbientTemp is not supported\n",
      "EngineOilTemp is not supported\n",
      "FuelRate is not supported\n"
     ]
    },
    {
     "name": "stderr",
     "output_type": "stream",
     "text": [
      "[obd.obd] Query failed, no connection available\n",
      "[obd.obd] Query failed, no connection available\n",
      "[obd.obd] Query failed, no connection available\n",
      "[obd.obd] Query failed, no connection available\n",
      "[obd.obd] Query failed, no connection available\n",
      "[obd.obd] Query failed, no connection available\n",
      "[obd.obd] Query failed, no connection available\n",
      "[obd.obd] Query failed, no connection available\n",
      "[obd.obd] Query failed, no connection available\n"
     ]
    },
    {
     "name": "stdout",
     "output_type": "stream",
     "text": [
      "RPM is not supported\n",
      "Speed is not supported\n",
      "EngineLoad is not supported\n",
      "CoolantTemp is not supported\n",
      "IntakeTemp is not supported\n",
      "FuelLevel is not supported\n",
      "AmbientTemp is not supported\n",
      "EngineOilTemp is not supported\n",
      "FuelRate is not supported\n"
     ]
    },
    {
     "name": "stderr",
     "output_type": "stream",
     "text": [
      "[obd.obd] Query failed, no connection available\n",
      "[obd.obd] Query failed, no connection available\n",
      "[obd.obd] Query failed, no connection available\n",
      "[obd.obd] Query failed, no connection available\n",
      "[obd.obd] Query failed, no connection available\n",
      "[obd.obd] Query failed, no connection available\n",
      "[obd.obd] Query failed, no connection available\n",
      "[obd.obd] Query failed, no connection available\n",
      "[obd.obd] Query failed, no connection available\n"
     ]
    },
    {
     "name": "stdout",
     "output_type": "stream",
     "text": [
      "RPM is not supported\n",
      "Speed is not supported\n",
      "EngineLoad is not supported\n",
      "CoolantTemp is not supported\n",
      "IntakeTemp is not supported\n",
      "FuelLevel is not supported\n",
      "AmbientTemp is not supported\n",
      "EngineOilTemp is not supported\n",
      "FuelRate is not supported\n"
     ]
    },
    {
     "name": "stderr",
     "output_type": "stream",
     "text": [
      "[obd.obd] Query failed, no connection available\n",
      "[obd.obd] Query failed, no connection available\n",
      "[obd.obd] Query failed, no connection available\n",
      "[obd.obd] Query failed, no connection available\n",
      "[obd.obd] Query failed, no connection available\n",
      "[obd.obd] Query failed, no connection available\n",
      "[obd.obd] Query failed, no connection available\n",
      "[obd.obd] Query failed, no connection available\n",
      "[obd.obd] Query failed, no connection available\n"
     ]
    },
    {
     "name": "stdout",
     "output_type": "stream",
     "text": [
      "RPM is not supported\n",
      "Speed is not supported\n",
      "EngineLoad is not supported\n",
      "CoolantTemp is not supported\n",
      "IntakeTemp is not supported\n",
      "FuelLevel is not supported\n",
      "AmbientTemp is not supported\n",
      "EngineOilTemp is not supported\n",
      "FuelRate is not supported\n"
     ]
    },
    {
     "name": "stderr",
     "output_type": "stream",
     "text": [
      "[obd.obd] Query failed, no connection available\n",
      "[obd.obd] Query failed, no connection available\n",
      "[obd.obd] Query failed, no connection available\n",
      "[obd.obd] Query failed, no connection available\n",
      "[obd.obd] Query failed, no connection available\n",
      "[obd.obd] Query failed, no connection available\n",
      "[obd.obd] Query failed, no connection available\n",
      "[obd.obd] Query failed, no connection available\n",
      "[obd.obd] Query failed, no connection available\n"
     ]
    },
    {
     "name": "stdout",
     "output_type": "stream",
     "text": [
      "RPM is not supported\n",
      "Speed is not supported\n",
      "EngineLoad is not supported\n",
      "CoolantTemp is not supported\n",
      "IntakeTemp is not supported\n",
      "FuelLevel is not supported\n",
      "AmbientTemp is not supported\n",
      "EngineOilTemp is not supported\n",
      "FuelRate is not supported\n"
     ]
    },
    {
     "name": "stderr",
     "output_type": "stream",
     "text": [
      "[obd.obd] Query failed, no connection available\n",
      "[obd.obd] Query failed, no connection available\n",
      "[obd.obd] Query failed, no connection available\n",
      "[obd.obd] Query failed, no connection available\n",
      "[obd.obd] Query failed, no connection available\n",
      "[obd.obd] Query failed, no connection available\n",
      "[obd.obd] Query failed, no connection available\n",
      "[obd.obd] Query failed, no connection available\n",
      "[obd.obd] Query failed, no connection available\n"
     ]
    },
    {
     "name": "stdout",
     "output_type": "stream",
     "text": [
      "RPM is not supported\n",
      "Speed is not supported\n",
      "EngineLoad is not supported\n",
      "CoolantTemp is not supported\n",
      "IntakeTemp is not supported\n",
      "FuelLevel is not supported\n",
      "AmbientTemp is not supported\n",
      "EngineOilTemp is not supported\n",
      "FuelRate is not supported\n"
     ]
    },
    {
     "name": "stderr",
     "output_type": "stream",
     "text": [
      "[obd.obd] Query failed, no connection available\n",
      "[obd.obd] Query failed, no connection available\n",
      "[obd.obd] Query failed, no connection available\n",
      "[obd.obd] Query failed, no connection available\n",
      "[obd.obd] Query failed, no connection available\n",
      "[obd.obd] Query failed, no connection available\n",
      "[obd.obd] Query failed, no connection available\n",
      "[obd.obd] Query failed, no connection available\n",
      "[obd.obd] Query failed, no connection available\n"
     ]
    },
    {
     "name": "stdout",
     "output_type": "stream",
     "text": [
      "RPM is not supported\n",
      "Speed is not supported\n",
      "EngineLoad is not supported\n",
      "CoolantTemp is not supported\n",
      "IntakeTemp is not supported\n",
      "FuelLevel is not supported\n",
      "AmbientTemp is not supported\n",
      "EngineOilTemp is not supported\n",
      "FuelRate is not supported\n"
     ]
    },
    {
     "name": "stderr",
     "output_type": "stream",
     "text": [
      "[obd.obd] Query failed, no connection available\n",
      "[obd.obd] Query failed, no connection available\n",
      "[obd.obd] Query failed, no connection available\n",
      "[obd.obd] Query failed, no connection available\n",
      "[obd.obd] Query failed, no connection available\n",
      "[obd.obd] Query failed, no connection available\n",
      "[obd.obd] Query failed, no connection available\n",
      "[obd.obd] Query failed, no connection available\n",
      "[obd.obd] Query failed, no connection available\n"
     ]
    },
    {
     "name": "stdout",
     "output_type": "stream",
     "text": [
      "RPM is not supported\n",
      "Speed is not supported\n",
      "EngineLoad is not supported\n",
      "CoolantTemp is not supported\n",
      "IntakeTemp is not supported\n",
      "FuelLevel is not supported\n",
      "AmbientTemp is not supported\n",
      "EngineOilTemp is not supported\n",
      "FuelRate is not supported\n"
     ]
    },
    {
     "name": "stderr",
     "output_type": "stream",
     "text": [
      "[obd.obd] Query failed, no connection available\n",
      "[obd.obd] Query failed, no connection available\n",
      "[obd.obd] Query failed, no connection available\n",
      "[obd.obd] Query failed, no connection available\n",
      "[obd.obd] Query failed, no connection available\n",
      "[obd.obd] Query failed, no connection available\n",
      "[obd.obd] Query failed, no connection available\n",
      "[obd.obd] Query failed, no connection available\n",
      "[obd.obd] Query failed, no connection available\n"
     ]
    },
    {
     "name": "stdout",
     "output_type": "stream",
     "text": [
      "RPM is not supported\n",
      "Speed is not supported\n",
      "EngineLoad is not supported\n",
      "CoolantTemp is not supported\n",
      "IntakeTemp is not supported\n",
      "FuelLevel is not supported\n",
      "AmbientTemp is not supported\n",
      "EngineOilTemp is not supported\n",
      "FuelRate is not supported\n"
     ]
    },
    {
     "name": "stderr",
     "output_type": "stream",
     "text": [
      "[obd.obd] Query failed, no connection available\n",
      "[obd.obd] Query failed, no connection available\n",
      "[obd.obd] Query failed, no connection available\n",
      "[obd.obd] Query failed, no connection available\n",
      "[obd.obd] Query failed, no connection available\n",
      "[obd.obd] Query failed, no connection available\n",
      "[obd.obd] Query failed, no connection available\n",
      "[obd.obd] Query failed, no connection available\n",
      "[obd.obd] Query failed, no connection available\n"
     ]
    },
    {
     "name": "stdout",
     "output_type": "stream",
     "text": [
      "RPM is not supported\n",
      "Speed is not supported\n",
      "EngineLoad is not supported\n",
      "CoolantTemp is not supported\n",
      "IntakeTemp is not supported\n",
      "FuelLevel is not supported\n",
      "AmbientTemp is not supported\n",
      "EngineOilTemp is not supported\n",
      "FuelRate is not supported\n"
     ]
    },
    {
     "name": "stderr",
     "output_type": "stream",
     "text": [
      "[obd.obd] Query failed, no connection available\n",
      "[obd.obd] Query failed, no connection available\n",
      "[obd.obd] Query failed, no connection available\n",
      "[obd.obd] Query failed, no connection available\n",
      "[obd.obd] Query failed, no connection available\n",
      "[obd.obd] Query failed, no connection available\n",
      "[obd.obd] Query failed, no connection available\n",
      "[obd.obd] Query failed, no connection available\n",
      "[obd.obd] Query failed, no connection available\n"
     ]
    },
    {
     "name": "stdout",
     "output_type": "stream",
     "text": [
      "RPM is not supported\n",
      "Speed is not supported\n",
      "EngineLoad is not supported\n",
      "CoolantTemp is not supported\n",
      "IntakeTemp is not supported\n",
      "FuelLevel is not supported\n",
      "AmbientTemp is not supported\n",
      "EngineOilTemp is not supported\n",
      "FuelRate is not supported\n"
     ]
    },
    {
     "name": "stderr",
     "output_type": "stream",
     "text": [
      "[obd.obd] Query failed, no connection available\n",
      "[obd.obd] Query failed, no connection available\n",
      "[obd.obd] Query failed, no connection available\n",
      "[obd.obd] Query failed, no connection available\n",
      "[obd.obd] Query failed, no connection available\n",
      "[obd.obd] Query failed, no connection available\n",
      "[obd.obd] Query failed, no connection available\n",
      "[obd.obd] Query failed, no connection available\n",
      "[obd.obd] Query failed, no connection available\n"
     ]
    },
    {
     "name": "stdout",
     "output_type": "stream",
     "text": [
      "RPM is not supported\n",
      "Speed is not supported\n",
      "EngineLoad is not supported\n",
      "CoolantTemp is not supported\n",
      "IntakeTemp is not supported\n",
      "FuelLevel is not supported\n",
      "AmbientTemp is not supported\n",
      "EngineOilTemp is not supported\n",
      "FuelRate is not supported\n"
     ]
    },
    {
     "name": "stderr",
     "output_type": "stream",
     "text": [
      "[obd.obd] Query failed, no connection available\n",
      "[obd.obd] Query failed, no connection available\n",
      "[obd.obd] Query failed, no connection available\n",
      "[obd.obd] Query failed, no connection available\n",
      "[obd.obd] Query failed, no connection available\n",
      "[obd.obd] Query failed, no connection available\n",
      "[obd.obd] Query failed, no connection available\n",
      "[obd.obd] Query failed, no connection available\n",
      "[obd.obd] Query failed, no connection available\n"
     ]
    },
    {
     "name": "stdout",
     "output_type": "stream",
     "text": [
      "RPM is not supported\n",
      "Speed is not supported\n",
      "EngineLoad is not supported\n",
      "CoolantTemp is not supported\n",
      "IntakeTemp is not supported\n",
      "FuelLevel is not supported\n",
      "AmbientTemp is not supported\n",
      "EngineOilTemp is not supported\n",
      "FuelRate is not supported\n"
     ]
    },
    {
     "name": "stderr",
     "output_type": "stream",
     "text": [
      "[obd.obd] Query failed, no connection available\n",
      "[obd.obd] Query failed, no connection available\n",
      "[obd.obd] Query failed, no connection available\n",
      "[obd.obd] Query failed, no connection available\n",
      "[obd.obd] Query failed, no connection available\n",
      "[obd.obd] Query failed, no connection available\n",
      "[obd.obd] Query failed, no connection available\n",
      "[obd.obd] Query failed, no connection available\n",
      "[obd.obd] Query failed, no connection available\n"
     ]
    },
    {
     "name": "stdout",
     "output_type": "stream",
     "text": [
      "RPM is not supported\n",
      "Speed is not supported\n",
      "EngineLoad is not supported\n",
      "CoolantTemp is not supported\n",
      "IntakeTemp is not supported\n",
      "FuelLevel is not supported\n",
      "AmbientTemp is not supported\n",
      "EngineOilTemp is not supported\n",
      "FuelRate is not supported\n"
     ]
    },
    {
     "name": "stderr",
     "output_type": "stream",
     "text": [
      "[obd.obd] Query failed, no connection available\n",
      "[obd.obd] Query failed, no connection available\n",
      "[obd.obd] Query failed, no connection available\n",
      "[obd.obd] Query failed, no connection available\n",
      "[obd.obd] Query failed, no connection available\n",
      "[obd.obd] Query failed, no connection available\n",
      "[obd.obd] Query failed, no connection available\n",
      "[obd.obd] Query failed, no connection available\n",
      "[obd.obd] Query failed, no connection available\n"
     ]
    },
    {
     "name": "stdout",
     "output_type": "stream",
     "text": [
      "RPM is not supported\n",
      "Speed is not supported\n",
      "EngineLoad is not supported\n",
      "CoolantTemp is not supported\n",
      "IntakeTemp is not supported\n",
      "FuelLevel is not supported\n",
      "AmbientTemp is not supported\n",
      "EngineOilTemp is not supported\n",
      "FuelRate is not supported\n"
     ]
    },
    {
     "name": "stderr",
     "output_type": "stream",
     "text": [
      "[obd.obd] Query failed, no connection available\n",
      "[obd.obd] Query failed, no connection available\n",
      "[obd.obd] Query failed, no connection available\n",
      "[obd.obd] Query failed, no connection available\n",
      "[obd.obd] Query failed, no connection available\n",
      "[obd.obd] Query failed, no connection available\n",
      "[obd.obd] Query failed, no connection available\n",
      "[obd.obd] Query failed, no connection available\n",
      "[obd.obd] Query failed, no connection available\n"
     ]
    },
    {
     "name": "stdout",
     "output_type": "stream",
     "text": [
      "RPM is not supported\n",
      "Speed is not supported\n",
      "EngineLoad is not supported\n",
      "CoolantTemp is not supported\n",
      "IntakeTemp is not supported\n",
      "FuelLevel is not supported\n",
      "AmbientTemp is not supported\n",
      "EngineOilTemp is not supported\n",
      "FuelRate is not supported\n"
     ]
    },
    {
     "name": "stderr",
     "output_type": "stream",
     "text": [
      "[obd.obd] Query failed, no connection available\n",
      "[obd.obd] Query failed, no connection available\n",
      "[obd.obd] Query failed, no connection available\n",
      "[obd.obd] Query failed, no connection available\n",
      "[obd.obd] Query failed, no connection available\n",
      "[obd.obd] Query failed, no connection available\n",
      "[obd.obd] Query failed, no connection available\n",
      "[obd.obd] Query failed, no connection available\n",
      "[obd.obd] Query failed, no connection available\n"
     ]
    },
    {
     "name": "stdout",
     "output_type": "stream",
     "text": [
      "RPM is not supported\n",
      "Speed is not supported\n",
      "EngineLoad is not supported\n",
      "CoolantTemp is not supported\n",
      "IntakeTemp is not supported\n",
      "FuelLevel is not supported\n",
      "AmbientTemp is not supported\n",
      "EngineOilTemp is not supported\n",
      "FuelRate is not supported\n"
     ]
    },
    {
     "name": "stderr",
     "output_type": "stream",
     "text": [
      "[obd.obd] Query failed, no connection available\n",
      "[obd.obd] Query failed, no connection available\n",
      "[obd.obd] Query failed, no connection available\n",
      "[obd.obd] Query failed, no connection available\n",
      "[obd.obd] Query failed, no connection available\n",
      "[obd.obd] Query failed, no connection available\n",
      "[obd.obd] Query failed, no connection available\n",
      "[obd.obd] Query failed, no connection available\n",
      "[obd.obd] Query failed, no connection available\n"
     ]
    },
    {
     "name": "stdout",
     "output_type": "stream",
     "text": [
      "RPM is not supported\n",
      "Speed is not supported\n",
      "EngineLoad is not supported\n",
      "CoolantTemp is not supported\n",
      "IntakeTemp is not supported\n",
      "FuelLevel is not supported\n",
      "AmbientTemp is not supported\n",
      "EngineOilTemp is not supported\n",
      "FuelRate is not supported\n"
     ]
    },
    {
     "name": "stderr",
     "output_type": "stream",
     "text": [
      "[obd.obd] Query failed, no connection available\n",
      "[obd.obd] Query failed, no connection available\n",
      "[obd.obd] Query failed, no connection available\n",
      "[obd.obd] Query failed, no connection available\n",
      "[obd.obd] Query failed, no connection available\n",
      "[obd.obd] Query failed, no connection available\n",
      "[obd.obd] Query failed, no connection available\n",
      "[obd.obd] Query failed, no connection available\n",
      "[obd.obd] Query failed, no connection available\n"
     ]
    },
    {
     "name": "stdout",
     "output_type": "stream",
     "text": [
      "RPM is not supported\n",
      "Speed is not supported\n",
      "EngineLoad is not supported\n",
      "CoolantTemp is not supported\n",
      "IntakeTemp is not supported\n",
      "FuelLevel is not supported\n",
      "AmbientTemp is not supported\n",
      "EngineOilTemp is not supported\n",
      "FuelRate is not supported\n"
     ]
    },
    {
     "name": "stderr",
     "output_type": "stream",
     "text": [
      "[obd.obd] Query failed, no connection available\n",
      "[obd.obd] Query failed, no connection available\n",
      "[obd.obd] Query failed, no connection available\n",
      "[obd.obd] Query failed, no connection available\n",
      "[obd.obd] Query failed, no connection available\n",
      "[obd.obd] Query failed, no connection available\n",
      "[obd.obd] Query failed, no connection available\n",
      "[obd.obd] Query failed, no connection available\n",
      "[obd.obd] Query failed, no connection available\n"
     ]
    },
    {
     "name": "stdout",
     "output_type": "stream",
     "text": [
      "RPM is not supported\n",
      "Speed is not supported\n",
      "EngineLoad is not supported\n",
      "CoolantTemp is not supported\n",
      "IntakeTemp is not supported\n",
      "FuelLevel is not supported\n",
      "AmbientTemp is not supported\n",
      "EngineOilTemp is not supported\n",
      "FuelRate is not supported\n"
     ]
    },
    {
     "name": "stderr",
     "output_type": "stream",
     "text": [
      "[obd.obd] Query failed, no connection available\n",
      "[obd.obd] Query failed, no connection available\n",
      "[obd.obd] Query failed, no connection available\n",
      "[obd.obd] Query failed, no connection available\n",
      "[obd.obd] Query failed, no connection available\n",
      "[obd.obd] Query failed, no connection available\n",
      "[obd.obd] Query failed, no connection available\n",
      "[obd.obd] Query failed, no connection available\n",
      "[obd.obd] Query failed, no connection available\n"
     ]
    },
    {
     "name": "stdout",
     "output_type": "stream",
     "text": [
      "RPM is not supported\n",
      "Speed is not supported\n",
      "EngineLoad is not supported\n",
      "CoolantTemp is not supported\n",
      "IntakeTemp is not supported\n",
      "FuelLevel is not supported\n",
      "AmbientTemp is not supported\n",
      "EngineOilTemp is not supported\n",
      "FuelRate is not supported\n"
     ]
    },
    {
     "name": "stderr",
     "output_type": "stream",
     "text": [
      "[obd.obd] Query failed, no connection available\n",
      "[obd.obd] Query failed, no connection available\n",
      "[obd.obd] Query failed, no connection available\n",
      "[obd.obd] Query failed, no connection available\n",
      "[obd.obd] Query failed, no connection available\n",
      "[obd.obd] Query failed, no connection available\n",
      "[obd.obd] Query failed, no connection available\n",
      "[obd.obd] Query failed, no connection available\n",
      "[obd.obd] Query failed, no connection available\n"
     ]
    },
    {
     "name": "stdout",
     "output_type": "stream",
     "text": [
      "RPM is not supported\n",
      "Speed is not supported\n",
      "EngineLoad is not supported\n",
      "CoolantTemp is not supported\n",
      "IntakeTemp is not supported\n",
      "FuelLevel is not supported\n",
      "AmbientTemp is not supported\n",
      "EngineOilTemp is not supported\n",
      "FuelRate is not supported\n"
     ]
    },
    {
     "name": "stderr",
     "output_type": "stream",
     "text": [
      "[obd.obd] Query failed, no connection available\n",
      "[obd.obd] Query failed, no connection available\n",
      "[obd.obd] Query failed, no connection available\n",
      "[obd.obd] Query failed, no connection available\n",
      "[obd.obd] Query failed, no connection available\n",
      "[obd.obd] Query failed, no connection available\n",
      "[obd.obd] Query failed, no connection available\n",
      "[obd.obd] Query failed, no connection available\n",
      "[obd.obd] Query failed, no connection available\n"
     ]
    },
    {
     "name": "stdout",
     "output_type": "stream",
     "text": [
      "RPM is not supported\n",
      "Speed is not supported\n",
      "EngineLoad is not supported\n",
      "CoolantTemp is not supported\n",
      "IntakeTemp is not supported\n",
      "FuelLevel is not supported\n",
      "AmbientTemp is not supported\n",
      "EngineOilTemp is not supported\n",
      "FuelRate is not supported\n"
     ]
    },
    {
     "name": "stderr",
     "output_type": "stream",
     "text": [
      "[obd.obd] Query failed, no connection available\n",
      "[obd.obd] Query failed, no connection available\n",
      "[obd.obd] Query failed, no connection available\n",
      "[obd.obd] Query failed, no connection available\n",
      "[obd.obd] Query failed, no connection available\n",
      "[obd.obd] Query failed, no connection available\n",
      "[obd.obd] Query failed, no connection available\n",
      "[obd.obd] Query failed, no connection available\n",
      "[obd.obd] Query failed, no connection available\n"
     ]
    },
    {
     "name": "stdout",
     "output_type": "stream",
     "text": [
      "RPM is not supported\n",
      "Speed is not supported\n",
      "EngineLoad is not supported\n",
      "CoolantTemp is not supported\n",
      "IntakeTemp is not supported\n",
      "FuelLevel is not supported\n",
      "AmbientTemp is not supported\n",
      "EngineOilTemp is not supported\n",
      "FuelRate is not supported\n"
     ]
    },
    {
     "name": "stderr",
     "output_type": "stream",
     "text": [
      "[obd.obd] Query failed, no connection available\n",
      "[obd.obd] Query failed, no connection available\n",
      "[obd.obd] Query failed, no connection available\n",
      "[obd.obd] Query failed, no connection available\n",
      "[obd.obd] Query failed, no connection available\n",
      "[obd.obd] Query failed, no connection available\n",
      "[obd.obd] Query failed, no connection available\n",
      "[obd.obd] Query failed, no connection available\n",
      "[obd.obd] Query failed, no connection available\n"
     ]
    },
    {
     "name": "stdout",
     "output_type": "stream",
     "text": [
      "RPM is not supported\n",
      "Speed is not supported\n",
      "EngineLoad is not supported\n",
      "CoolantTemp is not supported\n",
      "IntakeTemp is not supported\n",
      "FuelLevel is not supported\n",
      "AmbientTemp is not supported\n",
      "EngineOilTemp is not supported\n",
      "FuelRate is not supported\n"
     ]
    },
    {
     "name": "stderr",
     "output_type": "stream",
     "text": [
      "[obd.obd] Query failed, no connection available\n",
      "[obd.obd] Query failed, no connection available\n",
      "[obd.obd] Query failed, no connection available\n",
      "[obd.obd] Query failed, no connection available\n",
      "[obd.obd] Query failed, no connection available\n",
      "[obd.obd] Query failed, no connection available\n",
      "[obd.obd] Query failed, no connection available\n",
      "[obd.obd] Query failed, no connection available\n",
      "[obd.obd] Query failed, no connection available\n"
     ]
    },
    {
     "name": "stdout",
     "output_type": "stream",
     "text": [
      "RPM is not supported\n",
      "Speed is not supported\n",
      "EngineLoad is not supported\n",
      "CoolantTemp is not supported\n",
      "IntakeTemp is not supported\n",
      "FuelLevel is not supported\n",
      "AmbientTemp is not supported\n",
      "EngineOilTemp is not supported\n",
      "FuelRate is not supported\n"
     ]
    },
    {
     "name": "stderr",
     "output_type": "stream",
     "text": [
      "[obd.obd] Query failed, no connection available\n",
      "[obd.obd] Query failed, no connection available\n",
      "[obd.obd] Query failed, no connection available\n",
      "[obd.obd] Query failed, no connection available\n",
      "[obd.obd] Query failed, no connection available\n",
      "[obd.obd] Query failed, no connection available\n",
      "[obd.obd] Query failed, no connection available\n",
      "[obd.obd] Query failed, no connection available\n",
      "[obd.obd] Query failed, no connection available\n"
     ]
    },
    {
     "name": "stdout",
     "output_type": "stream",
     "text": [
      "RPM is not supported\n",
      "Speed is not supported\n",
      "EngineLoad is not supported\n",
      "CoolantTemp is not supported\n",
      "IntakeTemp is not supported\n",
      "FuelLevel is not supported\n",
      "AmbientTemp is not supported\n",
      "EngineOilTemp is not supported\n",
      "FuelRate is not supported\n"
     ]
    },
    {
     "name": "stderr",
     "output_type": "stream",
     "text": [
      "[obd.obd] Query failed, no connection available\n",
      "[obd.obd] Query failed, no connection available\n",
      "[obd.obd] Query failed, no connection available\n",
      "[obd.obd] Query failed, no connection available\n",
      "[obd.obd] Query failed, no connection available\n",
      "[obd.obd] Query failed, no connection available\n",
      "[obd.obd] Query failed, no connection available\n",
      "[obd.obd] Query failed, no connection available\n",
      "[obd.obd] Query failed, no connection available\n"
     ]
    },
    {
     "name": "stdout",
     "output_type": "stream",
     "text": [
      "RPM is not supported\n",
      "Speed is not supported\n",
      "EngineLoad is not supported\n",
      "CoolantTemp is not supported\n",
      "IntakeTemp is not supported\n",
      "FuelLevel is not supported\n",
      "AmbientTemp is not supported\n",
      "EngineOilTemp is not supported\n",
      "FuelRate is not supported\n"
     ]
    },
    {
     "name": "stderr",
     "output_type": "stream",
     "text": [
      "[obd.obd] Query failed, no connection available\n",
      "[obd.obd] Query failed, no connection available\n",
      "[obd.obd] Query failed, no connection available\n",
      "[obd.obd] Query failed, no connection available\n",
      "[obd.obd] Query failed, no connection available\n",
      "[obd.obd] Query failed, no connection available\n",
      "[obd.obd] Query failed, no connection available\n",
      "[obd.obd] Query failed, no connection available\n",
      "[obd.obd] Query failed, no connection available\n"
     ]
    },
    {
     "name": "stdout",
     "output_type": "stream",
     "text": [
      "RPM is not supported\n",
      "Speed is not supported\n",
      "EngineLoad is not supported\n",
      "CoolantTemp is not supported\n",
      "IntakeTemp is not supported\n",
      "FuelLevel is not supported\n",
      "AmbientTemp is not supported\n",
      "EngineOilTemp is not supported\n",
      "FuelRate is not supported\n"
     ]
    },
    {
     "name": "stderr",
     "output_type": "stream",
     "text": [
      "[obd.obd] Query failed, no connection available\n",
      "[obd.obd] Query failed, no connection available\n",
      "[obd.obd] Query failed, no connection available\n",
      "[obd.obd] Query failed, no connection available\n",
      "[obd.obd] Query failed, no connection available\n",
      "[obd.obd] Query failed, no connection available\n",
      "[obd.obd] Query failed, no connection available\n",
      "[obd.obd] Query failed, no connection available\n",
      "[obd.obd] Query failed, no connection available\n"
     ]
    },
    {
     "name": "stdout",
     "output_type": "stream",
     "text": [
      "RPM is not supported\n",
      "Speed is not supported\n",
      "EngineLoad is not supported\n",
      "CoolantTemp is not supported\n",
      "IntakeTemp is not supported\n",
      "FuelLevel is not supported\n",
      "AmbientTemp is not supported\n",
      "EngineOilTemp is not supported\n",
      "FuelRate is not supported\n"
     ]
    },
    {
     "name": "stderr",
     "output_type": "stream",
     "text": [
      "[obd.obd] Query failed, no connection available\n",
      "[obd.obd] Query failed, no connection available\n",
      "[obd.obd] Query failed, no connection available\n",
      "[obd.obd] Query failed, no connection available\n",
      "[obd.obd] Query failed, no connection available\n",
      "[obd.obd] Query failed, no connection available\n",
      "[obd.obd] Query failed, no connection available\n",
      "[obd.obd] Query failed, no connection available\n",
      "[obd.obd] Query failed, no connection available\n"
     ]
    },
    {
     "name": "stdout",
     "output_type": "stream",
     "text": [
      "RPM is not supported\n",
      "Speed is not supported\n",
      "EngineLoad is not supported\n",
      "CoolantTemp is not supported\n",
      "IntakeTemp is not supported\n",
      "FuelLevel is not supported\n",
      "AmbientTemp is not supported\n",
      "EngineOilTemp is not supported\n",
      "FuelRate is not supported\n"
     ]
    },
    {
     "name": "stderr",
     "output_type": "stream",
     "text": [
      "[obd.obd] Query failed, no connection available\n",
      "[obd.obd] Query failed, no connection available\n",
      "[obd.obd] Query failed, no connection available\n",
      "[obd.obd] Query failed, no connection available\n",
      "[obd.obd] Query failed, no connection available\n",
      "[obd.obd] Query failed, no connection available\n",
      "[obd.obd] Query failed, no connection available\n",
      "[obd.obd] Query failed, no connection available\n",
      "[obd.obd] Query failed, no connection available\n"
     ]
    },
    {
     "name": "stdout",
     "output_type": "stream",
     "text": [
      "RPM is not supported\n",
      "Speed is not supported\n",
      "EngineLoad is not supported\n",
      "CoolantTemp is not supported\n",
      "IntakeTemp is not supported\n",
      "FuelLevel is not supported\n",
      "AmbientTemp is not supported\n",
      "EngineOilTemp is not supported\n",
      "FuelRate is not supported\n"
     ]
    },
    {
     "name": "stderr",
     "output_type": "stream",
     "text": [
      "[obd.obd] Query failed, no connection available\n",
      "[obd.obd] Query failed, no connection available\n",
      "[obd.obd] Query failed, no connection available\n",
      "[obd.obd] Query failed, no connection available\n",
      "[obd.obd] Query failed, no connection available\n",
      "[obd.obd] Query failed, no connection available\n",
      "[obd.obd] Query failed, no connection available\n",
      "[obd.obd] Query failed, no connection available\n",
      "[obd.obd] Query failed, no connection available\n"
     ]
    },
    {
     "name": "stdout",
     "output_type": "stream",
     "text": [
      "RPM is not supported\n",
      "Speed is not supported\n",
      "EngineLoad is not supported\n",
      "CoolantTemp is not supported\n",
      "IntakeTemp is not supported\n",
      "FuelLevel is not supported\n",
      "AmbientTemp is not supported\n",
      "EngineOilTemp is not supported\n",
      "FuelRate is not supported\n"
     ]
    },
    {
     "name": "stderr",
     "output_type": "stream",
     "text": [
      "[obd.obd] Query failed, no connection available\n",
      "[obd.obd] Query failed, no connection available\n",
      "[obd.obd] Query failed, no connection available\n",
      "[obd.obd] Query failed, no connection available\n",
      "[obd.obd] Query failed, no connection available\n",
      "[obd.obd] Query failed, no connection available\n",
      "[obd.obd] Query failed, no connection available\n",
      "[obd.obd] Query failed, no connection available\n",
      "[obd.obd] Query failed, no connection available\n"
     ]
    },
    {
     "name": "stdout",
     "output_type": "stream",
     "text": [
      "RPM is not supported\n",
      "Speed is not supported\n",
      "EngineLoad is not supported\n",
      "CoolantTemp is not supported\n",
      "IntakeTemp is not supported\n",
      "FuelLevel is not supported\n",
      "AmbientTemp is not supported\n",
      "EngineOilTemp is not supported\n",
      "FuelRate is not supported\n"
     ]
    },
    {
     "name": "stderr",
     "output_type": "stream",
     "text": [
      "[obd.obd] Query failed, no connection available\n",
      "[obd.obd] Query failed, no connection available\n",
      "[obd.obd] Query failed, no connection available\n",
      "[obd.obd] Query failed, no connection available\n",
      "[obd.obd] Query failed, no connection available\n",
      "[obd.obd] Query failed, no connection available\n",
      "[obd.obd] Query failed, no connection available\n",
      "[obd.obd] Query failed, no connection available\n",
      "[obd.obd] Query failed, no connection available\n"
     ]
    },
    {
     "name": "stdout",
     "output_type": "stream",
     "text": [
      "RPM is not supported\n",
      "Speed is not supported\n",
      "EngineLoad is not supported\n",
      "CoolantTemp is not supported\n",
      "IntakeTemp is not supported\n",
      "FuelLevel is not supported\n",
      "AmbientTemp is not supported\n",
      "EngineOilTemp is not supported\n",
      "FuelRate is not supported\n"
     ]
    },
    {
     "name": "stderr",
     "output_type": "stream",
     "text": [
      "[obd.obd] Query failed, no connection available\n",
      "[obd.obd] Query failed, no connection available\n",
      "[obd.obd] Query failed, no connection available\n",
      "[obd.obd] Query failed, no connection available\n",
      "[obd.obd] Query failed, no connection available\n",
      "[obd.obd] Query failed, no connection available\n",
      "[obd.obd] Query failed, no connection available\n",
      "[obd.obd] Query failed, no connection available\n",
      "[obd.obd] Query failed, no connection available\n"
     ]
    },
    {
     "name": "stdout",
     "output_type": "stream",
     "text": [
      "RPM is not supported\n",
      "Speed is not supported\n",
      "EngineLoad is not supported\n",
      "CoolantTemp is not supported\n",
      "IntakeTemp is not supported\n",
      "FuelLevel is not supported\n",
      "AmbientTemp is not supported\n",
      "EngineOilTemp is not supported\n",
      "FuelRate is not supported\n"
     ]
    },
    {
     "name": "stderr",
     "output_type": "stream",
     "text": [
      "[obd.obd] Query failed, no connection available\n",
      "[obd.obd] Query failed, no connection available\n",
      "[obd.obd] Query failed, no connection available\n",
      "[obd.obd] Query failed, no connection available\n",
      "[obd.obd] Query failed, no connection available\n",
      "[obd.obd] Query failed, no connection available\n",
      "[obd.obd] Query failed, no connection available\n",
      "[obd.obd] Query failed, no connection available\n",
      "[obd.obd] Query failed, no connection available\n"
     ]
    },
    {
     "name": "stdout",
     "output_type": "stream",
     "text": [
      "RPM is not supported\n",
      "Speed is not supported\n",
      "EngineLoad is not supported\n",
      "CoolantTemp is not supported\n",
      "IntakeTemp is not supported\n",
      "FuelLevel is not supported\n",
      "AmbientTemp is not supported\n",
      "EngineOilTemp is not supported\n",
      "FuelRate is not supported\n"
     ]
    },
    {
     "name": "stderr",
     "output_type": "stream",
     "text": [
      "[obd.obd] Query failed, no connection available\n",
      "[obd.obd] Query failed, no connection available\n",
      "[obd.obd] Query failed, no connection available\n",
      "[obd.obd] Query failed, no connection available\n",
      "[obd.obd] Query failed, no connection available\n",
      "[obd.obd] Query failed, no connection available\n",
      "[obd.obd] Query failed, no connection available\n",
      "[obd.obd] Query failed, no connection available\n",
      "[obd.obd] Query failed, no connection available\n"
     ]
    },
    {
     "name": "stdout",
     "output_type": "stream",
     "text": [
      "RPM is not supported\n",
      "Speed is not supported\n",
      "EngineLoad is not supported\n",
      "CoolantTemp is not supported\n",
      "IntakeTemp is not supported\n",
      "FuelLevel is not supported\n",
      "AmbientTemp is not supported\n",
      "EngineOilTemp is not supported\n",
      "FuelRate is not supported\n"
     ]
    },
    {
     "name": "stderr",
     "output_type": "stream",
     "text": [
      "[obd.obd] Query failed, no connection available\n",
      "[obd.obd] Query failed, no connection available\n",
      "[obd.obd] Query failed, no connection available\n",
      "[obd.obd] Query failed, no connection available\n",
      "[obd.obd] Query failed, no connection available\n",
      "[obd.obd] Query failed, no connection available\n",
      "[obd.obd] Query failed, no connection available\n",
      "[obd.obd] Query failed, no connection available\n",
      "[obd.obd] Query failed, no connection available\n"
     ]
    },
    {
     "name": "stdout",
     "output_type": "stream",
     "text": [
      "RPM is not supported\n",
      "Speed is not supported\n",
      "EngineLoad is not supported\n",
      "CoolantTemp is not supported\n",
      "IntakeTemp is not supported\n",
      "FuelLevel is not supported\n",
      "AmbientTemp is not supported\n",
      "EngineOilTemp is not supported\n",
      "FuelRate is not supported\n"
     ]
    },
    {
     "name": "stderr",
     "output_type": "stream",
     "text": [
      "[obd.obd] Query failed, no connection available\n",
      "[obd.obd] Query failed, no connection available\n",
      "[obd.obd] Query failed, no connection available\n",
      "[obd.obd] Query failed, no connection available\n",
      "[obd.obd] Query failed, no connection available\n",
      "[obd.obd] Query failed, no connection available\n",
      "[obd.obd] Query failed, no connection available\n",
      "[obd.obd] Query failed, no connection available\n",
      "[obd.obd] Query failed, no connection available\n"
     ]
    },
    {
     "name": "stdout",
     "output_type": "stream",
     "text": [
      "RPM is not supported\n",
      "Speed is not supported\n",
      "EngineLoad is not supported\n",
      "CoolantTemp is not supported\n",
      "IntakeTemp is not supported\n",
      "FuelLevel is not supported\n",
      "AmbientTemp is not supported\n",
      "EngineOilTemp is not supported\n",
      "FuelRate is not supported\n"
     ]
    },
    {
     "name": "stderr",
     "output_type": "stream",
     "text": [
      "[obd.obd] Query failed, no connection available\n",
      "[obd.obd] Query failed, no connection available\n",
      "[obd.obd] Query failed, no connection available\n",
      "[obd.obd] Query failed, no connection available\n",
      "[obd.obd] Query failed, no connection available\n",
      "[obd.obd] Query failed, no connection available\n",
      "[obd.obd] Query failed, no connection available\n",
      "[obd.obd] Query failed, no connection available\n",
      "[obd.obd] Query failed, no connection available\n"
     ]
    },
    {
     "name": "stdout",
     "output_type": "stream",
     "text": [
      "RPM is not supported\n",
      "Speed is not supported\n",
      "EngineLoad is not supported\n",
      "CoolantTemp is not supported\n",
      "IntakeTemp is not supported\n",
      "FuelLevel is not supported\n",
      "AmbientTemp is not supported\n",
      "EngineOilTemp is not supported\n",
      "FuelRate is not supported\n"
     ]
    },
    {
     "name": "stderr",
     "output_type": "stream",
     "text": [
      "[obd.obd] Query failed, no connection available\n",
      "[obd.obd] Query failed, no connection available\n",
      "[obd.obd] Query failed, no connection available\n",
      "[obd.obd] Query failed, no connection available\n",
      "[obd.obd] Query failed, no connection available\n",
      "[obd.obd] Query failed, no connection available\n",
      "[obd.obd] Query failed, no connection available\n",
      "[obd.obd] Query failed, no connection available\n",
      "[obd.obd] Query failed, no connection available\n"
     ]
    },
    {
     "name": "stdout",
     "output_type": "stream",
     "text": [
      "RPM is not supported\n",
      "Speed is not supported\n",
      "EngineLoad is not supported\n",
      "CoolantTemp is not supported\n",
      "IntakeTemp is not supported\n",
      "FuelLevel is not supported\n",
      "AmbientTemp is not supported\n",
      "EngineOilTemp is not supported\n",
      "FuelRate is not supported\n"
     ]
    },
    {
     "name": "stderr",
     "output_type": "stream",
     "text": [
      "[obd.obd] Query failed, no connection available\n",
      "[obd.obd] Query failed, no connection available\n",
      "[obd.obd] Query failed, no connection available\n",
      "[obd.obd] Query failed, no connection available\n",
      "[obd.obd] Query failed, no connection available\n",
      "[obd.obd] Query failed, no connection available\n",
      "[obd.obd] Query failed, no connection available\n",
      "[obd.obd] Query failed, no connection available\n",
      "[obd.obd] Query failed, no connection available\n"
     ]
    },
    {
     "name": "stdout",
     "output_type": "stream",
     "text": [
      "RPM is not supported\n",
      "Speed is not supported\n",
      "EngineLoad is not supported\n",
      "CoolantTemp is not supported\n",
      "IntakeTemp is not supported\n",
      "FuelLevel is not supported\n",
      "AmbientTemp is not supported\n",
      "EngineOilTemp is not supported\n",
      "FuelRate is not supported\n"
     ]
    },
    {
     "name": "stderr",
     "output_type": "stream",
     "text": [
      "[obd.obd] Query failed, no connection available\n",
      "[obd.obd] Query failed, no connection available\n",
      "[obd.obd] Query failed, no connection available\n",
      "[obd.obd] Query failed, no connection available\n",
      "[obd.obd] Query failed, no connection available\n",
      "[obd.obd] Query failed, no connection available\n",
      "[obd.obd] Query failed, no connection available\n",
      "[obd.obd] Query failed, no connection available\n",
      "[obd.obd] Query failed, no connection available\n"
     ]
    },
    {
     "name": "stdout",
     "output_type": "stream",
     "text": [
      "RPM is not supported\n",
      "Speed is not supported\n",
      "EngineLoad is not supported\n",
      "CoolantTemp is not supported\n",
      "IntakeTemp is not supported\n",
      "FuelLevel is not supported\n",
      "AmbientTemp is not supported\n",
      "EngineOilTemp is not supported\n",
      "FuelRate is not supported\n"
     ]
    },
    {
     "name": "stderr",
     "output_type": "stream",
     "text": [
      "[obd.obd] Query failed, no connection available\n",
      "[obd.obd] Query failed, no connection available\n",
      "[obd.obd] Query failed, no connection available\n",
      "[obd.obd] Query failed, no connection available\n",
      "[obd.obd] Query failed, no connection available\n",
      "[obd.obd] Query failed, no connection available\n",
      "[obd.obd] Query failed, no connection available\n",
      "[obd.obd] Query failed, no connection available\n",
      "[obd.obd] Query failed, no connection available\n"
     ]
    },
    {
     "name": "stdout",
     "output_type": "stream",
     "text": [
      "RPM is not supported\n",
      "Speed is not supported\n",
      "EngineLoad is not supported\n",
      "CoolantTemp is not supported\n",
      "IntakeTemp is not supported\n",
      "FuelLevel is not supported\n",
      "AmbientTemp is not supported\n",
      "EngineOilTemp is not supported\n",
      "FuelRate is not supported\n"
     ]
    },
    {
     "name": "stderr",
     "output_type": "stream",
     "text": [
      "[obd.obd] Query failed, no connection available\n",
      "[obd.obd] Query failed, no connection available\n",
      "[obd.obd] Query failed, no connection available\n",
      "[obd.obd] Query failed, no connection available\n",
      "[obd.obd] Query failed, no connection available\n",
      "[obd.obd] Query failed, no connection available\n",
      "[obd.obd] Query failed, no connection available\n",
      "[obd.obd] Query failed, no connection available\n",
      "[obd.obd] Query failed, no connection available\n"
     ]
    },
    {
     "name": "stdout",
     "output_type": "stream",
     "text": [
      "RPM is not supported\n",
      "Speed is not supported\n",
      "EngineLoad is not supported\n",
      "CoolantTemp is not supported\n",
      "IntakeTemp is not supported\n",
      "FuelLevel is not supported\n",
      "AmbientTemp is not supported\n",
      "EngineOilTemp is not supported\n",
      "FuelRate is not supported\n"
     ]
    },
    {
     "name": "stderr",
     "output_type": "stream",
     "text": [
      "[obd.obd] Query failed, no connection available\n",
      "[obd.obd] Query failed, no connection available\n",
      "[obd.obd] Query failed, no connection available\n",
      "[obd.obd] Query failed, no connection available\n",
      "[obd.obd] Query failed, no connection available\n",
      "[obd.obd] Query failed, no connection available\n",
      "[obd.obd] Query failed, no connection available\n",
      "[obd.obd] Query failed, no connection available\n",
      "[obd.obd] Query failed, no connection available\n"
     ]
    },
    {
     "name": "stdout",
     "output_type": "stream",
     "text": [
      "RPM is not supported\n",
      "Speed is not supported\n",
      "EngineLoad is not supported\n",
      "CoolantTemp is not supported\n",
      "IntakeTemp is not supported\n",
      "FuelLevel is not supported\n",
      "AmbientTemp is not supported\n",
      "EngineOilTemp is not supported\n",
      "FuelRate is not supported\n"
     ]
    },
    {
     "name": "stderr",
     "output_type": "stream",
     "text": [
      "[obd.obd] Query failed, no connection available\n",
      "[obd.obd] Query failed, no connection available\n",
      "[obd.obd] Query failed, no connection available\n",
      "[obd.obd] Query failed, no connection available\n",
      "[obd.obd] Query failed, no connection available\n",
      "[obd.obd] Query failed, no connection available\n",
      "[obd.obd] Query failed, no connection available\n",
      "[obd.obd] Query failed, no connection available\n",
      "[obd.obd] Query failed, no connection available\n"
     ]
    },
    {
     "name": "stdout",
     "output_type": "stream",
     "text": [
      "RPM is not supported\n",
      "Speed is not supported\n",
      "EngineLoad is not supported\n",
      "CoolantTemp is not supported\n",
      "IntakeTemp is not supported\n",
      "FuelLevel is not supported\n",
      "AmbientTemp is not supported\n",
      "EngineOilTemp is not supported\n",
      "FuelRate is not supported\n"
     ]
    },
    {
     "name": "stderr",
     "output_type": "stream",
     "text": [
      "[obd.obd] Query failed, no connection available\n",
      "[obd.obd] Query failed, no connection available\n",
      "[obd.obd] Query failed, no connection available\n",
      "[obd.obd] Query failed, no connection available\n",
      "[obd.obd] Query failed, no connection available\n",
      "[obd.obd] Query failed, no connection available\n",
      "[obd.obd] Query failed, no connection available\n",
      "[obd.obd] Query failed, no connection available\n",
      "[obd.obd] Query failed, no connection available\n"
     ]
    }
   ],
   "source": [
    "while True:\n",
    "    timestamp = time.time()\n",
    "    \n",
    "    for channelName in channels.keys():\n",
    "        try:\n",
    "            cmd = channels[channelName]\n",
    "            response = connection.query(cmd)        \n",
    "            record = {'Timestamp': timestamp,\n",
    "                      'ChannelName':channelName,\n",
    "                      'Value': float(str(response).split(' ')[0]),\n",
    "                      'Units': str(response).split(' ')[1],\n",
    "                      'Cmd':str(cmd).split(': ')[1]}\n",
    "\n",
    "            print(record)\n",
    "        except:\n",
    "            print('{} is not supported'.format(channelName))\n",
    "\n",
    "\n",
    "    time.sleep(1)"
   ]
  },
  {
   "cell_type": "code",
   "execution_count": 24,
   "id": "6b8898fa",
   "metadata": {},
   "outputs": [
    {
     "data": {
      "text/plain": [
       "1676509647336841400"
      ]
     },
     "execution_count": 24,
     "metadata": {},
     "output_type": "execute_result"
    }
   ],
   "source": [
    "timestamp = time.time_ns()"
   ]
  },
  {
   "cell_type": "code",
   "execution_count": 16,
   "id": "4389a661",
   "metadata": {},
   "outputs": [],
   "source": [
    "cmd = obd.commands.SPEED"
   ]
  },
  {
   "cell_type": "code",
   "execution_count": 17,
   "id": "cbafdb6c",
   "metadata": {},
   "outputs": [],
   "source": [
    "response = connection.query(cmd)"
   ]
  },
  {
   "cell_type": "code",
   "execution_count": 61,
   "id": "1df19916",
   "metadata": {},
   "outputs": [
    {
     "ename": "AttributeError",
     "evalue": "'Commands' object has no attribute '__all__'",
     "output_type": "error",
     "traceback": [
      "\u001b[1;31m---------------------------------------------------------------------------\u001b[0m",
      "\u001b[1;31mAttributeError\u001b[0m                            Traceback (most recent call last)",
      "Cell \u001b[1;32mIn[61], line 1\u001b[0m\n\u001b[1;32m----> 1\u001b[0m all_commands \u001b[38;5;241m=\u001b[39m [cmd\u001b[38;5;241m.\u001b[39mname \u001b[38;5;28;01mfor\u001b[39;00m cmd \u001b[38;5;129;01min\u001b[39;00m \u001b[43mobd\u001b[49m\u001b[38;5;241;43m.\u001b[39;49m\u001b[43mcommands\u001b[49m\u001b[38;5;241;43m.\u001b[39;49m\u001b[43m__all__\u001b[49m]  \u001b[38;5;66;03m# get all available commands\u001b[39;00m\n\u001b[0;32m      3\u001b[0m \u001b[38;5;66;03m# create a set of distinct PIDs\u001b[39;00m\n\u001b[0;32m      4\u001b[0m all_pids \u001b[38;5;241m=\u001b[39m {cmd\u001b[38;5;241m.\u001b[39msplit()[\u001b[38;5;241m0\u001b[39m] \u001b[38;5;28;01mfor\u001b[39;00m cmd \u001b[38;5;129;01min\u001b[39;00m all_commands \u001b[38;5;28;01mif\u001b[39;00m \u001b[38;5;124m\"\u001b[39m\u001b[38;5;124mOBDCommand\u001b[39m\u001b[38;5;124m\"\u001b[39m \u001b[38;5;129;01min\u001b[39;00m cmd}\n",
      "\u001b[1;31mAttributeError\u001b[0m: 'Commands' object has no attribute '__all__'"
     ]
    }
   ],
   "source": [
    "all_commands = [cmd.name for cmd in obd.commands.__all__]  # get all available commands\n",
    "\n",
    "# create a set of distinct PIDs\n",
    "all_pids = {cmd.split()[0] for cmd in all_commands if \"OBDCommand\" in cmd}\n",
    "\n",
    "print(all_pids)"
   ]
  },
  {
   "cell_type": "code",
   "execution_count": 62,
   "id": "dbfa8743",
   "metadata": {},
   "outputs": [
    {
     "data": {
      "text/plain": [
       "{'modes': [[],\n",
       "  [OBDCommand('PIDS_A', 'Supported PIDs [01-20]', b'0100', 6, raw_string, ecu=ECU.ENGINE, fast=True),\n",
       "   OBDCommand('STATUS', 'Status since DTCs cleared', b'0101', 6, raw_string, ecu=ECU.ENGINE, fast=True),\n",
       "   OBDCommand('FREEZE_DTC', 'DTC that triggered the freeze frame', b'0102', 4, raw_string, ecu=ECU.ENGINE, fast=True),\n",
       "   OBDCommand('FUEL_STATUS', 'Fuel System Status', b'0103', 4, raw_string, ecu=ECU.ENGINE, fast=True),\n",
       "   OBDCommand('ENGINE_LOAD', 'Calculated Engine Load', b'0104', 3, raw_string, ecu=ECU.ENGINE, fast=True),\n",
       "   OBDCommand('COOLANT_TEMP', 'Engine Coolant Temperature', b'0105', 3, raw_string, ecu=ECU.ENGINE, fast=True),\n",
       "   OBDCommand('SHORT_FUEL_TRIM_1', 'Short Term Fuel Trim - Bank 1', b'0106', 3, raw_string, ecu=ECU.ENGINE, fast=True),\n",
       "   OBDCommand('LONG_FUEL_TRIM_1', 'Long Term Fuel Trim - Bank 1', b'0107', 3, raw_string, ecu=ECU.ENGINE, fast=True),\n",
       "   OBDCommand('SHORT_FUEL_TRIM_2', 'Short Term Fuel Trim - Bank 2', b'0108', 3, raw_string, ecu=ECU.ENGINE, fast=True),\n",
       "   OBDCommand('LONG_FUEL_TRIM_2', 'Long Term Fuel Trim - Bank 2', b'0109', 3, raw_string, ecu=ECU.ENGINE, fast=True),\n",
       "   OBDCommand('FUEL_PRESSURE', 'Fuel Pressure', b'010A', 3, raw_string, ecu=ECU.ENGINE, fast=True),\n",
       "   OBDCommand('INTAKE_PRESSURE', 'Intake Manifold Pressure', b'010B', 3, raw_string, ecu=ECU.ENGINE, fast=True),\n",
       "   OBDCommand('RPM', 'Engine RPM', b'010C', 4, raw_string, ecu=ECU.ENGINE, fast=True),\n",
       "   OBDCommand('SPEED', 'Vehicle Speed', b'010D', 3, raw_string, ecu=ECU.ENGINE, fast=True),\n",
       "   OBDCommand('TIMING_ADVANCE', 'Timing Advance', b'010E', 3, raw_string, ecu=ECU.ENGINE, fast=True),\n",
       "   OBDCommand('INTAKE_TEMP', 'Intake Air Temp', b'010F', 3, raw_string, ecu=ECU.ENGINE, fast=True),\n",
       "   OBDCommand('MAF', 'Air Flow Rate (MAF)', b'0110', 4, raw_string, ecu=ECU.ENGINE, fast=True),\n",
       "   OBDCommand('THROTTLE_POS', 'Throttle Position', b'0111', 3, raw_string, ecu=ECU.ENGINE, fast=True),\n",
       "   OBDCommand('AIR_STATUS', 'Secondary Air Status', b'0112', 3, raw_string, ecu=ECU.ENGINE, fast=True),\n",
       "   OBDCommand('O2_SENSORS', 'O2 Sensors Present', b'0113', 3, raw_string, ecu=ECU.ENGINE, fast=True),\n",
       "   OBDCommand('O2_B1S1', 'O2: Bank 1 - Sensor 1 Voltage', b'0114', 4, raw_string, ecu=ECU.ENGINE, fast=True),\n",
       "   OBDCommand('O2_B1S2', 'O2: Bank 1 - Sensor 2 Voltage', b'0115', 4, raw_string, ecu=ECU.ENGINE, fast=True),\n",
       "   OBDCommand('O2_B1S3', 'O2: Bank 1 - Sensor 3 Voltage', b'0116', 4, raw_string, ecu=ECU.ENGINE, fast=True),\n",
       "   OBDCommand('O2_B1S4', 'O2: Bank 1 - Sensor 4 Voltage', b'0117', 4, raw_string, ecu=ECU.ENGINE, fast=True),\n",
       "   OBDCommand('O2_B2S1', 'O2: Bank 2 - Sensor 1 Voltage', b'0118', 4, raw_string, ecu=ECU.ENGINE, fast=True),\n",
       "   OBDCommand('O2_B2S2', 'O2: Bank 2 - Sensor 2 Voltage', b'0119', 4, raw_string, ecu=ECU.ENGINE, fast=True),\n",
       "   OBDCommand('O2_B2S3', 'O2: Bank 2 - Sensor 3 Voltage', b'011A', 4, raw_string, ecu=ECU.ENGINE, fast=True),\n",
       "   OBDCommand('O2_B2S4', 'O2: Bank 2 - Sensor 4 Voltage', b'011B', 4, raw_string, ecu=ECU.ENGINE, fast=True),\n",
       "   OBDCommand('OBD_COMPLIANCE', 'OBD Standards Compliance', b'011C', 3, raw_string, ecu=ECU.ENGINE, fast=True),\n",
       "   OBDCommand('O2_SENSORS_ALT', 'O2 Sensors Present (alternate)', b'011D', 3, raw_string, ecu=ECU.ENGINE, fast=True),\n",
       "   OBDCommand('AUX_INPUT_STATUS', 'Auxiliary input status (power take off)', b'011E', 3, raw_string, ecu=ECU.ENGINE, fast=True),\n",
       "   OBDCommand('RUN_TIME', 'Engine Run Time', b'011F', 4, raw_string, ecu=ECU.ENGINE, fast=True),\n",
       "   OBDCommand('PIDS_B', 'Supported PIDs [21-40]', b'0120', 6, raw_string, ecu=ECU.ENGINE, fast=True),\n",
       "   OBDCommand('DISTANCE_W_MIL', 'Distance Traveled with MIL on', b'0121', 4, raw_string, ecu=ECU.ENGINE, fast=True),\n",
       "   OBDCommand('FUEL_RAIL_PRESSURE_VAC', 'Fuel Rail Pressure (relative to vacuum)', b'0122', 4, raw_string, ecu=ECU.ENGINE, fast=True),\n",
       "   OBDCommand('FUEL_RAIL_PRESSURE_DIRECT', 'Fuel Rail Pressure (direct inject)', b'0123', 4, raw_string, ecu=ECU.ENGINE, fast=True),\n",
       "   OBDCommand('O2_S1_WR_VOLTAGE', '02 Sensor 1 WR Lambda Voltage', b'0124', 6, raw_string, ecu=ECU.ENGINE, fast=True),\n",
       "   OBDCommand('O2_S2_WR_VOLTAGE', '02 Sensor 2 WR Lambda Voltage', b'0125', 6, raw_string, ecu=ECU.ENGINE, fast=True),\n",
       "   OBDCommand('O2_S3_WR_VOLTAGE', '02 Sensor 3 WR Lambda Voltage', b'0126', 6, raw_string, ecu=ECU.ENGINE, fast=True),\n",
       "   OBDCommand('O2_S4_WR_VOLTAGE', '02 Sensor 4 WR Lambda Voltage', b'0127', 6, raw_string, ecu=ECU.ENGINE, fast=True),\n",
       "   OBDCommand('O2_S5_WR_VOLTAGE', '02 Sensor 5 WR Lambda Voltage', b'0128', 6, raw_string, ecu=ECU.ENGINE, fast=True),\n",
       "   OBDCommand('O2_S6_WR_VOLTAGE', '02 Sensor 6 WR Lambda Voltage', b'0129', 6, raw_string, ecu=ECU.ENGINE, fast=True),\n",
       "   OBDCommand('O2_S7_WR_VOLTAGE', '02 Sensor 7 WR Lambda Voltage', b'012A', 6, raw_string, ecu=ECU.ENGINE, fast=True),\n",
       "   OBDCommand('O2_S8_WR_VOLTAGE', '02 Sensor 8 WR Lambda Voltage', b'012B', 6, raw_string, ecu=ECU.ENGINE, fast=True),\n",
       "   OBDCommand('COMMANDED_EGR', 'Commanded EGR', b'012C', 3, raw_string, ecu=ECU.ENGINE, fast=True),\n",
       "   OBDCommand('EGR_ERROR', 'EGR Error', b'012D', 3, raw_string, ecu=ECU.ENGINE, fast=True),\n",
       "   OBDCommand('EVAPORATIVE_PURGE', 'Commanded Evaporative Purge', b'012E', 3, raw_string, ecu=ECU.ENGINE, fast=True),\n",
       "   OBDCommand('FUEL_LEVEL', 'Fuel Level Input', b'012F', 3, raw_string, ecu=ECU.ENGINE, fast=True),\n",
       "   OBDCommand('WARMUPS_SINCE_DTC_CLEAR', 'Number of warm-ups since codes cleared', b'0130', 3, raw_string, ecu=ECU.ENGINE, fast=True),\n",
       "   OBDCommand('DISTANCE_SINCE_DTC_CLEAR', 'Distance traveled since codes cleared', b'0131', 4, raw_string, ecu=ECU.ENGINE, fast=True),\n",
       "   OBDCommand('EVAP_VAPOR_PRESSURE', 'Evaporative system vapor pressure', b'0132', 4, raw_string, ecu=ECU.ENGINE, fast=True),\n",
       "   OBDCommand('BAROMETRIC_PRESSURE', 'Barometric Pressure', b'0133', 3, raw_string, ecu=ECU.ENGINE, fast=True),\n",
       "   OBDCommand('O2_S1_WR_CURRENT', '02 Sensor 1 WR Lambda Current', b'0134', 6, raw_string, ecu=ECU.ENGINE, fast=True),\n",
       "   OBDCommand('O2_S2_WR_CURRENT', '02 Sensor 2 WR Lambda Current', b'0135', 6, raw_string, ecu=ECU.ENGINE, fast=True),\n",
       "   OBDCommand('O2_S3_WR_CURRENT', '02 Sensor 3 WR Lambda Current', b'0136', 6, raw_string, ecu=ECU.ENGINE, fast=True),\n",
       "   OBDCommand('O2_S4_WR_CURRENT', '02 Sensor 4 WR Lambda Current', b'0137', 6, raw_string, ecu=ECU.ENGINE, fast=True),\n",
       "   OBDCommand('O2_S5_WR_CURRENT', '02 Sensor 5 WR Lambda Current', b'0138', 6, raw_string, ecu=ECU.ENGINE, fast=True),\n",
       "   OBDCommand('O2_S6_WR_CURRENT', '02 Sensor 6 WR Lambda Current', b'0139', 6, raw_string, ecu=ECU.ENGINE, fast=True),\n",
       "   OBDCommand('O2_S7_WR_CURRENT', '02 Sensor 7 WR Lambda Current', b'013A', 6, raw_string, ecu=ECU.ENGINE, fast=True),\n",
       "   OBDCommand('O2_S8_WR_CURRENT', '02 Sensor 8 WR Lambda Current', b'013B', 6, raw_string, ecu=ECU.ENGINE, fast=True),\n",
       "   OBDCommand('CATALYST_TEMP_B1S1', 'Catalyst Temperature: Bank 1 - Sensor 1', b'013C', 4, raw_string, ecu=ECU.ENGINE, fast=True),\n",
       "   OBDCommand('CATALYST_TEMP_B2S1', 'Catalyst Temperature: Bank 2 - Sensor 1', b'013D', 4, raw_string, ecu=ECU.ENGINE, fast=True),\n",
       "   OBDCommand('CATALYST_TEMP_B1S2', 'Catalyst Temperature: Bank 1 - Sensor 2', b'013E', 4, raw_string, ecu=ECU.ENGINE, fast=True),\n",
       "   OBDCommand('CATALYST_TEMP_B2S2', 'Catalyst Temperature: Bank 2 - Sensor 2', b'013F', 4, raw_string, ecu=ECU.ENGINE, fast=True),\n",
       "   OBDCommand('PIDS_C', 'Supported PIDs [41-60]', b'0140', 6, raw_string, ecu=ECU.ENGINE, fast=True),\n",
       "   OBDCommand('STATUS_DRIVE_CYCLE', 'Monitor status this drive cycle', b'0141', 6, raw_string, ecu=ECU.ENGINE, fast=True),\n",
       "   OBDCommand('CONTROL_MODULE_VOLTAGE', 'Control module voltage', b'0142', 4, raw_string, ecu=ECU.ENGINE, fast=True),\n",
       "   OBDCommand('ABSOLUTE_LOAD', 'Absolute load value', b'0143', 4, raw_string, ecu=ECU.ENGINE, fast=True),\n",
       "   OBDCommand('COMMANDED_EQUIV_RATIO', 'Commanded equivalence ratio', b'0144', 4, raw_string, ecu=ECU.ENGINE, fast=True),\n",
       "   OBDCommand('RELATIVE_THROTTLE_POS', 'Relative throttle position', b'0145', 3, raw_string, ecu=ECU.ENGINE, fast=True),\n",
       "   OBDCommand('AMBIANT_AIR_TEMP', 'Ambient air temperature', b'0146', 3, raw_string, ecu=ECU.ENGINE, fast=True),\n",
       "   OBDCommand('THROTTLE_POS_B', 'Absolute throttle position B', b'0147', 3, raw_string, ecu=ECU.ENGINE, fast=True),\n",
       "   OBDCommand('THROTTLE_POS_C', 'Absolute throttle position C', b'0148', 3, raw_string, ecu=ECU.ENGINE, fast=True),\n",
       "   OBDCommand('ACCELERATOR_POS_D', 'Accelerator pedal position D', b'0149', 3, raw_string, ecu=ECU.ENGINE, fast=True),\n",
       "   OBDCommand('ACCELERATOR_POS_E', 'Accelerator pedal position E', b'014A', 3, raw_string, ecu=ECU.ENGINE, fast=True),\n",
       "   OBDCommand('ACCELERATOR_POS_F', 'Accelerator pedal position F', b'014B', 3, raw_string, ecu=ECU.ENGINE, fast=True),\n",
       "   OBDCommand('THROTTLE_ACTUATOR', 'Commanded throttle actuator', b'014C', 3, raw_string, ecu=ECU.ENGINE, fast=True),\n",
       "   OBDCommand('RUN_TIME_MIL', 'Time run with MIL on', b'014D', 4, raw_string, ecu=ECU.ENGINE, fast=True),\n",
       "   OBDCommand('TIME_SINCE_DTC_CLEARED', 'Time since trouble codes cleared', b'014E', 4, raw_string, ecu=ECU.ENGINE, fast=True),\n",
       "   OBDCommand('MAX_VALUES', 'Various Max values', b'014F', 6, raw_string, ecu=ECU.ENGINE, fast=True),\n",
       "   OBDCommand('MAX_MAF', 'Maximum value for mass air flow sensor', b'0150', 6, raw_string, ecu=ECU.ENGINE, fast=True),\n",
       "   OBDCommand('FUEL_TYPE', 'Fuel Type', b'0151', 3, raw_string, ecu=ECU.ENGINE, fast=True),\n",
       "   OBDCommand('ETHANOL_PERCENT', 'Ethanol Fuel Percent', b'0152', 3, raw_string, ecu=ECU.ENGINE, fast=True),\n",
       "   OBDCommand('EVAP_VAPOR_PRESSURE_ABS', 'Absolute Evap system Vapor Pressure', b'0153', 4, raw_string, ecu=ECU.ENGINE, fast=True),\n",
       "   OBDCommand('EVAP_VAPOR_PRESSURE_ALT', 'Evap system vapor pressure', b'0154', 4, raw_string, ecu=ECU.ENGINE, fast=True),\n",
       "   OBDCommand('SHORT_O2_TRIM_B1', 'Short term secondary O2 trim - Bank 1', b'0155', 4, raw_string, ecu=ECU.ENGINE, fast=True),\n",
       "   OBDCommand('LONG_O2_TRIM_B1', 'Long term secondary O2 trim - Bank 1', b'0156', 4, raw_string, ecu=ECU.ENGINE, fast=True),\n",
       "   OBDCommand('SHORT_O2_TRIM_B2', 'Short term secondary O2 trim - Bank 2', b'0157', 4, raw_string, ecu=ECU.ENGINE, fast=True),\n",
       "   OBDCommand('LONG_O2_TRIM_B2', 'Long term secondary O2 trim - Bank 2', b'0158', 4, raw_string, ecu=ECU.ENGINE, fast=True),\n",
       "   OBDCommand('FUEL_RAIL_PRESSURE_ABS', 'Fuel rail pressure (absolute)', b'0159', 4, raw_string, ecu=ECU.ENGINE, fast=True),\n",
       "   OBDCommand('RELATIVE_ACCEL_POS', 'Relative accelerator pedal position', b'015A', 3, raw_string, ecu=ECU.ENGINE, fast=True),\n",
       "   OBDCommand('HYBRID_BATTERY_REMAINING', 'Hybrid battery pack remaining life', b'015B', 3, raw_string, ecu=ECU.ENGINE, fast=True),\n",
       "   OBDCommand('OIL_TEMP', 'Engine oil temperature', b'015C', 3, raw_string, ecu=ECU.ENGINE, fast=True),\n",
       "   OBDCommand('FUEL_INJECT_TIMING', 'Fuel injection timing', b'015D', 4, raw_string, ecu=ECU.ENGINE, fast=True),\n",
       "   OBDCommand('FUEL_RATE', 'Engine fuel rate', b'015E', 4, raw_string, ecu=ECU.ENGINE, fast=True),\n",
       "   OBDCommand('EMISSION_REQ', 'Designed emission requirements', b'015F', 3, raw_string, ecu=ECU.ENGINE, fast=True)],\n",
       "  [OBDCommand('DTC_PIDS_A', 'DTC Supported PIDs [01-20]', b'0200', 6, raw_string, ecu=ECU.ENGINE, fast=True),\n",
       "   OBDCommand('DTC_STATUS', 'DTC Status since DTCs cleared', b'0201', 6, raw_string, ecu=ECU.ENGINE, fast=True),\n",
       "   OBDCommand('DTC_FREEZE_DTC', 'DTC DTC that triggered the freeze frame', b'0202', 4, raw_string, ecu=ECU.ENGINE, fast=True),\n",
       "   OBDCommand('DTC_FUEL_STATUS', 'DTC Fuel System Status', b'0203', 4, raw_string, ecu=ECU.ENGINE, fast=True),\n",
       "   OBDCommand('DTC_ENGINE_LOAD', 'DTC Calculated Engine Load', b'0204', 3, raw_string, ecu=ECU.ENGINE, fast=True),\n",
       "   OBDCommand('DTC_COOLANT_TEMP', 'DTC Engine Coolant Temperature', b'0205', 3, raw_string, ecu=ECU.ENGINE, fast=True),\n",
       "   OBDCommand('DTC_SHORT_FUEL_TRIM_1', 'DTC Short Term Fuel Trim - Bank 1', b'0206', 3, raw_string, ecu=ECU.ENGINE, fast=True),\n",
       "   OBDCommand('DTC_LONG_FUEL_TRIM_1', 'DTC Long Term Fuel Trim - Bank 1', b'0207', 3, raw_string, ecu=ECU.ENGINE, fast=True),\n",
       "   OBDCommand('DTC_SHORT_FUEL_TRIM_2', 'DTC Short Term Fuel Trim - Bank 2', b'0208', 3, raw_string, ecu=ECU.ENGINE, fast=True),\n",
       "   OBDCommand('DTC_LONG_FUEL_TRIM_2', 'DTC Long Term Fuel Trim - Bank 2', b'0209', 3, raw_string, ecu=ECU.ENGINE, fast=True),\n",
       "   OBDCommand('DTC_FUEL_PRESSURE', 'DTC Fuel Pressure', b'020A', 3, raw_string, ecu=ECU.ENGINE, fast=True),\n",
       "   OBDCommand('DTC_INTAKE_PRESSURE', 'DTC Intake Manifold Pressure', b'020B', 3, raw_string, ecu=ECU.ENGINE, fast=True),\n",
       "   OBDCommand('DTC_RPM', 'DTC Engine RPM', b'020C', 4, raw_string, ecu=ECU.ENGINE, fast=True),\n",
       "   OBDCommand('DTC_SPEED', 'DTC Vehicle Speed', b'020D', 3, raw_string, ecu=ECU.ENGINE, fast=True),\n",
       "   OBDCommand('DTC_TIMING_ADVANCE', 'DTC Timing Advance', b'020E', 3, raw_string, ecu=ECU.ENGINE, fast=True),\n",
       "   OBDCommand('DTC_INTAKE_TEMP', 'DTC Intake Air Temp', b'020F', 3, raw_string, ecu=ECU.ENGINE, fast=True),\n",
       "   OBDCommand('DTC_MAF', 'DTC Air Flow Rate (MAF)', b'0210', 4, raw_string, ecu=ECU.ENGINE, fast=True),\n",
       "   OBDCommand('DTC_THROTTLE_POS', 'DTC Throttle Position', b'0211', 3, raw_string, ecu=ECU.ENGINE, fast=True),\n",
       "   OBDCommand('DTC_AIR_STATUS', 'DTC Secondary Air Status', b'0212', 3, raw_string, ecu=ECU.ENGINE, fast=True),\n",
       "   OBDCommand('DTC_O2_SENSORS', 'DTC O2 Sensors Present', b'0213', 3, raw_string, ecu=ECU.ENGINE, fast=True),\n",
       "   OBDCommand('DTC_O2_B1S1', 'DTC O2: Bank 1 - Sensor 1 Voltage', b'0214', 4, raw_string, ecu=ECU.ENGINE, fast=True),\n",
       "   OBDCommand('DTC_O2_B1S2', 'DTC O2: Bank 1 - Sensor 2 Voltage', b'0215', 4, raw_string, ecu=ECU.ENGINE, fast=True),\n",
       "   OBDCommand('DTC_O2_B1S3', 'DTC O2: Bank 1 - Sensor 3 Voltage', b'0216', 4, raw_string, ecu=ECU.ENGINE, fast=True),\n",
       "   OBDCommand('DTC_O2_B1S4', 'DTC O2: Bank 1 - Sensor 4 Voltage', b'0217', 4, raw_string, ecu=ECU.ENGINE, fast=True),\n",
       "   OBDCommand('DTC_O2_B2S1', 'DTC O2: Bank 2 - Sensor 1 Voltage', b'0218', 4, raw_string, ecu=ECU.ENGINE, fast=True),\n",
       "   OBDCommand('DTC_O2_B2S2', 'DTC O2: Bank 2 - Sensor 2 Voltage', b'0219', 4, raw_string, ecu=ECU.ENGINE, fast=True),\n",
       "   OBDCommand('DTC_O2_B2S3', 'DTC O2: Bank 2 - Sensor 3 Voltage', b'021A', 4, raw_string, ecu=ECU.ENGINE, fast=True),\n",
       "   OBDCommand('DTC_O2_B2S4', 'DTC O2: Bank 2 - Sensor 4 Voltage', b'021B', 4, raw_string, ecu=ECU.ENGINE, fast=True),\n",
       "   OBDCommand('DTC_OBD_COMPLIANCE', 'DTC OBD Standards Compliance', b'021C', 3, raw_string, ecu=ECU.ENGINE, fast=True),\n",
       "   OBDCommand('DTC_O2_SENSORS_ALT', 'DTC O2 Sensors Present (alternate)', b'021D', 3, raw_string, ecu=ECU.ENGINE, fast=True),\n",
       "   OBDCommand('DTC_AUX_INPUT_STATUS', 'DTC Auxiliary input status (power take off)', b'021E', 3, raw_string, ecu=ECU.ENGINE, fast=True),\n",
       "   OBDCommand('DTC_RUN_TIME', 'DTC Engine Run Time', b'021F', 4, raw_string, ecu=ECU.ENGINE, fast=True),\n",
       "   OBDCommand('DTC_PIDS_B', 'DTC Supported PIDs [21-40]', b'0220', 6, raw_string, ecu=ECU.ENGINE, fast=True),\n",
       "   OBDCommand('DTC_DISTANCE_W_MIL', 'DTC Distance Traveled with MIL on', b'0221', 4, raw_string, ecu=ECU.ENGINE, fast=True),\n",
       "   OBDCommand('DTC_FUEL_RAIL_PRESSURE_VAC', 'DTC Fuel Rail Pressure (relative to vacuum)', b'0222', 4, raw_string, ecu=ECU.ENGINE, fast=True),\n",
       "   OBDCommand('DTC_FUEL_RAIL_PRESSURE_DIRECT', 'DTC Fuel Rail Pressure (direct inject)', b'0223', 4, raw_string, ecu=ECU.ENGINE, fast=True),\n",
       "   OBDCommand('DTC_O2_S1_WR_VOLTAGE', 'DTC 02 Sensor 1 WR Lambda Voltage', b'0224', 6, raw_string, ecu=ECU.ENGINE, fast=True),\n",
       "   OBDCommand('DTC_O2_S2_WR_VOLTAGE', 'DTC 02 Sensor 2 WR Lambda Voltage', b'0225', 6, raw_string, ecu=ECU.ENGINE, fast=True),\n",
       "   OBDCommand('DTC_O2_S3_WR_VOLTAGE', 'DTC 02 Sensor 3 WR Lambda Voltage', b'0226', 6, raw_string, ecu=ECU.ENGINE, fast=True),\n",
       "   OBDCommand('DTC_O2_S4_WR_VOLTAGE', 'DTC 02 Sensor 4 WR Lambda Voltage', b'0227', 6, raw_string, ecu=ECU.ENGINE, fast=True),\n",
       "   OBDCommand('DTC_O2_S5_WR_VOLTAGE', 'DTC 02 Sensor 5 WR Lambda Voltage', b'0228', 6, raw_string, ecu=ECU.ENGINE, fast=True),\n",
       "   OBDCommand('DTC_O2_S6_WR_VOLTAGE', 'DTC 02 Sensor 6 WR Lambda Voltage', b'0229', 6, raw_string, ecu=ECU.ENGINE, fast=True),\n",
       "   OBDCommand('DTC_O2_S7_WR_VOLTAGE', 'DTC 02 Sensor 7 WR Lambda Voltage', b'022A', 6, raw_string, ecu=ECU.ENGINE, fast=True),\n",
       "   OBDCommand('DTC_O2_S8_WR_VOLTAGE', 'DTC 02 Sensor 8 WR Lambda Voltage', b'022B', 6, raw_string, ecu=ECU.ENGINE, fast=True),\n",
       "   OBDCommand('DTC_COMMANDED_EGR', 'DTC Commanded EGR', b'022C', 3, raw_string, ecu=ECU.ENGINE, fast=True),\n",
       "   OBDCommand('DTC_EGR_ERROR', 'DTC EGR Error', b'022D', 3, raw_string, ecu=ECU.ENGINE, fast=True),\n",
       "   OBDCommand('DTC_EVAPORATIVE_PURGE', 'DTC Commanded Evaporative Purge', b'022E', 3, raw_string, ecu=ECU.ENGINE, fast=True),\n",
       "   OBDCommand('DTC_FUEL_LEVEL', 'DTC Fuel Level Input', b'022F', 3, raw_string, ecu=ECU.ENGINE, fast=True),\n",
       "   OBDCommand('DTC_WARMUPS_SINCE_DTC_CLEAR', 'DTC Number of warm-ups since codes cleared', b'0230', 3, raw_string, ecu=ECU.ENGINE, fast=True),\n",
       "   OBDCommand('DTC_DISTANCE_SINCE_DTC_CLEAR', 'DTC Distance traveled since codes cleared', b'0231', 4, raw_string, ecu=ECU.ENGINE, fast=True),\n",
       "   OBDCommand('DTC_EVAP_VAPOR_PRESSURE', 'DTC Evaporative system vapor pressure', b'0232', 4, raw_string, ecu=ECU.ENGINE, fast=True),\n",
       "   OBDCommand('DTC_BAROMETRIC_PRESSURE', 'DTC Barometric Pressure', b'0233', 3, raw_string, ecu=ECU.ENGINE, fast=True),\n",
       "   OBDCommand('DTC_O2_S1_WR_CURRENT', 'DTC 02 Sensor 1 WR Lambda Current', b'0234', 6, raw_string, ecu=ECU.ENGINE, fast=True),\n",
       "   OBDCommand('DTC_O2_S2_WR_CURRENT', 'DTC 02 Sensor 2 WR Lambda Current', b'0235', 6, raw_string, ecu=ECU.ENGINE, fast=True),\n",
       "   OBDCommand('DTC_O2_S3_WR_CURRENT', 'DTC 02 Sensor 3 WR Lambda Current', b'0236', 6, raw_string, ecu=ECU.ENGINE, fast=True),\n",
       "   OBDCommand('DTC_O2_S4_WR_CURRENT', 'DTC 02 Sensor 4 WR Lambda Current', b'0237', 6, raw_string, ecu=ECU.ENGINE, fast=True),\n",
       "   OBDCommand('DTC_O2_S5_WR_CURRENT', 'DTC 02 Sensor 5 WR Lambda Current', b'0238', 6, raw_string, ecu=ECU.ENGINE, fast=True),\n",
       "   OBDCommand('DTC_O2_S6_WR_CURRENT', 'DTC 02 Sensor 6 WR Lambda Current', b'0239', 6, raw_string, ecu=ECU.ENGINE, fast=True),\n",
       "   OBDCommand('DTC_O2_S7_WR_CURRENT', 'DTC 02 Sensor 7 WR Lambda Current', b'023A', 6, raw_string, ecu=ECU.ENGINE, fast=True),\n",
       "   OBDCommand('DTC_O2_S8_WR_CURRENT', 'DTC 02 Sensor 8 WR Lambda Current', b'023B', 6, raw_string, ecu=ECU.ENGINE, fast=True),\n",
       "   OBDCommand('DTC_CATALYST_TEMP_B1S1', 'DTC Catalyst Temperature: Bank 1 - Sensor 1', b'023C', 4, raw_string, ecu=ECU.ENGINE, fast=True),\n",
       "   OBDCommand('DTC_CATALYST_TEMP_B2S1', 'DTC Catalyst Temperature: Bank 2 - Sensor 1', b'023D', 4, raw_string, ecu=ECU.ENGINE, fast=True),\n",
       "   OBDCommand('DTC_CATALYST_TEMP_B1S2', 'DTC Catalyst Temperature: Bank 1 - Sensor 2', b'023E', 4, raw_string, ecu=ECU.ENGINE, fast=True),\n",
       "   OBDCommand('DTC_CATALYST_TEMP_B2S2', 'DTC Catalyst Temperature: Bank 2 - Sensor 2', b'023F', 4, raw_string, ecu=ECU.ENGINE, fast=True),\n",
       "   OBDCommand('DTC_PIDS_C', 'DTC Supported PIDs [41-60]', b'0240', 6, raw_string, ecu=ECU.ENGINE, fast=True),\n",
       "   OBDCommand('DTC_STATUS_DRIVE_CYCLE', 'DTC Monitor status this drive cycle', b'0241', 6, raw_string, ecu=ECU.ENGINE, fast=True),\n",
       "   OBDCommand('DTC_CONTROL_MODULE_VOLTAGE', 'DTC Control module voltage', b'0242', 4, raw_string, ecu=ECU.ENGINE, fast=True),\n",
       "   OBDCommand('DTC_ABSOLUTE_LOAD', 'DTC Absolute load value', b'0243', 4, raw_string, ecu=ECU.ENGINE, fast=True),\n",
       "   OBDCommand('DTC_COMMANDED_EQUIV_RATIO', 'DTC Commanded equivalence ratio', b'0244', 4, raw_string, ecu=ECU.ENGINE, fast=True),\n",
       "   OBDCommand('DTC_RELATIVE_THROTTLE_POS', 'DTC Relative throttle position', b'0245', 3, raw_string, ecu=ECU.ENGINE, fast=True),\n",
       "   OBDCommand('DTC_AMBIANT_AIR_TEMP', 'DTC Ambient air temperature', b'0246', 3, raw_string, ecu=ECU.ENGINE, fast=True),\n",
       "   OBDCommand('DTC_THROTTLE_POS_B', 'DTC Absolute throttle position B', b'0247', 3, raw_string, ecu=ECU.ENGINE, fast=True),\n",
       "   OBDCommand('DTC_THROTTLE_POS_C', 'DTC Absolute throttle position C', b'0248', 3, raw_string, ecu=ECU.ENGINE, fast=True),\n",
       "   OBDCommand('DTC_ACCELERATOR_POS_D', 'DTC Accelerator pedal position D', b'0249', 3, raw_string, ecu=ECU.ENGINE, fast=True),\n",
       "   OBDCommand('DTC_ACCELERATOR_POS_E', 'DTC Accelerator pedal position E', b'024A', 3, raw_string, ecu=ECU.ENGINE, fast=True),\n",
       "   OBDCommand('DTC_ACCELERATOR_POS_F', 'DTC Accelerator pedal position F', b'024B', 3, raw_string, ecu=ECU.ENGINE, fast=True),\n",
       "   OBDCommand('DTC_THROTTLE_ACTUATOR', 'DTC Commanded throttle actuator', b'024C', 3, raw_string, ecu=ECU.ENGINE, fast=True),\n",
       "   OBDCommand('DTC_RUN_TIME_MIL', 'DTC Time run with MIL on', b'024D', 4, raw_string, ecu=ECU.ENGINE, fast=True),\n",
       "   OBDCommand('DTC_TIME_SINCE_DTC_CLEARED', 'DTC Time since trouble codes cleared', b'024E', 4, raw_string, ecu=ECU.ENGINE, fast=True),\n",
       "   OBDCommand('DTC_MAX_VALUES', 'DTC Various Max values', b'024F', 6, raw_string, ecu=ECU.ENGINE, fast=True),\n",
       "   OBDCommand('DTC_MAX_MAF', 'DTC Maximum value for mass air flow sensor', b'0250', 6, raw_string, ecu=ECU.ENGINE, fast=True),\n",
       "   OBDCommand('DTC_FUEL_TYPE', 'DTC Fuel Type', b'0251', 3, raw_string, ecu=ECU.ENGINE, fast=True),\n",
       "   OBDCommand('DTC_ETHANOL_PERCENT', 'DTC Ethanol Fuel Percent', b'0252', 3, raw_string, ecu=ECU.ENGINE, fast=True),\n",
       "   OBDCommand('DTC_EVAP_VAPOR_PRESSURE_ABS', 'DTC Absolute Evap system Vapor Pressure', b'0253', 4, raw_string, ecu=ECU.ENGINE, fast=True),\n",
       "   OBDCommand('DTC_EVAP_VAPOR_PRESSURE_ALT', 'DTC Evap system vapor pressure', b'0254', 4, raw_string, ecu=ECU.ENGINE, fast=True),\n",
       "   OBDCommand('DTC_SHORT_O2_TRIM_B1', 'DTC Short term secondary O2 trim - Bank 1', b'0255', 4, raw_string, ecu=ECU.ENGINE, fast=True),\n",
       "   OBDCommand('DTC_LONG_O2_TRIM_B1', 'DTC Long term secondary O2 trim - Bank 1', b'0256', 4, raw_string, ecu=ECU.ENGINE, fast=True),\n",
       "   OBDCommand('DTC_SHORT_O2_TRIM_B2', 'DTC Short term secondary O2 trim - Bank 2', b'0257', 4, raw_string, ecu=ECU.ENGINE, fast=True),\n",
       "   OBDCommand('DTC_LONG_O2_TRIM_B2', 'DTC Long term secondary O2 trim - Bank 2', b'0258', 4, raw_string, ecu=ECU.ENGINE, fast=True),\n",
       "   OBDCommand('DTC_FUEL_RAIL_PRESSURE_ABS', 'DTC Fuel rail pressure (absolute)', b'0259', 4, raw_string, ecu=ECU.ENGINE, fast=True),\n",
       "   OBDCommand('DTC_RELATIVE_ACCEL_POS', 'DTC Relative accelerator pedal position', b'025A', 3, raw_string, ecu=ECU.ENGINE, fast=True),\n",
       "   OBDCommand('DTC_HYBRID_BATTERY_REMAINING', 'DTC Hybrid battery pack remaining life', b'025B', 3, raw_string, ecu=ECU.ENGINE, fast=True),\n",
       "   OBDCommand('DTC_OIL_TEMP', 'DTC Engine oil temperature', b'025C', 3, raw_string, ecu=ECU.ENGINE, fast=True),\n",
       "   OBDCommand('DTC_FUEL_INJECT_TIMING', 'DTC Fuel injection timing', b'025D', 4, raw_string, ecu=ECU.ENGINE, fast=True),\n",
       "   OBDCommand('DTC_FUEL_RATE', 'DTC Engine fuel rate', b'025E', 4, raw_string, ecu=ECU.ENGINE, fast=True),\n",
       "   OBDCommand('DTC_EMISSION_REQ', 'DTC Designed emission requirements', b'025F', 3, raw_string, ecu=ECU.ENGINE, fast=True)],\n",
       "  [OBDCommand('GET_DTC', 'Get DTCs', b'03', 0, raw_string, ecu=ECU.ALL, fast=False)],\n",
       "  [OBDCommand('CLEAR_DTC', 'Clear DTCs and Freeze data', b'04', 0, raw_string, ecu=ECU.ALL, fast=False)],\n",
       "  [],\n",
       "  [OBDCommand('MIDS_A', 'Supported MIDs [01-20]', b'0600', 0, raw_string, ecu=ECU.ALL, fast=False),\n",
       "   OBDCommand('MONITOR_O2_B1S1', 'O2 Sensor Monitor Bank 1 - Sensor 1', b'0601', 0, raw_string, ecu=ECU.ALL, fast=False),\n",
       "   OBDCommand('MONITOR_O2_B1S2', 'O2 Sensor Monitor Bank 1 - Sensor 2', b'0602', 0, raw_string, ecu=ECU.ALL, fast=False),\n",
       "   OBDCommand('MONITOR_O2_B1S3', 'O2 Sensor Monitor Bank 1 - Sensor 3', b'0603', 0, raw_string, ecu=ECU.ALL, fast=False),\n",
       "   OBDCommand('MONITOR_O2_B1S4', 'O2 Sensor Monitor Bank 1 - Sensor 4', b'0604', 0, raw_string, ecu=ECU.ALL, fast=False),\n",
       "   OBDCommand('MONITOR_O2_B2S1', 'O2 Sensor Monitor Bank 2 - Sensor 1', b'0605', 0, raw_string, ecu=ECU.ALL, fast=False),\n",
       "   OBDCommand('MONITOR_O2_B2S2', 'O2 Sensor Monitor Bank 2 - Sensor 2', b'0606', 0, raw_string, ecu=ECU.ALL, fast=False),\n",
       "   OBDCommand('MONITOR_O2_B2S3', 'O2 Sensor Monitor Bank 2 - Sensor 3', b'0607', 0, raw_string, ecu=ECU.ALL, fast=False),\n",
       "   OBDCommand('MONITOR_O2_B2S4', 'O2 Sensor Monitor Bank 2 - Sensor 4', b'0608', 0, raw_string, ecu=ECU.ALL, fast=False),\n",
       "   OBDCommand('MONITOR_O2_B3S1', 'O2 Sensor Monitor Bank 3 - Sensor 1', b'0609', 0, raw_string, ecu=ECU.ALL, fast=False),\n",
       "   OBDCommand('MONITOR_O2_B3S2', 'O2 Sensor Monitor Bank 3 - Sensor 2', b'060A', 0, raw_string, ecu=ECU.ALL, fast=False),\n",
       "   OBDCommand('MONITOR_O2_B3S3', 'O2 Sensor Monitor Bank 3 - Sensor 3', b'060B', 0, raw_string, ecu=ECU.ALL, fast=False),\n",
       "   OBDCommand('MONITOR_O2_B3S4', 'O2 Sensor Monitor Bank 3 - Sensor 4', b'060C', 0, raw_string, ecu=ECU.ALL, fast=False),\n",
       "   OBDCommand('MONITOR_O2_B4S1', 'O2 Sensor Monitor Bank 4 - Sensor 1', b'060D', 0, raw_string, ecu=ECU.ALL, fast=False),\n",
       "   OBDCommand('MONITOR_O2_B4S2', 'O2 Sensor Monitor Bank 4 - Sensor 2', b'060E', 0, raw_string, ecu=ECU.ALL, fast=False),\n",
       "   OBDCommand('MONITOR_O2_B4S3', 'O2 Sensor Monitor Bank 4 - Sensor 3', b'060F', 0, raw_string, ecu=ECU.ALL, fast=False),\n",
       "   OBDCommand('MONITOR_O2_B4S4', 'O2 Sensor Monitor Bank 4 - Sensor 4', b'0610', 0, raw_string, ecu=ECU.ALL, fast=False),\n",
       "   None,\n",
       "   None,\n",
       "   None,\n",
       "   None,\n",
       "   None,\n",
       "   None,\n",
       "   None,\n",
       "   None,\n",
       "   None,\n",
       "   None,\n",
       "   None,\n",
       "   None,\n",
       "   None,\n",
       "   None,\n",
       "   None,\n",
       "   OBDCommand('MIDS_B', 'Supported MIDs [21-40]', b'0620', 0, raw_string, ecu=ECU.ALL, fast=False),\n",
       "   OBDCommand('MONITOR_CATALYST_B1', 'Catalyst Monitor Bank 1', b'0621', 0, raw_string, ecu=ECU.ALL, fast=False),\n",
       "   OBDCommand('MONITOR_CATALYST_B2', 'Catalyst Monitor Bank 2', b'0622', 0, raw_string, ecu=ECU.ALL, fast=False),\n",
       "   OBDCommand('MONITOR_CATALYST_B3', 'Catalyst Monitor Bank 3', b'0623', 0, raw_string, ecu=ECU.ALL, fast=False),\n",
       "   OBDCommand('MONITOR_CATALYST_B4', 'Catalyst Monitor Bank 4', b'0624', 0, raw_string, ecu=ECU.ALL, fast=False),\n",
       "   None,\n",
       "   None,\n",
       "   None,\n",
       "   None,\n",
       "   None,\n",
       "   None,\n",
       "   None,\n",
       "   None,\n",
       "   None,\n",
       "   None,\n",
       "   None,\n",
       "   None,\n",
       "   OBDCommand('MONITOR_EGR_B1', 'EGR Monitor Bank 1', b'0631', 0, raw_string, ecu=ECU.ALL, fast=False),\n",
       "   OBDCommand('MONITOR_EGR_B2', 'EGR Monitor Bank 2', b'0632', 0, raw_string, ecu=ECU.ALL, fast=False),\n",
       "   OBDCommand('MONITOR_EGR_B3', 'EGR Monitor Bank 3', b'0633', 0, raw_string, ecu=ECU.ALL, fast=False),\n",
       "   OBDCommand('MONITOR_EGR_B4', 'EGR Monitor Bank 4', b'0634', 0, raw_string, ecu=ECU.ALL, fast=False),\n",
       "   OBDCommand('MONITOR_VVT_B1', 'VVT Monitor Bank 1', b'0635', 0, raw_string, ecu=ECU.ALL, fast=False),\n",
       "   OBDCommand('MONITOR_VVT_B2', 'VVT Monitor Bank 2', b'0636', 0, raw_string, ecu=ECU.ALL, fast=False),\n",
       "   OBDCommand('MONITOR_VVT_B3', 'VVT Monitor Bank 3', b'0637', 0, raw_string, ecu=ECU.ALL, fast=False),\n",
       "   OBDCommand('MONITOR_VVT_B4', 'VVT Monitor Bank 4', b'0638', 0, raw_string, ecu=ECU.ALL, fast=False),\n",
       "   OBDCommand('MONITOR_EVAP_150', 'EVAP Monitor (Cap Off / 0.150\")', b'0639', 0, raw_string, ecu=ECU.ALL, fast=False),\n",
       "   OBDCommand('MONITOR_EVAP_090', 'EVAP Monitor (0.090\")', b'063A', 0, raw_string, ecu=ECU.ALL, fast=False),\n",
       "   OBDCommand('MONITOR_EVAP_040', 'EVAP Monitor (0.040\")', b'063B', 0, raw_string, ecu=ECU.ALL, fast=False),\n",
       "   OBDCommand('MONITOR_EVAP_020', 'EVAP Monitor (0.020\")', b'063C', 0, raw_string, ecu=ECU.ALL, fast=False),\n",
       "   OBDCommand('MONITOR_PURGE_FLOW', 'Purge Flow Monitor', b'063D', 0, raw_string, ecu=ECU.ALL, fast=False),\n",
       "   None,\n",
       "   None,\n",
       "   OBDCommand('MIDS_C', 'Supported MIDs [41-60]', b'0640', 0, raw_string, ecu=ECU.ALL, fast=False),\n",
       "   OBDCommand('MONITOR_O2_HEATER_B1S1', 'O2 Sensor Heater Monitor Bank 1 - Sensor 1', b'0641', 0, raw_string, ecu=ECU.ALL, fast=False),\n",
       "   OBDCommand('MONITOR_O2_HEATER_B1S2', 'O2 Sensor Heater Monitor Bank 1 - Sensor 2', b'0642', 0, raw_string, ecu=ECU.ALL, fast=False),\n",
       "   OBDCommand('MONITOR_O2_HEATER_B1S3', 'O2 Sensor Heater Monitor Bank 1 - Sensor 3', b'0643', 0, raw_string, ecu=ECU.ALL, fast=False),\n",
       "   OBDCommand('MONITOR_O2_HEATER_B1S4', 'O2 Sensor Heater Monitor Bank 1 - Sensor 4', b'0644', 0, raw_string, ecu=ECU.ALL, fast=False),\n",
       "   OBDCommand('MONITOR_O2_HEATER_B2S1', 'O2 Sensor Heater Monitor Bank 2 - Sensor 1', b'0645', 0, raw_string, ecu=ECU.ALL, fast=False),\n",
       "   OBDCommand('MONITOR_O2_HEATER_B2S2', 'O2 Sensor Heater Monitor Bank 2 - Sensor 2', b'0646', 0, raw_string, ecu=ECU.ALL, fast=False),\n",
       "   OBDCommand('MONITOR_O2_HEATER_B2S3', 'O2 Sensor Heater Monitor Bank 2 - Sensor 3', b'0647', 0, raw_string, ecu=ECU.ALL, fast=False),\n",
       "   OBDCommand('MONITOR_O2_HEATER_B2S4', 'O2 Sensor Heater Monitor Bank 2 - Sensor 4', b'0648', 0, raw_string, ecu=ECU.ALL, fast=False),\n",
       "   OBDCommand('MONITOR_O2_HEATER_B3S1', 'O2 Sensor Heater Monitor Bank 3 - Sensor 1', b'0649', 0, raw_string, ecu=ECU.ALL, fast=False),\n",
       "   OBDCommand('MONITOR_O2_HEATER_B3S2', 'O2 Sensor Heater Monitor Bank 3 - Sensor 2', b'064A', 0, raw_string, ecu=ECU.ALL, fast=False),\n",
       "   OBDCommand('MONITOR_O2_HEATER_B3S3', 'O2 Sensor Heater Monitor Bank 3 - Sensor 3', b'064B', 0, raw_string, ecu=ECU.ALL, fast=False),\n",
       "   OBDCommand('MONITOR_O2_HEATER_B3S4', 'O2 Sensor Heater Monitor Bank 3 - Sensor 4', b'064C', 0, raw_string, ecu=ECU.ALL, fast=False),\n",
       "   OBDCommand('MONITOR_O2_HEATER_B4S1', 'O2 Sensor Heater Monitor Bank 4 - Sensor 1', b'064D', 0, raw_string, ecu=ECU.ALL, fast=False),\n",
       "   OBDCommand('MONITOR_O2_HEATER_B4S2', 'O2 Sensor Heater Monitor Bank 4 - Sensor 2', b'064E', 0, raw_string, ecu=ECU.ALL, fast=False),\n",
       "   OBDCommand('MONITOR_O2_HEATER_B4S3', 'O2 Sensor Heater Monitor Bank 4 - Sensor 3', b'064F', 0, raw_string, ecu=ECU.ALL, fast=False),\n",
       "   OBDCommand('MONITOR_O2_HEATER_B4S4', 'O2 Sensor Heater Monitor Bank 4 - Sensor 4', b'0650', 0, raw_string, ecu=ECU.ALL, fast=False),\n",
       "   None,\n",
       "   None,\n",
       "   None,\n",
       "   None,\n",
       "   None,\n",
       "   None,\n",
       "   None,\n",
       "   None,\n",
       "   None,\n",
       "   None,\n",
       "   None,\n",
       "   None,\n",
       "   None,\n",
       "   None,\n",
       "   None,\n",
       "   OBDCommand('MIDS_D', 'Supported MIDs [61-80]', b'0660', 0, raw_string, ecu=ECU.ALL, fast=False),\n",
       "   OBDCommand('MONITOR_HEATED_CATALYST_B1', 'Heated Catalyst Monitor Bank 1', b'0661', 0, raw_string, ecu=ECU.ALL, fast=False),\n",
       "   OBDCommand('MONITOR_HEATED_CATALYST_B2', 'Heated Catalyst Monitor Bank 2', b'0662', 0, raw_string, ecu=ECU.ALL, fast=False),\n",
       "   OBDCommand('MONITOR_HEATED_CATALYST_B3', 'Heated Catalyst Monitor Bank 3', b'0663', 0, raw_string, ecu=ECU.ALL, fast=False),\n",
       "   OBDCommand('MONITOR_HEATED_CATALYST_B4', 'Heated Catalyst Monitor Bank 4', b'0664', 0, raw_string, ecu=ECU.ALL, fast=False),\n",
       "   None,\n",
       "   None,\n",
       "   None,\n",
       "   None,\n",
       "   None,\n",
       "   None,\n",
       "   None,\n",
       "   None,\n",
       "   None,\n",
       "   None,\n",
       "   None,\n",
       "   None,\n",
       "   OBDCommand('MONITOR_SECONDARY_AIR_1', 'Secondary Air Monitor 1', b'0671', 0, raw_string, ecu=ECU.ALL, fast=False),\n",
       "   OBDCommand('MONITOR_SECONDARY_AIR_2', 'Secondary Air Monitor 2', b'0672', 0, raw_string, ecu=ECU.ALL, fast=False),\n",
       "   OBDCommand('MONITOR_SECONDARY_AIR_3', 'Secondary Air Monitor 3', b'0673', 0, raw_string, ecu=ECU.ALL, fast=False),\n",
       "   OBDCommand('MONITOR_SECONDARY_AIR_4', 'Secondary Air Monitor 4', b'0674', 0, raw_string, ecu=ECU.ALL, fast=False),\n",
       "   None,\n",
       "   None,\n",
       "   None,\n",
       "   None,\n",
       "   None,\n",
       "   None,\n",
       "   None,\n",
       "   None,\n",
       "   None,\n",
       "   None,\n",
       "   None,\n",
       "   OBDCommand('MIDS_E', 'Supported MIDs [81-A0]', b'0680', 0, raw_string, ecu=ECU.ALL, fast=False),\n",
       "   OBDCommand('MONITOR_FUEL_SYSTEM_B1', 'Fuel System Monitor Bank 1', b'0681', 0, raw_string, ecu=ECU.ALL, fast=False),\n",
       "   OBDCommand('MONITOR_FUEL_SYSTEM_B2', 'Fuel System Monitor Bank 2', b'0682', 0, raw_string, ecu=ECU.ALL, fast=False),\n",
       "   OBDCommand('MONITOR_FUEL_SYSTEM_B3', 'Fuel System Monitor Bank 3', b'0683', 0, raw_string, ecu=ECU.ALL, fast=False),\n",
       "   OBDCommand('MONITOR_FUEL_SYSTEM_B4', 'Fuel System Monitor Bank 4', b'0684', 0, raw_string, ecu=ECU.ALL, fast=False),\n",
       "   OBDCommand('MONITOR_BOOST_PRESSURE_B1', 'Boost Pressure Control Monitor Bank 1', b'0685', 0, raw_string, ecu=ECU.ALL, fast=False),\n",
       "   OBDCommand('MONITOR_BOOST_PRESSURE_B2', 'Boost Pressure Control Monitor Bank 1', b'0686', 0, raw_string, ecu=ECU.ALL, fast=False),\n",
       "   None,\n",
       "   None,\n",
       "   None,\n",
       "   None,\n",
       "   None,\n",
       "   None,\n",
       "   None,\n",
       "   None,\n",
       "   None,\n",
       "   OBDCommand('MONITOR_NOX_ABSORBER_B1', 'NOx Absorber Monitor Bank 1', b'0690', 0, raw_string, ecu=ECU.ALL, fast=False),\n",
       "   OBDCommand('MONITOR_NOX_ABSORBER_B2', 'NOx Absorber Monitor Bank 2', b'0691', 0, raw_string, ecu=ECU.ALL, fast=False),\n",
       "   None,\n",
       "   None,\n",
       "   None,\n",
       "   None,\n",
       "   None,\n",
       "   None,\n",
       "   OBDCommand('MONITOR_NOX_CATALYST_B1', 'NOx Catalyst Monitor Bank 1', b'0698', 0, raw_string, ecu=ECU.ALL, fast=False),\n",
       "   OBDCommand('MONITOR_NOX_CATALYST_B2', 'NOx Catalyst Monitor Bank 2', b'0699', 0, raw_string, ecu=ECU.ALL, fast=False),\n",
       "   None,\n",
       "   None,\n",
       "   None,\n",
       "   None,\n",
       "   None,\n",
       "   None,\n",
       "   OBDCommand('MIDS_F', 'Supported MIDs [A1-C0]', b'06A0', 0, raw_string, ecu=ECU.ALL, fast=False),\n",
       "   OBDCommand('MONITOR_MISFIRE_GENERAL', 'Misfire Monitor General Data', b'06A1', 0, raw_string, ecu=ECU.ALL, fast=False),\n",
       "   OBDCommand('MONITOR_MISFIRE_CYLINDER_1', 'Misfire Cylinder 1 Data', b'06A2', 0, raw_string, ecu=ECU.ALL, fast=False),\n",
       "   OBDCommand('MONITOR_MISFIRE_CYLINDER_2', 'Misfire Cylinder 2 Data', b'06A3', 0, raw_string, ecu=ECU.ALL, fast=False),\n",
       "   OBDCommand('MONITOR_MISFIRE_CYLINDER_3', 'Misfire Cylinder 3 Data', b'06A4', 0, raw_string, ecu=ECU.ALL, fast=False),\n",
       "   OBDCommand('MONITOR_MISFIRE_CYLINDER_4', 'Misfire Cylinder 4 Data', b'06A5', 0, raw_string, ecu=ECU.ALL, fast=False),\n",
       "   OBDCommand('MONITOR_MISFIRE_CYLINDER_5', 'Misfire Cylinder 5 Data', b'06A6', 0, raw_string, ecu=ECU.ALL, fast=False),\n",
       "   OBDCommand('MONITOR_MISFIRE_CYLINDER_6', 'Misfire Cylinder 6 Data', b'06A7', 0, raw_string, ecu=ECU.ALL, fast=False),\n",
       "   OBDCommand('MONITOR_MISFIRE_CYLINDER_7', 'Misfire Cylinder 7 Data', b'06A8', 0, raw_string, ecu=ECU.ALL, fast=False),\n",
       "   OBDCommand('MONITOR_MISFIRE_CYLINDER_8', 'Misfire Cylinder 8 Data', b'06A9', 0, raw_string, ecu=ECU.ALL, fast=False),\n",
       "   OBDCommand('MONITOR_MISFIRE_CYLINDER_9', 'Misfire Cylinder 9 Data', b'06AA', 0, raw_string, ecu=ECU.ALL, fast=False),\n",
       "   OBDCommand('MONITOR_MISFIRE_CYLINDER_10', 'Misfire Cylinder 10 Data', b'06AB', 0, raw_string, ecu=ECU.ALL, fast=False),\n",
       "   OBDCommand('MONITOR_MISFIRE_CYLINDER_11', 'Misfire Cylinder 11 Data', b'06AC', 0, raw_string, ecu=ECU.ALL, fast=False),\n",
       "   OBDCommand('MONITOR_MISFIRE_CYLINDER_12', 'Misfire Cylinder 12 Data', b'06AD', 0, raw_string, ecu=ECU.ALL, fast=False),\n",
       "   None,\n",
       "   None,\n",
       "   OBDCommand('MONITOR_PM_FILTER_B1', 'PM Filter Monitor Bank 1', b'06B0', 0, raw_string, ecu=ECU.ALL, fast=False),\n",
       "   OBDCommand('MONITOR_PM_FILTER_B2', 'PM Filter Monitor Bank 2', b'06B1', 0, raw_string, ecu=ECU.ALL, fast=False)],\n",
       "  [OBDCommand('GET_CURRENT_DTC', 'Get DTCs from the current/last driving cycle', b'07', 0, raw_string, ecu=ECU.ALL, fast=False)],\n",
       "  []],\n",
       " 'PIDS_A': OBDCommand('PIDS_A', 'Supported PIDs [01-20]', b'0100', 6, raw_string, ecu=ECU.ENGINE, fast=True),\n",
       " 'STATUS': OBDCommand('STATUS', 'Status since DTCs cleared', b'0101', 6, raw_string, ecu=ECU.ENGINE, fast=True),\n",
       " 'FREEZE_DTC': OBDCommand('FREEZE_DTC', 'DTC that triggered the freeze frame', b'0102', 4, raw_string, ecu=ECU.ENGINE, fast=True),\n",
       " 'FUEL_STATUS': OBDCommand('FUEL_STATUS', 'Fuel System Status', b'0103', 4, raw_string, ecu=ECU.ENGINE, fast=True),\n",
       " 'ENGINE_LOAD': OBDCommand('ENGINE_LOAD', 'Calculated Engine Load', b'0104', 3, raw_string, ecu=ECU.ENGINE, fast=True),\n",
       " 'COOLANT_TEMP': OBDCommand('COOLANT_TEMP', 'Engine Coolant Temperature', b'0105', 3, raw_string, ecu=ECU.ENGINE, fast=True),\n",
       " 'SHORT_FUEL_TRIM_1': OBDCommand('SHORT_FUEL_TRIM_1', 'Short Term Fuel Trim - Bank 1', b'0106', 3, raw_string, ecu=ECU.ENGINE, fast=True),\n",
       " 'LONG_FUEL_TRIM_1': OBDCommand('LONG_FUEL_TRIM_1', 'Long Term Fuel Trim - Bank 1', b'0107', 3, raw_string, ecu=ECU.ENGINE, fast=True),\n",
       " 'SHORT_FUEL_TRIM_2': OBDCommand('SHORT_FUEL_TRIM_2', 'Short Term Fuel Trim - Bank 2', b'0108', 3, raw_string, ecu=ECU.ENGINE, fast=True),\n",
       " 'LONG_FUEL_TRIM_2': OBDCommand('LONG_FUEL_TRIM_2', 'Long Term Fuel Trim - Bank 2', b'0109', 3, raw_string, ecu=ECU.ENGINE, fast=True),\n",
       " 'FUEL_PRESSURE': OBDCommand('FUEL_PRESSURE', 'Fuel Pressure', b'010A', 3, raw_string, ecu=ECU.ENGINE, fast=True),\n",
       " 'INTAKE_PRESSURE': OBDCommand('INTAKE_PRESSURE', 'Intake Manifold Pressure', b'010B', 3, raw_string, ecu=ECU.ENGINE, fast=True),\n",
       " 'RPM': OBDCommand('RPM', 'Engine RPM', b'010C', 4, raw_string, ecu=ECU.ENGINE, fast=True),\n",
       " 'SPEED': OBDCommand('SPEED', 'Vehicle Speed', b'010D', 3, raw_string, ecu=ECU.ENGINE, fast=True),\n",
       " 'TIMING_ADVANCE': OBDCommand('TIMING_ADVANCE', 'Timing Advance', b'010E', 3, raw_string, ecu=ECU.ENGINE, fast=True),\n",
       " 'INTAKE_TEMP': OBDCommand('INTAKE_TEMP', 'Intake Air Temp', b'010F', 3, raw_string, ecu=ECU.ENGINE, fast=True),\n",
       " 'MAF': OBDCommand('MAF', 'Air Flow Rate (MAF)', b'0110', 4, raw_string, ecu=ECU.ENGINE, fast=True),\n",
       " 'THROTTLE_POS': OBDCommand('THROTTLE_POS', 'Throttle Position', b'0111', 3, raw_string, ecu=ECU.ENGINE, fast=True),\n",
       " 'AIR_STATUS': OBDCommand('AIR_STATUS', 'Secondary Air Status', b'0112', 3, raw_string, ecu=ECU.ENGINE, fast=True),\n",
       " 'O2_SENSORS': OBDCommand('O2_SENSORS', 'O2 Sensors Present', b'0113', 3, raw_string, ecu=ECU.ENGINE, fast=True),\n",
       " 'O2_B1S1': OBDCommand('O2_B1S1', 'O2: Bank 1 - Sensor 1 Voltage', b'0114', 4, raw_string, ecu=ECU.ENGINE, fast=True),\n",
       " 'O2_B1S2': OBDCommand('O2_B1S2', 'O2: Bank 1 - Sensor 2 Voltage', b'0115', 4, raw_string, ecu=ECU.ENGINE, fast=True),\n",
       " 'O2_B1S3': OBDCommand('O2_B1S3', 'O2: Bank 1 - Sensor 3 Voltage', b'0116', 4, raw_string, ecu=ECU.ENGINE, fast=True),\n",
       " 'O2_B1S4': OBDCommand('O2_B1S4', 'O2: Bank 1 - Sensor 4 Voltage', b'0117', 4, raw_string, ecu=ECU.ENGINE, fast=True),\n",
       " 'O2_B2S1': OBDCommand('O2_B2S1', 'O2: Bank 2 - Sensor 1 Voltage', b'0118', 4, raw_string, ecu=ECU.ENGINE, fast=True),\n",
       " 'O2_B2S2': OBDCommand('O2_B2S2', 'O2: Bank 2 - Sensor 2 Voltage', b'0119', 4, raw_string, ecu=ECU.ENGINE, fast=True),\n",
       " 'O2_B2S3': OBDCommand('O2_B2S3', 'O2: Bank 2 - Sensor 3 Voltage', b'011A', 4, raw_string, ecu=ECU.ENGINE, fast=True),\n",
       " 'O2_B2S4': OBDCommand('O2_B2S4', 'O2: Bank 2 - Sensor 4 Voltage', b'011B', 4, raw_string, ecu=ECU.ENGINE, fast=True),\n",
       " 'OBD_COMPLIANCE': OBDCommand('OBD_COMPLIANCE', 'OBD Standards Compliance', b'011C', 3, raw_string, ecu=ECU.ENGINE, fast=True),\n",
       " 'O2_SENSORS_ALT': OBDCommand('O2_SENSORS_ALT', 'O2 Sensors Present (alternate)', b'011D', 3, raw_string, ecu=ECU.ENGINE, fast=True),\n",
       " 'AUX_INPUT_STATUS': OBDCommand('AUX_INPUT_STATUS', 'Auxiliary input status (power take off)', b'011E', 3, raw_string, ecu=ECU.ENGINE, fast=True),\n",
       " 'RUN_TIME': OBDCommand('RUN_TIME', 'Engine Run Time', b'011F', 4, raw_string, ecu=ECU.ENGINE, fast=True),\n",
       " 'PIDS_B': OBDCommand('PIDS_B', 'Supported PIDs [21-40]', b'0120', 6, raw_string, ecu=ECU.ENGINE, fast=True),\n",
       " 'DISTANCE_W_MIL': OBDCommand('DISTANCE_W_MIL', 'Distance Traveled with MIL on', b'0121', 4, raw_string, ecu=ECU.ENGINE, fast=True),\n",
       " 'FUEL_RAIL_PRESSURE_VAC': OBDCommand('FUEL_RAIL_PRESSURE_VAC', 'Fuel Rail Pressure (relative to vacuum)', b'0122', 4, raw_string, ecu=ECU.ENGINE, fast=True),\n",
       " 'FUEL_RAIL_PRESSURE_DIRECT': OBDCommand('FUEL_RAIL_PRESSURE_DIRECT', 'Fuel Rail Pressure (direct inject)', b'0123', 4, raw_string, ecu=ECU.ENGINE, fast=True),\n",
       " 'O2_S1_WR_VOLTAGE': OBDCommand('O2_S1_WR_VOLTAGE', '02 Sensor 1 WR Lambda Voltage', b'0124', 6, raw_string, ecu=ECU.ENGINE, fast=True),\n",
       " 'O2_S2_WR_VOLTAGE': OBDCommand('O2_S2_WR_VOLTAGE', '02 Sensor 2 WR Lambda Voltage', b'0125', 6, raw_string, ecu=ECU.ENGINE, fast=True),\n",
       " 'O2_S3_WR_VOLTAGE': OBDCommand('O2_S3_WR_VOLTAGE', '02 Sensor 3 WR Lambda Voltage', b'0126', 6, raw_string, ecu=ECU.ENGINE, fast=True),\n",
       " 'O2_S4_WR_VOLTAGE': OBDCommand('O2_S4_WR_VOLTAGE', '02 Sensor 4 WR Lambda Voltage', b'0127', 6, raw_string, ecu=ECU.ENGINE, fast=True),\n",
       " 'O2_S5_WR_VOLTAGE': OBDCommand('O2_S5_WR_VOLTAGE', '02 Sensor 5 WR Lambda Voltage', b'0128', 6, raw_string, ecu=ECU.ENGINE, fast=True),\n",
       " 'O2_S6_WR_VOLTAGE': OBDCommand('O2_S6_WR_VOLTAGE', '02 Sensor 6 WR Lambda Voltage', b'0129', 6, raw_string, ecu=ECU.ENGINE, fast=True),\n",
       " 'O2_S7_WR_VOLTAGE': OBDCommand('O2_S7_WR_VOLTAGE', '02 Sensor 7 WR Lambda Voltage', b'012A', 6, raw_string, ecu=ECU.ENGINE, fast=True),\n",
       " 'O2_S8_WR_VOLTAGE': OBDCommand('O2_S8_WR_VOLTAGE', '02 Sensor 8 WR Lambda Voltage', b'012B', 6, raw_string, ecu=ECU.ENGINE, fast=True),\n",
       " 'COMMANDED_EGR': OBDCommand('COMMANDED_EGR', 'Commanded EGR', b'012C', 3, raw_string, ecu=ECU.ENGINE, fast=True),\n",
       " 'EGR_ERROR': OBDCommand('EGR_ERROR', 'EGR Error', b'012D', 3, raw_string, ecu=ECU.ENGINE, fast=True),\n",
       " 'EVAPORATIVE_PURGE': OBDCommand('EVAPORATIVE_PURGE', 'Commanded Evaporative Purge', b'012E', 3, raw_string, ecu=ECU.ENGINE, fast=True),\n",
       " 'FUEL_LEVEL': OBDCommand('FUEL_LEVEL', 'Fuel Level Input', b'012F', 3, raw_string, ecu=ECU.ENGINE, fast=True),\n",
       " 'WARMUPS_SINCE_DTC_CLEAR': OBDCommand('WARMUPS_SINCE_DTC_CLEAR', 'Number of warm-ups since codes cleared', b'0130', 3, raw_string, ecu=ECU.ENGINE, fast=True),\n",
       " 'DISTANCE_SINCE_DTC_CLEAR': OBDCommand('DISTANCE_SINCE_DTC_CLEAR', 'Distance traveled since codes cleared', b'0131', 4, raw_string, ecu=ECU.ENGINE, fast=True),\n",
       " 'EVAP_VAPOR_PRESSURE': OBDCommand('EVAP_VAPOR_PRESSURE', 'Evaporative system vapor pressure', b'0132', 4, raw_string, ecu=ECU.ENGINE, fast=True),\n",
       " 'BAROMETRIC_PRESSURE': OBDCommand('BAROMETRIC_PRESSURE', 'Barometric Pressure', b'0133', 3, raw_string, ecu=ECU.ENGINE, fast=True),\n",
       " 'O2_S1_WR_CURRENT': OBDCommand('O2_S1_WR_CURRENT', '02 Sensor 1 WR Lambda Current', b'0134', 6, raw_string, ecu=ECU.ENGINE, fast=True),\n",
       " 'O2_S2_WR_CURRENT': OBDCommand('O2_S2_WR_CURRENT', '02 Sensor 2 WR Lambda Current', b'0135', 6, raw_string, ecu=ECU.ENGINE, fast=True),\n",
       " 'O2_S3_WR_CURRENT': OBDCommand('O2_S3_WR_CURRENT', '02 Sensor 3 WR Lambda Current', b'0136', 6, raw_string, ecu=ECU.ENGINE, fast=True),\n",
       " 'O2_S4_WR_CURRENT': OBDCommand('O2_S4_WR_CURRENT', '02 Sensor 4 WR Lambda Current', b'0137', 6, raw_string, ecu=ECU.ENGINE, fast=True),\n",
       " 'O2_S5_WR_CURRENT': OBDCommand('O2_S5_WR_CURRENT', '02 Sensor 5 WR Lambda Current', b'0138', 6, raw_string, ecu=ECU.ENGINE, fast=True),\n",
       " 'O2_S6_WR_CURRENT': OBDCommand('O2_S6_WR_CURRENT', '02 Sensor 6 WR Lambda Current', b'0139', 6, raw_string, ecu=ECU.ENGINE, fast=True),\n",
       " 'O2_S7_WR_CURRENT': OBDCommand('O2_S7_WR_CURRENT', '02 Sensor 7 WR Lambda Current', b'013A', 6, raw_string, ecu=ECU.ENGINE, fast=True),\n",
       " 'O2_S8_WR_CURRENT': OBDCommand('O2_S8_WR_CURRENT', '02 Sensor 8 WR Lambda Current', b'013B', 6, raw_string, ecu=ECU.ENGINE, fast=True),\n",
       " 'CATALYST_TEMP_B1S1': OBDCommand('CATALYST_TEMP_B1S1', 'Catalyst Temperature: Bank 1 - Sensor 1', b'013C', 4, raw_string, ecu=ECU.ENGINE, fast=True),\n",
       " 'CATALYST_TEMP_B2S1': OBDCommand('CATALYST_TEMP_B2S1', 'Catalyst Temperature: Bank 2 - Sensor 1', b'013D', 4, raw_string, ecu=ECU.ENGINE, fast=True),\n",
       " 'CATALYST_TEMP_B1S2': OBDCommand('CATALYST_TEMP_B1S2', 'Catalyst Temperature: Bank 1 - Sensor 2', b'013E', 4, raw_string, ecu=ECU.ENGINE, fast=True),\n",
       " 'CATALYST_TEMP_B2S2': OBDCommand('CATALYST_TEMP_B2S2', 'Catalyst Temperature: Bank 2 - Sensor 2', b'013F', 4, raw_string, ecu=ECU.ENGINE, fast=True),\n",
       " 'PIDS_C': OBDCommand('PIDS_C', 'Supported PIDs [41-60]', b'0140', 6, raw_string, ecu=ECU.ENGINE, fast=True),\n",
       " 'STATUS_DRIVE_CYCLE': OBDCommand('STATUS_DRIVE_CYCLE', 'Monitor status this drive cycle', b'0141', 6, raw_string, ecu=ECU.ENGINE, fast=True),\n",
       " 'CONTROL_MODULE_VOLTAGE': OBDCommand('CONTROL_MODULE_VOLTAGE', 'Control module voltage', b'0142', 4, raw_string, ecu=ECU.ENGINE, fast=True),\n",
       " 'ABSOLUTE_LOAD': OBDCommand('ABSOLUTE_LOAD', 'Absolute load value', b'0143', 4, raw_string, ecu=ECU.ENGINE, fast=True),\n",
       " 'COMMANDED_EQUIV_RATIO': OBDCommand('COMMANDED_EQUIV_RATIO', 'Commanded equivalence ratio', b'0144', 4, raw_string, ecu=ECU.ENGINE, fast=True),\n",
       " 'RELATIVE_THROTTLE_POS': OBDCommand('RELATIVE_THROTTLE_POS', 'Relative throttle position', b'0145', 3, raw_string, ecu=ECU.ENGINE, fast=True),\n",
       " 'AMBIANT_AIR_TEMP': OBDCommand('AMBIANT_AIR_TEMP', 'Ambient air temperature', b'0146', 3, raw_string, ecu=ECU.ENGINE, fast=True),\n",
       " 'THROTTLE_POS_B': OBDCommand('THROTTLE_POS_B', 'Absolute throttle position B', b'0147', 3, raw_string, ecu=ECU.ENGINE, fast=True),\n",
       " 'THROTTLE_POS_C': OBDCommand('THROTTLE_POS_C', 'Absolute throttle position C', b'0148', 3, raw_string, ecu=ECU.ENGINE, fast=True),\n",
       " 'ACCELERATOR_POS_D': OBDCommand('ACCELERATOR_POS_D', 'Accelerator pedal position D', b'0149', 3, raw_string, ecu=ECU.ENGINE, fast=True),\n",
       " 'ACCELERATOR_POS_E': OBDCommand('ACCELERATOR_POS_E', 'Accelerator pedal position E', b'014A', 3, raw_string, ecu=ECU.ENGINE, fast=True),\n",
       " 'ACCELERATOR_POS_F': OBDCommand('ACCELERATOR_POS_F', 'Accelerator pedal position F', b'014B', 3, raw_string, ecu=ECU.ENGINE, fast=True),\n",
       " 'THROTTLE_ACTUATOR': OBDCommand('THROTTLE_ACTUATOR', 'Commanded throttle actuator', b'014C', 3, raw_string, ecu=ECU.ENGINE, fast=True),\n",
       " 'RUN_TIME_MIL': OBDCommand('RUN_TIME_MIL', 'Time run with MIL on', b'014D', 4, raw_string, ecu=ECU.ENGINE, fast=True),\n",
       " 'TIME_SINCE_DTC_CLEARED': OBDCommand('TIME_SINCE_DTC_CLEARED', 'Time since trouble codes cleared', b'014E', 4, raw_string, ecu=ECU.ENGINE, fast=True),\n",
       " 'MAX_VALUES': OBDCommand('MAX_VALUES', 'Various Max values', b'014F', 6, raw_string, ecu=ECU.ENGINE, fast=True),\n",
       " 'MAX_MAF': OBDCommand('MAX_MAF', 'Maximum value for mass air flow sensor', b'0150', 6, raw_string, ecu=ECU.ENGINE, fast=True),\n",
       " 'FUEL_TYPE': OBDCommand('FUEL_TYPE', 'Fuel Type', b'0151', 3, raw_string, ecu=ECU.ENGINE, fast=True),\n",
       " 'ETHANOL_PERCENT': OBDCommand('ETHANOL_PERCENT', 'Ethanol Fuel Percent', b'0152', 3, raw_string, ecu=ECU.ENGINE, fast=True),\n",
       " 'EVAP_VAPOR_PRESSURE_ABS': OBDCommand('EVAP_VAPOR_PRESSURE_ABS', 'Absolute Evap system Vapor Pressure', b'0153', 4, raw_string, ecu=ECU.ENGINE, fast=True),\n",
       " 'EVAP_VAPOR_PRESSURE_ALT': OBDCommand('EVAP_VAPOR_PRESSURE_ALT', 'Evap system vapor pressure', b'0154', 4, raw_string, ecu=ECU.ENGINE, fast=True),\n",
       " 'SHORT_O2_TRIM_B1': OBDCommand('SHORT_O2_TRIM_B1', 'Short term secondary O2 trim - Bank 1', b'0155', 4, raw_string, ecu=ECU.ENGINE, fast=True),\n",
       " 'LONG_O2_TRIM_B1': OBDCommand('LONG_O2_TRIM_B1', 'Long term secondary O2 trim - Bank 1', b'0156', 4, raw_string, ecu=ECU.ENGINE, fast=True),\n",
       " 'SHORT_O2_TRIM_B2': OBDCommand('SHORT_O2_TRIM_B2', 'Short term secondary O2 trim - Bank 2', b'0157', 4, raw_string, ecu=ECU.ENGINE, fast=True),\n",
       " 'LONG_O2_TRIM_B2': OBDCommand('LONG_O2_TRIM_B2', 'Long term secondary O2 trim - Bank 2', b'0158', 4, raw_string, ecu=ECU.ENGINE, fast=True),\n",
       " 'FUEL_RAIL_PRESSURE_ABS': OBDCommand('FUEL_RAIL_PRESSURE_ABS', 'Fuel rail pressure (absolute)', b'0159', 4, raw_string, ecu=ECU.ENGINE, fast=True),\n",
       " 'RELATIVE_ACCEL_POS': OBDCommand('RELATIVE_ACCEL_POS', 'Relative accelerator pedal position', b'015A', 3, raw_string, ecu=ECU.ENGINE, fast=True),\n",
       " 'HYBRID_BATTERY_REMAINING': OBDCommand('HYBRID_BATTERY_REMAINING', 'Hybrid battery pack remaining life', b'015B', 3, raw_string, ecu=ECU.ENGINE, fast=True),\n",
       " 'OIL_TEMP': OBDCommand('OIL_TEMP', 'Engine oil temperature', b'015C', 3, raw_string, ecu=ECU.ENGINE, fast=True),\n",
       " 'FUEL_INJECT_TIMING': OBDCommand('FUEL_INJECT_TIMING', 'Fuel injection timing', b'015D', 4, raw_string, ecu=ECU.ENGINE, fast=True),\n",
       " 'FUEL_RATE': OBDCommand('FUEL_RATE', 'Engine fuel rate', b'015E', 4, raw_string, ecu=ECU.ENGINE, fast=True),\n",
       " 'EMISSION_REQ': OBDCommand('EMISSION_REQ', 'Designed emission requirements', b'015F', 3, raw_string, ecu=ECU.ENGINE, fast=True),\n",
       " 'DTC_PIDS_A': OBDCommand('DTC_PIDS_A', 'DTC Supported PIDs [01-20]', b'0200', 6, raw_string, ecu=ECU.ENGINE, fast=True),\n",
       " 'DTC_STATUS': OBDCommand('DTC_STATUS', 'DTC Status since DTCs cleared', b'0201', 6, raw_string, ecu=ECU.ENGINE, fast=True),\n",
       " 'DTC_FREEZE_DTC': OBDCommand('DTC_FREEZE_DTC', 'DTC DTC that triggered the freeze frame', b'0202', 4, raw_string, ecu=ECU.ENGINE, fast=True),\n",
       " 'DTC_FUEL_STATUS': OBDCommand('DTC_FUEL_STATUS', 'DTC Fuel System Status', b'0203', 4, raw_string, ecu=ECU.ENGINE, fast=True),\n",
       " 'DTC_ENGINE_LOAD': OBDCommand('DTC_ENGINE_LOAD', 'DTC Calculated Engine Load', b'0204', 3, raw_string, ecu=ECU.ENGINE, fast=True),\n",
       " 'DTC_COOLANT_TEMP': OBDCommand('DTC_COOLANT_TEMP', 'DTC Engine Coolant Temperature', b'0205', 3, raw_string, ecu=ECU.ENGINE, fast=True),\n",
       " 'DTC_SHORT_FUEL_TRIM_1': OBDCommand('DTC_SHORT_FUEL_TRIM_1', 'DTC Short Term Fuel Trim - Bank 1', b'0206', 3, raw_string, ecu=ECU.ENGINE, fast=True),\n",
       " 'DTC_LONG_FUEL_TRIM_1': OBDCommand('DTC_LONG_FUEL_TRIM_1', 'DTC Long Term Fuel Trim - Bank 1', b'0207', 3, raw_string, ecu=ECU.ENGINE, fast=True),\n",
       " 'DTC_SHORT_FUEL_TRIM_2': OBDCommand('DTC_SHORT_FUEL_TRIM_2', 'DTC Short Term Fuel Trim - Bank 2', b'0208', 3, raw_string, ecu=ECU.ENGINE, fast=True),\n",
       " 'DTC_LONG_FUEL_TRIM_2': OBDCommand('DTC_LONG_FUEL_TRIM_2', 'DTC Long Term Fuel Trim - Bank 2', b'0209', 3, raw_string, ecu=ECU.ENGINE, fast=True),\n",
       " 'DTC_FUEL_PRESSURE': OBDCommand('DTC_FUEL_PRESSURE', 'DTC Fuel Pressure', b'020A', 3, raw_string, ecu=ECU.ENGINE, fast=True),\n",
       " 'DTC_INTAKE_PRESSURE': OBDCommand('DTC_INTAKE_PRESSURE', 'DTC Intake Manifold Pressure', b'020B', 3, raw_string, ecu=ECU.ENGINE, fast=True),\n",
       " 'DTC_RPM': OBDCommand('DTC_RPM', 'DTC Engine RPM', b'020C', 4, raw_string, ecu=ECU.ENGINE, fast=True),\n",
       " 'DTC_SPEED': OBDCommand('DTC_SPEED', 'DTC Vehicle Speed', b'020D', 3, raw_string, ecu=ECU.ENGINE, fast=True),\n",
       " 'DTC_TIMING_ADVANCE': OBDCommand('DTC_TIMING_ADVANCE', 'DTC Timing Advance', b'020E', 3, raw_string, ecu=ECU.ENGINE, fast=True),\n",
       " 'DTC_INTAKE_TEMP': OBDCommand('DTC_INTAKE_TEMP', 'DTC Intake Air Temp', b'020F', 3, raw_string, ecu=ECU.ENGINE, fast=True),\n",
       " 'DTC_MAF': OBDCommand('DTC_MAF', 'DTC Air Flow Rate (MAF)', b'0210', 4, raw_string, ecu=ECU.ENGINE, fast=True),\n",
       " 'DTC_THROTTLE_POS': OBDCommand('DTC_THROTTLE_POS', 'DTC Throttle Position', b'0211', 3, raw_string, ecu=ECU.ENGINE, fast=True),\n",
       " 'DTC_AIR_STATUS': OBDCommand('DTC_AIR_STATUS', 'DTC Secondary Air Status', b'0212', 3, raw_string, ecu=ECU.ENGINE, fast=True),\n",
       " 'DTC_O2_SENSORS': OBDCommand('DTC_O2_SENSORS', 'DTC O2 Sensors Present', b'0213', 3, raw_string, ecu=ECU.ENGINE, fast=True),\n",
       " 'DTC_O2_B1S1': OBDCommand('DTC_O2_B1S1', 'DTC O2: Bank 1 - Sensor 1 Voltage', b'0214', 4, raw_string, ecu=ECU.ENGINE, fast=True),\n",
       " 'DTC_O2_B1S2': OBDCommand('DTC_O2_B1S2', 'DTC O2: Bank 1 - Sensor 2 Voltage', b'0215', 4, raw_string, ecu=ECU.ENGINE, fast=True),\n",
       " 'DTC_O2_B1S3': OBDCommand('DTC_O2_B1S3', 'DTC O2: Bank 1 - Sensor 3 Voltage', b'0216', 4, raw_string, ecu=ECU.ENGINE, fast=True),\n",
       " 'DTC_O2_B1S4': OBDCommand('DTC_O2_B1S4', 'DTC O2: Bank 1 - Sensor 4 Voltage', b'0217', 4, raw_string, ecu=ECU.ENGINE, fast=True),\n",
       " 'DTC_O2_B2S1': OBDCommand('DTC_O2_B2S1', 'DTC O2: Bank 2 - Sensor 1 Voltage', b'0218', 4, raw_string, ecu=ECU.ENGINE, fast=True),\n",
       " 'DTC_O2_B2S2': OBDCommand('DTC_O2_B2S2', 'DTC O2: Bank 2 - Sensor 2 Voltage', b'0219', 4, raw_string, ecu=ECU.ENGINE, fast=True),\n",
       " 'DTC_O2_B2S3': OBDCommand('DTC_O2_B2S3', 'DTC O2: Bank 2 - Sensor 3 Voltage', b'021A', 4, raw_string, ecu=ECU.ENGINE, fast=True),\n",
       " 'DTC_O2_B2S4': OBDCommand('DTC_O2_B2S4', 'DTC O2: Bank 2 - Sensor 4 Voltage', b'021B', 4, raw_string, ecu=ECU.ENGINE, fast=True),\n",
       " 'DTC_OBD_COMPLIANCE': OBDCommand('DTC_OBD_COMPLIANCE', 'DTC OBD Standards Compliance', b'021C', 3, raw_string, ecu=ECU.ENGINE, fast=True),\n",
       " 'DTC_O2_SENSORS_ALT': OBDCommand('DTC_O2_SENSORS_ALT', 'DTC O2 Sensors Present (alternate)', b'021D', 3, raw_string, ecu=ECU.ENGINE, fast=True),\n",
       " 'DTC_AUX_INPUT_STATUS': OBDCommand('DTC_AUX_INPUT_STATUS', 'DTC Auxiliary input status (power take off)', b'021E', 3, raw_string, ecu=ECU.ENGINE, fast=True),\n",
       " 'DTC_RUN_TIME': OBDCommand('DTC_RUN_TIME', 'DTC Engine Run Time', b'021F', 4, raw_string, ecu=ECU.ENGINE, fast=True),\n",
       " 'DTC_PIDS_B': OBDCommand('DTC_PIDS_B', 'DTC Supported PIDs [21-40]', b'0220', 6, raw_string, ecu=ECU.ENGINE, fast=True),\n",
       " 'DTC_DISTANCE_W_MIL': OBDCommand('DTC_DISTANCE_W_MIL', 'DTC Distance Traveled with MIL on', b'0221', 4, raw_string, ecu=ECU.ENGINE, fast=True),\n",
       " 'DTC_FUEL_RAIL_PRESSURE_VAC': OBDCommand('DTC_FUEL_RAIL_PRESSURE_VAC', 'DTC Fuel Rail Pressure (relative to vacuum)', b'0222', 4, raw_string, ecu=ECU.ENGINE, fast=True),\n",
       " 'DTC_FUEL_RAIL_PRESSURE_DIRECT': OBDCommand('DTC_FUEL_RAIL_PRESSURE_DIRECT', 'DTC Fuel Rail Pressure (direct inject)', b'0223', 4, raw_string, ecu=ECU.ENGINE, fast=True),\n",
       " 'DTC_O2_S1_WR_VOLTAGE': OBDCommand('DTC_O2_S1_WR_VOLTAGE', 'DTC 02 Sensor 1 WR Lambda Voltage', b'0224', 6, raw_string, ecu=ECU.ENGINE, fast=True),\n",
       " 'DTC_O2_S2_WR_VOLTAGE': OBDCommand('DTC_O2_S2_WR_VOLTAGE', 'DTC 02 Sensor 2 WR Lambda Voltage', b'0225', 6, raw_string, ecu=ECU.ENGINE, fast=True),\n",
       " 'DTC_O2_S3_WR_VOLTAGE': OBDCommand('DTC_O2_S3_WR_VOLTAGE', 'DTC 02 Sensor 3 WR Lambda Voltage', b'0226', 6, raw_string, ecu=ECU.ENGINE, fast=True),\n",
       " 'DTC_O2_S4_WR_VOLTAGE': OBDCommand('DTC_O2_S4_WR_VOLTAGE', 'DTC 02 Sensor 4 WR Lambda Voltage', b'0227', 6, raw_string, ecu=ECU.ENGINE, fast=True),\n",
       " 'DTC_O2_S5_WR_VOLTAGE': OBDCommand('DTC_O2_S5_WR_VOLTAGE', 'DTC 02 Sensor 5 WR Lambda Voltage', b'0228', 6, raw_string, ecu=ECU.ENGINE, fast=True),\n",
       " 'DTC_O2_S6_WR_VOLTAGE': OBDCommand('DTC_O2_S6_WR_VOLTAGE', 'DTC 02 Sensor 6 WR Lambda Voltage', b'0229', 6, raw_string, ecu=ECU.ENGINE, fast=True),\n",
       " 'DTC_O2_S7_WR_VOLTAGE': OBDCommand('DTC_O2_S7_WR_VOLTAGE', 'DTC 02 Sensor 7 WR Lambda Voltage', b'022A', 6, raw_string, ecu=ECU.ENGINE, fast=True),\n",
       " 'DTC_O2_S8_WR_VOLTAGE': OBDCommand('DTC_O2_S8_WR_VOLTAGE', 'DTC 02 Sensor 8 WR Lambda Voltage', b'022B', 6, raw_string, ecu=ECU.ENGINE, fast=True),\n",
       " 'DTC_COMMANDED_EGR': OBDCommand('DTC_COMMANDED_EGR', 'DTC Commanded EGR', b'022C', 3, raw_string, ecu=ECU.ENGINE, fast=True),\n",
       " 'DTC_EGR_ERROR': OBDCommand('DTC_EGR_ERROR', 'DTC EGR Error', b'022D', 3, raw_string, ecu=ECU.ENGINE, fast=True),\n",
       " 'DTC_EVAPORATIVE_PURGE': OBDCommand('DTC_EVAPORATIVE_PURGE', 'DTC Commanded Evaporative Purge', b'022E', 3, raw_string, ecu=ECU.ENGINE, fast=True),\n",
       " 'DTC_FUEL_LEVEL': OBDCommand('DTC_FUEL_LEVEL', 'DTC Fuel Level Input', b'022F', 3, raw_string, ecu=ECU.ENGINE, fast=True),\n",
       " 'DTC_WARMUPS_SINCE_DTC_CLEAR': OBDCommand('DTC_WARMUPS_SINCE_DTC_CLEAR', 'DTC Number of warm-ups since codes cleared', b'0230', 3, raw_string, ecu=ECU.ENGINE, fast=True),\n",
       " 'DTC_DISTANCE_SINCE_DTC_CLEAR': OBDCommand('DTC_DISTANCE_SINCE_DTC_CLEAR', 'DTC Distance traveled since codes cleared', b'0231', 4, raw_string, ecu=ECU.ENGINE, fast=True),\n",
       " 'DTC_EVAP_VAPOR_PRESSURE': OBDCommand('DTC_EVAP_VAPOR_PRESSURE', 'DTC Evaporative system vapor pressure', b'0232', 4, raw_string, ecu=ECU.ENGINE, fast=True),\n",
       " 'DTC_BAROMETRIC_PRESSURE': OBDCommand('DTC_BAROMETRIC_PRESSURE', 'DTC Barometric Pressure', b'0233', 3, raw_string, ecu=ECU.ENGINE, fast=True),\n",
       " 'DTC_O2_S1_WR_CURRENT': OBDCommand('DTC_O2_S1_WR_CURRENT', 'DTC 02 Sensor 1 WR Lambda Current', b'0234', 6, raw_string, ecu=ECU.ENGINE, fast=True),\n",
       " 'DTC_O2_S2_WR_CURRENT': OBDCommand('DTC_O2_S2_WR_CURRENT', 'DTC 02 Sensor 2 WR Lambda Current', b'0235', 6, raw_string, ecu=ECU.ENGINE, fast=True),\n",
       " 'DTC_O2_S3_WR_CURRENT': OBDCommand('DTC_O2_S3_WR_CURRENT', 'DTC 02 Sensor 3 WR Lambda Current', b'0236', 6, raw_string, ecu=ECU.ENGINE, fast=True),\n",
       " 'DTC_O2_S4_WR_CURRENT': OBDCommand('DTC_O2_S4_WR_CURRENT', 'DTC 02 Sensor 4 WR Lambda Current', b'0237', 6, raw_string, ecu=ECU.ENGINE, fast=True),\n",
       " 'DTC_O2_S5_WR_CURRENT': OBDCommand('DTC_O2_S5_WR_CURRENT', 'DTC 02 Sensor 5 WR Lambda Current', b'0238', 6, raw_string, ecu=ECU.ENGINE, fast=True),\n",
       " 'DTC_O2_S6_WR_CURRENT': OBDCommand('DTC_O2_S6_WR_CURRENT', 'DTC 02 Sensor 6 WR Lambda Current', b'0239', 6, raw_string, ecu=ECU.ENGINE, fast=True),\n",
       " 'DTC_O2_S7_WR_CURRENT': OBDCommand('DTC_O2_S7_WR_CURRENT', 'DTC 02 Sensor 7 WR Lambda Current', b'023A', 6, raw_string, ecu=ECU.ENGINE, fast=True),\n",
       " 'DTC_O2_S8_WR_CURRENT': OBDCommand('DTC_O2_S8_WR_CURRENT', 'DTC 02 Sensor 8 WR Lambda Current', b'023B', 6, raw_string, ecu=ECU.ENGINE, fast=True),\n",
       " 'DTC_CATALYST_TEMP_B1S1': OBDCommand('DTC_CATALYST_TEMP_B1S1', 'DTC Catalyst Temperature: Bank 1 - Sensor 1', b'023C', 4, raw_string, ecu=ECU.ENGINE, fast=True),\n",
       " 'DTC_CATALYST_TEMP_B2S1': OBDCommand('DTC_CATALYST_TEMP_B2S1', 'DTC Catalyst Temperature: Bank 2 - Sensor 1', b'023D', 4, raw_string, ecu=ECU.ENGINE, fast=True),\n",
       " 'DTC_CATALYST_TEMP_B1S2': OBDCommand('DTC_CATALYST_TEMP_B1S2', 'DTC Catalyst Temperature: Bank 1 - Sensor 2', b'023E', 4, raw_string, ecu=ECU.ENGINE, fast=True),\n",
       " 'DTC_CATALYST_TEMP_B2S2': OBDCommand('DTC_CATALYST_TEMP_B2S2', 'DTC Catalyst Temperature: Bank 2 - Sensor 2', b'023F', 4, raw_string, ecu=ECU.ENGINE, fast=True),\n",
       " 'DTC_PIDS_C': OBDCommand('DTC_PIDS_C', 'DTC Supported PIDs [41-60]', b'0240', 6, raw_string, ecu=ECU.ENGINE, fast=True),\n",
       " 'DTC_STATUS_DRIVE_CYCLE': OBDCommand('DTC_STATUS_DRIVE_CYCLE', 'DTC Monitor status this drive cycle', b'0241', 6, raw_string, ecu=ECU.ENGINE, fast=True),\n",
       " 'DTC_CONTROL_MODULE_VOLTAGE': OBDCommand('DTC_CONTROL_MODULE_VOLTAGE', 'DTC Control module voltage', b'0242', 4, raw_string, ecu=ECU.ENGINE, fast=True),\n",
       " 'DTC_ABSOLUTE_LOAD': OBDCommand('DTC_ABSOLUTE_LOAD', 'DTC Absolute load value', b'0243', 4, raw_string, ecu=ECU.ENGINE, fast=True),\n",
       " 'DTC_COMMANDED_EQUIV_RATIO': OBDCommand('DTC_COMMANDED_EQUIV_RATIO', 'DTC Commanded equivalence ratio', b'0244', 4, raw_string, ecu=ECU.ENGINE, fast=True),\n",
       " 'DTC_RELATIVE_THROTTLE_POS': OBDCommand('DTC_RELATIVE_THROTTLE_POS', 'DTC Relative throttle position', b'0245', 3, raw_string, ecu=ECU.ENGINE, fast=True),\n",
       " 'DTC_AMBIANT_AIR_TEMP': OBDCommand('DTC_AMBIANT_AIR_TEMP', 'DTC Ambient air temperature', b'0246', 3, raw_string, ecu=ECU.ENGINE, fast=True),\n",
       " 'DTC_THROTTLE_POS_B': OBDCommand('DTC_THROTTLE_POS_B', 'DTC Absolute throttle position B', b'0247', 3, raw_string, ecu=ECU.ENGINE, fast=True),\n",
       " 'DTC_THROTTLE_POS_C': OBDCommand('DTC_THROTTLE_POS_C', 'DTC Absolute throttle position C', b'0248', 3, raw_string, ecu=ECU.ENGINE, fast=True),\n",
       " 'DTC_ACCELERATOR_POS_D': OBDCommand('DTC_ACCELERATOR_POS_D', 'DTC Accelerator pedal position D', b'0249', 3, raw_string, ecu=ECU.ENGINE, fast=True),\n",
       " 'DTC_ACCELERATOR_POS_E': OBDCommand('DTC_ACCELERATOR_POS_E', 'DTC Accelerator pedal position E', b'024A', 3, raw_string, ecu=ECU.ENGINE, fast=True),\n",
       " 'DTC_ACCELERATOR_POS_F': OBDCommand('DTC_ACCELERATOR_POS_F', 'DTC Accelerator pedal position F', b'024B', 3, raw_string, ecu=ECU.ENGINE, fast=True),\n",
       " 'DTC_THROTTLE_ACTUATOR': OBDCommand('DTC_THROTTLE_ACTUATOR', 'DTC Commanded throttle actuator', b'024C', 3, raw_string, ecu=ECU.ENGINE, fast=True),\n",
       " 'DTC_RUN_TIME_MIL': OBDCommand('DTC_RUN_TIME_MIL', 'DTC Time run with MIL on', b'024D', 4, raw_string, ecu=ECU.ENGINE, fast=True),\n",
       " 'DTC_TIME_SINCE_DTC_CLEARED': OBDCommand('DTC_TIME_SINCE_DTC_CLEARED', 'DTC Time since trouble codes cleared', b'024E', 4, raw_string, ecu=ECU.ENGINE, fast=True),\n",
       " 'DTC_MAX_VALUES': OBDCommand('DTC_MAX_VALUES', 'DTC Various Max values', b'024F', 6, raw_string, ecu=ECU.ENGINE, fast=True),\n",
       " 'DTC_MAX_MAF': OBDCommand('DTC_MAX_MAF', 'DTC Maximum value for mass air flow sensor', b'0250', 6, raw_string, ecu=ECU.ENGINE, fast=True),\n",
       " 'DTC_FUEL_TYPE': OBDCommand('DTC_FUEL_TYPE', 'DTC Fuel Type', b'0251', 3, raw_string, ecu=ECU.ENGINE, fast=True),\n",
       " 'DTC_ETHANOL_PERCENT': OBDCommand('DTC_ETHANOL_PERCENT', 'DTC Ethanol Fuel Percent', b'0252', 3, raw_string, ecu=ECU.ENGINE, fast=True),\n",
       " 'DTC_EVAP_VAPOR_PRESSURE_ABS': OBDCommand('DTC_EVAP_VAPOR_PRESSURE_ABS', 'DTC Absolute Evap system Vapor Pressure', b'0253', 4, raw_string, ecu=ECU.ENGINE, fast=True),\n",
       " 'DTC_EVAP_VAPOR_PRESSURE_ALT': OBDCommand('DTC_EVAP_VAPOR_PRESSURE_ALT', 'DTC Evap system vapor pressure', b'0254', 4, raw_string, ecu=ECU.ENGINE, fast=True),\n",
       " 'DTC_SHORT_O2_TRIM_B1': OBDCommand('DTC_SHORT_O2_TRIM_B1', 'DTC Short term secondary O2 trim - Bank 1', b'0255', 4, raw_string, ecu=ECU.ENGINE, fast=True),\n",
       " 'DTC_LONG_O2_TRIM_B1': OBDCommand('DTC_LONG_O2_TRIM_B1', 'DTC Long term secondary O2 trim - Bank 1', b'0256', 4, raw_string, ecu=ECU.ENGINE, fast=True),\n",
       " 'DTC_SHORT_O2_TRIM_B2': OBDCommand('DTC_SHORT_O2_TRIM_B2', 'DTC Short term secondary O2 trim - Bank 2', b'0257', 4, raw_string, ecu=ECU.ENGINE, fast=True),\n",
       " 'DTC_LONG_O2_TRIM_B2': OBDCommand('DTC_LONG_O2_TRIM_B2', 'DTC Long term secondary O2 trim - Bank 2', b'0258', 4, raw_string, ecu=ECU.ENGINE, fast=True),\n",
       " 'DTC_FUEL_RAIL_PRESSURE_ABS': OBDCommand('DTC_FUEL_RAIL_PRESSURE_ABS', 'DTC Fuel rail pressure (absolute)', b'0259', 4, raw_string, ecu=ECU.ENGINE, fast=True),\n",
       " 'DTC_RELATIVE_ACCEL_POS': OBDCommand('DTC_RELATIVE_ACCEL_POS', 'DTC Relative accelerator pedal position', b'025A', 3, raw_string, ecu=ECU.ENGINE, fast=True),\n",
       " 'DTC_HYBRID_BATTERY_REMAINING': OBDCommand('DTC_HYBRID_BATTERY_REMAINING', 'DTC Hybrid battery pack remaining life', b'025B', 3, raw_string, ecu=ECU.ENGINE, fast=True),\n",
       " 'DTC_OIL_TEMP': OBDCommand('DTC_OIL_TEMP', 'DTC Engine oil temperature', b'025C', 3, raw_string, ecu=ECU.ENGINE, fast=True),\n",
       " 'DTC_FUEL_INJECT_TIMING': OBDCommand('DTC_FUEL_INJECT_TIMING', 'DTC Fuel injection timing', b'025D', 4, raw_string, ecu=ECU.ENGINE, fast=True),\n",
       " 'DTC_FUEL_RATE': OBDCommand('DTC_FUEL_RATE', 'DTC Engine fuel rate', b'025E', 4, raw_string, ecu=ECU.ENGINE, fast=True),\n",
       " 'DTC_EMISSION_REQ': OBDCommand('DTC_EMISSION_REQ', 'DTC Designed emission requirements', b'025F', 3, raw_string, ecu=ECU.ENGINE, fast=True),\n",
       " 'GET_DTC': OBDCommand('GET_DTC', 'Get DTCs', b'03', 0, raw_string, ecu=ECU.ALL, fast=False),\n",
       " 'CLEAR_DTC': OBDCommand('CLEAR_DTC', 'Clear DTCs and Freeze data', b'04', 0, raw_string, ecu=ECU.ALL, fast=False),\n",
       " 'MIDS_A': OBDCommand('MIDS_A', 'Supported MIDs [01-20]', b'0600', 0, raw_string, ecu=ECU.ALL, fast=False),\n",
       " 'MONITOR_O2_B1S1': OBDCommand('MONITOR_O2_B1S1', 'O2 Sensor Monitor Bank 1 - Sensor 1', b'0601', 0, raw_string, ecu=ECU.ALL, fast=False),\n",
       " 'MONITOR_O2_B1S2': OBDCommand('MONITOR_O2_B1S2', 'O2 Sensor Monitor Bank 1 - Sensor 2', b'0602', 0, raw_string, ecu=ECU.ALL, fast=False),\n",
       " 'MONITOR_O2_B1S3': OBDCommand('MONITOR_O2_B1S3', 'O2 Sensor Monitor Bank 1 - Sensor 3', b'0603', 0, raw_string, ecu=ECU.ALL, fast=False),\n",
       " 'MONITOR_O2_B1S4': OBDCommand('MONITOR_O2_B1S4', 'O2 Sensor Monitor Bank 1 - Sensor 4', b'0604', 0, raw_string, ecu=ECU.ALL, fast=False),\n",
       " 'MONITOR_O2_B2S1': OBDCommand('MONITOR_O2_B2S1', 'O2 Sensor Monitor Bank 2 - Sensor 1', b'0605', 0, raw_string, ecu=ECU.ALL, fast=False),\n",
       " 'MONITOR_O2_B2S2': OBDCommand('MONITOR_O2_B2S2', 'O2 Sensor Monitor Bank 2 - Sensor 2', b'0606', 0, raw_string, ecu=ECU.ALL, fast=False),\n",
       " 'MONITOR_O2_B2S3': OBDCommand('MONITOR_O2_B2S3', 'O2 Sensor Monitor Bank 2 - Sensor 3', b'0607', 0, raw_string, ecu=ECU.ALL, fast=False),\n",
       " 'MONITOR_O2_B2S4': OBDCommand('MONITOR_O2_B2S4', 'O2 Sensor Monitor Bank 2 - Sensor 4', b'0608', 0, raw_string, ecu=ECU.ALL, fast=False),\n",
       " 'MONITOR_O2_B3S1': OBDCommand('MONITOR_O2_B3S1', 'O2 Sensor Monitor Bank 3 - Sensor 1', b'0609', 0, raw_string, ecu=ECU.ALL, fast=False),\n",
       " 'MONITOR_O2_B3S2': OBDCommand('MONITOR_O2_B3S2', 'O2 Sensor Monitor Bank 3 - Sensor 2', b'060A', 0, raw_string, ecu=ECU.ALL, fast=False),\n",
       " 'MONITOR_O2_B3S3': OBDCommand('MONITOR_O2_B3S3', 'O2 Sensor Monitor Bank 3 - Sensor 3', b'060B', 0, raw_string, ecu=ECU.ALL, fast=False),\n",
       " 'MONITOR_O2_B3S4': OBDCommand('MONITOR_O2_B3S4', 'O2 Sensor Monitor Bank 3 - Sensor 4', b'060C', 0, raw_string, ecu=ECU.ALL, fast=False),\n",
       " 'MONITOR_O2_B4S1': OBDCommand('MONITOR_O2_B4S1', 'O2 Sensor Monitor Bank 4 - Sensor 1', b'060D', 0, raw_string, ecu=ECU.ALL, fast=False),\n",
       " 'MONITOR_O2_B4S2': OBDCommand('MONITOR_O2_B4S2', 'O2 Sensor Monitor Bank 4 - Sensor 2', b'060E', 0, raw_string, ecu=ECU.ALL, fast=False),\n",
       " 'MONITOR_O2_B4S3': OBDCommand('MONITOR_O2_B4S3', 'O2 Sensor Monitor Bank 4 - Sensor 3', b'060F', 0, raw_string, ecu=ECU.ALL, fast=False),\n",
       " 'MONITOR_O2_B4S4': OBDCommand('MONITOR_O2_B4S4', 'O2 Sensor Monitor Bank 4 - Sensor 4', b'0610', 0, raw_string, ecu=ECU.ALL, fast=False),\n",
       " 'MIDS_B': OBDCommand('MIDS_B', 'Supported MIDs [21-40]', b'0620', 0, raw_string, ecu=ECU.ALL, fast=False),\n",
       " 'MONITOR_CATALYST_B1': OBDCommand('MONITOR_CATALYST_B1', 'Catalyst Monitor Bank 1', b'0621', 0, raw_string, ecu=ECU.ALL, fast=False),\n",
       " 'MONITOR_CATALYST_B2': OBDCommand('MONITOR_CATALYST_B2', 'Catalyst Monitor Bank 2', b'0622', 0, raw_string, ecu=ECU.ALL, fast=False),\n",
       " 'MONITOR_CATALYST_B3': OBDCommand('MONITOR_CATALYST_B3', 'Catalyst Monitor Bank 3', b'0623', 0, raw_string, ecu=ECU.ALL, fast=False),\n",
       " 'MONITOR_CATALYST_B4': OBDCommand('MONITOR_CATALYST_B4', 'Catalyst Monitor Bank 4', b'0624', 0, raw_string, ecu=ECU.ALL, fast=False),\n",
       " 'MONITOR_EGR_B1': OBDCommand('MONITOR_EGR_B1', 'EGR Monitor Bank 1', b'0631', 0, raw_string, ecu=ECU.ALL, fast=False),\n",
       " 'MONITOR_EGR_B2': OBDCommand('MONITOR_EGR_B2', 'EGR Monitor Bank 2', b'0632', 0, raw_string, ecu=ECU.ALL, fast=False),\n",
       " 'MONITOR_EGR_B3': OBDCommand('MONITOR_EGR_B3', 'EGR Monitor Bank 3', b'0633', 0, raw_string, ecu=ECU.ALL, fast=False),\n",
       " 'MONITOR_EGR_B4': OBDCommand('MONITOR_EGR_B4', 'EGR Monitor Bank 4', b'0634', 0, raw_string, ecu=ECU.ALL, fast=False),\n",
       " 'MONITOR_VVT_B1': OBDCommand('MONITOR_VVT_B1', 'VVT Monitor Bank 1', b'0635', 0, raw_string, ecu=ECU.ALL, fast=False),\n",
       " 'MONITOR_VVT_B2': OBDCommand('MONITOR_VVT_B2', 'VVT Monitor Bank 2', b'0636', 0, raw_string, ecu=ECU.ALL, fast=False),\n",
       " 'MONITOR_VVT_B3': OBDCommand('MONITOR_VVT_B3', 'VVT Monitor Bank 3', b'0637', 0, raw_string, ecu=ECU.ALL, fast=False),\n",
       " 'MONITOR_VVT_B4': OBDCommand('MONITOR_VVT_B4', 'VVT Monitor Bank 4', b'0638', 0, raw_string, ecu=ECU.ALL, fast=False),\n",
       " 'MONITOR_EVAP_150': OBDCommand('MONITOR_EVAP_150', 'EVAP Monitor (Cap Off / 0.150\")', b'0639', 0, raw_string, ecu=ECU.ALL, fast=False),\n",
       " 'MONITOR_EVAP_090': OBDCommand('MONITOR_EVAP_090', 'EVAP Monitor (0.090\")', b'063A', 0, raw_string, ecu=ECU.ALL, fast=False),\n",
       " 'MONITOR_EVAP_040': OBDCommand('MONITOR_EVAP_040', 'EVAP Monitor (0.040\")', b'063B', 0, raw_string, ecu=ECU.ALL, fast=False),\n",
       " 'MONITOR_EVAP_020': OBDCommand('MONITOR_EVAP_020', 'EVAP Monitor (0.020\")', b'063C', 0, raw_string, ecu=ECU.ALL, fast=False),\n",
       " 'MONITOR_PURGE_FLOW': OBDCommand('MONITOR_PURGE_FLOW', 'Purge Flow Monitor', b'063D', 0, raw_string, ecu=ECU.ALL, fast=False),\n",
       " 'MIDS_C': OBDCommand('MIDS_C', 'Supported MIDs [41-60]', b'0640', 0, raw_string, ecu=ECU.ALL, fast=False),\n",
       " 'MONITOR_O2_HEATER_B1S1': OBDCommand('MONITOR_O2_HEATER_B1S1', 'O2 Sensor Heater Monitor Bank 1 - Sensor 1', b'0641', 0, raw_string, ecu=ECU.ALL, fast=False),\n",
       " 'MONITOR_O2_HEATER_B1S2': OBDCommand('MONITOR_O2_HEATER_B1S2', 'O2 Sensor Heater Monitor Bank 1 - Sensor 2', b'0642', 0, raw_string, ecu=ECU.ALL, fast=False),\n",
       " 'MONITOR_O2_HEATER_B1S3': OBDCommand('MONITOR_O2_HEATER_B1S3', 'O2 Sensor Heater Monitor Bank 1 - Sensor 3', b'0643', 0, raw_string, ecu=ECU.ALL, fast=False),\n",
       " 'MONITOR_O2_HEATER_B1S4': OBDCommand('MONITOR_O2_HEATER_B1S4', 'O2 Sensor Heater Monitor Bank 1 - Sensor 4', b'0644', 0, raw_string, ecu=ECU.ALL, fast=False),\n",
       " 'MONITOR_O2_HEATER_B2S1': OBDCommand('MONITOR_O2_HEATER_B2S1', 'O2 Sensor Heater Monitor Bank 2 - Sensor 1', b'0645', 0, raw_string, ecu=ECU.ALL, fast=False),\n",
       " 'MONITOR_O2_HEATER_B2S2': OBDCommand('MONITOR_O2_HEATER_B2S2', 'O2 Sensor Heater Monitor Bank 2 - Sensor 2', b'0646', 0, raw_string, ecu=ECU.ALL, fast=False),\n",
       " 'MONITOR_O2_HEATER_B2S3': OBDCommand('MONITOR_O2_HEATER_B2S3', 'O2 Sensor Heater Monitor Bank 2 - Sensor 3', b'0647', 0, raw_string, ecu=ECU.ALL, fast=False),\n",
       " 'MONITOR_O2_HEATER_B2S4': OBDCommand('MONITOR_O2_HEATER_B2S4', 'O2 Sensor Heater Monitor Bank 2 - Sensor 4', b'0648', 0, raw_string, ecu=ECU.ALL, fast=False),\n",
       " 'MONITOR_O2_HEATER_B3S1': OBDCommand('MONITOR_O2_HEATER_B3S1', 'O2 Sensor Heater Monitor Bank 3 - Sensor 1', b'0649', 0, raw_string, ecu=ECU.ALL, fast=False),\n",
       " 'MONITOR_O2_HEATER_B3S2': OBDCommand('MONITOR_O2_HEATER_B3S2', 'O2 Sensor Heater Monitor Bank 3 - Sensor 2', b'064A', 0, raw_string, ecu=ECU.ALL, fast=False),\n",
       " 'MONITOR_O2_HEATER_B3S3': OBDCommand('MONITOR_O2_HEATER_B3S3', 'O2 Sensor Heater Monitor Bank 3 - Sensor 3', b'064B', 0, raw_string, ecu=ECU.ALL, fast=False),\n",
       " 'MONITOR_O2_HEATER_B3S4': OBDCommand('MONITOR_O2_HEATER_B3S4', 'O2 Sensor Heater Monitor Bank 3 - Sensor 4', b'064C', 0, raw_string, ecu=ECU.ALL, fast=False),\n",
       " 'MONITOR_O2_HEATER_B4S1': OBDCommand('MONITOR_O2_HEATER_B4S1', 'O2 Sensor Heater Monitor Bank 4 - Sensor 1', b'064D', 0, raw_string, ecu=ECU.ALL, fast=False),\n",
       " 'MONITOR_O2_HEATER_B4S2': OBDCommand('MONITOR_O2_HEATER_B4S2', 'O2 Sensor Heater Monitor Bank 4 - Sensor 2', b'064E', 0, raw_string, ecu=ECU.ALL, fast=False),\n",
       " 'MONITOR_O2_HEATER_B4S3': OBDCommand('MONITOR_O2_HEATER_B4S3', 'O2 Sensor Heater Monitor Bank 4 - Sensor 3', b'064F', 0, raw_string, ecu=ECU.ALL, fast=False),\n",
       " 'MONITOR_O2_HEATER_B4S4': OBDCommand('MONITOR_O2_HEATER_B4S4', 'O2 Sensor Heater Monitor Bank 4 - Sensor 4', b'0650', 0, raw_string, ecu=ECU.ALL, fast=False),\n",
       " 'MIDS_D': OBDCommand('MIDS_D', 'Supported MIDs [61-80]', b'0660', 0, raw_string, ecu=ECU.ALL, fast=False),\n",
       " 'MONITOR_HEATED_CATALYST_B1': OBDCommand('MONITOR_HEATED_CATALYST_B1', 'Heated Catalyst Monitor Bank 1', b'0661', 0, raw_string, ecu=ECU.ALL, fast=False),\n",
       " 'MONITOR_HEATED_CATALYST_B2': OBDCommand('MONITOR_HEATED_CATALYST_B2', 'Heated Catalyst Monitor Bank 2', b'0662', 0, raw_string, ecu=ECU.ALL, fast=False),\n",
       " 'MONITOR_HEATED_CATALYST_B3': OBDCommand('MONITOR_HEATED_CATALYST_B3', 'Heated Catalyst Monitor Bank 3', b'0663', 0, raw_string, ecu=ECU.ALL, fast=False),\n",
       " 'MONITOR_HEATED_CATALYST_B4': OBDCommand('MONITOR_HEATED_CATALYST_B4', 'Heated Catalyst Monitor Bank 4', b'0664', 0, raw_string, ecu=ECU.ALL, fast=False),\n",
       " 'MONITOR_SECONDARY_AIR_1': OBDCommand('MONITOR_SECONDARY_AIR_1', 'Secondary Air Monitor 1', b'0671', 0, raw_string, ecu=ECU.ALL, fast=False),\n",
       " 'MONITOR_SECONDARY_AIR_2': OBDCommand('MONITOR_SECONDARY_AIR_2', 'Secondary Air Monitor 2', b'0672', 0, raw_string, ecu=ECU.ALL, fast=False),\n",
       " 'MONITOR_SECONDARY_AIR_3': OBDCommand('MONITOR_SECONDARY_AIR_3', 'Secondary Air Monitor 3', b'0673', 0, raw_string, ecu=ECU.ALL, fast=False),\n",
       " 'MONITOR_SECONDARY_AIR_4': OBDCommand('MONITOR_SECONDARY_AIR_4', 'Secondary Air Monitor 4', b'0674', 0, raw_string, ecu=ECU.ALL, fast=False),\n",
       " 'MIDS_E': OBDCommand('MIDS_E', 'Supported MIDs [81-A0]', b'0680', 0, raw_string, ecu=ECU.ALL, fast=False),\n",
       " 'MONITOR_FUEL_SYSTEM_B1': OBDCommand('MONITOR_FUEL_SYSTEM_B1', 'Fuel System Monitor Bank 1', b'0681', 0, raw_string, ecu=ECU.ALL, fast=False),\n",
       " 'MONITOR_FUEL_SYSTEM_B2': OBDCommand('MONITOR_FUEL_SYSTEM_B2', 'Fuel System Monitor Bank 2', b'0682', 0, raw_string, ecu=ECU.ALL, fast=False),\n",
       " 'MONITOR_FUEL_SYSTEM_B3': OBDCommand('MONITOR_FUEL_SYSTEM_B3', 'Fuel System Monitor Bank 3', b'0683', 0, raw_string, ecu=ECU.ALL, fast=False),\n",
       " 'MONITOR_FUEL_SYSTEM_B4': OBDCommand('MONITOR_FUEL_SYSTEM_B4', 'Fuel System Monitor Bank 4', b'0684', 0, raw_string, ecu=ECU.ALL, fast=False),\n",
       " 'MONITOR_BOOST_PRESSURE_B1': OBDCommand('MONITOR_BOOST_PRESSURE_B1', 'Boost Pressure Control Monitor Bank 1', b'0685', 0, raw_string, ecu=ECU.ALL, fast=False),\n",
       " 'MONITOR_BOOST_PRESSURE_B2': OBDCommand('MONITOR_BOOST_PRESSURE_B2', 'Boost Pressure Control Monitor Bank 1', b'0686', 0, raw_string, ecu=ECU.ALL, fast=False),\n",
       " 'MONITOR_NOX_ABSORBER_B1': OBDCommand('MONITOR_NOX_ABSORBER_B1', 'NOx Absorber Monitor Bank 1', b'0690', 0, raw_string, ecu=ECU.ALL, fast=False),\n",
       " 'MONITOR_NOX_ABSORBER_B2': OBDCommand('MONITOR_NOX_ABSORBER_B2', 'NOx Absorber Monitor Bank 2', b'0691', 0, raw_string, ecu=ECU.ALL, fast=False),\n",
       " 'MONITOR_NOX_CATALYST_B1': OBDCommand('MONITOR_NOX_CATALYST_B1', 'NOx Catalyst Monitor Bank 1', b'0698', 0, raw_string, ecu=ECU.ALL, fast=False),\n",
       " 'MONITOR_NOX_CATALYST_B2': OBDCommand('MONITOR_NOX_CATALYST_B2', 'NOx Catalyst Monitor Bank 2', b'0699', 0, raw_string, ecu=ECU.ALL, fast=False),\n",
       " 'MIDS_F': OBDCommand('MIDS_F', 'Supported MIDs [A1-C0]', b'06A0', 0, raw_string, ecu=ECU.ALL, fast=False),\n",
       " 'MONITOR_MISFIRE_GENERAL': OBDCommand('MONITOR_MISFIRE_GENERAL', 'Misfire Monitor General Data', b'06A1', 0, raw_string, ecu=ECU.ALL, fast=False),\n",
       " 'MONITOR_MISFIRE_CYLINDER_1': OBDCommand('MONITOR_MISFIRE_CYLINDER_1', 'Misfire Cylinder 1 Data', b'06A2', 0, raw_string, ecu=ECU.ALL, fast=False),\n",
       " 'MONITOR_MISFIRE_CYLINDER_2': OBDCommand('MONITOR_MISFIRE_CYLINDER_2', 'Misfire Cylinder 2 Data', b'06A3', 0, raw_string, ecu=ECU.ALL, fast=False),\n",
       " 'MONITOR_MISFIRE_CYLINDER_3': OBDCommand('MONITOR_MISFIRE_CYLINDER_3', 'Misfire Cylinder 3 Data', b'06A4', 0, raw_string, ecu=ECU.ALL, fast=False),\n",
       " 'MONITOR_MISFIRE_CYLINDER_4': OBDCommand('MONITOR_MISFIRE_CYLINDER_4', 'Misfire Cylinder 4 Data', b'06A5', 0, raw_string, ecu=ECU.ALL, fast=False),\n",
       " 'MONITOR_MISFIRE_CYLINDER_5': OBDCommand('MONITOR_MISFIRE_CYLINDER_5', 'Misfire Cylinder 5 Data', b'06A6', 0, raw_string, ecu=ECU.ALL, fast=False),\n",
       " 'MONITOR_MISFIRE_CYLINDER_6': OBDCommand('MONITOR_MISFIRE_CYLINDER_6', 'Misfire Cylinder 6 Data', b'06A7', 0, raw_string, ecu=ECU.ALL, fast=False),\n",
       " 'MONITOR_MISFIRE_CYLINDER_7': OBDCommand('MONITOR_MISFIRE_CYLINDER_7', 'Misfire Cylinder 7 Data', b'06A8', 0, raw_string, ecu=ECU.ALL, fast=False),\n",
       " 'MONITOR_MISFIRE_CYLINDER_8': OBDCommand('MONITOR_MISFIRE_CYLINDER_8', 'Misfire Cylinder 8 Data', b'06A9', 0, raw_string, ecu=ECU.ALL, fast=False),\n",
       " 'MONITOR_MISFIRE_CYLINDER_9': OBDCommand('MONITOR_MISFIRE_CYLINDER_9', 'Misfire Cylinder 9 Data', b'06AA', 0, raw_string, ecu=ECU.ALL, fast=False),\n",
       " 'MONITOR_MISFIRE_CYLINDER_10': OBDCommand('MONITOR_MISFIRE_CYLINDER_10', 'Misfire Cylinder 10 Data', b'06AB', 0, raw_string, ecu=ECU.ALL, fast=False),\n",
       " 'MONITOR_MISFIRE_CYLINDER_11': OBDCommand('MONITOR_MISFIRE_CYLINDER_11', 'Misfire Cylinder 11 Data', b'06AC', 0, raw_string, ecu=ECU.ALL, fast=False),\n",
       " 'MONITOR_MISFIRE_CYLINDER_12': OBDCommand('MONITOR_MISFIRE_CYLINDER_12', 'Misfire Cylinder 12 Data', b'06AD', 0, raw_string, ecu=ECU.ALL, fast=False),\n",
       " 'MONITOR_PM_FILTER_B1': OBDCommand('MONITOR_PM_FILTER_B1', 'PM Filter Monitor Bank 1', b'06B0', 0, raw_string, ecu=ECU.ALL, fast=False),\n",
       " 'MONITOR_PM_FILTER_B2': OBDCommand('MONITOR_PM_FILTER_B2', 'PM Filter Monitor Bank 2', b'06B1', 0, raw_string, ecu=ECU.ALL, fast=False),\n",
       " 'GET_CURRENT_DTC': OBDCommand('GET_CURRENT_DTC', 'Get DTCs from the current/last driving cycle', b'07', 0, raw_string, ecu=ECU.ALL, fast=False),\n",
       " 'ELM_VERSION': OBDCommand('ELM_VERSION', 'ELM327 version string', b'ATI', 0, raw_string, ecu=1, fast=False),\n",
       " 'ELM_VOLTAGE': OBDCommand('ELM_VOLTAGE', 'Voltage detected by OBD-II adapter', b'ATRV', 0, raw_string, ecu=1, fast=False)}"
      ]
     },
     "execution_count": 62,
     "metadata": {},
     "output_type": "execute_result"
    }
   ],
   "source": [
    "obd.commands.__dict__"
   ]
  },
  {
   "cell_type": "code",
   "execution_count": null,
   "id": "d3e926e9",
   "metadata": {},
   "outputs": [],
   "source": []
  }
 ],
 "metadata": {
  "kernelspec": {
   "display_name": "Python 3",
   "language": "python",
   "name": "python3"
  },
  "language_info": {
   "codemirror_mode": {
    "name": "ipython",
    "version": 3
   },
   "file_extension": ".py",
   "mimetype": "text/x-python",
   "name": "python",
   "nbconvert_exporter": "python",
   "pygments_lexer": "ipython3",
   "version": "3.11.1"
  },
  "vscode": {
   "interpreter": {
    "hash": "e3cfe3a21222b2dafce23789c0e89973554c0b13d26bfd1ad5d440a2a859c78b"
   }
  }
 },
 "nbformat": 4,
 "nbformat_minor": 5
}
