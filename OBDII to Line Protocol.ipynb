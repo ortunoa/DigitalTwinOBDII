{
 "cells": [
  {
   "cell_type": "code",
   "execution_count": 2,
   "id": "37430167",
   "metadata": {},
   "outputs": [],
   "source": [
    "import json"
   ]
  },
  {
   "cell_type": "code",
   "execution_count": 3,
   "id": "f48277f4",
   "metadata": {},
   "outputs": [],
   "source": [
    "with open(\"config.json\", 'r') as f:\n",
    "    # Load the contents of the file as a dictionary..\n",
    "    programConfig = json.load(f)"
   ]
  },
  {
   "cell_type": "code",
   "execution_count": 11,
   "id": "913040af",
   "metadata": {},
   "outputs": [],
   "source": [
    "k = 0\n",
    "measurement = \"Telemetry\"\n",
    "make = programConfig['VehicleTags'][k]['Make']\n",
    "model = programConfig['VehicleTags'][k]['Model']\n",
    "year = programConfig['VehicleTags'][k]['Year']"
   ]
  },
  {
   "cell_type": "code",
   "execution_count": 20,
   "id": "715264a7",
   "metadata": {},
   "outputs": [],
   "source": [
    "data = [{'Tag':'RPM', 'Value':1200}, {'Tag':'PercentLoad','Value':60}, {'Tag':'EngineOilPres','Value':100}]"
   ]
  },
  {
   "cell_type": "code",
   "execution_count": 21,
   "id": "c9abe96d",
   "metadata": {},
   "outputs": [
    {
     "name": "stdout",
     "output_type": "stream",
     "text": [
      "RPM=1200,PercentLoad=60,EngineOilPres=100\n"
     ]
    }
   ],
   "source": [
    "s = \"\"\n",
    "\n",
    "for d in data:\n",
    "    s+= \"{}={},\".format(d['Tag'],d['Value'])\n",
    "    \n",
    "s = s[:-1]\n",
    "\n",
    "print(s)"
   ]
  },
  {
   "cell_type": "code",
   "execution_count": 15,
   "id": "9c8cc552",
   "metadata": {},
   "outputs": [
    {
     "data": {
      "text/plain": [
       "{'Tag': 'RPM', 'Value': 1200}"
      ]
     },
     "execution_count": 15,
     "metadata": {},
     "output_type": "execute_result"
    }
   ],
   "source": [
    "'{},Make={},Model={},Year={} {} {}'"
   ]
  },
  {
   "cell_type": "code",
   "execution_count": null,
   "id": "db442e22",
   "metadata": {},
   "outputs": [],
   "source": []
  }
 ],
 "metadata": {
  "kernelspec": {
   "display_name": "Python 3 (ipykernel)",
   "language": "python",
   "name": "python3"
  },
  "language_info": {
   "codemirror_mode": {
    "name": "ipython",
    "version": 3
   },
   "file_extension": ".py",
   "mimetype": "text/x-python",
   "name": "python",
   "nbconvert_exporter": "python",
   "pygments_lexer": "ipython3",
   "version": "3.11.1"
  }
 },
 "nbformat": 4,
 "nbformat_minor": 5
}
