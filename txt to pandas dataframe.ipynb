{
 "cells": [
  {
   "cell_type": "code",
   "execution_count": null,
   "id": "5c7f45e2",
   "metadata": {},
   "outputs": [],
   "source": [
    "import os\n",
    "import json\n",
    "import matplotlib.pyplot as plt\n",
    "import pandas as pd\n",
    "import datetime\n",
    "import warnings\n",
    "warnings.filterwarnings('ignore')"
   ]
  },
  {
   "cell_type": "code",
   "execution_count": null,
   "id": "d5543a35",
   "metadata": {},
   "outputs": [],
   "source": [
    "def avgTimestamp(timestampList):\n",
    "    return int(sum(timestampList) / len(timestampList))"
   ]
  },
  {
   "cell_type": "code",
   "execution_count": null,
   "id": "d0c746ab",
   "metadata": {},
   "outputs": [],
   "source": [
    "path = r\"C:\\Users\\ortun\\OneDrive\\PURDUE\\CLASSES\\ECE695\\PROJECT\\CODE\\DATA\\VW Tiguan 2021\"\n",
    "files = os.listdir(path)"
   ]
  },
  {
   "cell_type": "code",
   "execution_count": null,
   "id": "226b197b",
   "metadata": {},
   "outputs": [],
   "source": [
    "i = 1\n",
    "\n",
    "files[i]"
   ]
  },
  {
   "cell_type": "code",
   "execution_count": null,
   "id": "7d6d9ef3",
   "metadata": {},
   "outputs": [],
   "source": [
    "with open(path + '\\{}'.format(files[i]), 'r') as myFile:\n",
    "    dataList = myFile.read().split('\\n')"
   ]
  },
  {
   "cell_type": "code",
   "execution_count": null,
   "id": "71f0f0e7",
   "metadata": {},
   "outputs": [],
   "source": [
    "dataStr = dataList[1]\n",
    "len(dataList)"
   ]
  },
  {
   "cell_type": "code",
   "execution_count": null,
   "id": "d9ea59c3",
   "metadata": {},
   "outputs": [],
   "source": [
    "dataDict = json.loads(dataStr.replace(\"'\", \"\\\"\"))"
   ]
  },
  {
   "cell_type": "code",
   "execution_count": null,
   "id": "9075926d",
   "metadata": {},
   "outputs": [],
   "source": [
    "dfo = pd.DataFrame.from_dict(dataDict['ObdData'])[['Timestamp','ChannelName','Value']]"
   ]
  },
  {
   "cell_type": "code",
   "execution_count": null,
   "id": "8bceef0c",
   "metadata": {},
   "outputs": [],
   "source": [
    "datetime.datetime.fromtimestamp(dfo.iloc[0]['Timestamp'])"
   ]
  },
  {
   "cell_type": "code",
   "execution_count": null,
   "id": "1740eef7",
   "metadata": {},
   "outputs": [],
   "source": [
    "dfo = pd.DataFrame.from_dict(dataDict['ObdData'])[['Timestamp','ChannelName','Value']]\n",
    "dfo['Timestamp'] = dfo['Timestamp'].apply(lambda x:int(str(x).split('.')[0]))\n",
    "dfo['Timestamp'] = dfo['Timestamp'].iloc[-1]\n",
    "dfo = dfo.pivot(index='Timestamp',columns='ChannelName',values='Value')\n",
    "\n",
    "dfg = pd.DataFrame(dataDict['GyroscopeData'], index=[0])\n",
    "\n",
    "for c in dfg.columns:\n",
    "    dfo[c] = dfg[c].iloc[0]"
   ]
  },
  {
   "cell_type": "code",
   "execution_count": null,
   "id": "5c35000c",
   "metadata": {},
   "outputs": [],
   "source": [
    "df = pd.DataFrame()\n",
    "i = 0\n",
    "for dataStr in dataList:\n",
    "    try:\n",
    "        dataDict = json.loads(dataStr.replace(\"'\", \"\\\"\"))\n",
    "        dfo = pd.DataFrame.from_dict(dataDict['ObdData'])[['Timestamp','ChannelName','Value']]\n",
    "#         dfo['Timestamp'] = dfo['Timestamp'].apply(lambda x:int(str(x).split('.')[0]))\n",
    "#         dfo['Timestamp'] = dfo['Timestamp'].iloc[-1]\n",
    "        dfo['DateTime'] = dfo['Timestamp'].apply(lambda x:datetime.datetime.fromtimestamp(x))\n",
    "        dfo = dfo.pivot(index='Timestamp',columns='ChannelName',values='Value')\n",
    "        dfg = pd.DataFrame(dataDict['GyroscopeData'], index=[0])\n",
    "        for c in dfg.columns:\n",
    "            dfo[c] = dfg[c].iloc[0]\n",
    "#         print(dfo.shape)\n",
    "        dfo.reset_index(inplace=True)\n",
    "        df = df.append(dfo)\n",
    "        i+=1\n",
    "#         print(i)\n",
    "    except Exception as e:\n",
    "        i+=1\n",
    "        print('Failed with: {}'.format(i))\n",
    "        print(e)\n"
   ]
  },
  {
   "cell_type": "code",
   "execution_count": null,
   "id": "f494d518",
   "metadata": {},
   "outputs": [],
   "source": [
    "df = df.groupby(['Timestamp']).mean().ffill()\n",
    "df.reset_index(inplace=True)"
   ]
  },
  {
   "cell_type": "code",
   "execution_count": null,
   "id": "89c743cb",
   "metadata": {},
   "outputs": [],
   "source": [
    "df['Datetime'] = df['Timestamp'].apply(lambda x:datetime.datetime.fromtimestamp(x))"
   ]
  },
  {
   "cell_type": "code",
   "execution_count": null,
   "id": "b4aa7bf3",
   "metadata": {},
   "outputs": [],
   "source": [
    "df.set_index('Datetime', inplace=True)"
   ]
  },
  {
   "cell_type": "code",
   "execution_count": null,
   "id": "233f57b5",
   "metadata": {},
   "outputs": [],
   "source": [
    "df = df.resample('1S').mean()\n",
    "df.ffill(inplace=True)\n",
    "df.dropna(inplace=True)"
   ]
  },
  {
   "cell_type": "code",
   "execution_count": null,
   "id": "e8c7e9fa",
   "metadata": {},
   "outputs": [],
   "source": [
    "# axis = 'Az'\n",
    "\n",
    "# df_final.reset_index()[axis].plot(label=axis)\n",
    "\n",
    "# plt.axhline(df_final[axis].mean(), color='red', linestyle='--', label='{}'.format(round(df_final[axis].mean(),2)))\n",
    "\n",
    "# plt.legend()\n",
    "# plt.xlim(0,500)"
   ]
  },
  {
   "cell_type": "code",
   "execution_count": null,
   "id": "2e5d98bc",
   "metadata": {},
   "outputs": [],
   "source": [
    "s = \"\"\n",
    "j = 0\n",
    "for d in dataDict['ObdData']:\n",
    "    s+= \"{}={},\".format(d['ChannelName'],d['Value'])\n",
    "    j+=1\n",
    "    print(j)\n",
    "    \n",
    "s = s[:-1]\n",
    "s"
   ]
  },
  {
   "cell_type": "code",
   "execution_count": null,
   "id": "d96c49cf",
   "metadata": {},
   "outputs": [],
   "source": [
    "s = ''\n",
    "for k in list(dataDict.keys()):\n",
    "    if k == 'ObdData':\n",
    "        for d in dataDict[k]:\n",
    "            s+= \"{}={},\".format(d['ChannelName'],d['Value'])\n",
    "    elif k == 'GyroscopeData':\n",
    "        for gk in list(dataDict[k]):\n",
    "            s+= \"{}={}\".format(gk, dataDict[k][gk])\n",
    "            \n",
    "ts = avgTimestamp([j['Timestamp'] for j in dataDict['ObdData']])\n",
    "\n",
    "s += ' {}'.format(ts)\n",
    "\n",
    "print(s)"
   ]
  },
  {
   "cell_type": "code",
   "execution_count": null,
   "id": "6c33e167",
   "metadata": {},
   "outputs": [],
   "source": []
  },
  {
   "cell_type": "code",
   "execution_count": null,
   "id": "a67f7fab",
   "metadata": {},
   "outputs": [],
   "source": []
  },
  {
   "cell_type": "code",
   "execution_count": null,
   "id": "6eff652b",
   "metadata": {},
   "outputs": [],
   "source": [
    "for d in dataDict['GyroscopeData']:\n",
    "    s+= \"{}={},\".format(d['ChannelName'],d['Value'])\n",
    "    j+=1\n",
    "    print(j)"
   ]
  },
  {
   "cell_type": "code",
   "execution_count": null,
   "id": "8629f2ee",
   "metadata": {},
   "outputs": [],
   "source": []
  },
  {
   "cell_type": "code",
   "execution_count": null,
   "id": "1913e4a0",
   "metadata": {},
   "outputs": [],
   "source": [
    "avgTimestamp([j['Timestamp'] for j in dataDict['ObdData']])"
   ]
  },
  {
   "cell_type": "code",
   "execution_count": null,
   "id": "353bfe1d",
   "metadata": {},
   "outputs": [],
   "source": [
    "s"
   ]
  },
  {
   "cell_type": "code",
   "execution_count": null,
   "id": "31aed17a",
   "metadata": {},
   "outputs": [],
   "source": [
    "dataDict['GyroscopeData'][gk[0]]"
   ]
  },
  {
   "cell_type": "code",
   "execution_count": null,
   "id": "ad8f7038",
   "metadata": {},
   "outputs": [],
   "source": []
  }
 ],
 "metadata": {
  "kernelspec": {
   "display_name": "Python 3 (ipykernel)",
   "language": "python",
   "name": "python3"
  },
  "language_info": {
   "codemirror_mode": {
    "name": "ipython",
    "version": 3
   },
   "file_extension": ".py",
   "mimetype": "text/x-python",
   "name": "python",
   "nbconvert_exporter": "python",
   "pygments_lexer": "ipython3",
   "version": "3.11.1"
  }
 },
 "nbformat": 4,
 "nbformat_minor": 5
}
