{
 "cells": [
  {
   "cell_type": "code",
   "execution_count": 1,
   "id": "38a89320",
   "metadata": {},
   "outputs": [],
   "source": [
    "from Utilities.InfluxToolkit import queryInflux, plotCorrelationMatrix, trainModel"
   ]
  },
  {
   "cell_type": "code",
   "execution_count": 2,
   "id": "91135788",
   "metadata": {},
   "outputs": [],
   "source": [
    "startDate = '2023-01-01'\n",
    "endDate = '2023-04-01'\n",
    "vehicle_id = \"1\"\n",
    "tags = ['EngineLoad','AirFlowRate','RPM', 'Speed', 'ThrottlePosition','Ay']"
   ]
  },
  {
   "cell_type": "code",
   "execution_count": 3,
   "id": "e5974b47",
   "metadata": {},
   "outputs": [],
   "source": [
    "df = queryInflux(startDate, endDate, vehicle_id, tags)"
   ]
  },
  {
   "cell_type": "code",
   "execution_count": 6,
   "id": "f107fc45",
   "metadata": {},
   "outputs": [],
   "source": [
    "# plotCorrelationMatrix(df)"
   ]
  },
  {
   "cell_type": "code",
   "execution_count": 5,
   "id": "2f22516a",
   "metadata": {},
   "outputs": [],
   "source": [
    "model = trainModel(df)"
   ]
  },
  {
   "cell_type": "code",
   "execution_count": 7,
   "id": "a426dbdc",
   "metadata": {},
   "outputs": [
    {
     "data": {
      "text/plain": [
       "{'Scores': {'MSE': 122.14854918274942, 'R2': 0.7769532484410863},\n",
       " 'Intercept': 21.377002433092514,\n",
       " 'Coefficients': {'AirFlowRate': 1.3643088094832898,\n",
       "  'Ay': 70.41295707664509,\n",
       "  'RPM': -0.009270459295920198,\n",
       "  'Speed': 0.04201624621959545,\n",
       "  'ThrottlePosition': 0.7568494164053542}}"
      ]
     },
     "execution_count": 7,
     "metadata": {},
     "output_type": "execute_result"
    }
   ],
   "source": [
    "model"
   ]
  },
  {
   "cell_type": "code",
   "execution_count": null,
   "id": "643f04e8",
   "metadata": {},
   "outputs": [],
   "source": []
  }
 ],
 "metadata": {
  "kernelspec": {
   "display_name": "Python 3 (ipykernel)",
   "language": "python",
   "name": "python3"
  },
  "language_info": {
   "codemirror_mode": {
    "name": "ipython",
    "version": 3
   },
   "file_extension": ".py",
   "mimetype": "text/x-python",
   "name": "python",
   "nbconvert_exporter": "python",
   "pygments_lexer": "ipython3",
   "version": "3.11.1"
  }
 },
 "nbformat": 4,
 "nbformat_minor": 5
}
