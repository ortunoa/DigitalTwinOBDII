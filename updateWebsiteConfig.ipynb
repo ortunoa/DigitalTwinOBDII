{
 "cells": [
  {
   "cell_type": "code",
   "execution_count": 16,
   "id": "98351d02",
   "metadata": {},
   "outputs": [],
   "source": [
    "import firebase_admin\n",
    "from firebase_admin import credentials\n",
    "from firebase_admin import db\n",
    "import json \n",
    "\n",
    "vehicle_id = '1'\n",
    "website_config_path = r\"C:\\Users\\ortun\\OneDrive\\PURDUE\\CLASSES\\ECE695\\PROJECT\\CODE\\digitalTwinFrontEnd\\vehicle-telematics-dashboard\\src\\config.json\""
   ]
  },
  {
   "cell_type": "code",
   "execution_count": null,
   "id": "80e681f8",
   "metadata": {},
   "outputs": [],
   "source": [
    "cred = credentials.Certificate(\"digitaltwinobdii-firebase-adminsdk-dob8j-cbf5404441.json\")\n",
    "firebase_admin.initialize_app(cred, {\n",
    "    'databaseURL': 'https://digitaltwinobdii-default-rtdb.firebaseio.com/'\n",
    "})"
   ]
  },
  {
   "cell_type": "code",
   "execution_count": 17,
   "id": "dc2b6398",
   "metadata": {},
   "outputs": [],
   "source": [
    "def get_latest_model_with_highest_r2(vehicle_id):\n",
    "    ref = db.reference('digitalTwinModels')\n",
    "    query = ref.order_by_child('Identifiers/Id').equal_to(vehicle_id)\n",
    "    result = query.get()\n",
    "\n",
    "    if result:\n",
    "        latest_model_key, latest_model_data = max(result.items(), key=lambda x: (x[1]['DateTime'], x[1]['Scores']['R2']))\n",
    "#         print(f\"Latest model with the highest R2 score for vehicle ID '{vehicle_id}':\\n{latest_model_data}\")\n",
    "        return latest_model_data\n",
    "    else:\n",
    "#         print(f\"No model found for vehicle ID '{vehicle_id}'\")\n",
    "        return None\n",
    "    \n",
    "\n",
    "model = get_latest_model_with_highest_r2(vehicle_id)"
   ]
  },
  {
   "cell_type": "code",
   "execution_count": 18,
   "id": "fbd1a425",
   "metadata": {},
   "outputs": [],
   "source": [
    "with open(website_config_path, 'r') as f:\n",
    "    data = json.load(f)"
   ]
  },
  {
   "cell_type": "code",
   "execution_count": 19,
   "id": "52fcd18b",
   "metadata": {},
   "outputs": [],
   "source": [
    "data['model'] = {k + '_Coef': v for k, v in model['Coefficients'].items()}"
   ]
  },
  {
   "cell_type": "code",
   "execution_count": 20,
   "id": "2db2092e",
   "metadata": {},
   "outputs": [],
   "source": [
    "with open(website_config_path, 'w') as f:\n",
    "    json.dump(data, f, indent=4)"
   ]
  },
  {
   "cell_type": "code",
   "execution_count": null,
   "id": "7dd5e8cc",
   "metadata": {},
   "outputs": [],
   "source": []
  }
 ],
 "metadata": {
  "kernelspec": {
   "display_name": "Python 3 (ipykernel)",
   "language": "python",
   "name": "python3"
  },
  "language_info": {
   "codemirror_mode": {
    "name": "ipython",
    "version": 3
   },
   "file_extension": ".py",
   "mimetype": "text/x-python",
   "name": "python",
   "nbconvert_exporter": "python",
   "pygments_lexer": "ipython3",
   "version": "3.11.1"
  }
 },
 "nbformat": 4,
 "nbformat_minor": 5
}
