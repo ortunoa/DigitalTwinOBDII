{
 "cells": [
  {
   "cell_type": "code",
   "execution_count": 1,
   "id": "c15436df",
   "metadata": {},
   "outputs": [],
   "source": [
    "import os\n",
    "import json\n",
    "import pandas as pd\n",
    "import warnings\n",
    "warnings.filterwarnings('ignore')"
   ]
  },
  {
   "cell_type": "code",
   "execution_count": 2,
   "id": "0a855f24",
   "metadata": {},
   "outputs": [],
   "source": [
    "PATH = r'C:\\Users\\ortun\\OneDrive - purdue.edu\\ECE695 Project\\RESOURCES\\Data\\VW Tiguan 2021'"
   ]
  },
  {
   "cell_type": "code",
   "execution_count": 3,
   "id": "58cf6454",
   "metadata": {},
   "outputs": [],
   "source": [
    "files = os.listdir(PATH)\n",
    "k = 7"
   ]
  },
  {
   "cell_type": "code",
   "execution_count": 4,
   "id": "4dd0a0bd",
   "metadata": {},
   "outputs": [],
   "source": [
    "data = open(PATH+\"\\{}\".format(files[k]), 'r', encoding='utf-8').read().replace(\"'\", \"\\\"\")\n",
    "datalist = data.split('\\n')"
   ]
  },
  {
   "cell_type": "code",
   "execution_count": 5,
   "id": "f325f3e5",
   "metadata": {},
   "outputs": [],
   "source": [
    "di = json.loads(data.split('\\n')[2])"
   ]
  },
  {
   "cell_type": "code",
   "execution_count": 6,
   "id": "aa7bba79",
   "metadata": {},
   "outputs": [],
   "source": [
    "dfi = pd.DataFrame(di['ObdData'])[[\"Timestamp\",\"ChannelName\",\"Value\"]].pivot(index='Timestamp', columns='ChannelName', values='Value')"
   ]
  },
  {
   "cell_type": "code",
   "execution_count": null,
   "id": "da7a2b22",
   "metadata": {},
   "outputs": [],
   "source": [
    "dfi.index = pd.to_datetime(dfi.index, unit='s')"
   ]
  },
  {
   "cell_type": "code",
   "execution_count": null,
   "id": "e963fa3f",
   "metadata": {},
   "outputs": [],
   "source": [
    "dfi"
   ]
  },
  {
   "cell_type": "code",
   "execution_count": null,
   "id": "c16ead7a",
   "metadata": {},
   "outputs": [],
   "source": [
    "df_final = pd.DataFrame()\n",
    "for k in range(len(datalist)):\n",
    "    try:\n",
    "        di = json.loads(datalist[k])\n",
    "        dfi = pd.DataFrame(di['ObdData'])[[\"Timestamp\",\"ChannelName\",\"Value\"]].pivot(index='Timestamp', columns='ChannelName', values='Value')\n",
    "        dfi.index=pd.to_datetime(dfi.index, unit='s')\n",
    "        dfi = dfi.resample(\"1S\").mean()\n",
    "        dfg = pd.DataFrame.from_dict(di['GyroscopeData'], orient='index').T\n",
    "        dfi = pd.concat([dfi, dfg], axis=1, ignore_index=False)\n",
    "        df_final = df_final.append(dfi)\n",
    "    except:\n",
    "        pass"
   ]
  },
  {
   "cell_type": "code",
   "execution_count": null,
   "id": "ecbe6cb2",
   "metadata": {},
   "outputs": [],
   "source": [
    "df_final"
   ]
  },
  {
   "cell_type": "code",
   "execution_count": null,
   "id": "de71bf8f",
   "metadata": {},
   "outputs": [],
   "source": [
    "df_final.combine_first()"
   ]
  },
  {
   "cell_type": "code",
   "execution_count": null,
   "id": "c46c5bf8",
   "metadata": {},
   "outputs": [],
   "source": []
  },
  {
   "cell_type": "code",
   "execution_count": null,
   "id": "3259eccc",
   "metadata": {},
   "outputs": [],
   "source": []
  }
 ],
 "metadata": {
  "kernelspec": {
   "display_name": "Python 3 (ipykernel)",
   "language": "python",
   "name": "python3"
  },
  "language_info": {
   "codemirror_mode": {
    "name": "ipython",
    "version": 3
   },
   "file_extension": ".py",
   "mimetype": "text/x-python",
   "name": "python",
   "nbconvert_exporter": "python",
   "pygments_lexer": "ipython3",
   "version": "3.11.1"
  }
 },
 "nbformat": 4,
 "nbformat_minor": 5
}
